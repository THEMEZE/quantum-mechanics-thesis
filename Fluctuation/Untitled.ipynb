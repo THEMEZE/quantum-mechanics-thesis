{
 "cells": [
  {
   "cell_type": "code",
   "execution_count": 1,
   "id": "f5e2b6d7-e888-4888-a3d2-4a6b594684d3",
   "metadata": {},
   "outputs": [
    {
     "name": "stderr",
     "output_type": "stream",
     "text": [
      "/var/folders/sc/1jlhfymx3sg5vz8q1fx87pvr0000gn/T/ipykernel_97427/839513856.py:50: DeprecationWarning: 'scipy.integrate.simps' is deprecated in favour of 'scipy.integrate.simpson' and will be removed in SciPy 1.14.0\n",
      "  return simps(integrand, theta_grid)\n"
     ]
    },
    {
     "data": {
      "text/plain": [
       "(array([0., 0., 0., 0., 0.]),\n",
       " array([0., 0., 0., 0., 0.]),\n",
       " array([ 2.31246660e-09, -1.35751369e-09, -1.68142960e-09,  1.52424894e-10,\n",
       "        -8.62624515e-09]),\n",
       " 1.516256042886594)"
      ]
     },
     "execution_count": 1,
     "metadata": {},
     "output_type": "execute_result"
    }
   ],
   "source": [
    "import numpy as np\n",
    "import matplotlib.pyplot as plt\n",
    "from scipy.integrate import simps\n",
    "from scipy.linalg import solve\n",
    "from numpy.random import default_rng\n",
    "\n",
    "rng = default_rng()\n",
    "\n",
    "# -- Parameters\n",
    "theta_min, theta_max, N_theta = -10, 10, 200\n",
    "theta_grid = np.linspace(theta_min, theta_max, N_theta)\n",
    "delta_theta = theta_grid[1] - theta_grid[0]\n",
    "\n",
    "# Fermi occupation function (example)\n",
    "def epsilon(theta): return theta**2 / 2.0  # Free fermions\n",
    "def n_fermi(theta): return 1.0 / (1.0 + np.exp(epsilon(theta)))\n",
    "n_theta = n_fermi(theta_grid)\n",
    "\n",
    "# 1. Monte Carlo sampling of Bethe roots\n",
    "def monte_carlo_sampling(n_theta, theta_grid, num_samples=1000):\n",
    "    samples = []\n",
    "    for _ in range(num_samples):\n",
    "        occupancy = rng.random(len(n_theta)) < n_theta\n",
    "        hist, _ = np.histogram(theta_grid[occupancy], bins=theta_grid)\n",
    "        samples.append(hist)\n",
    "    samples = np.array(samples)\n",
    "    mean_rho = np.mean(samples, axis=0)\n",
    "    var_rho = np.var(samples, axis=0)\n",
    "    return mean_rho, var_rho\n",
    "\n",
    "# 2. Langevin GHD (simplified diffusive model)\n",
    "def ghd_stochastic(theta_grid, n_theta, timesteps=100, dt=0.1):\n",
    "    rho = n_theta.copy()\n",
    "    D_theta = rho * (1 - n_theta) * (theta_grid**2)  # Toy diffusion term\n",
    "    history = [rho.copy()]\n",
    "    for _ in range(timesteps):\n",
    "        noise = rng.normal(0, 1, size=rho.shape) * np.sqrt(D_theta * dt / delta_theta)\n",
    "        rho += np.gradient(D_theta * np.gradient(rho, delta_theta), delta_theta) * dt + noise\n",
    "        history.append(rho.copy())\n",
    "    return np.array(history)\n",
    "\n",
    "# 3. Thermodynamic fluctuation matrix\n",
    "def dressed_function(f, n_theta, kernel):\n",
    "    A = np.eye(N_theta) - delta_theta * kernel * n_theta[None, :]\n",
    "    return solve(A, f)\n",
    "\n",
    "def compute_variance(f, n_theta, kernel):\n",
    "    f_dr = dressed_function(f, n_theta, kernel)\n",
    "    integrand = n_theta * (1 - n_theta) * f_dr**2\n",
    "    return simps(integrand, theta_grid)\n",
    "\n",
    "# Kernel (free fermions: zero kernel; interacting case can be added)\n",
    "kernel = np.zeros((N_theta, N_theta))  # For free fermions: φ = 0\n",
    "\n",
    "# Run all three methods\n",
    "mean_rho_mc, var_rho_mc = monte_carlo_sampling(n_theta, theta_grid)\n",
    "rho_stoch_history = ghd_stochastic(theta_grid, n_theta)\n",
    "f = theta_grid  # Linear function\n",
    "var_thermo = compute_variance(f, n_theta, kernel)\n",
    "\n",
    "# Output for plotting\n",
    "mean_rho_mc[:5], var_rho_mc[:5], rho_stoch_history[-1][:5], var_thermo\n"
   ]
  },
  {
   "cell_type": "code",
   "execution_count": null,
   "id": "73332ca8-458a-490d-91ee-361d7da2f341",
   "metadata": {},
   "outputs": [],
   "source": []
  }
 ],
 "metadata": {
  "kernelspec": {
   "display_name": "Python 3 (ipykernel)",
   "language": "python",
   "name": "python3"
  },
  "language_info": {
   "codemirror_mode": {
    "name": "ipython",
    "version": 3
   },
   "file_extension": ".py",
   "mimetype": "text/x-python",
   "name": "python",
   "nbconvert_exporter": "python",
   "pygments_lexer": "ipython3",
   "version": "3.12.2"
  }
 },
 "nbformat": 4,
 "nbformat_minor": 5
}
