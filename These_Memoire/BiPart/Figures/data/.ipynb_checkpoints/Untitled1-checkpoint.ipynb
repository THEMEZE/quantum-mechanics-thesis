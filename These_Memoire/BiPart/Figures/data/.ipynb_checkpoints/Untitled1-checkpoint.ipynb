{
 "cells": [
  {
   "cell_type": "code",
   "execution_count": null,
   "id": "2b4bf079-d99a-4ac8-9cf7-1a3dad5c886c",
   "metadata": {},
   "outputs": [],
   "source": [
    "# pour telecharder de la machine à mon ordinateur local\n",
    "import os\n",
    "\n",
    "def sync_files(user, host, password, remote_path, local_path=None):\n",
    "    if local_path is None:\n",
    "        local_path = os.getcwd()\n",
    "\n",
    "    # Détection : est-ce un fichier (on regarde si un nom de fichier semble être présent) ?\n",
    "    is_file = os.path.splitext(local_path)[1] != \"\"\n",
    "\n",
    "    if is_file:\n",
    "        # Cas fichier : on s'assure que le dossier contenant le fichier existe\n",
    "        local_dir = os.path.dirname(local_path)\n",
    "        if not os.path.exists(local_dir):\n",
    "            print(f\"📁 Création du dossier parent : {local_dir}\")\n",
    "            os.makedirs(local_dir)\n",
    "        command = f'sshpass -p \"{password}\" rsync -ah --progress -u \"{user}@{host}:{remote_path}\" \"{local_path}\"'\n",
    "    else:\n",
    "        # Cas dossier : on crée le dossier si nécessaire\n",
    "        if not os.path.exists(local_path):\n",
    "            print(f\"📁 Création du dossier : {local_path}\")\n",
    "            os.makedirs(local_path)\n",
    "        command = f'sshpass -p \"{password}\" rsync -ah --progress -u \"{user}@{host}:{remote_path}\" \"{local_path}\"'\n",
    "\n",
    "    print(f\"🚀 Exécution : {command}\")\n",
    "    !{command}\n"
   ]
  },
  {
   "cell_type": "code",
   "execution_count": null,
   "id": "6c2e3dc6-183a-46d1-bab1-7c77aa4ab935",
   "metadata": {},
   "outputs": [],
   "source": [
    "# Définition des informations communes\n",
    "PASSWORD=\"Cedt,ll?\"\n",
    "USER=\"isabelle.bouchoule\"\n",
    "HOST=\"10.117.49.59\""
   ]
  },
  {
   "cell_type": "code",
   "execution_count": null,
   "id": "85319fef-9b2f-4c9d-a5bf-7761265f8b0b",
   "metadata": {},
   "outputs": [],
   "source": [
    "remote_path =\"/home/isabelle.bouchoule/Puce/analysedata/analyses_jupyter/analyses_Guillaume/Bord\"\n",
    "local_path = \"/Volumes/BLEU 128/home/isabellebouchoule/Puce/analysedata/analyses_jupyter/analyses_Guillaume/\""
   ]
  },
  {
   "cell_type": "code",
   "execution_count": null,
   "id": "d3caa7e3-890a-4d12-855c-8d66f6c454cb",
   "metadata": {},
   "outputs": [],
   "source": [
    "remote_path =\"/home/isabelle.bouchoule/Puce/analysedata/analyses_jupyter/analyses_Guillaume/Bord/2025-01-27\"\n",
    "local_path = \"/Volumes/BLEU 128/home/isabellebouchoule/Puce/analysedata/analyses_jupyter/analyses_Guillaume/Bord/\""
   ]
  },
  {
   "cell_type": "code",
   "execution_count": null,
   "id": "038887ca-e63c-4c1f-a758-795fcb987a11",
   "metadata": {},
   "outputs": [],
   "source": [
    "sync_files(USER, HOST, PASSWORD, remote_path, local_path  )"
   ]
  },
  {
   "cell_type": "code",
   "execution_count": null,
   "id": "b6b6cfce-10e7-4eda-9614-28ae802fce6d",
   "metadata": {},
   "outputs": [],
   "source": []
  }
 ],
 "metadata": {
  "kernelspec": {
   "display_name": "Python 3 (ipykernel)",
   "language": "python",
   "name": "python3"
  },
  "language_info": {
   "codemirror_mode": {
    "name": "ipython",
    "version": 3
   },
   "file_extension": ".py",
   "mimetype": "text/x-python",
   "name": "python",
   "nbconvert_exporter": "python",
   "pygments_lexer": "ipython3",
   "version": "3.12.2"
  }
 },
 "nbformat": 4,
 "nbformat_minor": 5
}
