{
 "cells": [
  {
   "cell_type": "code",
   "execution_count": 3,
   "id": "298eaf53-ba67-4387-bf8c-07bac9a23775",
   "metadata": {},
   "outputs": [
    {
     "ename": "ModuleNotFoundError",
     "evalue": "No module named 'bpy'",
     "output_type": "error",
     "traceback": [
      "\u001b[31m---------------------------------------------------------------------------\u001b[39m",
      "\u001b[31mModuleNotFoundError\u001b[39m                       Traceback (most recent call last)",
      "\u001b[36mCell\u001b[39m\u001b[36m \u001b[39m\u001b[32mIn[3]\u001b[39m\u001b[32m, line 1\u001b[39m\n\u001b[32m----> \u001b[39m\u001b[32m1\u001b[39m \u001b[38;5;28;01mimport\u001b[39;00m\u001b[38;5;250m \u001b[39m\u001b[34;01mbpy\u001b[39;00m\n\u001b[32m      3\u001b[39m \u001b[38;5;66;03m# Supprime tout\u001b[39;00m\n\u001b[32m      4\u001b[39m bpy.ops.object.select_all(action=\u001b[33m'\u001b[39m\u001b[33mSELECT\u001b[39m\u001b[33m'\u001b[39m)\n",
      "\u001b[31mModuleNotFoundError\u001b[39m: No module named 'bpy'"
     ]
    }
   ],
   "source": [
    "import bpy\n",
    "\n",
    "# Supprime tout\n",
    "bpy.ops.object.select_all(action='SELECT')\n",
    "bpy.ops.object.delete(use_global=False)\n",
    "\n",
    "# Ajoute un cube\n",
    "bpy.ops.mesh.primitive_cube_add(size=1, location=(0, 0, 0))\n",
    "cube = bpy.context.active_object\n",
    "\n",
    "# Échelle pour créer un parallélépipède\n",
    "cube.scale = (2, 1, 3)\n",
    "\n",
    "# Déplace la caméra\n",
    "cam = bpy.data.objects['Camera']\n",
    "cam.location = (5, -5, 5)\n",
    "cam.rotation_euler = (1.1, 0, 0.9)\n"
   ]
  },
  {
   "cell_type": "code",
   "execution_count": null,
   "id": "66ae2dc8-2675-421f-ad18-48ffaec79637",
   "metadata": {},
   "outputs": [],
   "source": []
  }
 ],
 "metadata": {
  "kernelspec": {
   "display_name": "Python 3 (ipykernel)",
   "language": "python",
   "name": "python3"
  },
  "language_info": {
   "codemirror_mode": {
    "name": "ipython",
    "version": 3
   },
   "file_extension": ".py",
   "mimetype": "text/x-python",
   "name": "python",
   "nbconvert_exporter": "python",
   "pygments_lexer": "ipython3",
   "version": "3.12.2"
  }
 },
 "nbformat": 4,
 "nbformat_minor": 5
}
