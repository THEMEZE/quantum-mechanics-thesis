{
 "cells": [
  {
   "cell_type": "code",
   "execution_count": 1,
   "id": "9aa4e0b2",
   "metadata": {},
   "outputs": [
    {
     "name": "stdout",
     "output_type": "stream",
     "text": [
      "----------------------------On expimes les énergien en Kelvin ----------------------------\n",
      "1 \\mu K <->   1.38 e-23 J <->  21.0 GHz\n",
      "------------------------------------------------------------------------------------------\n"
     ]
    }
   ],
   "source": [
    "import numpy as np\n",
    "import matplotlib.pyplot as plt\n",
    "\n",
    "\n",
    "kB = 1.38e-23  # J s = kg m² s-1 \n",
    "h = 6.626e-34/kB# K\n",
    "c = 299792458          # m/s\n",
    "e = 1.602176634e-19 # C = s I \n",
    "a0 = 0.529177249*1.0e-10 # m \n",
    "epsilon0 = 8.8541878128e-12 #m-3 kg-1 s4 A2 \n",
    "me = 9.109e-31 #kg \n",
    "print ( f\"{'On expimes les énergien en Kelvin ':-^90}\")\n",
    "print ('1 \\mu K <->  ' , np.round( kB*1.0e23 , 3 )  , 'e-23 J <-> ' , np.round(1/h*1e-9) , 'GHz')\n",
    "print ( f\"{'':-^90}\")"
   ]
  },
  {
   "cell_type": "markdown",
   "id": "f753cb8e",
   "metadata": {},
   "source": [
    "$$ \\Gamma ( \\omega )  = \\frac{ e^2 }{6 \\pi \\epsilon_0 m_e c^3 } \\omega^2 $$"
   ]
  },
  {
   "cell_type": "code",
   "execution_count": 2,
   "id": "4678f439",
   "metadata": {},
   "outputs": [],
   "source": [
    "Gamma = lambda omega  : e**2/(6 *np.pi * epsilon0 *me *c**3)*omega**2"
   ]
  },
  {
   "cell_type": "code",
   "execution_count": 3,
   "id": "851c2b2d",
   "metadata": {},
   "outputs": [
    {
     "name": "stdout",
     "output_type": "stream",
     "text": [
      "384.3493051282051\n"
     ]
    }
   ],
   "source": [
    "omega = lambda l : 2*np.pi * c/ l\n",
    "\n",
    "lambda_0 = 780e-9 #nm\n",
    "omega_0 = omega (lambda_0)\n",
    "Gamma_0 = Gamma ( omega_0 )\n",
    "Gamma_sc_max = 1 # s-1 \n",
    "U_dip_0_min = 1e-6 # K \n",
    "U_dip = U_dip_0_min/2\n",
    "print ( omega_0/(2* np.pi )*1.0e-12 ) "
   ]
  },
  {
   "cell_type": "markdown",
   "id": "90e0f562",
   "metadata": {},
   "source": [
    "## Hipothese transition à 2 niveau, sans structure fine , faible desacord"
   ]
  },
  {
   "cell_type": "markdown",
   "id": "f98aedc2",
   "metadata": {},
   "source": [
    "$$ \\vert  \\omega - \\omega_0 \\vert \\ll \\omega_0   \\Rightarrow \\hbar \\Gamma_{sc} = \\frac{\\Gamma( \\omega_0 )}{ \\omega - \\omega_0 }U_{dip} \\Rightarrow​ \\lambda  =  \\frac { 1 }{ \\frac{\\Gamma ( \\omega_0 )  }{\\Gamma_{sc} }\\frac{U_{dip}}{ h c } + \\frac{ 1 }{\\lambda_0}} \\leq  \\frac { 1 }{ \\frac{\\Gamma ( \\omega_0 )  }{\\Gamma_{sc , max } }\\frac{U_{dip , min }}{ h c } + \\frac{ 1 }{\\lambda_0}} = \\lambda_{max}$$\n",
    "$\\lambda_{max}$ est la longueur d'onde maximal pour les conditions :\n",
    "- le potentiel dipolaire  $U_{dip }$ soit superieur à $U_{dip , min }$\n",
    "- $\\Gamma_{sc}$ pour un $U_{dip }$ soi inferieur à $\\Gamma_{sc , max }$\n",
    "\n",
    "je note **lambda_max ( Gamma_sc_max , U_dip_min )**\n",
    "pour avoir le $\\lambda_{max}$ pour $\\Gamma_{sc}$ pour un $U_{dip , 0 }/2$ soi inferieur à $\\Gamma_{sc , max }$ on applique **lambda_max ( Gamma_sc_max , U_dip_0_min/2 )**"
   ]
  },
  {
   "cell_type": "code",
   "execution_count": 4,
   "id": "c8092ac1",
   "metadata": {},
   "outputs": [
    {
     "name": "stdout",
     "output_type": "stream",
     "text": [
      "0.13137789052108176\n",
      "0.1295075684303398\n",
      "lambda_max =  779.2284103416429  nm\n"
     ]
    }
   ],
   "source": [
    "\n",
    "Gamma_sc = lambda omega_L , U_dip : Gamma_0/ ( omega_L - omega_0 )*U_dip*2*np.pi/h \n",
    "print ( 1/Gamma_sc ( omega_0 + 2*np.pi * 100e9 , 1.0e-6))\n",
    "print ( 1/Gamma_sc ( omega(779.8*1.0e-9) , 1.0e-6))\n",
    "lambda_max = lambda Gamma_sc_max , U_dip  : 1./  ( Gamma ( omega ( lambda_0 ))/Gamma_sc_max * U_dip/(h*c) + 1/lambda_0 )\n",
    "lambda_max_exp = lambda_max ( Gamma_sc_max , U_dip_0_min/2 )\n",
    "print ('lambda_max = ' , lambda_max_exp*1e9   ,   ' nm')"
   ]
  },
  {
   "cell_type": "markdown",
   "id": "39a07d09",
   "metadata": {},
   "source": [
    "$$\\vert  \\omega - \\omega_0 \\vert \\ll \\omega_0   \\Rightarrow U_{dip , 0 } = \\frac{ 3 c^2 \\Gamma ( \\omega_0 )}{ w_0^2 \\omega_0^3 ( \\omega - \\omega_0 ) } P ( \\omega )  \\Rightarrow​ P( \\omega ) = \\frac{ w_0^2 \\omega_0^3 ( \\omega - \\omega_0 ) }{3 c^2 \\Gamma ( \\omega_0 ) }  U_{dip , 0 } \\geq  \\frac{ w_0^2 \\omega_0^3 ( \\omega - \\omega_0 ) }{3 c^2 \\Gamma ( \\omega_0 ) }  U_{dip , 0 , min  } = P_{min} ( \\omega )$$"
   ]
  },
  {
   "cell_type": "markdown",
   "id": "9692c385",
   "metadata": {},
   "source": [
    "$P_{min}( \\omega ) $ permet de savoir la puissance minimome du lasez de pulsation $\\omega $ pour pourduire le  potentiel dipolaire pic minimal $U_{dip, 0 , min }$\n",
    "\n",
    "$$ \\omega_{min} = \\omega (\\lambda_{max}) $$\n",
    "$$ P_{min } = P_{min}(\\omega_{min}) $$\n",
    "\n",
    "Il faut que la puissance du laser soit superieur à $P_{min}$ pour que la longueur d'onde du laser soit inferieur à $\\lambda_{max}$ ou que le puit dipolaire soit plus profond que $U_{dip, 0 , min }$\n",
    "\n"
   ]
  },
  {
   "cell_type": "code",
   "execution_count": 5,
   "id": "9b5728dd",
   "metadata": {},
   "outputs": [],
   "source": [
    "w_0 = 1e-6 * 300  # m waist\n",
    "Puissance = lambda  U_dip , omega_L : w_0**2 * omega_0**3 * ( omega_L   - omega_0) / ( 3 * c**2 * Gamma_0 ) * U_dip * kB "
   ]
  },
  {
   "cell_type": "code",
   "execution_count": 12,
   "id": "dd61ad07",
   "metadata": {},
   "outputs": [
    {
     "data": {
      "image/png": "[encoded data removed]",
      "text/plain": [
       "<Figure size 432x288 with 1 Axes>"
      ]
     },
     "metadata": {
      "needs_background": "light"
     },
     "output_type": "display_data"
    }
   ],
   "source": [
    "# Create an array of wavelengths\n",
    "Lambda_max = np.linspace(760e-9, lambda_max_exp, 100)\n",
    "\n",
    "# Calculate the power using your Puissance function and omega(Lambda_max)\n",
    "power = Puissance(U_dip_0_min*2, omega(Lambda_max)) * 1.0e3  # Convert to milliwatts\n",
    "\n",
    "# Define the error band as 60% of the power\n",
    "error_band = 0.7 * power\n",
    "\n",
    "# Plot the curve and error band\n",
    "plt.plot(Lambda_max * 1.0e9, power , label = '$P_{min}(\\lambda)$')\n",
    "plt.fill_between(Lambda_max * 1.0e9,  power + error_band ,power + 1000000*error_band , alpha=0.5 , label = '$ \\geq ( 1 + 0.7 ) *P_{min}(\\lambda)  $')\n",
    "\n",
    "#plt.plot( 772.5 ,  75 , 'o'  , label = 'DFB : $ \\lambda = 772.5 ~nm,~ P = 75 ~mW$  ')\n",
    "#plt.plot( 778.0 , 60 , 'o'  , label = 'DBR : $ \\lambda = 778.0 ~nm,~ P = 60 ~mW$  ')\n",
    "#plt.plot( 770.0 , 100 , 'o'  , label = 'DBR : $ \\lambda = 770.0 ~nm,~ P = 100 ~mW$  ')\n",
    "plt.plot( 770.0 , 32 , 'o'  , label = 'DFB : $ \\lambda = 770.0 ~nm,~ P = 32 ~mW$  ')\n",
    "\n",
    "# Label the axes\n",
    "plt.xlabel('$\\lambda$ (nm)')\n",
    "plt.ylabel('Puissance minimale (mW)')\n",
    "plt.ylim ( 0 , np.max(power)*1.1 ) \n",
    "\n",
    "plt.legend(loc='upper left')\n",
    "\n",
    "# Show the plot\n",
    "plt.show()"
   ]
  },
  {
   "cell_type": "code",
   "execution_count": 35,
   "id": "33c052f7",
   "metadata": {},
   "outputs": [
    {
     "name": "stderr",
     "output_type": "stream",
     "text": [
      "/var/folders/g3/pdvd0yjj2k14sp7l11h14wy00000gn/T/ipykernel_21258/2445980701.py:2: RuntimeWarning: invalid value encountered in sqrt\n",
      "  def f (x , l , t  ): return ( np.log ((x**2 - (8*h)**2*np.cos ( l / t *np.sqrt ( x**2 - (8*h)**2 )))/(x**2 - (8*h)**2)))\n"
     ]
    },
    {
     "data": {
      "text/plain": [
       "[<matplotlib.lines.Line2D at 0x7f87882bf520>]"
      ]
     },
     "execution_count": 35,
     "metadata": {},
     "output_type": "execute_result"
    },
    {
     "data": {
      "image/png": "[encoded data removed]",
      "text/plain": [
       "<Figure size 432x288 with 1 Axes>"
      ]
     },
     "metadata": {
      "needs_background": "light"
     },
     "output_type": "display_data"
    }
   ],
   "source": [
    "h = 0.0001 \n",
    "def f (x , l , t  ): return ( np.log ((x**2 - (8*h)**2*np.cos ( l / t *np.sqrt ( x**2 - (8*h)**2 )))/(x**2 - (8*h)**2)))\n",
    "x = np.arange(-1 , 1, 0.01)\n",
    "l = 1000 \n",
    "t = 0.001 \n",
    "plt.plot ( x , f (x , l , t  ))"
   ]
  },
  {
   "cell_type": "code",
   "execution_count": null,
   "id": "ae4dc081",
   "metadata": {},
   "outputs": [],
   "source": []
  }
 ],
 "metadata": {
  "kernelspec": {
   "display_name": "Python 3 (ipykernel)",
   "language": "python",
   "name": "python3"
  },
  "language_info": {
   "codemirror_mode": {
    "name": "ipython",
    "version": 3
   },
   "file_extension": ".py",
   "mimetype": "text/x-python",
   "name": "python",
   "nbconvert_exporter": "python",
   "pygments_lexer": "ipython3",
   "version": "3.9.7"
  }
 },
 "nbformat": 4,
 "nbformat_minor": 5
}
