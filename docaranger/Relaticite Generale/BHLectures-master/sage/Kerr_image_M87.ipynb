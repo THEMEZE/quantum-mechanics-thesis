{
 "cells": [
  {
   "cell_type": "markdown",
   "metadata": {},
   "source": [
    "# Critical curve of a Kerr black hole onto the EHT image of M87*\n",
    "\n",
    "This Jupyter/SageMath notebook is relative to the lectures\n",
    "[Geometry and physics of black holes](https://relativite.obspm.fr/blackholes/)."
   ]
  },
  {
   "cell_type": "code",
   "execution_count": 1,
   "metadata": {},
   "outputs": [
    {
     "data": {
      "text/plain": [
       "'SageMath version 9.3.beta8, Release Date: 2021-03-07'"
      ]
     },
     "execution_count": 1,
     "metadata": {},
     "output_type": "execute_result"
    }
   ],
   "source": [
    "version()"
   ]
  },
  {
   "cell_type": "code",
   "execution_count": 2,
   "metadata": {},
   "outputs": [],
   "source": [
    "%display latex"
   ]
  },
  {
   "cell_type": "code",
   "execution_count": 3,
   "metadata": {},
   "outputs": [],
   "source": [
    "import matplotlib.image as mpimg\n",
    "import matplotlib.pyplot as plt"
   ]
  },
  {
   "cell_type": "markdown",
   "metadata": {},
   "source": [
    "## Functions $\\ell_{\\rm c}(r_0)$ and $q_{\\rm c}(r_0)$ for critical null geodesics\n",
    "\n",
    "We use $m=1$ and denote $r_0$ simply by $r$."
   ]
  },
  {
   "cell_type": "code",
   "execution_count": 4,
   "metadata": {},
   "outputs": [],
   "source": [
    "a, r = var('a r') "
   ]
  },
  {
   "cell_type": "code",
   "execution_count": 5,
   "metadata": {},
   "outputs": [
    {
     "data": {
      "text/html": [
       "<html><script type=\"math/tex; mode=display\">\\newcommand{\\Bold}[1]{\\mathbf{#1}}\\left( a, r \\right) \\ {\\mapsto} \\ -\\frac{a^{2} {\\left(r + 1\\right)} + {\\left(r - 3\\right)} r^{2}}{a {\\left(r - 1\\right)}}</script></html>"
      ],
      "text/latex": [
       "\\begin{math}\n",
       "\\newcommand{\\Bold}[1]{\\mathbf{#1}}\\left( a, r \\right) \\ {\\mapsto} \\ -\\frac{a^{2} {\\left(r + 1\\right)} + {\\left(r - 3\\right)} r^{2}}{a {\\left(r - 1\\right)}}\n",
       "\\end{math}"
      ],
      "text/plain": [
       "(a, r) |--> -(a^2*(r + 1) + (r - 3)*r^2)/(a*(r - 1))"
      ]
     },
     "execution_count": 5,
     "metadata": {},
     "output_type": "execute_result"
    }
   ],
   "source": [
    "lsph(a, r) = (r^2*(3 - r) - a^2*(r + 1))/(a*(r -1))\n",
    "lsph"
   ]
  },
  {
   "cell_type": "code",
   "execution_count": 6,
   "metadata": {},
   "outputs": [
    {
     "data": {
      "text/html": [
       "<html><script type=\"math/tex; mode=display\">\\newcommand{\\Bold}[1]{\\mathbf{#1}}\\left( a, r \\right) \\ {\\mapsto} \\ -\\frac{{\\left({\\left(r - 3\\right)}^{2} r - 4 \\, a^{2}\\right)} r^{3}}{a^{2} {\\left(r - 1\\right)}^{2}}</script></html>"
      ],
      "text/latex": [
       "\\begin{math}\n",
       "\\newcommand{\\Bold}[1]{\\mathbf{#1}}\\left( a, r \\right) \\ {\\mapsto} \\ -\\frac{{\\left({\\left(r - 3\\right)}^{2} r - 4 \\, a^{2}\\right)} r^{3}}{a^{2} {\\left(r - 1\\right)}^{2}}\n",
       "\\end{math}"
      ],
      "text/plain": [
       "(a, r) |--> -((r - 3)^2*r - 4*a^2)*r^3/(a^2*(r - 1)^2)"
      ]
     },
     "execution_count": 6,
     "metadata": {},
     "output_type": "execute_result"
    }
   ],
   "source": [
    "qsph(a, r) = r^3 / (a^2*(r - 1)^2) * (4*a^2 - r*(r - 3)^2)\n",
    "qsph"
   ]
  },
  {
   "cell_type": "markdown",
   "metadata": {},
   "source": [
    "The radii $r_+$ and $r_-$ of the two horizons:"
   ]
  },
  {
   "cell_type": "code",
   "execution_count": 7,
   "metadata": {},
   "outputs": [],
   "source": [
    "rp(a) = 1 + sqrt(1 - a^2)\n",
    "rm(a) = 1 - sqrt(1 - a^2)"
   ]
  },
  {
   "cell_type": "markdown",
   "metadata": {},
   "source": [
    "## Critical radii $r_{\\rm ph}^{**}$, $r_{\\rm ph}^*$, $r_{\\rm ph}^+$, $r_{\\rm ph}^-$, $r_{\\rm ph}^{\\rm ms}$ and $r_{\\rm ph}^{\\rm pol}$ "
   ]
  },
  {
   "cell_type": "code",
   "execution_count": 8,
   "metadata": {},
   "outputs": [
    {
     "data": {
      "text/html": [
       "<html><script type=\"math/tex; mode=display\">\\newcommand{\\Bold}[1]{\\mathbf{#1}}a \\ {\\mapsto}\\ \\cos\\left(\\frac{2}{3} \\, \\pi + \\frac{2}{3} \\, \\arcsin\\left(a\\right)\\right) + \\frac{1}{2}</script></html>"
      ],
      "text/latex": [
       "\\begin{math}\n",
       "\\newcommand{\\Bold}[1]{\\mathbf{#1}}a \\ {\\mapsto}\\ \\cos\\left(\\frac{2}{3} \\, \\pi + \\frac{2}{3} \\, \\arcsin\\left(a\\right)\\right) + \\frac{1}{2}\n",
       "\\end{math}"
      ],
      "text/plain": [
       "a |--> cos(2/3*pi + 2/3*arcsin(a)) + 1/2"
      ]
     },
     "execution_count": 8,
     "metadata": {},
     "output_type": "execute_result"
    }
   ],
   "source": [
    "rph_ss(a) = 1/2 + cos(2/3*asin(a) + 2*pi/3)\n",
    "rph_ss"
   ]
  },
  {
   "cell_type": "code",
   "execution_count": 9,
   "metadata": {},
   "outputs": [
    {
     "data": {
      "text/html": [
       "<html><script type=\"math/tex; mode=display\">\\newcommand{\\Bold}[1]{\\mathbf{#1}}a \\ {\\mapsto}\\ 4 \\, \\cos\\left(\\frac{4}{3} \\, \\pi + \\frac{1}{3} \\, \\arccos\\left(-a\\right)\\right)^{2}</script></html>"
      ],
      "text/latex": [
       "\\begin{math}\n",
       "\\newcommand{\\Bold}[1]{\\mathbf{#1}}a \\ {\\mapsto}\\ 4 \\, \\cos\\left(\\frac{4}{3} \\, \\pi + \\frac{1}{3} \\, \\arccos\\left(-a\\right)\\right)^{2}\n",
       "\\end{math}"
      ],
      "text/plain": [
       "a |--> 4*cos(4/3*pi + 1/3*arccos(-a))^2"
      ]
     },
     "execution_count": 9,
     "metadata": {},
     "output_type": "execute_result"
    }
   ],
   "source": [
    "rph_s(a) = 4*cos(acos(-a)/3 + 4*pi/3)^2\n",
    "rph_s"
   ]
  },
  {
   "cell_type": "code",
   "execution_count": 10,
   "metadata": {},
   "outputs": [
    {
     "data": {
      "text/html": [
       "<html><script type=\"math/tex; mode=display\">\\newcommand{\\Bold}[1]{\\mathbf{#1}}a \\ {\\mapsto}\\ 4 \\, \\cos\\left(\\frac{1}{3} \\, \\arccos\\left(-a\\right)\\right)^{2}</script></html>"
      ],
      "text/latex": [
       "\\begin{math}\n",
       "\\newcommand{\\Bold}[1]{\\mathbf{#1}}a \\ {\\mapsto}\\ 4 \\, \\cos\\left(\\frac{1}{3} \\, \\arccos\\left(-a\\right)\\right)^{2}\n",
       "\\end{math}"
      ],
      "text/plain": [
       "a |--> 4*cos(1/3*arccos(-a))^2"
      ]
     },
     "execution_count": 10,
     "metadata": {},
     "output_type": "execute_result"
    }
   ],
   "source": [
    "rph_p(a) = 4*cos(acos(-a)/3)^2\n",
    "rph_p"
   ]
  },
  {
   "cell_type": "code",
   "execution_count": 11,
   "metadata": {},
   "outputs": [
    {
     "data": {
      "text/html": [
       "<html><script type=\"math/tex; mode=display\">\\newcommand{\\Bold}[1]{\\mathbf{#1}}a \\ {\\mapsto}\\ 4 \\, \\cos\\left(\\frac{1}{3} \\, \\arccos\\left(a\\right)\\right)^{2}</script></html>"
      ],
      "text/latex": [
       "\\begin{math}\n",
       "\\newcommand{\\Bold}[1]{\\mathbf{#1}}a \\ {\\mapsto}\\ 4 \\, \\cos\\left(\\frac{1}{3} \\, \\arccos\\left(a\\right)\\right)^{2}\n",
       "\\end{math}"
      ],
      "text/plain": [
       "a |--> 4*cos(1/3*arccos(a))^2"
      ]
     },
     "execution_count": 11,
     "metadata": {},
     "output_type": "execute_result"
    }
   ],
   "source": [
    "rph_m(a) = 4*cos(acos(a)/3)^2\n",
    "rph_m"
   ]
  },
  {
   "cell_type": "markdown",
   "metadata": {},
   "source": [
    "We add the radius of the marginally stable orbit:"
   ]
  },
  {
   "cell_type": "code",
   "execution_count": 12,
   "metadata": {},
   "outputs": [
    {
     "data": {
      "text/html": [
       "<html><script type=\"math/tex; mode=display\">\\newcommand{\\Bold}[1]{\\mathbf{#1}}a \\ {\\mapsto}\\ -{\\left(-a^{2} + 1\\right)}^{\\frac{1}{3}} + 1</script></html>"
      ],
      "text/latex": [
       "\\begin{math}\n",
       "\\newcommand{\\Bold}[1]{\\mathbf{#1}}a \\ {\\mapsto}\\ -{\\left(-a^{2} + 1\\right)}^{\\frac{1}{3}} + 1\n",
       "\\end{math}"
      ],
      "text/plain": [
       "a |--> -(-a^2 + 1)^(1/3) + 1"
      ]
     },
     "execution_count": 12,
     "metadata": {},
     "output_type": "execute_result"
    }
   ],
   "source": [
    "rph_ms(a) = 1 - (1 - a^2)^(1/3)\n",
    "rph_ms"
   ]
  },
  {
   "cell_type": "markdown",
   "metadata": {},
   "source": [
    "as well as the radius of outer and inner polar orbits:"
   ]
  },
  {
   "cell_type": "code",
   "execution_count": 13,
   "metadata": {},
   "outputs": [
    {
     "data": {
      "text/html": [
       "<html><script type=\"math/tex; mode=display\">\\newcommand{\\Bold}[1]{\\mathbf{#1}}a \\ {\\mapsto}\\ 2 \\, \\sqrt{-\\frac{1}{3} \\, a^{2} + 1} \\cos\\left(\\frac{1}{3} \\, \\arccos\\left(-\\frac{a^{2} - 1}{{\\left(-\\frac{1}{3} \\, a^{2} + 1\\right)}^{\\frac{3}{2}}}\\right)\\right) + 1</script></html>"
      ],
      "text/latex": [
       "\\begin{math}\n",
       "\\newcommand{\\Bold}[1]{\\mathbf{#1}}a \\ {\\mapsto}\\ 2 \\, \\sqrt{-\\frac{1}{3} \\, a^{2} + 1} \\cos\\left(\\frac{1}{3} \\, \\arccos\\left(-\\frac{a^{2} - 1}{{\\left(-\\frac{1}{3} \\, a^{2} + 1\\right)}^{\\frac{3}{2}}}\\right)\\right) + 1\n",
       "\\end{math}"
      ],
      "text/plain": [
       "a |--> 2*sqrt(-1/3*a^2 + 1)*cos(1/3*arccos(-(a^2 - 1)/(-1/3*a^2 + 1)^(3/2))) + 1"
      ]
     },
     "execution_count": 13,
     "metadata": {},
     "output_type": "execute_result"
    }
   ],
   "source": [
    "rph_pol(a) = 1 + 2*sqrt(1 - a^2/3)*cos(1/3*arccos((1 - a^2)/(1 - a^2/3)^(3/2)))\n",
    "rph_pol"
   ]
  },
  {
   "cell_type": "code",
   "execution_count": 14,
   "metadata": {},
   "outputs": [
    {
     "data": {
      "text/html": [
       "<html><script type=\"math/tex; mode=display\">\\newcommand{\\Bold}[1]{\\mathbf{#1}}a \\ {\\mapsto}\\ 2 \\, \\sqrt{-\\frac{1}{3} \\, a^{2} + 1} \\cos\\left(\\frac{2}{3} \\, \\pi + \\frac{1}{3} \\, \\arccos\\left(-\\frac{a^{2}}{{\\left(-\\frac{1}{3} \\, a^{2} + 1\\right)}^{\\frac{3}{2}}} + \\frac{1}{{\\left(-\\frac{1}{3} \\, a^{2} + 1\\right)}^{\\frac{3}{2}}}\\right)\\right) + 1</script></html>"
      ],
      "text/latex": [
       "\\begin{math}\n",
       "\\newcommand{\\Bold}[1]{\\mathbf{#1}}a \\ {\\mapsto}\\ 2 \\, \\sqrt{-\\frac{1}{3} \\, a^{2} + 1} \\cos\\left(\\frac{2}{3} \\, \\pi + \\frac{1}{3} \\, \\arccos\\left(-\\frac{a^{2}}{{\\left(-\\frac{1}{3} \\, a^{2} + 1\\right)}^{\\frac{3}{2}}} + \\frac{1}{{\\left(-\\frac{1}{3} \\, a^{2} + 1\\right)}^{\\frac{3}{2}}}\\right)\\right) + 1\n",
       "\\end{math}"
      ],
      "text/plain": [
       "a |--> 2*sqrt(-1/3*a^2 + 1)*cos(2/3*pi + 1/3*arccos(-a^2/(-1/3*a^2 + 1)^(3/2) + 1/(-1/3*a^2 + 1)^(3/2))) + 1"
      ]
     },
     "execution_count": 14,
     "metadata": {},
     "output_type": "execute_result"
    }
   ],
   "source": [
    "rph_pol_in(a) = 1 + 2*sqrt(1 - a^2/3)*cos(1/3*arccos((1 - a^2)/(1 - a^2/3)^(3/2)) + 2*pi/3)\n",
    "rph_pol_in"
   ]
  },
  {
   "cell_type": "code",
   "execution_count": 15,
   "metadata": {},
   "outputs": [
    {
     "data": {
      "text/html": [
       "<html><script type=\"math/tex; mode=display\">\\newcommand{\\Bold}[1]{\\mathbf{#1}}r_{\\rm ph}^{**} =  -0.477673658836338</script></html>"
      ],
      "text/latex": [
       "\\begin{math}\n",
       "\\newcommand{\\Bold}[1]{\\mathbf{#1}}r_{\\rm ph}^{**} =  -0.477673658836338\n",
       "\\end{math}"
      ],
      "text/plain": [
       "r_{\\rm ph}^{**} =  -0.477673658836338"
      ]
     },
     "metadata": {},
     "output_type": "display_data"
    },
    {
     "data": {
      "text/html": [
       "<html><script type=\"math/tex; mode=display\">\\newcommand{\\Bold}[1]{\\mathbf{#1}}r_{\\rm ph}^{\\rm ms} =  0.539741795874205</script></html>"
      ],
      "text/latex": [
       "\\begin{math}\n",
       "\\newcommand{\\Bold}[1]{\\mathbf{#1}}r_{\\rm ph}^{\\rm ms} =  0.539741795874205\n",
       "\\end{math}"
      ],
      "text/plain": [
       "r_{\\rm ph}^{\\rm ms} =  0.539741795874205"
      ]
     },
     "metadata": {},
     "output_type": "display_data"
    },
    {
     "data": {
      "text/html": [
       "<html><script type=\"math/tex; mode=display\">\\newcommand{\\Bold}[1]{\\mathbf{#1}}r_{\\rm ph}^{*} =  0.658372153864346</script></html>"
      ],
      "text/latex": [
       "\\begin{math}\n",
       "\\newcommand{\\Bold}[1]{\\mathbf{#1}}r_{\\rm ph}^{*} =  0.658372153864346\n",
       "\\end{math}"
      ],
      "text/plain": [
       "r_{\\rm ph}^{*} =  0.658372153864346"
      ]
     },
     "metadata": {},
     "output_type": "display_data"
    },
    {
     "data": {
      "text/html": [
       "<html><script type=\"math/tex; mode=display\">\\newcommand{\\Bold}[1]{\\mathbf{#1}}r_- =  0.687750100080080</script></html>"
      ],
      "text/latex": [
       "\\begin{math}\n",
       "\\newcommand{\\Bold}[1]{\\mathbf{#1}}r_- =  0.687750100080080\n",
       "\\end{math}"
      ],
      "text/plain": [
       "r_- =  0.687750100080080"
      ]
     },
     "metadata": {},
     "output_type": "display_data"
    },
    {
     "data": {
      "text/html": [
       "<html><script type=\"math/tex; mode=display\">\\newcommand{\\Bold}[1]{\\mathbf{#1}}r_+ =  1.31224989991992</script></html>"
      ],
      "text/latex": [
       "\\begin{math}\n",
       "\\newcommand{\\Bold}[1]{\\mathbf{#1}}r_+ =  1.31224989991992\n",
       "\\end{math}"
      ],
      "text/plain": [
       "r_+ =  1.31224989991992"
      ]
     },
     "metadata": {},
     "output_type": "display_data"
    },
    {
     "data": {
      "text/html": [
       "<html><script type=\"math/tex; mode=display\">\\newcommand{\\Bold}[1]{\\mathbf{#1}}r_{\\rm ph}^+ =  1.38628052846298</script></html>"
      ],
      "text/latex": [
       "\\begin{math}\n",
       "\\newcommand{\\Bold}[1]{\\mathbf{#1}}r_{\\rm ph}^+ =  1.38628052846298\n",
       "\\end{math}"
      ],
      "text/plain": [
       "r_{\\rm ph}^+ =  1.38628052846298"
      ]
     },
     "metadata": {},
     "output_type": "display_data"
    },
    {
     "data": {
      "text/html": [
       "<html><script type=\"math/tex; mode=display\">\\newcommand{\\Bold}[1]{\\mathbf{#1}}r_{\\rm ph}^- =  3.95534731767268</script></html>"
      ],
      "text/latex": [
       "\\begin{math}\n",
       "\\newcommand{\\Bold}[1]{\\mathbf{#1}}r_{\\rm ph}^- =  3.95534731767268\n",
       "\\end{math}"
      ],
      "text/plain": [
       "r_{\\rm ph}^- =  3.95534731767268"
      ]
     },
     "metadata": {},
     "output_type": "display_data"
    },
    {
     "data": {
      "text/html": [
       "<html><script type=\"math/tex; mode=display\">\\newcommand{\\Bold}[1]{\\mathbf{#1}}r_{\\rm ph}^{\\rm pol} =  2.49269429554008</script></html>"
      ],
      "text/latex": [
       "\\begin{math}\n",
       "\\newcommand{\\Bold}[1]{\\mathbf{#1}}r_{\\rm ph}^{\\rm pol} =  2.49269429554008\n",
       "\\end{math}"
      ],
      "text/plain": [
       "r_{\\rm ph}^{\\rm pol} =  2.49269429554008"
      ]
     },
     "metadata": {},
     "output_type": "display_data"
    },
    {
     "data": {
      "text/html": [
       "<html><script type=\"math/tex; mode=display\">\\newcommand{\\Bold}[1]{\\mathbf{#1}}r_{\\rm ph}^{\\rm pol,in} =  -0.399338575773941</script></html>"
      ],
      "text/latex": [
       "\\begin{math}\n",
       "\\newcommand{\\Bold}[1]{\\mathbf{#1}}r_{\\rm ph}^{\\rm pol,in} =  -0.399338575773941\n",
       "\\end{math}"
      ],
      "text/plain": [
       "r_{\\rm ph}^{\\rm pol,in} =  -0.399338575773941"
      ]
     },
     "metadata": {},
     "output_type": "display_data"
    }
   ],
   "source": [
    "a0 = 0.95\n",
    "# a0 = 1\n",
    "show(LatexExpr(r'r_{\\rm ph}^{**} = '), n(rph_ss(a0)))\n",
    "show(LatexExpr(r'r_{\\rm ph}^{\\rm ms} = '), n(rph_ms(a0)))\n",
    "show(LatexExpr(r'r_{\\rm ph}^{*} = '), n(rph_s(a0)))\n",
    "show(LatexExpr(r'r_- = '), n(rm(a0)))\n",
    "show(LatexExpr(r'r_+ = '), n(rp(a0)))\n",
    "show(LatexExpr(r'r_{\\rm ph}^+ = '), n(rph_p(a0)))\n",
    "show(LatexExpr(r'r_{\\rm ph}^- = '), n(rph_m(a0)))\n",
    "show(LatexExpr(r'r_{\\rm ph}^{\\rm pol} = '), n(rph_pol(a0)))\n",
    "show(LatexExpr(r'r_{\\rm ph}^{\\rm pol,in} = '), n(rph_pol_in(a0)))"
   ]
  },
  {
   "cell_type": "code",
   "execution_count": 16,
   "metadata": {},
   "outputs": [],
   "source": [
    "def alpha(a, th_obs, r0):\n",
    "    if a == 1:\n",
    "        ell = - r0^2 + 2*r0 + 1\n",
    "    else:\n",
    "        ell = lsph(a, r0)\n",
    "    return - ell / sin(th_obs)\n",
    "\n",
    "def Theta(a, th_obs, r0):\n",
    "    if a == 1:\n",
    "        ell = - r0^2 + 2*r0 + 1\n",
    "        q = r0^3 * (4 - r0)\n",
    "    else:\n",
    "        ell = lsph(a, r0)\n",
    "        q = qsph(a, r0)\n",
    "    return q + cos(th_obs)^2 * (a^2 - ell^2/sin(th_obs)^2)\n",
    "\n",
    "def beta(a, th_obs, r0, eps_theta=1):\n",
    "    return eps_theta * sqrt(Theta(a, th_obs, r0,))"
   ]
  },
  {
   "cell_type": "code",
   "execution_count": 17,
   "metadata": {},
   "outputs": [],
   "source": [
    "def r0_bounds(a, th_obs, outer=True):\n",
    "    r\"\"\"\n",
    "    Return `(r0_min, r0_max)`\n",
    "    \"\"\"\n",
    "    if outer:\n",
    "        r1 = n(rph_p(a))\n",
    "        r2 = n(rph_m(a))\n",
    "        r3 = rph_pol(a)\n",
    "    else:\n",
    "        r1 = n(rph_ss(a))\n",
    "        r2 = 0\n",
    "        r3 = rph_pol_in(a)\n",
    "    #\n",
    "    # Computation of rmin:\n",
    "    try:\n",
    "        if a == 1:\n",
    "            th_crit = n(asin(sqrt(3) - 1))\n",
    "            if n(th_obs) < th_crit or n(th_obs) > n(pi) - th_crit:\n",
    "                rmin = find_root(lambda r: Theta(a, th_obs, r), r1, r3)\n",
    "            else:\n",
    "                rmin = 1\n",
    "        else:\n",
    "            rmin = find_root(lambda r: Theta(a, th_obs, r), r1, r3)\n",
    "    except TypeError:  # special case th_obs = pi/2\n",
    "        rmin = r1    \n",
    "    #\n",
    "    # Computation of rmax:\n",
    "    try:\n",
    "        rmax = find_root(lambda r: Theta(a, th_obs, r), r3, r2)\n",
    "    except TypeError:  # special case th_obs = pi/2\n",
    "        rmax = r2    \n",
    "    #\n",
    "    return (rmin, rmax)"
   ]
  },
  {
   "cell_type": "code",
   "execution_count": 18,
   "metadata": {},
   "outputs": [],
   "source": [
    "def shadow_plot(a, th_obs, orientation=0, outer=True, color=None, number_colors=5, \n",
    "                range_col=None, thickness=2, linestyle='-', plot_points=200,\n",
    "                legend='automatic', legend_loc=(1.02, 0.36), fill=True, \n",
    "                fillcolor='grey', draw_NHEKline=True, \n",
    "                draw_spin=False, spin_arrow_length=7, spin_arrow_options=None,\n",
    "                frame=True, axes=True, axes_labels='automatic', gridlines=True):\n",
    "    if a==0:\n",
    "        # Case a = 0:\n",
    "        rs = 3*sqrt(3)\n",
    "        if color is None:\n",
    "            color = 'black'\n",
    "        if legend == 'automatic':\n",
    "            legend = None\n",
    "        g = parametric_plot((rs*cos(x), rs*sin(x)), (x, 0, 2*pi), \n",
    "                            color=color, thickness=thickness,\n",
    "                            linestyle=linestyle, legend_label=legend, \n",
    "                            fill=fill, fillcolor=fillcolor, frame=frame, \n",
    "                            axes=axes, gridlines=gridlines)\n",
    "    else:\n",
    "        # Case a != 0\n",
    "        rmin, rmax = r0_bounds(a, th_obs, outer=outer)\n",
    "        if rmin > 0:\n",
    "            rmin = 1.00000001*rmin\n",
    "            rmax = 0.99999999*rmax\n",
    "        else:\n",
    "            rmin = 0.9999999*rmin\n",
    "            rmax = 1.0000001*rmax\n",
    "        print(\"rmin : \", rmin, \"  rmax : \", rmax)\n",
    "        co = cos(orientation)\n",
    "        so = sin(orientation)\n",
    "        fa = lambda r: co*alpha(a, th_obs, r) - so*beta(a, th_obs, r)\n",
    "        fb = lambda r: so*alpha(a, th_obs, r) + co*beta(a, th_obs, r)\n",
    "        fam = lambda r: co*alpha(a, th_obs, r) - so*beta(a, th_obs, r, eps_theta=-1)\n",
    "        fbm = lambda r: so*alpha(a, th_obs, r) + co*beta(a, th_obs, r, eps_theta=-1)\n",
    "        if range_col is None:\n",
    "            range_col = r0_bounds(a, pi/2, outer=outer)\n",
    "        rmin_col, rmax_col = range_col \n",
    "        print(\"rmin_col : \", rmin_col, \"  rmax_col : \", rmax_col)\n",
    "        dr = (rmax_col - rmin_col) / number_colors\n",
    "        rm = rmin_col + int((rmin - rmin_col)/dr)*dr\n",
    "        r1s = rmin\n",
    "        r_ranges = []\n",
    "        while rm + dr < rmax:\n",
    "            col = hue((rm - rmin_col)/(rmax_col - rmin_col + 0.1))\n",
    "            r2s = rm + dr\n",
    "            r_ranges.append((r1s, r2s, col))\n",
    "            rm += dr\n",
    "            r1s = r2s\n",
    "        if color is None:\n",
    "            col = hue((rm - rmin_col)/(rmax_col - rmin_col + 0.1))\n",
    "        else:\n",
    "            col = color\n",
    "        r_ranges.append((r1s, rmax, col))\n",
    "        g = Graphics()\n",
    "        legend_label = None  # a priori\n",
    "        if a == 1 and draw_NHEKline:\n",
    "            th_crit = asin(sqrt(3) - 1)\n",
    "            if th_obs > th_crit and th_obs < pi - th_crit:\n",
    "                # NHEK line\n",
    "                alpha0 = -2/sin(th_obs)\n",
    "                beta0 = sqrt(3 - cos(th_obs)**2 *(6 + cos(th_obs)**2))/sin(th_obs)\n",
    "                alpha1 = co*alpha0 - so*beta0\n",
    "                beta1 = so*alpha0 + co*beta0\n",
    "                alpha2 = co*alpha0 + so*beta0\n",
    "                beta2 = so*alpha0 - co*beta0\n",
    "                if legend == 'automatic':\n",
    "                    legend_label = r\"$r_0 = m$\"\n",
    "                if color is None:\n",
    "                    colNHEK = 'maroon'\n",
    "                else:\n",
    "                    colNHEK = color\n",
    "                g += line([(alpha1, beta1), (alpha2, beta2)], color=colNHEK, \n",
    "                          thickness=thickness, linestyle=linestyle,\n",
    "                          legend_label=legend_label)\n",
    "                if fill:\n",
    "                    g += polygon2d([(fa(rmax), fb(rmax)), (alpha1, beta1), (alpha2, beta2)], \n",
    "                                   color=fillcolor, alpha=0.5)\n",
    "        for rg in r_ranges:\n",
    "            r1s, r2s = rg[0], rg[1]\n",
    "            col = rg[2]\n",
    "            if legend:\n",
    "                if legend == 'automatic':\n",
    "                    if draw_NHEKline and abs(r1s - 1) < 1e-5:\n",
    "                        legend_label = r\"${:.2f}\\, m < r_0 \\leq {:.2f}\\, m$\".format(\n",
    "                                       float(r1s), float(r2s))\n",
    "                    else:\n",
    "                        legend_label = r\"${:.2f}\\, m \\leq r_0 \\leq {:.2f}\\, m$\".format(\n",
    "                                       float(r1s), float(r2s))\n",
    "                else:\n",
    "                    legend_label = legend\n",
    "            g += parametric_plot((fa, fb), (r1s, r2s), plot_points=plot_points, color=col, \n",
    "                                 thickness=thickness, linestyle=linestyle,\n",
    "                                 legend_label=legend_label, \n",
    "                                 frame=frame, axes=axes, gridlines=gridlines)\n",
    "            g += parametric_plot((fam, fbm), (r1s, r2s), plot_points=plot_points, color=col, \n",
    "                                 thickness=thickness, linestyle=linestyle)\n",
    "        if fill:\n",
    "            g += parametric_plot((fa, fb), (rmin, rmax), fill=True, fillcolor=fillcolor, \n",
    "                                 thickness=0)\n",
    "            g += parametric_plot((fam, fbm), (rmin, rmax), fill=True, fillcolor=fillcolor, \n",
    "                                 thickness=0)\n",
    "        if draw_spin:\n",
    "            if not spin_arrow_options:\n",
    "                spin_arrow_options = {}\n",
    "            if 'color' not in spin_arrow_options:\n",
    "                spin_arrow_options['color'] = color\n",
    "            g += arrow2d((0,0), (-so*spin_arrow_length, co*spin_arrow_length), \n",
    "                         **spin_arrow_options)\n",
    "        # end of case a != 0\n",
    "    g.set_aspect_ratio(1)\n",
    "    if axes_labels:\n",
    "        if axes_labels == 'automatic':\n",
    "            g.axes_labels([r\"$(r_{\\mathscr{O}}/m)\\; \\alpha$\", \n",
    "                           r\"$(r_{\\mathscr{O}}/m)\\; \\beta$\"])\n",
    "        else:\n",
    "            g.axes_labels(axes_labels)\n",
    "    if legend:\n",
    "        g.set_legend_options(handlelength=2, loc=legend_loc)\n",
    "    return g"
   ]
  },
  {
   "cell_type": "code",
   "execution_count": 19,
   "metadata": {},
   "outputs": [
    {
     "name": "stdout",
     "output_type": "stream",
     "text": [
      "rmin :  1.00000001000000   rmax :  3.99999996000000\n",
      "rmin_col :  1   rmax_col :  4.0\n"
     ]
    },
    {
     "data": {
      "image/png": "[encoded data removed]",
      "text/plain": [
       "Graphics object consisting of 9 graphics primitives"
      ]
     },
     "execution_count": 19,
     "metadata": {},
     "output_type": "execute_result"
    }
   ],
   "source": [
    "shadow_plot(1, pi/2, orientation=pi/6, fill=True, color='red', \n",
    "            number_colors=1, thickness=1.5, linestyle=':', \n",
    "            draw_spin=True, spin_arrow_options={'color': 'blue', 'width': 3},\n",
    "            legend=False)"
   ]
  },
  {
   "cell_type": "markdown",
   "metadata": {},
   "source": [
    "Half-width of the image in units of $m/r_{\\mathscr{O}}$:"
   ]
  },
  {
   "cell_type": "code",
   "execution_count": 20,
   "metadata": {},
   "outputs": [
    {
     "name": "stdout",
     "output_type": "stream",
     "text": [
      "fsize = 17.3275984058939 m/r_obs\n"
     ]
    }
   ],
   "source": [
    "EHT_field_of_view = 127   # Field of view for EHT image of M87* (in microarcseconds)\n",
    "scale_M87 = 3.66467403690525  # m/r for M87* (in microarcseconds)\n",
    "fsize = EHT_field_of_view / 2 / scale_M87\n",
    "extent = (-fsize, fsize, -fsize, fsize)\n",
    "print(\"fsize =\", fsize, \"m/r_obs\")"
   ]
  },
  {
   "cell_type": "code",
   "execution_count": 21,
   "metadata": {},
   "outputs": [],
   "source": [
    "def empty_plot(size, frame=True, axes=False, axes_labels='automatic', \n",
    "               gridlines=False):\n",
    "    g = Graphics()\n",
    "    g._extra_kwds['frame'] = frame\n",
    "    g._extra_kwds['axes'] = axes\n",
    "    g._extra_kwds['gridlines'] = gridlines\n",
    "    if axes_labels:\n",
    "        if axes_labels == 'automatic':\n",
    "            g.axes_labels([r\"$(r_{\\mathscr{O}}/m)\\; \\alpha$\", \n",
    "                           r\"$(r_{\\mathscr{O}}/m)\\; \\beta$\"])\n",
    "        else:\n",
    "            g.axes_labels(axes_labels)\n",
    "    g.set_aspect_ratio(1)\n",
    "    g.set_axes_range(-size, size, -size, size)\n",
    "    return g"
   ]
  },
  {
   "cell_type": "markdown",
   "metadata": {},
   "source": [
    "Default resolution of SageMath images:"
   ]
  },
  {
   "cell_type": "code",
   "execution_count": 22,
   "metadata": {},
   "outputs": [
    {
     "data": {
      "text/html": [
       "<html><script type=\"math/tex; mode=display\">\\newcommand{\\Bold}[1]{\\mathbf{#1}}100</script></html>"
      ],
      "text/latex": [
       "\\begin{math}\n",
       "\\newcommand{\\Bold}[1]{\\mathbf{#1}}100\n",
       "\\end{math}"
      ],
      "text/plain": [
       "100"
      ]
     },
     "execution_count": 22,
     "metadata": {},
     "output_type": "execute_result"
    }
   ],
   "source": [
    "dpi = Graphics.SHOW_OPTIONS['dpi']\n",
    "dpi"
   ]
  },
  {
   "cell_type": "markdown",
   "metadata": {},
   "source": [
    "Default resolution of Matplotlib images:"
   ]
  },
  {
   "cell_type": "code",
   "execution_count": 23,
   "metadata": {},
   "outputs": [
    {
     "data": {
      "text/html": [
       "<html><script type=\"math/tex; mode=display\">\\newcommand{\\Bold}[1]{\\mathbf{#1}}72.0</script></html>"
      ],
      "text/latex": [
       "\\begin{math}\n",
       "\\newcommand{\\Bold}[1]{\\mathbf{#1}}72.0\n",
       "\\end{math}"
      ],
      "text/plain": [
       "72.0"
      ]
     },
     "execution_count": 23,
     "metadata": {},
     "output_type": "execute_result"
    }
   ],
   "source": [
    "from matplotlib import rcParams\n",
    "rcParams['figure.dpi']"
   ]
  },
  {
   "cell_type": "markdown",
   "metadata": {},
   "source": [
    "The inclination of the jet axis with respect to the line of sight is $\\iota = 17^\\circ$ and its orientation\n",
    "is $\\Theta = -72^\\circ$ from the North axis. We have $\\theta_{\\mathscr{O}} = \\iota$ or $\\theta_{\\mathscr{O}}  = \\pi - \\iota$. Assuming that the emitting matted in the EHT image rotates in the same direction as the black hole implies $\\theta_{\\mathscr{O}} = \\pi - \\iota$:"
   ]
  },
  {
   "cell_type": "code",
   "execution_count": 24,
   "metadata": {},
   "outputs": [],
   "source": [
    "inc_jet = 17.  # inclination of jet axis w.r.t. line of sight (in degrees)\n",
    "Theta_jet = -72.   # orientation of jet axis in the plane of sky (in degress)\n",
    "th_obs = (180. - inc_jet)/180.*pi\n",
    "orient = (180. + Theta_jet)/180.*pi\n",
    "image_parameters = [(0, th_obs, orient, 'magenta'), (1., th_obs, orient, 'green')]"
   ]
  },
  {
   "cell_type": "code",
   "execution_count": 25,
   "metadata": {},
   "outputs": [],
   "source": [
    "gimage = 'M87_EHT'"
   ]
  },
  {
   "cell_type": "code",
   "execution_count": 26,
   "metadata": {
    "scrolled": false
   },
   "outputs": [
    {
     "name": "stdout",
     "output_type": "stream",
     "text": [
      "M87_EHT  resolution: (474, 474, 4)\n",
      "figsize:  (4.74, 4.74)\n",
      "a/m = 0   theta_obs = 0.905555555555556*pi\n",
      "a/m = 1.00000000000000   theta_obs = 0.905555555555556*pi\n",
      "rmin :  1.89727388775268   rmax :  2.90008539695632\n",
      "rmin_col :  1   rmax_col :  4.0\n"
     ]
    },
    {
     "data": {
      "application/javascript": [
       "/* Put everything inside the global mpl namespace */\n",
       "/* global mpl */\n",
       "window.mpl = {};\n",
       "\n",
       "mpl.get_websocket_type = function () {\n",
       "    if (typeof WebSocket !== 'undefined') {\n",
       "        return WebSocket;\n",
       "    } else if (typeof MozWebSocket !== 'undefined') {\n",
       "        return MozWebSocket;\n",
       "    } else {\n",
       "        alert(\n",
       "            'Your browser does not have WebSocket support. ' +\n",
       "                'Please try Chrome, Safari or Firefox ≥ 6. ' +\n",
       "                'Firefox 4 and 5 are also supported but you ' +\n",
       "                'have to enable WebSockets in about:config.'\n",
       "        );\n",
       "    }\n",
       "};\n",
       "\n",
       "mpl.figure = function (figure_id, websocket, ondownload, parent_element) {\n",
       "    this.id = figure_id;\n",
       "\n",
       "    this.ws = websocket;\n",
       "\n",
       "    this.supports_binary = this.ws.binaryType !== undefined;\n",
       "\n",
       "    if (!this.supports_binary) {\n",
       "        var warnings = document.getElementById('mpl-warnings');\n",
       "        if (warnings) {\n",
       "            warnings.style.display = 'block';\n",
       "            warnings.textContent =\n",
       "                'This browser does not support binary websocket messages. ' +\n",
       "                'Performance may be slow.';\n",
       "        }\n",
       "    }\n",
       "\n",
       "    this.imageObj = new Image();\n",
       "\n",
       "    this.context = undefined;\n",
       "    this.message = undefined;\n",
       "    this.canvas = undefined;\n",
       "    this.rubberband_canvas = undefined;\n",
       "    this.rubberband_context = undefined;\n",
       "    this.format_dropdown = undefined;\n",
       "\n",
       "    this.image_mode = 'full';\n",
       "\n",
       "    this.root = document.createElement('div');\n",
       "    this.root.setAttribute('style', 'display: inline-block');\n",
       "    this._root_extra_style(this.root);\n",
       "\n",
       "    parent_element.appendChild(this.root);\n",
       "\n",
       "    this._init_header(this);\n",
       "    this._init_canvas(this);\n",
       "    this._init_toolbar(this);\n",
       "\n",
       "    var fig = this;\n",
       "\n",
       "    this.waiting = false;\n",
       "\n",
       "    this.ws.onopen = function () {\n",
       "        fig.send_message('supports_binary', { value: fig.supports_binary });\n",
       "        fig.send_message('send_image_mode', {});\n",
       "        if (fig.ratio !== 1) {\n",
       "            fig.send_message('set_dpi_ratio', { dpi_ratio: fig.ratio });\n",
       "        }\n",
       "        fig.send_message('refresh', {});\n",
       "    };\n",
       "\n",
       "    this.imageObj.onload = function () {\n",
       "        if (fig.image_mode === 'full') {\n",
       "            // Full images could contain transparency (where diff images\n",
       "            // almost always do), so we need to clear the canvas so that\n",
       "            // there is no ghosting.\n",
       "            fig.context.clearRect(0, 0, fig.canvas.width, fig.canvas.height);\n",
       "        }\n",
       "        fig.context.drawImage(fig.imageObj, 0, 0);\n",
       "    };\n",
       "\n",
       "    this.imageObj.onunload = function () {\n",
       "        fig.ws.close();\n",
       "    };\n",
       "\n",
       "    this.ws.onmessage = this._make_on_message_function(this);\n",
       "\n",
       "    this.ondownload = ondownload;\n",
       "};\n",
       "\n",
       "mpl.figure.prototype._init_header = function () {\n",
       "    var titlebar = document.createElement('div');\n",
       "    titlebar.classList =\n",
       "        'ui-dialog-titlebar ui-widget-header ui-corner-all ui-helper-clearfix';\n",
       "    var titletext = document.createElement('div');\n",
       "    titletext.classList = 'ui-dialog-title';\n",
       "    titletext.setAttribute(\n",
       "        'style',\n",
       "        'width: 100%; text-align: center; padding: 3px;'\n",
       "    );\n",
       "    titlebar.appendChild(titletext);\n",
       "    this.root.appendChild(titlebar);\n",
       "    this.header = titletext;\n",
       "};\n",
       "\n",
       "mpl.figure.prototype._canvas_extra_style = function (_canvas_div) {};\n",
       "\n",
       "mpl.figure.prototype._root_extra_style = function (_canvas_div) {};\n",
       "\n",
       "mpl.figure.prototype._init_canvas = function () {\n",
       "    var fig = this;\n",
       "\n",
       "    var canvas_div = (this.canvas_div = document.createElement('div'));\n",
       "    canvas_div.setAttribute(\n",
       "        'style',\n",
       "        'border: 1px solid #ddd;' +\n",
       "            'box-sizing: content-box;' +\n",
       "            'clear: both;' +\n",
       "            'min-height: 1px;' +\n",
       "            'min-width: 1px;' +\n",
       "            'outline: 0;' +\n",
       "            'overflow: hidden;' +\n",
       "            'position: relative;' +\n",
       "            'resize: both;'\n",
       "    );\n",
       "\n",
       "    function on_keyboard_event_closure(name) {\n",
       "        return function (event) {\n",
       "            return fig.key_event(event, name);\n",
       "        };\n",
       "    }\n",
       "\n",
       "    canvas_div.addEventListener(\n",
       "        'keydown',\n",
       "        on_keyboard_event_closure('key_press')\n",
       "    );\n",
       "    canvas_div.addEventListener(\n",
       "        'keyup',\n",
       "        on_keyboard_event_closure('key_release')\n",
       "    );\n",
       "\n",
       "    this._canvas_extra_style(canvas_div);\n",
       "    this.root.appendChild(canvas_div);\n",
       "\n",
       "    var canvas = (this.canvas = document.createElement('canvas'));\n",
       "    canvas.classList.add('mpl-canvas');\n",
       "    canvas.setAttribute('style', 'box-sizing: content-box;');\n",
       "\n",
       "    this.context = canvas.getContext('2d');\n",
       "\n",
       "    var backingStore =\n",
       "        this.context.backingStorePixelRatio ||\n",
       "        this.context.webkitBackingStorePixelRatio ||\n",
       "        this.context.mozBackingStorePixelRatio ||\n",
       "        this.context.msBackingStorePixelRatio ||\n",
       "        this.context.oBackingStorePixelRatio ||\n",
       "        this.context.backingStorePixelRatio ||\n",
       "        1;\n",
       "\n",
       "    this.ratio = (window.devicePixelRatio || 1) / backingStore;\n",
       "    if (this.ratio !== 1) {\n",
       "        fig.send_message('set_dpi_ratio', { dpi_ratio: this.ratio });\n",
       "    }\n",
       "\n",
       "    var rubberband_canvas = (this.rubberband_canvas = document.createElement(\n",
       "        'canvas'\n",
       "    ));\n",
       "    rubberband_canvas.setAttribute(\n",
       "        'style',\n",
       "        'box-sizing: content-box; position: absolute; left: 0; top: 0; z-index: 1;'\n",
       "    );\n",
       "\n",
       "    var resizeObserver = new ResizeObserver(function (entries) {\n",
       "        var nentries = entries.length;\n",
       "        for (var i = 0; i < nentries; i++) {\n",
       "            var entry = entries[i];\n",
       "            var width, height;\n",
       "            if (entry.contentBoxSize) {\n",
       "                if (entry.contentBoxSize instanceof Array) {\n",
       "                    // Chrome 84 implements new version of spec.\n",
       "                    width = entry.contentBoxSize[0].inlineSize;\n",
       "                    height = entry.contentBoxSize[0].blockSize;\n",
       "                } else {\n",
       "                    // Firefox implements old version of spec.\n",
       "                    width = entry.contentBoxSize.inlineSize;\n",
       "                    height = entry.contentBoxSize.blockSize;\n",
       "                }\n",
       "            } else {\n",
       "                // Chrome <84 implements even older version of spec.\n",
       "                width = entry.contentRect.width;\n",
       "                height = entry.contentRect.height;\n",
       "            }\n",
       "\n",
       "            // Keep the size of the canvas and rubber band canvas in sync with\n",
       "            // the canvas container.\n",
       "            if (entry.devicePixelContentBoxSize) {\n",
       "                // Chrome 84 implements new version of spec.\n",
       "                canvas.setAttribute(\n",
       "                    'width',\n",
       "                    entry.devicePixelContentBoxSize[0].inlineSize\n",
       "                );\n",
       "                canvas.setAttribute(\n",
       "                    'height',\n",
       "                    entry.devicePixelContentBoxSize[0].blockSize\n",
       "                );\n",
       "            } else {\n",
       "                canvas.setAttribute('width', width * fig.ratio);\n",
       "                canvas.setAttribute('height', height * fig.ratio);\n",
       "            }\n",
       "            canvas.setAttribute(\n",
       "                'style',\n",
       "                'width: ' + width + 'px; height: ' + height + 'px;'\n",
       "            );\n",
       "\n",
       "            rubberband_canvas.setAttribute('width', width);\n",
       "            rubberband_canvas.setAttribute('height', height);\n",
       "\n",
       "            // And update the size in Python. We ignore the initial 0/0 size\n",
       "            // that occurs as the element is placed into the DOM, which should\n",
       "            // otherwise not happen due to the minimum size styling.\n",
       "            if (width != 0 && height != 0) {\n",
       "                fig.request_resize(width, height);\n",
       "            }\n",
       "        }\n",
       "    });\n",
       "    resizeObserver.observe(canvas_div);\n",
       "\n",
       "    function on_mouse_event_closure(name) {\n",
       "        return function (event) {\n",
       "            return fig.mouse_event(event, name);\n",
       "        };\n",
       "    }\n",
       "\n",
       "    rubberband_canvas.addEventListener(\n",
       "        'mousedown',\n",
       "        on_mouse_event_closure('button_press')\n",
       "    );\n",
       "    rubberband_canvas.addEventListener(\n",
       "        'mouseup',\n",
       "        on_mouse_event_closure('button_release')\n",
       "    );\n",
       "    // Throttle sequential mouse events to 1 every 20ms.\n",
       "    rubberband_canvas.addEventListener(\n",
       "        'mousemove',\n",
       "        on_mouse_event_closure('motion_notify')\n",
       "    );\n",
       "\n",
       "    rubberband_canvas.addEventListener(\n",
       "        'mouseenter',\n",
       "        on_mouse_event_closure('figure_enter')\n",
       "    );\n",
       "    rubberband_canvas.addEventListener(\n",
       "        'mouseleave',\n",
       "        on_mouse_event_closure('figure_leave')\n",
       "    );\n",
       "\n",
       "    canvas_div.addEventListener('wheel', function (event) {\n",
       "        if (event.deltaY < 0) {\n",
       "            event.step = 1;\n",
       "        } else {\n",
       "            event.step = -1;\n",
       "        }\n",
       "        on_mouse_event_closure('scroll')(event);\n",
       "    });\n",
       "\n",
       "    canvas_div.appendChild(canvas);\n",
       "    canvas_div.appendChild(rubberband_canvas);\n",
       "\n",
       "    this.rubberband_context = rubberband_canvas.getContext('2d');\n",
       "    this.rubberband_context.strokeStyle = '#000000';\n",
       "\n",
       "    this._resize_canvas = function (width, height, forward) {\n",
       "        if (forward) {\n",
       "            canvas_div.style.width = width + 'px';\n",
       "            canvas_div.style.height = height + 'px';\n",
       "        }\n",
       "    };\n",
       "\n",
       "    // Disable right mouse context menu.\n",
       "    this.rubberband_canvas.addEventListener('contextmenu', function (_e) {\n",
       "        event.preventDefault();\n",
       "        return false;\n",
       "    });\n",
       "\n",
       "    function set_focus() {\n",
       "        canvas.focus();\n",
       "        canvas_div.focus();\n",
       "    }\n",
       "\n",
       "    window.setTimeout(set_focus, 100);\n",
       "};\n",
       "\n",
       "mpl.figure.prototype._init_toolbar = function () {\n",
       "    var fig = this;\n",
       "\n",
       "    var toolbar = document.createElement('div');\n",
       "    toolbar.classList = 'mpl-toolbar';\n",
       "    this.root.appendChild(toolbar);\n",
       "\n",
       "    function on_click_closure(name) {\n",
       "        return function (_event) {\n",
       "            return fig.toolbar_button_onclick(name);\n",
       "        };\n",
       "    }\n",
       "\n",
       "    function on_mouseover_closure(tooltip) {\n",
       "        return function (event) {\n",
       "            if (!event.currentTarget.disabled) {\n",
       "                return fig.toolbar_button_onmouseover(tooltip);\n",
       "            }\n",
       "        };\n",
       "    }\n",
       "\n",
       "    fig.buttons = {};\n",
       "    var buttonGroup = document.createElement('div');\n",
       "    buttonGroup.classList = 'mpl-button-group';\n",
       "    for (var toolbar_ind in mpl.toolbar_items) {\n",
       "        var name = mpl.toolbar_items[toolbar_ind][0];\n",
       "        var tooltip = mpl.toolbar_items[toolbar_ind][1];\n",
       "        var image = mpl.toolbar_items[toolbar_ind][2];\n",
       "        var method_name = mpl.toolbar_items[toolbar_ind][3];\n",
       "\n",
       "        if (!name) {\n",
       "            /* Instead of a spacer, we start a new button group. */\n",
       "            if (buttonGroup.hasChildNodes()) {\n",
       "                toolbar.appendChild(buttonGroup);\n",
       "            }\n",
       "            buttonGroup = document.createElement('div');\n",
       "            buttonGroup.classList = 'mpl-button-group';\n",
       "            continue;\n",
       "        }\n",
       "\n",
       "        var button = (fig.buttons[name] = document.createElement('button'));\n",
       "        button.classList = 'mpl-widget';\n",
       "        button.setAttribute('role', 'button');\n",
       "        button.setAttribute('aria-disabled', 'false');\n",
       "        button.addEventListener('click', on_click_closure(method_name));\n",
       "        button.addEventListener('mouseover', on_mouseover_closure(tooltip));\n",
       "\n",
       "        var icon_img = document.createElement('img');\n",
       "        icon_img.src = '_images/' + image + '.png';\n",
       "        icon_img.srcset = '_images/' + image + '_large.png 2x';\n",
       "        icon_img.alt = tooltip;\n",
       "        button.appendChild(icon_img);\n",
       "\n",
       "        buttonGroup.appendChild(button);\n",
       "    }\n",
       "\n",
       "    if (buttonGroup.hasChildNodes()) {\n",
       "        toolbar.appendChild(buttonGroup);\n",
       "    }\n",
       "\n",
       "    var fmt_picker = document.createElement('select');\n",
       "    fmt_picker.classList = 'mpl-widget';\n",
       "    toolbar.appendChild(fmt_picker);\n",
       "    this.format_dropdown = fmt_picker;\n",
       "\n",
       "    for (var ind in mpl.extensions) {\n",
       "        var fmt = mpl.extensions[ind];\n",
       "        var option = document.createElement('option');\n",
       "        option.selected = fmt === mpl.default_extension;\n",
       "        option.innerHTML = fmt;\n",
       "        fmt_picker.appendChild(option);\n",
       "    }\n",
       "\n",
       "    var status_bar = document.createElement('span');\n",
       "    status_bar.classList = 'mpl-message';\n",
       "    toolbar.appendChild(status_bar);\n",
       "    this.message = status_bar;\n",
       "};\n",
       "\n",
       "mpl.figure.prototype.request_resize = function (x_pixels, y_pixels) {\n",
       "    // Request matplotlib to resize the figure. Matplotlib will then trigger a resize in the client,\n",
       "    // which will in turn request a refresh of the image.\n",
       "    this.send_message('resize', { width: x_pixels, height: y_pixels });\n",
       "};\n",
       "\n",
       "mpl.figure.prototype.send_message = function (type, properties) {\n",
       "    properties['type'] = type;\n",
       "    properties['figure_id'] = this.id;\n",
       "    this.ws.send(JSON.stringify(properties));\n",
       "};\n",
       "\n",
       "mpl.figure.prototype.send_draw_message = function () {\n",
       "    if (!this.waiting) {\n",
       "        this.waiting = true;\n",
       "        this.ws.send(JSON.stringify({ type: 'draw', figure_id: this.id }));\n",
       "    }\n",
       "};\n",
       "\n",
       "mpl.figure.prototype.handle_save = function (fig, _msg) {\n",
       "    var format_dropdown = fig.format_dropdown;\n",
       "    var format = format_dropdown.options[format_dropdown.selectedIndex].value;\n",
       "    fig.ondownload(fig, format);\n",
       "};\n",
       "\n",
       "mpl.figure.prototype.handle_resize = function (fig, msg) {\n",
       "    var size = msg['size'];\n",
       "    if (size[0] !== fig.canvas.width || size[1] !== fig.canvas.height) {\n",
       "        fig._resize_canvas(size[0], size[1], msg['forward']);\n",
       "        fig.send_message('refresh', {});\n",
       "    }\n",
       "};\n",
       "\n",
       "mpl.figure.prototype.handle_rubberband = function (fig, msg) {\n",
       "    var x0 = msg['x0'] / fig.ratio;\n",
       "    var y0 = (fig.canvas.height - msg['y0']) / fig.ratio;\n",
       "    var x1 = msg['x1'] / fig.ratio;\n",
       "    var y1 = (fig.canvas.height - msg['y1']) / fig.ratio;\n",
       "    x0 = Math.floor(x0) + 0.5;\n",
       "    y0 = Math.floor(y0) + 0.5;\n",
       "    x1 = Math.floor(x1) + 0.5;\n",
       "    y1 = Math.floor(y1) + 0.5;\n",
       "    var min_x = Math.min(x0, x1);\n",
       "    var min_y = Math.min(y0, y1);\n",
       "    var width = Math.abs(x1 - x0);\n",
       "    var height = Math.abs(y1 - y0);\n",
       "\n",
       "    fig.rubberband_context.clearRect(\n",
       "        0,\n",
       "        0,\n",
       "        fig.canvas.width / fig.ratio,\n",
       "        fig.canvas.height / fig.ratio\n",
       "    );\n",
       "\n",
       "    fig.rubberband_context.strokeRect(min_x, min_y, width, height);\n",
       "};\n",
       "\n",
       "mpl.figure.prototype.handle_figure_label = function (fig, msg) {\n",
       "    // Updates the figure title.\n",
       "    fig.header.textContent = msg['label'];\n",
       "};\n",
       "\n",
       "mpl.figure.prototype.handle_cursor = function (fig, msg) {\n",
       "    var cursor = msg['cursor'];\n",
       "    switch (cursor) {\n",
       "        case 0:\n",
       "            cursor = 'pointer';\n",
       "            break;\n",
       "        case 1:\n",
       "            cursor = 'default';\n",
       "            break;\n",
       "        case 2:\n",
       "            cursor = 'crosshair';\n",
       "            break;\n",
       "        case 3:\n",
       "            cursor = 'move';\n",
       "            break;\n",
       "    }\n",
       "    fig.rubberband_canvas.style.cursor = cursor;\n",
       "};\n",
       "\n",
       "mpl.figure.prototype.handle_message = function (fig, msg) {\n",
       "    fig.message.textContent = msg['message'];\n",
       "};\n",
       "\n",
       "mpl.figure.prototype.handle_draw = function (fig, _msg) {\n",
       "    // Request the server to send over a new figure.\n",
       "    fig.send_draw_message();\n",
       "};\n",
       "\n",
       "mpl.figure.prototype.handle_image_mode = function (fig, msg) {\n",
       "    fig.image_mode = msg['mode'];\n",
       "};\n",
       "\n",
       "mpl.figure.prototype.handle_history_buttons = function (fig, msg) {\n",
       "    for (var key in msg) {\n",
       "        if (!(key in fig.buttons)) {\n",
       "            continue;\n",
       "        }\n",
       "        fig.buttons[key].disabled = !msg[key];\n",
       "        fig.buttons[key].setAttribute('aria-disabled', !msg[key]);\n",
       "    }\n",
       "};\n",
       "\n",
       "mpl.figure.prototype.handle_navigate_mode = function (fig, msg) {\n",
       "    if (msg['mode'] === 'PAN') {\n",
       "        fig.buttons['Pan'].classList.add('active');\n",
       "        fig.buttons['Zoom'].classList.remove('active');\n",
       "    } else if (msg['mode'] === 'ZOOM') {\n",
       "        fig.buttons['Pan'].classList.remove('active');\n",
       "        fig.buttons['Zoom'].classList.add('active');\n",
       "    } else {\n",
       "        fig.buttons['Pan'].classList.remove('active');\n",
       "        fig.buttons['Zoom'].classList.remove('active');\n",
       "    }\n",
       "};\n",
       "\n",
       "mpl.figure.prototype.updated_canvas_event = function () {\n",
       "    // Called whenever the canvas gets updated.\n",
       "    this.send_message('ack', {});\n",
       "};\n",
       "\n",
       "// A function to construct a web socket function for onmessage handling.\n",
       "// Called in the figure constructor.\n",
       "mpl.figure.prototype._make_on_message_function = function (fig) {\n",
       "    return function socket_on_message(evt) {\n",
       "        if (evt.data instanceof Blob) {\n",
       "            /* FIXME: We get \"Resource interpreted as Image but\n",
       "             * transferred with MIME type text/plain:\" errors on\n",
       "             * Chrome.  But how to set the MIME type?  It doesn't seem\n",
       "             * to be part of the websocket stream */\n",
       "            evt.data.type = 'image/png';\n",
       "\n",
       "            /* Free the memory for the previous frames */\n",
       "            if (fig.imageObj.src) {\n",
       "                (window.URL || window.webkitURL).revokeObjectURL(\n",
       "                    fig.imageObj.src\n",
       "                );\n",
       "            }\n",
       "\n",
       "            fig.imageObj.src = (window.URL || window.webkitURL).createObjectURL(\n",
       "                evt.data\n",
       "            );\n",
       "            fig.updated_canvas_event();\n",
       "            fig.waiting = false;\n",
       "            return;\n",
       "        } else if (\n",
       "            typeof evt.data === 'string' &&\n",
       "            evt.data.slice(0, 21) === 'data:image/png;base64'\n",
       "        ) {\n",
       "            fig.imageObj.src = evt.data;\n",
       "            fig.updated_canvas_event();\n",
       "            fig.waiting = false;\n",
       "            return;\n",
       "        }\n",
       "\n",
       "        var msg = JSON.parse(evt.data);\n",
       "        var msg_type = msg['type'];\n",
       "\n",
       "        // Call the  \"handle_{type}\" callback, which takes\n",
       "        // the figure and JSON message as its only arguments.\n",
       "        try {\n",
       "            var callback = fig['handle_' + msg_type];\n",
       "        } catch (e) {\n",
       "            console.log(\n",
       "                \"No handler for the '\" + msg_type + \"' message type: \",\n",
       "                msg\n",
       "            );\n",
       "            return;\n",
       "        }\n",
       "\n",
       "        if (callback) {\n",
       "            try {\n",
       "                // console.log(\"Handling '\" + msg_type + \"' message: \", msg);\n",
       "                callback(fig, msg);\n",
       "            } catch (e) {\n",
       "                console.log(\n",
       "                    \"Exception inside the 'handler_\" + msg_type + \"' callback:\",\n",
       "                    e,\n",
       "                    e.stack,\n",
       "                    msg\n",
       "                );\n",
       "            }\n",
       "        }\n",
       "    };\n",
       "};\n",
       "\n",
       "// from http://stackoverflow.com/questions/1114465/getting-mouse-location-in-canvas\n",
       "mpl.findpos = function (e) {\n",
       "    //this section is from http://www.quirksmode.org/js/events_properties.html\n",
       "    var targ;\n",
       "    if (!e) {\n",
       "        e = window.event;\n",
       "    }\n",
       "    if (e.target) {\n",
       "        targ = e.target;\n",
       "    } else if (e.srcElement) {\n",
       "        targ = e.srcElement;\n",
       "    }\n",
       "    if (targ.nodeType === 3) {\n",
       "        // defeat Safari bug\n",
       "        targ = targ.parentNode;\n",
       "    }\n",
       "\n",
       "    // pageX,Y are the mouse positions relative to the document\n",
       "    var boundingRect = targ.getBoundingClientRect();\n",
       "    var x = e.pageX - (boundingRect.left + document.body.scrollLeft);\n",
       "    var y = e.pageY - (boundingRect.top + document.body.scrollTop);\n",
       "\n",
       "    return { x: x, y: y };\n",
       "};\n",
       "\n",
       "/*\n",
       " * return a copy of an object with only non-object keys\n",
       " * we need this to avoid circular references\n",
       " * http://stackoverflow.com/a/24161582/3208463\n",
       " */\n",
       "function simpleKeys(original) {\n",
       "    return Object.keys(original).reduce(function (obj, key) {\n",
       "        if (typeof original[key] !== 'object') {\n",
       "            obj[key] = original[key];\n",
       "        }\n",
       "        return obj;\n",
       "    }, {});\n",
       "}\n",
       "\n",
       "mpl.figure.prototype.mouse_event = function (event, name) {\n",
       "    var canvas_pos = mpl.findpos(event);\n",
       "\n",
       "    if (name === 'button_press') {\n",
       "        this.canvas.focus();\n",
       "        this.canvas_div.focus();\n",
       "    }\n",
       "\n",
       "    var x = canvas_pos.x * this.ratio;\n",
       "    var y = canvas_pos.y * this.ratio;\n",
       "\n",
       "    this.send_message(name, {\n",
       "        x: x,\n",
       "        y: y,\n",
       "        button: event.button,\n",
       "        step: event.step,\n",
       "        guiEvent: simpleKeys(event),\n",
       "    });\n",
       "\n",
       "    /* This prevents the web browser from automatically changing to\n",
       "     * the text insertion cursor when the button is pressed.  We want\n",
       "     * to control all of the cursor setting manually through the\n",
       "     * 'cursor' event from matplotlib */\n",
       "    event.preventDefault();\n",
       "    return false;\n",
       "};\n",
       "\n",
       "mpl.figure.prototype._key_event_extra = function (_event, _name) {\n",
       "    // Handle any extra behaviour associated with a key event\n",
       "};\n",
       "\n",
       "mpl.figure.prototype.key_event = function (event, name) {\n",
       "    // Prevent repeat events\n",
       "    if (name === 'key_press') {\n",
       "        if (event.which === this._key) {\n",
       "            return;\n",
       "        } else {\n",
       "            this._key = event.which;\n",
       "        }\n",
       "    }\n",
       "    if (name === 'key_release') {\n",
       "        this._key = null;\n",
       "    }\n",
       "\n",
       "    var value = '';\n",
       "    if (event.ctrlKey && event.which !== 17) {\n",
       "        value += 'ctrl+';\n",
       "    }\n",
       "    if (event.altKey && event.which !== 18) {\n",
       "        value += 'alt+';\n",
       "    }\n",
       "    if (event.shiftKey && event.which !== 16) {\n",
       "        value += 'shift+';\n",
       "    }\n",
       "\n",
       "    value += 'k';\n",
       "    value += event.which.toString();\n",
       "\n",
       "    this._key_event_extra(event, name);\n",
       "\n",
       "    this.send_message(name, { key: value, guiEvent: simpleKeys(event) });\n",
       "    return false;\n",
       "};\n",
       "\n",
       "mpl.figure.prototype.toolbar_button_onclick = function (name) {\n",
       "    if (name === 'download') {\n",
       "        this.handle_save(this, null);\n",
       "    } else {\n",
       "        this.send_message('toolbar_button', { name: name });\n",
       "    }\n",
       "};\n",
       "\n",
       "mpl.figure.prototype.toolbar_button_onmouseover = function (tooltip) {\n",
       "    this.message.textContent = tooltip;\n",
       "};\n",
       "mpl.toolbar_items = [[\"Home\", \"Reset original view\", \"fa fa-home icon-home\", \"home\"], [\"Back\", \"Back to previous view\", \"fa fa-arrow-left icon-arrow-left\", \"back\"], [\"Forward\", \"Forward to next view\", \"fa fa-arrow-right icon-arrow-right\", \"forward\"], [\"\", \"\", \"\", \"\"], [\"Pan\", \"Left button pans, Right button zooms\\nx/y fixes axis, CTRL fixes aspect\", \"fa fa-arrows icon-move\", \"pan\"], [\"Zoom\", \"Zoom to rectangle\\nx/y fixes axis, CTRL fixes aspect\", \"fa fa-square-o icon-check-empty\", \"zoom\"], [\"\", \"\", \"\", \"\"], [\"Download\", \"Download plot\", \"fa fa-floppy-o icon-save\", \"download\"]];\n",
       "\n",
       "mpl.extensions = [\"eps\", \"jpeg\", \"pdf\", \"png\", \"ps\", \"raw\", \"svg\", \"tif\"];\n",
       "\n",
       "mpl.default_extension = \"png\";/* global mpl */\n",
       "\n",
       "var comm_websocket_adapter = function (comm) {\n",
       "    // Create a \"websocket\"-like object which calls the given IPython comm\n",
       "    // object with the appropriate methods. Currently this is a non binary\n",
       "    // socket, so there is still some room for performance tuning.\n",
       "    var ws = {};\n",
       "\n",
       "    ws.close = function () {\n",
       "        comm.close();\n",
       "    };\n",
       "    ws.send = function (m) {\n",
       "        //console.log('sending', m);\n",
       "        comm.send(m);\n",
       "    };\n",
       "    // Register the callback with on_msg.\n",
       "    comm.on_msg(function (msg) {\n",
       "        //console.log('receiving', msg['content']['data'], msg);\n",
       "        // Pass the mpl event to the overridden (by mpl) onmessage function.\n",
       "        ws.onmessage(msg['content']['data']);\n",
       "    });\n",
       "    return ws;\n",
       "};\n",
       "\n",
       "mpl.mpl_figure_comm = function (comm, msg) {\n",
       "    // This is the function which gets called when the mpl process\n",
       "    // starts-up an IPython Comm through the \"matplotlib\" channel.\n",
       "\n",
       "    var id = msg.content.data.id;\n",
       "    // Get hold of the div created by the display call when the Comm\n",
       "    // socket was opened in Python.\n",
       "    var element = document.getElementById(id);\n",
       "    var ws_proxy = comm_websocket_adapter(comm);\n",
       "\n",
       "    function ondownload(figure, _format) {\n",
       "        window.open(figure.canvas.toDataURL());\n",
       "    }\n",
       "\n",
       "    var fig = new mpl.figure(id, ws_proxy, ondownload, element);\n",
       "\n",
       "    // Call onopen now - mpl needs it, as it is assuming we've passed it a real\n",
       "    // web socket which is closed, not our websocket->open comm proxy.\n",
       "    ws_proxy.onopen();\n",
       "\n",
       "    fig.parent_element = element;\n",
       "    fig.cell_info = mpl.find_output_cell(\"<div id='\" + id + \"'></div>\");\n",
       "    if (!fig.cell_info) {\n",
       "        console.error('Failed to find cell for figure', id, fig);\n",
       "        return;\n",
       "    }\n",
       "    fig.cell_info[0].output_area.element.one(\n",
       "        'cleared',\n",
       "        { fig: fig },\n",
       "        fig._remove_fig_handler\n",
       "    );\n",
       "};\n",
       "\n",
       "mpl.figure.prototype.handle_close = function (fig, msg) {\n",
       "    var width = fig.canvas.width / fig.ratio;\n",
       "    fig.cell_info[0].output_area.element.off(\n",
       "        'cleared',\n",
       "        fig._remove_fig_handler\n",
       "    );\n",
       "\n",
       "    // Update the output cell to use the data from the current canvas.\n",
       "    fig.push_to_output();\n",
       "    var dataURL = fig.canvas.toDataURL();\n",
       "    // Re-enable the keyboard manager in IPython - without this line, in FF,\n",
       "    // the notebook keyboard shortcuts fail.\n",
       "    IPython.keyboard_manager.enable();\n",
       "    fig.parent_element.innerHTML =\n",
       "        '<img src=\"' + dataURL + '\" width=\"' + width + '\">';\n",
       "    fig.close_ws(fig, msg);\n",
       "};\n",
       "\n",
       "mpl.figure.prototype.close_ws = function (fig, msg) {\n",
       "    fig.send_message('closing', msg);\n",
       "    // fig.ws.close()\n",
       "};\n",
       "\n",
       "mpl.figure.prototype.push_to_output = function (_remove_interactive) {\n",
       "    // Turn the data on the canvas into data in the output cell.\n",
       "    var width = this.canvas.width / this.ratio;\n",
       "    var dataURL = this.canvas.toDataURL();\n",
       "    this.cell_info[1]['text/html'] =\n",
       "        '<img src=\"' + dataURL + '\" width=\"' + width + '\">';\n",
       "};\n",
       "\n",
       "mpl.figure.prototype.updated_canvas_event = function () {\n",
       "    // Tell IPython that the notebook contents must change.\n",
       "    IPython.notebook.set_dirty(true);\n",
       "    this.send_message('ack', {});\n",
       "    var fig = this;\n",
       "    // Wait a second, then push the new image to the DOM so\n",
       "    // that it is saved nicely (might be nice to debounce this).\n",
       "    setTimeout(function () {\n",
       "        fig.push_to_output();\n",
       "    }, 1000);\n",
       "};\n",
       "\n",
       "mpl.figure.prototype._init_toolbar = function () {\n",
       "    var fig = this;\n",
       "\n",
       "    var toolbar = document.createElement('div');\n",
       "    toolbar.classList = 'btn-toolbar';\n",
       "    this.root.appendChild(toolbar);\n",
       "\n",
       "    function on_click_closure(name) {\n",
       "        return function (_event) {\n",
       "            return fig.toolbar_button_onclick(name);\n",
       "        };\n",
       "    }\n",
       "\n",
       "    function on_mouseover_closure(tooltip) {\n",
       "        return function (event) {\n",
       "            if (!event.currentTarget.disabled) {\n",
       "                return fig.toolbar_button_onmouseover(tooltip);\n",
       "            }\n",
       "        };\n",
       "    }\n",
       "\n",
       "    fig.buttons = {};\n",
       "    var buttonGroup = document.createElement('div');\n",
       "    buttonGroup.classList = 'btn-group';\n",
       "    var button;\n",
       "    for (var toolbar_ind in mpl.toolbar_items) {\n",
       "        var name = mpl.toolbar_items[toolbar_ind][0];\n",
       "        var tooltip = mpl.toolbar_items[toolbar_ind][1];\n",
       "        var image = mpl.toolbar_items[toolbar_ind][2];\n",
       "        var method_name = mpl.toolbar_items[toolbar_ind][3];\n",
       "\n",
       "        if (!name) {\n",
       "            /* Instead of a spacer, we start a new button group. */\n",
       "            if (buttonGroup.hasChildNodes()) {\n",
       "                toolbar.appendChild(buttonGroup);\n",
       "            }\n",
       "            buttonGroup = document.createElement('div');\n",
       "            buttonGroup.classList = 'btn-group';\n",
       "            continue;\n",
       "        }\n",
       "\n",
       "        button = fig.buttons[name] = document.createElement('button');\n",
       "        button.classList = 'btn btn-default';\n",
       "        button.href = '#';\n",
       "        button.title = name;\n",
       "        button.innerHTML = '<i class=\"fa ' + image + ' fa-lg\"></i>';\n",
       "        button.addEventListener('click', on_click_closure(method_name));\n",
       "        button.addEventListener('mouseover', on_mouseover_closure(tooltip));\n",
       "        buttonGroup.appendChild(button);\n",
       "    }\n",
       "\n",
       "    if (buttonGroup.hasChildNodes()) {\n",
       "        toolbar.appendChild(buttonGroup);\n",
       "    }\n",
       "\n",
       "    // Add the status bar.\n",
       "    var status_bar = document.createElement('span');\n",
       "    status_bar.classList = 'mpl-message pull-right';\n",
       "    toolbar.appendChild(status_bar);\n",
       "    this.message = status_bar;\n",
       "\n",
       "    // Add the close button to the window.\n",
       "    var buttongrp = document.createElement('div');\n",
       "    buttongrp.classList = 'btn-group inline pull-right';\n",
       "    button = document.createElement('button');\n",
       "    button.classList = 'btn btn-mini btn-primary';\n",
       "    button.href = '#';\n",
       "    button.title = 'Stop Interaction';\n",
       "    button.innerHTML = '<i class=\"fa fa-power-off icon-remove icon-large\"></i>';\n",
       "    button.addEventListener('click', function (_evt) {\n",
       "        fig.handle_close(fig, {});\n",
       "    });\n",
       "    button.addEventListener(\n",
       "        'mouseover',\n",
       "        on_mouseover_closure('Stop Interaction')\n",
       "    );\n",
       "    buttongrp.appendChild(button);\n",
       "    var titlebar = this.root.querySelector('.ui-dialog-titlebar');\n",
       "    titlebar.insertBefore(buttongrp, titlebar.firstChild);\n",
       "};\n",
       "\n",
       "mpl.figure.prototype._remove_fig_handler = function (event) {\n",
       "    var fig = event.data.fig;\n",
       "    fig.close_ws(fig, {});\n",
       "};\n",
       "\n",
       "mpl.figure.prototype._root_extra_style = function (el) {\n",
       "    el.style.boxSizing = 'content-box'; // override notebook setting of border-box.\n",
       "};\n",
       "\n",
       "mpl.figure.prototype._canvas_extra_style = function (el) {\n",
       "    // this is important to make the div 'focusable\n",
       "    el.setAttribute('tabindex', 0);\n",
       "    // reach out to IPython and tell the keyboard manager to turn it's self\n",
       "    // off when our div gets focus\n",
       "\n",
       "    // location in version 3\n",
       "    if (IPython.notebook.keyboard_manager) {\n",
       "        IPython.notebook.keyboard_manager.register_events(el);\n",
       "    } else {\n",
       "        // location in version 2\n",
       "        IPython.keyboard_manager.register_events(el);\n",
       "    }\n",
       "};\n",
       "\n",
       "mpl.figure.prototype._key_event_extra = function (event, _name) {\n",
       "    var manager = IPython.notebook.keyboard_manager;\n",
       "    if (!manager) {\n",
       "        manager = IPython.keyboard_manager;\n",
       "    }\n",
       "\n",
       "    // Check for shift+enter\n",
       "    if (event.shiftKey && event.which === 13) {\n",
       "        this.canvas_div.blur();\n",
       "        // select the cell after this one\n",
       "        var index = IPython.notebook.find_cell_index(this.cell_info[0]);\n",
       "        IPython.notebook.select(index + 1);\n",
       "    }\n",
       "};\n",
       "\n",
       "mpl.figure.prototype.handle_save = function (fig, _msg) {\n",
       "    fig.ondownload(fig, null);\n",
       "};\n",
       "\n",
       "mpl.find_output_cell = function (html_output) {\n",
       "    // Return the cell and output element which can be found *uniquely* in the notebook.\n",
       "    // Note - this is a bit hacky, but it is done because the \"notebook_saving.Notebook\"\n",
       "    // IPython event is triggered only after the cells have been serialised, which for\n",
       "    // our purposes (turning an active figure into a static one), is too late.\n",
       "    var cells = IPython.notebook.get_cells();\n",
       "    var ncells = cells.length;\n",
       "    for (var i = 0; i < ncells; i++) {\n",
       "        var cell = cells[i];\n",
       "        if (cell.cell_type === 'code') {\n",
       "            for (var j = 0; j < cell.output_area.outputs.length; j++) {\n",
       "                var data = cell.output_area.outputs[j];\n",
       "                if (data.data) {\n",
       "                    // IPython >= 3 moved mimebundle to data attribute of output\n",
       "                    data = data.data;\n",
       "                }\n",
       "                if (data['text/html'] === html_output) {\n",
       "                    return [cell, data, j];\n",
       "                }\n",
       "            }\n",
       "        }\n",
       "    }\n",
       "};\n",
       "\n",
       "// Register the function which deals with the matplotlib target/channel.\n",
       "// The kernel may be null if the page has been refreshed.\n",
       "if (IPython.notebook.kernel !== null) {\n",
       "    IPython.notebook.kernel.comm_manager.register_target(\n",
       "        'matplotlib',\n",
       "        mpl.mpl_figure_comm\n",
       "    );\n",
       "}\n"
      ],
      "text/plain": [
       "<IPython.core.display.Javascript object>"
      ]
     },
     "metadata": {},
     "output_type": "display_data"
    },
    {
     "data": {
      "text/html": [
       "<img src=\"data:image/png;base64,iVBORw0KGgoAAAANSUhEUgAAAjgAAAI4CAYAAABndZP2AAAgAElEQVR4nOydd3gUZRfFJ4XUTe89IZX00Duhd6RKR4oiXVBRigoWUEF6gITepfdmh09FAaUZBUEQQXpLSEJLsuf7Y0tmZmdmZ7YEMPc8z32Aze603ez8OLe8DEMikUgkEolEIpFIJBKJRCKRSCQSiUQikUgkEolEIpFIJBKJRCKRSCQSiUQikUgkEolEIpFIJBKJRCKRSCQSiUQikUgkEolEIpFIJBKJRCKRSCQSiUQikUgkEolEIpFIJBKJRCKRSCQSiUQikUgkEolEIpFIJBKJRCKRSCQSiUQikUgkEolEIpFIJBKJRCKRSCQSiUQikUgkEolEIpFIJBKJRCKRSCQSiUQikUgkEolEIpFIJBKJRCKRSCQSiUQikUgkEolEIpFIJBKJRCKRSCQSiUQikUgkEolEIpFIJBKJRCKRSCQSiUQikUgkEolEIpFIJBKJRCKRSCQSiUQikUgkEolEIpFIJBKJRCKRSCQSiUQikUgkEolEIpFIJBKJRCKRSCQSiUQikUgkEolEIpFIJBKJRCKRSCQSiUQikUgkEolEIpFIJBKJRCKRSCQSiUQikUgkEolEIpFIJBKJRCKRSCQSiUQikUgkEolEIpFIJBKJRCKRSCQSiUQikUgkEolEIpFIJBKJRCKRSCQSiUQikUgkEolEIpFIJBKJRCKRSCQSiUQikUgkEolEIpFIJBKJRCKRSCQSiUQikUgkEolEIpFIJBKJRCKRSCQSiUQikUgkEolEIpFIJBKJRCKRSCQSiUQikUgkEolEIpFIJBKJRCKRSCQSiUQikUgkEolEIpFIJBKJRCKRSCQSqSJIxTDMbIZhrjIM84hhmBMMw/R4qkdEIpFIJBKJZKa+ZBjmHsMwrzIM05hhmMUMw4BhmF5P86BIJBKJRCKRTFUbRgMzPXmPf8kwzBWGYezK/YhIJBKJRCKRzNRihmEKGIax5z3ek9GAT91yPyISiUQikUgkM/UTwzBHBB5PYjSAM7h8D4dEIpFIJBLJfJ1lGGa/wONBjAZwxku81p/RgBA7ajEM05dhmAyBn1FQUFBQUDzPkcEwTAeGYTwY0jOvswzD7BN4XAc44yReO1n7HAoKCgoKiooUHRjSMy9zUlRCDk4XhmGwfft25ObmUvDit99+w/79+8EwDPxcneH/Hww/V2f4qVzg5+oCP5ULfHTh5gofN1d4U1BQUDyn4e7irAOcDEveiEnW0SJGuMi4B6N5E5UWGScxDIPc3FyQylRaWopp06YhMTERsbGxsGEYBLurEOrhJjOUPNd4hFhwW6Hu2tBuVx/umj+DWRHk4YYAT3fD8HJHgJcHhWAovT7Kr6X/Uz9H60X5nJv0Nf8vX1/TrpHY9RJ6/Nn6fvBxV+kAJ8nsuy/J6mrNaN6s7rzH9zGmtYkT4EhIrVbj/PnzJgCOFYMFKJaOEF7oIIcdQsBj3RvCs/OFKX6e1j1Gqetr2rW3xPFa7pzLD2qenXMuz+1b/vNjqWOy/ntCgPP86UuGYe4yDPMKoxn0t4jRvIG9TdgWAY6E1Go1Lly4UGEARwp22NDDdnj8Pa0NH8q/BMv/S9t6Nz7rnMvzcLO39DV4Ns5Z+lyeDsw/PcfK8u8J/1wIcJ4/qRiGmcMwzDWGYR4zDHOSMX2pBgIcCYkBjkVTRjyoeOoAJQt6VAawI5rSem6+bCtGlMf1pfeQru+zEgQ4FVsEOBKScnAEYcRdxQpXM0MFS9fyWNvh4QOPNOw8G2knuplQ/Hc+A8/H71R5Xl8CnIotAhwJGU1RsYHGzRWhbq4Ic3NFpMoZUSonkyNS5YwwNxf9Ng3CkvBjoXSXMdiJ9PdF2+ZNMemdiWjTrMlT/1Itny9i6xYbC2/jWbvJWfOYyvv6Uljq2sr7XZK3XaltEeBUbBHgSEgccLhgE8ECmmg3F8S4uyCWFzHuLohWOaGyjBCCnmh3F8S4u6KyhwoRXh4IZ4WheyQGP9ZzhHRgIwQ7oZ7uyIiLQc78ebh79y7WrlppdiqrIkagjxfCgwIQFuAncUN41q4l95gCvT0R7OuNYF9vwecH+XghyMdL/xyx51FQyAkCnIotAhwJGQAOK/0U5ubCcWqiVU5IDwnA1AnjsG39OoNYv2wpXurQFrEerojWPl8s+MDTKDkBCz+bhq3r1hhsd+u6tWhVoypiPDSgFebmwkl1RXp5ICE4ECmR4UiJikB8SBAivD0lYSUpIgxtGzdC28aNkBIVgegAP0T5eiPC2xNhnu4Sry0DqGh/X2TERiM20B+hHm5IqxyFrJkzUVhQgBWLF+nhJyrAD6kJcYgI9JcBO+V7A3+WUhNhAX7o/WI3nDp5AjkL5iMxprKC12uuW3mej9C+YsLDMP6tsTj800/YvnUL2rdqwYG1Jg3rY8G8udi3dw++/99B/HL0KL7Ytw/NMxtZ5RiDfb0RFRKEiKAAkz8LQT5eiI0MNxHE3GHqZ5p/PMG+3ogJD0NCdBTiK0ciIjgQgd6eiq9H5dBgJFSORELlSEQGByLIx0vgeI1vK8jHC5HBgYgKCTL63LjIcPR8sSsa16+LyqHBCA8KQIi/L2/fpgUBTsUWAY6EDAFHBzaGEBKtckJakB/efW0kVmUvwOfLluDs6T/w8MEDPH78GMXFxfh27x7UjY0yCjjsiPdUYfZHH+D82T/x+NEjFBcX4+HDh9ixYT1W5yzEyuwFaJaRglh3F87xVPHxQIf6dfDemNewNGseNqxehU3r1mLJwgWYNO4tdGzeDAkhQYJuzwvNm2LPjh347cQJfL5qJebN+AwzPp6KjydPwvsTxuPdt8YaxPjXR6Nnxw4I9XBDfEgQXunbB7u3b8PkCeNRLT4WVUKDMWncW7hx4wYmjR+HMC8P1EhMwAfvTMD+PbvxSp/eCPXyMNJ+/iw6FOUTGcmJWLIoG0+ePMGJ48fQrmVzBa8Xvm7l3fbeuX07nDt7FsXFxXj06BHWrFqJailJ+htxwzq18PGHH+Dbb75G3r17KC0txdk//0T71i0tehyB3p6IjQxH9y6d8enUKejfpzdC/HwUbyMpLgaDB/bHgqx5yKxXx4RjkX+dxd6ryqHBeKFta7w3cQKWL1mMTRvWY/3atZg3ezZGjxiOxvXrIizQX3LbEUEBaJ7ZEG+/MQbZ87OwYtlSrFy+HPNmz8KoYUNRv2YNLYjKO96okCC0a9kcUz/8AG+Ofk3y2ob4+aBD61a4+PffOHL4MHIWzMfsGZ/h06lT8OHkSXhn/DhMePstg3j7zTdQNSXJ6LEQ4FRsEeBIiAM4blzXRgxIEn08kOLvgzrREdixYT1O/nIU9/PzoVarkZ+Xh0FdOioCnBZV07Bv+1bs2rQRD4qKAABFhYXo2LAeUgN9keLvjVht+ksX6SEBmDBiKPbv2I41i3LwzqgRGNLzRYx8qQ/mT/8ER3/8Eb8eOYwPxr+NGvGxBumtl7p1xbGjR1FaUoInT57g8ePHmnj0CI8E4yGuXb2KuTOmI9TDDVXjYrB4/jw8fPgQ165dxfrVq9CqQX2MfGUQzvyRi5d790TzOrWxcd1a3L1zBwUFBVg4ZzYq+/uKd2RZ+Gb7PEWwrzc6tGmN06f/gFqtxq2bN/Hpx1NYroGlr491AKdvz+64efMm1Go11Go1du/cgTrVq+n/px7k44XIkCD07vEizmjP9a+zZ9HBAoAT7OuN+KhINGvUAG+8NgobP1+HP0+fxqV/LuKzTz9GZHCg0W2E+PkgKTYGbVs0xweT3sO+vbtx+fIl/H3hAvr17FHun4vEmMrImj0bh3/+GZs3bsC0j6dg5vRp+Oarr5CXl4c7d27j2C+/YOLbbyG+cqTgNqLDQvDm6Ndw6IcfcOrECcyZOQP9+/TGKwP6Y/WK5fg9NxfffPUVXurVU9TpCvT2QnRYKOrXqolXBw3E8qVLcPLEcdy6eRObNqxH5dBg0XOIDA7EKwP6Iy8vDyUlJXii+655/Fjku+YRHj54gGtXr6Jlk8ZGrxEBTsUWAY6E2IATonJGpDYdVVkGmKQG+WHr2jXYsnY1dm3ZhNLSUpSWlmL/9m2o4uMhC27iPFwxYeRwLJ03B9mfTUPB/fsANIDTsnoGYtycDR0fLzeMHfwyfjp4AO+NGYV68dFI9PVEvKcK8V5uSA30xUsd2uLgl1/g9G+/4d3RI5ERFqRPtVVWOWHMywNx8cIF2deoqLAQ+3fvQmaNagj1cEOkrzda1KuDlUsW4+yZM7h+9Sp+PXIESxbMx69HjuCDieNx/NdfcOPaNZw9cwbzZ81Eo+pVOfU7ku3n5XwjkRemHpfx7rKkuBhM+eB95GtBubi4GD//dAipVeKfgfOWH7WqpmPH1q24cf06Lv79N8aPfRMxEWEGz2vTvBlOnjiB0tJSEcCRf62Dfb3xUq+e+P7gAfyem4vfc3Px17lzuHv3LkpKSnDj+nXMnD4NkRKplOiwEIwZNVL7+t/we24uLpw/j6KiIpSUlODy5Ut4qXfPcr2W4YH+WLdmNU6dPIlhg19BSnwcokKDUTk0GMlxMZg0cQKu/Psvnjx5gps3buCzTz9FSkIcAlhpq2Bfb7z1xhj8eeYMrly5grFjRiMxpjJC/HwQ6u+LmhlpyJo7B5cvX8bRw4fRv08vhPj7co6jU/u22LVjO3K11+XP06dx4/p1lJRonOatmzchOixE9DxiI8Lw7vhxKCwokPVdU1paivv372PWZ9Mlt6sLApyKLQIcAZWWliInJwfNmjVDRkYGbBkG4a6OnHSUHMDZsmY1Nqxcjn7tWqNAe3MqLChAp0b1ZG2jdkwkNq5cgSE9XsS0dyfifn4+AGnAqRkVhq/27MahA9+hV+sWSPB2F4Sgzya/h0sX/8bGVSvQsnq6/txi3JzxwdjXcevmDdy5dQt/n/8L586cxrnTf+AsK879eQbXrlxBYWEhDn77DV5s345T2xPu5YG44EA0qJqO14cPxZ5t23D1339RWFCASxcvYtumjRj1ysuonZyI6AA/hHt5iBYp8ycrP/uwY4lw19+EWjRuhP1796KwsFDvfvx7+TLeeG2U7O09jXoi/j6DfLxQLTUZfXt2R/tWLURvUK2bNcXJE8cFAEf5+x3o7Yn6tWpi5NAhGPrKy+jW8QUM7NsHX3/5BdRqNW7cuGEUcMIC/NCiSWO8OWYMBg8cgI5t22BQ/364fPkSSktLnwrg9HqxG65fu4bbt29j2ZLFSEuswqm5SYyNxpJF2cjPy0NpaSnOnT2LQf36cmpiGjeohx/+dxBPnjzBrh070KxRA07dS5CPF/r27IEjP/+M/Lw8rFm1Eg3r1OIcR82MNAweNADDh7yK7l06o1unF7Bq+XKo1WpZgJMYUxnz5sxCwf37uHb1Kv46dw5/njltEOfO/om7d+/iwYMHWLdmNTKSqsi6TgQ4FVsEOCJSq9UoKSnBiRMnYMswiHR1VJRaYgNO7egI7N+5XfM/kJISrFmSgzhPldFtvNy1MzatWoEmaUmY8vZY3M/PAyAAOK5lr+nYsC5+P3kSF8//hRF9eiLZ31tw228NGYy/zpzBFzu3o2PDuvrHk/y8MOP9Sfjlp0P49N2JeKlDO/Rq3QI9WzUvi9YtMKp/P+zeugXHjx7BiAH9EBfoZ1DPE+HjhbppKRg7cgT27tyB61ev4n5+Pi5fuoTtmzfhjeHDUCs5kdOJZaxLi+/sBGrD3Fk7xgDAX3JtHuuBVkx4GEYOHYJDP/yAndu34eHDB1Cr1SgoKMCWTRuREB0leg7PUpG07lgCvT0R4ufDK8p11z/H30sKcEyLIB8vhAX4IdTfF2EBfmjVtDH27t4NAAKA464/DvY2gn299duICApAlw7tcOnSP08NcD6dOgUFBQUoLS1Ffn4+unfphFCWuxLo7YlXBw3EhfPnUVJSgkePHmHm9GlIjo/T//zDyZNw5d9/UVJSggVZc1E1OdFgP62bNcHe3bvwoKgIx48dw+CB/RHOqukJ8vFCqL8vQgP8EOLngxrpqViUvRAAjAKOv5c7UqvEY83qVfjl6BEM6NcHXV94AZ3ateVElw7tMXrEcJw6cQIHD3yH+jVrCBRQC/8OEuBUbBHgSEiXorJlGESZAThpwf4Y1rsnCvLzNV/af55Bh3q1pdNTnipsWLkc744ehWR/H3w49g1xwGFFz1bNcfaP3/Hk8WP8+tMhDOvdAxmhgZznxrg5Y8q4t3Dp77+x7fN1aF2rWplrFB2J+dM/xepF2WheNRXxnirE8aJmVDgmjByOb/fvw+TXRyM50Fc/uyfM3RVR3p5oWrsWliyYjxPHjuGfv//Gr0ePYOnChTjx66+YOuk9/HrkCP69fAknjv2KhXNmIbNmdaOzeaRm7XAg56m5O+68P83bTqC3J2plpCNr7hzs2LYNA/r1wc8//aRJUz15glMnT6BHl86ythno7YVgXx99+iEswA9BLMgI8fNBWIAfwgL8EGyk4DbY15uzHfbzQ3SPCXQV8fcvVnwqDTjmXdsgHy+0bJIpATjGI9TfF53LCXCEC+09MPmdicjTujMPHz5E1xfaG1zPju3a4vixX/HkyROo1WqsW7MaNTPSEejtidQq8di0YT3u37+Phw8f4tOpU5AcH2vwGW5Utw42bdiAwsJCXLt2DZ9M+QjJcTGix1stNVk24AR4aRygrZs3Ye7smQj190WInw8nQv19kZIQhzkzZ+LokcNo3aypou4qApyKLQIcCVkKcFKD/NAgIRYHvtiH0tJSPHjwAHOnfiRZi9O9eVN8t38fmqVrOqTkAk6z9BQcO/yzvmDv2r//YsOKZejfsT2qhgYhzsMVbWpWw57Nm3D29B/46O2xqBEZpn99gyqxmDL+bUwcNRxpQX4G208J8MGr3bth9+aNmPH+JGSEBCBaxZ3ZUzM6AtmzZuJ+fj5uXLuGLevWokOzphgzdChO//47Xu3XF+2bNsaWDetx984d3L1zB3M/m47Kfj6CUKMUdiyxZIQUeJRXhAX4oXuXTti7ZzfGvzUW1dNSMe3jqXj48KGm2PjWLcz6bDoqG6lFCAvwQ+cO7TDl/cmYOW0aFs7PwpJFOejd40VUTUlC7+7d8OH7k7Egax6WLMrBlA8m48VOLxjUbAR4eSAjKRGTJk7E9E8+xrw5s7F00SK8NnwYIoIC0KpZE0z96ENkL5iP9yZOQIPaNfU3o7o1quHdceMw7eOpyJo7G0sXL8LoEcMRHxVhcCM32cERWAiWH8HenmjVJBP79ICjqcGJCg40+LyIOWDKAMf8z4zQcaRWiceaVSvx86EfMXvmDCTHxxq4Gl07dsCpkydRXKwBnFXLl6F6WgoCvT3RonEmvvvmGzx8+BB5eXl4/913BEcP1KqWgVUrliM/Px8PHjzAimVLUTMjTfRY5QOOO4J8vFCnelXMmz0L/Qyun6bQPSokCGNfH40jP/9sUrcbAU7FFgGOhCwJOPGeKnw0bqy+o+rojz+gedVUwdcmeHtg5cIF+OSdCfoUEx9wWldLR5yrI2JcHDiR5u+N5fPm4O7t2/qivKLCQvxx6iRyZn6Gt4YMxoYVy3Dyl6NYMH0ammWkcrqwqni7o3Z0BKpHhBgAVJyHK7o1zcTmNauwfME8NE1LRrTKsGU+NdAPI/v1xv4d2zFt0rtonJaMlLAQTHrrTdy4dg3vvf0Wony90aBaBj754H18sWcPXn2pb9nQQhOHDLLXydJBj6WcHWWTVy3j4CTGRuPdCePx5f79aNuiOaJCgtCvVw99h9Gjhw9x4Ltv0ahubcntRYUEYdSwIdi3Zw+uXb2KosJCFBQUYOf2bVi/bh1WrViODya9h7fffAMLsubh9Ok/cOXyZaxftxbtW7fkuDENatfElo0bcOL4cdy/fx+FBQVYs2ol+vXqifVr12LOzBk4fuwY7t29i/1796B+zRoI8vFC2xbNsXH9epw5fRr5eXkoKirCutWrkJFUxeDGLMvBEYCXQE93BEnUcIVoa8PaZDbCfi3g3LxxHbOnfYrYoICyz4yRz0t5OjhiEejtiYToKNRIT0VsZLiBqxHs643Xhg3DpX80x1hQcB8fTn4PVbQpzRc7dcTRI4fx5Mlj3Ll9G++OH6f9Gfd8q6elYNnixXq3aOvmzZKfN6UOTnhQADKSExEdHmrwOxDq74u+Pbrj6OHDmDRxgqyiYgIcElsEOBKyJOBEq5zQvGoazvyei9LSUhTev4+xQ17h1uK4OiLWxQGdG9TFgf370LpaGuJVToh1ccBHPMBpXzUVVZwrIcHJnhOJLg7o0bAevtm5A4X370NdWqpPady7cwf//vMPTv1yFJ+OfxtNEuNRxd0FsS4OiHVxQLSLgz6FJeQONU1LxrJ5c/Hd/n0Y1KUj4kXqiGLcnJEW7I+m6ckaUPJwRbXIMCzQdoItWzgf4e6uiPByR3JkOBpVr4YqocEWmKhsuF6Y0TSW2e6O9VydZo0aYuuWTViQNQ9VoqMQ5OOFejWrY/PGjSguLtbcXC9dwqhhQznpJoOboY8XkuJi0CyzIfbv3av/bF+9cgXj3xqLujWqITYiHJVDg5ESH4eRQ4fg3r27KCgowM8//cSZ8RIRFIB6NavjnQnjcU/bifTjD99jUfZC9OnxIto0b4bc3N80HUo3ruPl/i8h1N8X0WEhqF+zOhbOz8K9e/egVquxacN6VE1OlA84vPctyMNwSZBgI7Vc4V4eaGsEcIy5gaF+Pk8NcPigLTbMr0pMZb3zUlpaiiOHf0bHdm30gxX79OyOk8ePo7i4GLdv3cLEcW8joXKUwXaqpSRjyaIc5Gnfsz27dqF5ZkOLAY7YOQT7eqNZowb4+ssv8OX+/UjR1g4R4JCU6LkFnKKiImzcuBFDhw5F27Zt8cYbb+DatWv6n9+/fx9jxoxBZmamPtq0aYO1a9fK3oelASfOQ4X50z5BsTYn/sO336BGeDBiXR0R4+qIWOdKSPNwxexJ72LBlA9R3c9LDy5T3xiD+3kswMlIQZJzJVRxsjeINHcX9MxsgK91kKPtvNE5Og8fPMAPX3+F4V07o7qflx6U4pwrIdbFATHa49FFtKsjqoUHY/IbY5B7/DiWz5+H6hGhwufOKnjWOEPOiHZzRq3oCCyZOxt3b9/G+uXLUFnlhAiVM8LdVYj0dEeYwRITEstKSK6fxV31XWp9rGejbkc4KoeFYNSwIfjfgQMY2K+v/iYQFxmBsWNG48b165oW/aIi7Ni+DbGR4UZvIlEhQVi2ZDEAoKSkBLt37DD433+gtyeiQoOxdtVKlJaW4vGjR9ixbRtn4nCQjxf69uiOa1evoLS0FDdv3MDUD95HXGQ40qokYNOGDbhx/TqOHzuGlk2b6B2gIB8vTBz3Nm7cuKEYcAJFoEbMqTEVcIx9ZoI83BDq54Mu7Z+ug2PsvR7Qrw8unD+P4uJinDn9B14dNIDTkj+wbx/k/qYB0Vs3b2LC228hQWBWTtWUJCzOyca9e/cAAF/u34/WzZuKgpUpgCN0/MlxMViYNQ/Xrl3D0MGvKJ7KTIBDYpjnGHDu3buHRYsW4aOPPkKvXr3QvHlzXLx4Uf/zO3fuoFu3bhg8eDAOHTqEQ4cO4fDhw/j3339l78PSgBOtckLL6hm4qbs5FRbi1Y7tkejioIeT1ilVsHPdWrzUoilSVE76x8UAJ9HJ3iCaxEZhyuujceynQ/jlx+/xy48/4NaN6ygpKdGf14OiIvx66EdMeGUg6oYEIFEAlKroXCE3Z3Rvmokvd+7AmdzfMGHYEMS6OSNa6pq4cv+d6OuJni2bYcb7k9CzVXODtbc0RcraJSaMQI3UDUzqOVLt55aFHfNBqX6tGlixdAk2bViPdFZLrK5t/PBPP+lnK104fx6d2rUxus3wQH8sXpQDQAM461avFr1xvNi5I0q17t+9e/fQojF3uYSe3brg6pUreieof5/e+rWjMuvXxahhQ9GpXRtEBHEH6I0b+6YezuQCTsdWLSXTTkpcPinAkft5ifD1Rrd2bfXpHyWAo6yzTcnnqGw4Y6O6dXDwu29RUFCA47/+isEDBiAuKoJznQe91Be/a522W7duYeLbwg5O1ZRkLMnRODgA8NUX+9G2RTMTAUfe+YT6+6LrCx1w7uxZ/H3hAtISE2RfB/71JcCp2HpuAUfXxl1SUoJDhw4JAk6vXr2wXDuTgR1K9mExwNE6IVU83bB55cqywX9bNiHdwxWJTvZIcnHAuEEDsGZ+FhpFhiGRBTByAadhRAiWzvwM5/74HbvWrcWrHdqiR4O6mPL6aJz4+Wc8fPBAfx0ePniAH778AoPbt0Wa9hj4UcXJHrWC/PD+ayPwz/m/8OuPP+ClVs0R51yJU/ujOz9O8K5JFR8PZIQEcoqr+QuMRqqcEebuijB3V/1k5RDRxUNNC/5NUXYqywB+rOP4RAQHon+fXti/dw8mjnvbIP2UHBeDmdOnobi4GGq1Gnl5ecienyV402F/4fMBZ+2qVaLHkJGcpE8lPXnyBBPHvcXZHhtwfs/NRcsmmfr9B/v5ICokGKFa14d9DIKA4+XBubZtmjXhAE6nVi0s9t4rARyxz0qkrzde5AFO/949zYJjfy/D98uUz1jNjDSsXbUSN25cxxf79qJvzx6Iiww3+Gy81LuXtgC5GHfu3MG748fr63PYUT0tBcuWaGpwAGDfnj2c91oZ4MiLuKgIzJs9C0VFRfj2m28QIWPKtFgQ4FRsPbeAw1Zubq4g4LRp0wZpaWkYNGgQxo4di02bNuHBgweS23ry5AmKiopQVFSEwsJC5ObmWgRwdHUuCU72GNCqOe7cvInS0lJcv/IvXmrRBEnOlVDDzxu71q/Dm/16I83dhQMacgAnycUBMyaMw6Xz53H44AEM6dgeNXy9kOrmjNpBfnixXm3kfPoxzv2ei0cPH0JdWor8e3cx94PJqBcaKAg4ic6V8EK1dGxbvRKPHjzAwX170TYt2aD2J87JXn+OsadvarMAACAASURBVGzokXGtxFZRj1Q5I1y/eKhKtnsjK9wNb1xSqSx2mDtzx1hUTUnC7Bmf4a9z57Bz+zbMmzOLE9nzs7B/716UlJRArVbj8ePHOHrksMEQNn4oAZzEmMr4++8L+snJOQvnc37OBpyjR46gTvWqnJuemFMhBjiBHm769FO7po1x6jgLcFqWJ+CoOH8Kfd74gPPvpUsY2KsHF44t9FkwBkTsf1dPTcHSRYtw/q+/kLNgPpo2rI/IkCAEensiLMAP4YH+2vfIHb26dcWxX3/BkydPcO/ePUx+ZyKqCHRR1cxIw4plS5Gflwe1Wo2d27ejcf16osclDjjyrkmQjxca1K6JC+fPa7u2lrHm+yi/rgQ4FVv/WcApLCxETk4Oli5dig0bNmDy5Mlo1KgRJk6cqE/V8FVaWopp06YhNTUVqampSElJQUJCgtmAkx7oiwRW2qd+WBD2bFyPkuJiPH78GKuz5qG6rxeGde6IL7ZuRrP4aAN4kQM4zeKi8b/9+3D31i0smvYJmsREIdGp7DkpKic0CA/B8C4d8eW2rcjXLmi4ZcUytE6uIgg4qSonjOjWBadPnkBJcTH2bdqIuiEBguksdlorzsne0N2RATlCEcF3dUy+wRl/rWFKQmXldBY3Qv190bFtG+zeuRPHfv0F27duweaNGwxi184d+D03F2qtE3jt6lVMfPstyVWtlQBOlZjKuHD+vN4pXZydLQo4P/90CNXTU2WdHx9wqiUnItjTnXON24sBjmTtlfmAIz6SgPu5EQScnj2sMm1bbkorPTEB2fPn4+iRw/jo/cmokZaqb6kOC/DDgL59MKhfX1SJ1kBM+1Yt8eP3/8OjR4+Qn5+PDya9h8TYaIPt1qleFatXrsD9/Hw8efIEn69dg7o1qpkAOPLOIzI4EKNHDsfjx49RWFiAjz/6UHFrOAEOSaf/LODo/uepS2MVFBRgwYIFqFGjBv744w/B7ajVavz11184ePAgDh48iAMHDmD9+vVmAc7GFctQ3c9bf/NPdLJHiqsjJrwyCHe0Cw/+cfwYXmreBDvXrcYHo4brU1ZKAadXo/o4dfQIrl66hA9GjUDdQD8kV7LlhoMdqnuoMKhFc/z0zdcoKSnBrnVr8UJaMpIq2SLRwRaJjnb6bVb39cQnY99AQX4+SoqLsX3NKgN3SSitxXZ34lnujqiz4yoOPhxXx43l6ljKzVEQYoWnBg6P4i9jTQ1FbGQ43hz9Gr7cvx/DBr+MmhlpqJGWahD1a9XA2DGjceuW5jNUWFiIbVs2I4M1jZZ/c1QCOCkJcbh7544+RfXBpPekASctxfiN2tMdE94sA5zN6z9HjaQqCNECjgZAVeKAY4GQl6LSHIcY8EgBDvvzESTyWbD0hOnkuBjMmTkDX3/5JV4fNRLpSVU4heMx4aFYkpOND9+frJlt5OWB2tUysGfXThQVFWkH/X2kHfTH3XbDOrWxcf3nKCwowN27dzFvzizJZRLMBZyE6CisX7dWv+bUuDdfFxnsJ/47xr6+BDgVW/9ZwOFLrVbj2rVrqF27Nr766ivJ57E7js6dO2cW4Gxavgw1/Lw4gJPoZI/mCbE48r+D2jk1Bfh6x3YcPvAdmifECNbWCAKOkz0SHez08NKnYV2cOnIY1y5dwpRRI1Df3wepdjaC0dDfF+sXZKEgPw+fZ2WhVVQEUu1skGJvg+RKNvptNqscgVVzZ2tWFn/8GJuXLUWyi4MGgnQhADh8R4cDO86VEKut4THm7vDdHB3oRGhBh5PCMujEMg1gZDk87tKdNoHauSy6MP6/ec3PGtSuhUXZC7Fy+TLUykgX/VIP9vNB00YN8O03X+th/s/Tp9GzWxfRL3slgNOuZQt9jU9RUSHa84btKQIc1oyaiW++oQecLes/R83EKgjVA44mrAE47Dk4ooAj0yESAxzO54P1edB9BjKSEvHR+5Mxb85stG7ezCJwkxgTjc8++QS7d+7AwH59kZGchMqhwYgMDtRESBCaN26EH77/Hh9Mek/v4EQGByJ7fhbu3LmNkpISZM2dw4FjXbRs2hh7du3EwwcPcO7sWYx9fTRiDGbWWA5wqqel4OSJ41Cr1cjPz8drw4cpmlzMDwKciq0KBTg//vgjUlNTcfDgQVnbFSwyFnEaypwIzQ07NdAXW9esxmYt4PAhIEXlhGnj3sKDwkJNLUxeHuZMflfQvTEEnAJ0SEtBsoMdku3LoKV5eAj+t2c38u/cwdo5s9E2Nhrp9rZIs7MxiKbBgdi2bCkunv0TH48aifrenvqfsUGoW0Y69m/coB0s9wAbcrKR6lQJSZVsNeFgi0RHe24ogJ0Y1vwdubU6fFcnwk3bgeXGAh0Z6ShLgZCx1mJJ6GF9GYf6+2JA3z746osv8Obo0YgICpC+ucVG45MpH+mHR967dw9Zc+egcmiw4PP5gLNzO7f9WxdhAX5YnJON0tJSlBQXY8+unZxFGo0CDmvwng5sdNfhHQHACfN051xbYcAx7z2VAzhy67ukAIe/P915h3p5YHFONq5fv447t2/jp0M/oqYBwCqLhOgofPLRh7h06RKuXr2CI4d/xv8OHMDB777Tx6Efvsdvp07h0qVLeOv1MYhltYr37v4iTp08gZKSEmzdshmZ9epw6qiCfLzQ68Wu+OnHH1FUVIS9u3ejXasWksBhDuAE+3qjVbMmuPj33xrAycvD0FdeNqlFXLeeGAFOxdZzCzilpaW4d+8eLl++jKysLNSrVw/79+/HtWvXcP/+fVy8eBHfffcdLl++jOvXr+PgwYPo0qULmjVrhlu3bsnahyldVHGeKiT7eaFRYhy+2b0TX2zdghYJMajq5Y4UVyfOzb9VcgIunP0TarUaF/86h251ayHJxUH/82RXR6S5OSPN3QXT3hqLAu1q4g8KC9GtWgZquDihurOjHmKqOVbC1BHD8c/Zs/jz5ElMHT4MzUKCkGFvi3Q7G31k+vth0qCB+OXgQexcuRK9a9VENcdKSBcAob516+D7vXs0reWFhVg3by4yHOz1IJRib4Nke1tN6IHH0NURa0OP10Yc29VRADr8VvMIfQpLyM0R+re8myYfaIw6PGLhrgkd9AR7uiPMzwcxocFoUq8uFmbNw8ED36Ffr56ICgnS3kwMnZ8gH29Eh4eiT4/u+PPMaX0q6ddfjqJh3dqaxQ9Ziy/yAUetVuOfixcxsF8fDryEBwVgQN/e+Oeff1Bc/ARHjxxB5w7tyrbj7amZMNuzux5wjvz8E+pVy0BEgB9CvD31QMM+7zAvD0T6emPSuLdxUzsHZ9vGjaiXnoYIHy+EerghzNMdkT5e6NSqBX47eQKlpaU4f+4cXmzXBpG+3gYgJBo8JybM0x0RPl6I8vNBdIAfXmjeFF/u3QMAuHnjBubN+AyJ4aGI8vNBpK+34ETtME93RPn5IMrPB3HBgejV6QVc1gLOlcuX8Wq/vpqf+3ojSnusnNZyb0/knjqld4cLCwswdsxok+EmOiwEH0x6Fxf//lufhi8uLjaIUm0h+j8XL+LVQQO18KtJh8Zru5VuXL+Oc2fPYsSQVznuTEp8LD6dOgWXLl3CubN/Ytybb2hn5ZR9HgO9PRHs643QAD+EBvihdrUMLF20CADw6OFDbN+6BQnRUZqf+/tKrnMWGuCHbp1ewL//XgYA5OXdw6CX+hHgkEzWcws4hYWFmDZtGmrVqoWoqCh4eHggJSUFnTt3xsaNG3HgwAF06NABTZs2RZMmTdCuXTsMHz4cR44ckd0qrhRw0oL88M6oEVizKBvb1q3FlUsX8e/Fv7Fz3Rp8nr0Q7w0bwnFzUlROWDZrBh4/eoR12QtQO9CPAwQjunbGijmzsGZ+Fo7+73949PChfvjanrVr8HnWPKybOwcvVIlH1Up2SLezQcuIcMwZPw6///ILfjtyBBsXLsRHw4ZiTJdOeKNbF0wZPhTr5s3FT199iU052RjcvCnqerpzAIgdvWpWx7c7NCuh5925g6WffIwM7b74MFSW4uLBjoJUlq5ex6D1XKG7E6HigY4lUlgWKHINddeE7sZXNT4WY4YNxcplS7Bn5078de4cLl26hH179mDm9Ol4oU0rA+enckgQunfpjMU52di2ZTOuXbumcVtKSpCXl4ftW7dicU4O5syagaopSXpHhQ04paWl+D03F5s3bMDM6dMwsF8f9OvZA59OnYKjR44gPy8PO7ZtRa9uXRHJWqepXrWqWJiVhX1796Dg/n1NgfOVK9i4di2WLFyA7h3aI9zLw2BGTZe2rbFgzmwc+v57FGlXwT735xlsWLMaA3t2R1xwIJrUqoGpk97Dji2bcfPGDZSUlODu3TvYs30bPp48CY2qV0OYAHxIRZinOxpVr4bJ48dhWc5CLF+Ug51btuDvCxc0E8ULC3H8l1+wcukSLMtZiKyZMzCoZw/EBPrr3+9wb080rJaBZTkLsSxnIVYsXoS9O3ciPz8fJSUluJ+fj6/378PSnIVYmr0Qcz+bjpb163KOI9zLAxvWrEFJSQlKS0vx6NFDLFuy2GTAebl/P5w5fRpPnjzRj5yQitzc39Cja2eEBwXoASfQ2xNNGtTD0kWL8PeFC/j+4EGMe/MNtG7WBC+0aY3pH3+MkyeO4/fcXHz84YeomZ5m4N5kJCVizMgRWJyTjcU5OVi/di1+O3UKpaWlePLkCc6dPYuVy5dhcU4OFsybh9EjhxtAki5C/H3xQtvWuPTPP1CrS3H79i306CpvMVk22LD/TYBTsfXcAo5mfZUC3Lx5kxN37tzBgwcP8PjxY9y7dw+3b9/GrVu3cPfuXRQVFaG0tFT2PkwBnAkjhmHJ7FlYPnsmPs9ZiM9zFmL57JlYPmsG3h0yGDX8vDk3+fYZKcj+ZCp6NqqPFFdHzs9GdumEZdOnYfn0aVg7ZzY25WRj86IcbMrJwcoZn2HFZ9OxZvZMDuBUrWSHZqHBGNq6JbLefQc7V67A11u34Nvt2/DVls3YtXoVlk/7FBP69UHnlCTUcVchnefwsKNxoD8+HjUCJ346hC83bcSQli0EnyeU3tLBji6dpagwWevoxDpX0qSw5DhoroaFyTrQCXdz4aWwxFwdY4/Lc3nkRrX4WIx+dTCy583FovlZWLF4EVYsXoRF87Mw7cMP0alVS4N0V3RwIHp27oTsrHlYOHcuVixejNXLl2P18uVYtWwZcrKysGDOHMz+bDqqJyfqi58jAvywJCcbgCZFtWPrVnRp1xZvvz4GMz79BIsXLMDyxYswf85sDB80EI1q1UBUUID+9cEebmhQNQMLZs/CoqwsrF66FGuWL8PKxYuRPXcOFs6ZjR5awOGfZ9c2rTD3s+lYsnCB/nXLF+VgUdY89O/xohZwauLDdyYie+5crFyyGGuWL8OqpUuwaH4WPnr3HTSqXtVkwJk07i3kzJuLBbNnIWfeXKxYtAhrli/D6mVLsTR7IRbMmY2Fc2ZjzrRPMahnD8QG+pfBiRZwlixcgOy5c7TnPw+rli7hHOOC2bOwYM5szJ0+DS3r1zM4lhb16mLG1KlYlr0QG9asxqrly2XdpIViQL8+WL1yBTZuWC8rpn/6MerUqMbqstMARqi/H+pUq4oRQ17F0sWLsGXTRmxcvx6btN1682bPxoC+fZCRnKh/Lfv4MpITMWbkcCzMykLWnNlYMG8uluRkY/WK5Vi1fDmWLV6E+XPnIGvOHMyZNZMFOIbnFOjtibTEBOQsmI/fc3/D2tWrZHfniQUBTsXWcws45SGlgBPn4Yo6MVFokpyA5lVi0YIVLavEoVFkmAHEpKic0CgqDBmeKs1jjprC4SQHWzQM9EPb2Gi0jYlG25jKhhEbjfbxsaitcjEAjhrOjmgWEoQuKcnoW6cWBjSoj/716qJntapoHxONeh5uqGpni3QbRjKq2duheXAgetesjq7JSajn4YZ0W0YScsScnSQHravjYOjoiLWbs1vO5U5OFitMDle5aKclsyBHZB6O2U6NrFChsp8PMmKjUS8tFXXTUjhRKzkRVcJCBReMTIoMR730NIPXlEUq6qSloLK/r/51lf19sZQFOJ+vXoVIPx+kx0ajUY1qaF6vDhrXrIGaSVUQE+CvL/5lR0ygv+Cx1k1LQb20VCRFhAmea2J4KOqkJhu+Jj0VKVERCPfyQGxQAGomJghuu2ZSFQ50KHHTYgP9UaNKAuqlCx83O+qkJiO1cqSBCxUT6I8GGemi586J1BTEBQcZHEeEtyfSY6NROzkRWTNnYPrUqSaOG3BHYkxl1K6WgTrVq8qKjOREhAf6i4JFdFgIalVNR4vGmWjXqgXatmyOpg0boGpKEiKDg0TTRGGB/khNiEOtqumomZ4mHhlpqJGehtSEOMm272BfH9RIT0XbFs1Qp3pV7Qwc01vtCXAqtghwJGTSJGPtCt9VJNwK0dCmcpLtbZCiBYM0EWfFIGx1wSDdlkGGTVlUZRhUs0BU1UYGw91+ug2j3a8NN1jgI+rscNJY4s5OvBZ0OI6Ogs62sjodJ4SzXR1e+ipEoj34WQ3j9UEamIvmA86qlbK2Kb1t4xAn99iftZAPu4aLvEq9Li44EF/t24u+XbuUtZN7iA2QrKhhmetAgFOxRYAjoXIFHEc7bct3GdikyQEcW8YQalgwootqDIPqZkY1ge3qoUcQeDSRZmvo6Ohhx85GCzrCtTqCjo5Qm7mCYYL8DqxwNxeECbWbs1NZZtbfWPxGLnQ87tLHKQdwyo5TCEzkTpOWkd4TO34LXl+zrrnS45N57BHenhjcrw/27dqJlKgI7nBAD2OQI9/hseYq99aDGONjFJRunwCnYosAR0LlCjislm9ZYKMLBS6NJQBHrtNjADsSaSy+q2OsA4vv6OhbzRUWI3M7sHjOjpu5U5Olb4TWWnJC6OYe5uWBtOgoNK1TC5vXfw5Au5r49m1oWC0D6TGV5XcoSYKMNACJnrMlirfZ27fQ9mTtS/a10cBNh2ZNsGHNagzt34+TAjSAHIs6HpaGHfnb03Uzmb4P846dAKdiiwBHQGq1GidOnMDq1asxZMiQcgGcJAdb5XBjW+bWWApiLA1BhrAjXaCcYiddqyMEOzrQiVXYeSWUwjIsThYqTDYTQtzdjLotlrwJxwYFYOQrg7BhzWr8fuoUHj96hEcPH+LMH39g7YrlGDN0CKL9/ax6HBZ1sPjXTuzvQv+25nkZ2VdSZDhmffoJPnrvHSRHRRhsy2AZENkgUJ5ujbI12EwHHMuAGgFOxRYBjoDUajXu3LmDs2fPYuHChdYHHEeue2O81qbMtXmW4EYW7DA82NGGUAor2d5Gu3yEeKs5vwMrzrkSYvh1OmbCTjhrarJ4KksEgMRARi7gSN28ZUZlf190ad0SE14fg0nj3sZH776Dj959B5PGjcP4MaPxYru2iPL15oKRyDHLARWLAI0xaOH8XGAUgNLwUHHa982BHrGfxQcH4qUXu6JuWoqgY8aej2QIOWIgw37cVNB5XlJayoMAp2KLAEdC5ZKi0tbe6G7qkoBjy3VtrAE3NVhhadgRqtvhFCjzXB1D0LGVBTq65SA4qSsTQEcIdiJVTnrQCZMCHk6YebM3FxA83RET4IfEsBBUEYgYdncSG3AEjlvwBi63E03/PBPcMGOA4uaKMDdXzvsiP8revxBtGB0fIPc9ZT0vzNMdMYH+gm307OsmvGCnNSHEWtu29nET4JCkRYAjIasDjqOheyMNOIYpKVPhpoaZYa6bw3d1+Okrfp1Oiq7VvJKNaOqKnb7S1+konaUjs2aHDTwRKmeEq1w4wQGf8oYbSwFSOaZ7pKMMYPjXWRcRKmdEqpw5743c4L9/Ydaqv5Jxzdkt+ebV5DwrQYBDenoiwJFQuQCOg53xjilWWooPNkoAx1yosSb0cB0dbqs5P30lmLoSaDPn1Oloa3SUdl4pdXi4Tk9Zaksswoy6P1YMa4CIycejcV/ErpMgwLiW/V0Hn+K/l9IAy33vuO9bmLXWODPifIV48FaopzZyxXBFgFOxRYAjITbgRFoZcIwWE9uY1u5dgyk/wDEVdvjpqzJHR07qykaTupKo02HX6LBXMzdIX5kJO+ybqRj4CIGQkANkzZCXVjMDVEw8rkgj18ooxFgghN63SO37wwEdKwCiUGqPvVgrzcpRHgQ4FVsEOBJ6VgCH3wZuDcempsKwJOwYbTUXcXPYjo6xta+E5unECi0HYSHgEUptiYUpaRVzQg9VRtwlUyLCxDQRG2CkwppwI/W+8Z0da7g6QoBjqZSV5TqZLOuwEOCQrCkCHAmxASfC1VHeF6yrI6JlA46dccCxVT6sz1SgqSURNXl/NxV6lKSuDB0d4WvEnaVjU1aMLHHtxYYHKl7/6jmL8oCq8gCRp33dIlXO3AJli6f7hAFIuMPKdLgwBB9LQofUwMLycaEIcCq2CHAkxAacUFfN/0zlAk6c9gZqvD3cVhhwdMsuKHRvlICNFNAoDaXAoxR09O3lrAnJUqmr5Eo8N0ei+4qfxtIBj65ux2C+jjXSWhQCv0vPyL54P+O7OmH8JT+sCDjCHVZP24lRCjvlBTju8HF3JcCpwCLAkZAOcGwYBsEqF0WAE+NcSe8SiAKOtj1cFHC0yy5YAm6sBTZygMeS6Su9myNQjMxPYaVoi5ENWsxlujtsl0fv7miBR7AFXU48bWigsFjoQKdsdIAFhkLKTGM93x1WBDik8hEBjoDUajWuXr2KY8eOYdq0aU8VcCwJN0ohpbZImOPsWNLR4ax5JZG60rg6PNCRk0IUSWcJrYklJwhw/nsh5OaEubnKq8sxsQ2fAzlP3cUxdVmJ8gIcSlE9bWUymjdAKGrznluVYZivGYYpZBgmj2GYrQzDVDZj3wQ4AlKr1fjzzz+xe/dujB07Vg84ESpn4/UFVgAcuXDDBx2lro0QzNThhRj0yAEfS4COeGu53PSVbdlSEApSWHKhRyzYwwf/k6HUySqvKGfQidSBjrsMN8eMBUd16aqK1Vml9BwJcJ4FZTKaN2A8owEadqhYz0tgGOY+wzD/YximDcMwnRmGyWUY5grDMH4m7psAR0KcFJV20JjRIkoW4CSwboTKAYdRDDimuDZSMKMklMCOJR0d/mrmXNgRd3RS7TR1OsliKSyFwCMXhuL/q8Er0n7aITjvyMoAJNRxpaQIWekyEbo5ORULcpQFAc7TVyajeQO6GnneRoZhbjEM4856LIJhmCcMw3xq4r4JcCTEARztOHhdG6wk4GghJ157UzMVcHT1N6YCTnmAjTmwYy7oCLWX6yHHRtjJEVvNXJfCMqzZsRcPEyCHwvqRoAMuOSlDK0EOG3REV6bnD/oTW+tLZF0uzgKdz209jjWDHJxnQZmMccCxZxjmAcMw2QI/+4JhmLMm7psAR0IGgOOuku/iuDoiluXimAI4clrDTXFvrAU2xmDHkqAjdl0MUlcG6SvhVnO2s5OidXeSRMJwgjKFpV0vSzlmoilDfv2UhR0eNuREqJyFnRyDdFTZgp+yXRx3gVXInynQMbfexrzXEuA8fWUymjfgBsMwJYwmDfUFwzD1Wc+J1z5nmMDrpzMMo2YYxsmEfRPgSEgIcHQujpxanBjnSoi3IuAohRtrujZicKPE1TEGOsbcHKFiZGnYMV6cLBTJlWxE4aeihmaatEia7xkDIyEAinOyR4x2JXpzV6MXcnM4kKNfgJULPJIpKiOrzxs4OYog53lcyFMeGBHgPH1lMAwzm2GYjgzDNGAYZgDDMH8wGthpqX1OXUbzJvUQeP147c+CjOzHn9G8yezowBDgiEoQcBS4ODHaNJVoHY6VAEfKuVECKHVlhiVdHamuKzl1OZKdV2zQYS8FwQ+h90Mm/FTUYLfkWx2MrAA8/ILwOAutRq8DHc7MHL2bIwA4YoXHbMARWeXd9HTV010Q0/LOTVkQ4Dyb8mQY5jLDMCe1/9YBTneB5+oAJ9DINidrn2cQBDjCMgAcD5aL4+YsDTly6nDMABxT3BulQKMEcpSCj5LUlbkDA8WKktOFQsTVMSXSjMCSqc+VHbYi58gHPEucq7lg5GA8ZNVFmVgjJebwxDnZc2p5TIEdfl1OuMpFsC5HzL2Rk7IK4UPOM5eqehrQQymqZ1kLGc0b48xYJkVFDo5CGQKOW5nFbMzF0X4Jxrg4lCvgmFNzYw7MmOruyE1bGZvQbKqrw1nkUyyN9ZyGbg0zsRBN25VHmABGyXqXyE4yJGukzEhlxbNgx1RXh12Xw3Vy5HRaCT+HvwK5dWpy+Nt4PuCJAOfZVTajeWOcmLIi44UCz9vPUJGxVSQIOHrIcUWknGLjcgIcc9wba4CNJR0dSy8BIVW3IxaSro/M4C+aWl7BP19r7IMDTMaCXfAtFTyHSG4IpcvMHQPA7tKKd7I3qxNLEHJ4KSs+tBh2U6lE3Z0QD5WZNTmmuCfWrOGR/3z+2loEOM+mvBiG+ZdhmOOsxzYwmkJkN9Zj4QzDPGYY5hMT90OAIyFRwNGmqowWG/MAxwByHO2QJLbYpgmAY4p7IwdM6skMazs6Shf3NKVmR0lLuiWg478SSkBIFigqBCA+CBlLhWlqf5QDD3+mkSmQwy8+1kCO+Yt2ijo5imtyngbIkIPzX9U6RgMoXRlNR9UrDMOcYRimmGGYZqznJTAMU8AwzEGGYVozDNOJYZjfGBr0Z3Gp1Wo8fPgQt2/fxtatWwUAx02fptJ9UUmlqeLE6nAc7cVXE7cg4JgCN3x4qS8S9Vh/KgEeY51XlmgttwboUFgXhJQBkHT6SyoNplt5Xj8OQMjhkQE6urRVtBToiCzkqYccN76Tw20DN5aiEpubo4EclYzFOZ8vaCHAeb40jtE4NXmMpnPqJqNZgqGGwHOrMZqlGooYhslnGGYbwzDRZuybAEdAarUaX3/9NSZPnoxOnTpJAk6k1m6WApxoV0fZgKMvNpUAHLn1N3JTU3zYMQY1csJcxXpfbAAAIABJREFU0FFaiCwHdJ5n4JF7btaOpw1ARiFIBvQIDXpMsbcRdncUFCNzuq4UujmG6SoF7g0LaMSKjzmLcz53a1cR4JBMEwGOhMRTVBrACWFBjrFUlSUdHEsAjjHnRi7AyH1MCHSMuThKQMdU2CmvG7cl4IKfonsa8bSvp0ngI5TuEgEedjpLzgr0/CnK8U720m6OrHSVDMjRz9IRbhtnw49mQrKKl67677o2BDgknQhwJCQJOCwXJ8LNeC2OYB0OC3B0UR6AIwU3Sh0aIZARAxwh0OE7SVKwY8lFPfk346fliCgFDGPnzr4Gcp+rJCwJQZYEI0XFzzLdnRR7m7I5PTJhR7fKvKluDqeFXHKhTpWkc8OBH3de4bHns+DklIfbQ23iFV0EOBKSBTjuKoS5uRhdn0qwXdyxrJPKoJvKTMBR6t7IqbexRBhLXSkpQlbi6FjqBmxph0UuWEit4v40wpoAZE3HxwB4JNrX2bU7HNgRgRz+elhx7InICrqrwo04OfIX5TScsyPdXaV0OKCl4aTsNexuKH8zQIcAp2KLAEdCRgGHV4ujOE3lqOmkEmwXl1lkrPs7/6apBHDYYGNtwDEVdITORy7oKL0BmxNK3BA5IGEM+J6FsBQEWTv1ZQnYKQMdeakrU1NWhpCj4gGOShRkjHVaPVs1OZYPNhwR4FRsEeBISDbguJuRphKbh2NmF5WS9JRcqGmgDfbfGwg8bkrdjlQxsik3W3PTMOa83pJwUl4zikwNU2DIlJSYpdNcYvU7Gfy6HYH0FbvlXKoYWfe7ri9Algs5rnJayCWmIBtZt6oirUJOgFOxRYAjISHAMbSG5U82jhdbXVwQcGyQbiM9M6U8AUcIaMSCD0NyHR1L30xNuaGaAy9KoMZUoCgvh82c90nsPZO6PkrB1FrAU5VhkMGITLUWGygoI22ln5mj0M0Jd5NZk6MAcAwg55lchZwAh2S+CHAkJMvBYRcbq5ylW8bFphqzACdNJuBYysGRW3ejBHD4sGOJlJVcwJHqwLJUWMuRkTNMUQmMlMd7JXf+kampLrlpLkultkRTWLZcV0e4GFkacnTt5IKQIzErRypdJQo3/AU6RSFHZeGJx0rC+vsiwKnYIsCRkCLAYa0yLvZlJTrV2MEOKfxCYxMBR2kNjrlwI/dmaknQMdXNsXbIdWCsDSq6aKgwrAWx5oKrHOiRCzxKQUfc0eEOEUyx47WWSxQgcyBHZk1OhL67yki6ir/quBIn5z+YriLAqdgiwBGQWq1GaWkpHj9+jJ9//tk44MgtNnZ1RJxQmsrRDkmVbEUBR2i8v6mAozTlIZZ6Erq5WdIpULL8g7XAx9QUklzHxRRYafSMhFwosgbIGgMepUXMJoOOVGu5jJRVtMxFO80ZBshPqYsNAyz/dFX5gBQBTsUWAY6A1Go1VqxYgc6dO6N27dqKAMdYmkp0dXEHW26aSgs4upWfjbWLC6WohCDHHMCxdFjKzXkaoSSFZAm3hQ0XmU85hEBHiSNkLOWlFGKVOjympLIMhgnaSrg5MlJWBm3kbMjROcCuhqATZkpNjkwQsvwCnXyQsT7U0GKbJLYIcCQkudimSJpKjosjlqbizMOxtdF/gZoCOGIujqmAIydVZWnAMfUGaG2QMRUI5TgwmTKiMcOgyVMMqWMz5vqY6vQocevkujumOjoGE5OFCpBFUlb8ycf6dJWMlJVFlnWQABzBFvJnIM3EhxZycEhyRYAjIdk1ODzIiXBzMSFNZY9kfppKwcA/oTksctJU/Bk4/Bu4ElgRgx1r1eiYCz3mFPWa4sTIgZjGRkIHGU2fUjSRcYxi5ybl+hj7TJhazCzl7shJYRlzc4QcHT7oiKWsDDqszEpXqXjpJ9PAR3hGjuVAxxxYIcAhKRUBjoTYgBMku0VTU2xsbIVxoTRVkmA3VRngyK3DMaWTylzAsVTIBZ3yDHNcmUyJkHJijIFGM200L8doJuO4hM5FDHqU1vaIAa+S+h0d9IilscxKW+kdHcO5OfqUlbGaHAXFx9JzcpRG2esNi46fDSeHAIekVAQ4EjIVcOTMxBHtprLnd1OZX4fDb3FWkqbi31wqCuDIdWOEgEbMdRGCmGYiIQYZLVjR8ilEC4ljEzsXIfARc37EgIfv9ihx9uS2o4s5OmJwI9RWnsEIFyDrU1YiLo7SqcdSTo6l0lVBHtYrOvbn/Wkt54cAp2KLAEdCbMAJdOdbwMaLjSuLQY7Y0D9Hrouj+5LMsDE9TSXk5Iilap4FwCkv4JGzb1PcGTGgEXNh5IAMH2paKYjWCkLuNsWOTQx+hJwfuU6P3FoesfdZaHFXua6OKY6OfnYOqwCZAzkibeQ62NEv1KlgGKBSJ0feOlb/jSUdCHAqtp5bwFGr1YKh9DnG9nHhwgXY2DAI8BBe5M7gMe3SDboFOMUAJ0ZoJo6jcJpKCnDKo9hYKZA8bfAxdZuWAhq5MKMUYowBShtWtDUx2vBCCRCxXR4p6BFLdZkKPMY+G0I1O+amruS0lAsVIKeyIcfRTrMeHR9yFDg5hpBjgoOjn5XD/U+cshk57lqnRT4ElUc9DgFOxdZzCzj5+fmYOXMm6tatCx8fHzRv3hwXL17U/1ytVuO3335D//79ERISgrCwMAwaNIjzHGNiA46f9pfdKOB4cLuppCDHwMVxFBn6ZwLgsEFHLuCY2+r8vIWxtFOmQAiln6RqZNgpJzGYYYcYzPDBwxjItDMj5ICPGADxYUcIesTSWcaKmfnvhVAayxzQMVaMrARyqjHikKNb4iHRwU7bSi68fpXcOTllLeRyO6vkL/kQ4u6GYHfejBwrQwkXfMzbHwFOxdZzCzh5eXlYvXo1srOzMXz4cAPAyc/Px4ABA9CkSRN8/fXX2LdvH9q1a4c2bdqgqKhI1j74gBMk195lTTbWtYwbQI5YsbGJQ/90f4p1UwktNVCX4cKO0s6h5wV8TKmj0YVYHY1Sd0bIlRFzYeQCS/tyDCVAJAU+Ovgxlt4SAh6pVnVjhcpKHR0+6Ih1WxkrQOZAji3XyUm2ty0DHVaXlSmFx6a0jxu6z+KQY+2aHMtCEQEOSaPnFnDYys3NNQCcXbt2oV69evjhhx8AaGDl4MGDSE9Px3fffSdruxzA8XQXTVMZq8WRcnEEu6kqCQz9M7K6ONvJ4UOOFODIrcUxFWbMXQbAHKiRM5E3UyDKA2jkgowQbHTQxgs20tFRYRjb3gusfRsDIGPQI5TeMhV2+O6OVM2OnC4sY6krubU5Yk4Ov/hYavKxkpXIlUKO7O8ybQS7PxszcpSktghwKrb+k4BTXFyM+fPnIzMzE1evXtU/r7CwEJ07d8aSJUsEt6NWq1FUVITbt2/j9u3buHXrFo4dO8YBHMUujrtER5WrI+Jld1NpanH4gMP+tyVbxi2dprIW6CjtdMoUCLmzZqRSTsbSTEJpJVkgY6MJ2QBjWxadFIb+tQoASHd8xqBHKNXFBx4lKS0+7IilsuSksOSmrkxxc8ScHIOUlcQaVnLTVRYfBMhzdHTpqiDZgKPkOYbPtUSNDgFOxdZ/EnAePXqEKVOmoGXLlrh//77+eQ8ePEC/fv0wc+ZMwe2UlJTg9ddfh729PSf0gKOFnGC51q+24DhKJZGmEiw2tuOsMM7upmKnqYylquQs3SA1+E8J6PA7ruSCiLkQo3SNpkxGOvUk5dbIdWiE3BkpmOnAaNyRFxhpeOmkCxaUdJYZXWwZdOVFF1YYez0HhljHIgpBjHzoMebwsIFHrrMj1nrO/9xJpa6M1eeYBTlCTo7EMED9sg5G0lW675kwVTks6aDYxXFXDC/mQg4BTsXWfxZwpk6dKgo4s2bNEt3Wo0ePcP/+fdy/fx95eXk4deqUIOBIuThcwNFMNhZ0cbT/GxNbgDPFXnjon5zBf1K1OHILji3dqWQqlJgSmSIhp+uJn4ISgxqplJMY0AillgxAxgjAdLFl0NXORjC6WTAE9yETgMScH36KSynwSMGOkLPDT2FJtZuLpa5MSVmZUpPDSVUJgI7cOTmVtc0N4c/pjBxLBgFOxdZ/EnCKi4uxYMEC0RTV0qVLZW3XoAZHJuAIpavkujhixcaWWIBTaarKnHSV2HOeBtgodWr4UGMs7cQHG6E0kxjQiIFMF1sGXWRCzIv28qJ7JW7IfZ0c8BFygfSpLzHYEUhtGYMdsZZ0MWdHTp2OVOpKKm1lrJ1cqZNTNvFYPF0VY/K6VcIt5CG8P+XAjc7FeR5m5BDgVGz9JwEHAHbv3o369evj+++/B6CBlQMHDiAtLQ0HDhyQtV1BwDEFctxV0sXGEmkqocnGSgf/CRUcm1uPY6qTY033JpORXr9JbIKwMajRgY1YDY1YukkwvWQjADKstFE3O13YoJsYqGijRyXx6GliSG1Tt18DANJDEIOuumClwTjQI5Da0l0voQJmSzg7UrU6xlJXYmkrOSkrY7NyBFvI2ROPBVwcpUXHxmbkKPmPGrsoWRByrJBiIsAhmaPnFnBKSkpw+fJlHD9+HBMnTkTt2rXx+eef4/fff9enmF5++WU0bNgQ+/fvx65du9CmTRu0bdsWDx8+lLUPA8Dx8tADjuxiYz3kSBcbC6apxNankgAcc9aoMqUex1TIYd9ULJl+Mset4aehjKWfxNJOHKgxkl4Sc2K6sxwXKXjp5WArGL1NCLFt9XKwRS8RANI7QhKuj5jL00kMeFjpLGMFy3JAR2zJCKHUlZCbI2fpByV1OYKQYyvg5JiZquLOyHGxeD2ODnQ46Sqj0OHO+zt/rStT6nrEX0OAU7H13AJOfn4+hg8fDhsbG05ER0fjyy+/BACcPn0aAwcOhK+vL/z9/TFo0CBcuXJF9j4EAUcXnu7K2izdVYhQiU83FpxszKrFEVqfSqgOR049jlDLuKkDAE1JV5kKOJkSYcq8GqnaGktATReZQCMEM3qAEYCY3g626MMOR030tXDotqvbjyAICbg/xqCHDTxd+MBjK5zOkpvGEipOluPoZPI+a0JrXhkrQlaSrhJe2oEFORI1OYJOjpGaHIPOKkuAjjvPyZEBOf4cV0cDJ0Iuj3znhwCHJK7nFnDKQ8YAR9zFEfjy4HVUyXZxBAf/MUYhx5iLI3fCsdx0lSkOjqUcGyG4MdYJJVZbI9XGrU8/CXQ3GaScZACNMMzYcFwVMYDp52iLfk7ceMnJFi852VkgDLfdT7tPA/hxFIIf4ZQXP8VlUNPDBx4ZHVpiro5UF5aQo2MsbWUNyDFYjVyg8JgzCFDAyZGTrtKlqiJVThrIMXVJBwkXh9NZ9QzV4xDgVGwR4EjIGOAECAKOSLeCDMCJESk21tTi2BoAjlSq6r8OOJaGG6H6GoPBeoyhW9PZRqANmw01dmVQ04MVeqDRRm8HTfRxsEEfB1v0dWCBDCteciqL/oJhhwFOdhjgrDC0r+uvD+522fvlH1M/R83xljk9mnPRnZs+paY9dz3kaK+PHnR4LeydtddXqGZHql6HP2eHX5T8rEKOzsnRAY6cVcg5M3KMAE6UkXqc8k1VEeCQrC8CHAmZBjgiDo4uTWViy3iSgy1nJo5uunEGIw05/AnHpnZVWbImx5zUlLHiYakCYrmuDRtqdGDTkeFBjY3hbJludoz+pv2iHRdqhICGnWbiODMiIDPAyZYDJQO1MchFPF42ElKv1W3fEIaE4YcDPCzo6c2DHjbs9GBDjwDs6Gf18GGHES5OFhoqKNZ9JdRezocc/swmJTNzzIEc0WnHApAjpyanskpe0bE5gMOBnGcAbghwSAQ4EpIDOIqKjWUM/hNeZdwOiQ62XBdH5+SYWXCsZD6OqZAjNvhPqXMjp4hYaZ2NDm4EU1FMmWPD7oAy7HoqS0F1Z7k17NRT70pl7owg0DgKg8xANsg4i4CKqx1eEQ17DJYI8deJwBDvmNjgw4EePuywa3kqGbo7PXjuDid9xYMdNujoUlb8wYJyi5Gl3JxMRp6TI1R8zIYck7urWOkqqVRVFSd7xOgGAcrorDJwckwFHf6kY349jgBwcGtwyh4Teh4BDslcEeAIqLS0FNOmTUNiYiJiY2MlAUfOZGM+5IQrdXG0RYYGtTistnFzAOdpODnGACdTIEwpIma7NkJLJvAdG36LdycBt0YHNfz0U0+WU8NOOfV1EE4z9XeyxQBnTfDdGDZYsKFjsKsdBrva41VWDFFZPl5VcfchBENiTlAZ+Iint8pSWpprxIEeFuyIOTtdea6OHngYQ9gRc3T4s3T4oMNf+kGqldxYusrcFvJUO9ZyDsY6q2S0jlsjXaUDHH09jiB0CIGPOV1UBDgkcRHgSEitVuP8+fPigCNz6QY+4Bhbn0oUcrS1OAYFxxZwceRAjpKVx80BnExGXlqKn5KSCze6G54g2DA8sGHBjW5GDdup6clyanpXYkGNow36OdpwoKa/ky3664FGE4NcbMuAxgBkNPGqyo4DH0N5MczN8sHfhyEAcY9RGHrKzlMHcuy0VpnDY1MGOrzaHQ7o2Nuw5gQZ1uvoQYcxBB2p1BUbdKQgRyxlJebk8GflKIGcDMYwVZVqJFUV51yprOhYBuRYOl2lSVOpOKkq/6ecriLAqdgiwJGQZIqK5eIEKklTGXNxxAqOHcucHE7buK3x4X9yVhxXMh/HEsXHcgFHTr2NUrCR6ooSc2x0bo1QTY2unoZfQ8NON/FrZdjOzGBXuzK3hAUxw1gx3M0ew90qYbhbJYxwq4SR/HCvhFEWiJG60G53hHaf7BjmpjkmIQgqc3xY4MNzeQbyanm4sMN1d3rzYEcwjcVOYfGLkhlxR4ffdWWumyOVrlI6J4ebquI5OQLpKiX1OPx0VZibK0LMXMohRCCCPdwQaEbRsVA6iwCHpEQEOBKSBTie7nrAkT0Xx12FMDeJWhxW2zh/8F+iox2SDdrGucP/lDg55kKOqTNy5K72LbdDSgpuxAqIdY5NJyNgI1Qs3JvV7aSroeG6NIYpJyGgMYAZHsjogg8wr/FitEcljPZwYAX/33LDcNt8+GEfVxn42HPAZ4gA8EjBjljBcl9WZxa/ZofdjdXNzgbd+NOTeY6O0DpYQq3l/PocsQJkoXk5QsXHShfplNU+LpCuYkOOEifHYquPC6SrzCk6JsAhmSsCHAkZBRwRyJHzBRDm7iq9fIPWxTEAHCd7w1SVreFsHDmAY6zo2BLrVvHBRveYEOBkCsANG3DktH+LDesTKiA2WmMjBDaVdCmoMsemrJ6mDGpedtHczLlQY8dJMZUBjX0ZNLBAggM0HmUQM8bDAWM8Kmn/1MTrnpYJ9jZ1wQagUR4ijo871/EZ5laJ4/Lo6noGs2HHtQx2NDVItgaww3Z22KDDT2GVgY5w6orv5uhARyptJTQcUCnkSHVWyXJybFiQw28fl0pXCdXkuJq2nIM5jg63HodWEyeVrwhwJGQIOBKQY0Kaiu3iCNbiuDiIto1ruqr4BcdlrePmQo6Qm8P+tzmQIwdwjNXciM21EeuO4rg2rHSUYY0Nt8XbwLERTEHZYiDPqdG7NOyUk1tZqmmEQGqJ78awIeZ1Dwe84amJNwVirKcDxno5mh4i232DFXwA0kHPax4OeqdnpIDTw09rsYuY9aksFz7sGDo77BRWb+0UZcH0lUDqSqjzSqw+h5+yEuq0EqrLUQo5clrIdQvrCrWPC83H0UFOgkwXhws5LlzAcTcTctzluDjuvD8tBzcEOCQCHAn9n73zjq+iSv//c2t6QhJIoSMgvfcihN6R3nsJLfTee0LvRbFgBZUuIqCIqIgoou5PXRDWta66a1cEQcjn98fMmTlz5szcuTfB/a7c83qdlxJuLiGam3c+5XkcKTihAk5CHIqqKo5d2NiyNs63qtx5Cx1b2VX5WSEPBDgZ5KwtJZttI860YXAjW4Apm2MjAxtDtVsIC/PNJzPUKGDDqzSa5cQpM0aYsQeZ6fxNjMCMxAjMFO6sfLjic85U/ywZBNlDj6I4idAjAo85u6Pndsw2lhl0+MGC2vRkAXR6ecwVcys1RzYo0AnkZNhAjriNPNgFncyqMthV4hDAPE46FuvjxTQlJ29qDq/iFE7IvyGAwYBPGHDu7BMGHJvjFHBSQl7AGYtiAcLGdsP/5NvGzXkcJ5OO87NCnt+AEwhunFhSfDvKLmfTV4Ub1uoR8zUmG0piP7FQcJZqPfFQw9tMUxL8mJpgVmWmF/AbIEYEkdnsJul3TlIE5ubhzkkyPh/7M6wASIQeK6VHzPVM4GCHz+6IuR0edEZI8jp29pWo6PBhZJOaQ/IQMoMcvmVlZVllUPB2VSjLOcU8TlWPsJhTouL8t+vjPOTcziGAVtATBpzbd+KIaBURvUBE35LySV5k8diaRHSCiK4Q0U9EtJ+I7rJ47HgiukhE14noEyJaSES+ED/GMODYHDngSKwqrjIenIoTq6k4tlkcm8CxCXLcuopjN+X4ds3JsVJxnAKOlXqTJ7iRZG34qcO9ZRkbP6fYSGwoZkHJoGZ8nAg0PkxO8JnUmekF/JihXlGNmZ0YgTmJcnCZlxSB+eJNjsCC5AgsSParN8LRnZ8cgfnJfsxP8mvPNS8pAvOS/CYAmpPk1+BHhB5e6eFVnikFFJAzAI8l7PiMIWVh/s4IC0VncADQ6e0gnyPL5siq5KFCjkzFCbY+LlvnYIIcFXQqRAa3zkFWHy92GyAnzQHgGGElb0AUBpzbd0qSAiuvENEDZA045YnoFyJ6lYjaE1E3IvqAiP5FRIWEx84lolwiyiaiDCKaTgro7AjxYwwDjs1xDDgh21SxjhtV0j1VVnkcLnQcCHKCtaucQo6diiNb1ZAhAZxQlBv2UzgfJGZgI8JNH6+yBJJlOWRgo8yqEdSaWI8hJMxDzYR4HybF+9T8jM+g0GhAI4CMGWb8BogRoWRhsh+LxFvQj8UhXvG5FgqAND85wgA/RuhR1R8J8MywUngMwCM0tTQbS8jsSOwrLavjUNGR5nO4YYGimiObhGxVJbfK5NxDgefkBJvH0ZUcMkFOBZtmVfD18WjngBMv/FMCOaJVlV/TisOA8985LvUSERUka8B5hhSFJ557WwkiukFEK7m3JRPRNSK6X3j/OaRAT8UQPsYw4NgcxxkcDnAK5yGLEyhwXJazqvg8TgVhyrGYx8kvyHGaxwmk4tgFjEXAcZK5EcPEvCVlUm28ejuqLw82ERLFJooDm1gPRsV6MSaOaz7xmRoVaCarqoUBahIFqOHAYG5yBOZpSooKFQX9WFhQgRYZuCwp6MeSQvpdqt5l2vVx/25/lxYyPteSQsrzGwBIvQsLGuGHfczzkpW/Bw89zOqalaTDjgx4jHaW8nnUlJ14Lq+j3lGxXmTGKv89DLAT7cGQKK5mHsm2nrukoMMPDLRSc6yq5LJcTjBKjvj1I6o5Turj1QXIqaZCTqAZOcFkckryKk4elZw/y6oKA85/51gBjpeIrhLRfZL3OU5El7hf91efo77wuHT17XNC+LjCgCM5t27dwv33348WLVqgevXqzgGHq4sHBzjGwX9WKxxEyBGtKul8nDwqOVYqjl2jykrFCcaeCgQ3VusWxNk2OtwYwaYvN3VYDBAz1WYks6IcgM0U7pv29EQFagwqDZeTEYFmYcEILFLv4oIRCsRw8CJCyfJCfixPMd7sFD9yQrji8yyX/Hk8/CjQo3yciwoqH/uCgn4sKCgBnmQddmYl6QqPBjuJEtgpwIWUTbDj1WBHr53roDMs2mOYmMxUHZan6qeCjnFYIAc5XAjZLpcjVsnFWTkZIUKO09CxaUaOlV1lsZgzmBk5JW9D6LhICCpOqGpPGHD+nGMFOOXUt4+VvM9qUpSZSPXXOepjYySP/ZaIdoXwcYUBx+Lk5ubi5s2beO+995wBDgc5QQOOExXHzqqymnIcRH08FMgJ1qaSAU6GBdyIdXCrAX4m5cZlDhOzhpSx9u022FEsQCxmbPgm1HgD2Ch5EparYcHgGTKVxpCTUTIyCwVFRgSZ5YV8WJ6i3OwUH3K4u4LdVP2uDOGuEG6O8Odkcx/D8kI+TRkSVZ/FhYwqz4KCERrwiOoOg52ZSSLsRGBaYoQBdCZzNXSzquMzNLAyY7ySMLLH1Lrqz5QcFXTYROQeHpepaXWvyzqXI7OrnFTIraYdy8LHopLDf+0alRyXAXLEPM7tgZy8TT3Oz1ZVGHD++8cKcBqqb+8jeZ/Z6u+lq7/eQUS/Wzz/R6QoPnYnhZT/yPztTGHAsTxBWVQc5IQGOAHWN3CQI1VxeCVH3Fflcb7OwWkeJ1AWJ6+Aw++Xkqk3dsqNzJZicNNfZklxlW+WsxnN5Wz4JpQYGGa5mplansaPOYk61Oi5mQgsTo7QgaagH8sKqmpMIT+yC/mRU8iPnEI+rCikQ8xK9a5K8WFViher2U013jUhXPE5Vqd61T9HuezPZh9LTiHlZhfSP26m+CxVra0lmq0VgUXq33sBp+zM4/M7icbszozECMxQP6fThLzOpAR5MFmW05GFkfXJyKqaw1lW+toHYwBZ1rIKFnIyyKzkyKYdi4BTTwI4gZpV1XmrSoMcixk5QWwfVyDHeSYn0Ovf7aiOhwHnv3sCAU5vyfswwElTf72DlAyO7HxERMcCfAyL1Ocz3TDgyM+fCjgJDqYbc62qsrJWldCsEgEnv/M4+QU4MvXGzpqyUm6smlKyvA1TbfgQsVm10cPDSnBY+YY7zQA2fiUkrLaO5nFgs0gGNQagsYIZHWJ4IFmb6sU60/Vod31a4LsuzYN1aebnWateKwBamcIuBzya0uMAdgoKsJNkhJ3ZEtgJCDqyQLIYRmYTkiONoMP2XDE1Rwwgi5DDlBwnmRwn7SonkOOkPl7DxedxXAHzOKHOyAklk2P1OhhsHicvYeQw4Pw5Jz8tqmjJY51YVGEFJ8jzZwNOMCqO5RoH1a6qbDHlmEFOMIDj1KpyAjh8gyrDAnDE7I109rHJAAAgAElEQVSVcsPaUhrcuK1tqf5+FwayuTZCQ0pUbRjYjFfrzIpi4xMUG7/WfmJgw5SaRRzULOOUGg1qJDDDQ8xaAV54QNkgvW5sTHNjk83daPm+AgSlciAkQI9B6Un1YmWqDjy2sFOIhx2/FHYMAeUQQIeflszP0pHN0DEOClTVHC+v5uhKjtX0Yyslxw5yQt1bZRc6tpp0XFVUcvJgVVnbVU5e0+T/zudxnFTHnV4RhsKA8+ecQCHj7ZL3OUbGkHE/9TnqCY9LU98eDhnn8wkVcEIKGjNfOz4GJdXpxnYqjmWriquOm6yqIELHIuw4UXGcAo6VPWWn3rCAp8GWkm0AV38K5ycS8/XvIRrcmOfZsBCxEWzkVpRmQ3HVbTPUKDmWFRrU6BaTrsioEKNeBh0bTdDiwqY0Fzbb3XTlblHvZvFK3kcEoQ3aNQOQAj3KXZPqMUAPgx0D8Kh/f5bfEWGHVdQXJvulFpY4b2cGNwzRTtHhBwdmxngwIoabihztMSz1HCiqOVqd3Fgj7+Iyh4+tlJxAax14yOFBJ5g8jsmqImslR5bJCbVZVSo2EsWDqY8HAJ/bnccJA86fc+xq4k8T0b9JGQzITnFS5tus4N6WRIpFJcLQLArXxG/LCRVwQlrboAGORaMqRgCcQK0qzaqS53FCaVblBXCc2lNOcjeiLdVVUG56CxOJB6qrFoaoeRuDJaVaG2zhJd+MkoKNzIbigsLLBeuJQc2aFAnQcDDDIIaHjy1pLmxNc2Frugtb0wjb0gjb0vPnbk0n5Xm5u0UAIaMCZASfdTYqj6jurODUHUNFvaBR2QlkYc0KoOiY8jlq24pVyrW2VZRSKTeqObJcjjmTw0OOlV0lq483I3no2K5dFaySY2dX2U07NgwCDLY+nhfIkeVx8lHJSQkDzm0/7YioBxENJeWT/Iz66x6kW03liehXUgYCtiOirkT0PtkP+ltORE2JaBopwePwoL/bcP58wFEgp1icRRZHAjmWAwBV0KkkW8rpCc2uCmRTBQs4TrM3slCx1pZS67083Gi7pLgwMQ83rP4tZm3Y5GFmR8msqPlJnA2VrCs2igWl208i1PAKjQxotqS5sFWAkO2Fjfe+fLiG50xXrhX88ErQJg54RNjhFR4Z7KxK8UqUHXNmZ7HEvpovgM6sIEFnbBy/3FOBHNk0ZBFyxOnHvF3lFHIY6DhdzinmcRoIX2tOdlYZIMdjDzkVIo0rHZw2q0qFADnS18P4WIut42HA+V85nxLJg72kTDpmpxYpqxp+I6KfiegAEZW2eM4JpISKrxPRZ6SoQuFVDbfh/DcAp0hCEFkcFXSku6o4Jcc0H0eojudVxWGQ05D7pwxwxAnGwag3UmtKmE5sUm44W4pvSY1icKNOIZ7AWVJTE3TVZlaiH3MS/QYralGyMTDMQ80qBjYc1GxI9WBjmscANFvTFEWGAc32dAFgihDuL0K4v6jx7ihKeKBY8HdHUfNz3V/UAoDS5eCjqEiK0sNUHrPCY7azeCtrlRpWXsEpO8zCWq5W0JeYVB2/NKtjl9GZxG031+bnWDat3NokZFOV3ELJkQ0ElO2vCpTHcQI5wYaOxSGAfCankpP6eBDrHPI+CDBWruLko5ITBpw7+4QBx+bkO+AIITt7j1rP4gQCnDLRfvmuKkMex2I+DqfiOIEcO5sqkIITyJ5iP/XaWlMu2YRifYifOJnYMLiPW7OgZG28umpTQM/azEz0q3Ns/Gp4WJ8ovFSdUZOdIlhQqR6sTfVgXaobG1JZfsaFzWmELRzMbGNqTBEdZHYU1a8GJsUJD5Yw3ofU+3DJwPch7vHi8zxYXLkGCOJBqIh+rcBnK3e3aMDjEhQetwF21gq5nVUpDHi8ioWVYs7raKBT0G+omwcCHU3NSVDUHH4i8mhxQKCq5ugzc/Tpx6ZMjgXksFZfB7LP5DC7KoOcDQK021kVUMmxrY/L7aqygayqmDyGjgW4Ya+Ft8uqCgPOnX3CgGNzQgWcoLeKW8i3xeOirC0qwaqynY3DzceRNqsCDAG0CxsHAzhiuNhKvRHhRlycqbWlPNZww+bbDOfgZrQ6kVgLEotZm0Q/Zql21DxVtVmoZmzYID6m2Kzi5s9oag2n0mxJ1y2n7bwyw4NMcSPIiPCys5T9feQu5QZ6nCMIYtBTnAMeBj0C7NzHWVwyW4vP8PB2lm5j6VYWn9kx5HVSfFieok9S1uwrfoggvxZCAx19jg4bGMhPRB7HrXwQm1bazJxIBXKYZcVq5AYlx+08eGw17TjDBnKsNpAHM+k4cOg4n5tVeVCtTa2qPEBOShhwwkc9YcCRnNzcXBw+fBiTJ09Gu3btggackPZRSQCnmN36BkmrytKqYnkcmVXlcRkARwY5djaVaFGJgMNvEJepN1bWlJVyo9lSaluql1ffBt5fYkuN0Gwp40TiiepcG121UdQAFiLm7ahlBRWwyeHzNalerNWq24pNsznNDDVMoWFKCQMJUY3ZWcql3UfucnYfLR34Mfzz8vfhkvqVgY4JeHh7q4g507OtsBF2+BbXpnQ3NqYbVR0NdtI8WJMmhJO5ycrLU4zTk9nUZN664qck85vNpyVGaLuu+GnI44QpyCPVKcimKjm3sNMw9ViAnHtdhM4u8+6qUGfksJuX0LGpWeUJrOSECjnGZlWsSa12BjixWiZHtKpS8rBRPAw4d/YJA47k5Obm4vr16/j5559x9OhRDXAcDZwKOAfH6fyIWBSNi0HxWGdzcQJCjqQ6LlvKGaxNJSo4YgYnUHuKBxzemmKbnE3WlMVuqf5CW2pYlNvQlFImEnu1lhQ/sG+mulphbjJTbVQ7Sq1656hW1CrVilIUG96G0sGGKTUManig4ZUZpr4oV4GVx8qY7+Nl7a/sffj7aGnzNQOQXOkRwecBAXgY9NwnAo9J2SFbZUdmYfF5Hd6+srOu+MYVb1vplpVfs6yy4r16ADlGr5OL04+ZktOfQY7VxGNVyZEt6BQhhymXgerjsjxOMEqOaUZOqPXxYEPHErvKyWti/ltV8WHAucNPGHBsjmhR2QIO+4nD4aC/IoG++NUXimJxMQrgyOwpCeg4sqp8Qh6H2VSu0ABHZlNZAU6GBdwwa8pKveFn3YhwI1bBh0W5tabUaC1MrK9amJLgwzTNkvIrqg0LEauLLnU7SvlmKwObLeo37+28/cTyM8XlQPNoabIEmCfuNt4nywW+4vvwNxAMyYDHDnysLC3RzpKFlk3qDgc7BmVHMmdnVaqQ0zFZVzrosHzObC2foyw/1TeXK4A7PkGHHNnMHHHFAz8QkDWsenjkFXInkON0b1UgyLECnKDtqkCDAC1Axxg6dr7OIZBVVTgfrKqwghM+YcCxOfIMTrx65eHi9IQ4FLGSZyVvDwRDxeJjnLWp2LULHNtZVQF2VQVjUfH5G96eyhAAx6o1xVfCeeWGWVO9vC70Vpsu/fxK80VsSxmVGx5u/BrcsLk285OUb46LC0ZgiVr5ZqrNahVu1qfpbSim2GyXqDVMqdFzMjpI2AGNDF52lbe/wYCPnfpjp/DwNpduawkBZpmVJYaUmZUl5nXSXdiU7uIsLN6+8mKtYF/p1pVxUvLign4lnyOoObNU22p6YoQeQOZyOVmcZaVsJ/dipJbJEZd1OrCrSM/jdCT7+rgsdNyU+5qxW85pZVUFXungMtlV+bF93GpGjun1zYF1xUNOGHDCJy8nDDg2xzHgsJ801C/KYPI3+Q44dnuq1FUOVoBjZ1M5tahkgGO1msEqWMzvmTLXwVX1RoWb/n63MVQsVMHHyeCmgAI3+lwb3pLya1kbZdqw8g13U5o+F2Ybp9jIwMYKakSY4WFld4W8XTv4sVN3grG05PkdlwF0+HaWrJIus7AMeR1ZKDlNUXTEQHI2l9Hh1ZwF3GRksWmlhY8TuPBxHAc5MXrDiik5g51mckIIHfODADPIaFeJSo5MxXGax7Gqj1fzqDur8mn7uMGuyuPG8SIJea+NhwHnzj5hwLE5jltUvHoT4he0VT4nJMCxHf7nVRtVwdlU+QU4vD0VUL0h69yNMsjPAm64KvgEtv2br4Bzs20WsiAxW6ug7odiltSGVLcpYyOCDd9qYhYUAxoRZngoeaqifp+uFPrln+epivbwYwU+VlaWfXaHAY/ZxuIzOzv4zI4kr7PdADukVc75uvm6NLea0fFgdapHnZTsNczSMYOODjn6JGRJlZxvWMUaa+TDLTI5POSIFfIuFNxKB1nomAecYCcdW9lVxvo4GUPHNos5DfVxB60qaejYwQ924tsMAwBDhJww4NzZJww4NidYwMlv9aZoQmxIgGNrU7FlnBaNqvwEHDF/EyhYbBjoJ7SmenpIU2703I2dcqNUwSdxNXA230aDG7Y7qpAf2awhxVQbNWuzOc2ltaLuL6J8s+bBxgpqeKARIeaZyvrdU0V+91a1/r09VYzP8UxlZ8BjpfKEou4ECzsPCvVzWRtrmwXosFAya18ZwsiGILJxMvIirlIuzs1h4eMpBYzhY75hJSo5POSIu6t6quFjJ0pOGwFynO6skk06dgo5UiVHmHQsW8zJbx93Ajkyq6pIHjI5heODs6rCyzbDhz9hwLE5jgBHlVDzZfaN5As8aMBxYlNFevMdcJyoN+JQv0C1cLESrtfBdeVmSJTyU7YMbibGK7aU1pTiFmQu4pSbHA5u1nHzbLaqg/m0nA1nRSlgY7SfGNjwCg0PNDy8sLuvmsNbVb8i/DiBHStVxyq74zSgLLOwRCvLdtYOA50igbM6LKfDz9NZo9lW6gydQua2FVvmKbaspnOWFZt+zNtVo/n1DrIKudWCTrf9tONgt4/bhY5DnXbMKzlSyMnDYk5+Pk5eFnPmR+A4DDh39gkDjs0JCDh5yN6YFZxY47/Hh2hR/R8CHLEaLgKOk2CxbMfUAAY3kR5t1o1pQnGCMudmGrdPytCU4irgzJLiVRsWImZ21EMlCA8bFBsyWVC8UsNDDQ8z+6u5cKC6fg/WsL8Hahgff6C6C/urG+GHByYZ9IjAczvsq8DhZJsmlpWqw2V1tqSTtiKCWVd840pXc5S2FT8RebEwN4efmTPdkMtRoHi8ZL2DrEI+IMK4oJMfBsimHYuhY6eQw8/HEZtVdqHjkJQcFXKq2thV2s6qKF9QdlV+DAEMvTYeronf6ScMODbHFnA4uMmLemN+P+NPO//XAIefZCyzp5xkb1qS/cRi40A/3ZpSJhWrjakofZBfpkS5maxWwTVbioMbNt9mhTrbhllSm9Sll9vSddXmweKEh0oqdpRoRcksKB5qGNDsZ3CiQsuhmsb7bC3zFR9zqKYAPhzwyGBHpvA4ta+chJOdBJTlFpYZdgyDBTnY4VUdg30lZHR0NUcBHX79w/IUHXLYxvL5yRGYk2wcDMjnciby6x3ECrkIOX7OrvK50MtrXukQqFkVbH08mCGAtYlQ2+VCg/hE1PF4Udvlkg4CZCqOo2ZVlE9RchxYVU7yONIbnz8qThhw7uwTBhzJyc3NxTvvvIPHHnsMo0aNsgacPMJNwByOMM34/wrgBFJvZLNvrObeWO6a4q0pn9maGqotz1S+AbE6OJtQLLaljHCjNKVWq3CzIVWpf29Jcxmq32yWjQI3ZivKCmx4lUaDEhuYOVzbeGWPEaGHB539gqpjpehYhZOdWFd2qk7oeR2X5UBBUdHZLoAOXzHnbSvj+ge1Um7I5fixoKBxXo4McsSpx6Ni9bUO/O4qtqCzn9+tbSG3a1ZZbR9nkMMApzkZ1znI6uNOIKdhfCIGjpqPkfO2oUl6cdR2e7Sv6ZoGyNGr48bFnOY8TjCh41A2j+ePihMfBpzwCQOO7OTm5uKHH37A5cuXcd9991kCDoOb25G9YXBTUn2R+F8EHNGeErM3YrBY3DUlVsIH+M1wMypWab6wWTf8RvBZAtxotlQhn6bcbEjVh/aJlhQLETPVhs/YMLAR1RoGNYdqEg7VJDxbS7mHayv3uTrBXfZ+h2vrz2ULOoKaY5fTsWpeBZq343S+TiAbS6ycs7yOdLaOJJDMh5E3csMC+RDySoNlpUPOQm5eDhsKOEPI5PCQM1qFHNmCTnELuWwDudMZOXbrHJzMxxEnHTeIjUfWmj1Y9NJXaFmuGmq7XKgXGY2MEnejUVIKans8hiGA0nUOEsDRVByHQwBLxEahaCiQE28cAJgaJOSEAefOPmHAsTlSi0qYWJx/1pRZvWHLNgPuosoPwHG7HNXEeXvKDnBk9pTYnJJaUy6jNdXba7SmjI0pr6EOzjemZqlVcB5ulECxV4AbMuVtHi5J2ClkbUxgU9mo1hysYQYaBilH6ir3+XrBXfZ+R+paAY8cdA4w0AlgVwVScZzO1XGyPsLZygibyjk3RFAGOpvTSLOt1qe5tdUPq1M9hjr5skI+LnwcCHLMFXIecoZHezA0koccF/r5jfVxu2ZVsJDjJHRsmJHjcqGe240Bw2Zg4YtfYEjWMvQfMh0j527F6CUPo+M9HVAvOta4sypA6LhCpMSqchA6LhWbtynH7DUzPSGY2ThhwLnTTxhwbI4l4OSDNWXrPasrGkoGCzYc4NhOM5YCjvIiJ5tkLAsY8z81WtlTGQHUG4M1Rbw1xQWL1T1Tg1RrSg8VK9YUW55prIMrG8HnJ/FtKb8WKF6b6lVtKSVMLLakWJBYVG14K2pfVUUxYZkaGdQwUDlaX7/HGlhf/nFH65thR1R2ROvKoOZw7SverrJTcYJRcpyuh3AKPWYLywg6hoyOoOiY1RyXQc3h6+TZbHlnQX368fxkJaNlqeSomZyxHOTwdtUQbtpxf78eOhaVHDGPI5uRI8vjtIpPRPuipdGUXHLIcbnQ0OUyKzkuFzLSimFczhNYfOo/mPfcZUx98CQmbDyEoVNWo031hqgXESVdzBkodMxg524ecgLYVSUsrCqnPygyq0qDnHAGJ3wCnDDg2BwT4HCV8HzZGC5RbXRrKip4a0qFmzLRfpSzGvRnAzhWqxpk6o0d4AQa7CfL3jD1pptoTXGtqaFRbgzjczcq3EyIVwb5TePq4POSjEP8jLaUDjfbC1vnbfisjSFjowWGjWoNr9TIgOZ4Q/trBTuioiOqObxtxas4+6oTdtYlzGxDmNiBsDyDDErOU5UJ49sSBnQhjOhEeLQyaZCzqwLh8YrKfbI8BVwRkZedWFZ7sfisjqx5ZWVbiZXytdwU5BUpXlXJ8esNK3XFg1HJUf5/mszZVVlxPsOCTn1GjgeDIz1q6NitNavYziqWybGqjovbxw3rHDxejJm1EVmLH0LrpBTpjBxNyXG70SSuABq43ZqK06xIKUzc9CwWHP8MS8/8hAEj5qBtzXvQtGhp1I+O1ULHWh5H2DzOIMcqdBxMdbyUhVXlGHDihRUOASEnrODc6ScMODbHBDjqTw+3BW4S4qRwEwrgWC7c1Ib9CYP+HE4xtgMcWXtK1pyyUm8Y3PRwE3p5uEq4qt4MUa2pEWzHVJwXWUJjiu2XmsetX1jOTSdex2VutqpTiXm4YXkbFiTmVRvdjtKtKB5sRKhh0PJCI/2+2Nj68o8TgccOdJ6tQ3i6PmFjM8LiNoRddUlTcvbVIKxpSig9kVBiEqFbbyPg7KpCqJlJSJhJSJlG2FnFCDjLGxDa9SX070zIrqeDTn4s/rTbhC5XdcyKjrj7ilXL2foH0bJak+rBqlSPtGG1sKAzuyorTt9CbhwEqCo5kdxiTm4DeaA8Tgey2Fnl8WDa9qOY+djraF+8LJq6XEa7yutFuzKV0afLUAwZtQDDJmSjT/eRaF22Chr4/GgYGYWO9VtizJKHsPjlb9CtXV/Uj4xGHZdLWh2vIcnjVDWsczC+lpS3U3HiolCuUDIqFy+Bu5MT9VZVbN5m4zhXccKAc6efvyzg/PHHH3jvvfdw9OhR7R47dgwXLlxw/BwGwOFsqdsNNyHlbtiN9gfcRVXR70EVr14LtbOnAgGOnXrD4Eace8Nnb2TrGHqLcMOsKRVuxqhwM0FtTE1lcJPk1+rg/BC/1VzmZjMHN3yYWLGk9LwNr9rsq6ZXvJ+tZbaheKjhYebEPcb7UhP5Zb8vAx4ednjQYZDzTAPCpC6EeqMINccQ1jQnTcnZX4OwoTGBFhE8CwiNhpkBp+JYAi0k+OYRnqxkBJxhHZTfi59FyGplVHKeLOfCpuqEx8sRnihHjkEnGDvLOq8jgE5x8zZzPZsjt6xWCmoOCx/PT1b+H5pjBznxVpCjgPhArj7OVjr0VPM4PYKAHDbpuFfD1ujT7F60iitgaFY1IULX+i0xbvHDmP7wKUzd8SKm7jiBmbvPYfzqp9Gpfks0iohEPSJ0b9sb85+7jOHT1uGeQoVRx+22nI8TeJ2Ds9BxjXIV0WPcIgxZ8iD6zVqP7mPmo32/sWjWoQ/q3dMGVavVRtmSpVE8OSkowAlmhUMYcO7s85cFnJ9//hmDBw9GrVq1MHPmTMycORNz5szBkSNHHD+HCDi315aKCbExZVZvLO2pCI+yh0pmTzmEGxFwxMnFTubeWE0s5q2p/n5lWixrTSnzbtRQcbxPDRUrcDM90dyYWlrIj+xCykZwNueGrV1gyo0RbnTV5qmKxsq3aEWJao0INTy8nGzq7FrBDnvuow0JBxorl4ecpxoR+vRTICZuDiGrC3FWFeGxOoTmQwgd+xMmtY3B2eJ98FbRwXilZCs8VZkwrh2hZ3flvlQiA2+mD8eZwv2w5+4CGNxJUXdcCwjzGhsBZ0cVQsZAQu8uhAWNFNCx227uVO1xuhOLDySbFB2uWq5YVqRsLGeQk2YcDKiFj4Ua+RyhQj4lgYccnyXkiM0qfdKxs0GAJiXH40GHtGLoWrkuWkZGa4MAO5avgSlbjmDmo69j2KgF6N68C7pldMaQzHmY/cw7yFrxJNqUq4aGHi9a3VUR03e+ihlPvomWZSujjsvleDGndD6OBHLujjQu5WzSvAPmn/gSOe/cQPbbv2PJ6z9i7tF/YurT5zHuwRMYvm4P+i/age5TV6LDiJlo0WskGrXphlr1m6FixaooXbQYihaIt4QcJypOGHDu7POXBpzMzEzMmzcPv//+O37//Xdcv34df/zxh+Pn4AEnNT729sBNXIwKN3mwpdTLZ2+sAKeSz40q/KJNt8vRFnFRvbGrhmeogCPunBKH+okzb3qxmTd+pTU1kLOmRmrWlPLNZWKCko+Ypo7dn5OkfFNis24UuPFpE4o3CcrNg8XlcMNbUqwdxVQbptjwmZoXGhkVGh5aXs5wfq1A59g9hMdaEqb2IAzuT1jayajkHKxPWNaOUH4CodVQD1Y3uwtv3dUN7xQfgmOVimNvdcK2+oSdtV3YWykFP0V8gF98l/BJgZ1KyLgSYXclwuOV3PgocRN+9X2Cn/x/x6HSJZDdgDC0I+HenoRHKqbg7ZSJOF24Nw6XKo+pzQiuhYSIuQrkPFY+OMBxAjx2qo6xai7J56igwyBnCzcFeT03GHCVpGHFNpLP44LH09WMFz8IkEGOEjpWMjnDohWranCEruSIO6tMdpXL3KxqS8bQ8YjhszBlwwF0LlMZzV0uNPP6MHJCNhYe/QR9Ow9By0KF0cTrQ2OPFy2L3oVRszdj/vP/wIABk3BPXAE0iozGqHnbsPDFz9GpcTvU8/oMNpVsnYMsdBxwKWeUTwOcxk3aYPaRS8h554btzX77Gha9+i1mHf4Ik558A6O3HcHgFY+j95xN6JK1GM27D7W0qgJlccKAc2efvzTgDB06FAMHDsS5c+fw7rvv4tNPP8WNGzccP4cGOERIz2/AUeGmRGxU3m0pVRa+2y57w9Qbr67eMMBxGi4OBDh8c4oHHCv1hq+Fm9QbbqDfiBgPMtXWlDbvpgCzpiK0NQwsVMxyN6tTvVK4EW0pHm72VFaaRwequ7SsDYMb0YriFRseak410+8rza0v/zgZ6Jy4h3C0CSH7XkLR6YSYuYS2IwiHG6qQU8+DI/UITzUkLG5HeOCeaJwp3Q8/Rb6HXyMu4s2S3Q1tqkMVk3GL/kAu3cS/o182VsUrePBF7H6AgFzKxf7SaYoVVZ7wWAXCS0Vb47r7B/zk/xBnUocisw0hfQrBvYAwsQVh192ReFLNLj1ejrCyDuHR8oQnVWUnUPXc6WBBGejwGR2ZmrPdZFkpuRxtl5WayVEaVjrkzBeGAU4vIEw7TlAHATLIifViRIyex2FKjlWzqptb+RqQDQIUraqx09Zg+ZtX0L/jALTweNEqLgGzHj+DmY++hpZJKWiZlIJ2pSuia6M2GDhoCiZveQ5LT/+IzFmb0CytKOq7XOjdfSTmP/8xBo2aj8ZJhaQqDq/k1HCZQ8eaVWWxlFNTcWIjUatydYxc+3RAwLEEn/PXsfzcNUzd845JyXGq4oQB584+f1nAuXLlCpYtW4YBAwYgKysLQ4YMQb9+/fD000/j5s2blu9369Yt3Lx5Ezdv3sQff/yBjz76CC4iFM7D/AZ53kaBm5CaUhK4caLeVPS7texN9TyoN6E0p0xD/bjWlDbzRtsUroQ1h0R5TK2pCfG8NRWBWep28IVi7ibVi3Xc+gU53BiVmz1VdEvqUE2zJWUFNjzUMHh5tYXzywPPyQzCiQwdcl5sQljfkVB6CiFhNqHDMD+O1yqPd8v0xt/uGoJjtaO0TNDzNaPxTsmByKVcXHf/iPfTp2mAs7eqC/srR+Fy0iZ8lLwe59OyjDXxCm6cTR+GC4lr8VGBLXiqbJQBRN5MGYWb9DtyKRevpw3EmloujGpDaN+bcH8VL84XnI7Taf3xXImqWFnHjcaDCAM7EVbVJTxegaSAY3XtYCcQ6PC21QPFLXI56XouZ50KOStTvchJ8Wo1cj2TYwE5BRTIyWLTjuN82oyc4Vx9fHCkGwMi3MbQsVffPN5VUHE6WkBOrzoZWPr6TxgzfR1aR0ajdWw8Fhy+jBmPvjsXhaYAACAASURBVIa+HQdgWOY8ZC17BNPuP45pD57ExPX7kTl9HbpldEaThCQ0cLnQrnIdzHj8DCZvP4aWZaugvj8CjRKS0LhgGur6I+1VnCCGADIVp0J6Gu4dNg3Zb18LGXKWn7uGKc+cR7ECCZYqjl0WJww4d/b5ywLOzZs38fXXX+Obb77Bjz/+iIsXL2LKlClo0qQJLl26JH2fW7du4cSJE1ixYgVWrFiBnJwczJgxI/8AR83bFM0PS4qF+aL9KBsQbnR7yjTcLwT1hmVveMCxy960IXktXJ9YTNymcJcBbkZIrKkpKtzMTFJ2Cs1XG1PGWTfKVvAt6Uqzxi5zY4QbfaaNqNpYgQ0PNK+1VO7pVgFuS/2xr7YgnGxB2NWesLgnYV0Xwksc5OxpQZjakzCsP2FTqxS8X2I2rkRcwi+RH+K1SjX06nhtL16uWAmfJz6OSykr8HrpNsbVDVVcOFAxAXsrRsiH/JV3YXc5L54pG2cCjBeKNsUHiTn4OH4nni1ZQVNrHqlAOFyiEm64fsGv3k/wbvJcdOjlg2c+IWoOYVwrwqMVgwMcO+ixAx3LEHIxc8uKDQZku6zWcFOP+UyOOAxQVHImcHurmJJjrI+7TfVxsVnV1W2GHFYfZ5DTIT4R8w9ewMyHXkbHwiXRKjIaMx4+hYUvfI5Zj5/BtB0vYsKq3Rg5aQX6dRuBDhVro0lElDIfR52Rc09sAWTO3oJ5z36EwWMWoXuH/ug/dDoGDJ+NFuWqoY7XF9xSTn+AKcdxUWjSrAPmHf80NLh56zdMfOIMWvYZbRk4tm9UhVtUd/r5ywKOeHJzc3Hx4kXcc889OHDggPQxt27dwtNPP43MzExkZmZi5MiR6Nu3b0DAkVpX8RaqTVy0QbnJC9yUifbjbi5UbAk3fg8qydQbNVwc7OybQM0pq6nFhmCxNrGYX8fgMq1j0ILFcXprSpt3k6TADR8q5mfdbE5zYVth5ZubXeZGhBtRtQkENq+1VIDldCvC6+o909r6vt5aeczpVjrkPNGR0Gc4ocR0QosxhKfbEE418eFUo1i80IRwpImSxzlVJwUfF1mKXLqJKxGX8E7p3jhSl83EceFwTR+OVy6KQ9W92iJO2U4qq2WbgayivaULYVdZn+Ftr6b3wFXP18ilXJwvOBMdevmQMpVQcBphSUPCnrIp2FXOg12CVcUPFbS7dsMGrUCHn5/DW1aGKnkaYVOaGxvSlK3kbOpxDjcQ0DTxOFFuV2Wp045Hx+l5HBFy+gszcnpaQI5s83hbIkxc9CAWn/gSvRu1RevIaIydvRnLzvyMqVuPoG+H/mhXshyaeDyG+Tgt04ujWcE0NPR40YAI9zZsgwlr92Dmrrcw9eFTmPLASxg5ZwtaV6mHuj6/VMWRLeWs6nGhsk8+5ZhVx0tH+1G7Sk2M2XI4aLhZ9tZvmPDYa2jcvpft664hixNWcMJHOHcM4ADAF198gebNm+Opp56yfMzNmzdx48YN3LhxA9evX8eFCxfyruBoLSlj1iZka0piSVnaUlywuJrH2eRiJ4Aja05lkNGaYnDDZ2+MwWLSg8Vc9mZIpD7Qb5RhWrFuTc1OUufdqGsYstXczZpUL9aryzO3petw83BJeeZmrwXciKqNJdhwQPNGG/2ebSu/7Pc12FFB576uhDoTCe6FhKqTPNjarig+qNgLfy87HK/WT9GaVSca+vBmlQb4Knk3LhWdh9cr1TFNNmZzcNgCTtnCzVDgxuo+V7wG3kuei09in8JzJSpjY3U3hrYnDOpI2F2uEP5WcAFeS++NQ3eVwtraHmyuSXiiIjkGnECwI4KOnZqzQ91SroWP01wq5Ih2lbK/Spt4HEjJkTSrRqiQMyTKmMfpZ7CqXOjhcdkqOSx0PKhNbyw78zNGjpyL1j4/+rbqgcUnv8b4ZY+gffGyyHC7lR82fH60SE5Fx6r1MWJiDnq27YMmMfFoQITG0bHoUPMe9B84GQOHz0L3Dv3RvFR51PNHOA4cB7KqKsVEoHp6YTSs3RAd+4/DhIdPBgc3b17BhEdfReN2PQO+tgbaNB4GnDv7/GUB5+bNm/j+++9x7do1XL9+Hd999x3Wr1+PevXq4ezZs46egw8ZB63g8JZUfEzok4lFS4opN3Zgw7em/EJrKkA1XLaWwUq9kdlTfHOKwY0pe+M2TyzWg8Ueo3rDBvoJrSmlEs6sKR9WpHjV3I0CN3yomA3xkys3ZGpKser3i4111UYKNq3NQPNmO/vLg86ZNjrkHG9LmN2P0HA8YWy/AnixxjD8FnUJV6Iu4P3yvTTAeaER4cX6EThVs6jWpOIBh59mzKs3svUMMrgJZl6NePeWSseTZT3a+z1WnnAmbTBuuH7BFe9nOFaiN9r1jUS7voR5TQmPViLsqqCDjrg2QnatQEdmXVmpOTtMDStmVykbycUlnUsFJWeOoOTwKx2y4nwYG8tBjs06B8OkY48L3QIoOfemFcei459h6oaD6JCciraJhTBlw0EsPP4pRk1ZhR6N26FLrSbo0bQjBg+dgYnr9mLWrrfQr+doNI1NMOysauj1ob7LZdg8zq4Mcqy2jjMVp1JsJGoVKYomtRuifef+6DthKcZtfQ7zjn+K7PPXg4Kb8Y++gsbtejh6rQ0UNg4Dzp19/rKA8+OPP2Ly5MnIycnB2rVrMWfOHHTt2hXLli3DtWvXHD2HCDjOWlSxHNgwWyr/8jbMkgo0qZiHm2oyuMlDc0q2c0pcqCmuZAg41E9tTQ3RNoV7tF1TxoF+ojXl03I361I92JjmxpY0fQUD2y31WBkJ3FR34WBNPW/DlBtW/X6pia7a8GDD1Boeat5q7+yebUc43JnwUHfCwc66mvN6K8Lh9oTHOxFONU3Gx6Wn4Q/PT7ga8TEul5pmABx+8J820bhWYMAJpNwEs1pBvPzjeTh6P2k5fvP8Czdcv2JVvTZImOkHLSQ0G0i4rzphtwo4TuBG3JUVSNExQ44Cuw+qgwH5hpUy+VhXclarFXIZ5MzTBgH6tZUO/CBAfTGnMARQgxyXpFmlqDjdbPI47d1uTNt4CAsOX0av2hlo5fagZ70WmLDsEczd8x6mP3ACU7cdxbQdJzD9oZcxfsWT6Nd9BFqmFUNjt0e+lNPlQl2XyxZybKccR/hQr1QZtO/YF/0nZ2PC/cewQJ19w3I0C1/+BgtPfh0Abq4rcLPzFBq17S6HGtH2F1QcWWU8DDh39vnLAs61a9dw4MABPPDAA9i+fTueeOIJvPbaa7hy5Yrj55ACTnys5Reartoos22Kx+VTBTzaL7Wk7OrgUuXGra9lYHCTn9kbu4WavHojCxazWjhvTY2VWlN+zEv2Y6EKN9kpyrwbNql4S5pLCxWz3A3bCG6oglfTm1J8mJjBDbOkeNXmdQ5seKg510G5b3e0vuc6EN7qQDjQlZA5glBvEmHiUMJL7X041ywZbzVL1DI5r7YgnK9TA/8qvA2fFF+CczVqSQGHX8LJ76PSdlFVM1tTPBgEqmIHe2WQc6REDfwtaSEuJ+zA5BaJKD+WkDSDMLAzYVeFNBwsWxhPV/AZIIZ9rIGu1YJQEdaMoEN4qCThwRLG8PE2g5LjxrpUtzYnR4ScBckRmJfsl047npjAbR+P06vjYh5nILfOobdPgZweHgVwrCCnPRGG983C0tM/Ylj/iWjj86OVy4WORUphcO+xGD1lNcbO245RU9egX5dhaHdXeWU2DllvHmc/xDhRcWoSoVZkJOqnpKN+ShpqREagbqFU9B4xEwte/Nygwsw//immPP46MlftQp8pORia/YhEybmu3htYdvZXTNj5Mhq37mqEGbvXWgcqThhw7uwTMuBcv34dv//+O27duoVbt27hypUr+O2335Cbmxv0c/1fPXLAsfii41QbNt8mz4oNp9rcHciOcpK5UXM3VsFiBjhWzSkGOFbqjVX2xqTeGILFbm6ZpvKNQFnHoGQaJiT49NZUYgTmJvlVa0r5prMilc27URZoynI3bP0CU272qVVwHm5Y3ka0pF5raczYnG0nh5rznYz3nc7KZb9+uyPhXEfCygGEu6crKxAysqJwsHl9fHr3dHxUtQfOtPRpgPNaRiReb5yMV5r4cLIpmQCHn2bMA46o3shyN3b5FdnkYCdXBjk86Owpk4Qny7kxtwmhbxfCA1X9OJ8yBR8mL8fJEs2wp0IMnhIAht98Lrsi6Nj9/WRqjgY5Ra0gR1/rIGZyFiT7MS/JuNJBbFaNjfNhjDoEUAY54mJOPo9jBTk9ylbB4pNfY+LSR9A+PhGtSF+H0jquAFrGJSBD2FfVmLuhQE69yCg0KVwSras3RNdOAzEwawn6Zc5Fs8q10ah4aQyZsQ4LT36Fuc9/jCmPnUbmyifQc8RMNGvYAtVSU1EuLhoZLTtj0Sv/kQCOCjcPn0STlp1RLN68bTyQemMdNg63qO70EzLg7N27F8899xy+//57nDp1CitXrsSTTz6J999//y8DOY4zOBzYFI2LQfG46HwBm7Iq3JS3U2wsbCmpcmMDN06zNwxwZOqNuFBTlr3hm1PGYDGbeeMxbAqfZLCm/Ko1pdR4s1OUDdHMmtqargRIZbkbtltqXzXjdGLeluJbUjzciKqNCDYMZth9917l8m9joLOvB6H3GEL5aYSxfSrinbt24qb7Kr5P2Y93G5bXVBw2F4cN/7MDHJa/YeFiGeDwABCohSTb/2R3RciRqTnsz1TsJMLzpargJ/+HyKWb+GfCXqyuXxIb6rnwRBUywA0LSIvXDnRkag7/9+TDxw9y83JkkKOsdfAYMjn6tGPjSgdDHkeYdDxSVXKGmULHbvTzudHHx4WOVcBheZzOXB6noz8Csx89jblPvY1u5aqhtdutbB1Xvw6bqV+TPOTwgMOUHJNVpX7dM8ipHxWDpkVLoU31hujeeTCGz9qIGU+cxZLTPyDnnRtY9NJX6DVwEmpERaJVvWboP34pug+ahKZ17kG15GTjCocoH+pUqYHxD7xgztyc/QUTHjqJpi06Kos446L1HxQdRAJEwBHDxmHAubNPyIAzd+5cnD17Fp9//jmaN2+OJUuW4L333sO2bdtsB+n9Lx0Z4BSR/nShw02ehvfxYOPEjrKwpapZwI2VLRXK1GJx7o0se6PBDQnNKS1YzFlTUfYzb2YnRWAuZ03lpHixKlUZub+RzbsprGQrdLghw+LMfWqgmA3wE5Ub3pI63UoJAZ9ta7SieIWGgcx7Xazvu12MwHO+E2F3L8KWvoTTTevgh9R9+MP3HX4o9Cw+rN0cr3M21SvN5YAj5m8O1zarNzwE8N/0rVpH5oWWzq4d6IgqDg85Lxdth2+iT+Kq51vsKb8ClUcXQsZgQk5jwq6qZAs3dsAjgx1R0VH+zsr/IxrocJDDwsebDMMAPabgsbK3Sl/pwEPO5ASfWh/nFnPGstCxG0OjlGGWAyMUBZO3qhQlx6ziMMgZN2klFr/0FfpndEYbr1fZOi6BnKbq5VUcO6uqYWQ0mhUphbbVG6FHl6EYOW8bZj19HkvP/KRNFl76+o+Y99wlZG3Yj3ZN25tr4355bbxa4SLombXIADdL3/gF4x96CU2bd9DU7pKxUcprKf86mwebKgw4d/YJGXB27dqF3NxcnD59GpUqVcK///1vAMC+fftw69at/GaN/8qRAo6VNcXZUnmaa8MFiANaUtyEYrktZQ4UO62E2y3UZOqNbGKxyZoS9015lWBlXy5YzK9j0K0pBjfKIs15yZw1leLDylRlaaIyzM9lChU/XlbfCq7ZUjWtbSmDatNaV2yYWsNDzXtdCH/rqtz/1836nutO2N+H8FxvwttdjarO+U6E8x28uFS7A74uuRYXarfC2VZevN5amaljBTh2+ZsD1ZXKOwsWy2wp+0q1fh8uGfjKQMcOcnjA2V3ehRMlmuBvhVagXd+iiJxL8M4nDLmX8EgNN/ZU1heeOr12sCP7HLC/v2ZZcUMBtUWd6moHlskRlRyWyZkrKDlTWeg4QVIfVyFnSKQOOf0lkCOrjnfy+TGy3wQsfe0HDGzeBW29Pm0ppxXkMKuKgY6o4ij18Th0adYZo+Zvx5z972PZ2V81qFny2veY9+xHmLbzFYxa/CB69hyFpmUroYbf56g2XjHSi4qxUWjWsjMWn/5eh5sHT6BJRjvDa+FdsZEoHhstKDjO1ZzCCXFI5SAnDDh39gkZcJ588klcvXoVS5cuxcCBA3H9+nVcv34djz322P+8gpObm4urV6/iu+++w759++wtqrzATbDtKKeWlIO2lAxuQlnJYLVQUzbUr6dh5o06sTiSW8cQp1pTCT5M4nZNzUli04p9WJbiw4pUr7JEM82NzSrc3C+EilljSrelXCa4EcPEPNzwVpQINjzEvN9dvx/0UO773Qnv9CA8OpDQahKhVxZhf88YvN+qND5ok453Orv0vE57L8619ePNdnqjKhjA4e0pWbDY6hu7Fdwo8KLPjrG6ymPsQYeHHF7FMQz6q+hGVjtCmfGEqqMJS5q6cOTuKnihTFUcqBSrwcu+as4uDzqy9pjsc2GwrLhlnWbIMSo5yzglZ74KOaKSo20f5+rj/BBAA+T43YY8Dt+s6uoidPF60LdyXUxffwALj/wDvSrWQju3W1vK2ZKDnGYWkNPY5UJGXAG0Ll4G7SvWRqsSd6NRRBTalK+BqQ+eRPb568rm71e/w9xnLypQs+B+9OgyFM1KlUcdn1+fjcPNxamuqTguKeCUj/SidvnKyFy/B3OP/hPjtj+Pe5q2Nb0maipOfIx9U9UGcNLDgBM+6jEBTm5uriMF5siRI3jmmWfQoUMHnDp1Cl9++SWeeeYZZGdn/yUA58SJE1iyZAm6devGAU6s0aLSquDRodlSFqqNozAxp9oYlmeGYEs5CRaLCzUD1cI7km5NdXXptXAtWOzXa+GiesNbU7OSFPVmkcGa8mJdmhsb2RJNSahYG+RX1YUD6hA/UblhYeJXWyhQcUaAG1614RUbEWg+6EH4sKd+P+hBON2b0DeLED2fkDDXjQVdmuOL4o/jq3Lz8X7rwpqK83ZH5c8zAE4re8CRzb85WMOs3jDAkakW7OpgY4Yatp1bdo2gQwbQESHHUsXR6uGE6a0I6+sTni1XGp/HP4N/x7yE10t0wcHKcRq87K8e4HKQw6s6VhV5s5LD7bGSQI6VXbWkkGKdMiVntqRZNYGtc4g1r3MYEunRQ8d+cx6HKTndYmIxftIKLDj4d4zJnI9OsfGGfVWWKo7bjRbxiWhbvCw612iEAX3GYfzK3Ziz728Yv+optC5TCa3KVMLYpTsx+5l3Me3hU8icuxXdOg5ARtG7UNfjdVwbr+J1KTaV8JpVIdKLigmxqF+rAToNmoh6tRpIXxPvio1EqdhIFIvjVZxYRyoOn8cJA074EAmAc/XqVbz00ks4duwYfv31VxOosEWUubm5uHHjBk6fPo23334bubm5uHDhAo4ePYrjx4//pS0qmTVVPDbIUDGv3AQDNtzwvso+F6pylpRVoNgKbpzsm3Ki3sisKXGhJquF88HiQRFuDIlyG5ZpjotXvhFMKeDHtERlHcMctTW1pJDyzWRliqLebLDM3RgbU/ur63VwS7jhgsRvtdctKV61EaHmw56Ev/eyvud6E+ZmEirOJNSdGI9naqzDdffvuBr7AT6p1RfvqioOq5CzIYAMcFjQ2ApwZPbUvqrmYDH/jfzxsuJySjKBDQ8xDxSTX2vQMUIOb1fJVBx+/g0LFr+TNhG/eT9HLt3E3ws9jkOV7sbe6qRBzIHqephavKwezyY4sy3qVqDDqzm6oqWogBrkFJFlctxK8DiVKTl+LFYhx1gfZ5OOfVx93IfR3IwcJXTsweAoTsXxm62qbm5CV78PI7oMwYguw9C1QEF0IBfakb7KobX69diCCC3cHrROSEL74mXRpWZjDBowCZPW7cWiE19qyy+zz13D3IN/R4cajdCACC1L3I32NRqjaUoR1HN7Qh7+V8nvlgJO+Uh103hMhOVr410xCuCUYFkcB9aUDHTCgBM+RBzgfPHFFxg0aBDKli2LYsWKoVatWti5cyf++OMP/PHHH7hy5QoOHz6M3bt34+WXX8aVK1fwxx9//GUaU7JjDTh5yN0IlpRjxSbQ8D6LzI0MbJzCDV8Lb0LW2RvemhJr4d1NwWK3YeaNFiyOV62pBIk1VUjJ3axIMVtTdrmb/dWNbSkRbtjgvjfa6HkbptrwdtT73c1Ac6G3ci/2MV729gu9Ce/2JmwZRnisd0F8XnEhrsVewE+F9+By48aG0PG5DuoQwLZKsNkKcMSAsZ16w+CGV2/4mrS4wkDb18SuOu1XdtljeNjRQccMOaJVZQc4J0rXxhdx+/GPxDewoFk7zG4dicfqEA5UJwPMsJk/snuwhqLaHeCVHQego3+OOMhRw8c85GxUF3SuNthVfk3JMdTHhZ1V49U8zphYL0ap6xyGcfVx3qrq45OvcujChY75VQ5tiNDa7UanwiXQo0ZjDBs8HVM3H8aSU/9B9tu/q9u5r2Lxy99g3qELmP7Qy+jfNwsZyakBa+NWaxx4Fce0o0oCOHerm8btXiPlKk4IgFMgXBO/048GOIsWLcKmTZtw4sQJ7NmzB3PmzEHFihWxbds2rF+/HtWrV0eRIkWQmpqKxMRENGjQANu2bcPVq1f/spBjCTjqML+g6+CcaiPL2ljCjl+xpCp73aiivohUcwtw4zHbUoHgxqoSLlNvWCMjg8y1cDFYzG8L76FmCVj2ZoBfyRwYg8VeqTXFWlNLBGtqU5oLW4UlmmzHlKEOXtMabl5toVfAreCGKTYMbmRQ81Ff/f69L+FCXyPs/L2X8v4XOxTBpw064XKzmvhbV7Vhda9zwGENKrEezr6hs+wN/41bnjUx2lG8UnN/UfWqw+9k9/4i+uN2FDVDDntuGeTIAIdBDgOcPVVcOFKuPEZ0Lo7kGX6kTyPMa0PYU5MMYMP2bsmuCXaq6wHsfTaQI8vlyJSczYY5OQrk8Ms5+Rk5xtCxHxNZHocLHQ9X1zkMjlQgh1lVfX02+6rUr7WOHi86x8ShvdeHtkTolFoUE7Mfx9JXv9MG6y1/6zcsfvkbzD90AdMfPImRE3PQrVFbNItPRCNymQLHfG3cyfA/puLom8ZZm8pGxXEAOOawsXwujmx9A8vhhAHnzj4a4AwdOtT0Df7dd99F1apVUaRIEaxbtw67du3CAw88gHnz5qFOnTooVqwYBg0a9Jcb8MeOFHC4/VJB5W445cZx9Zsf3OcxZm2qSZSbQJmbUHI3IuDw6o0V4PC1cLZvqq+avZEt02Qzb/hN4XOEgX4r1S3hrBJ+XxHlp2sxd/NMZeWbGKuDszk3MltKzNswS0pUbXio+agv4VI/873Qj/DsEMKRIYR3+0TgUo94fNTTb4CcD3ro4eS/ca0qlsNhO6pedwA4oj3FW1OiKsHbL6Id9QCn1vAgs11yrUCHt65Eu8oOcHgVhwecx2sSWg8ixMwhxM8mDOlBeLJuDI5VTcFzNaJUkGEb1OVXWV2h2JOHVDjiJzzL1Bzxc2aAnOLGTI42J0cdBrhCgJyFhtCxcZ3DeBVy9DyO1zAEcGAkFzgWquNd3YSuPh+6JyajZ9G70K92Uwzvnok+Ne9Be68P/TM6Y9GxT7D87K9YfPJrzH/2IqY/cAIjxy1Ft7rN0SImTtqoktXG+bk4doBTg3TAMW8aNwNO2UA2leOwcYA2VRhwbuuJI6JVRPQCEX1Lyid5keRxj6i/J96LFs87Xv2960T0CREtJCJfiB+jBjhZWVnS7ExmZiZGjBhhApgrV67g2WefRdOmTZGZmYnr16//Wdzxpx0T4EhyN7aAI04kdtKSYmDj57I2MqjhwcbBhOJg4CaYlQxWtfCuLsWaMuyb4tWbaHOwmN81Na+gMtBvaSHdmtrAW1PFlJH7j5Z2GXI3DG5YqJjBzUtNzMoNy9vwQWKm2vBgw0PN5f6EfwxQ70D1DiC8MITQbBqh2kzCll5VcLnBEHzWqh4+6hlhgJz3uwcPOC81sc7f8OoNm3kTKFvC21H3q9u1NahJV+42yd3OXwY7KujskEAOU3H4LI5V0JgHnL1VXdjSiNB0GGFwT8Jj9WLxVqlu+EfKWpy5uxmeq+nXZhnZXR52AoGOTPkyQE5Ju0yOPvE4m5t2zJpVs5Lk6xzGxvkwWl3nMDLGq+dxxFaVz4XekX70SUpG32KlMLheM2SNW4w5j57G8jevIPv8dczf8x7uTSyIzoWKYOLShzFt87MYmTkP3ao3RMvIKHmjiqxr48GoOArgmDeN8zNxgrWpGOgYAMfBPJww4Px5pyQR/URErxDRA2QPOFeJqL5wq0keO5eIcokom4gyiGg6KaCzI8SPUQOcnTt34tVXXzV9k8/KysKoUaMsFZoffvgBffr0wbPPPvuXU3GkgBOn7JkKqN4IcCPukbKHG7em2oiKTTW3ak/xYWJVuckPuGHTiq2Cxaw5Jds3xawp231TXLB4TJy6TDPBh8ls5o0w0C9bHei3Ps24ikHJ3bi0NQwsd3OgOhkaU/ycGwY3fJiYWVK8aiOCDQ80Hw8i/JPdwcr9xyDCzPGE9LkEzwIXuvW6F+fT38LPxXfj07ZVDXYVU3GYTeUUcPgJxkfqGlcz8PaU+A3asIOphLEGzVQbGdRsURdQ8nerBHh4RYe3rHjICWRTiXDDGlO7axH21SKcKdMaP0a9jVzKxWcFH8LLle/WNr+z+3w94+V/TwY7B2uQpW3FW1ai+mWp5KiZnBUpXm2lw8KCyuTtucLOKmPomA0B5CYds+p4TAQGFiqIQcVLYnijVpg4KQfzd7+lhYRz3rmB5Wd/xZKTX2PGlsPoHJ+oBY5bkd6qYo0qBjksT8erOLIJx06yOIawsUcIG9tkcbTXRtPrpnrV11dxdYOThccGwImLCQPObTou9RIRz9a9SgAAIABJREFUFSR7wLni4PmSiegaEd0vvH0OKdBTMYSPUQOcq1evYvLkyfj6668NoLJgwQLMmjXLFl6++uorTJ8+/S/TnmLHBDjctOKA1pQKNmJTqqId4GhZG5cBbsxZG2OYOC+2lF1rSjaxWNw3xdfCO7uM28K1fVM+fWLxUGFiMb+OYWZiBOYkK9NhF6vrGFZIrKkHi+sbwo2hYhcO1dSnFLP1C1Zww1tSvGrDwOZyfwFqBhM+GaLcT4fq959DCPszCZ2mESpPj8TuWhtwzf8DrqSewOctmuAjNZcjqjhiDodVxRngnGqm2FMMcNj8G1694e0psTUlDrLj68/3cXAjg5rN6S5sTlP/qf67Djouk6qjQY4JcChowNlfTW9LHarpwulyTfBt7Mu45v0WXyTtxauVakmh5mh94xVhh1d2ZKBj10Czg5zNvF2V4tUgZwk3I8fcrFJ2VmXF+TBGbVaxnVVDozwYEh+DUQ2bY9r01Vi49z1kn//dADVLX/4ai478AzO3HsHoQVPQvVBhdHC5tMBxazK2qqyG/9mtcHAKOFplXJiJowGOADlO2lQMcJTVDTY2FbcbsAgHOEUS4pCWEBcGnD/p5Afg9Fefo77w9nT17XNC+LgMNfGLFy9i1qxZ+OKLLzRY+c9//oPPPvssoDozf/78//n5N+KRAU6JEGwpp02pSj63fGCfGCQOIUwswk2g3A1TbpzkbgxD/dz6UD9DLVydeTM8xoNRMfJg8Ww286aQT5t5szrVa6iEsz1Tj5XRd0ztqaJ8gzrEhYrZVnAGN6clcCNaUky1YTbUxxzUMJj5bJj8fjqU8N4wwosjCBdat8bPZXbgqyadcbmvF5f66aFjlsV5v7tuU8kA59UWOuDwDSoRcAKrN9xsl+L6YkletdnKQ026CxvT3dK7mXuMDHQY5PAqzs5SuooTKuA8W5twumxvPF9xHLY3uQu7GxuB5lgD+8sDj6jq6KBjbKKJdl8gyOEzOcoGci+WcTNy5KFjdT5OcizGFUnB2BJFkVmoAIZHezCmYTMsO/OTHhQ++wuWvvwNFj//MWZtPoQx/bPQt2Q53Otx415uV1V79euyDQc4TMWxg5xQVRzTTBzBppJNNq4Q6UW5KJ/yA2AAwCkZG6WoOAEAx6jsxGoqThhw/pwTCHBuEdE36j+/JKItRJQkPC5HfY4YyXN8S0S7Qvi4TIP+Pv74Y4wbNw4nTpzAzZs3cevWrYBwc+vWLSxYsOCOUHCCUW4c1cC5ILFl1sZGtbGCGzvlJhhryqoWbpW94eGmDxcsZrXwkeo017GqNTUpQZ15o1pTC5J5a8qLdWkebE5zYZs6rVi0psQdU6wxpcFNczVzo8INCxP/ravekJKpNjzYMIj5fLhyvxhhvOztDHQ+GUL4ZKAHHw9w4/IA5XllKo4V4JyWAA6bYMy3p1iOhLdWjCFZI9zsKCpTbQSwSXNjQ5obG9Q1GMo/lX/fmKaAziYVdnjbigccFjyW2VQi4PD5G82eqsbgRgGQA3UJk7oQSk4mFJtKWNCJ8BwHMMcbGu8LjXRLj10ednhlhwcdpuZYNdLEz6sUclJ5yFFUyCVq6NiwsyolHlOKpWBymVKY1r4r5i7ajoWPnsK04dMwIsaD8e26Y+nJr7Ds5W+w5NgnmL1xH8b1Ho0BxUuhl8+tBY7FXVWm2jgFXuFgtafKKeBY5XACVcadtqlsAcfSpooNA86feOwAZ7J6W6l3GRH9RkQXiCiWe9wOIvrd4vk/IqLjAT6GFFL+I/O3M5F5VcONGzewe/duzJ8/H1u2bMEbb7yB7777zgA87N66dQvPPPMMjhw58pfJ4LC/140bN/DWW28pgKPaU04BpwzXlnK0bsFjsW4hyJaUE/UmUCXcbls4P/dGlr3hg8X8UD/ZvqmJnDU1W515s4jtmtKsKeO0YmUVg67e7K1KhtwNv4LhleZG5eZ8J2MFnLekNLAZRPhksAIqDFxEqPlypHIvZir30yHR+GKo3wQ5/xysPOfl/qSpODKb6p3OzgDnaH3jcs39gj0lDcdyuRsebrZycLMpzY1NHNist7gMdjaqj7eDHKNVpYeNnQCOrt6of9e6hHsHE2LmEnzzCb0HEZ5s6saJurE4UT8KLzR0aVDzYmPjFWFHpujYQY5MyWGfXyvIWZ/qwZpUr14fL+jH4oIRmJ8ej7klUjD77lKY26kXFix/AMte/ExTabLPX8eSI5cxMtaH4TFeTOjSH+O7DsSQIkUlrSp1wrFLqI2rX5c84IgTjjM4yJEpOFaNKquwsVgXDwpwYoT8Tb4ATljB+bOPHeDITnf18ZO5t+0gJYMjOx8R0bEAz7lIfU7TtdtFdfnyZezevRuLFi3CggULsH79epw8eRIXL17EmTNnsGzZMsyZM+cvZU/dunULjzzyCO69917Uq1dPAZzYaBQPlL0J1ppSA8X84D454DhrSdmpN3bzbgJNLJY1pwzbwl3mbeFKLdxlVG/UWjgfLJ5mMfOGWVOsNcWsqUdLK98gxWF+ssbUay2Nbal37zXmbS720VUb3o5iag0PM//K1O9XowifjyJMn0LImkI40bovvmjbFv8aUBCfD3NrkPPPwcrz/mOA8md81NdoUzkBHLFBxdtT+y3sKTFYzKrg9xUWLKk0BW42SsBmXZrXcEXQ2ZhmoeRwgeNQAGd/NWVI38GaehX8uTqEDa0IdccQmo4irGnrxYlapfCPogvxYekROFUvGS82VkBQdkXgsQMdVi8/WIMMuRyxnWZlV21JJ21vlTLt2IfsEslYWqEkFnfvhyUrH8Xyk19pQJN9/jqyz/6K5a9+i6XHP8X0YZMxKtaLEVqrSrF3B0S40c/vMq1x6MYBTmcOcBytcFC/1p1sGndSGdeH/lEQgGNfFw9dwQkDzp95ggUcNym5nKe5tzGLKlryeCcWlWMFx+58+umn2Lt3L2bNmoXWrVujW7duOHToEP71r3+ZFJ7/9WOwqGKVfVPBwE3gKrhN5satv1g4mUxsp9xYbQkPBDcZZNw3ZWdN8UP9+qi18P5cLXw4VwvXgsWJbGIxt44hxWcY6LctXbemGNzsrsByN4RD6qTiYw30ULEIN8yWYnDDWlKsIfXPQWawYSDz1SjC16OV+80Y/b44nlB1LoEWEWpk1sCrpY7h55qL8FW/dIOS88/BhI8FFedC7+ABh31DZt+EeZVBDMSK6g3fltqaTppqI4LN2jQP1qZ5sTbNizXcZW9TYMeo5oiQo6k4EpvKCnAM+Rsue8PghgWKn2pCONiY8Fr1u/FN0l7cohu4EvUh/l+FrnjpHhdONiXb+1ITI/SIsCOCjqbmSCZE60qZEXK2FXZhcxEfNqR5sC7Ng5VlUpCdvQPZr3xjgprs177DsuOfYsHqxzGzaz9MKJKirHKI01tVQ9UBgEpt3KVNOO7lNQ//6yzJ4oiLOG932Li6ywg4VTzm3VQMcMoFqItrA/9CmGjMgsYFY6PDgPMnnFAA5zci2s29rZ/6HPWEx6apb89zyDiU88033+Dw4cNYunQpZs6ciUWLFuHgwYP48ssv/+chhwGOmwjFYhyEi9XsTfkgMjfyLeDBtaRCCRVb7ZoKVAvn1RsxWNzDYE251KF+HgyP8iCT1cIlwWLNmhJm3mxRv1my1pQ+74YMuRvWmGK5m9daKhOB32xnVG74vA2ftWE5G6bYiFDz77HK/c84/W6cQqgwjxC9gDC9zQR8lngJP9edga8HJeHLkXom55Mhuoojho3f7x4c4Dxfz9qe2lXenBF5sLhiFfHW1JZ0Fzal63bUOguoWc1dM+zwkKPbVVstbCorwGEzcBjgsHDxIU69YXDDwsTHGxJONIjEJ0VW4br3P7jm/xwXy4zFK42j8XKG8t//VDPzZb8nwo4V6OhWoGKBWkHOo2Vc2HmXGw+VicCOcnHYVq0oNrVqgo2V0rG+sBerBo9EzvnryD7/O7Lf/BXZp7/H8uOfYMmKnZh/b2/MKlJQqY4X8GNCgh9Z8UqralSsFyNjvYY1DoqKoyzj7M2rOEIWRwQcpuKwRpVYGZcN/rOaieOoMq5mcQwqjvA66CSHwwAnYNDYYkZOkYQ4FAoDzp9yggWcXurjJ3JvSyLFotouPHYW5UNNPL/ODz/8gBdeeAFPPPHE/7xtxQNOCYeA40i98ctn3PDqTTBwI4JNsHDjxJqSqTfGlQzGbeGGWni0RwsWj49n1pSSvZmbpM+8yVFn3jD1hu2aMramCHuqEA6ow/xkjakzrfX1C6Jyw+DmY0G1YTbUV6PMUPNtFuHbLBe+G6/cb7OUe24CYcUkP95qnokrlTfi2x418NUo5Xm+GGHM4zAVh7ep+KDx2x3NgMMP+TMBjsSeYk0fXr3ZUdSYu2HqzYY0t6barEnzYk2qEuq2uqvVu0ZTc4x2FauRb0vXBwCGAjhac4rbIcasJBYgfrEx4Y2a1fBhmcl4u1oznGriM4DNK82Vzx+7rzTXrwg7DHT4rI55HYYCOdpQwMou7K7oxpOVI/BY1Xg81LAUto7OxNodB5Fz5ifkvH0Nq3Yex6Z0D9Y1rImc4/9EzrGPkZ29A8s6dcXiIonK5vEkZfP49MQIbZXD+AQfxqmQo6k40crGcTb8rx+XxekhyeLIbCqnlXE7wHE8EycfASevNlUYcG7vaUdEPYhoKCmf5GfUX/cgxWoqQUSvkzKduB0RtSXFirpGRB+QuTHFBv0tJ6KmRDSNlOBxngf9hY/5GAHHZmaDak+VcaLe+D0B2lKhhYn5f3cCN05zN2It3Eq96enV1ZsBfC08WldvxInFc5KUQWjaOoZUL9amubFJVQN2SK0pMuRuDI0pDm7YED8ebnhL6tMhumojgo0CNTrQfD9BuT9MVC779fcTdOD5z1gX/j1WUX14yNECx4KK8/deZsB5q70ZcNg3X37BpqwezoeLmXrzQDEFNLaruRuWuWG21Fo1DLtahZiVqV6sTPVZXgY7a1K9WJvqxXo1m7MhzaOpOFrYWAgaWwEO2/q+t6oeLhbVG6bcMJB9PoOwtSNhUl/C/Z3MUPNaS+vLQw+DHVHR4dUcDXJqEQ7UdGNvrQg8UzcOj7coi/smZWHdI0eRc/ZXZUbN+evIeft35Jz9Bat2n9ZCx+vSPFid5ldCx4V8WKpVx/16dTwxAlM4FYdtHR+p7qqSqTj8nipexeHbVLLKOFNxMiSAk1ebyhJwIuRTjW9vkyoMOLf7fEokD/aSMuk4kYj2k7Jy4SopU4kvEdFKIkqweM4JpISKrxPRZ6SoQnle1RA+5sMDTslAgMPVwkOedRNk5sapcmOXu+EBJ0MCN5bbwl3mfVN9DNaUHizma+GTtWWafjVYrM68SdU3hfPWlLJIU7CmahpDxWJj6lwHBW5YFZwpN/8YoFtSvGrz9WijWvPdeB1mfpjowo+TXPhpsn5/nOTCjxzsaJAzToGkr0crz8usKjGL81FffapxsIDDAsay9hQLvsrUmy0C3KxT4WaVADUrLK4MctZxgLNRZlMVdQ44yooNvRrOqze8cvNSE8LQQYQCcwjuBYTMwYQXWjOAceG0uiH+9dbye7qVvszUCnR42+pofcKReoTDDfzY06k8Hpo9BRt2n0TOW78ZoeatK1hx5kesfO5DbFi0CttrlOBCxy4ldKwOAWTV8QXJfm1f1QxBxcniVZxoRcVhKxwGRKgqjteFXh5JFod0FYevjMvaVAxwZGFjHnBkbaqgAEeYhxMGnPD5M04YcGwODzilHABOntQbt0sJ6DlUb+zCxDKwkc27CbSOgfn2lrVwl96a6u1zoa/fhQHCxOLMWC/GxCrqzaQCSrCYLdM0tqYUuNmc7sJ9rDVVivBoGdL2TO2tStqGcLaGwQncaMrNYLlqw8Dm+wlkAJqfp7jwy1Q3fpnqxq/TlPvdNBe+zUrA9+Oj8dNEH36cZASd/4wjTcnhrSqWxeFtKj5ofL6Tc8ARpxfL7Ck+e8MaUxs1W0oBlNUpumrDQCYn1S9cH3IE0NFUHNWq0qvjLmwR2lRWgMM3qFh7iqk3fLBYhJuTTQkLexLKTCV4FxBajiU80tmNMy0i8fY9xXEuIxVvtFH+X5DdN9R1GGfa6MDDw44MdJ5vEondo+7Fite/M0PNGz9i9eH3sGVRNh7s2BCPlvVoCprWrEpzYWOqvpgzx7B5XN9XNT0xApML+DGRs6rYhGOm4gzS9lRJGlWcitORjFaVaFMxFYfNunJqUzkOGnOvc7K1DX9WkyoMOHf2CQOOzXEEOFx7Kq/qjRPlRqbahKrcOFVv+JUM0lq4z5i9GRLp4Yb6+TT1xjSxmK1jSPVijfpN0tKaquySWlNiY4rBDZtz81FfY5iYwQ2v2jDFRgcbHWquTPfgynQPfpvhwZUZboyZQ+g4qhI2tpiGT9oOw8+Z6fhpsg45ipLjwjdjFIASVRxmU7EcTl4Ah8/fiPYUXwvXczdKqJjP3OgqjQI02Snmy2CHV3L4PM56rTau53CcAg5fD+cBh1dvWAX8ZFPlc7K/DWHEYMKYwYSnOhHeq9sQ36buxu8RX+Czu2fizTY+vNlO+XyK9812yj3Lgc6Z1up6DEHRYZBztFUBPLJoJnLO/Yacc79hxRs/Yt3Bc7h/4QI80akWnqpsnJOzs5RLX4tRRP1vkObC+jQ31qR6sDLFh2xulcM8dZXDzKQITEtkCzlZ4Nir1cYVFceDQXwWRwAcmYqTnzaVXdDYam1DNUld3LRZ3OL1Na+AUzA2Kgw4d/AJA47NcQw4gewpJ+qNO2+B4mABx6o1xcMNP/NGVG+68Qs1mXrjV9SbITbbwmcmqbVwVb3RJxbrM2/EgX5PVyLsq6qEPZk1ZdWYeq+LADcS5YbBDVNtGNj8MtWFX6e5cGW6G7/NcOPqTDeuzvRo9+OZbtRYQKCFhBITS+C1cnvxW4+W+HmyGz9PUQBJUXFcBqvK0KgaqOdw+CaVE8B5ro6SBdlfPXD+5v4iuj21OV1Xb9al8daUAjg5EqgxQU6KHzkpgorDAc4GdS6ODHDEkLEYMN5XlbWnzNkblrthcMM2wr/WUoGSM60Jl6r0w28xHyCXbuGH1AP4sFEtnOugqHlvdzRe9nYeeDTYaU04Lag5LzUhnGhCeL59GnYumYtH5k3Fvq6VuFk5ZKrqG5Q0FTSVPI7bZFUtLqh8LfAqztQCfkwq4Nc3jnONqiF8FsenjGQwDP7jACfQZOP8zuGEAjjlAqg4YQUnfPJywoBjcdgsn0uXLgUEHCfhYkv1RjKlOC9VcCeh4kDrGKxq4Z1IaWmIQ/0M6k2UB8NUe2o02xYez2dv9H1Ty9jEYtXeYOoNP9CPBYvFSjizpl5vrXyDYnVwBjcX+xAuS+CGt6R+mMiDjRFqrs1S7u+z9Xtqjhv15rsRuZAw4t4huJQxC79l3oVfpymKD1NymFUlqji8TcUDzt+6KsqTI8BRK+IywOGVAz1cTNiU7sZGbdaNEirW4canQcxyyTVBDgc4qw2A48HGdDe2pMkBh61qkOVvZOoNCxbz2+AZ3JxW4YZZUe82K4z/FHkIV2M/xBflp+NvLYrh/7N33uFRlF0bf7YmIQ0IIaH33qVIUxDpSpXeRcCC9F4SQu+9dxARKdI7KL13ECkiWHmtoCg12b2/P86cmWdmZ0soyqeZ63ouZdkEzMbMb8+5y6k6BI2n6+oPPy4Djww6vLriNnee5sh9YHo9lCfk0LqQIJ1XVbMyKqWcUpXDqPQkOE5QWsdZcNxbWlV5OKpMcnGaOmiK84bN4gE43jJxzHQ4fyfgyKCTx0ceTgrgpFxPcgUEOHI1g3z+rZfL5cKkSZNQvHhx5M+f/7EBR20PD/I1vUleSnFyV1NmlnAz7U0gqyl2Tsmhfk2VxGKe3ryZSj+9kUP9+qc1t4WrwuJMFJjGXVMrCtA7/LXFBDaW0izhn74s6W5Msm4uNyOIuN5GW0ux3kae2vzRUw82DDQPB9rwaJANjwbZkTjYjqQ4+mfiYDvuD7bh5CArvuhUAH90zoL7fYJwt68Vf/UxQg6BlKzFkddURqExZ+EcramVbfoDHM+pgUWnv2Fx8VSDJVyd3qR3YJQCOAw0IwzHA3IMYmMPwJGs4rJNnMs2jespWVzM2hvjakoHN8rU5mhNoa2hXhc4UyMtztZMjdN16XuBm+K5mkM+/PiZevR1N052jtaU1lZV9dMcOVVac7UJnatN00QpIYAKcHLzuFzlMFIq5OQpjiw4ft8wxZG1OK2UNZUc/NdQsYx7y8Qx66aSdThPIjROLuAUeELAyeQHblIAJ+XyCjgMMT/++CN27tyJefPmYfz48RgxYgQmT56MlStX4vTp0/9q4PG7ogrEHh5AYnEgcPMkupvkTm+8Ao6XQs2Wau6NTeecokoGJ3pEOtEnjVPV3uhs4Urf1KwMnpk3qrC4hJZWvKuifjVlFBUz3HDOjQw3P3fWw81ffSy429cTbBIH25AUZ4Mr3k5nCP0zKd6OpDj6/UeD7Hg4kD7ufn8b7vYlzQ6vqkiPo5/ifNOeeq6eGHCKeQb8mQmMGXBkWzhZwh0S4HiHmxHREuREa4CjrakcmCCtqHSAo9jEOcmYAceYYGwEHONqiqc38lrqiLKSPFJbYGMDgbGtBZY1EzgpgQ3DzPmGnkcGHYYcnurIkMPN7v4gR02WVoTfsi5KXlWRq4paxydJhZzDox2qFmeANMXRranCJcBRHFUy4LAWh9dU9ZRkY3/VDf5qG5IjNP47Jzi+4CYFcFIuvjwAx+1249q1axg0aBAKFy4Mh8MBu92OkJAQxMTEIGvWrIiIiIDdbofdbkeaNGnQqFEjrF279l/bJu4TcHzpb/xqb8hS+Th28MfJuzFqbyoLLdXU22pK1t7UU5xTb9g0wJFzb1TnlJJ7o05vlNybQVGkN5Bt4ZxYPDeT1hS+LI8+82aTNL3h1dTh6voCTdkx9VVrzQour6V+6yrUldRffay439+qgg1PapLi7XANscE11Ab3MOkMtcGVoJwhNiTF00Tn0SBPyPm9h9V0iiOvqa621DupztR7ioAj2cOnq4BD2TXj2TWlTG+8wo2XSY4sNmYdjiwyVm3iEuCY6W/06ykttJFXkPJqal8VT7g58ZrAkLYC2fpRXUbz9wR2N9Kg5kJDWv993sj8XHhDKzw1gx0GHVmb4wtyOAyQpzhynYO6qsokF3JalSmOQ53iGLU4lG5ssIxLHVXe1lTspuLqBrNMHF86HNlN9bwCjv8TlgI4KZcecH766Se0bdsW6dKlQ+PGjTF16lScPn0at2/f9rj537t3D19//TVWr16Nrl27olChQihatOi/CnQCBRzf0xub79wby+Pn3QRiC/fXFG5Wpukv90a2hnsr1JRzb3qndmraG24LjyGL8bRYC2YpicV6YbEFnxTThMWya+pgVU13YxQVf9WaIEKGG1pLkd6GV1L3+ysTm8EMNXa4htrhHmaHe7gd7hEOuEc6AOW4hkTANTgtXEOD4BpmhyuBpjqJg+14ONCOBwNsuNdPv6oyTnHUNZVBh8OAc/J1WrmxBiQ5gGMmMFZXIkp5ppx7I09v/MGNOeDoV1RGwJmbSeuikgHHOL3hJniGWKOwmF1yh6prcMPlqXNbCLzQi0TflXsIrGipfC/UC8fVWtlwuW46fNFEa42/1FSov+ZWd4YdI+jwREee5hysKrC/ilahwZocLWGa9DhG+77aV6VM1mZwAGCMDeNiWIujn+L0VYL/ukfSFEcL/qMpTrsQclO1cuqD//yF/nnT4VT2Ajj+msWfCeCEPg3ASZngpFwS4Gzfvh1FihTBiBEjTIEmkGvTpk2oUqUKunTpgp9//vkp48bffz1TwOFQP/H0hMWBBvrJcGN0Tnmb3tSXU4sV7Q1Pb9oGky7grVAb3pacU91TS6nFHm3hntMbfVM41TFsMllNHZFWU6y7YceUGdzc6iZUuLnXj6Y2jwbZkBhnQ9IQO1zD7HCPsAOjnMCYYGBsCDAuFTA+VD2zuhZBz3rtMLdWV/zQqSJccRFwD6NpT1KcTZ3k3OtnUyBHc1VxLg6vqa63JQG0nGh8tr5W13DYJ+CIgAFnhuLcebqAQysqrm/gXipj0B+3iZvpb4zTG3ZOydobLk3dX0U/uWG4OV1XYFcjgX4dBDq8KzC9ncDBN8LxvyJ98Cj4BzwIv4SbL7bC5Wb0vSGfy820TjCGHhl2GHRYn8Mi5MMmNRoMOTo9TlGhrqrkKQ5P17TJGtnGx8TYMTK9A0OjnYhTpjhkGQ8ydFRRJo5mGfcEHHVNZdHbxf3pcCoL/3k4/oTGf7cGJwVwUi5/VyEhBGbOnInXX38dt27deipgsHz5crz99tt49OjRU/l8/9T1NACnkC/AeQzn1JPCTSDTG4/cG0E/MBtaBRpZJeeUw6I5p4zaG9k5lUbvnBqnTG/YFm7U3qwqTO+EeW2xo7wmLD5UXZ93o4qKJcfU9x0JKH7uTHDDYmJeST0abENSvLKGGm6Hm8FmfCgwIQyYGA5MigAmRwJTUsM9ORK1B0bBGWdHyMAQ7O9eBO6EKLhHOmh9NcSGpDhtXXW3r01ZVdEUhx1V8prqWmtNh2O0ijPgyJMCHeAUDxxwpj5DwJmgFG9y0J+ZwHhxDmG6nlpjsIbL0xuj7uawtJZiuGGdDa+hvmgicKmxBT8V6Y8k219wWx7g1wIjcbWZFV+2FB7nags6DDwy6MgTHXllJXeF8brKvEpDqDlFmghcK0Al27hFN8XRa3Gcest4JGtxaDraUQGcdmron9Uj9M9XN9Xj9lI9TcBhuMmfAjgp1zO8Cgkh0Lt376e+Vjp58iTOnDnz/3pd9USAo0xvCnu1h/vPvXkc3U1yE4uN2ht5NeUz98ZhQSunRXNOhepzb7pHOtTUYqNzirU3Mw3TGyrTtKh1DCwsVldT1fR5N6y7YVGxJ9ywmJjg5uFAGxLj7EgE/wwvAAAgAElEQVRKsMM13A736CC4x4YQ1EyOBKamAaalBaZHAdPTATPo3J0WheLDbRAJAkU658fZ4TH0MWNDgFFOgqQEWnU9HER6HP0UR0s35jWVUYdzroFnFo4RcFjQ+kwAJ9o/3BhdVBPUJGNqFJ+RwaLqb7T1lDaZ4+nNqsLUpcXWcJ7eyKWp+6rQSkiGm1N1NBExd4zx+oknNT+81AB/ZdyCO9lW4OYrr+F6iyBcb0NrwettldOGvv5ftaapHwMPJ0zLoGOc5rCd/JCPSQ6Ljo3Wca7RYMGxPMUZa5jiaJZxahrXJRuH8ZrKqq2pWGisFHA28LGmknU4/yTg5DemGYemrKhSrqd7peTg+LieHHCsKGK3+AWcx4Wb5AiLHwdwPHNvLLrGcNkarnZORTjQJcKpNoarqcXRTtLepLdjUow2vZmfRd83taqQpsuQhcVcpHm8tj7v5moLmoawHZzhhgXFMtwkxSs6m5EOmthMCKNJzdQ0BDUzo4FZ6YHZMcCcWPW4ZqXHD9PT4cDk1Ph0eFbcnpiegIghZ6ST1lUJpMmR9TjyFIfXVDzF4TUV63BkJ5UMONwm/kwBxwfcqNMbNehP098w4EyP1etvtPWUNpkzTm8490ZeTbHuZv+r2mqKxeRn6kki4jf0cHO1BX09r7Wy4KvWFhVmbrSj7w3judFOA56v2tD3kBF0eG3FadPyyoodVmaTHE2PYzFdVc3PShA4QwlgnBRrxbgYmy4XZ7AqNjYmGzuUZGNjAafWMN7YptQ2WPWAY0w1fh4Ax9f0JgVwUq4nvVIAx8f1pIBTyGFFER8C4ycFHG/TG3/am8rCfD1l2hguFOcUa28U55RmDSdxMU1vtMbwnqmd6KsATlyUp/ZmpnQjXJpLqNqbNUU1y7A8vTkktYTLq6lrrch6/e1bJOT96T2BX7sI/N5D4M/eFt3khuFGndpMkcBmdgwwJwMwLyMwLxMwP7NyMsE9LxPc8zLCPTcj3LNj6PnT0gJTUtM6a2wI3CMdcA2lKY62qtKmOCw2ljNxrrXyFBrLTqp9VeiGbwScdVLQn9FFlVwNjj/I8QY4EwwCYw744/UU28PNxMUc7MfaG7PV1EFJdyOvpeTJDU9tvmwpcLm1wBdtBL6UoOab9vR94e18014POzLo8OqKrfxGyFHXVcoqkV+nHeU9rePy6yRPceQKh/ExNjXdmIL/SGzcJ43TsKbyBBzPbip9qjEH/j2PgJPSRZVyPcvrsQFn5cqVGDlyJG7evPmvzMABni/A8VbH4A9wAp3eyHAjB/up0xsJcFqwNTzIijdDrOigiIvfU4L9ekQqzqk0QRisrKdGqLk3lFo8K4NSqJldYFkeKtRcpfRNGW3h+1+lkkTZNaVawpXVlCwqvt2d4OZeP2Vyo8CNa5QT7nGp4J4UCUxNq4HNvIzA/EzAwizAwqzA4uz6sygbPb4wCz1vTgZgZnqCoympgQlhcI8JhmuEE64h+inOn70tyhSH4Et2U3Ftw6Wm9N/ETqpjipNKtorvKK+5ddaXsGCNF8BZmM3ERRXjH3C8QY62nqKPUac3MTaP6Q1nGRmnNxza6Gt6Iwf6GXU3HAVghJurLQQ+ekugcm+BoHiBN3oL7Omogc13Heh839Hz8O9910EPOyrotNIqNXxBzuEaml7qs0reBeHaFEdxVLEWR1lTTTSsqeLlNVVqbU2lhf7ZaE0VbFW6qRS7uJfahucacHzAzeMCTkoOTsolRDIA55dffvHQ01y+fBmdOnXC1q1b/5WQ83cBjhnkPOl6KtDOKTPAMZ/eCCnYz4I2QVa0C7birVQ2dAy1qeLibmqpJk1v4pVgv1FSYzinFlPujTa9+cQQ6idPb1hYbHRNff2mp6j4Ti+GGysF9g21wzXSCff4ULgnRxKYzEpPYLMgswY1S3MCy3KZnw9yAktzEOwsyALMzQjMiiGtzpTUcE8MJ8gZbkfSEDseDbbhwQCypP/RkwDHKDa+3lazixt1OIdrBAY4fOP0FvTnKwdndHrPigazyc2o9E4FbrQm8Ukx5J6a5mV6I2tvWFulaW/0wmJ5NXWgKq0iA4Gba60FVnUSKN+PrOK1+gpsf1eDmB86WnCzgxM3Ozrwv3eE7tx8m84Pnegw9OhApzXppMza33mdyK43WY+jf630gmOzKc7UWAsmxXLTuF1nGWexMa2pHEp1g6TDCaYMqlZBVjSX1lTeeqn+vwFOjrBgZAkPReaIMK95N94AJ2NkOKJSAOc/ffkFnH379iFjxoyw2+0ICwtDzZo1MXfuXPzyyy9qgnGnTp3+X4uJjZfL5cL48eNRqFAh5MmT57mZ4AQCOP7ExZVF4NZwb+upVk4L2gRb0S6EAEdeT3GwH4mLg3TiYl5PyanFS3Np4tO1Su4NO6c+q0Q2YbaFs/bmUlO68Vw3rKZ+6yrUhOL7/a3klhpqg5snN5MjCUh4arMoK7AkO8HLh7mB5XmAj/ICK/JpZ245XK4+E4eqT8D5t9/CHzOLwrU4G4HR3AwEStOigMmR9GeMdMI11I7EOEo65imOcU1lpsMxCo0PeAGcDS/oU3M9rMiBAI4PyDGupXg1xdbwCTF2TI4h99T0WCtmxkrZN9L0Ru4TW1mIoMzb9IYDHA9KuhteTbFbiteSV1toJao7Ogq07ClQaKBAp14Ce94V+LFlFtwpPRCJkZfwIOtm3GpYDj+9J3Tnx3eFWojKsMOQw+3v7Hb70gRyOCuHc3I4CNDU9VbMgtWFZRilr5G6psog1Kbx0dKaSs7EoTWVQ6/DSWXDmyFWSYdj1QFOw2QADlc2PJeAE6EBDk9mApngZIwMR1R4aArg/Icvv4BTvXp1DB48GDNmzMD777+PggULwuFwIDQ0FI0bN8a0adNQu3ZtJCUl/X0E8jddbrcbX3311dMHnAAs4v7WU74Ax1fnlLfk4lpCEyLqxMUWyRrO66kgLbm4o1Kqqa6nUjvRW7WGByFBWU+NURrDp2WwYI6ivVmSU+hSi/mdvZlz6lQd/fSG04q/70g3ql+7UAUDwY2F4GaITV1LYXIkMCOahMMLMtMkhsHmo3zAxwWAVQWB1YX0Z2Rz9GnZDGn7poFliMCauRlwf2kOAqOFWQiUGHImRcA9NgSuEQ7DFMeiTnGMayq2ixuFxkdq+raKfyJl4XAtAAuN5bJN7qKaonRRjfdoEtdWVZ4N4goIScLiCbG8mjK3hsvTG49gv2J6W7gsLGbXlKy7YceUXKDKk5vrbRWdzVsC33YQ+K6TwA9vC/zvXYFfWuXAvQIL4BZuJEafwB+16+PXLkI9v7yvnZ87a8DDsMM6KbUBvo0GOXK9hgw5cnYRa3HkiZusxfkgt1bEycF/U+U1VbTmphpgXFN50eEw4KiBfwrgNFCs4rKTyphmLHdSmQEOQ05yAYfT24vaLCj0pIBjWD2lAE7KFcjlF3C6devmUbJ58eJFxMXFoWjRokifPj3mzJmTsqJKJuC8ILwDztMK9pMBp7Lwv57yPr0RaOqxnqLW8I6hsrjYoUxvFHFxuiAMS+fEqGiHTlws5958mFdLLWbnFN/09r9KNzwzWzj3TPFq6nZ3i7SaUuBmuJ3WUlNSE9zMzUBQsjQHrZ0+ygd8nJ/AZk1h4JOiwNpiwLriwHrl9O+Gni2aI3W/1BAJAuvnZ8KD5XkIjJbmoPUWQ87UNHBPCIN7NKUdJ8bZ1CnOnV4W3OomdG6qb9rr7eKyDsef0HhtMXOhsYeTKpZSc+XCTSPkjEmvndH87zzlUZ43ThUWa3AzXV5NGbQ35rk3QrWF82qKA/3k1ZRxciPDDSdVc0P89x21rrGf3qOv768dI3G3xBi4nLfxMNsW/Fn3NdzublHPrW70WtzqRlM/hh5eIcoFqQw519t4TnIYcoy6KePrZabFkac4XN9AbirPfqr+UuifahcPt6NjKOtwbIoOxzfgsA5HzsIxrqmMgCNPcR4HcIry9MapAU6BJwCc5GhwUgAn5fILON27dzeFl/9Cs/izBpynrb/xtp7y1jvF6ylTcbEJ4Oiyb0KoNVwWF3dXrOH90joxKEoTF49Ob8dEZXozy8QavrqIhVKLS9GUYldFbXpzVJreyHUMLCyWV1N3+1o03c0wO9xjgmktNSMdCYMZbpbnAVbkB1YVAtYUAdYVA9aXADa8AGwsCWwqpZ0NpbBuYT70G5cb74/PjHPL8iJxZQFaX32Yh3Q7C7MQPM1IR5MiZVUlT3HYMs6ZODff9lxTfd5IC/wzajuMa6p1xS2qtmNFAfM+KnVNlYGnOFZMiqUmaxlyxirZNtq0ho9dt5bSpRbLtnAPYbHQraZWF6EGdHk1JWfecBXD0VpaQjVPbuR2eCPc/NCJYEQFmy70vXCrqwW3uzjxe5dg/NHDjjs9bfijJwHwnV40TeMjA48RdHhtxSsr4ySHAxp19n5p6sZdVTzF4VwcmrgJ1TI+O6N+TTVGt6ZyKm6qIINdXAIcpV28pdOqCo0bSUJjM8AxW1MZJzjGNZUZ4PiqatABTpBNBziBWsSzhwUj82MKjFMAJ+XyCzgff/wxNm7c+K+FGF/X8wg4/O/Jmd4Ekn3D0xude4rXUzYpuViXfUPrqc4RWu9UnzRS71S0k1rD09N6ajqvp7IZreFa59T2clpq8eEaWu7N540ELimJxfL0hlxTFtUS/mgwiYrdo4PgnhhOmps5sSQMZrj5OD+tnz4pSmCzsSSwuTSwpQywtQyw7UXtbC0D1+bSSNpYCkkbXoB7fXG41xShqc+K/MCy3CRQXpCZRMdT0wITw+EeHaxocWiKYxQby6F/8pqK03NVHY7hhqlbe5jkrLCAdX4W2S5OqblT1CmOXQc543Swo/16vFrHoIebaRLczMloDPUTutXU6iLmqynW3XDezdGa+vJUXkfqJjdtzeHml/cJTm51I2ChQlUqPv2rj3bu9qUjP/Znb4Ke33sQ6PBEh1dXvLKSi1K99Yh5m+JsLi2woaS2VjSKjbmEU1fdEO3A0HROxEWRm6qvlGocGOBQ8SY3iwdiFX+mgGOoaAjUIu5bYOx7ehOTAjj/+csv4LjdbowfPx6LFy/+z0HOswScEuLJV1TJrWaQ4cZYrCkDjrdqBs6+aRfCxZo2v9k3o9I7MD69XZd9Q+spoYqL5fXUzgrau3ou1OTcmyvN9bZwmt5YlOmNtJoa6YB7fCjBxmxFc7NEhpvCNLXZ8AKBzdYXgW1lge3lgB3lgZ0VtLOjPD2+rSwB0MaSBEWfMOTko3XX4mzkrJoRTa6q8aFw8RRnkA33+7PYmG6gP74rdVO1oZv4F030eThHamq1AEYL8voS2ppKLnaU11Q8xZlp0OJMUlZVE2MpjXiCBDN8JsRqVQyy5mZarAUzJLiZl1nLvDFbTcmFmjy9kVdTZrobhhu5HZ7hRl5J/dxZ4ERXgWF9BNoMEJjUT+Bib4Jdhpl7/Sjo8X5/m3ru9aO14b1+GvAYQYchR57kyJoctvfzqkqe4jCUylM3DmhcXcS72HhqrBUTY6m6YWR6pWE8Sm8X5zycd8PteDuUhcZaL5XcLN5IApxArOLeGsWfKeB4gRsGnMwRTwA4qSMQFRGWAjj/4csv4Jw+fRoFCxZEcHAwihUrhvfeew/Lly/HN9988/8CeO7du4e4uDjky5cP2bNnR+vWrXHt2rWAPjZQwMmn/E9rmmQsie0CFRn7Apyywlx/48s9VUl4n97IgCOvpxqarqcoc6NdCL1z7BQqrafYPZU2CIOiNPfUmPSUmTJV0WvMU9dTgsTFhS3m1vBqmjWcnVNm2htKK1amN7yaGhtCupuZ0ZRbsyQ7rZNkuNlYkoBlW1kCmV0Vgd0VgU9fAj59WTov0eM7KwDbyxIMbSoFbChBE6BVhUjL80EuWlXNiQWmR8E9MYKmOIoWh+sb5CmObk0l6XDk4k05D8eo65DXVGZ5OPIUhzNxGHI4/G+i4q7yOLF2TFaC/GTNDcMNt4X7yrxZXUTrm9pSRgNYOdBP1t1wUjFrrVhQzGspI9z81lVgS0+BSoMErEMEGg4WONrPokLNgwEEvd7OgwG0PmTY+asPwRGtroTO2i9DzvW25OIy6xI7VkupcTBxVFERp14YvjiHVN2QQdPhcMN4fDonBqUl0X7vNE50l/JwPAAnyIrmipOKAUd2UgUKON6cVP8Y4Dym/iYFcFIuv4BTu3ZtdOjQAT169EDNmjURFRWF4OBghIaG4oUXXkDnzp3x2WefPZewc//+fSQkJKBEiRJYvnw5tm3bhubNm6NKlSr47bff/H58oICTO8ThFXAKO5Jf1eAPcLx1T3lbT/kCHLaHq+spi7aeYnt4M7sFLZzKeipI0d+EUvFf53AHukY6NfcUr6fS0XpqnJKZMk2pZqDkYotHcvGWMtrNTxYX83rqcjOtksH39MYJ94QwyrqZk4EmK8ty0aRFhZsXaBW1oxywqwJBzGeVgL2Vgb2v6M+43kBcAjCiD7CuBk10tpQhyFmvQM7KAjQdWpydUpBZcDwuFVzDyVH1cJCcbExrFd2aqpX3PBy5WdzMncNrKqObSp7izFJWVbIeRwYd+UxWHp+igxurGubHaykz3Y3nasrikXnDXVO8mmLdDcMNa63YCu4Nbm53t2BlH4GSgwVEgkDrwRZ8PkApVH03LxJrdUJS+TFIqt8aiX3SIjHOrp3BdiQO1lrgHwwgKKKJDn1fyZMcj5BGw6pKnuIcMbxmRrGxDKSqmyoTuak41Zjt4kMMtQ3cLt5ZdlKlsnlYxR8XcHxZxRlwzATGyQWcfD4Ah8XFj6O/SQGclEu+/AJOly5ddGLiO3fuYN++fRgxYgRq1aqF6OhoZMuW7bm0if/666+oUaMGVq9erf79f//9d5QvXx5r1qzx+/EBAU5oEHKbrakUUV0hp/+yzeRYxAMBHGN6sS/AkcP96ggaZ8v6Gwaclk6lOTzYqmsOl9dTcrjfsHS0niLAoXA/LtbkbiJaYdD4nlcXeyrT2uJoTU2PcbExvZu/3kbLvWHnFLeEJ8bZ4BrmgHucMr2ZFUO6mw8YbgppkxuGm90MNq8A+6sA+18FDlQFDlajc6AqUOI0NhdZjZodXkbe4ZGY8UFO/LZFWWttLEmOqzVFyGa+zDjFCYd7VBBcQ23KFEdLNjauqb5qI3ClhbldnNdU3prF5VJHOfRPdlTNyahNcmbEWjA91oJpsVaMz2TFhIxWFWam6NZRBDYzYi2YFatfS3nCjfCwhLPt3+ia4rwbhht+ndkxdaW5Zzu8EW5+70GBjr/2seBKPwv2D7Dg3EAL/hhEX+ukljXgyroPbutDuAt/hKQe2ZGUYNOfIXYkxttU0Hk4UIMcXlmx+Jh1U7pGeJMpDjvgzMpS1TWVwU3FonCjDkerbXCqtQ0q4CjFmx1DbWifytMqbgY4/rJwjIDjzUXlC3BKCEETaqNFXPrZ6E9/owX8pUr2eooBJzYFcFIuEQDg9O7d22M6IwPP77//jm+//fa5m+C43W5s2LABZcqUwfnz59XH79+/j/bt22PUqFGmH/fgwQPcuXMHd+7cwR9//IELFy7AKgSyexPDeQMcqVH8SQEnufk3gaYXm62n6lk091QjJb24uUMCHA73C7Xj3TC76p7qlUZZT6UNwpAo8+Zwtodr2Tekz/CXXHypqSYulnNvfu/B0xsrkhKUzJuJEeRmmpeRVlMfSXCzqRSByY7yNLXZU5mg5mA14HB1OkdqAEdrAkdqAodrAAUuY2O+DcjRLQcsCQLd5mXC91vKaJOcjSXJWr66EIUELslBHVazYoApyhRnhANJQ/RiY7aMe1tT+att2FLGM2NFnuIszSXUVZU8yZmdUWBsdoHWLwsUby0Q2k8gvK9AnyK0wuIzQ1lHyWLiuZloxbggK31uhhuPvJuiBDfeLOGsu5FFxbId/MuWnnDDYmIuUWWdzb1+VtwfYMP9QTY8jLMhMd4GV4INrrZV4c62DxCAu9BauHrlh2uUk85IB1wj7HANt8E1THn+EAKdh4O0tRVPclg3xY3w8qrKmETNAnFOomaxsbamoqklr6lYhzM/i16HM9YgNKbAPwIcdlIx4MjN4i2fMuCYBf0FAjgeDioD4ORKBuAEmn0jA05M6ogUwEm5/APO7NmzcfjwYZ8A87zBDQAkJSVhyZIlKF++PG7cuKE+/uDBA3Tv3h19+/Y1/Zj+/fsjMjJSPeHh4bAKgWymE5xnDzjeNDiPU67pS2Ash/t5s4dz95ScXtwl0qE2h9N6KsjQPUX6G7k53Mw9taO89u7emFwsW8N5enOrG73Dvt/fisTBNriGOxTtTRpKKl6YhYL8Pi5Aa6SNL5Aramd50tbsVeDmUDUNao7VAo7X1s6x2sDAyTjRfRAKxGVAxlFB6L84G37YXpamPzvKAVtKk1j5k6Kk8VmWixKS52agKc6EMLhHBSEpgcTGWrKxtqb6vqPmpvK18jAP/bOoUwF5isOOqkXZBRZkFxifT6DNqwJF2wmk6i/gGCxgjaeKA0u8QKvKAjNjCWh4FTU7g+fURhYUM9yoVQyFaHJjzLuRLeH7X9XccdwQbrSDX2/jObn55X3KrZHhhotUHw2yITGe2txdw+xwj3DAPSgj3O++DLz1Otw9SsM9MooykcaHUuL02BCKERjlhHsEfVzSENJLPZIghzU5t7oJNYmaoZT7xOQpjlyYetAgNuY1lT70z6Kzi0+TdDgkNHaoQmMPJ1UyAEcO+/NV1yCLjJ854Mg/Rz3WUyGPtZ7SAU6ayBTA+Y9ffgHn/v376N+/P/bt2/dcgoy3KykpCYsXL0b58uXxzTffqI8z4PTp08fjY9xuN27duoWvv/4aX3/9NW7cuIEDBw6ogJPTywTHt9BYAxyj0DhQq7ivFVUggOMrvVjOvzGmF+vKNaX0Yq1c067awzX9TZCqvxnL6cWxFszJyOnF2npqrcE99Vklc/eUvJ5iaziJi614MFB5165qb9KRm2lxNtLFrC5MWpnNpbW11B4Jbo7WJJA58Rpw8nXgVB3tnKwDHK6Phwfq4Lf91XBrfxXc3V8Frn1VaLW1qyKJlFmPs0qZ4izNQeLmmdFU4TCWtDiJcaT30DJxLPjpPVp7yGsq+WYprzy8hf7xVECnxckrMLGYQKtaAoU7ENQ4B2lQIxLon5G9BV5tIDA5K0GNCjYZPac2i7LLkxuLTnPDk5t1JYTXvJv9r+pb4dkxJYuKv2pD4PBdB7O1lEUtUX0wwEpgE0erJtcwpSl+dBC1xY8LA8ZFAuPTABPTAJMigUkR2pkQRmdcKgKdkU6CnARaWz0aZMP9Adq6igtTjUGNPMVhR5VOIG5YLaohjcW114p0OBZVhzM9A7eL2zEqvV0HOP2kZnEGnE5PEXACrWp4XMDhgL98wfantp6Spzty/k0K4KRcQgQAOHv27EHOnDmRNm1atG/fHgsXLsT58+efe9hxu91Ys2YNypQpg4sXL6qP379/Hx07dsTw4cN9fiwfrmrIEhrsE3BypXJ6BZyCZjqcZKQZPw3A8aW/8QU4XM/QOsiKtmp6MZVrvh9ul8o1gxT9jZZePI7LNWM1ezh3T60qTO/0zcL9+N09h/t92VK76f34LomLObWYc29c7Jzi6c2yXDS94dXUtrIEJHsqKXBTneCGweZ0XeBMPeBMfeCscs7UA07Xg/tUXbhPvg738dr0MYeqAQw5OytozqpPitKf+WFuqoKYkwGYFgX3hHC4RgUhKYFWIFqysUUnNr7ho3zT1xRnY0lyVH1cVGByWYFW9QQKvSMQOkAgyARqonoKVG4i0LWswMTcAtOzU1gfn3mZadrGQmLOuKF+KW1qwzZ/1txwz9SWMlrPlOyYYlGxV7hprb3Ocju8B9wMpNf9u3gb1iRYsXaYDTdGOvFobAhBy6QIYEghoGMzoO1bQO8qwKSMBL/To6hWY2paaoJXYMc9NgSuUUFwDXfANdSOpHhtknO3r0WBHE2PY1a3wTZ/nrxxfQNDqRrSqJSlsg5nSU6LmoczQ9HhsNB4uCI0Vp1UqYM0q3iYHW+HUuCmEXCa2AlynjfAyR9sR54A1lOB2sONgJNR0t+kAE7K5Rdw6tSpg86dO6Nhw4bIlSsXIiMjER0djXLlyqFz585YsmQJvv766+cSeP73v/+hatWq2LRpk/rYX3/9hZdffhkfffSR349nkbFFCGQMS4Uc3gBHgRxTwFGOEXCKJcMq/rcBjsWQfyMJjNsE6+sZCHA0e3ifNEEYmDYI8emCMCzaiVHpHZigrKc4/2ZxDnrnv6KAAjiG7ql9VegdvrFY85qUXKwXF9uQGGen9dT4ULinRdFqaHE2YHlemqisL0Gi4p3lCUj2VVEmN7UIbk7VIZA52wA439DznGtAsHO6LoHQ8ddopXWwKrDvFdLysB5nfQmaGK3IRwnHyhTHPTk13UCHkXPHmGzMYmN15dFCHyKnrjwMU5wd5QU2lBOYVkWgZROBgu8LhClQY4tXgCZBwDJEIKaHQPUmAr3KC0zJJzArt8Dc7AQw87PQlGZ+Vvo1Qw2vozjAT15JyVbwT4ppkxuGG3lyY3RMecu6+bodTelkuLnVjQtUeSWlrCQTbNg51IoqCQKRCQJvjrDj8wlhwNQ0BDHvNAdyHgGC/wAqLgUmFCDx9+wYcrnNjCat1rS0Sht8BK2uRgfDPcIBV4IdSXGa8FhzVulXizzF4Vwcj8lbVb3F31yHQ663uYrQeKpUvOm1skHNwrGpVnEGHA77+6cBp4ihgypQwPG+nvIOPB7TmxTASblEAIDz5ptvIikpCS6XC0lJSTh+/DgmTpyIJk2aIFeuXEiTJg2KFi36XLqo7t69i969e6NSpUrYvXs3jh8/jp49e6J8+fL4/vvv/X58QIDjb02lgI6/NdU/CTjcP1XfQtHurL9pIvdPBSv5Nww44Q4NcNIEoa+afxOE4dFU1DghVgOceZkFFrtSdpkAACAASURBVOewqIDD9QybS+v1N4cV/Q13T11uRmsLdk/p1lMDbEiKV4L9JobTDWtBZtLerMhH7qZNpSi/ZndFcksdqEqAcry2BjfnGgAX3gA+bwR83hi4qJzPG9HjZ98ADjQHjjektdWx2vQ5DrxKEyFeVW0sqdnGP8xNWpw5scC0tARgI51+xcbyykPOV1GFq1UFtr8qMP11gZatBQp0E4gYIBDMmhoFaqzxAlm7CdRpIjCogsCMwgJz8wssVCoCFmXXzsJsAguz6x+jiQ1NFz7ITasUXkkxoK4uYsHaYhasL+E5ufGWVCzbwQOd3Ghwwysp0lzNHm5DTuW/t8eYYPw0NS2By+wYoGNHIPYKIABUXAHMyE/fG/MzkQB9bgZ63sz09H0zNQ1Nc8aHUpfYcDuSEmxUtTFQr50KpG5D7hPjqZtsF2cdDovC9YF/FkyI1TupuFlc7qRSw/5C7QQ4wVa0DLKihfPvARwzi3hxCwGOrmDTDHB8ZN9kfQz3lNn0JgVwUi6/gLNr1y4MGzYMK1aswA8//AC3263CTlJSEg4fPoxNmzY9lxMct9uN27dvo0uXLihYsCDy5MmDRo0a4fjx4wH9fY2Akz3M95rKl9i4kMP7muqfBBy5YLO+Mr15Q9LfqAJjCXA6hdrxbrgDXcId6BFJ+hsK+NP6p8ZI/VOzFZHqkpx0o5QFxgw4fDM8LJVrcnrx9Tb6agbNPaU4YEYHUefUrPRUfrksF0HGumI0WdmhCIv3VaHV1LHaNI05W1+Dm4uNgS+aAF80BS4p54smQM8Pgbw3cCfzDawc2wLvLcqJYR/lxbd7K9Pn2leFpjg7y5POZ11xclQtz6vk4mSkG6gS/MdiYy3Z2LCmaqeJjWVnzt46AjMbC7ToIJC/p0DqgQIhBqixxwvk7irQuKnAsEoCc18QWFhEYGl+snEvy8MOK4sKL4tz0OFf81mai57LcMMrKePkZr1hciPDDU9ujI4pzrqRg/zkyY2Z5obhxpVAEzvX6GBcHxuC5WND0GN0EDZOjEDSrPQELvMzAaPLAR27AHUnAe++CyzIQWvDRdnoe4Rhh0FnRrQKOe5xqchtNcyGpHjt9ZKnOP7qNuQ+MdbhsNB4o1LboBcaW1Qn1bRYi+qkMnZSyYDzngFwNKv4PwM4JSxeACeZBZtyPUOg7imj9oZOBKIiUqoa/stXQFUNv/zyCw4ePIgjR454tYw/r5fb7UZSUhISExORmJiIpKSkgP++OsAJD0Xm8FDvgPM4bqrHtIp7SzJ+XMDR6W8MgEP9U94LNs0C/kZI/VNmAX9yPQMH/Mn1DKfq6AXGens43WTu9aN3167hDlotcLDfkuwEF6sLk7tpG09vKpMN/Fgtgpsz9WgFdaERwc2lpsDlZsDl5vrz3hog8g5uB99GpfdeRKrhNhSfFIFTuyuSHudgVRIt7zZMcT7OTxk8C7IoHVWaZTwxXhMbc7KxLDbmlcfR5gKz2wq0fE8gfx+BNAMFQuIotZehxhknUKSrQJvmAuOrCiwpJ7C8lMCq4kJtG19RQBMff5iXgIVhx+zwtObDvBrYfFxQ09usKUrOLQ7xk9dSquaminnHFK8d5WZwM7jR1lI2DW6G2klMPjYE7gnhSJqSGnenR+H2zGjcm5sB7gWZCV4WZwcW5wYWFATmFQMWFiLo5bM0J9n5F2Wj12deJvremRkNTE0L96QI+jNGOuFK0LfCsxaHHVXqa2ao25D7xNguvrOCpsNhobHWS0WAMzuDp5NKtorrWsVlwEn1zwKOPL0pbrWYAo5H/o3BPaWWayazf8pMXJwCOCmXEAEAjnyzd7lcT4gb/7+ugAEnkDWVmZvKSu96zABHhhxj2J9ZF5Vc1WAGOP4ycHwDjtUUcLqaAM5QpWBznFywmZHWIB6AoyTcygLjY7W0/Bt+l29ML77TS9PfuEc4qXdqehRNS3TrqZLknOLpzZEapLs5XVeZ3Mhw0xy40gK4ajhD5wNFvkTSi+fQuH85hAy1I/u4VDi0qwJcx5VV1X5FcLxDmuKsKqSkG2fTLONK8F9Sgl0SG1tVy/jNdwTOdBKY+55Aix4CBfoLRA0SSCVDzRCBVIMFSnUTeKe1wMzXBT6uIrD2JYGNasIxCVk/UbqqVhYiQFlRgG6oy/NpsGN2GGrkiQ2DDdvAefrGCcVmmhtvWTecUizDDVdvaJMbK+71Y7ixU4HqSCfB7MQImrbMjKYV4PxMGtgszUkQszwPOdrMzvI8tEL8ICcB8cKs9DnmxGrrqglhcI8JVu3jjwbrpzgMpeqaqq1njhFb/DnDiIXh3AYvO6mW5CQnlbGyYWR6B4ZGy2F/BsAJkwHH9kSAU9kH4Mhw4xNwlJ9tZoCTzwg4JuJiWk8lH3C4XFMPOCkrqv/6VUgIgaVLlyI+Ph579+7Fw4cP/2mueG4uHeBEhCFzeOjTXVNZCXL8AY63KU5yJjiBZuDIAmOfgBNBgMMOqv5qwSYJjMelt5ODSslRkROMVxW2YK0XB9WxWnqBMTuoGHBudaOb34MBNiTFKTc91t/Mz6S5p9YWBTaX0sTF+1/VAId1N583ojXU5WbAlebA1ZbAl3xa0TndEdjbBdj3HrbveBXrdlbAhYNVcffk63CffF2b4ux9hbQ4W1+kydGaItQ2vjQnBf/NTE+W8TEhcA3lG6YNd/pY8EVPgXm9BJr3FSgwUCA6TiBVvB5qIgcLvNxdoFc7gcUNBda9JrC1msCuylrOyrayWgAgd1V9UowcO6sKa6Ajw47xrCigPYfBZnURLs3UVlIy3HCIn9EtZRrkx3DTVg83BK9mayk93GBSBDmgZkYTOC7ITBC5NIcENvlograygPn5OD9B8PI89DFLcpBean4mmrZNj6LXalwqmuIorfDsqLrTy4Lfulp0bipONjbT4XBtgw5wSuiLN42AM9kH4PR8RoDzJDUNyQIcn/Zwf3ATFuD0hic4KYDzX74KCSFw7tw5bNq0CX379kW1atUwadIknDp16j83sTFeZoCTOTzUr5sqkEwceU3FWTjGTJxAKxuSM8FhwKn5uICjWMQ7GwBngAQ4o6UGcbOKBhVwlKwUY4IxA87lZnTTkAP+bneXBMZD7JR7MilC0d9koXfmKwvSFGVzaeqa2luZIORoLU17c/4N0ttcbkaTmy9bAddaA1+1oXO9Df643By/fdEEiVdbAldb4t7FJrj3eSO4LrwB97kGwKm6JFY+XJ0A6rOXqXl8c2lKN15VkEo+F2fTiY0fjXDgarwV8wdb0HywQME4gZh4ghrLEM35lG6wQI2eAvGdBFa2ENjRSGBvXYHDtTQL8t5XaP3BkMNC1k2lOCNHDzqrFdhh4DEeBhqGmrXFPMFG1tvsqkh//t5XtJwbbxUMl5spidRtA9PcJMVTeaprVBBN6SZHAtPT4bvp6bBuahocnh2DvxZn18Dm4/z0Nf+gDDC7KrCoIrC6KMGmegqTRmpVQXo+Q87SHDTJmZtR6RJLC0wMJ8HxMLKNPxxolcTGFo+gxq/a0HSKAYd1OFzbYEw05oqND/NasCSXBQuy6bNwuHRzaLTDA3C6RjrQOZzTjP85wOGfWTLgqBUNTk/AyWUCOPJ6Kou/cL8IPeQw3DDgpNcBTsoE579+qSsql8uFR48e4YsvvsBHH32Ezp07o3bt2liwYAGuXLnyXOtsntXlATgK5GQLC/GrxfG2pvJoF1fWVGZanGc5weGSzeQATnsGnHD/gDMhxq5WNHAGzge5tQyctcW1MDi2iB9WAIdvigw4xoA/TWBsh3tMMN34OP/mwzySPfxFmqrse4Ws4cdrE5Tw9OZSU5rcfNkK+Ko1cL0NcKMtcKMtjp54DTXnZULRqWmwZX8V3LusTHguN6Opz/k3aBKkm+JUlqY4Jehm+lE+YGkOPJqXEV9MTYPZY4LRZJgVhYYIxA4RSDVEgxrrEIFMcQIN+wqM6yKwqYPAgTYCJ5sLnJdycdg2zhUO7NJh6/j2cjRdkac560sQqKxVYOeTorRyWlOUwGdNUXpMDzVUhCqDzdYX6c/glRSLiQ9U1ZrBuTzTo19KqWDwDjdWA9w44B4VBPf4MMo4mpEOmBOLj6emQcVRTuQYYcew6VH4YVkuApbVhUn/NLItUGErkPUq0HABsLA6fT+sL0Hgu1aBnlWFCHI+ykuQszg7TYR4VTVFsfePcKiOKl5TscXfLKjRKDRmwOHizc2lBda/oFnFuT9sYTYu3bToSjeHRTsQl04PON3+JsAJxCJu1kFV2O7poMoT4vCznvJiD4/wPsnx5p5KAZyUSwgvGpykpCQ8ePAAJ0+exLx589C+fXv06tULq1atwvfff/+vhx23241Nmzahe/fuqFmzph5wIkKRJTxwy3gBjzWVSbt4AKnGgUxwnjbgNDMBnI4S4HRLJuBwZ5FsEZczcA5X1yziDDhftTYHnEeDCHAwJgSYnJpuSouyaunFG14g0Nj9EulvDlcnwDldl+DkorKautqSJjcq3LTD4eOvocKs9AgaZoUlQaDdslz47kIj4Gor4HILAqPPGyHxbH24eIrDWpxPlQqHTaXwYE0RnF2SA1OmR6Hh2BAUGm5D7FALQhIELAmK82mIQM54gdYDBWb1Fvism8Dp9wQudxS4zu4cKRdHto3LkLOnMkGOPMmRV1Y80VFhRwEe+awvQROfDS8IU7DZXk6b2vBKioszj9TQEorN4EZuBjfX3EhrKWVy4x4dTJMbCW4SF2RGz4nhCB9qgSNBYNysGNxdWZDAZl0xgpheA4BMNwDhBqqtA1ZUobiATaVIBL6hBD33kyI0zWHI+SAnCY/naVMc9/hQclQNtakZRnf7eupwZHG4XJh6vLaWaKxvFvfMwpHD/oyAE5+O0oyfF8DxaBCXAMe4nvJXsKnT3/jIuglcXJyyokq56PIpMna73UhMTMT9+/dx4MABTJkyBS1btkR8fDy2bt2K33777V8JO263G48ePcKdO3ewfft2FXAyRRLkZPG2ppK1OCEOE8Cxo6DTiiJ2zymOWaox/7u/TqqnBTimIX9qirEecN6PcKB7hEMN+XsSwPGWgcMdVJxg/GsXoTiorHg0yA7XUAcwNpUCOErA30eKg2pjSVoXffqypr9R3VNv0BSGdTdftQFutANutMPB46+h/Mz0cA6zqk6lqr1K49o7C+GucQyYMRkX97yBcWuLotXCLDi5pxJpcY7VAg5Wxd3dFXFsbVGMW5gFdSZFoOAoJ2KH2xA81KI5nxIECiYIvJNgwbI4C44PtOBqXwt+6GHBL9JUwJix4g9y9r6iFXLuqkhTFgYdnuhsLq0Bj9nZXFoPNfLExgg2B6pqK6njtT0Tio2CYjO4YbfUvf6U8pyoZNy4RgdT9caUNKRfmpsRWJgF7qU58fmibBg5IxpvTkmNXUtzwr2uOAHtppK0HhzfAaj1CZDnItBmDrClPMHu1jIUG7CpFD1/XXECI4ac5XmUVVUWdYrDjirXcIduTUU6HM8MIzMn1aHq5oBjloXDYX+TDWnGzz3gWMg9VVxeTwXYIJ4zLBjZwkJIf2OSUOwt5M/f9CZlgvNsrypCiEVCiMtCiLtCiB+EEBuEECVNnvuCEGK3EOIvIcTvQoi1QoicXj5vF+VzPhRC3BBCDBFCOB7z75gsF9XDhw9x9+5d7Ny5E6NHj0bTpk0xfvx47N+/H3/++eczB4+/+/JYUUWGe6ypPFZVvgBH1eIYxcb0DsifZdzbmuppAs4bjwE4fSXAGf4UAIeD4DwBx6IBzmA7XMMcwDg/gPNZJSXcr6YBcJpq2pvrBDgHjtVGOQPciASBWq1q4nqWz+EOegi03Y4Rsysjz4QwhA63YconRfDNwarYv6McRnyYG69Ni0LBcakQM9KBIAlqghMESoywo/vYEKwaH4qzY4Lx3XA77gzRguSovkHfd8TajqstBC410yccGyHnQFX6Ou6prOlyeG0lT3UYXMzOtrL0PJ7W8CqKwUbW2rBLSp7ayAnF/PrdaGce4vdHTy7NJLhJGqJk3IwJIcfZtLQEN/My0mTlg5zA8rxI/LgAfvm4AL5ZWRB3uIpjSxkqU91eFthQBfiwAbCgJbCiHgnNd5Snydr2sgQ7m0vT98i64jTJWVWQhMfLctH30byMijA8NdzjQtVG+EeGqg05D4cb4b0BjpyFQ2F/wjTs73kBnEAs4jrAsZkDjk5/4wVwVPeUKeCYC4szRYYjQ6Q+uTgFcP6+a7UQ4jMhxLtCiEpCiEZCiCNCiERB8MNXfiHEHSHEfiFEbSFEQyHE54KAKNrwOQcJIdxCiFFCiMpCiD6CQGfeY/4dAwYc+XK5XHjw4AH+/PNPbNiwAfHx8WjatClmzZqFkydP4sGDB88AN/7+yyvgKKuqHD4Ax+uaypBsrK6pLJ5rKl8THDPAeVKb+OMATu80TvT7JwAn7gkA50Ij4FIzsoFfaw1cb4u9R2ui3MxoOAxwIxIEcr+fGxfTXQSCHwBNP8OaZQ2QZ2I4godZUX5aWrw8LS0KTghDzCgnnBLUhA6zouzYVOg7PQqfzInF2bkZ8P2sGNxly/joYHLoDObgP319g661uo1WB/B5Iz3ksCbncHWqBthfxRN0dr9EsLKzggY8xsO/L0PNZ5X0YHNQ0tqwS4rTiXVi4pZaQrG3+oW7fZXSzMEUqOca7oBbhZso0lXNy0Sv67JcpGdaVZCAZF1xeo03lyZg2V6OIGZXBcok+vQl7ex+iR7bVZFgR4acDSVIEL66ME1xPsxN1vH5mejPn5KGNEAjnXBJOpw/e1s9Qhq/fpOmbUar+GHFKs6As/VFDvv7dwEOT6WL2CzUwScBTl7W33gBHG/uqUwmwuLMkeHIFBHm1RqeAjh/z5Xe5LEwIcSPgqY1fK0SQvwihIiQHssmhHgkhBgrPRYlhLgvhJhr+JwDBUFPwcf4Oz4W4MhXUlIS7t27hxMnTmDZsmXo168fWrVqhaVLl+Ly5cv/r1dYRsDRvaOI8CI2ltxUuUMcyO9Fi2O2pvI2xUmu0PhJg/48NDh/1wSnejJWVE8ywTEAzp7DNVB2ZjQcEpzIxznYibbNmuHkhAHYsqQl3llUENGjg2BNEAgeZoVNem7kcBtenhyJQQsyY/3yvDi7siB++LgA7n+UF+6lOSlYbnYM6UrGpYJ7hBNJQ+xqfQNPcThI7vuO2qpKLnX0Cjk1SPNxsKp+bfVZJfo6s06Hpzu7Kmq/ZqiRpzX7qtDn4XWUrLVhlxQDqSomZr3NmwLfGyY3t7sL3OnFcGPDozgljXq4A+6xqcgRx3DDFvAPcyNpRT4krioI19qiBCWbSilgU1YBGwVqPnuZXvM9laVTiR777GUCnZ3l6XuDS1LXlyDhsdwGz2LjaYqbalQQ6XDi9F1i/Dr9U4DzJDbxasrPBM7A8QY4vA4PBHCMBZuBCIyzK+upTLqfsQbICSi5OAVwnofrMyHEFeXf7UKIe0KIOSbP2yGEuCr9uqWgF6qs4XkZlMcHPsbf5YkBR74ePXqEP//8E4cOHcL8+fMxYsQIJCYmPpXP/U9cphMcFXDC/CYb8xQnvwngmFY3+HFTBSo0fuqAYyIy9gY4T6TB8QI4ssiY3/k/GmSHK8EhiYy5ZDOPPsX405e9AE5T4GoLfHaoGsrOSAe7F7hRwWVQGF6YHI2CkyORbnQQbNLzo0Y5UW1mNIYuz4uN60vg7JYyuLmtLB5sKwu3GvxX0CP4T7UhKzkr9/vbdEFyrO+QSx2/bEVfF3mSw5qcE68RfKigI62t9lUhYGHgYejhCQ0fI9QcrEavy5GamkPqVB26efPU5mJjmtpcaU4Qxk6p7zvS3/+n97TJjQ5uBivVCyMclBw8KZK+Lgw3S3LQROXj/Di8NAf6zYjGgkVZcXNdcbi3GcBmTyVgVzVgfQNgax3SXe1/lYTf+6pQTtHeygbIKUurLV5VrS5M2UXLcpFlfA6/ThGqXfz5AhzzHJxAyzarCX3Iny/A8eWgMgKOUWDsD3CyhtF6KlOkOeB4W0+ZAU76FJHxP3pFCk1jI4QQ+QR98d8zee54QZOZYOXXo5Xnhpo89xchxEeP8fd5qoAjgwGvsP5NExzdPjhQy7g0xTFm4ngTGweqw/HlpHpZOZWfIeB0S6bImG3iq4tQGm4gNnHvLiq74qJSbOLsomKbOLuozETGF0hk/On+KgHBjdmJGROM1+ZlxMhPimDTzvI4t+8V/HioOh4erg63WsJZQR/895HSMr4gM7l0pqSmMLkRDnWKI+esyKWO33XQKgEYcuRJztn6tCo6+TrdVFmbc7gGQcrBagQsB5TJzv5XaZW1v4r2a/79g9W0ac1RCWyMWhue2vBK6pq0kvq+oxbg92sX/eRGrl5Q04mVjBvMiSWR79IcVLnxcQHcXVUIPWekQ4YRduQc5cSiZblwZ7sCr3sqEbzsrwIsbQ80Wwm8vB/oMxlY3ww4WI0s/AcU2Nn7Ck1zdlckQJKnOGukNRXrcKanUwIag/8xwDFzUXkL+mvptKKZw4ImBsCpK6hz7jVB+runCThyg7iZwNgv4BjLNU1t4YElF6dMcP7Z60NBGhwWGpcX9MVvZvLcAcrvZVB+PU8I8cDL570iaOLj60ov6EWWT13xDADn33J5n+CES5ZxL1qcgCzjnmLj4hZzu7jZFMfMSRWIDudxk4x1NvFwPzbx9OaAIwf9bQ4w6I8B5+fOhhwcOejPWw6ObBOXRMa791RC2elRukmMv2MdakHN+Zkwdn1JbPm0Ks4dfQ0/n62PP8/Wx75PX8KNA6/CdbQm3VT3vkJ/9ray5O5ZW5QSlpcpLeM8xZkUoU5xHqk2ZK1pXO484puocZJzsbHWPM4rKwadY7UFjipTnSM1CVoO1yCY1J0a9HtHatLzZahhnY0Z2FxtoVnAjY3g7JTSr6WsHnCDyZFkA5+bQYGbnDTtWlkQWFMEt9YUQbeZ6ZF2uA35x4Zg3cqCePjpSxrYHKhKOUcJo4DsXwP2R0D9zcD6VsDhGlSKyqCz/1VaW336MgHotrKKFucFfRM863BmKIAzNuSZA44vm7jfJOMQG9oEWQMGHF81DU8LcPhnnllFAxs0ArKHR3hOcAJZT6VMcP7ea7igL/T70mMMOE1Nns+AE6v8ep4gDY7ZdUUIsd3Pn5+gfD6PEyjg/Pbbb/+vV07JvXwCTmTygv88pzh23RRHrm4wy8QxSzU2TnD8ramSAzheu6g4yTjce9DfKJMkYzPA4aoGFXCqaYBzvqFS1eAryTjeBvcopaphVnqajCzLpSUZbylNK4y9UtDf6brYuatisuFGJAik7pcai/q+jx+brUPi6LnAsXdw9cRriFtZAOWmpcWQj/Lim32vKMnGVWgdsqM8/T3Wl6AViBL8hwWZCcqmpqGslZFOJA0hN5G8qpIhRzfJaUsTk6stCDTkac65BtpER4Ydnuwcr62JhOXDzzlVRw815xpoYCM7pL5sReJnb1MbFhP/1ceC+/2tZAOPN7OBR9O0ZHE2ckp9lJdeQ0Vv83BTSVxYWxQTl2THkhX58MOOcvT1PViV4OVIDQpbnDYAqHQIyHgT6PgBcKAe2feP1KTX5FB1giF1iqNkFm0pDWx8QdHhFKTJEQPOzGgFcFLpAOdu38cHHNVFZQI4xqC/UentpknGapu4F8BpbLOg0TMCHI8WcR+Ak58FxiaAk0PS3wSUfxMRmDU8ZYLz919DhDDVyTzOiiqVyXMDWVE90QTn/Pnz2L17N27duoWtW7dixYoVWLlyJQ4ePIjff//9//UqytvlCThh+vFphJaLk92X4Dg0yOcUxxj6509szJDjq1VcBpxKPgCntvKDr65IXtmmPsnY6QE4ui6qTFrZJgOOsWxzT2XPsk1fXVT3+9PN0j3SSTfKmdF0Q/ogJ60Z1C4qqarhWC18tOEFvDg1DazJABs+WbtlxZFi25EU9hdQ8jKwYQAuHq+NV2alhzVBIN+EMGzZUhpJR2poLeO7jC3jBbQVyNwMWtaKugKhVZWcmMt6HHmS8017Eh5/1Zq+RvI05/NGdINl0DlTT4MdPjyZkWHmdF167tn6GthceMMTbK621Ozf37TXpjY8ZZNXUtwI/miQDUlKxo1btoHPSk+v2+JsNN1akY8mcGuLEnRsKQ1sLwv3rgr4ZUc53P70JSQeeFUCm1rAsdrA8deAT5sCy7oBkxOAj9+j3rETrxHkHK1Jzz9UjeCIpzg7ylM+zqaSFP63qpB3wBn+mIBjmoMjTIP+jIAz0lDVILeJvyu3if/jgKM5qAo59Q3ieUzs4fpyzTCP+gX152yEXmism96ogBOhnBTA+ScuhpshJr/HIuPZJr+3XehFxi2Uz/Oi4XmxwhyeArkC1uCMGDECd+7cwbJly7B06VJ8++232LVrF5YvX46RI0fi2LFj/xrIcbvdOH36NJYuXYpOnTqZi4xNIMc0F0cBndypnMhnzMYxTHFU0DGxjHurbngagKNOcSwCDVTAESrgtPLSJt5FaRPvE0Cb+AJDm/iaogIbStIP+50VSOx6oCqtUk7VoZsrt4nfaEfTgR/fpTZxclKRSNU93EFrjulRBAxLstMEYE0Rj7C/I9vKotjEiMeCG5EgEDYgDGsLrcG9oL/gLnEVWBOPO+ebYPCqgig3LS36Ls+DK/tegetYLboB76ui3URZbMxTnA9yalOcaWnhnhCmOHXsSIqz6fQ4DDnyJIfdVbyyutaKEo9l0JFh53xDbbpjdvj3ZaD5ogl9Ll5F8cSGwcbYBC5bwHXJxINtSBpqh2ukU3NKTY8ivc2CzPSafZiH4G9NYfo6bSqJpC1l4N5RjiYteyorU5tqGtgcrw2ceB04WQc4VYdSqk/XBU7WB07Up8dO1iHIOV6bIOdwddLj7H2FJmw7K1B+zqZS/gHnMVZUvoL+jFUNcheVrk08ndMH4ND/k+1CrAEBTm0/gMMa+CS+/AAAIABJREFUvkBC/oyAQw4qi66eQQUck+4ptVzT3+TGsJ7K4DG98QY4KSuqZ33FCfriDvfxnJVCiJ+EEOHSY1kF5duMkR5LK2hFZYSh/uJvsIn37dsXbrcb8fHx+Ouvv+B2u+F2u3H37l3873//w+LFi3Hw4MF/BeS43W7cunUL165dw9y5c72sqAyTHG9THC+rqgIMOAYtTjEJcAKxjCcHcKoILewvUMBp7rCgldOCNj4Ap7cEOAnpCHDGprdjYqwV0zJYMDujwPysAktyWrAsD/1QX1OU3sVuKUNj+88q0Rj/SA2aLpytTzfZK83pBs7rD2Ndg3uo0kc1JY2iw8lKE5LVig5n24skKN37ChavLqTLqXmcU695XRzqPB73548Bjr8LXG6JK8drY8+eSvjmaE0knnxdq244UNVTbCzrPNRAuWid4NiVoNxIDZDD6yoWHjPkfPOmNs251oomLFeaE5hcakqgwsDD0MNHflwGmivNFahpqTmjjGBz8219cN/vPeSpDa2kkuJtcA11wDU6SBMTz0hHDqWFWcgptVxZSX1ShF6zzaVw4ZOimLQ4O46sK4b7nylC8UPVad10rBZBy0kFas7UowLVcw3onK1P50w94HQ9DXKO1aLX5WBVgs/PKimAU1YBnOLJAhzOwdEBjo+gP7+AI7WJy4CTkM6JwUbAiXDg3TA7OoXa8JYPwGlgpf+vZcAxy8Cp/JQAp1CAgKNfT/nQ3Rj0N57TmxQNzj919RL0hd0myNptPHzlF0L8KYTYJ4SoJYRoIIS4IHwH/Y0UFB7YW5Dw+JkH/bVv3x537tzBnDlzcO3aNRVk+J937tzBvHnzcP369X8F5AD+NDjKTjhCP8XxWuGggE5eM1eVUsKpCo4DLOAMBHAYcsycVB5pxhaB+lZaUzW2KU4qhwUtFcBpF0I/TDuF2vGuAXD6pQ3CIAVwRkQ7FcCxaYCTRWBxDgKcFQUsWF2Eeo82lybAMVrFz9SjG/DlZuQc+vYtuqEy4LAOxzXERoWMkyLpZrQgM/BBLoKItcVo/bCrArCnEi7tKI+WczOg5ORIFJ0UgYxjgpPtoAofEI5By0rhh3NNKCTwagu4LjWF+2JjuM83pBvqidfoRnywqiY23l5Ou4muLqRNcbgWgG3jY4LhHk6uKhIda5Aja3J+eo+A74dO+mnOjXY0ZfmqNU0TvmxJoMLAY3auNNeA5mpL+jgZalhj810HvfVbFhGz1uZeP80Crq6kFL2Ne0pqTW+zKKumt+GV1AZaSd3c+AI6z45FttFBqDYlNfZsfAEPDlYjQDn+GonFT9dVIKYhsKoHsLoHcKIZcL4hnXMNgLMNgDP1qWBVBU9FBL6/igafAQGOJjKm9aE+6I+ziq6aAI7cJq6WbSpt4isKKG3iOT0BZ2yMHSOiNcDprwBO99ROvK8ATsdAAEf4D/mr/JQBRycw9rueCnyC4ykuTnFR/VPXXiHMRb3Kka+SgsL/7goh/hBCrBNC5PLyebsKEhU/FEJ8I0g8/MyrGsaMGYOhQ4fi3LlzWL9+Pc6ePYtLly7hwIEDqvD4jz/+wLJly+ByuZ4xevw9l3mSsck7jYhw/4JjaVVlnotj8XBUBQo4fPw5qfxaxS2KDsdiSDOWAIecVAQ470c40D3SSWnGaYMwKG0QhqQLwvBoJ8akd2BCrA3TYi2YlUFgngI4cqP4OkVoLBduHlSExqfr0pj/UlO62XKP0c+d9TqcpDgb5ahMCId7ehTdPJfkIC3HmiJ049pRjrJS9r+K8zvLY8eW0tiy9UV8vKU0Zm8ogeFrCqPL8jxosigbKs+OQYHJkYhSgvxMpzgLs+DymXoq4KgN4xeoYdx14jWc2VUBF3aUw709lbRViMcUJ492I50VA0xNC0wII1fVcLsOcu721U9yfu2i6XIYdL7roEx02muwc72tBjzXWinQI51rCsxca608r43ntEbW2LA7ikXEXJRJlQuKkFhxSbnYAj4pggLzjMnEH+cn2FtbTNHblAF2lMPXm0uhzrS0CB5qReHxodi9uRQeHa2lgc2ZegQw5xsCWzoDrTcCL50EBswHdr5DOUcX3qDfP1tfWVu9TuB5VFkfspuKNVL+AGeMZ+q0XNUgA463NvFdFUlUv7m0wDoJcJbl0QPOtAwWTIy1YYwJ4PRKHYTukeaA01oBnKZ/E+BwBk5xizng5PdiD1fXU2bN4b4AJyJQ91QK4KRcdAUMOLdv30bdunUxdOhQHDt2DDdv3sTPP/+MX3/9VQc0ixYtQlJS0rOjjr/xCmSCkyzbuAI5poJjYwmnMsVJbiaOWR6OP8BhobHqpLJoTioGnNZBVrQL1gDnnTAH3g93oHukFvY3UAKc0ekdGB9jI6t4LOV7LMquCY1XFrJgbTGyy24rSz/8975COpxjtfQ6nC9bCnzdTl/ZcKeXVSndVG6mY0NoQqDLwymo2cV3VdDcVEdrknbjTH24zjXEH2cb4JtTdXD2eG3sPVQd6/dWxpKdFTBpS2kM+KQIOizPg7oLs6DszGiUmJYWozeUwP8+bwx82RrY0xX4tAtwphVw4Q3cO1UHm7aWQbO5GdBiTiw+3VACjzh3ZXtZEj6vL05aE+4+4gbrGdHUfTRegZxhDiTF2/FokDzJIQv57e6aLodB5+bb2uqKYUcGnq/b0U1YPl+3U37vTXqeEWpuvq05o355n8HGooKNuo4aqFQuJFDCtEtpAndzEzhbwFlvs7KAspIqrqUS7ywP7H4Jf336MjatLYY2czNi9upC+OlgVdLTyGBz4Q3g88bAmGlArm+pObzeHmBLV3r8cwVyzjWgjztVRwOcw4qbygNwTDQ4bBMfHURVDYMIcOQuKmPZpgfgVNUDzqZSAuuKE+R/lJ+gf3EOC+ZnEZiVQWBqrAUTJMAZks6JQVFBHoDzjgQ4bYOtSooxAU4jmwVvPCbgVBCB1zRQyebfBDim7qmUCU7K5f1KVtDf+vXr8dJLL6Fz5864dOmSqWX8gw8++O8ATnJt436mOIXlXBwpE+dxAIchRw78e1zAaeGwoFWQFW2DbXhTBRw7Oofb0S1SbxWPjwrCsHROjIp2YFwMOammx1ow1+Ck+rigBZ8oOpytL2pC4/2vktD45Ov6TipOx5V1OH/1seLhQJp0uEYFkV2c3VRLJTfVplKS2FjJxDlWm1YXZxvQO35uF/+yJU1mvmqNR9da45dLzfDl+YY4fuI17DhUDZv2v4ob5xri0dm3gGnTgEZ7gDc3AZu7Axca4c7J19Hvw9yIGulA2HAbhn6QEz/vrqh37BgtyUvlVZVyQx0fSqLjYdIkR9HkGKc5Mujw6urm2wQovML6roP3831HOgw0MtSweJhXUcaJjW4dNUx5HRQhseqSMpRlkt5GWUltLk2vza6KpInZ+wpwoCoSD1XD+d0v4dfD1eE+VUfR2DSk1+rzxsDFxvSarRgMNN8BFL4G9FsKnGxDj19UIIenOKfqEtQeq0XZODrAeVHLKpITp+dlBKZH0X/LqCC4PMo2tbTpb9rT9OtKc/qePVufvoeP1iRo31OZvse3vkiAs9YDcOhNAAGOFRNiCHDUFOOoIPRLYw447SXAaf4YgFNZaCF/vgDHNAOHAceQYvy0AYcFxoHrb1IAJ+VKJuC4XC6sXr0ajRs3Ru3atREXF4ezZ8/i5s2b+O2333Djxg3MmTPnPwo45rZxb6JjjylOkA2FFC1OMZsFxaz+3VTJqW2obAAcFhqzDoet4vUsWummbBVv5bSijQI4HUJZaGxH10i90DguKghDFaHxuBg7JilrqjkZBRYoQuMP89Jofk1R0uGw0Jh1OEdqaJUNaqJxG21NpdnFLfo11bhU1GM016S2YWsZupntqaxVN5x4nTQz5xrQzfBSU4Kcqy2pZfxaa7WMU3eutQbOdgAa7gVS3QPS/g6MmgEcb4lHZ+pj87YXUW1GOtSeGY2164rhd+5HUoPlpCmOruBRcVVNj9IgZ3QQXIomJ1FxV93vTyurv/pYcKcXgc7t7trqSoadn97T1ljezo/v0mGgkaHmVjfKHiJnlFVbRQ20aSWZQx1k1x8jaW1mpNNcUouzGyzg+pVU4q6KOLXxBfyxpxLch6rRa3O8thbMyFObzxsBF5tQE/ylZrQavNgS2N4TmDsW2NaTHrvUlCDn88Y0xTnbgNZUJ143WVEpq0MGHBaAL8pG30eKw8010omkeBseDtSCGH/rSl+zHzppgHO5ud4ifkTJwPmskgY4G0sKrC1m8ZpiPMVLTUNftabBic4K4HQItSkpxp6A09AqvAIO91D5Axy/IX8WySJuVzJwnjLgeHdPpQBOyuX7eqyqhu+//x6TJk3CW2+9hW7duiE+Ph5TpkzB4sWLcePGjX+lyDhDoGI4dVWVSgUcs3ycPGZFnPIUx+opNjZCjjHV2J+bypfQ+HUhOam4VVxyUrV00o6/XYgVbymA82643cRJFaQIjR0YE2PHxBgbpsZaMSsDC431nVSmgX/VNR0O5+Fca0Urle860E2ZizfZTZU0VBEbT1bExvMzK5k4ith4Y0laEXEC7qFqNMVR042VG+gXTYHLzYErLRTQaamBDp8vWwFXWgFxS4Dc3wLlzwJzRwInWgLnGuLuidexc3tZHNxeDn8eqKqEy1VWguV4ilNSabEupK2qFmfTWqynR0nrqmByVw21IylOW1nd709rur/6aCJkDXboBvxrF+388r7n4d9jmLnVjT7+9x4ET7yGuteP/kwVbIYo7qiRQXCPSUXTs8lSl9S8TJqQeHleAoc10kpq24vAzgp4sLsiVqwsgEYzozF1RT78uP9VuE+8rkzXeGrzhjKxaUoAI78+fK60pMeuNCf44SnOhUaegCOLjHdW0F6PT4oQcHIXldomHgrXcIfkoLLoWt+/76iUobYiGJct4pyB4xHyZ8jAWZSdU4wpA2dcjB2jTFKMe6R2oqsCOG+H2dEhFb3paBNM+pvmTgsBjmIWYIu4r6JNhptAAMdDYGyRLeJWahEPAHCyhYUgczIAJznhfimAk3Lx9dhdVC6XCz/99BO+/PJLXLhwAV988QV++umnfw3cAHrAifXSdGu+qgpVbONeACcsmHJxjEWcyhRHZxm3mlvGzeziZjqcZCcamwmNHbIOx6o5qcIIcLpHOtErtRP90ihC4ygnhqdzYHR6O3VSxVBlA+twONF4ZSEK/NtUSr+mOlhVv6a62Ji0DbymYjeVmmo80Kom5LrHh8I9NQ0wO5behS/PSxDBycY7y5Pod38Vsgwfq0024jP1JchpQjfJKzLotNLO1ZYkLt77PjBmFvDBEOBEG20lcqYe3KfqwH38Nc21s68KftpRDv/bUgaPtr2o1AOUoFXNqoLkJvogJ0HBvIwK5KSjItEJYVRGqaysXEMoEPDRYAKOBwOs0uqKYOdOLz3weDu/96DzR0/6GD3UKGuogTY8HER/ZtIQO5KGKTULY0K0ic30KG0dxV1SH+YmwFxdiPQtG0uqUxvOtvlmZ3lUnZoGzqEW5B2XCp9uL4cHp+rS1EYFmyYENlea09f9VAfgTAfgShvpdVFekystCIC+aOobcPYZkqY3KF1U7G6bnxmYGQ237KBSBcYWnYPquw6a/sbooDKG/G0u7WkRX5JTC/nztIjLgONEj0gnukY68F6Eg0L+DIDDNQ1GwOGQPwacqiaAwwF/jws4csmmL8Ch/JvAHVSBVzOkAE7Kpb/8As7du3dx/fp13L59+18FL4FcKuBYBGIiwpAxMjwAyAlTV1VZw1P57KnKY7SMBwVuGQ9UaJxcwKkrAc4bJkLjtsFWtE+l6XDej3CgW6TTo7JhaDoHVTbE2DE5xkaBf5IO58O8Uh5OSf2aav+r5nbxr1rrU41/60o35Hv9rEgcbCWx8ehgcu3MkJKNV+SnmxcXcO6sQCujA6+SHuN4bU3EKq9CLjXVg47xXG4OXGwBXJRupqrmg0WtNYFD1fHTpy9j1vK86Dc/E/auKoT7m0srJY/FaXKwsgDBGEPO/Ey04pmRDpiahjqrlJWVe4STtDkJlDOTOJgqHmiq83/snXm8TWXbx9ceD85kPOeYSymZhzQqU0QqUUiEjCXJnDFThsyzokKSklkqKWPmBo2iVGhC0vOW2V7X+8d1X+u+7nsNe++Dnp7s9fmsz/u8HCepjq/f9RsCcPIpfE/0CQh1x+Xt7Ye/+vjhRJ8AnBA/5lRf/Dyn+yNAnRsUQKgZGkKAJI/N+FQAApuZmRJsaAF8YSl5jlpRGc9yb98kfu1vB9hYE+CDO+Dn9TWg29wroNCoJLh/ViHYub4GnNndCM9LX7Ff/30PIcjsaQMwcRpAz9cBXhkJsLujVNX2tYgCOOKfB22FvS/i+29WxX8Ob5TBs+bcK6yhTXN8KkRG5YhqMCb/jW4w3iISVO/dJhNUy6MkqNwj4mHoli46cETJHyao4gMc8t9cGsAJxgQ4RdKSE4CTeC75ExVwZs+eDTVr1oSuXbte1oBTQNyAY1NxeGzcXcXhXhzFbBz02Yr/KhnOkXGnMxU3GvM+nBqGe+FfA4NNNhh2wHkoLBqNk/yKD+fx1JDlwyHA0Qv/JmSiD4cK/+hMhX04PlhWSZ6pKE1FcfGP7sE/EVOaip+ppNnYB2e4ijMml1Rx5hSXqZ2lFdBr8fZNYqOqhoCcuuq5itSDL4R6QKDzdXPtFX6PL8nv8QDA5lYAmx8C2NXQKpc7v6UuLF5SHiqPS4WUYX7oPDML9i+vJE8jy8iPwyBnzhXoX3m+ICoj4mQF41Lw729UEp6thgXxdDUYYeTcwCCcHRCEM/2DCCoCehzffmhcPtM/CGcGMKB5mqAmiLtRI5NQrRmTDDA+FUsVpxWwg838q4TPRpiIl1eS56g1t7BG4toyzbbzLvh2U20Yv7gsfLSpFpz+tBGCyR52ivqmBcC3LQH2PwywbDDA7bsBUv8CaLANYMXTAPtbMcjRAOez+yVwKgWMWoJqaQXmvymGcDk5r9wJs/w3Pkf/zbcPo/+GG4y3MYPx2mrMYFxBGoznl8T/HmYXNWBGIQOmZDlExPMmOQKOVfKXww449zPAofOU3mJ8qQHHaWRTARzPr5+pykxDAnAST3aeqIDTrl07ePDBB6FZs2aXDeCYpgm//vor7N69G8aPH4+AkzsNMpnhLXbDsVRxHL04ucKWD4dAp0zIb1NxnBJV8Z6pahiqD6eO4eLDMbjRWJ1saJXkh0dy+qF9rgB0TAlA51R5puqVG/+kaZ2pCtCZSvpw5JnKgFdLyTPVyiryTLW+hmg1rocqDp2p9ja3m425inN2QAAiQwIyUcV7cRZcg4bj5RVRTXhHnEk2iN9wt9bFhI1VIseNrU2YuVV7ycz6WROA5U8C9JgL0GcWwIoOEnC21oVlyyrAbZNyQ+GRYeg5uzB8v0p4gmjJemkF/PkR5My/CpWEF4uin2VmJkLF5LzodSHQGZ0DzJFhiDDYiQwRp6Sn8ayEb4C94tueFh8nYAaBJgjmMyEwR+awoMYcn4pnqCl5BdhkocL0UjF5inr1Ghn9XlZRnqOshNTtcHZ9Ddi86nr4+J2b4fS2evLX+tNGcPbTRhCh8+DXDwqwEUbv/a0AvmsF8H1rgFdHA9TcDZB6AuDu7QBvDrIDzt7mAjybWCdD+PAehNitwmC8rjqeK1ffILqJyiGcvVwC4IWiCJXUf6MU/Pngj+6GdZ76sUP0kU0yGK++gVbEucEY/3uYVRQNxpSgIoPx4PxhGJAXE1S9hMG4S1oIHk1lHTg5AvAwi4gT4DTSAKd+FMDhHTgXCjhu6o0z4LhUcFww4CSajC/3Jyrg9OzZEz766CM4ePDgZQU4e/bsgZUrV0KPHj0UwHFScRyBx2o4xkSV46kqOQmucvPiKJFxnwU4bipOLHHxmM9UhubDcTIa5wpAx+QAPJYqz1Tkw+mfNwmezheGYQVC2rK4PFPNLWGoZyox2/DOzXim4mZjOlPR+Kau4hzvZsBfvX1wup8fE1XDQuhZmZguVsaLYhSbTlXLKyFYKDtH4lxFMwAf3evQu0Kww15SbnY+BPD4qwAFfgPIPALQbzrA+ibW0OOfm2rDkiXlYfTLJWDnikpgrq0mDMc3QmTV9XB+eSWEnMVlERRevRbBYd6V6CWazdQcOltNTAcYn4Y+mGcF7IxKQn/MMyFUeIaHsJdmmACgYdhTYw4PWR9jjgijkXlUDvx1G5sCMCENT1CT86AXaEYWzivM0sBmYSlUbBaXk+eo1VVRGVlzC8bjN9SAc5tqwWtLysGdU/PBAzOz4NN11eHcx/cKiGQGYkuxIbBpDfB9G3x/aAOwpxPAC5MAOrwFMGc8wN72MtlmKTjCZEyeKGqXpvPUxpoits/bpcvK/ptZ2H9jjk9FeBwStM5Tf/ZS4+G8/8ZtooEMxui/MbSJBvzv4fkiBkxjCSrLYJxfGox7OgBO25wBaJ0joHTgNAlIwGn43wQcB/UmZgWHfW1NKDiJJ7tPVMBZuHAhLF68GE6ePPl38cU/5lFOVNS/IP5jiz1RRbFxBxVHbFTZvDhsvoEDzoVsU10Q4Aij8UNhv+jD8UPbXH7okByARwXgdLV8OGHmw2FnKjG8OVPExfU01bKK6plqfQ11fPOzxl4qjkxUnekvEj48Nv5cQUzFzBem1yXl0FT61g3q6WTzHQg522kSgLaO7lNB5/MHtPd+gO0PAXSbB1DwV4CiPwH0fg5gbXO5ZL21LpzeVBtOrK8B59ZVx99g11aDk2/fCDvfKAOrX7kafl1cFkwLckqjorCgJE5PzGFqznNZ2Hw8vQCqVJPz4PlqQhqekMYmA4zJhbDC39Hyf8OzOfHjxiYDjEvFHzchHaFmSj5UamZk4l9rViGExDlXMI/NtRJsllXE2PebVdVz1Lrq1kDm2a11oeWsQpBjmB9CQ33wwopK8Ocn98lzFI/n739Ygs0PbQB+eATfA+L9vi3AZ48j7PzQRgWcvQJwvmwqi/4+upedp0Q8/D1xnlpRWcbD5zucp54JwfnBaOb2jIc/iP9+7r7PueBPmWgoyyca8L8HNBgbVoJKXxHXE1SPsgSVAjhBHzQJiPPUvwRwCqVnLyKeAJzEExVw9u3bB7Vq1YIhQ4bADz/8AEePHoUTJ078a+YYvB43wNFVnMLp6p82nECnmNepSqg4tsh40C87cVizMVdy4jlTccDRfTi2PhxDO1OFSMWRw5vttOFNmm3omycMA/KGYXD+sJxtEGcqnqbircZLyqN8T+viTttUNN3AVZyfO9F8gyF6ceSpyhwZxpI2atKdcwUCA51SrFTPLeq5aktdyx8CH94t1ZzdDHT099PGAGvaA3R5GaDvTIC32siBx+318DfXLaJBd2NNgPXVIfLebfDxsorw0LT8UHFMLpjyQlE4vLgcJo4Wl0OAeK0Uqjnzr0YVas4VCGuziyB4cNiZlh+BZ0pehJ5JudV3YrpUZSbnwY+bmg9/HAea5wvh53+xGP715pXAk9mr10jFZkl5eYriYPP+bQDrq4O5sSZENt8B5jZSxe6GVW/dCFUn5YHGswvDW+9Vg5Of348wso+pNt+1EmDzCMCBtgDfdQDY1Bfg8y74/x8U74G2AnwcAGeP5r+h8xQtvK+7XZynqqqt0vPEwvv0DDU9NYinpwwlPUXx8D3NUGX06r/RG4znl/RZ/puZzH/jtkFFI5udU2VEvE1Ov/Df4H+fTTng+LwBh1qM9Q6cfyLgZMVZ8JcAnMRjGDEAzvjx46FmzZpQpkwZuOWWW6Bx48bQr18/mDNnDhw4cACOHTsGp0+f/leerxwBh6k4TqcqV39OGqo4bqcqWy+OvjLud18Z9yr9083GbiqObXiTVBzWh/NgyActQj5oxWYbOqbIXSo6U/WxVJwkGFYAW43HilbjaQWx1ZhK//j4Jt+mIhXngzsM2M6mG75sgn9a/lYkqn7sQPMNuGZNp6pzg0Sz7phcbOSxsJgKuFqYjuXAo3WuWlcdfxPcUgehZDstV9+NRtWPG6Kis9vh/aQhwJamANvvlymqHXfh5xAqDgJOLYANNeHc+7fDwoWl4OrROSA81AdNJ+eFbxaXw5/TsooIEYvLIlAsLCW8OQJ05l6J8PFSMfxNeVYhBJPnCyKkPJeFvp0Z/M2QEPOcODk9Xwh/XSygKY6f++US0ltjnaHKSvMwwSGdosSvnbmpFvz0/m3w5opK8MXaanBuZwNLBTu3uxEsfPtG2L/zLjj3VTP1HGWBTRtUaQ62BfihPcCykQCPvAcwcj7Azl4AB9oDHGrnAjgtUAmi8xTNNOy6m42fMvVm1fVqezGV+03Nh+V+I5MgMjiotBcf62o/T3ktiOv9N1Twhw3GhlXwN8PNf+MAOI+lhqBjSlCObArAeZADjkhDepX80USDU8lfNMChHaq/C3AQbhKAk3jie6ICTsOGDWHx4sWwbt06WLhwITRv3hxuv/12KFu2LNx0001w//33w8SJE/+Vio4NcPKk21SceFJVrioOm28oxQDHab7BLTKup6l0FccpTeV2prLSVKL0j3w4NNvwsJhtwF2qAM42KGeqJOiXB0v/rDMVtRoX9MFMoeLMudJQxjeXVpDTDWtukdMNW0WzMRX/fdVU9OKwlXFatsZTlQ9PVU8HcPCRNpFmZCAMEOTwtI81GcBizJvvUEFnJwedexF2lPdefD+6RwLOpvsAXukMsKgdwKa7RMlcbYCNteDcuuqwa0VleHJWIWgwOQ/MnnclRFbfgD+XlVXg5NIK8OuiMnBqcVn0iLxOis41+BvyK1fj+YqUnTnF8TfpF4t6vy8Vw3dOcXF2KoGf55Wr8fO+ei2e8haVxr/ukvKodKysInej6NeKznsbawF8cAcc31QLBrxcAq4ekws6vFgM/tjZAFfWreg9O0c5KTYH2yLA/Nge4IsnAR7cBJByEqDYYYDnpgN8+6gKON8YJOTfAAAgAElEQVQzwNGHT2migdSbTbp6U0mqNy8L9WZmJsCk3EK9oXI/jNtTud/hztJcvP9hezx8ez05sMn7b5ZXkv03WPAn/DeFvRuMn8qTBD3zsJHN1BB0IMDJYQecBxjgUET8rjgBJ3tDmxcRcMhgnMYUnDjhJgE4iScq4Dz77LOwfft2OH78OJw5cwZOnToF+/btg3Xr1sG8efOgSZMm0LRp08sLcMQbV2xcqDjFPQzH1zi1G+vFf3E2G0dLU8V1plJ2qUSaKlk9U3UXaSp76V8IS/+y/DC9oNymUszG5XC6gTcbk4qzoz5Gb3ffJ3txvm2pqjh0qqJU1Zn+YvxxpICcKXlRwSDIoXPV4nIScqir5X1xstpYS4BOXQY6d6mqjv5+eDe+mxoDTBkAUHsjQKM3AV56HGBDfVQSNtXGLpb1NeDwOzfDJysqwU+U7nr7Rjj/ZlX45PXSMPS5LHj1peKwd2EpPKstLov9Mq9fh7Cz8FoVeAh6nN754qWPe/UahJmFpRjQlMG/xtIK+GuyQkS9FbUGU1GwoQZENtYC84M6Vgrt0ObacPXYZPANMaD4szlh//b6ELF8NpqBmMDmYFswD7UD81B7MH9sD+aPHcD8qSOYn/QGs9MaMAv+DlD5W4C5kx0ApzV6dki92dNMqjcfM/XGbXvq9dL4azHnClSzppK5GMc1zzhsT9F6OKk3lJ6y4uF3GrBZnKf0gU3Zf2NI/00hNBh7NRgrEw2pQeiQHBQGY79IUOGsShMBOI3YeYoAx8t/49ZifJMRbabhAgAnzRlqLp4HJ5GiutyfqIBz5MgRePvtt2H27Nmwa9cu2ynq5MmTcOTIkcvjRMX/43E4VUWFHWE4dvPiuLUblw3GpuI4mY2dOnG8zlSOZmMBOE2DLq3GKUHLbGyti+d2MBuL6YYpWX7sxCkqI+MLrkUVZ0kFe/EfeXFovoFWxvc2xz9Bk+FYP1Wd6osL15GhAYSccSmiHydTDHJS224pCTmrrhfmY3aycgOdHXdJ2NHfnXcBrG6JYJPjFEDu4wCdZwGsbYiqEDtVwfoa+Nd57zaEqzW3wG+rrocxLxaF0BADio8IweQXiiBsLK+IHp2l5SXwLC6LYLKotFB5rnN/X9dAZkk5VGg40JCv5q0bpbdmbTXhr6kB5zbUgEPvVYNtq2+A91ddDxHyKn2M8wpDX78Obp6aD55YUBK++/BuOO+i2JgHBNj82B7MnzqA+VMn6438/CiYPz8K5q5+YPZZDubcqQBfd0G4OdgWz1g/tMHP9y1LT30p9qc+aYg/J95c/P7trNivkpzJmHclQu+MDAf1xq+oNzTNYKk3TumpOu7zDHo8nBbEp2T5YHwm99+ELP+NNBgz/00yGYz90DLsh+YhATiUoNL8NxejA8cRcAI+bWjzIis4tjNVQsFJPLE/ZQzDgM8++ywqoBw/fhwOHToUF8icP3/+fxp8nAHHfqqKOVWVHS8O68WpIL6YeCWqnAAnFhXHaV2cVByepmpGpX+WiqOV/jEVpy9TcZ4RnThjMwNWZPz5IqqKs/A6HywqayiJKurF2VxbjnCS4Vg/VVGqytGPM1QsXY8VkDMjAyFnTnExBFkKzzHLaAhSnKxIzbGWrmujArOlDiauttVDf82O+uq7vT7AhvsA+k8AKPcFwM07ACb0B9hcXwKOOFVJyLkdIWdtNfhu1fXw1KzCUGRkGMo/mxOWvXI1/sa86nowV1aBP5ZWgK0LroG9r10Hf1D3zNIK+C4pr7707Usr4N/f8krCR1NZwAwpNDdKleZdcX56/3YRo68Fh9+/Dba9WRUWLy0PQ+ZfBTdMTIdrxibDsR31wfy0EZp6v2gChz68G7Z8cAec2fMgmI6KTTuAQ0yp+bkTwsyBJ8D87CkwD3QF85fO+P78GJgHO4N5qBOerQhwfmijqjc8Gv5pI1nsp/TeiGHNFZXx1+X161DReqmY4r0xRybB+SHuy+EH2xnwfWvsvvn6Qff1cFt6qpxDPLywGg9X+29QCe2VJwm6Mf9NJ+6/SdIajMXIZjSD8T8WcJxUnLQE4CSe7D1lDMOAjRs3wvbt2y/qCviZM2cu+uf8u5+oCo6m4sTkyYmi4lC7sVMvTryAE2/pn36mspf++axOHCr9szpxxPgmmo2FiiM6cWi6QfHiZPlhRiHVi7PgWurF8cFy1otDI5wf1JGGY1oa56kq8uNQdPyP7gac6OPDraqBrARwHIOcWYXQt/LyVWztmvly3roR1Zy11eRv9htqCkWnNqoDW+tK2NHfDfcCTOwP8Hx39OBsrSvSVHUBNtVxgJzqAO/fDmfXVoOvV1aBcXOvgCEvFIGjb16PxYBv3wSnV98A7756LVR4Nie0nZoP1iwoiZCyCt/Iyirwn2UV4fTySmASwLxZFd/V4u/prRvx871zM3pS1lYD8/3b4Nx71eCPtdXg5zW3QISrVtvrwfKVlaHy+DQIDfVB+QlpYAwxIGmYH7ZtrAmRL5rgeUhpH5Zxb/OHR8A8SGcoBjUEMt/2APP1qWD2WQXmmmfBPMgh51Ewf+qAgHNQnKe+b4PQRMmpr+g01Vg9TX3g0lq8qDTrvSkkd6dG51DUmz972Yc1DzyC0XCv7SlSb6z1cJaeevlq0V4s5hlkPDygnKdoQbxn7rDlv3mUG4xz/NsARy/8S4Ei6SlQOD0lATiJJ1tPGcMwYOfOnTBgwABYs2YNnDp16oKgIBKJwIkTJ2DBggUwefJkOHfu3MVgjb/1MU0TTp48Cb/99hssWbLEGXAcDMexqzgpcKWXiiMMx0qiKuxXBjh5ZDyWTpzsbFNxszGlqZoGDXam8lmA0yFFmI0tFScEvfOQihNWVBzy4kwraNiK/2i+gVbG+QjnptqYTtlRX56qrFSVtjaumo79qOQMJCUnLEc5pxdA78VLxRByeCOvW1rIEXRI1anr/W6pC/BBXYAlDwHMfhxgeVOAjeJctbEmnsMY6Jjv3waRtdXQ0PsuvoffrApPzy4CxhADMkeEYMa8Ky34Md++Cf7z5vXw3Nwr4I1Xrobdi8vi9625GWDNLRB552bYt6IyfLqsIny+ojL+vayrDrC+BpibasHHb14PM169BgbOuxKObayJapQ4Qb351g0W1DSeVQgqT84DTV8sCts+uAMiX9MZqiUr6GsN5oFHwDzYVoLNT51QlfmlM0R+eRzMX7uAefgJMFePA7Pyd2AGz4HZahOYuwaB+bNQcDjgkPfGMha3kKepz+7HhNuH9+DPewudpm7Dv38yFr9hNxabeu+NUG/+0wPVm8OdmXrTRi6Hu6k36rim83lqVlFKT/lggoiHj2DnKWtgk/tvUoT/Jhf337CJBgY49/rsCaq/FXCoyTjbW1QEOLErOBkJwEk87LE8OL/99ht07twZJk6cCNu2bYNTp07FrL6Ypglnz56FEydOwJo1a6Bv377w0ksvwfHjxy8hhly6xzRNeO+992DYsGHQuHFj5xOVi4oTc6IqLQ4vTlJAMRvHUvznpOIQ4MRtNvbZzcao4vjwTJULz1Sk4jyRyrw4IlE1KF8Yhtn2qeR8A45wGkzFQcPxm1XV8j8+xEmpKioAJNMxh5zfn5TJKgtyhoh0FS1hTy+AJwo+FvmaOFlZY5FV5fQAnW/W3Q6wvrrw6NTElM7m2qh6EPDY3roAq+8H6PgiQOmvANrNAVj8kHqyIkVnAwFPdYSQdbcDvH8bHH7nJhg99wq4aXwq1JmUGz5cXhEVirXV4PzaarB7eUXwDzEgaagPHppeQJzYEGROvXcbtHsuC6pPTIc7p+RlP9e6ENlaF3rNvQKMIQYYQwxY985NIuLdEGB3I/j9w7vhxil5ocmLRWH26qrw4dY74dzXzeUZ6rtWspjvAKah8AwloObXzmD+SlDTFd8j4l08DcyKB8BMOwFmja/AXD9CAs5PnQB+7CDMxSI5ZcFNcy01pZ2m1ldHheqtG/Akt7Q8epF4qd/UfGJUMwkiQwNwdiDCjd5745ScclJvyFzMu2/IXKyX+03PwvOUezwcF8SfSA+j/yY5CO2Tg/BILum/URqMAz6rwdgpQfV3Ac51HipOiZQcUCw1VxxRcabgxKniJADn8n4Uk/Hp06dhwYIFcM8998CAAQPg5Zdfhq1bt8Kff/4JJ0+ehFOnTlnvyZMn4cSJE/Dnn3/Chg0bYPr06fDYY49BgwYNYPXq1f+KVJXniUqDnOwkqhy9OMlqbFwxG4d48Z/PUnFiaTaOZWFc36ZyVHH80mxMkfE2OQPKwril4ojIuOXFyc/3qVDFmVrQB88JwzGPjdNG1QrtVGV149Sz+3Go5Zgnq452sUPO2UF0rgrjntPEdLmKzWPkC68Vao4otSPQsc5WzKciVBDYKFSdTQJ0+PuBAJypPQGqfATgiwBc/S3AsOH4ffRxm2ojLG2qJYFnIwcebEP+ec0tsH1FZThJitL6GnD6/dvh7SXlIWtkGAqNDEO/OcXF56oNsKk2nNhYCyqMSwFjiAHJw/zSP7SzAZi7GsDspeUhc1QSFB+TC15eVYXNVOAe148f3wvm15q35rvWsr/GMg0ztebXx1GlOfyEgJpuYP7UE//vUfEe6Qbm2NfBbLsRzLXPgnmoq3qeIrghYzE/TX1OqSmxGM5TU+/dhurbyirsNFUSU1OzCyPcWqV+ITj3dABO9/fbYuHUWuyUnLKi4Zp6s/oGhPTFLubimQUNmJqF6+F4npLtxVY8PDcf2AxBx2Q8Tz2SM2CdpxwBx1ATVHpEXC/5yzbg+KMAjsMeVQnxda9oTGcqVvaXjTNVAnAu78cxRXXgwAGYNWsW3HbbbVCpUiW45557oHnz5tCmTRt47LHHoGPHjtCiRQt44IEHoE6dOlCxYkWoV68eLFiw4F+VqIoJcFwSVbGoOHyIU79T2wEnCGVCamTcqdnYzYsTbWE8pjOVMBs3CTIVh8zGuaTZ2ObFyR2W+1TkxcnARBW1G+uxcb38jwzH66rjn5K31MFTFflxvnhAmI5boOmYJ6tUyPHblRwBOSZBzuwi+BvgfHay4tFpSlrR2UoHHUpdbZRgYQHPB3UAXm8F0OoVgJL7AJq/DrCyKX47Qc6mO9QfF8d7dmMt+Pztm2DMgpLQb+4VsHpFZYSqrZj+OrWlDjz4fEGoNDEdbp6cRykwND9pCJ9uqgXPLCoN8968HvZsu1OuqduWvVtJb82BR1gaqqP01tD56YiAmiPdwPy5J5ifDAXzjZlg7h0A5uEeYB7tDuaR7hD5sSeYP3YH85cnUO35+VE8ax1qL303lJra+xBGz79ownw3Ym9qSx2EwffEaepN2psqozYWz8gEmJwHz5Ujwspp6v96onpDsXDeWsx7bz6+14CdYliTouHv3sqj4QZTbwzLXDyriAEzsrDcj9JTIzJke7EeD+/C4uGqwdhnJage4AkqwzkizgGnxoUCjuEeE8824LhExbObpEoAzuX9eMbET506Bbt27YKFCxfC+PHjYeDAgdCrVy/o3bs3DB48GKZOnQrLli2DL7/88n/SaxPtcQcc58h4dlQcN8CxLY0nae3GMTQbX0gnDqWpGhDgGOqZikfGW+VAszGqOOTFCSq9OH3zJMFA4cUZnj8EowqEYEwmnapwo2qWFRtnhuNy9lOV7sfRTceUrHKCnP/ryZScAXK3KjI6B/afTM4DMF2Yj18sJtSckur20tIKsh/mrRukx+VdB0VnQ01V1aH37YYALz0K8GpbCTcf1AFY0xBgYWuAlU0ANt6pfp/+bnHw+Gy7E3+Tp3fHXSLOjvF1c1cDOLrtTvh1Wz04sr2+nJ/gY6IENXubqzMK+3HR2/y+jXPEW1FrnpRQc7Q7mL/1hMhvPSGycySYD+4AM/0EmOMXgfl9f4gc6QGRI90hcuRJVHh+7QLmL48hLB1qL1NT37WSp6k9D6pr4Y5jmmyOgftuXiyKp6kpea3UlHqa8sPxbj442gX/3bHUG2Es1lfDSb3ZUBPNxaTe6M3F80uiSmltT2X5YGJmQKSnQkp6qm8ePE+RetM5VexPJQcU/41a8Mf8N4az/8at5C87gONV9Jd9BcfuweGgk+lkFfDw4SQA5/J+ovbgXM5PXAqOgJx4zcZF05ItH07UduMcQSgTRsBByImvE8ep2ThaJw55cazpBp8wG4vIOKk4rbTI+GNWLw62G/fJE2aJKvTijM4IwjgWG3+uMCZL5paQQ5y0U7WiMkIOn3GgluMdd6lKDoccio/rkGP15AwQjcfDQhAZlQPMscm41zQtP/4mSFHyl6/C1M1rpVAJ0LeYvBQdG+gwrw4/X22oDzByCMD1HwE8vBBgYVtMZ/FXBxgOMbZeHioiFK3LnzTUhkMfkFCzh9a8BdQovTWtxQmqrSjl005Qv3QG83AXeX462g3Moz3A/K0nvsd6gXmsN0R+7w2RF+eDmfUHmIHzYN7wHZi7RoB5pAdEjnSDyOGuCEd0mvqxg0hNPWJvKyblhvpudtSXW1MW3NyAILq4LP5zo0j4cwVlod8omZo61c8Pf/X22QY1eakfGYuptTge7828qxDgny9i777Bcc2wVe7Xx1oPD1ntxZ2UgU3hvwn5oBkDnEZ+tcH4UgFOtC2qmAEnDVNScQFOHCpOAnAu7ycBOB5PzICT3TNVeoql4sSTqFKK/zTA4SOc2YmMO5mN9X0qHhlXiv8oUSVUnM5pMlGltxsPyx+CkRmy/M/tVPXqdRivXVZRjnFyPw5Bzs675F6VBTkt8DcmJ8ihc9WpvqLxWHTlmCOT8GQ1IQ2bj6cXkGoOFQOSN+cNbZvpTa7oRAEd5ouxAGdJS4CmS9Cbk+d3gLbzxbo5hxmRatopVRm1VfleaQymzSx9Cf3LJs5Q842agkKlhlJQZBjmJyih1hx5kik1vcTbG8zvnwbz28Fg/tYHzN/Fe7gfmA98BGblH8Acsxgi+/uDeaQ7fo7DT+Dn/BnVG2kqbi3hRlduaEhzK00xVBd9Nw6m4jnF0Uw+LT+YE9LBHI1jmuefDlpr4XpjsdNpiozFuxoYsM01OeWzJacs9aaQAdOyfDApMwDjMoMwOoOPayZZ5X49RLnf46l4npL7UwFolcMPLdl5qkkAz8cXAjjRdqhiAxycmIkFcNBoHC1JpZ6q4vXhJADn8n7+tYBjmiacOXMGTp8+bb1nzpyJq5cnO4AT35kqJaZ2Y13Fcdqn0n04BDn6AGcsZmMnLw5vNm4kzMa0Mv6Q6MVpzVbGrV6c1BA8mRYSG1Vh3KiylsZxwmGMSFVNZakqXBs34JVrDMWPs7KKjI5b/Th3YAkgbzr+sgnryGmNJ4YfO9gj5H/1lrMO58h8TCercamo5kwv4KDmlGQjlOWkP4e3AEcFHQ1yFrcAaDcXoNgBgFu3A8zrLKFmWwOADY0A1jQH2HKfnIP46B65gUWL57sbobphgxrupxGx7n3s/EQnqAPcV+MBNVypOSaUmt/7gHmsD5g7xoI5bBWYfd4F8+AgMH9/CszjT+H3fzQazD1DwDzcS/hvugnlRsIN+m4Y3OyNBjdamR/BjTXFUBxBdVp+hNdnc0JkeBjOP2333dBpykpNtUK4+aqpOsmwvZ7aWkyr4SurCPWmrLP3ZnqWAVMyfTAhMwBjMoIwMiMEwwqE4Gmt+8a2Hm61FwfwPBXCfTga2HRqMI4GOE7qTXYBp2zQD6XDfgVwrvEAnCtSckCR1NiSVNxsnACcxBPr868FnF9++QWKFCkCWVlZUKJECShRogTceuut8M4778T8OeIGHPG6qTiFXf53PO3G1GzMASe7zcbxRsb14j+eqCIVR283po0qGRtXT1XPaKeqqVlqqsopOk79ODTlsKEm/ilahxzarPqmBf4mxSGHlwHafDlP4xK5OTIJzGdzipRVfiwGtOLkV6hnq0Vl7KBD/Tnv3KzOHThBDqk46+8CmPsowJSnMA1Ep6f1DwCMHgHQ6G2AaYMANjdVl825SvPFAyL11MRuEt7XQio137WyivjgAEa7zYN2s3Dk18chQnHuo0KpOdZLAg3By/G+YB7vB+aRAWBWPgCmPwJm8ikwt04A87f++HHH+giFpweDm65g/tIF4ebHjmDalBunrhtxlrLgRoxovnUj/tovKYcq2yslJdxQmd+zOSEyPATnB6Nyo0fCvXw3lJraUR9PU5tqo3rz7q28tdienKJiP6ne+GFcRhBGZ4SYeuNsLlbXwxFwWibheerBoA+aBnzwgN+QBX9MvSGDMSWo7jBkgqrGRQScClaSyocqjh4V176uWWeqVKc+HGdVJxbASfTgJB7+/KsBp3r16rBgwQI4duwYHDt2zBoMjfWJC3AY6LiqOGnqf7zWx0RJVOmAw5uNKTZ+oZHxGoa92Thaoup+puI0F/MNrdhGVYcUjI13Tg1C13SMjesTDtapSqSq+BjnC8XUluPXy9gh591b7ZBDHTkccsiTQz051Hj82xMGHO8mIedUXz+cIcgZimoOnaxgcl5VzXmJna0obUVnKzd/zru3qqCjdOjcIZuRyWtDBuE3OgJU3wZgmADFfgSYPpjBTWOAT5oCfPQgwOcCar5q5gA2LW2+GrWIj6s1j4N5uAtEjjwBkSNdIXK0O0SO9oCIUGoivz8FkYODIPL1M2B+PAYiv/eDyB/95dt9HZi5T4CZ+R8wn3sdIr8MEOpOb1R8jjqcpX7sCHCwvR1u9rh5buqws5TWdUNwM5fi4BlgTsLEVGREGCJDgnB2YABO9Q3An7388Ed3w4qEU6Ef993w1NSuBmJQ0yEWvrIKGouptZhGNS3vjUhOWepNAaHe5A/DAHGe6iXK/bqmh+DxtBA8lhKU6+HWeUr4b9j+lBPgOKk3lwJwKmYTcOSZKvqpKjtx8QTgXN7Pvxpwbr/9dnjrrbfg3LlzcP78+Zi7eUzTtN79+/fHDThxm43TU6GoR/GfI+AoZuMLj4zzM5VToooAh6s4TiOc9o2qADMco4rTO7c4VeXTTlWZ9lMV+XHIdLyorGo6VuLjNdWOHP1cte8h2ZOjQw75csh8fGaAOFkNFlHyZ3PKlNXUfBgx5kkripSTmmN151TC5WrrbCWnEbARubqasrIBjhj1nNcV4Lp9ALn/A3DTxwAfNJfKzYfNAN7oCTBtFMDaRwE+FVDwNXlrWqqdNTR2eZAUmw7WwGVEOUMJw/DhXmD+9BREjvWCyO99EG6O94PIuGVgVvsWzAL/B5Hvh0Pkj4EQ+c9AiPxnAEQ+HguRjlsg8s5zYB4dgOrN771RvTnaA8yjDG5+Ic8Ng5v9rMjvy6bsLKUZipWzlFgIp64bPqI5OQ+Y41IgMjIJIkODcHZQAE73C4i+G8MyFf/cCf/d+KGNAd8+rJ6mPmmIp6kd9XE2hFJTFAsn9eaNci7eGyr2ywzA+Eyu3oRs5mKZngq6pqeaB33QLMAGNi+SwfiSAI7WaFwiRU9TxQY4iooTw9fkBOBc3s+/FnB+/fVXKFOmDJQuXRrKlSsHDRo0gGnTpsF//vMf1x9jmiYcPnwY9uzZA3v27IGvvvoK1q5de5EBx+U/5LQUKOam4ohEFTca65FxSlO5Rcaz68XRY+NcxeEbVZSo0pfGLcNxahCeSHc+VQ3JTzMOIRibGYSJYqtqpjAdSz8ODXLKEkAOOaTkOHlyeLrq24fldhU3H9PJ6s9ePjj5FD9ZBTFlxQ3Ik/PKpNULRXDPSjEhl2ZqjhjwtHlzqrHFctaETBFwvlq+426A1W0AnhkPMHoMws1njfFks7EtwINvozm5yK8AbwyQSah9LQG+ag+woyvAR10A9nUQSShxivqxE5j7ngTzm+4Q+aEHJplYtNvcMwTM9yaDufAlMH/vi2BzXKg1zT8C02eC6Y9AZPlLEPl9EMLNHwPw+4/3g8jvfcVpqjeetI72wAi5kpbqCKYtLdVC7kt91hg9RjtFiR9fB+fKzRLy3DDlZkYGmJNyY9fNyDBEhmAc/JRYCafE1BEON6ytWPfd7KiP9QTku+GDmjjJYCix8LklmPemoAGTMzE5RerN8Pxh2VycR1NvRDS8o9Z905L7bwIyHu60IB4L4BDcZB9wuNHYDjjX5AzBVS67VCUusYqTAJzL+/mfAhzTNCESicD58+dd30gkAqZpwokTJ2D58uWwe/du+Pjjj2HcuHFQqVIleP75512LCM+fPw+DBg2CrKws6y1QoEC2ACe+NFUUFSc5Ca7Si/9skXFfXJFxJy+Ol4pjS1T5ZLsxJaqaBXXDsQo5j6fZ18apAFCNjgdhUlYApmb5HEzHHHJ8USGHlBzqyaHG429aSsjh5mOnk9XZAWKRfEiQGZBTACbmBpiST3pzXiiKBYEvlxAmZAY61J1DZ6u3WRsyXyvnnpwtdYUPp76alPq4oQScz+9H1eb6LwHCZwCKHAbY8hj6bL5pCbDnEYBpUwEK/A5QdS/AvInqhMK3T4DZYzWY3d8Gc9rLqNj81gNNw7/1BrPSATANE8y0ExD5bYA8Qf1nIETmLgQz40+IVPwRIq/NR8D5oz9E/ugn/DjCVHysl3qW+rWLQ1KKl/g1x/Pa5/fbG4o/ECV+ShS8MvPcXK0MaMKk3GCOSYbIM/ws5YcTfWQcnBJT3FRMvhseCee+G4qEy9OUTxnU5LHwWUXEqGaWH3tvMoKi9wbh3km96cLMxbQ91SYnqTd+lp7S+m+yCTjZVnAM2YVTIeCDskEJOK6TDckusw0xJqriMRsnAOfyfv6nAOf777+He++9F/Lly+f6NmvWDI4cOWL7sWfOnIGRI0dC1apVPVWc06dPw19//QV//fUX/Pnnn/D555/HDzi50yArPcZ18VhUHCHvlswZksV/bL7BKTIe7UwVb6JK78WxNqp4okoxHONOVVuRquokVBxqOKZUFflxnFqOJ2X6YZowHUs/DkLOa6XxN5OlLkrOxlrquYqXARLkfPsw+izIfEwnKx4lt05W/QNwbvvGXckAACAASURBVKAoBhweAnNUEqoCE9LwbDWNvDlFpDdn/tUAr16LMWVbpJyfrG51UHLiAJwdrQBGTgdovA7gns2icVjEvfe0B+i/ENWdpDMAk2ch3PwsOmy+6ANgAEJM3c9lIorSUHd+CWboHJg5z0Dki2fZGWogRH4cDpGdkyHyB1NujveDyHGh2lhwQ4birhrctNeWwVsg3HzVFJWb3fdh7H2nw/wCjWeuIOWGwQ0pN+IsZY4Iw/khAeUsRXFwvjN1oK2AmxYq3NDWFPluNtRE3w2tha+63oBllXyOxmKKhU/P8snW4owQjCyA22yD8+G//32VYU3hvUmV6g1tTz0cVtfDKT3lVPCnNxjzDaoaFwlweNlfhYAPygV8UCbstwCHIMdteJPOVEUczcYxAE6Ur8sJwLm8n/8pwDl79iz8/PPPsH//ftf3559/doyCRyIRWLRoEZQvXx6+++67mP56sZuMnZuNo6o4tlryFE8VxzbCmSOojXDin6hiSVR5zTdUj1HFsRuO1VNVqxx4qmqbE1Ucgpwn0kLQLbcKOdRyPCx/CEYKyBlnQY5hJateutJZydHTVbwnZ9ud+KfvD+9GH8VnjVXzMfly+MmKouRSzfFbxYBSzQkzNScdYEpeTc0pjmoOna30SPmq62XSig94bqihQc6deKba1QCj0TrgKJ02zFBMgDN0PsBVPwFkHQN4eSLCzS+PoZH4y75gppwCM/UUmHW+ZMkokY4auhrM+3ZD5Kn3ILJ3lDg/Ob3yJBWhkxSpNraTVAc8Semr4DwGvltPSgm/zdpb8ddrlTa/8HIJBEuelhqTCyLPINycEYZi2pjiyg0/S3HlhhJTO++ytxVzuOGpKX6aeqEYGounFzRgSqY0Fo/KCMEzBcIwJF8YBuZN0or9nJuL24jtKTIXPxiS6SkeD9cHNglwCG64wfhCAUedbGBJKgfAcT1TJetnKva10WG2wf1M5fz1OQE4l/fzPwU4sT7cJEzvyZMnYejQoXDLLbfEvHKerRQVU3EKxn2qShGR8ZyeXhy3Ec6KAfuZyqn4Lx4vDkEOJar0IU5uOMaGY4OdqnxWqqptrgB0SJEzDl216Hg/BXLCTMkJwmQBOTMLYdTW8VxVXkLO6htUyNl8h5x1cDIf722Ov7m5nay4mnPyKT+c7o8+jvODKU6umZCn5RebVoWFCZmpOa9fJ5uQl1dU4+RrbgF4T5iPFSWnjoAcoeR8dK82saDFwfcxBef71qiSHGgH8PVjAN8+KgCnMwLOwe4QmTcbIvNng/neBAE4vRFwjj+Fagz5bo6zpJT1bX0F1HCw6cXApquSkjIPtQfTMhJrJynut7F2pbR24rduEDFw4bd59RplfsGclh/hZjRFwcUEQ19qKTac4cblLOUEN9R3Q3CzRMwxLLyO+W6u4KcpUeonYuEjCuBJlo9q9sqNq+Fd01C9eZSrNzm5uVg7T/H0lM8+sHmxAIcgJxbAKUuFfwxwrs0RhKs9fDgYGWeQEwVwYlVxEoBzeT//SsA5ffo0rFq1Cl544QXYvn07bNmyBYYMGQLly5eH2bNnx/x5sg04AnKysuPF8TIbp6gjnNdpgIMqjs+z+C/eU1UssfGGPudU1UNKqgr9OB2TA/BYShC6pAbhSb0fJ08SDMqXBEPyh2FYAankUNOxNedQ1A45OOngg+WVfFYZIIecjbUQcvSEle7LoQ0rSlnx9mMyIHNvznkqBxwuph64mjOd1JwiakGglbQq57BSLooB379djnZuri0gpx42GH94tyj2ExHxzx9QS/x0wPkBO27gUDuAH9lu1C+YlooceRIiR7qp0woEOb8/JV7RcUOv9e2i24aDDXXbWOeoTlK10Y3E1G/zuei3+ege/Hvceid6kdbXQOhbc7OcXuAdN3OvwF/fmZm4LTU+FSKjc0BkeAjOPR20Svz+7OWzRcHdlJtPGxnwETtLuSWmVlT2wdIK9kI/ay2cNRaPzwjCsxQLF6epgXmToF8etfdGL/ZrmysAbXKIaHiST6o3vNxPO0/FCjg8QeUFOFzFcQccwwKcckEflA4HbJDjVPrHAad4Sk4EnBhOVQQ4BaN4cRKAc3k//0rAOXPmDLz66qtQo0YNKFmyJJQqVQoaNWoECxYsuPQ9OC5nqngghwOOU7OxcqZikXECnGjFf169OAQ5sRqO+U5VI79bqsoHrXOK6HiuAHSyICck+nFCiul4EMXHRUcOxccnZ/lhOhUBakoO7VYtLu+DZZV8tnMVXyHfxqYddt+HJ6svm8hSQN6Xw09W3IAsG5D9wpsTlGqOkrQqgL/5zipsT1rRyWpZBYScVddLXw7FyKknZ/MdYrahvgo5uxthkuqLJpg6+vpBdSDzu9ZiR+oRHK20dqT44ndXVFuO9hDNxD2s/SjzGIFOX/Y+Jb/POkX1EJFyGst02JMiI/E3LV2aiVkE3DpJVUN1682qGtxcjYbu2YUBZmSCOTkvmONoWyoI5wYF4Ex/6rnBEj9HuBHKDd+YooXwbUK5oZ0pFW4MC25eK60V+hUVkfCCsvNmbEYQRhUQp6n8YRiUL8lSb6i1mHpv+CzDIzn9lnrDpxmaBoV6I/5w4ea/4QV/fEW8RjYBx9VoLADHpuKwRJWl4jj8wc1W/BcFcmJVcRKAc3k//0rAuVjPBQNOts5UmKbybDbmZyrxRcRScfxihNPIXi8OfbHTvTjRYuPWGCc1HAcwxkqnKtqqosVxPshJpmPaq+Lxcb0jhzardCVnfklDQk45PFfx7SpaIaeE1da6qi/HLUrODcjOao4fTvUNYJxc7FnZk1ZczWHeHD7eubS82oD8DvPlrK8uz1Vb+anqHgSDT5kX56umstzvG7krZY1lHrI3FWPvTRe5AH60uwSd33oqMBM51gsiBEJHe+CO1OEnVbD5qROYhzpgFJ2biL9tyVSbpvhz3n0fi4DfiX+PekpqZRWEQPLbzL8KYfH5ggDTCoA5EWPg1HFzblAATvfzW9tSekPxwXbRz1K6crO2mgY3YkjztdII1y9f7bMi4c8XxjFNnprip6mn84XRWJwHO6F65A5Dt/SQot50sLw3fmgtouEPieVw5Tzlk+V+pN40YHCjG4wJcPQOnAsBnMqGiIuLM7mVpgr7nQHHQ8UplporZsNxLJHxBOBc3k8CcDyeCwIcBjnxAk7hdDUy7nSmulY7U1EnDkXGScWJtxeHIMfLcEypKq7iEOTIbhxxqqLFcfLj6IOcZDpmyaqn8rpDzvjMAEzORMiZKYzHL15BZYAIOa+VRsjhA508YWWNdGonK6co+X5NzdHj5OjN8aM3px9LWnE1Z3wamJNE0mpmllBzimkGZG2hfHVV1Xy8ns5Vd6Dpdkd9hAILcpgfZw9XclqqBX8EOaTk/PwYGo5/fVxVcw4/KWcZLKDpDpGj3SBCQKOoNeIUdag9mAfbMsWmtTxH7W0uu20+bYxmaUW1qS3ghqekKuGvi1LeVxRgZhaYU/OJXSlhJh4cgLMD/XCarYI7wc33reV4Ju+5UeBG89zwpuJlGtzofTcIN3KOwSk11S9PEvTJHbZi4V3T7KOa5L3h5mK5HC7NxdEAh8PNJQUcv4QcZXzTaV3cAXIIdJznG7IHOQnAubyfBOB4PP9NwCGzsRPg2FbGkxwi4y69OBfqxXFScfQZB2urivtxRD9OTJCjnauGsiLAMdyTk2X35MwvKber3iiH3SQrqviUGDlPWG2pg5DjdrLSU1Z8y8pJzVH2rIYGIDJCqjm4aSVakJ8vJDet5vOTFXXmVMZ18rdvxDI7ipFvrKWdqzTI+YyUHJaq+qYlNgPz3amDbVkfTkcZG/9FgI71PsFg5gkBNI/LExT5a35sj6eoH4SBmDptKPq9p5makCKvDak2G2uKPalb8e+ZUlKLy2LMnk5Ss/hJKgUio2g0MwhnB2DHDcENxcBpOPNgO3UZnOBGUW7qoXLDz1Iq3BiwuJyamKIhzdlFDZhZEH03kzP99kK/fPw0hXDTPR1PU11ELFxVbwLQOklGw73MxW7nqWgG44sBOPxM5QU4BDluKo69+C92wHHz4iQA5/J+EoDj8lD6at++fZ6Ao4+7XQzAIbNx0dRcroDjtDLOvTh6L47TRpWTiuM0xOl0quKGY6UA0NAXx/FPnLzluHUOPzySSysBZJDTk+Ljed0hR3pyWIT8CqnkLLjWQMgpKyCnMkIO+XLWVmPmY+bL0aPkysmqtbMBmcfJ/+rtF705ftabE4TIqCS2aZUHS+h0A/Kr14jOHHayWsUgZ201PFdtqCkj5NvrIeRY8XEdclzmGn5QQQcOtceU00+dEFy83p86orfmUDv88QceEWCjnaL2PqSeoz5t5OC1ESvgipG4spxcoJPUnGLyJDUpD5hjUyAyMgdEhgozsRjN5DFwDjcH2optKQflhvaltmtwQ0V+fCHcCW7IVIy+G4QbKxJeAAv9hgrfjddpircWP5IzAG1Ycko1FyPgWOqNS3rqYgCOU1Tcsw9HOVPZfTiKiuPhxaHiv1i+bnp5cRKAc+meWoZhvGQYxteGYZwwDOMnwzBWGIZRRfu4uQb+A9Dfr10+7xPi+84YhvG9YRiDDcMIZfPnmAAchycSicCECROgYsWKUKpUqSgKTpprB4MOOF7/sdq+jwGOq4rDNqoIcsoG5XxDRb9P8eJ4tRvHGxsnJYcKAPVTleXHEVs5Sj8O26uiZNWjqRxywkLJSVKUHDpXjcwIWkrOJKHkzCwkt6t4IaBbjJx8OdR8bJ2s6nukrFp4qzk49eBzUHOCljfHHJUDzLHJmLSyNq1ouJM1IFsG5IqqL4cnrDbVlhFyMh5ThPyzxngK+qopmnn3NmdL4vouFYOdg21RiTmkvdb3tWVQI05Q+x/G95uWCFNfM8XGaiNuiBBGvTaW1+Y2Ef8WW1KWalMKVZt5V2J5okhJwfhUXAN/JsTK+7jfxmeZiXmB33et1OHMzxrLbSm3sxR5blZWMWBpRbkxhXDjs0Y0ZxelMj/DKvMby/pu0HdDcMNPUyHrNEWL4fbklB8e8mgubsjaiznguPlv4gGcWFWc6w218M8rMl5aQI7XdMOVMao4hTXAcTpTJQDn0j1vGIaxzjCMxwzDqG4YxgOGYWwzDOOcgfBDz1zDME4ahnGT9lZw+JwDDMMwDcMYaRhGDcMwehsIOrOy+XNMAI7HE9uJKjrgxGo0LmwDHDQbu0GOE+CUCcWeqPJaGo8FcpxOVbwAkFJVeKoyWHTcBw/nwFPVI7n8yijn42khsVkVdlRyhuQPSU9OTJCDSo4eI3+zKkKO7svZUgfPFHSy+qQhQg4/WbkZkKkc8I/uPlYOiGmec4Ock1Y2A/K8K+Vw5+usGJCi5G/fJE9W5Mv5IMaenK8F6Ojr4vtbyYXx79tI6OEvfTudn/a3wh9LULO3OYIUtRBzxeaje1Bl2l4P4ANxjlpfHRWpd4TXhrakFlG3jTASz6JWYjxJmaNygDk8BOcH4+yCDjek2jglpchMzOFmR30DtrKGYr4vtfoGjIIvq6R6bvQ4OI1oTsnyYWIqUzcVy0h4nzxh0XmDcNMlFQc1aZJB771pmeSzzMVNnc5Thv085QQ45L+JBXBuNuIHHHW2QUbGLRVHbzb2ABxboirK10qvRFUCcC7dk+HwbSmGYfxqGMZ77NvmGobxVwyfL59hGKcMw3he+/b+BkJP6fh/ignA8XoulgcnW2cqEZWM1olzrcPSOE9UUbuxVy9ONMjhhuMahvOpysl0rLYcox+nmYCcFknYdNyaIIc6chTIYW3HeZOgf96wjJCLnhwOObhC7oPnC4sYudV6LBNW6MtR5x3oZEUpq80sZbWrgUxZkZrzdXM1Tk5qjtM6+Z+9pAH57IAAnHtatCAPd1BzqByQph50AzJvP6aJB1JzNjupOZo3RykEFGvjNuBh7/6H1f//G/GSYXjPg/i5vmoq1Rry2Hx8rzhF3SU3pHj0+52bZUJqaQWcslhYCv1Ic64Qqk0WwNT80kg8Igznh4Tg3CB5ksJ+G/umlOW3cRjNtE5SYjhzU20EXJpfsEXBNUPxvKvQ2M7j4FNsiSnquwnb4SY3Jge7pEm46ZgchPa5AtBWnKZaJcnV8AetaLhhMxd7dd/UMeT+FDcY14gCONlRcCyzsSG9OIqKowGOzYuTbFdxil+gFycjATj/lWedYRh72f8/14gNcFoY+A/qJu3bC4pv75+Nn0sCcDyeCwYcBjrZ8uGkOwxwJmtnKodm43h6cWI9Vel+HG44doIc5ykHrQRQazpWIEfz5PRhxuOB+bDmflj+MJt1CMLETBroVM3HMmFlWBtWSyoYricrS81xSVlRA/K+h2QDsu7N0aceaNPK1oI8QrYgw2Q+9VBEGJBJzRF7VsvEaOdqFzWHUlZWX849ohSQg84DCCRfNkU4+aoZwoql8Di8X4vv39MMP/7LJlKpUaDmHlSRdtRH2PqgjlbYJ85Rq0T02zpHlcTG5xeLql4bodpEhgXh/NMBYSQO2E5SlJI61F7123zdXD1JcTOxE9y8daMaBV/Eem5snhtxlpqSaVduhummYlGD0CMd4eaJNHUtvAM7TemtxQ8G7btTjTzUG6f9qewADvfgRAMcvRPHBjgOXhyr+C9ZU3GS7V4c7z8MpkLhNFXFyUgAzn/lSTcM4w/DMJayb5trGEbEQGUnYhjGj4ZhTDMMI6/2Y0cZ+A8q2eHzHjUM49Vs/HwSgOPx/BMAp0haChRPdZluEJBzrXamKp0UgLJBaTau4Pc5jnB6qTjx+HH0lmNH07FLsqoFh5ycEnL0dFVPka56ypp1oIHOMIwsEIbRGSEYmxmyzMfWyaoonqzmlsCT1YJrDaX5mKLkTmrOxlpoOqWT1Yd32705VA64v5U69aAPd6q9OX7rbIUtyEEwR4rxTsubk4G7SsrUgzhb8QZkDjrv366Cjm2sk8HObtGC/FljuWn1xQPu72fsYz9thD/+k4YOUCPmFTbXln02umLDwWZBSfQevVgMk2XTxUjm+FScW3gGVZuzA4Nwup/aSkyqTSz9Nk4nKW4m5ttS1FC8SDQUU4kf99zMtOBGFvmpyk0SDNTgprtQJRFughbc8L0peZryu56m3KLhTuV+bv6bC1VworUacx9OOa0Tx1HFcTlXSRXHA3LErIPTmSoBOH/v84qBHhxuNO4u3jrifcZAU/IeA09a9MwyDOO0y+fdaxjGmih/7QwD/yHz914jATiuzz8CcNJTPc9UutmYAKd0OADlgj7HpXH9C5NbN068kEMqjpvpWO3IMZQiQIIcfq5yipD3ou2qvHKFHBNWYWw9Vk5WPphRCAcPaY2cn6ysKHkFHyyvHJuaw705PGm11+Fs5dabw0Hn7AC/iJQHIUJqzrgUgEm5xaZVlsfZqhzbs6oqzla3yHLADTVRPfngDjn1QP05u+5m6+QCerzej+/Fj/3oHvxxuxqgQmRBTR1pHKbF73fFMObqqnYDMXXavFgUwWZGBk4tTEhDE/GIMJyn0j52jtK7bchrY6k2wkis99tQSmqLSEmtr6GaiSkGvrySAUvKS7h55RoJN9RzIycYdLgJK3DTT8TBe7HEVFcBN4+lBKGTUG5snTcCbnRjMZ9lIPWG4KaBoaannMzFTv6beAAn5jOVL04VJ9pGVSwqjovZOAE4f98z3MBf6C4xfOz94mO7s2+bZaAHx+nZaxjGO1E+5xDxOW1vAnCcn0sBOPFCTmEdcJLtgGMb4LRUHL+6NO6xURXtVMX9ODrg6P04dKq625CnKmuUk0FOs6DPBjmtc/ihbS6/LV3VVTQe06zDUxbkhOHpvAg5wwuElf2qSZkCcgpiu+wLxfQouY+drNT2Y1tnTi1M2ehxcmpAJjWHzlY/tHHvzdHPVoqaw5JW5sR0gCn51LMVtSDT2WpxWYxUW1MPN0jQWVtNrpNvJNipgyesbfXwjLVDnLJ2NfB+CWa210ez8NY7Uan54A5UjDbUkP6ad2+RYLOiMoINTSzQOOac4mggnpkJMDUfDmSOTcZzlGIipnOUH/7o5uy1+aGN2JPSUlIENzvqy5QUqTbv3WZPSi2riKvgi8qo21JzrrTDzeRMn5WWIrgZnh/9YQPZDIOMg8syPye4acMmGeynKXf1huAm1vRUjRgARzcZx6riOPlwvJqNrdi4ruIk64mqnDEDjq7iJADn73kGG0ZcPhm/gb6c19m30Ykql8PHx3KiSig4cT7/BAWHSv+Ku5X+Cci5JmdIBZwcQSgd9kM5BjgV/dG9OF6nKq+WYzfIia7k+Kz1caUnh5UBdhJKThcNcvrk4YWAONI5nJ+sMtCXM4VtWNHJSo+S044VduYYVmeOPvPg1oBMag5Fyr9tiYqC06aVPFsxNaefH86QCZki5bwgcAr35xRFI64y9yBAhxSdN6tK2Fkr2pDfv10qOxtrIfBsFgrPB3U83jvw3VwbjcIba6FKs666OEHdih02BDWrquDPY2l5VJpeu44pNsUQbJ4TTcQW2CThYOmQIJwTYKOaiDEhRVtSXt02tCdFJyny2ugpKf0kpSalfBbcvFAMAXmmaCimKPgY3XOTH/897JdHLoQT3DwhVsJ5mZ8b3Dh13iitxT5VvXHqvvGKh8ej4MR7prJOVRQZdyn+U5bGL6KKQ18zScVJAM6lfwhuBsfxY/wGnqkWsm97SHyeG7WPzTLigyf+JDw4Hs8/B3AwMh4NcJxVHJpvMCwVJ57YeHZOVZ6Q47MPc3LjcYuwHx7OofbkdEgOwqOpQeicirFahJww9MoTht55khTz8WDhyxlRICR8OQg5k12i5Nh+7LNOVmRAXhHtZMUakLmaw7051ILsHilHk+x/evhZQWAAzg4MYncOMyHD+FQ8W1HaahZvQmZGZD75QKrO6qpyxJOUHQKeddURetZXRxVmQ03x1lDf9dXx49+7Tao07xDU3ICtyysqYyJqcVmMe9Mp6uUSeGKbLRSbafkBJudRYt+RoUHRRhyEU30D8FdvvzhHqb02ltemjbdq45SS0k9Sq64XJykGN2gm9ilm4ueLyG2pSWI8c0xmEEZlBKXnRhvQdIKbzpbvJiATUzkxSdgqh5hjoM6bkPNpSi/2cwMcgpt/CuBUCPigXNCPK+PaH8Sui2GjKjuJqgTgXPpnkIG/uMPj/HFNxY97kn1bXgNPVDO1j+1rJGLil+T5JwBOkRgBx7YyzjaqygWdE1VekMPPVE4tx3p03A1ynDpyGgoVp7GAnKZBca6iSYckP4uQS8jBgc6QUHJwgZl35fTLi+bjwXrzcabmy2EnKzIgzy+Jv7lxNWdZJQQdOlkpy+QOcXI+9cDVnG9aOkfKZROyT6g5frU7Z2AQIoODYIruHBiTS4LOtPyiJJCBzstXSUWHigJJ1SHYebMqAslbNyKcrLkF33dvRSVm7a0IMGtvxW979xZ81+hAI3w1KyqhaXhJeVSRXiuFsEUlfaTYzMzCn/Ok3ADjUsAcnRPMZ4RiM0iCDZ2jjndD1cbJRMwTUm6qDY1lOhmJKSWFJykDXi/DzcSywG9WEZGUEjHwSZkBGEfzCxkheKZACIbmD8HT+dSzVC/tLNVFgRtpKrZ8N6zQj9QbfZLB8t44zDJEU29iMRhfdMAxpNmYe3HKhP2OgHONS7sxAY6VqIoXcFKTE4BziZ6eBv7Cvm3YS/wo6l3cMIwtBrYT1zcMo56Bp6hThmF8YdgTU1T0N8LA8sBeBhqPE0V/l+D5+wAnWgwyBYqw0j8nwHGLjPNenIp++6kq1objWFUcp2SVoyeHQc4DfgOaiFOV7Mnxq43HyfYV8q7pIejGIOepPHgeGJA3zMzHCDkYJQ+IKLlcJHc6WcnOHAOWOqg5juWAd8p1cn24k3tzSM0hEzKpOdid49NMyAE40z+IoDMkCKZIWymgMzW/TFzRUjmZkbmqQyesZRWkurOyioAeofI4vW9ejx+zSig0lqdGAM2iMsJbcy1GveddiT+HF4riz2lGhgY2ORBshorY90CMfZ98KgB/9vKLDSm1sI/OUdRro5f28aHM7fXsJynak6KTFKo2BrxRzrCaiflJSvXbINxMyAzAuMwgPCsaiocXCFnL4APzhoWhWHpuukeDm1yi70YoNy00uKHzlBIL11qLLwbgZEfBiSVNxZuNK/BmY5fiP8uL41H85ww47kWAhdJTE4BzCZ8NhuFs6hWvYRhGHgMj498b2GZ8xjCMfYZhPGtgpNzp6WqgqfiMYRgHDDQPJ6YaLuITiURg7NixUKZMGShZsqQGOB7NxZdQwaHSP1cVh0XG7Ykq5sVhhuNYTlVuW1W8H4cgp0YMkKOfq7iSQ+eqZiEfNKdzlTbr0J5BzuOpaiEg9+UM4PMO+UPKyUqJkgs1Z7ZiQPapBuTyhhIn53tW3Juzpa4aKXcyIX/TQt210s9Wvz1BZysqCUQAODsAlQ5UdEJgjggDjM4BMC4FiwKn5MN9KzpfvVBEJq9otXzBNZjA4tDzRllUepa4vIvLyY9bVBpj6q+Vws81/2r83HOvwNbhF0SHzYxMBK/JeRDExuQCc1QSnqKYYqP7bH5/0j6zwAv7+DmKl/ZZ8e+6avzb1m0jJhcWlze0fht2kmJ+m2lZPuUkNToDyyWHFwjBEAE3A/Liv299PJSbTg7KDfludOWmqQY3ymnKkHBDgKPDjZv/5kIBJzsqjgI5XMVxKf67NoqKU9wyG8eeqEoAzuX9JADH4zFNE/bv3//fBxwBObEAjs2LQyoOj4zHMMTpZji+2Yg+5eDWkeNmPFYhRxqP9YHONjllIWCnlKBIWGGvyJPpIeiezs3HYTQf51V9OfxkNVmkrCw1p4hzZ86isrGpORtZ0mpHfQN23a2akKkgkM5W+q4V787R/TknnwrINuRBQTjPQIfMyEBDntOEqsNh50Wm7sy/CtUWel+9xvulj5t/Fb7zRArqxaLYWc5w+wAAIABJREFUOPx8IfxrTS+AZuiJ6eivGZML+30IbJ7WwUYqNgQ2vLCPOm149FufWiDVhs5RumpjeW0qq6qNHgHnswszhJl4ks1MjH6bIfmxUdvallLgJuTuuWEjmmgqxn+/dVMxV27oLMVPU3rvja7eUHuxW4IqXsCJpuJ4AQ734lRwMRvblsajqTjMi+OWTE0ATuIxjATgeD7/GA+OkGKLevXh0JsrDNc4mI2xF8dvU3HcACeWbpxoSo7edkxfjF17cvz2gU40H6OMj105aM5snyzMx/xkxfty8oShjzhZUSngEDbxMLoApqwm8C0rLU5OBmTy5iwq44PFQs3Rk1b62YoKAnc4FATqoENpK92f46TocI+ONeQ5JAgRruqMTUblhNJX0/IjfMzIBHiuIHpiZheW4PNSMVzr1t+XiuH3v1AE31mFEWaeEyoNAc2k3PjXG5sM8GxO3NoSUIPGYZmKogZiPRmlGIgfkeOYlI7iYGO1Ed+J50F+jtJVm5VMteFeG1JtrJSUMBJPK4gpKesklSlGM/PjSYqmF/prcNM9d1hpKH4sRcJNO8tQjJ4bmZjyWYbiplrfje670Y3FXL2h5mJdvblUgBNr6Z8b4JQL+FzPVF5m4xKKihMb4ORPyZUAnMv4SQCOx/OPAJw0dmsWcXFPyGHFf6U1yCkrhjgJcKKV/0WDnFvYF0c3T47XpANJ7fxcxdNVfIUcu3IE5Diaj+W8g5WyUk5WcsdqmIsBeUqWH6YXxDg5n3l4+Wqf5c3BckBUc3g5IO/N4ZtWW9hCORUEctD5+kE8vVhnKxfQOdbVxzw6CAonnxKpK36+GhoE85kQmpJHJwGMS8Yz1oQ0gIm5cQ5iaj58pxeQSo/bOz0DP256fvwxU/ICTMoDMCEdP++YXACjcyDUPBOCyNAQnH8ae3042PzVGxUbfoqiPhuu2HzXGiP2e4XPhqejaEPKqY2Yem28VBvy2nAjMZ2kZvCTVBbNLgQdT1Lcb9PTgpuwAjedbGkpWeTH4Ya6bpwAR1dv+GmKqzf6NAMf14wXcJy6cC4EcCobaukfQY6eprLPN7ifquLpxCmQAJzL+kkAjsfzjwAcbqZLi0HFcTIbMy9OWZ6o8oCcaEqO7schyKEvoDVihBwvTw4pOXzagSCndU4/tFF8Odh8/Djvy2ETDzJKrqasRmaE4NnMoBYnN1zj5LF6c3Q1Z6uDCdnJn6Mbkd1OVzx1pYx5DgzCeXHCigwNgjk8jGeskeKUNSYXKi3jUqTKQ++k3Pjyb5uQhh83DhUa89mc+HkE0FgR78ESas70143DmIoi8zBXbBSwcfDZ8HSUZSKuo0a/KSFljWRWMWCZiH+T1waHMlUjMe1JWSepTHmSGuVykurn5LexhjMRbjqyEj8Fbphy81AMcKM3Fru1FkczF8cKOPH6cKKV/ik+nIAaGS8bUiPj17E3WmScPImxQE4CcC7vJwE4Hs8/C3Dw5YDjlqiiyLjTmapMSBvijLI2np1+nFiVHIqQ83QVDXTKc5Vh/SYgRzr9zJcjT1Z83oGfrOSOVZI18TCInaxGZEgDslucHNUc/NM/j5Nbak4lVc2hSPn6GqoJebvLrpVytmphH/Gk2YfDndXU1R/dffB/PVEhofPV6X6Yvjo7MAjnBwVwCmKwKBAcHgLzmTC+I8LokRkl3tECXkaxbxuZhB/3TBKYw8MQGSaBBpUaeYJCqMGfy//15P4aFWx+7CDnFXQDsds5ans9aSLeUFONfvNeG1wA91ZtXijGIuBZBkzJ8sFELSX1jEhJ8X4bJ7+NNBOrw5ntWM9NqxzY7dTSAW5IqXSEGxffjVtyyis9RW+sgKMrOBfrTKVGxp07caJFxovG1ImTAoXTUyEjATiX9ZMAHI/nnwg4Uc9UQt61NRsnyaVxZaNKQM6FnqqyCzm6kkNqDn2Rb+w34P6ASFgFRMIqJBJWYfzNow2bd+BR8sfTghglFyernlr7MS8GtOLkmRgnnyAakHk54AvF7d6c10oLb0459HqQCZl7c6zunFrybLWN7Vo5LZXz05XeiMxPV6TqEOyQKRmVnQADHlRXzg7Ec9a5QeiPOf+0UHu09/xg+f308WcHIsycUYAGu2v+7CWhhjpsuHGY4t5U0kenqH0PqdtRNIxJZX10jnKbWVh9A1//Fl6bsj5YWNrZa8O7bai4bzxbAn/GdpJCKO7rcpLqkqrFwHPZk1JWQ/EFwg0pN17JqVgAh/77jEfBueAzlZPZ2AVwSuUIevpw4unESQDO5f0kAMfj+WcCTor3+CZBjjAbOyWqSodl+Z814xCnH0dXcdw6cqIZj3XIcWo91k9WBDl0stLnHdrnCkCn5IAFOU8INae7i5pjMyCzODmqOX6YUdCwph7cvTk+WFoBzyMrPM5WlLaisxUf8Py0ESsKbIZldvuEoqObkUnV4YZkMiWTMZmrO3TOOtVXgg+9Z/rbX/79pM6QUZgDDflquGn418fUMxQ3DzuBDVdsqIV4a10879E5ivts5MwC/npT9NtJtbHOUYWlkXhKlh9VmwxSbYKaahO2VBurvC9dPUk9norTCzrc6CepliIGbtuXYjMMXnDj1HnDRzXd1Bun/htdvbmYgEOQU8VQz1R6s7G6Mu7sxXECnKuyATiZCcC5rJ8E4Hg8/0jASY+yLs6L/xznG1TDMQcct26cWEsAL/Rc5XSyou0qPtJpDXWG+IaVD09W2o6VdbJKlWqO1ZmTW1Nz8tvVnLGZAZiY6YfJWT6YlmVYZ6vZLGmlb1oR6NB4pyfoCH/O9vrq6UpvRKaywG9bqvMPTrBDfp3fnpCeHfLtEPTQ+2cvfP/qrb707fRxBDJ/dPdZfhpSaY48rio1P3Vkao3w1+x/WKaiyDysKzY775LzCmQg5j4bAhtKR8nCPumzwTZi5+j3NHGO4vFv8tqQajMoXxgGWEvgSdA7D1dtMCWllPeJXSnLTCxSUmgmljFwghtsKMZ/hx3hxogdbpxOU27+m4sFOPGW/qnTDYZS+ufUbGwzG7t24sQ23ZAAnMv7SQCOx/PfBhy3CGRUwPE6VWXDcBxPfDwa5NQw3Gcdou5X8eZjOlmxvhy+SK6OdQbUlFVaCLqlhaBHuruaMyw/U3My9KSVUHMUE7JPjZSXFWcrkbZa6eDPsRmRHTw6ZEbWfTrW+UqDnUPtpTGZAw+ds0jlOdbVZ522fn9SQhDBC730ceSjOdpFBRpSabiv5odHMBG2/2GMwXO1hrcPf3yvvYHYCWwUA3FlBJulFQxYXM6wlr/dzlG8jZifo55lCSkZ/w4zr03YpbhPjYA799tQO7HPsZ24SUCCTWNf9pQbDje898btPOUGONUMd8C5kDNVFcN+qnIs/XMAnFg6ca6IMU2VAJzL+0kAjsMTiURg5syZUKtWLahYseI/TsFR1sWTvSGnpBPgsJ0qGRv3XhzXIYd/kYsFcqKlq/hApw459xj4J1unkxUvBcSTlUMxYHIAOorflFDN0TpzcmNnDqo5YW81J0t4cwpib86sInYTMqk5mLZClUE/W+n+HDIif3CHHXT4xhWBDld1vmFene/bIGDo6g55dwh6CHzoPfK4fPm3E8gQzHCFhk5PB9pKX83+h8UJykGt4WCjpKKigA0fxpQGYixhtJ2jrhDRb4KbgoYV/R7HVJtnCoRgWH7ptVHmFki1SUfVRp9c6MRPUjlpUyrgeZLSl8FpfiEa3LjNMUQDHDdz8aUGHDcvThXD2YdjDXAmuXTieJ6pEoCTeLyfBOC4PKZpwvnz5+HTTz/9BwIOxsU9FRzuxYmi4igNxy4FgNFMx7F25LhtVxHouCk5/GRlgxwqBQzKk1XLJHtnTscUYUBO0Tpz0rU9KwdvzoiMEIzKCMIYxZuDLciWCbmYs5rzehkfvFHWsGLlXkbkDTUN2CQ8OlvqslbkBqoh2Ql2KIH1bUtV3SHg4SoPvT928H7p4w62YzDzCH7e71rjuexbcX4ipYaghqs1unGY4t6xgA03EC8qI89RTukoApvpjm3EWq9NfoRZ54QUem2ecPHatNNUm1ZWSgrNxLrfBj03Am58Em6cWord4EYv9NONxbGoN9ESVJcCcAhydMCRzcYegBPTdEMCcBKP85MAHI8nnhNVhgvYZOZOg6z01EsAOMmxnalyhV28OCI2zgzHTgWAbkoOn3Jwghy3SQe3WYdYzMc65FAp4AN+8uUY8CCpOSJObq2S5/RDu2QHNUdvQNb2rAayk5XVmyOGOydkYW8On3uYXdS5O4fHymNRdMijs/kOdcxzVwOp6uimZIIdOmNZpywBPPsF9HzXGk9I37cRAKS932vvd63xx1kwQwrNQ1Kl0ZUa8tZYak0DufK9pY4Bm2tLsHnvNnewWVYRwXBRWUMBG2s/6kpMt80SXhtc/qbCPj+MywzgOUqYiIflD1km4gFOqo3NaxOyeW0IbnhxH25K4YaafpIi1cYJbqgaweks5Xaa8oqFe3XfREtQ6THxeAHneiOKD8eQpX8ccnC6IT4fDldxvL6uJgDn8n4SgOPxXCzAIbiJD3A8/mSSFnurseXFcTEb006VAjjZ9ONEO1c5NR7XiAFyyHysqzlWMaBiQOYTD84nq3bJAeiQosbJLW+OAB3pzQlb6+RD8odhWAE6W6GaQ5HyyXS2KiRMyCxt5ajouIAOeXQUM7I4X20W56ttLH1FXp1PGkq/jq7uEICQyrO3Oaot+x5CUPlGe/fRKz6GfgypM181lX6aLx6QZmFSaghqdnGocThD6amoN6vaFZs3NLBBxcaHPhsNbKbSzEJWAMZmBsTMggCbAiEYkj/kADZJ0CsPV23C0muTqjUSO3ltLNXGb5td0P02jVzgxk21iRVu3JJTNQxv9YYAh//3mR3AIciJBjhupX9u21TX5QjCVTGcqRKAk3jcngTgeDwXbDLWAOeiqDcEP9Hi4skq6NhGON0Mx9k0HcdqPNa3q9xOVgQ5tGEVK+SQmtM0aKgpq7AP1RwXAzJ5c55wUXP658VNK2xBDrFIedBWEEhzD6o/R6atuBGZg85KF9CxqTqaKZnDDp2xOPB8fr98CUoIfrzeL5vIl0CGKzQcaD66R/pqdtTHnh8e89bPUDrYrKyCZmy59m04JqN4C/Hzhcln44PJWT6Y6HKOskzE+cLQX6x/k2rTQ/fapIbgMaHadFISUn4tIeWHllpKqllIpqQe8MuUlAI2hntSSu+5cWoqdjpNucFNDQ/A0ZWbeDw42fXhuAFOuaBPVlhohuNYAMfrTJUAnMv7SQCOx/NPARznHxtDH06KHXIcAScpAGVDuhdH9eNcCOTojcexJKzoT6bR1Bz6U7B95sFQZh74MjmOduqgg94c97MVeXPC1kK5Cjq8CTlg7VrNLIS+kNnMiOyk6Cwqi7+xU1ngSu185QQ7G5iyQ8CzTQDPjrvUcxaBD8EPAZDXSx/HIYZAZlcDCTPb60mVhgMNNQ57QY11hhLmYT6twD02elHfDKbYTCQDcYYONiElHUWqTa/cDueo1BB0Tgna24iZatMqCcslKSHV3DEhFZuRWC/w80pLxarc/B2AcyFGYzfAsdJUXoCT7Aw4V6R4+3ASgHN5PwnA8Xgu9onq4ik4+PkUwPFKU7FEVTQVxxFyXADnYpyrdCWnBvtiHSvkWN4cQ8bJpZojIEeJk6vlgFbSSvTmPMbUHNWEnMRMyGFr7kGmrYKiCTko/TkFfUqs/AUH0Hm1lMPpSgMdipjHCjtb6op+HQIeofLsZOATy7urgYQZHWi21vWGGjpBkbdGB5ulFfkYptMpCn+tFMWGFfWpLcRBGBlrOiq3c2FfJ+G1aZ9sNxEr5yhSbBy2pJzgpqFHv40b3HidpZyUGyfvTQ0HwLnN8O7AuRSA47ZLVYFFxt0AJ9q6eLTSvwTgXN5PAnA8nn+KguP2Fk1LhuKpUXw4eqLKDXC0hmPrT1kxmo7dIMer8dgpYRVrlJxDDjcgNzScOnMMK06ulgNKb45cJ1eTVjJSHnY9W6E/B1WDEbo/JwrozLlSVXSoFXlRWR8sLs98OiJ55QQ73JzMgWdjLQ16GPjwd5sAIXq31VO/f0td/LEfiNTT5tqY9NpYE/86dHrSlRoONauul+V8SyvIM9TrrMdG99g4naKsoj7hsxnNDcRsYoGno9Bnk6T4bPjyt62wz8lErPfahNznFpxUG6fZBW4kjua3iUW58fLecMCpZrgbjP9uBadiFMC5NtutxikJwEk8CcDxenTAcVRp/muAE4MPx8Fw7Kni6A3HMZqO9fg4P1c5pavclJxo8w53sC/8Xu3H5HPgcXLy5fCkFcbJpTdH7c0Rak6KVhDomLZCNWdwfrZSLvw5BDoTs7ANmUY8nTw6mLoylPkHS9UREfPlDrDDz1jv3irVnfdvt0MPgQ+9m2ojsPB3U22pyNBLIEOfjxQaApo1t6hQQ0koghpKQ9EIJvfXUCLKUbEppCajULEhA3FIMRA/rflseFkf+WxsTcTJOtj4HVQbextx06APmgTVNmJFtTFU1cYJbrLjt8ku3Ojpqf8VwImtD8dFwUlLAM7l/iQAx+P57yg40curFBUnTh+O40YVT1aFA+pOFYMcLz9Ods9VHHQIdnTI8VJzPLesDLua80DAkL05ImlleXNIzcnJ1JzkAHpzUqSao5ytxNyDvlJOsXJL0RFtyAg6UtGxPDpFSdHB1BUVBpJPx1J1BOzQFASdsXTg0RWetdXk+95tEoA4BHF4oZc+lkCGw4wONPz8REoNQc2isj54vbRdrZl3FSo2fOXbOkVl2U9RlIwa4ajYhKFfHpmOssr60qTPhlQb1UDMzlGKYiM7bUixaap32hDYCLjRz1Feqo0T2Fwo3NRgQOOVnoql5O9/HnASCs5l/yQAx+P5+wHHAW7SovwY3mp8wSqO3Y8jT1U+3KuKA3C8zlVcybmQk5WTmkMnK+7N0ZNWCuTQOrmAHMubkxN/A+yonK1CzIQcdmhCxu6cpzXQGVUA+3PGZgZgfJbfEXRI0aEeHWpG5ucrbkomZWdpRXnG4rDDgYegh8CH4MfrpY/jIMNhZtX1TKURo5dLK6pQ85qAGlWtUc9QlnlYbEbxkj5sIGZgk8EMxB59NvrEgl7WZ5mIcwagTQ71HMV9Nk7Rb91nw09SOtg49drECjduEwxecFPDiE29SQBO4rkcngTgODymacKqVaugW7duUK9ePUfAiXauyvgbPDgIOHimiglwuIrjAjnXiVOVvQCQ+XEusZLjdrLiUfJYOnNi9uaEVDWnpQY67SwTsiwIfJxMyGmo5vCzVb8YQGdMZkCcrqgskKWuRI+Oer5SVZ1XSzG/jhj4JM/O0grqOWtFFQk+9BIA8ZfAhb/8x5A6s4LBzNIK+NfEzhqfotRwqHFUa7Qz1FQW954gFJsxGWqXTTSwIQMxqTYK2Dj4bOyqjZqOUgr7PDptvEzE8YINV2ziVW4uBG5iARwdbuIFnMqGWvaXOFElnkv5JADH4TFNE86ePQv/93//B++8884lUXDcgYcXV8VwrsoO4HipODH6cUjJuVieHB10vCBHV3N0bw4HHd2bo6+T8zh5sxBrQU7yMCErK+UOaavcSaqik9cOOiMzQjA608GMLFqRZxRCRWNWEdmOrMPO/JL2Mxb5dhYx784SAp+KCD4EP7a3sv3b6OMtmCmvnZ3K4Pvader5iUPNnCt9irdGV2umZFHc2/kUNVx4bAbno7VvtahPUWyUeQX3FmLeadMy7IcWIRefTcCwgc197L0Qn020c5RbQ3GscON2mrqY6k28gEOr4pcCcJy+piYA5/J+EoDj8Vxsk7ET5ERXdrwhp3BaChSLZbZBg5yrmYqjf1GJtlVlQY7HZlUsSo6TmhOtL8fpZOWm5rhNPdBwp1tvDoGOrua0EV4NAh0++WApOulhC3RspysCnXx2jw6OeeLOlXq+8lmw83wRVD30M9Y8BjsEPPykRdCDpy35vlEu+ksf+3oZVGb4yYkUGgIa/fxESo0CNWIAc2pBPEHpUEM9Nq7mYR1s0uUpSldsyGdj67NxWvwOOsW+3ScWLpZic4fhDDaxdNzQm11TcbzqzcUAnIqXAHCKpiY7dOEkUlSJJwE4no+7ByeampPmDDhpUQDH6T/StCgQlJYCRVLj8OEwyIlFxeGm44oO56p4jcfR9qu8+nLcUlaxenPuZq/T2YpAB9NW7merNjn90DanH9qzWLmboqN7dHiHzuD8bMyTVsu1iPmkLD9MEbAzrSCqHnTG4p4dMihTGuvlq/El8NDhh5+5vF76WPrxpMy8fLVhJZ8IZkilUaCmEPPV8P4aUc43NjMIz2ZgImoEgU3+sHWGwpI+BJs+tlNUSFFsOrueorRklNspKmA4KjaxthBnB2y8gEZXbWoY0RWbeM5S8ao3Fw1wLrIHx6vsLwE4l/eTAByPJz6TscP3Z9ODU9jlf7sCTloKFI/nTOXgxbEBDgOdMvqp6gIgJ9bWYyfQibUB2Stppbcgk5rj6M8JGLbunJZhH7RyKAm0Zh900KFoeboAHdq4ojFP/XyVX4OdDFEcmBmASWLzakqWD6axJXOu7swuhi9BDwcfeuddpb4EQ/zl389/rA4zs4WXZlYR/Dk8V9iAmWIbClNQeH6aJDa7xglfDYcaMg1TIgr9NQiETnHvbjSrIOLelIrqKP45tGNg09qlgZgX9dFmlFdJnw42sZT0xRL5dgObeEzEscCNG+DEq954bVH9NwAnmg8nATiX95MAHI/n0qSo4ouBe8ON6sOJ90wVVcXxOlXxc5U/dk9OLIWAOuTogBNr0sqrN8e2aWU4+HO0JmQCHWXAMwfGytvmsieuOOioqSs8sfTJkwR980pD8qB8NAERhv9n77zjmjq/MP4KoiCQsEQQWQIKggP33nUVt9a90LZW3KNVW0fV+nO2apejVqvWWje1tq5at9a6wYq7qIioIEMFBO7z+yO5yc3NnRmMcs/ncz6t4ebmEpI33zznOeedr93Uc6GnFna0JaxllWyx3EtTxlqhhR2NulNGp+4wFR7aw0OblmnFh5k0sDCT+XP6fusYyoyunbuypuz0jbe+9MT01HyuU2r0s2voicPzK2p+V51aozUOTzfYCLM8Y45NOYNdvg27ospqFRsbbSnKlqXY2Bh7bDiG9LHhhjmkjwk3XF1RHYk8xUYIbuSWpEyBGz71xtzyVGEBDr/R2EkxGStBCCmhgJOeno7du3fjiy++wPz58zmvv6CgAAkJCVi7di3mz5+PVatW4cyZMygoKJD8OIXRJm58uwgAqTjuyyhTmeLFqS4GOEKQY2us5Ejx5LAhR2q5igk5cjut6G/XQi3l3Ym+LGE4JNB4EjK7bEX7c5gdVxrQsTP06GjVCHr7Bxp09LN0yuuGBs6rqC1hedphoXavJQ3s2BrADu3bYQLP19qSFg0+q2m1R6v40LmWI5k/X+2jue+3lfXno0tOX3qXwSpvPdB8YVB+stX7arQt3hpvjUax0oCN5ndm7hXFnjw8gdHuPcbIPFyWf6dvNtjYscCGb0gfj3mYCTdC04flzrIRAxo6uYBGzExsivfG0v4bRcFRoqiiRAJOYmIiPv74Y7z33nto2LAhduzYYXTM9evXMXDgQAwePBgrVqzAlClTEBUVhWPHjkl+HFMAx1Mm4EhWaSSUqUxVcXh3GueBHGPA0UOOkIrD58kRaiWXCzqtCX+nFdObQys6bDVHNzuHLltpP/z62BqDDnMaskHHlUFruaFHJ0al9+hMVNthkovekDzNtZzRXleztarOXA+N6XZ+RboLS9NlRE9L1qk7Wu/OFwyVhwafVVogYebXWlhhJ/u4VVr/zErtOb/QbnL5uZctlhmpNDTQlNUqNfT+UHZGao0h1HC3eutKUZI9NmV4pg8T3lKUkHmYD2z4ylCmdESZ4rERUmwsaSxmw01DIq88ZW0Pjp9zBW4PjqLglPookYCTn5+PzMxMxMfHY+DAgUaAk5ubiy+++AJt27bFpUuXkJubi8ePH+O9997DyJEjkZeXJ+lxinQvKilgw0rZgMPsqBICHAbkcPpxmCoOkQc5ppiPuQzIXN4cKaAjtHknV7dVb2a3FRt0GJt4Gig6uvZyw64remDgBNbQQBp0aFVnpls5XQlLAzwaz8o8D27gob07SxhKD632LNdCiR6C+JM+jr4ffZ6llWyxxMBLowWainbGQONup/PVMKFGV4ZyKY+pLuUZ/ppyGK8qxzAO2xmUod6twFZsbA33i2KoNTTY8G2EyVeK4hvQJ2Qcbk+4O6KktnkzUwhuxEpR1ipNmVOeogEnknB3UAntJi6pi0rF1UWlUcMVwCndUSIBh47nz58jOjraCHAyMjIwduxYzJs3T1eSys/Px+bNmxEZGYnExERJ5+cGHBmgYwrgqPRlKh827Ah1VKmcUcXZEQHabipTvTi8gMPw49Qsa8MNOCaWqqS0kUsxH3OpOa2JtJZyrm4rrl3KOdvK2R1X5Wx0RmS2R+ddx7I6RecD7Qf4WJW+fEWDDl2+0uxgXk4LOhrYYao7cz3K4dOKhurOZ9pkQs8ibRv24kp6xUdKLmHcb5H2XP9jlJw+Y7R0f6rdOmGuRznMZig1M7VQQ6s1H3LMr5nAavWmweZ9VhmKCTYGc2wklqIM5tgQ/jKUmGLD9tdI8dbILUHJmWsjBWpMgRu+ycVyylM04PC1iNcsWwY1ytkqk4yVsHj8JwEnLS0NQ4cOxaZNm3S3URSFu3fvIjw8HBcvXuQ9Z15eHnJzc5Gbm4ucnBz8888/VlNwZPtvJJSq/C2g4oiVqphTjvk6q4R2H5cDOlwlKzFFR2huDpc3R0zN6UpY3VY2ht1WRhORdbuV6zuuaEUnuoLhHJ33nTSlF9qnw9wGYpIB7Oj9OnQZa6ZbeXzszlB3PPSt53M9NMAxn5ELGAC0UGtgFsvPGPejz0OWDM82AAAgAElEQVRPFJ6r7Xyaw9gPiqnS6IGGvn5WCUo7mG8sA2rYM2y4/DXsOTY6qLETHtDHbPeW4q9hgg3fVgqmqDVSFRpLlaKYJSlT4MZc9cYQcDjKU3Za9aa88Uyuag52CJIAOJxf/JQSVamPYgM4T548wc6dO7Fu3TrePHXqFHJzc3X34QOc1NRUDBo0CFu3bjW4PT09HeHh4Th37hznNRQUFGDz5s0YOHCgLrt3724xwDHbh6PiuI2VpgKO7FKVBD+OWPu41JKVVEWHD3TMLVsJdlzZMDuueDw69GaebJ+OA7N8ZcswJesHB+o399TkZKZnR9tyPl3bdj6Thh6tysMsa81m+HnmaIcNzvUQT/p45jno+TT048xw0zz+dFeGQqO9xims9m7mxpdjncvq2rzZO3vT+0TR/pqhbOMwa46NaLs3Mb0MJTSUTwrUCJmD+cDGnPKTHDOxqaUpueqNfsgfH+AYrzVhtHrjWN40BUcBnFIfxQZwHj58iDVr1mDBggW8+fvvvyMnJ0d3HyEFZ/jw4diwYYPuNoqicOnSJYSHh+PatWuc10BRFE6ePIkvv/xSl3PnzhUAHBHo0QKOl9pZWMVR6f/f3D2rfBllKsmAw1GqkuPHYZsG2eUqWs2RAzlCoMO1GAtt98BXtrIo6JThAZ2y2u0fWLCjL1/Z6FQdtilZ32peFuOcWeZkxtYQUxnAo5mzU043Q4YJPjPd6Nk7rHRnpXY+zydu+g4nTZeTIcxM15bPprnok4aaSepymKS91gnauTU02NBQo5lfY6ubX6PfSsHGYCsFnXGYazsFBtT0sSHoXYY1dZgYqjV8rd5cbd5Ck4aLQqWRAzWmdkqJwY2p6k0kMQQcWv2tJQI4fOqNGODQa6kCOKU7ig3gFBQU6MpCfJmXlweKonT34QOcrKwsTJ48GePGjcObN28AaEpP33zzDRo2bIiUlBTB68jPz9flzZs3TffgMEBHig9HN+1Y5WySyVjzrcURfk4yh/6xSlXVHeyEAcfAj8NRqmIrOUQccOR6c+SUrZoT/rIVnVz+HLH5OeJ7XDF2LWeDDqPziqnqMAcHvqcdHmio7JTVeXbGq/XAM5GenMwDPbpkwI9wltMBzIeumvuyQYYNM3xAE8NSaphD+fTeGhtjsNECoa4MVZYbbHqzwYbInzrM1eYt5K2Rux+UKTDDBzTs1zYf1Jii2kiBGzmdU7o9qAg9M8vQXByh898Ygg3tv1EARwlzotgAjpygu6guXryIfv36Yc6cOXjx4gVevnyJgoIC5OXlYcOGDWjRogV2796N1NRUXLp0Cb1798bs2bMlz8IR76KSCDtigMOGGbMAx4R2cRbkyFJxtJDD3Vklz5MjR8kR8+bI8ee0JsKKDnNvK1NKV320U5ENtoBgKDqDtSrFUKaqQ7eaMycla8tYo3W+HW03FsOorOvKUhmCzySWp0dOTnYpZ3AO+rwTVfqSk77spAGaGEZbN7P8pIMabfmJnjZsqNbYGLZ5M0zDbLBhqjVCm18KDeYTKkOJbZtgbZiRq9SIgY2QamNJuGGWpsTVG25zcTUHO8HylGIyVkIsSiTgJCcnY9asWejatSuCg4MRFhaGIUOGYOnSpUhLSwOg8fTMnDkT3bt3x/DhwzFgwACMGjUK169fl/w4ZreJcwCOuSUoUfhROcHXlL2pTFVxWEqOYLmKSCtXSfXlsBUdrs07mYu+VNDhMyMzt32gQUdsKrJx5xW3qkN3YDG9OgbKDqvl/D1t2zldzjJSeVjgM44FQHJyPOscunMz1JkxToYKzfsMmGF6aqIdGEpNeT3UDOKZXcNZhmJvfkmM/TVMpYarDCU0jE8IasydTWMOxAgBjZhawwU4jTn+KxduJKk3rO4pGm503VMcpalQ+7IIkeC/8eebgaMAjhKkhAJOdnY24uLicO7cOYO8ceOGzoRMURTS0tIQHx+P8+fP4+rVq3j8+LFBiUsszAMclQHgeAv4cCwKOLSKYwbgSFZx7MtqpGWh+TgmzMnhU3KEQEfKnlZc/hyh0pXYoECpoMOt6pQxbDM3KGHZ6GbqDNVNS9a0Ro9g7GiuUXe082EcNSoJPWtHk5qpv3Q7Ot2ppUuVJsdyZAzr2DHO+inCmknCdGoe833GdYzSzqoZ6aC/Xk1bt60B1NCG4UHlbIxm1+h39BbZSqEMv1rDBzZC/ho5G1xaWqXhKq2aCzSW8tzwwY3YYD+desM1+4bDe8MsT0nZokEzA4d/LVQAp3RHiQScwgqLKTgyfDgWSZUT/Jz0ZSpTDMfB2o04RQFHq+Twto6LlKuspebIKVuxQac1MQQdtj9HTns5n6LDq+qwWs2ZAwT1sKMvZY1wsDVQd2iFhwk9xuBjmB9wJNdx7zPO964B0NjqgCZaBzU2Bm3dTKgxmjTM6ITSqTXaFm/OicOEuwwlZRsFsa0T5JagLK3QcIGMKTAjpRzFBBtLKTdGgMPTOaUZ7sev3gi1hxv6b4RHayiAY72oQwjZTwh5QAjJJoSkEULOEkIGcxxblxByhBDykhCSTgjZTQipynPecYSQBEJILiHkPiFkDiHEzsRrVABHIKwFOOI7hMv04Bgc76QrUwXQe1M5WlvFkeDH4Wghl+rLEfPmSDUiSy1bSZmhw4YdyV1XhKd8peu+Mmw1p9vN6RIW06A81J4LeGwQXcFGNxRvZAVbIy+PKTmK0eU0soJ+6B69VYIR0NBt3docVK6MrrWbCTX9WFDDO22YSDMN80ENXxlKzFcj5qexBLyYCzJyoUYK2FgEbohxa7jeXGwjWJ4Saw9XAKfoozUhZDXRAE0bQkgUIeQnonmyP2EcF0oIySSEnCCEdCGE9CKExBNCkgghFVnn/JgQQhFCFmrPP41oQGetideoAI5AWBpwJJepzDEZaxUcjdlY5uabpnpxWH4c3k05mZ4clpojBjhSIMdc0GG3lYuVroTay6WoOuzuK3arOVPZoctYXL6dwTwqzzAG/Axn+HmM05aR3McMd9Cfh3luPnWGBho+Tw0NNey5NWxvjRy1RkqLtxSlxlyFxpoAYwrMSC1FSYGbRjY2aOXsjLd9fdG3Rg0MiozEsEaNMKJJE4xo0gTDGjZEv5o10TWoKtpW8kRDRwcDuBGaXEwDTnUBc7GB/8bJQQGcYhjniEbVoWM7IeQZIUTFuM2fEPKGELKYcZs70ShBa1jnm0k00FPDhGtRAEcgLObB4Rj6Z/UyldrEvanYKk6FctJUHA4lh9ePY2KHlan+HKmgwy5biZWu+LZ/4NsCgq3q8Ck7vcpo2p65YIdpUO5ftgwGcACPHnrKYIgWfHTww1B+mAqQEbSws7z+PEO0IGMEMzTQMK6P3dbNVmrYc2vMMQ0LtXiLqTWmqDSFATKmQIypig0TbHRZpgyali+Pt319Map5c8zs1w/LJ07ExkWLsGfdOhzYuhVHd+/G8dhYHI+NxR+7dmHfxo34ceUKfDNnNuaNfg9ju0ahX71ItK5UEXXKlUUEz7YMctUb/j2oFMApyviVEHJP+/9lCSGviUbpYcdBQsgtxr8HEc0fqjHrOG/t7TNNuBYFcDiCoigkJyfj8uXLWLp0qWUUHEt3U0lIk4f+sUBHsheHCTlipmMrQ44lQEeOGZnddcWn6LBVHaPNPYkGdnrylLH6MHw7fRnA04+xVQTTx0ODDxN+2DmYlXzHDWSrMqzUbZVgS6cx0PSy0Wx1wSw/cc2tkeOt4do6QaqvxlygKUpokQM1XPtJNeT4d0OiUWlaOjqiq58fRrdpg4WjR2PrihU49dtvSLh0CfcTEvDvzZu4Gx+PhEuXEHfuHK6ePo1rZ8/inwt/43bcNdy/qTnmzvV4XDlzGge3/4y1ny3AR4MHol/TRmjhWxm1VRX4vTdi3VMS1BsFcAonbIgGZCoSQsYQQvIIIe9rf1adaJ78MRz3W0o0yoy99t//0x7ryHHsM0LIVhOuTQEcjqAoCgkJCdi3bx+mTp1q/hwcsTKVucP9BEpVTLOxqYAj2YvDhJxytogoKwVy9CWrusT8kpUlQUdu1xVf55WQKVkMdjh9O2X0Blwu4HmHDT6sEpepyT7fO2WZ5SatQmNj3M7dqwx36Ulo+wRTh/GJQQ2fUmMJoCkscLGkUsOcTNywTBm0UasxsHZtfDJwIDYvXYrzR47gwa1beHDrFuLOnsWfe/Zg57ffYu3cuVgydizmDB2Kj/r0weTu3TGlZ0/MGNAf80e/h5UzpmPj0iXYt+kHnD10CAlXLuPhvXu4/c91HN6zByvnzML73aPQISwEddSOxuqNCODo1BuRNVMBHOvHaqJ5gkE0fpkPGD9rqr29P8f9Zmh/5q3991pCSA7PY9wkGsVHKDyJ5o/MzG6EKIDDF2bvJi6nm0rFkRYAHLNVHMfyCNJ2VMmHHM3O46KQw2ojl6vmmGJEljsVWco+V62JNJ8OXwmLy69DAw+Xb4ft3TFQeVjlrb50W7oZqYMYljKjKzfxAE0PoldpmEAjdxifUBcU17YJcqFGKtBIAQwpIGIKvAgpNFL9NWzFpgEhaFquHN6pUQPzoqMR+913uHHxIh7evYtrZ8/i140b8dX06fiod28Mb9QIXQMC0NLZGQ1sbAy6IZkt4fUdyqN1pYroFRGOd9u3w8cjhmPNooU4HLsXCdeu4VHiv/jr+DGs/3wZYnr3QKtAX0neGynD/RTAKdzwI4TUJxoD8beEkAJCyFTtz2jA6cdxPxpwvLT/Xks0HhyuuEkIOSByHXO15zNKBXC4w2KTjAXKVMy9qIxgxwKAY4nJxkzIkVuq0piObSQAjnklK2uAjpz2ciHQkdJ9JeTXYXt22OUsJvAwoacXo7zFBT+mJBfI9CrDKjmJQI2YUiPUBWWqWiNVqTFXmeF7LYn9Wwq4mAozQmDT2NYWnb29MSkqCrtWr0bC5ctIvHkT5w4dwveffYYp3bujb1gY2rq5oVHZsvzD/Ah3x1Rt2zKoXdYG9Zwc0MrPB32aNMSMUSPw83drce3v83h47x4unD6FL+d/it4tm6FmJXdRc7GfcwU94KiEy/0K4BR+fEs0ZaqKxLQSVQWOY6WUqBQFR2ZYtIvKlG4qJvCwQUgqAFlKxZFrODaAHFvhGTlcJasy3CUrOcBjza4rsc6r1sQ0VUdI2eECHt6SFuGGH3ayQYULWriSC2SEFBo+o7ClBvEJdUHJnTNjKc+LOSkXXOQYh+n3QnMHBwyqUwdfTZ+Oq6dP4+GdO/jr8GGsmzsXI5s1Qxu1Go1sbQVbwQ0mFdtwD/SrWdYGNcrpt2So5eyAFv4+GP9OH2xbtwZxFy/g4b//4siv+zBxxDA0rx6MYGcHTsAJcLLXfXGTsm4qgFP4MYJonvBGRG8y/pbjuAPE0GQ8kHE/Znhpb1dMxhYOqwCOoNlYwpvWpHSCv6kbcHKUqiQDjr1+0rHgdg4SS1ZylRxTDclyFB0hnw6fqmMq7HABDx/0cIEPV/YQSKH7cYEMF8zwAY3U8hMbaloT03w1llJpChNMpMKLaCcUMX7tt1arEdO+PfZ+9x0e3L6NhMuXsfWLLxDTvj3aurqiQZkygnNuuHYIZ8ONQUs4Rzt4hGN5tAkOwNTo4fh1x3Y8/PdfXL96BZ9/Ohft69RENbWjEeD46czFhmsl55dFBXCKJDYRTZmKnnHzMyEkhRDizDjGj2j8OosYt7kRTYmKDUPTidImbpWwigdHTMVR6UHHx+A2ETlWRNHxN6dMxYCcYLkqjtzOKoklK0v4c+SAjinbQMhVdZiwIxd42NDD5eVhl7mkJtc52F1ObJhhAo2Ulm6pbd2tifi8GikbUJoDMpaEEXPOwQUyYtsqNCAEbVxcML1vXxyPjcXj+/dx5vff8dm776JH1apobGcnCjZ8JSluuDHeTJPZNVXdwQ7hbmp0b9EUXy9ZhBtx1/Dg3j18/9WXiGraENVdnHTem6q090aKeqOUqKweawkhywgh7xBCWhFCehNCthHNk72EcVwoISSLEHKcENKZENKTEBJHhAf9faY951SiMR4rg/6sENZUcARbxq3QUWWplnFZw/9YkBNuZ4OatgJDAAVaySNFDMjmlq6s4dNhqzrssf+tifGkZK7ZOmzPDhN22EMF+YAnykIpB2iYUCO2wSVXa3drYpqvxhSoKQ5qjBi0mAIz7Gzr6orZgwfj4rFjeHT3LvZv2oQx7dqhlUolSbURgpvaRnDDP8yP3TUVrKqARkH+mD5mNP4+cxrJjx5h55bN6N6iCaq5OCHQyR4BTg5a741UwHFSAMeKMYJophM/IxrPzQtCyDHCvVVDPaLZquEVISSDELKHEBLEc97xRGMqziWEJBKNeVjZqsEKYQrgeMosUzFVHAPTMZfvRmJyy7Vmmo3N8eKw/TiyIcd4+rEpZSuu4y01NNAUrw7fbuZsc7JQKYut8PApPXyqj9TkOxcbYoQUGqndT62J6eUnKVAjV5kRmhlj6ZQDK3zJ99purVLhkwEDcP38eTy8cwc7vv4a/SMieH02TLCh4aaOgN/GcJdwrXJT3ngt0M28sS9rtN9UeEVXvN+vD07/eRTPUlKw+8ct6NyoPgK1yo2PRPXGR+0MH5UzPBXAKdWhAI5AWE3B4VBx9IAj8gZWiYAMH+yonFBFpVdxzIGcYFPaxjn8OLVspRmPa9sYqjlce1mx09KdV2LlKybwCJWvTIEdqeUsLvDhgh9LJNfjCMGMJUtPcqBGDsyIgYelQcRayXxN0//f3MEBk7t21Sk3P37+OfpFRBiVpNjvI1qxEVNtaLAJt7PhLEuF2RsqN9Uc7HgnFtfwcMGoPj1x6o8/kPrsKTatWY0mEWGyvtDRXxYVwCndoQCOQFgLcDwZkOMlEVRM8d2w5VpaxQlwEtllXGhzTq2KI2u3cYH2cVlKDhNytKDDNCIzlR0uyDFlgCDz30LAw4QeLtWAT9nhm63DV9JiAw872eDDBUHmJte52SUmrs0s23D8TmJdT5YoO0ktCQkBg5zbLXVfc+CGmQ1tbRHdtCmO7d2L5MRE7PjmG/SrWdOo7duoO4ro32Oa9xzjywarUyqCWZIS8NzophULDPMLcrJHhKcb3n2nNy6cO4vkpCQsWTAfEYH+0tc6rYJTUQGcUh0K4HAERVHIzs5Gamoq9uzZIxFwTJuJU8lFZTgThwU8fN0BJnl0VE6o4uwIfyczNuFkQU6oXMAxah/XQI5kwOExIUcyVB1zZuiY69cRMiYLlbLYH+h86o4Q8AiBD1fJSwiGhBQYKSDDHrYntju3lEnCYlAjptRYqixkCTiRew5zXsNdAwKw89tvkZKUhMPbt6NfzZpoyChLcSo2LLARUm4i7PjNxGzACZEAN/SXrzAPV0wYOQJ3bt3C3Tu3Mf69UQj0cJNeolI7w0MBnFIdCuBwBEVROHz4MObMmYMePXpwAI6psMNxO7OjSuVk3DbO1TlllgnZ0Itj7oRj2nAsW8mhQYfRPi5pTo4Ev45Y+crUTiwu6JFqTJZaxpJSyuIradHJBRt8yQU9Qh4ZPpBhp5RNLKXMqDG39CQFZsyF4OKcTcqXx9Jx4/Do3j1cOXUKY9q3R1N7e16o0YMNv4HYoCRVjrskxVeWEgIbJtwEOtkjwLkCQn28sGzhAqQ+f4ZTx4+hTaMG+i9rInBTWe0MdwVwSnUogCMQ7BKVZAOxCUoO23DMllvl1J9F5VttR5Ul2saDTO2q0gGOoSfHJDVHqPOqjGH5SurgQDH4Efq2zdcOLGZO5oIdPuDhg56WhBs4hFIqtPClmDpjio+GS6mR6qOxljIiB4jFjrWEuih27gZlymBI/fq4cvo0Hty+jcUxMWjn7m5UhuKDGi61xsBrI6LYMM3EISKbaDIBR7+ZpiN8XdVoHlkb+2P3Iv3FC3y1fDmCPCuKron0euru7KgATikOBXAEwqomYz4VR81UcaS3Q8otVZndUcVRqpLvx2GUq7Rt5BEcE4/ZdX9TOq/o5FJ2zP2wslYJSwx4uKBHCHzEyl10SikriYGMJbqduMDGVB+NqUqNVBCxJrCYCldtXF2xdcUKPEtKQuz69egZEoL6tjYG7we+rihJJmIJJalq9qwNNCUCDnPeTaCHG4b27YPbCQl4kJiInh07wNdFxftljwYcLxeVAjilPBTAEQghwBFTc9g/F1V/TNnCgRN0pMEOcy6OpSYcmwQ5HOZjZoeV2WoOG3pYfh05HVhiPxcDHXNhhw94pECPHACSAzBSZtHIUWhM9dKUhNKTtVUbZjawscHYTp1w4+JF3ImPx9gundHYwV4QZoTARuOz4W77NqVTiq80VZWh3jDXq5oBfljz5ZfITE/HTz9sRA2/KoIKjrfaGZVcVHBXOSmAU4pDARyBKDQFh1WqMhj+Z+GBf7pFQNs2brbhWAs5zK4qS0OOFNBhqjySFB9GCUsMeKyxs7mUtnOxwYJSwMcUAJKrxEjZ30mOj6awvDRCf+uSlvSeUHS2dHXBD0uXIi0lBVtXrUI7H29RmGGnUNu3INjYl0WwBDMxG2z0pSnWXlMqZ/i5qtG1XVv8e/8+biXcQN+oLkYqDrNZo5J2vVYAp3SHAjgCYfU2cVleHCmlJwllKxXj5yon+Dnp28ZNBhwG5Jil4jAgJ7ycDSLsrKnmsFM/LZnddm6Jriw5ZSypgwWlgI+Uji0pKQYucvZ3ktu+bS2FhulFkZKRxTmZpSabMninbh3E/X0ej+7dw8i2rVHfvpwg4NSyNfTYGHRG8QzsY3ttjFQbGYZipu+Gz0Ac4l0JP3y3Dq9evsTKpUsQ4uVp1H1amaHeKICjhAI4AlFoJmMG4Ahu4WBUjhIGGlFIUukNx5YAHHNKVWEckEOn1SCHz7PD8O6YWs4yV92RqvBI3SRSKgiZAix8pSaxcpOctm1LlW7ElA+u5HxtFNe0LYPIsrZYMnECUlNSsGf9d+gU4Ic6ZW14VRumv8agK0qCz8ZItZFZkgp0soe/swP8nCuI7hLu56pGt/ZtkZaaikvnz6NZ7ZoGqg0NOPQ6WslVKVGV9lAARyAKvUTF4cURhxQ+BYd1O+tnzAnHfk4WaBvngRyz1Bwadmg1h0NGNxdsTCpnEfFyllwAkgI8bPgR29naXBiSs82BUKnJ1O0JLFViEoMYvu6hkpqNHCvg5P79eJqUhDkjo9HURcXb5h1hJ60MxS5F6TbLtNd0SAWztlyQDDcy95eqVTUAfx45jMyMDIzo/45Baaqy2hleDPVGUXCUUABHIOQAjkXVHQmGY1GPDrMUJUHFsZQXx2KmYy41p5zmGyazpdzSwMNXzqrNKmcxu1C4WtFN6dbiU3f44EfuRo5SwEcKsMjdPNKclm3mc8cHL0alJHaXEHtgHTuFAFhiWuJ1JqdbUOha+tSqicTbt3Hl7FkMa9kc9RzK66YN0yqNRqmxlaXUCJaiZHhtmMqN3N3BgypVxKczpiMnOxvfr/kWfq5qDuVGrQCOEoQQBXA4g6IoFBQU4M2bN/jrr78KV8Fh+XEkqTjmpsrJMruNs5Ucc0tVAqDD9OcwYcdaHyhc0GPk3+GYqGyuh0cMcvjUHakAZCmIsbQ6wwc6vN4YgyF1PDAj9/XBUDvEUspryazXG+u6hK5l4bixeJacjD0bN+CtqgGoWc6Wu/Qk4K1hvyd1YGPPmmkjoRwV5GTotQl0soefszTlhr32+bmq0a9bFJIePsQ/1+MR7OVp5LtRAEcJOhTA4YiCggJs3LgRPXr0QKNGjYoMcLxZ9WXe0hTPoiALjFQWmnDMgBym6dhsJYcLdsppZueE29lwqjmF8a2bF344FB5LdWiZCj5iPh8pwCJ3qwOL+2UIlzpjmuoiJTVbEdjoXmdcGWFnY9HHNOeaapW3w8713yHl8WN8/vEMNKrkLvsLBlcpqpqDHUIqlJPsseFVbZwYfhsTvoz5uqjQqkE9nD15EhkZGWjTsL5eveFYRxXAKd2hAI5AFIkHhwE4Xqzdxq2dfipHBDhXsIyK42SPYMfy5m3lIAN4IsrZoiYra5e14Ugrww1PRtoQXda1IahXRpsmwI2ppa3CSHNhRrTcpDXSSoEAdta0LYOIshogkZrhYt4UhqJYmMnnmWlauRJOHjyIh/fvY/KgAajr6mwS0DChRi7Y8Kk2XPNt5H0R00BRhL8fdv70E169eoUPRgw38t0ogKMEHQrgCIRUwPF2d0W1AD+EBgVaPGtUDUBEoD9qFlLWCvBDpL8v6vn5oL4FsoFfZTTy9UZTn0rWzcqV0Iyd3p5o7sXOimjp6YFWRZitPT3QxtMDbSp6oG1FD7TzcEc7d022dXVFMwcHi0CPKQAkdKylrkWs3CTqnRGAGL15llvhMC7RSEgpamJRJet6ejSIxJW/zuHOP9fRr0VT1HSyF4WbUFZylqFklKOMjMS6Limt38Zgfz35Sk6AhxtWLVuKly9fYsWypZzeGwVwlCBEARzBkAo4tcOqY9niRfjh+++tkOux6fv12FyIuWX9d/jxu3X48bu1FsmfvluLbevWYNva4pHb16yWlTtWWz93rv4WO1d/i42LF2Ncp04WK2UVh5RTbqotsmUAexAdrbIwU0pH0H81ozu/hZtxcYi/8Dc6hlUTVW2YQGOOWiPeJWUZldlH7Qx/d1fMnDwJaamp2L1zh6ASrgBO6Q4FcARCKuC0aNwQ8XHX8OrVK6vlayX/+/nyJR7cuYMvpk0zuS3dWkBk9pRdwj1fRq73pGZZGeUjK6ZVS65mXNPEAf2QeOc2Th0+hNaBfrwlqOr22hKUjNk1Ur02VZ3sEaD12vhqVRs+xUZO+Z32Ivq5ueCD6OF4mpKC48f+hJe7qwI4SnCGAjgCIRVwQvx9MbjfOxg9cqTV8oOR0YgpzIwegXEjhmH8iKGYYKkcPhQThg/BpGFDMHXo4P9ODhlkkNOGDMSHgwbiI84cIJiTevVEr4hwVreWsdLBNW1ZrE3d3JQ07ejUop8AACAASURBVJerRZsxLE+qX6aWbRmE09N0mUl3/jBTwgd/cUs50CInZ4wcjqR//8WB3TvRwt9HV3bSzaphpgmlJz6wYfpsfJ0dGUP7TDMTc4EN3Q7u4+aC/r17IikpCef/+gtVfX0UwFGCMxTAEYgiNRlzeX1cVEaTO2UtFuzOK5F9rnxVTghwltk67iitu6pQzMdFmOHlbA0yws4GtcqWMUjJHV0c20pwQY9cAJKbQo9nsCu1QJs2F9DQ5l8jvwx7TosUTwwPJLB9JkWdUl/3cs5Z3b4sZo0ZjeRHj7Bn6xY09q+C4Arl9GBjop9GiolYAzZMnw0TbMQhR2gto8GG3iHc280FvbpG4eHDh7jw99+oFuivAI4SnKEAjkAUN8Cp5KKCl1rGlGPOhUXeNyo/bVeVRVrHGZATVKEcqjMW+/8y7GiUBk1bOzPDtbN8LN7WzoQgi6c0f4xwi3MZ/aA5OiWAizmKSXX7snp/SREne9K3UHIqLwL58bgxSH70CDu3bELDQF/LvF95SlGBTvbw0yk2jhZdd7iUGy+tmdjb3RU9orrg4YMHuHjhAkKDAhXAUYIzFMARiGIHOFrIMW1DThOlYpUT/J0dLDcfhwU51Vjfav+zkMMJPhzAw1OuKZJ5PhIhRqibSafEsGHGRKDhUy84J+typQU/8E1+3ZuaEt5/H41+D0kPHyB2+zY0rOpnFajRKTacao3lkq3c0J1S3u6u6NujOx49eogLf59HsL+vAjhKcIYCOAJRXAFHaK8qydCjYv1XAHA0WzlYcAgga7EPZoBOqYMcAeBhgg/vBN1CTNG2bI5rl1pS4lMwuFqYBUGmqAGmiHPiiGF4cP8+Dv+6D42DAiwKNQFO9gbGYd2XJqlriYw1iku50ZXq3V0xdOAAPElOxtkzZ+BT0V0BHCU4QwEcnqAoChRF4datW8ULcDggh29xMHeRMYYcKyg5WtAJZpSsLLKHFc+HaJFDjIngwzlBtyw/dFgjeSf6astNYTL8MVJghrmRo5GXpBjARHHMUb174nbCDVw8ewbNQ0PMhhrm9GGdx4ZHDRbbN0/quiS0eWYlVzUqe7hh3Afv49mzZzh86KDgWqkATukOBXA4oqCgAMuXL0edOnVQvXr1IgYcnscV28qBY3GRDTZsyFE5ws8a5Sot5ARVKIcQBztFzZEIPXyKj9XSDJOvGNAY7EqtKDMmZ+82LRF3+RJuxF1D54Z1EaKqYCLUVNB7a2SWoUxZY9hgY6jcGK6BPhXdMW/ObGSkp2Pj+vUK4CjBGwrgCESxLFExwMeLw49j9W0dLLXzuJO9cccVczdye+uqOUoWXvJ5Z4zUmZICM2KdgkV4TS1rVMe5kydw/85tjOjZDWHuakHA4YIaGmx8rOWtUTkblLOMwEbNvTM4nX5envhuzWq8fv0Ks2bOUABHCd5QAEcgijPgeLqqREtVAR5uaBBWHREBfvB3czH4mZ+rGhEB/qgTXBVBnh6cC1GghxvqBFdFm4YN0KFZU7SsXxcRAX7wUzvrdh63qIrDBJ1CVnP+ixBVVL8Tl1LDhhlrtS6X9qzu6oz9u3Yi+dEjzJ40AbW8KxoAjVEXlLMDfFW0r4ah1lgJbjRqMD/gCO0rVclVDS83F0RG1MDvv+1HVlYW+vTopgCOEryhAI5AFGfA0aVBqcpwUWpYIxQb165B7M6dWLVsKT6eOgVTYsZg5pTJWLVsKXZs3Yq506ejUXgNg/v5uqjQKKIGPpowHju2/ohtmzZh3ddfYcfWH/HjDxvwwfChiPCrAn8G5FgTdKo52HG2lP8XoaS4p5TWZuZGjYXtneGaqlvUWdi/66r/LcCzlCdY/+VKNAioYnAs009jMLfG2sovW8VRO0ny27DT290VHdq0RnxcHJ4+fYowgRZxBXCUUABHIEoK4LD9OPQi0rJeJM6dPoX8/Hzk5OQgKysLGenpyMrMxMusLJz4808M7dsHQZUqGiw+TWvXxNqvvsTNGzfw7aqVaNOwASJDgtGrYwds/3ELbt64gc9mz0LNAD/4Owt0V1lKytd+uw9hGZFLxQydYggz7FKTVbuaeF5DQkARWIzS2vDE9ZjDukfh8cOHOHrwIN5q0ggBrmpDZUZswrDEbijT4YbHayNhja3s4YaRw4ciMzMTx44ehbfANg0K4CihAI5AlAjA0UKO8QBAJ7SsF4kzJ08iJycHeXl5ePPmDTIyMnDn9m1sWLsGbzVrCl8XlcHiE+LliXkfz8CT5Mc49Nt+RLVtrTlGpSlrDenTGzdv3MD1a9cwavAg+Lmq4ScEOZZK9gentoTF7rxSQMdyMMM0ADNTVmlJCuSKHFPVUfjDPYCVug0e2R/qhZlarxr72iydvk4VUMXZ8HcN9fHGlUsX8e/9exg1cACCK3lygAYH4KgYP2OWkVglJenlJyfW/Zx0gEPDjVSwoTPYrwo2rP8OOTk5+GjKZNHjFcAp3VEiAefBgweIjo5GcHAwnJycsGPHDqNjHj58iDJlyhhkSEgIjh07JvlxSgzgaCGHPR+nZb1I/LbvF/y8ZQuWLfwMn82ZjakxY9C1bRuEVqnMuUB1btUCv8XGIi01FZvWr0OzOrUMSlddWrfE4d9/Q1ZWFn7cuAHVvCuhirMj/KwxJ0cC9ASzSliKqmMazHC2aTN8M5x7GFnhbypHqdBtD+DsaJxFUHYx/KDXg45Vk8Mv4+eqxrerVuJFWhpWLl2C2kGBRftcqA27pPjm24ill5sLGkTWxr27d/Ho0SO0adFMARwlBKNEAk5iYiIWLlyIefPmoVOnTryAU7duXezfvx/JyclITk7Gs2fP8ObNG8mPU9IAhw05LetFYvvWH/H+sCEI8eL6FmeYvi4qjB4+FDeuX8ezp0/x7coVaFAj1OCYto0aYNe2baAoCqdPnEDrBvV1CzlzWwdrQU2wswOquzqjcZA/GgcFoKaXB6qpKiDEyR7BjuVRnWMMfg37sqitqoAWfpXRpHIl1HKyR7iDHeq6Ohc5bBQnuJFkArayGZgLbmiQMUxHI+XCuAxTtB/qhaYWcTx2ny6dkXj/Pq5cuoh2TRrBz1VdbABHSqcUV1bx9MC0SRORm5uLndt/FtyiQQEcJQgpoYBDx/PnzxEdHc0LOI0aNcKNGzdMPn9xBxxPHsihy1UttIAzJnoEIqsFo261YDQKD0P90GoI8/Ux6qwK8a6EWdOm4dGDB3iSnIwvFi9CZEiQwTHN69TG5vXrQVEU4q9dxdC+vQ2+rUpVciKreOGT8WMxe+J4BDs7GPysvr8PJgwfgiYhgQa3v92kAfZu+wkJ8XE4e+IYzhw/hoS4OFz66xw+nToJjYP8EawFHfpDumu9Otj89Zc4eegg9u/4GQf37MaRfbH4fed2XD57Fm2q+qOGg12Rg0dhAQ1dcioSmHE0/n8pQFPsQUY0C/8aI0OCsGvbNmRmZGDO9I8Q5utT5ICjAxsT4KaSqxo1Q6vhyqVLePbsKT54d6Sk+yiAU7rjPw04Dg4O8Pb2hq+vL7p164a9e/eCoijBc+bk5CAzMxOZmZlIT0/HtWvXii3gaJJ1XQwlp0W9SOzbsxtbNnyPFYsX4ZsVn+P7Nd9i988/44d16zB62FBEhgTrPDYRAX7439w5eJL8GE8eP8by/32GOsFVNYuUtpbetHZNbFi7BhRF4fbNmxj37ijtzw0leVrN4fqQq6Z2RPcWTXH2xDGsXfG5wTCyampHxAwagOSkJAzo1F5/u6szTv95FBRF4fCv+1CzkgdCVBXQqUEkTv5xBDk5OYj9+Sf9eHrH8mgaUhUXTp/ClrWr0SigCoIdyyPEyR5tQoPxy9Yfcet6PNpVC0YNxs7mJb2sJQY0RmWmImrTNgYaR/0MFg6g8WEbY+VsD8A61kclEzqsbLqVBQoS/TB+rmqMHRWN+3fv4NKFC+jUooXRFxqmX4b27el/zvLPcD0mu9Vbpf8v81ycqo3Beiq+tvp5eeLjjz5Eeno6/jhyGHVrhiuAo4Ro/GcBJyMjA6tXr8a5c+dw5MgRxMTEIDQ0FPv37+c9X35+PiZNmmTk3SmugGOk4LAgp2ndOjh84Hfs3PYTRg4cgJb166JJrQiMiR6Bc2dO4+6d21iyYD4ahYehitoZtYMCsfSzBUh58gTJj5OwbOECo/p9k5oRWL/6W426decOpsSMYSx4TkZqDhfkhLqp8G7fXki8ewfjhw4y+Fm4pxuWz5uLB/fuoVV4qP4+rs64euFvUBSFcyeOo5aXh+5nYwb1R35+Pl69eokxg/rrFKFxQwchJTkZCz6aihC1o37vK8fyGBrVGZf/OocW1YMQ4lgewVofT0kGHF2pycFOn0JAU0gwwwU3AU724gqNmvnha6wIyBlqaXC8iv+8xT5lGH4b1gjD/r178fzZM3yxaJGxF0d7Ls7nQQxuhKCH8fyaU5Ki09vdFa2bNcGZU6eQlpaGiWNj4OXmogCOEqJRbADnzJkzqFWrFmxtbXkzJiYGmZmZuvsIAQ47srOzMW7cOEyYMIH3GIqikJ2djfT0dKSnp+PFixe4evVqsQUcQeBxUSGgshd6vt0FTWrVNPj2Vr2yF75f/S2ysrJw+2YCpsSMQfXKXqgTXBXLFi7A05QnSGYrODTg1KqJDWs0Cs69u3cwbdxYjkXOGHKYoFPLywMLZ3yEe7dvoUuj+gYffg0DfXEgdg8O7fsF9XwrG/yse4umWDZ3Nnq2aoZghurTtnY48vPzQVEUVnw2H9XUjghysseUd6ORkZ6OB/fvYdXCBejRsikaBFRBLS8P1KzkjqimjVDdxUmn+ASxzbTaDK5QjnMGT2GrPnzemRA+E3AxApqqTvYIcLTXKzRcUCMBUiwLDMKPKReizL2fpdPXRYXogf1x59YtxMddw4h+7wh68Xx4/t+U1ICNk74kpTacccP75Ywjqwf6Y+UXn+PVq5c4+scRBPh4S76vAjilO4oN4Lx69Qp3797F9evXeTM5ORn5+fm6+8gBnLy8PHz99ddo0KABMjIyJF2TtTw4ct7cZierhZxegBbP+xRPU1KQn5eHH9atQ+OIcNQM9MfieZ/iSXIyw4MTbLBwNatTC5vWrwNFUbhz6ybGv/cuz7c7PeT4OlcwKFk1DgrA3p+24vD+fWjK8NkEOzugXa0IPLh/D18smI9QN5XRh2U1tSMaVvVDVNNGGNi5A0b06IrJI4frAGf18qU6wGkdEYqrFy4gPz9fl48fPcSR/b9i7tRJaBEWovf/8EEBoy09uEI5hLCSPZfHUi3rYhtQ0o9fXPduMmzjpofLcYCN7gOx+Hlp6GF05gMO1+9WOL+vv7sr1n39FdJSU/H7vl/Qvmlj41KVxZ83Hr+NCWtoFU8PjBw+FE9TUnD//n10bt9O1tqqAE7pjmIDOKaEXAVn8uTJaNWqFfLy8iSdv7ibjIXSv7IX+vXuhQkxY9CmWRP4e3oYQM6nM2cg6dEjUBSFA/v2oUurlgjz9cG8mTPw+NEjpDx5gpVLl6ButRCDxatFZB1s2bABFEXhxvV4vDt4IP9ixy5ZOVdAVWcHtKkVjhvXrmHNF8sRUcld96EYonbE8B5d8fxpCsYNGWT0odk8NBifzfgIB2L34M+DB7Bu5eeYPWkCFnw0DQUcgBPkZI8Bnd7CL9t/xtMnT1BQUKDbJT47Oxt7fvrREHL4UgL4sLO6vWlKD5c6I8kMXMRAY6TWONkbemp4wEZ+WhIMpJ2ruCgypmabhvVx9NBBpKWm4psVK4ze05Z8fsX9NtKzsocbOrRtjbhrV5GWloaF8z6Fn5enrHMogFO6o0QCTk5ODm7duoXdu3ejR48eGDp0KK5cuYJ79+7hzZs3eP36NXbt2oU9e/bgxo0buHDhAmbOnInq1atj69atkh+nJAAOnxrUp3s3nDh+DM+ePsX3361Dk3qRBi3k8z6eicdJGsA5uH8/3m7TGgHurpg85gPcv3sXz54+xTcrVqB+WKjRYrlj61ZQFIWL58+ja7u24gsfA3IC3V3RP6ozkpOSMD1mtAFchLqp8OWihYi/egU9WjbVqTpBTvZoVzsC50+fRmZGOv74bT+6NWuMun6VUd3FCc2rB3EqOMGqCgh1U6GBfxV0blgPMYP746vF/8P5Uyfx6uVLZLx4gblTJqGGh4u8D3JHOoXBhw0/1TgUGT6FpqjatM1VbGhvjallqOKYlgMcK//+PF4ZfzcXRA/oj/irV5Hy5Ak+nTkDtaoGWOU5MsVvw7WGebu7olnDBjjw++/IysrC9m3bULtGqOz1UQEc60UdQsh+QsgDQkg2ISSNEHKWEDKYddxGovkDsDOB57zjtD/LJYTcJ4TMIYTYmXiNJRJwbt26hUaNGsHOzg42NjawtbWFnZ0doqKikJSUhNevX2PZsmUICwuDq6srvLy80KlTJ/z000+S1RtAGuCYW26Sfn/xxYJ5rlHDhuJ6XBxevXqFrVs2o3mjBvByVcNLuxAtXTAfz54+RV5eHjatX4+mtWuiitoZfd7ujBN/HsWLtDRsWv+d8aC/Vi1x6PffkJubi327dyPcz1fi4qufsrp43qdIuB6PwV27GPhzIiq546+TJ3Dol1jU96+CiIquGNatC6q5OGHvT1uRl5eHuzdvok/blghigFGL0BBOwBk/bDC+W7UCoa7OCHJyQLCzA6qpHVHLywMrPpuPzIx0bF7zLWoyVCSLpADwSMpiDjNcYOPv5MCAGkd955OIWdgaH+hmHyvxA92qsGLhawiqVBEfTRyPu7dvIfH+fcz6cBrqhAQZTTI36TpU8lvAhda9yh5uaNmkEfbu2Y2XL1/i2NE/0LRBPZPOpQCO9aI1IWQ10QBNG0JIFCHkJ6J5sj9hHLeREPKaENKYlbU5zvkxIYQihCzUnn8a0YDOWhOvsUQCDl1m4EuhY+Q+TnFXcPiyfasW+OPwYfz26z70790LgbQxz0WFGlUDsGn9erx6+RL37t7Fh+PHobqPN6qonVE7uCq+/Hw50lJTsT92Lzq1bG4AOAN7dsc/cXH49949zJwyGQHurrIWw9pBgTj0235cvvA3otq00s3NCVJVQM9WzfHkcRK+/+pLhKgd0bVJQ0wYNgQRnm649Nc5FBQU4MKZM2hfp6bBh2x0r+54k5urBZxlOsCZN20K/r1zBz1aNDUqQ3Vv3gRJDx7gy0ULEeHpZl0QEPP3lACFhg9uDBQb5vYIxdBTY5jmXGNx+P3kP36oT2V8NnsWHj18iPt372LeJzON5lzJhhu15UpSNNy0ad4UsXt242VWFs6dOY1O7dqYfD4FcAo/zhGNqkPHRkLISwn3cycaJWgN6/aZRAM9NUy4lhIJOIUVJRlw/Lw8MX3qFOzdvQujR0WjeqA/vNxcEOhTGeNGv4+rly8jJTkZ365cgRaRdXTf5HxdVOjZsQOOHDyAu7dv49OZM1DDrwqqqJ3RuGY4Vq9aieTHj/HTDz+geWQdkUXXeIR8m0YNcPf2bSTc+AcDundDFZUT/NTOaBoehuWfzsGTpCQsmf0xqqmdsHjWTDQOCkA1tSO+/2oV8t68wfOnKZgUPUwHMe0ja2Lbxu9x4cxpFBQU4M8Dv6NTg0hEeLph/odTkZGejgOxe9GpfiSqqR0R7OyAMHc1/jdzOhLi4zCoSwdUozuplJQMNrRyY2QcNvuD30ng/60BFk4ij2ttwLG0p0j4fLUCA7Do07l4kJiIpKRH+GLJIjSKqMFQcqRfj5xdwMXS01VjKO7WuRP+/OMPvHz5EufOnkWvblGiG2rync9TAZwiiV8JIfcY/95IpAHOIKL5QzVm3e6tvX2mCdeiAI5AlGTAqeSqRoCPNz54dxT2xe7Fwd9/x46ft+HwgQOIu3YNx//8E5PHxiCyWrDRGPeqFd3R/a122PTdOpw/exY/b9mMlUsW49c9e/DXmTNYtXSpBooM7ie0MGp+FlypIj4YMQxJjx7hwl9/4fvV36Jnx7fQr2sUZkyaiM5NG2HFwgXY8M3XGDOgHyaPGqH7UI2s4oVVCxfg+pUrSIiPw64ft+DHdWuwZd1aRDVpiJhB/XH96hXcv3Mb8Vev4PN5czFn0gScP30Sq5cvxR+/7ce2Devx/Zer8PvePTi8fx+GdXsbYe7qIgeGkpRGYMOzH5LYByPf64a/7FJ4qolQu3RxKE3JAxzj5yzc3xefTJuCG/HxSH32DHt2bEffqC4I8a5kGtyYCThebi4IrxaMKRPGI+HGDWRkZODA77/hrdYtUdnDzWRgUgCncMKGEFKWEFKREDKGEJJHCHmf8fONhJACQsgT7X8fEUK+IoS4sc7zP6L5QzlyPMYzQshWE65NARyBKOmAU8lVDZ+K7qgTHoZeXaPw/shojBw2FFEd30JE9RBUqegObxeVUQt5FbVGbanhVwUdWzTDyEEDMCZ6BIb27YPWDeojyLOipNq9zpypnWxaw68KVi5dglsJCejVsQM6NGuKwb16okvrVgj19YGfqxqhPt7o06kDerdvi3BPN4P5OaFuKtT3r4JuzZtgQKcO6NygLmpX9kSwqoKmfTzQFx3rReLtxg3QMNAXTUOqoln1IIS5qdAkJBC92rRA/47t0aVRPURW8TLotlJSGtwEONlb0DzsJOiNEYIJU9u3+W4r3uBiBvDwPL/VKnvh/aFDcPLYn5p5X5cv4dOZ09GsTi34C5Sdec3EJq6PgT7e6Na5IzasX4fnz58j+fFjbPx+PRrVrWOScsNOBXCsH6uJ3jicSwj5gPXzSdp8S5sLCCGvCCE3CCFOjOPWEkJyeB7jJiHkoMh1eBLNH5mZ3YgCOLzxXwCcSq6ab0iVPdzgU9EdPhXdDRcOnjk5TNAJcHdFgLsr/N1c9GAjwbSpH9uuKX01DA9D7M6d+PvcOQR7ecLPVQ1/N1cjBcnfVY0AVzX8eTbvDFFVQIja0WDYH53Bzg6624OdHfTeG2cHwfspKQ43GuWGMXm4qD64TTQMG2wnwP5/E7LoAYYFMzLvE+jhhu5vtcOPGzcg6dEjPElOxm+//IKxo0bqt3BhPd/8ZSmu9ZF/zfSp6I7mjRpi6aL/4crlS8jMzMQ/8fGYPnUKaoZWkzypWAGcog8/Qkh9QkgXQsi3RKPSTBW5T2+i+aNMYty2lmg8OFxxkxByQOSccwl3t5YCOKwoKCjAmjVr0L59e0RGRhYrwLH4kEDWBp18oGPuIhugXUxPnzyB79es5v0AYs/O0UxDdtBt4FnUH/QlIh0tdy72XBtTSlLyXz8855YI1ZV50lvNmKprRnoJPIZ575/CByJ/NxdEhgRh/LujcPbkSaSmpuJJcjL+OHgQk8eMRpOa4TrF1txtF7w93BDs74t2rVrg82VLkJBwA6mpqXj8+DF+3PQD2rdsgUAfb4vBjQI4RRPfEk2ZqqLAMTZE48v5mXEbXaKqwHG8lBKVouDICIqikJ+fjytXrkgAHFPhx5LTkc04l4vKaPEWW6QN9/UR+WBSOyPEyxMx0SNwIz4eo4cPFT6nmgd0nB0k7VRenIHBqtdj4etkwo2pfhtJaQAuTsb7I6kEXidqY2VFEGSYJRWe9NQm7zFC59e+h4qV6sMJhvq/oa+LCoEe7mhRNxLzPv4Yp0+cwNOUJ3iRloarly9j7Vdf4t3Bg9CuaWOEBwXCp6K7ZLjx9fJE7Rqh6NSuDSaNG4u9u3YhMTERGRkZuHf3Lnbt2I7hgwch2N/XzJIU9/UogFP4MYJonvBGAsfYEE2Z6ifGbQN57udFFJOxVeK/UaLikpG5dyBnqzlGC7IZs0Sq+3hj+sQJOH/2LFrUZXdfCTyODnQcGYpOBQQ4aUomRQ4b/9HUw42DgXLjwwE3QjBiSgqCgPb8osqMEKCY8+VCAiBJVX2EPEHyYEXG/QXS11WN6j7e6NiiGWZOmYRf9+zBg3//RWZmJp48foy//zqH7du2YtmSRZgwdgze6dUTHdq2RvNGDdCwTm00qVcXrZo2QZcO7TG4/zuYPGEcVn6+HPti9yDu6lWkPn+O9BcvEB8Xh/Xr1mLYwAGoEx6GKp4eVlv/FMAp/NhENGUqIQXnHaL5o0xg3OZGNCWqb1nHTidKm7hVouQBjgWukQNyLPHt09/NBQ1qhKJTy+aoWtFd5oedk2jpyqKqjpASUtzUHKvCjbYsJWYmtvAQPb7XATONNnHkBRnT06RysETo8eb4nfjeY4Wt/Pi7uaCatxea1AxH/25d8dncOTh65DAeJyUhMyMDaWlpSEp6hNu3buF6XByuXL6Eixcu4NLFi7h65Qr++ec67t29i8ePH+NFWhrS01/g3/v3sHfXTkyIGYO3WrfUNDlUqmjRcpQCOIUbawkhy4gGVloRja9mG9E82Uu0x/gTQk4TzXTizoSQTkRTisomhMQT444petDfZ9pzTiUa43GpGvRXWGEO4LAXR2tvsCnt/BK/vbJKVt7sRVbF+q/E1JiKzdzojwU5XKBjccgpBVDDBpxAJ45uKVEQtR7YVFaxoIYNNrLfM4X4hUUC8LA9cIVezuJ4T/u6qODv4YYgH29EVAtG2+bN8F70CHyxbCl+/eUX/H3+POKuXUPCP//g1s2buJmQgOvx8bh65QrOnj6Fvbt3Yemi/2FI/35oXC8SYUGB8Pf2QmUPN3i5uRTKpsMK4FgvRhBCThCNPyaPEPKCEHKMGG7V4EoI2U00Wy68Jpouq1uEkMWEEDXPeccTjak4lxCSSDTm4VK1VUNhBTfgqAptcSzUXccFFmTLGJC1i6dK+gLOexy7RVlbwrIK6BTXtBJ0VXVk+G54wEbOB7A5rxcDsLGSSmMp2JH1XhUpb9F7xkmBHR+Vs1UUNNrL5MV4jr3dXeHn5YlgvyqoEVwVdWuGo0WTRujUvi16vN0ZXTt3RPvWLdG0QX3UDgtFaFAggnx94GsBpcbUtVABnNIdCuAIhOmAw/fzklDm4liM1QIGZKPFVWC2iSzAceKX7vlMk1pFbWwSzwAAIABJREFUx9+pgkHZ6j8PO5aCGyeO0pQc8LQA2BjNWVEz1BqD91EJfC/JfL8Zww7He0Iu4Bg0BXC/nyRPKHZzgbe7K3wquqOKpwd8KrqjsoebRebXWCoVwCndoQCOQMgrUUlfcAtHmWFfj9jMCoEFl8uAzO50EQAV5n+5F2b+8ofhsECRD09G+cpfq+Yo7eX2erVHQPUx2n6hUObccKtDBqZhi6s15qc571/R+wqUsmjY4QR/xvvJR+D5FXuf6ZQbTrA0Zd0xbY201POrAE7pDgVwBKLkmYytvHgzFl72Ymv2t3ehibZyPmxZZmT/0lS2MiON4KYQB/kxVRsd3BQ62Jj2OJb6suLJdz6eUpacMpbQe5M5yVlXkrJKGbBoUgGc0h0K4AhE0QKOJR7PStcs5M0xY8qslJ/Jgict5Pg6OyJAAR1BuNEZiwt5QjHn7JpC+2CV/xjCQFOIa4Sar4wl4QuHyvj5t9SmmfzPR9GsZwrglO5QAIcjKIpCbGwsxo8fj44dO5aILqpCT45Oq8oG/hp5H5RW6RrhaC33d3IQh5xS1DUl1XcjLeXf16DlW1Q1KNlqginJu26IlLG4gUdfJq6s0itm/F6nkp8K4JTuUACHIyiKwps3b5CZmYkDBw5wAI7pi4DYN0BP0WOKSXIssOzZOZK8NYWRYmWrUgQ0fHCj31/K+gqOYEmqCF/Tct97pr5PLfr+ZrwPPSUAD52Cc4SKem2R9Pfgv07mfRTAKd2hAI5AFEWJStoiW3wWIS5/gJfa0BBZ5IDDBh1t2crfyQEBTqWzbEX/zv70pGKm78bE1mOp3VWcO1Ebvb8K/zXuqf2CIff9WuTvQZH3o6Qs6uvm+Ltb4sueAjilOxTAEQgm4LirnVHRRaWk1FQ7w1PlBC+VE7y1Wbk4pbMjfJwrwMepAnyd7BHgWB4BjuURWIoywLE8fJwroLLKsdCed2+VEyqpnFBReT8pWQjp6uyoAE4pDgVwBIKiKFy/fh2EEJS1tYWdkiakDexsbVCumGd5mzIob1MG9qUoy9uUKZLnuuhfk0qWlixrY6MATikOBXBEIiMjAz///DN++eUXbN++HcHBwfjll18kpa+vr+gx27Ztg52dHTZv3ozY2FjR42vXro3vv/9e9Lj27dtj8eLFkq5z2LBhGDdunOhxM2fORO/evUWP27t3LxYuXIiAgABs375d8NitW7ciNDRU0nXGxsbCz89P0rH+/v7Yu3evpGNr1KiBLVu2CB5D/+3nzZsn6bz9+vXDhx9+KOnxp0yZggEDBoget2zZMrRp00bSOTdt2oTw8HDR47Zs2YKyZcti27Ztks7r5+cn6XVarVo1yeds3Lgxvv76a9HjunXrhtmzZ4set2vXLvTv3x9du3bFzp07BY/97LPP0KlTJ0nXuX79etSpU0f0uB07diAoKEjSOX/5Rdo68fPPP6NcuXL44YcfJD3/devWxbp16yQ9fufOnTF//nzR40aOHIkPPvhA0jnnzp2Lrl27Ch6zd+9eLFmyBL6+vqLrBP0chISEiB7HXCe++uorBXBKcSiAIyEKCgp0xuOmTZuCoijRLCgoQFhYmOhxaWlpKFeuHB4/fqx7HKHs3bs3MjMzRY/75JNPkJiYKOlad+3ahWPHjoked+XKFaxevVr0uPz8fBw9ehQ1a9ZERkaG4LE5OTlo27at5Oe0Ro0ako6NiIhAfn6+pGM7duyI169fCx6TmZmJevXq4cCBA8jLyxM954YNG3DhwgVJj//XX39h8+bNosc9evQIH374oaRzvnr1Cl26dBF9Pp88eQI7OzukpaVJOm+NGjUkvU5btGiB3NxcSeccNWoUnj9/LnrcypUrcf36ddHjcnJyMGvWLIwbNw7Z2dmCx969excLFiyQdJ2ZmZno27ev6HF5eXlo0KCBpHNSFIWwsDDR5zQtLQ329vZ49OiRpOe/f//+ou89OhctWoTbt2+LHvfLL7/g8OHDks6ZkJCA5cuXCx6Tn5+PEydOICwsTNK15ubmolmzZqLHMdfeuLg4BXBKcSiAIyMoisLcuXMlHz9t2jTRYzIzM1G+fHk8ffpU0jm/+uor5Ofnix63b98+vHz5UtI54+PjkZiYKHrcs2fPcObMGdHjKIrC8ePHUatWLbx69Ur02EWLFkm6ToqiJD2nAPDRRx+BoihJxy5btgwFBQWCx7x+/Rr169fXLfBi8ffff+PJkyeSHv/x48e4ePGi6HGvX7/G7t27JZ2zoKAAy5cvFz3u+fPnsLOzQ2ZmpqTzSn3+58+fL/n5/+GHH5Cbmyt63PHjx5GWliZ6XH5+PubMmYMJEyYgLy9P8Fi6U1JK5Ofn45tvvhE9jqIozJ49W9I5AenrhIODg+TX1OrVq0V/dzoOHTqEjIwM0eMSEhJw7949Sed88eIFjh49KngMRVE4ffo0wsLCRNcJ+vh58+ZJenz6OY2Pj1cApxSHAjgygqIoSW9EOqQAhlzAoZUGsaC/PUuJvLw8SdBUUFCAN2/eiB4nF3As/ZzKOQ6Q9pzKBZy8vDxRaKKjoKBA0ocRrU5ICYqi8Pr1a9Hj5AKO1Of11atXkl9/OTk5ko598+aNpOdUDuDQyoCUoCgK2dnZko6zxjohB3Bo5UpK5ObmSn5epawTgLS1whTAkfq80s+pAjilOxTAKeJ4/fo1BgwYIOkbVEkJiqLwzz//YOrUqZI/PIp75Obm4qOPPsK1a9ckf3CUhMjMzET//v0lwVBJiYKCAmzfvh0bNmyQ/IFc3OP169cYNGgQ0tPTi/pSLBYUReHmzZuYNGmS1dYJBXBKdyiAU8RBURTS09Mlf9svKZGXl6fzCv0XgvZgSFGwSlIUFBQgPT39P/N3AvRKi1S1sySEsk6YFgrglO5QAEcJJZRQQon/ZCiAU7pDARwllFBCCSX+k6EATukOBXCUUEIJJZT4T4YCOKU7FMBRQgkllFDiPxkK4JTuUACnCOPmzZs4duwYYmNjsW/fPk6j3aFDh7B7926DTEhIKLbmyfz8fMTFxeGPP/5AbGws/v77b6NjaMPkqVOnEBsbi99++w1xcXElykCZkJCA2NhYg7/L2bNnS1TXGEVRuHPnDg4cOIDY2FgcPXoUz549K+rLMimysrJw/Phxg79HbGwskpOTi/rSZAU9a+q3337D7t27kZSUZHRMQkKC7m927Ngx3ZDG4hoFBQVITEzEiRMn8Ouvv+Lw4cN48eKFwc/Pnj1r8Lfbu3cv59ohNxTAKd2hAE4RxoIFCzB69Gi0a9cOrq6unItUtWrV0L17d8ycOROzZ8/G7Nmzcfz48WILAzk5Ofjkk08wfPhwNGnSBIMGDTI65vXr15gxYwbefvttTJ06FTExMejYsSP2799fBFdsWsybNw/NmzfH+PHjdX+XrVu3lph2a4qi8PDhQ3Tq1AmjRo3CRx99hD59+mD48OEl5ndgxs2bN9GpUydERUXp/h7z58/HrVu3ivrSZMWRI0fw/vvvY8yYMbCxscGuXbsM1oWTJ0+iU6dOGD16ND788EP06NEDY8eORVZWVhFetXDk5uZiy5YteP/999GjRw+EhoYaDLZ88+YN+vXrh/r16+v+dp9++il27dpl9mMrgFO6QwGcIowHDx4gKSkJy5cvh7u7Oy/grFmzBq9evUJubi5yc3OL9WyPgoICPHjwAAkJCZgyZYoR4FAUhRMnTiA4OBibN29GVlYWUlJSEB0djQ4dOkievlrUMW/ePIwbNw5JSUm6vwu9hUNJCIqiEBMTg1atWuHJkyd49eoV7t69iypVqmDHjh1FfXmy4+bNm+jTpw/27Nmj+3tIHQxYnCItLQ2JiYl4/vw5ypYtawQ4/fv3R7du3ZCcnIyXL19i3759CAwM5FWAi0MUFBTg6dOnePToEc6dO8cJOEOGDMGECRN0fzv6/WRuKIBTukMBnGIQW7ZsgYeHBy/gDB48GIcPH8b58+eRmJhYIiAgLy8PCxYsMAKcgoICLF26FE2bNtXNlKEoCn/++SfUajVu375dFJcrO+bNm4e33noLP/30E86ePYuEhARkZWUV2w8ZduTm5iIgIAArV67U3UZRFKKiojB48OAivDLT4ubNm3j77bcxZ84cnDp1ChcuXMDDhw+L9ZcBsShfvrwB4KSlpaFixYrYsmWL7raCggJ06tQJU6dOLREwl56ezgk4/fv3R+fOnXHy5En89ddfuHXrlkVmTimAU7pDAZxiEEKAM3jwYMTExGDChAkYMWIE+vTpg3379hX7xYwPcPLz8xETE4Phw4cb3J6ZmQlnZ2ccPHiwMC/T5Ni4cSPeffddjB8/HqNHj0bfvn3xxRdfyBrRX5Tx5MkTlC9fHkeOHNHdRlEUZsyYgfr16xfhlZkWiYmJmD59Ot5//31MnDgRQ4YMQXR0NE6ePFns3yt8wQac+Ph4ODg44PLlywZrxZQpU9C7d+8S8XtyAU5eXh5mz56NkSNHYtKkSXjvvffQq1cvrF+/3uzfSQGc0h0K4Fg4Hjx4gLNnzwomu14uBDiJiYlITU1FRkYG/v33XwwbNgxRUVGFquK8efMGN27cEPydrl27ZrBPkhDgREdHY8yYMQa3UxQFtVqNPXv2FMrvxBVPnjzB+fPnBX/PlJQUUBSF1NRUpKSkICMjA8nJyVi1ahXatm2r20G8OAdFUbh37x7KlSuHc+fOGdy+YMEChIaGFuHVmRY5OTlISUlBamoqXrx4gfPnz2PQoEEYMWKE5H3eiluwAefcuXOwt7fX7fxNx6xZs9ClS5cSCzgURSE5ORnPnj1DRkYGEhMTMXPmTERERODOnTtmPZ4COKU7FMCxcOzduxcjRowQTPaOvEKAw45Dhw7B19cXycnJhfZBmpGRgZUrVwr+TvPnz8fz58919xECnDFjxiA6Otrg9pcvXxa5gnPs2DHExMQI/p58isCjR4/Qrl07fP755yViO4fk5GSUL1/eYMdniqIwc+ZM1KtXrwivzDJBURT27duH7t27Iy4urqgvx6RgA05cXBwcHBxw9epVg/f+1KlTS7SCww6KovDkyRMEBgZi586dZj2eAjilOxTAsXDk5OQgMzNTMNm+ADmAc/z4cfj4+ODixYuFBjj0ztRCv9OrV68MFlghD86iRYvQokULnQpFURROnToFtVqNhISEQvmduCI3NxdZWVmCv+ebN284n/eUlBR06NABixcvlrzjd1FGbm4ufH198fXXX+tuoygKPXv2RP/+/YvwyiwTFEXhjz/+QPfu3XHlypWivhyTgg04z58/h4eHB37++WfdbbRvatKkSf8ZwAGAFy9eIDg4GD/++KNZj6cATukOBXCKMN68eYPs7Gx88803cHNzQ2ZmJrKzs3UAlJWVhdTUVLx+/Rq5ubl48eIFpk2bhsaNGyMlJaWIr547KIpCbm4unj17hpkzZ6Jz587Izs5GdnY2CgoKQFEUjh49iqCgIOzevRuvX79GWloaYmJi0Lp16xJhoM7NzUVaWhqysrKQk5ODrKwsbNu2DS1atMAff/xRIj5oKIrCu+++iw4dOiAtLQ3Z2dlISkqCn58ftmzZUtSXJzuys7ORmpqqe63dvXsXY8aMwTvvvIMHDx4U9eVJjoKCAt3vULZsWWzYsAGvX7/WqYI9e/bEO++8g+fPnyM7OxtHjx5FYGAgdu/eXWxLoxRFIS8vD9nZ2YiPj0dISAgOHTqE7OxsvHnzBrm5uUhJScGrV6+Qk5ODtLQ0rFq1CoGBgbhw4YJZj60ATukOBXCKMPbu3YvZs2ejR48eqFChAmbMmIFZs2bh1q1bOhD48MMPMX/+fCxevBiTJ09Gp06dsGbNmmL7IfrmzRts3rwZU6dORZs2bVClShXMmjULy5Ytw+PHjwFowG3ixImIiorC3LlzMW3aNLRr184icy8KI+7fv48FCxZg1qxZWLRoET755BP07t0bH374ITIyMor68iQFPeSvdevWGDt2LObPn4/+/fujb9++ePnyZVFfnuy4du0apk6digULFmDhwoUYM2YM+vbti127dpUIaKbj/v37mD17NmbNmgUbGxv07dsXs2bN0ik5R44cQdu2bTFx4kTMmzcPvXv3RnR0dLF+3eXn5+PUqVOYNWsWhg0bBg8PDwwbNgz/+9//cPjwYdy5cwfvvfce5s2bh0WLFmHGjBmIiorCrFmzzP7bKYBTukMBnCKMkydPYv369fjuu+8M8sGDBzrj3b59+7Bp0yZs3LgRO3fuxOXLl4t1CSQvLw8HDx40+p1++uknnUeHNun+/v/27j84qvJeA/gjxSkNqLS9oqJTHeggo9XScjtQnWoIM1YY2mkJVSg42ErIKBIwFKyIkEpAArUEqQJpgAghMYCBGCCKigEkvQaw8ktIikC1RDSRZPM7S8557h9nN+xmzyYCm+wx+3xm3oE9v9lv2H1yznveU1DAjIwMZmVlsbi4+BtzS29tbS0LCwuZlZXFjIwMZmdnc8+ePayoqHDsb9F2TNPksWPH+Nprr3Ht2rXcunXrN27kX6/y8nLm5eVx3bp1XLduHfPy8njkyJFvRH8oX2VlZbafCYWFhS0/Wx999FFLzfLz81s6vjuVYRg8fPhwwL8pMzOT+/fvZ1VVFbdt28bMzEyuXbuWmzZtYlFRUUgGnFTAiWwKOCIi0iUp4EQ2BRwREemSFHAimwKOiIh0SQo4kU0BR0REuiQFnMimgCMiIl2SAk5kU8AREZEuSQEnsingiIhIl6SAE9kUcEREpEtSwIlsCjgiItIlKeB0nkmw3uham3k/BfCOZ14VgFwA/YJsZyqAEwCaAJwGMA/A1Zd5TAo4Ih3ENM2W52+F8xg68lEFTU1N36hHIUhkUcDpHDfDCi5nERhwBgKoBrAHwEgAowEc9Sx7fatlnwVgAlgIIBrATFhBJ+0yj0sBR6QDmKbJc+fO8ZNPPglbAPA++PRKn8jcFu/w+go54kQKOJ0jH8AbADIQGHA2AigHcK3PtFsBuAGk+Ez7PoAGAKtarT8bVui54zKOSwFHJMRM0+TZs2eZmprKvXv3hu3BqKZp8vXXX2diYmKH7cMwDD755JNMT0937ANgJXIp4HS8CbDO0NyCwIDTHUA9gJU2670FoNTn9XhYhRraarmbPNNnX8axKeCIhFhVVRXnz5/PvLy8sJ7ZuHDhAuPi4rhr164O3U9NTQ2jo6N54MABRz/0USKPAk7H6gOgAsATntcZ8A84t8N6859AoCWwzsz08Lx+wbNsT5tlywFkXcbxKeCIhJBpmtyxYweXLFlCl8sV1uM4deoUf/GLX7CpqanD97dq1SqOGTPmG/NEeIkMCjgdazOAfQCu8rzOgH/AuQfWmz/WZt1nPPNu8rxOA9AYZD8lsM74tKUPrCL7tl9DAUckZD777DNOnjyZ27ZtC3vn4ldffZV/+ctfOmV/NTU17N+/P4uKinQWRxxDAafjxMLqAOzbNyYD9gHnYZv1vQHnRs/rNFh9cOyUAHizneNJ8mwvoCngiFw50zS5ZcsWzpo1i1999VVYj8XtdnPChAksLi7utH3GxcVx6tSplxxwvHebNTc3s7m5Oex3nknXoYDTMXoBOAfgrwB6+7QsWAGnN6xLTZdziSrKZtmvc4lKZ3BEOlBdXR3HjRvHRYsWsbGx0W+e75e49wvcbloomKbJjz/+mPfff3/AJSPTNFuChHd/hmG0tK8zPZg1a9Zw4MCBl3SZyjAMlpSUcPny5UxNTeWcOXP40ksvsbq6umV/3vdKoUculQJOx7gNQc6W+LStuNjJeIXNNt6Efyfj33vWG9JquRuhTsYiYXfixAk+8MAD3LhxY8CX8fnz57lixQqOHTuWiYmJfO+99/jGG2/w6aef5qOPPspnn32WX3zxRUiOwzAM/v3vf+fSpUv9ppumye3bt3Pq1KmMiYlhVlYWKyoquHLlSqakpHDBggUcNmwYd+zYQcMwmJWVxYULF3LhwoUcPnw4N23a1OZ+jx07xu985zssKSn5WmHENE1mZ2fzgQce4K5du2gYBt1uN2fMmMFJkyaxqqqqpS9RcXEx3W73Fb0vEnkUcDpGD1jj1LRub8K6zBQN4EeeZXMAfAHgGp/1fwDr8tYin2nf86zbOgz9GbpNXCTsCgsLGRsby//+979+003T5MGDB1lQUMDCwkKOGjWKQ4YMYUZGBo8fP87p06dz8ODBtpeTfM/0eFt74cHtdjM2NpalpaV+06uqqvjEE0+wqamJCQkJ7NOnD2fNmsUDBw607Cs+Pp633nork5OT+c4777Ssm5SUxO9+97tt3hXmcrkYFRXF3Nzcdo/RNE1u2LCB/fr14/bt2/1uMT9y5AgHDRrEVatW0e12c8uWLXz//fd1G7pcMgWczpUB+4H+agDsBjACwG8BHEHbA/0tAHA/gD/B6nisgf5Ewiw3N5cPPfQQz5075ze9pqaGmzZt4qeffsrjx49z6NChnDp1Kqurq+lyufj8889z+vTpAesZhsHjx49z8eLFnDRpEufPn8+UlBS+/fbbQQOEN0yNHTs2YPq+ffu4Zs0amqbJ0aNHs2fPnty3b5/fMtOnT2f37t356quv+q2/bNkyduvWrd2zTNdddx2XLVvWbsApLS3lgAEDOHHixIAzMy6Xi/feey8fffRRHj16lCkpKTx//nyb2xOxo4DTuTJg/6iGwbAe1VAHwAVgC4D+QbaRAKtTcROA/8DqPKxHNYiE2fr16/nwww/zyy+/9JteWVnJQ4cOsba2lu+//z6HDBnSbuff5uZm7tixgyNGjGBiYiIrKipomiYbGhq4c+dOlpWV2a5nGAZTUlK4evVqv+mmaXL//v0sKyujYRi85ZZb+Lvf/S5gmZiYGN5+++0B2508eTKvvfbadsf1GTBgAJOTk9sNOIsWLWLv3r0Dzt54/+3Dhw/nyJEj+cILL3Dz5s1saGhoc3sidhRwIpsCjkiIrF27luPHj2dFRYXt/MbGRs6YMYPDhg3jyZMng27HMAwWFBTw3nvv5bRp01haWsr09HTOnTuXqampLCsrC9ofxe12c8SIEQGXybxM0+S//vUvXn311XzllVf85tXX17NXr16cPHlywDr9+/fnqFGj2vrnkyTvvPNOzps3r82AY5omR40axb59+wZ0xvZ66qmneM899/A3v/kNDx482O5+Rewo4EQ2BRyREMnIyODYsWNZXl5uO7+srIyxsbGcOHFim7eRf/XVV3zkkUc4btw4Hj16lK+//jqPHTvG5uZm5ufnc+XKlbbrmabJ3bt387HHHgu6bdM0mZqayh49evDw4cN+83bv3s1u3boFPLvq4MGDvOqqq7h27dqWbQTTt29fLl68uM1lXC4X+/Xrx+jo6KBB7amnnmJUVBRXr17td9bI944q3V0l7VHAiWwKOCIhkp2dzdjY2KD9VI4dO8ahQ4cyKSkp6K3UhmFw3bp1/PnPf879+/ezpqaG7777bst8l8vF5ORk23Wbm5s5d+5cbty4MegxmqbJ2NhY3nzzzX7BwDRNPv/88+zevXvA2Z+ZM2eyZ8+erKyspGmaTE9Pt912bW0to6KimJmZ2WboqKur44ABAzh69GjbgGOaJhMSEhgdHe03GnRjYyO3bdvG1atXc/369Zw1axZffvll1tTUBN2XRDYFnMimgCMSIjt27ODo0aOD9o8pLCzkz372szYvuVRXVzMxMZFxcXE0DIO1tbXcs2cPSeuL/8CBA0xJSbFdt6mpiTExMW2eHTIMg3379uWECRP8ppumyeHDh9v2vxkwYEBLp+UPP/yQCxYssA0wn3zyCaOiovjBBx+0e1ZlypQp/OUvf+l3icp7NmbPnj0cNGgQo6OjWVlZyaamJhqGwQ8//JDr16+ny+WiaZosLS1lfn6+Ao4EpYAT2RRwREKkuLiYv/rVr3jmzJmAeQ0NDUxISODw4cN56tSpoNsoLy/ntGnTWFhYSNLqF+Mdl8btdjM7O5t5eXkB6xmGwfz8/DafHO4NSN/+9rcDLnM1NDTwmmuuYXx8fMB6N9xwA1966SU2NjZy4sSJQfsY5eTk8IYbbmB1dXXQY/A6fPgwf/zjHzM3N7dlEMGTJ0/yueeeY3p6OpOSkhgTE8PCwkIuWrSIRUVFLCoq4pgxYxgXF8fc3Fz++9//5vnz5/X8KwlKASeyKeCIhMjZs2f54IMP8pVXXgn40q2uruasWbM4d+5c1tbWBt3G559/zsTExJYxbLxj4Hi3MX36dFZWVgasd+HCBSYmJrKgoCDotk3T5K5du3j33Xfzs88+85t37tw5/vCHP+TevXsD1svJyeHIkSP5yCOP8L333gu6/WnTpnH8+PFfu0/MyZMnOXv2bE6ZMoUJCQlcvnw5T58+TdM02djYyGXLljE+Pp45OTlsampqGaH58ccf58CBA3nXXXdxw4YNYX1iuzibAk5kU8ARCRHTNDllyhQ+88wzl33Z5Msvv2RycnJAAKmvr+fLL7/s1x/HV0lJCe+77z7W1dVd1n6vVHNzM++44w7m5eV1WKffEydO8NSpUzRNk263m2lpaZwzZ07IRoCWrkcBJ7Ip4IiE0AcffMD4+HiePXv2stavq6vjhg0bWvqxmKbJ06dP829/+xu3b99uu473sQrz58+/kkO/Ips3b+bgwYNZX1/fYfsoKipienp6y3Oqzpw5w5ycHA0CKEEp4EQ2BRyREKqvr2dcXByXLl3Kpqamy9qGy+Xiiy++2PJ8qCVLlgQ8dsGX2+1mfHw8i4qKLvewr4hpmrzvvvv41ltvdegt2wcOHGBycjJffPFFrlixgkuXLuX+/ft1m7gEpYAT2RRwRELs+PHjfPrpp4MOthdKpmny0KFDjI6ODltflCVLlnDmzJkKGuI4CjiRTQFHpAPs3buXCxcubPOW7VBobm5mWloaly9f3qH7Cebtt9/mH//4x6AjEouEkwJOZFPAEekAhmEwMzMUruttAAAF4UlEQVSTOTk5HfocJbfbzZkzZ/Ljjz/usH205fDhw3rKtziWAk5kU8AREZEuSQEnsv0EALdu3cqjR4+qqampqal1mbZ161ZvwPlJmL9rJQx+Dav4ampqampqXbX9GhJxrgMwBRd/AO5Uc0TzBk/VxDlNNXFeU02c15xWk594juU6SES6E9YP5J3hPhBpoZo4j2riPKqJ86gm4ij6gXQe1cR5VBPnUU2cRzURR9EPpPOoJs6jmjiPauI8qok4in4gnUc1cR7VxHlUE+dRTcRR+gBI8vwpzqCaOI9q4jyqifOoJiIiIiIiIiIiIiIiIiIiIiIiIiIiIiLiLL0ApAIoA9AI4CMAY8N6RF3XNQAWA9gJoBzWLZRJQZb9KYB3ANQCqAKQC6BfkGWnAjgBoAnAaQDzAFwdqoPuwmIArIH13tUBOAsgD8Bgm2VVj84xCMB2AJ8CaABwHsA/AUywWVY1CZ9JsD6/am3mqS7iGDsBVAKIBzAMwD9g/eD+PpwH1UXdBus//G5cfJ+TbJYbCKAawB4AIwGMBnAU1hfw9a2WfRaACWAhgGgAM2F9WKSF+Ni7ok0AdgF4HMD9AMbA+jK9ACv8eKkenScawEpYgWYYgFEAsmH9X5njs5xqEj43w/ocO4vAgKO6iGOMhPXBMa7V9J2wfiC/1elH1LVd5WkA8D8IHnA2wjrDc63PtFsBuAGk+Ez7Pqzfcle1Wn82rA+OO674iLs2u/E5egE4B+s3UC/VI/z+D9ZZHS/VJHzyAbwBIAOBAUd1Ecf4B4AaAN1bTR8H68v3nk4/osgRLOB0B1AP67fY1t4CUOrzerxnG0NbLXeTZ/rsUBxoBNoFoMTzd9XDGbYBOOX5u2oSPhNgnaG5BYEBR3URR/kngGKb6d4htid37uFElGAB53bP9Cds1lkC67ebHp7XL3iW7WmzbDmArFAcaIS5Dhf7DQCqR7h0g/WFeT2s9/4CrMvogGoSLn0AVODi+54B/4CjuoijlAJ402a6N0U/07mHE1GCBZx7PNPtOno/45l3k+d1GqyO4XZKYP3WJJcmE9aXqbejseoRHithvbeE1S/jcZ95qkl4bAawDxcvs2fAP+CoLuIopQAKbKZ7A86fO/dwIkp7Aedhm3W8HxI3el6nwbqObacE9uFVgpsP6/190mea6hEePwDwv7D6Ca4AYAD4k2eeatL5YmEFTd++MRmwDziqiziCLlGFTygvUUXZLKvTvJdmHuyv/asezrAC1pm166GadDZvx/u/Aujt07JgBZzesC41qS7iKGmw72Q8Fupk3NHa62S8wmadN+HfUe/3nm0MabXcjVBHvUvhDTfzbOapHs7wB1x8b1WTznUbLl4uDNa2QnURhxkB+1OKBdBt4h2trdvEcwB8AWtgQK8fwDpFvMhn2vdgneZt/YHyZ+hWy6/rOVh1mN/GMqpH+K2DdZnKO5aKatJ5esAap6Z1exPWexsN4EeeZVUXcZSdsEYLjYM1sFYarA/88eE8qC5sBKwB5by/kW70vB6Di6drB8I6s7bbs/xvARxB24NlLYA1WN2fYHXe02BZ7ZsBqwYFsG5Xbd28VI/OkwbrUshDsN6/WACvwarTYp/lVJPwy4D9QH+qizhGLwDLAHwOK2Ufgh7V0JHOIPhp3tt8lhsMa7C5OgAuAFsA9A+yzQRYHfOaAPwH1lkhDXfevkK0fdrdl+rROf4AaxTcclh9biph1cnuUQ2qSXhlwP5RDaqLiIiIiIiIiIiIiIiIiIiIiIiIiIiIiIiIiIiIiIiIiIiIiIiIiIiIiIiIiIiIiIiIiIiIiIiIiIiIiIiIiIiIiIiIiIiIiIiIiIiIiIiIiIiIiIiIiIiIiIiIiIiIiIiIiIiIiIiIiIiIiIiIiIiIiIiIiIiIiIiIiIiIiIiIiIiIiIiIiIiIiIiIiIiIiIiIiIiIiIiIiIiIiIiIiIiIiIiIiIiIiIiIiIiIiIiIiIiIiIiIiIiIiIiIiIiIiIiIiIiIiIhIJPl/lJOvYu4EKcUAAAAASUVORK5CYII=\" width=\"473.33333333333337\">"
      ],
      "text/plain": [
       "<IPython.core.display.HTML object>"
      ]
     },
     "metadata": {},
     "output_type": "display_data"
    }
   ],
   "source": [
    "%display plain\n",
    "%matplotlib notebook\n",
    "frame = True\n",
    "axes_labels = [r\"$(r_{\\mathscr{O}}/m)\\; \\alpha_{\\rm s}$\", \n",
    "               r\"$(r_{\\mathscr{O}}/m)\\; \\beta_{\\rm s}$\"]\n",
    "test_size = False\n",
    "raw = False\n",
    "img = mpimg.imread(gimage + '.png')\n",
    "print(gimage, \" resolution:\", img.shape)\n",
    "# size of the image in inches:\n",
    "figsize = (float(img.shape[0])/dpi, float(img.shape[1])/dpi)\n",
    "print(\"figsize: \", figsize)\n",
    "gcrit = Graphics()\n",
    "for a0, th_obs, orient, color in image_parameters:\n",
    "    print(\"a/m =\", a0, \"  theta_obs =\", th_obs)\n",
    "    # Critical curve as a SageMath graphics object from shadow_plot\n",
    "    if th_obs == 0:\n",
    "        th_obs = 0.001\n",
    "    if not raw:\n",
    "        g0 = shadow_plot(a0, th_obs, orientation=orient, fill=False, \n",
    "                         color=color, number_colors=1, thickness=2., \n",
    "                         linestyle=':', draw_spin=True,\n",
    "                         frame=frame, axes=False, \n",
    "                         axes_labels=axes_labels, gridlines=False, \n",
    "                         legend=False)\n",
    "        gcrit += g0\n",
    "        gcrit.axes_labels(g0.axes_labels())\n",
    "    else:\n",
    "        gcrit += empty_plot(fsize, axes_labels=axes_labels, frame=frame)\n",
    "    if test_size:\n",
    "        axes_labels_bck = gcrit.axes_labels()\n",
    "        gcrit += point((-fsize, 0), size=60, color='red', zorder=100)\n",
    "        gcrit += point((fsize, 0), size=60, color='red', zorder=100)\n",
    "        gcrit += point((0, -fsize), size=60, color='red', zorder=100)\n",
    "        gcrit += point((0, fsize), size=60, color='red', zorder=100)\n",
    "        gcrit.axes_labels(axes_labels_bck)\n",
    "# Adding the jet axis\n",
    "ta = tan((90 + Theta_jet)/180.*pi)\n",
    "gcrit += arrow2d((7, 7*ta), (16, 16*ta), color='lightskyblue', \n",
    "                 linestyle='--', thickness=2)\n",
    "gcrit += text(\"jet\", (11, 11*ta+1.5), rotation=17, color='lightskyblue',\n",
    "              fontsize=14)\n",
    "gcrit.axes_labels(g0.axes_labels())\n",
    "gcrit.set_axes_range(-fsize, fsize, -fsize, fsize)\n",
    "# Matplotlib figure corresponding to gcrit:\n",
    "options = gcrit.SHOW_OPTIONS.copy()\n",
    "options.update(gcrit._extra_kwds)\n",
    "options['figsize'] = figsize\n",
    "options['axes_pad'] = 0\n",
    "options.pop('dpi')           # strip meaningless options for matplotlib\n",
    "options.pop('transparent')   #\n",
    "options.pop('fig_tight')     #\n",
    "fcrit = gcrit.matplotlib(**options)\n",
    "# Adding the M87* image onto it:\n",
    "ax = fcrit.axes[0]\n",
    "ax.imshow(img, extent=extent)\n",
    "# Save result to png and pdf\n",
    "ext = '_raw' if raw else '_crit'\n",
    "fcrit.savefig(gimage + ext + '.png', dpi=dpi, pad_inches=0, \n",
    "              bbox_inches='tight', transparent=True)\n",
    "fcrit.savefig(gimage + ext + '.pdf', pad_inches=0, \n",
    "              bbox_inches='tight')\n",
    "# Only for display in the current notebook:\n",
    "fig = plt.figure(figsize=figsize, dpi=dpi, frameon=False)\n",
    "imgc = mpimg.imread(gimage + '_crit.png')\n",
    "if axes_labels:\n",
    "    imgcp = plt.imshow(imgc)\n",
    "else:\n",
    "    imgcp = plt.imshow(imgc, extent=extent)"
   ]
  }
 ],
 "metadata": {
  "kernelspec": {
   "display_name": "SageMath 9.3.beta8",
   "language": "sage",
   "name": "sagemath"
  },
  "language_info": {
   "codemirror_mode": {
    "name": "ipython",
    "version": 3
   },
   "file_extension": ".py",
   "mimetype": "text/x-python",
   "name": "python",
   "nbconvert_exporter": "python",
   "pygments_lexer": "ipython3",
   "version": "3.8.5"
  }
 },
 "nbformat": 4,
 "nbformat_minor": 4
}
