{
 "cells": [
  {
   "cell_type": "markdown",
   "id": "b0feef85-3db6-41cb-937a-4704a2d42c2f",
   "metadata": {},
   "source": [
    "# Numerical values regarding Hawking radiation"
   ]
  },
  {
   "cell_type": "code",
   "execution_count": 1,
   "id": "e960a7dd-1649-49c3-a5ba-09b323991b6d",
   "metadata": {},
   "outputs": [
    {
     "data": {
      "text/plain": [
       "'SageMath version 10.4.beta5, Release Date: 2024-05-02'"
      ]
     },
     "execution_count": 1,
     "metadata": {},
     "output_type": "execute_result"
    }
   ],
   "source": [
    "version()"
   ]
  },
  {
   "cell_type": "code",
   "execution_count": 2,
   "id": "a0cc1210-8c2c-476d-8e74-99ea1be1f0d5",
   "metadata": {},
   "outputs": [
    {
     "data": {
      "text/plain": [
       "'1.12.0'"
      ]
     },
     "execution_count": 2,
     "metadata": {},
     "output_type": "execute_result"
    }
   ],
   "source": [
    "from scipy.version import version as scipy_version\n",
    "scipy_version"
   ]
  },
  {
   "cell_type": "code",
   "execution_count": 3,
   "id": "8a3bf520-ea5b-4fd6-ab7f-64a0dec93b71",
   "metadata": {},
   "outputs": [],
   "source": [
    "import scipy.constants as constants"
   ]
  },
  {
   "cell_type": "code",
   "execution_count": 4,
   "id": "cc7767a8-0b74-477b-bda5-25f55d951963",
   "metadata": {},
   "outputs": [
    {
     "data": {
      "text/plain": [
       "1.0545718176461565e-34"
      ]
     },
     "execution_count": 4,
     "metadata": {},
     "output_type": "execute_result"
    }
   ],
   "source": [
    "hb = constants.hbar\n",
    "hb"
   ]
  },
  {
   "cell_type": "code",
   "execution_count": 5,
   "id": "d1be67d2-600b-4d6e-be2e-d96ae9c05284",
   "metadata": {},
   "outputs": [
    {
     "data": {
      "text/plain": [
       "1.380649e-23"
      ]
     },
     "execution_count": 5,
     "metadata": {},
     "output_type": "execute_result"
    }
   ],
   "source": [
    "kB = constants.k\n",
    "kB"
   ]
  },
  {
   "cell_type": "code",
   "execution_count": 6,
   "id": "0d10a9a1-6a9a-4093-94b3-da99290bcbb1",
   "metadata": {},
   "outputs": [],
   "source": [
    "solar_mass_kg = 1.98848e30 "
   ]
  },
  {
   "cell_type": "code",
   "execution_count": 7,
   "id": "5aebfe6e-9b50-4a87-a0a7-41c3aae69825",
   "metadata": {},
   "outputs": [
    {
     "data": {
      "text/plain": [
       "(299792458.0, 6.6743e-11)"
      ]
     },
     "execution_count": 7,
     "metadata": {},
     "output_type": "execute_result"
    }
   ],
   "source": [
    "c = constants.c\n",
    "G = constants.G\n",
    "c, G"
   ]
  },
  {
   "cell_type": "markdown",
   "id": "3ed454c5-48ce-4677-88ce-8a92dc968e16",
   "metadata": {},
   "source": [
    "## Hawking temperature"
   ]
  },
  {
   "cell_type": "markdown",
   "id": "b4187ad9-4939-405b-bb12-8559d619e065",
   "metadata": {},
   "source": [
    "Hawking temperature [K] for $M = 1$ kg:"
   ]
  },
  {
   "cell_type": "code",
   "execution_count": 8,
   "id": "c946d461-919c-4932-a147-860d27da6aa6",
   "metadata": {},
   "outputs": [
    {
     "data": {
      "text/plain": [
       "1.22690067059402e23"
      ]
     },
     "execution_count": 8,
     "metadata": {},
     "output_type": "execute_result"
    }
   ],
   "source": [
    "TH_kg = hb / kB * c^3/(8*n(pi)*G) \n",
    "TH_kg"
   ]
  },
  {
   "cell_type": "markdown",
   "id": "a018fd1c-a28c-444d-8e7c-d69a2dad85ac",
   "metadata": {},
   "source": [
    "Hawking temperature [K] for $M = 1 \\,M_\\odot$:"
   ]
  },
  {
   "cell_type": "code",
   "execution_count": 9,
   "id": "58b00d81-2edf-4874-b815-98c1e0ecbd39",
   "metadata": {},
   "outputs": [
    {
     "data": {
      "text/plain": [
       "6.17004279949518e-8"
      ]
     },
     "execution_count": 9,
     "metadata": {},
     "output_type": "execute_result"
    }
   ],
   "source": [
    "TH_sol = TH_kg/solar_mass_kg\n",
    "TH_sol"
   ]
  },
  {
   "cell_type": "code",
   "execution_count": 10,
   "id": "f7aca17a-0523-45f7-9945-1bdc812a549b",
   "metadata": {},
   "outputs": [],
   "source": [
    "SgrA_mass_sol = 4.1e6"
   ]
  },
  {
   "cell_type": "code",
   "execution_count": 11,
   "id": "da31e394-6d27-4ed6-a6e8-8dfb3ac67509",
   "metadata": {},
   "outputs": [],
   "source": [
    "M87_mass_sol = 6.5e9"
   ]
  },
  {
   "cell_type": "code",
   "execution_count": 12,
   "id": "557874b3-e9c4-46b8-bb02-a8e317ffd638",
   "metadata": {},
   "outputs": [
    {
     "data": {
      "text/plain": [
       "(4.11336186633012e-9, 1.50488848768175e-14, 9.49237353768489e-18)"
      ]
     },
     "execution_count": 12,
     "metadata": {},
     "output_type": "execute_result"
    }
   ],
   "source": [
    "TH_sol / 15, TH_sol / SgrA_mass_sol, TH_sol / M87_mass_sol "
   ]
  },
  {
   "cell_type": "code",
   "execution_count": 13,
   "id": "4fb6196c-27a8-44a4-9531-f2de96fdbb06",
   "metadata": {},
   "outputs": [
    {
     "data": {
      "text/plain": [
       "3.00350016092694e-6"
      ]
     },
     "execution_count": 13,
     "metadata": {},
     "output_type": "execute_result"
    }
   ],
   "source": [
    "Earth_mass_kg = 5.9724e24 # Particle Data Group, PRD 98, 030001 (2018); http://pdg.lbl.gov/\n",
    "Earth_mass_sol = Earth_mass_kg/solar_mass_kg\n",
    "Earth_mass_sol"
   ]
  },
  {
   "cell_type": "code",
   "execution_count": 14,
   "id": "c1fe945d-bb05-498d-b89c-31d06a066346",
   "metadata": {},
   "outputs": [
    {
     "data": {
      "text/plain": [
       "0.0205428415811737"
      ]
     },
     "execution_count": 14,
     "metadata": {},
     "output_type": "execute_result"
    }
   ],
   "source": [
    "TH_kg / Earth_mass_kg"
   ]
  },
  {
   "cell_type": "code",
   "execution_count": 15,
   "id": "9edabe5e-6f4c-46c2-a406-c7d26f27e780",
   "metadata": {},
   "outputs": [
    {
     "data": {
      "text/plain": [
       "0.0205428415811737"
      ]
     },
     "execution_count": 15,
     "metadata": {},
     "output_type": "execute_result"
    }
   ],
   "source": [
    "TH_sol / Earth_mass_sol"
   ]
  },
  {
   "cell_type": "markdown",
   "id": "a92bb0cb-4db0-4379-8a55-836fabea2d8d",
   "metadata": {},
   "source": [
    "$k_{\\rm B} T_{\\rm H}$ [J] for $M = 1$ kg:"
   ]
  },
  {
   "cell_type": "code",
   "execution_count": 16,
   "id": "ccd27817-4d38-4a14-ba6a-fadb19e8b5fa",
   "metadata": {},
   "outputs": [
    {
     "data": {
      "text/plain": [
       "1.69391918395496"
      ]
     },
     "execution_count": 16,
     "metadata": {},
     "output_type": "execute_result"
    }
   ],
   "source": [
    "kB * TH_kg"
   ]
  },
  {
   "cell_type": "code",
   "execution_count": 17,
   "id": "8418798d-3acb-4739-803e-2ba7dca0f420",
   "metadata": {},
   "outputs": [
    {
     "data": {
      "text/plain": [
       "1.602176634e-19"
      ]
     },
     "execution_count": 17,
     "metadata": {},
     "output_type": "execute_result"
    }
   ],
   "source": [
    "constants.electron_volt"
   ]
  },
  {
   "cell_type": "markdown",
   "id": "089acf67-bd3b-4171-9d26-f3cf6904d2aa",
   "metadata": {},
   "source": [
    "$k_{\\rm B} T_{\\rm H}$ [GeV] for $M = 1$ kg:"
   ]
  },
  {
   "cell_type": "code",
   "execution_count": 18,
   "id": "2cc0219e-a5bc-4563-980d-c608c0ecb9aa",
   "metadata": {},
   "outputs": [
    {
     "data": {
      "text/plain": [
       "1.05726119580580e10"
      ]
     },
     "execution_count": 18,
     "metadata": {},
     "output_type": "execute_result"
    }
   ],
   "source": [
    "kTH_GeV_kg = kB * TH_kg / (1e9*constants.electron_volt)\n",
    "kTH_GeV_kg"
   ]
  },
  {
   "cell_type": "code",
   "execution_count": 19,
   "id": "680c70d0-3d12-41aa-964f-75366bde211d",
   "metadata": {},
   "outputs": [
    {
     "data": {
      "text/plain": [
       "9.1093837015e-31"
      ]
     },
     "execution_count": 19,
     "metadata": {},
     "output_type": "execute_result"
    }
   ],
   "source": [
    "me = constants.electron_mass\n",
    "me"
   ]
  },
  {
   "cell_type": "markdown",
   "id": "e538a442-3b0a-464a-8fe6-dc4ff376eb07",
   "metadata": {},
   "source": [
    "BH mass $M$ [kg] for which $k_{\\rm B} T_{\\rm H} = m_{\\rm e} c^2$:"
   ]
  },
  {
   "cell_type": "code",
   "execution_count": 20,
   "id": "bacd6144-1bc5-4900-95a2-48b9784da055",
   "metadata": {},
   "outputs": [
    {
     "data": {
      "text/plain": [
       "2.06900854847890e13"
      ]
     },
     "execution_count": 20,
     "metadata": {},
     "output_type": "execute_result"
    }
   ],
   "source": [
    "kB * TH_kg / (me * c^2)"
   ]
  },
  {
   "cell_type": "markdown",
   "id": "d44c9810-0e97-4b3f-9f87-cd4cd22c5087",
   "metadata": {},
   "source": [
    "1 eV upper bound on the neutrino mass in kg:"
   ]
  },
  {
   "cell_type": "code",
   "execution_count": 21,
   "id": "413e1341-1f1b-4bf9-9b99-6838b2ea7714",
   "metadata": {},
   "outputs": [
    {
     "data": {
      "text/plain": [
       "1.7826619216278975e-36"
      ]
     },
     "execution_count": 21,
     "metadata": {},
     "output_type": "execute_result"
    }
   ],
   "source": [
    "mnu = 1* constants.electron_volt / c^2\n",
    "mnu"
   ]
  },
  {
   "cell_type": "markdown",
   "id": "f1a0532b-c2ce-4a71-9339-e1e32fc47c56",
   "metadata": {},
   "source": [
    "BH mass $M$ [kg] for which $k_{\\rm B} T_{\\rm H} = m_{\\nu_{\\rm e}} c^2$:"
   ]
  },
  {
   "cell_type": "code",
   "execution_count": 22,
   "id": "fd78cf20-fbb1-4639-b407-10bc37cd51bd",
   "metadata": {},
   "outputs": [
    {
     "data": {
      "text/plain": [
       "1.05726119580580e19"
      ]
     },
     "execution_count": 22,
     "metadata": {},
     "output_type": "execute_result"
    }
   ],
   "source": [
    "kB * TH_kg / (mnu * c^2)"
   ]
  },
  {
   "cell_type": "markdown",
   "id": "76580c63-7cb2-4036-83c3-80a6a648df38",
   "metadata": {},
   "source": [
    "## BH evaporation "
   ]
  },
  {
   "cell_type": "code",
   "execution_count": 23,
   "id": "df15766e-1061-44b3-97e9-100b7a582288",
   "metadata": {},
   "outputs": [
    {
     "data": {
      "text/plain": [
       "0.000139882274201861"
      ]
     },
     "execution_count": 23,
     "metadata": {},
     "output_type": "execute_result"
    }
   ],
   "source": [
    "n(9/(20480*pi))"
   ]
  },
  {
   "cell_type": "code",
   "execution_count": 24,
   "id": "849da63e-7959-45a6-8b6b-0e1203d9fa04",
   "metadata": {},
   "outputs": [
    {
     "data": {
      "text/plain": [
       "31536000.0"
      ]
     },
     "execution_count": 24,
     "metadata": {},
     "output_type": "execute_result"
    }
   ],
   "source": [
    "yr_s = constants.year\n",
    "yr_s"
   ]
  },
  {
   "cell_type": "markdown",
   "id": "0fb24e0e-551f-4aec-b155-d1433a810fec",
   "metadata": {},
   "source": [
    "Value of $C$ as given by Thorne, Zurek & Price (1986):"
   ]
  },
  {
   "cell_type": "code",
   "execution_count": 25,
   "id": "9d1265c4-208d-4397-a93b-48d09690ec2a",
   "metadata": {},
   "outputs": [
    {
     "data": {
      "text/plain": [
       "0.000283000000000000"
      ]
     },
     "execution_count": 25,
     "metadata": {},
     "output_type": "execute_result"
    }
   ],
   "source": [
    "C = 2.83e-4\n",
    "C"
   ]
  },
  {
   "cell_type": "markdown",
   "id": "47c41c28-5c79-415a-b74d-f6a88f449cdd",
   "metadata": {},
   "source": [
    "Comparison with Eq. (19) of [Page (2005)](https://doi.org/10.1088/1367-2630/7/1/203):"
   ]
  },
  {
   "cell_type": "code",
   "execution_count": 26,
   "id": "9165c63d-44bc-414c-a4ee-d18ae2827dd8",
   "metadata": {},
   "outputs": [
    {
     "data": {
      "text/plain": [
       "0.000282964000000000"
      ]
     },
     "execution_count": 26,
     "metadata": {},
     "output_type": "execute_result"
    }
   ],
   "source": [
    "n12 = 3  # 3 neutrinos species (s=1/2)\n",
    "n1 = 1   # 1 photon (s=1)\n",
    "n2 = 1   # 1 graviton (s=2)\n",
    "1e-5*(8.183*n12  + 3.3638*n1 + 0.3836*n2)"
   ]
  },
  {
   "cell_type": "markdown",
   "id": "89b35051-4a37-4741-bbff-abaacf03989d",
   "metadata": {},
   "source": [
    "Comparison with formula (12) of MacGibbons (1991):"
   ]
  },
  {
   "cell_type": "code",
   "execution_count": 27,
   "id": "88a92929-07a5-4476-ad91-5db14af2e005",
   "metadata": {},
   "outputs": [
    {
     "data": {
      "text/plain": [
       "1177.85630153121"
      ]
     },
     "execution_count": 27,
     "metadata": {},
     "output_type": "execute_result"
    }
   ],
   "source": [
    "1/(3*C)"
   ]
  },
  {
   "cell_type": "code",
   "execution_count": 28,
   "id": "dd88e755-5d35-4874-aba1-2b8b155fb190",
   "metadata": {},
   "outputs": [
    {
     "data": {
      "text/plain": [
       "6.15949042276678e-18"
      ]
     },
     "execution_count": 28,
     "metadata": {},
     "output_type": "execute_result"
    }
   ],
   "source": [
    "t_evap_kg_s = G^2/(3*C * hb * c^4)\n",
    "t_evap_kg_s"
   ]
  },
  {
   "cell_type": "markdown",
   "id": "42bdb2b1-a022-4c4b-9231-8d93bdf8d739",
   "metadata": {},
   "source": [
    "Check by comparison with Eq. (2.9) of [MacGibbon, Carr & Page (2008)](https://doi.org/10.1103/PhysRevD.78.064043):"
   ]
  },
  {
   "cell_type": "code",
   "execution_count": 29,
   "id": "d00f8817-1300-48e9-8d6b-2dc3714cfd17",
   "metadata": {},
   "outputs": [
    {
     "data": {
      "text/plain": [
       "6.15949042276678e-27"
      ]
     },
     "execution_count": 29,
     "metadata": {},
     "output_type": "execute_result"
    }
   ],
   "source": [
    "t_evap_g_s = t_evap_kg_s*(1e-3)^3\n",
    "t_evap_g_s"
   ]
  },
  {
   "cell_type": "code",
   "execution_count": 30,
   "id": "d3dd52ca-618c-481c-ba0d-e662abfdd396",
   "metadata": {},
   "outputs": [
    {
     "data": {
      "text/plain": [
       "4.84293305799422e73"
      ]
     },
     "execution_count": 30,
     "metadata": {},
     "output_type": "execute_result"
    }
   ],
   "source": [
    "t_evap_Msol_s = t_evap_kg_s*solar_mass_kg^3\n",
    "t_evap_Msol_s"
   ]
  },
  {
   "cell_type": "code",
   "execution_count": 31,
   "id": "5dbdf63f-8a68-4199-853a-e5c1ae727a77",
   "metadata": {},
   "outputs": [
    {
     "data": {
      "text/plain": [
       "1.53568399860294e66"
      ]
     },
     "execution_count": 31,
     "metadata": {},
     "output_type": "execute_result"
    }
   ],
   "source": [
    "t_evap_Msol_yr = t_evap_Msol_s / yr_s\n",
    "t_evap_Msol_yr"
   ]
  },
  {
   "cell_type": "markdown",
   "id": "2ce12506-126b-46cb-a9bb-a7cd8613f073",
   "metadata": {},
   "source": [
    "Check by comparison with Eq. (8.52) of Thorne, Zurek & Price (1986):"
   ]
  },
  {
   "cell_type": "code",
   "execution_count": 32,
   "id": "9c89e46e-418b-4b30-aa81-41754478224f",
   "metadata": {},
   "outputs": [
    {
     "data": {
      "text/plain": [
       "1.95316160031925e17"
      ]
     },
     "execution_count": 32,
     "metadata": {},
     "output_type": "execute_result"
    }
   ],
   "source": [
    "t_evap_1e14kg_yr = t_evap_kg_s * (1e14)^3 / yr_s\n",
    "t_evap_1e14kg_yr"
   ]
  },
  {
   "cell_type": "markdown",
   "id": "b391df2b-7ef1-4446-bb2e-cb6c4b8325b1",
   "metadata": {},
   "source": [
    "Maximal mass [kg] of a BH to be evaporated since the Universe's birth:"
   ]
  },
  {
   "cell_type": "code",
   "execution_count": 33,
   "id": "039e0e5e-6359-4757-a683-0d96b5ee4b9f",
   "metadata": {},
   "outputs": [
    {
     "data": {
      "text/plain": [
       "4.13409357862484e11"
      ]
     },
     "execution_count": 33,
     "metadata": {},
     "output_type": "execute_result"
    }
   ],
   "source": [
    "t_univ_yr = 13.8e9\n",
    "pow(t_univ_yr / t_evap_Msol_yr, 1/3) * solar_mass_kg"
   ]
  },
  {
   "cell_type": "markdown",
   "id": "ff436563-de00-496a-9fd5-e52f2ff60006",
   "metadata": {},
   "source": [
    "Mass [kg] of a small mountain or half-kilometer size asteroid:"
   ]
  },
  {
   "cell_type": "code",
   "execution_count": 34,
   "id": "77ab0354-8279-4af3-b4de-bd3ef4187ae9",
   "metadata": {},
   "outputs": [
    {
     "data": {
      "text/plain": [
       "6.25000000000000e11"
      ]
     },
     "execution_count": 34,
     "metadata": {},
     "output_type": "execute_result"
    }
   ],
   "source": [
    "500^3*5e3"
   ]
  },
  {
   "cell_type": "markdown",
   "id": "daffa1dd-31f6-438f-bea0-df160375234c",
   "metadata": {},
   "source": [
    "Schwarzschild radius [m] of a BH of mass $5\\; 10^{11}$ kg:"
   ]
  },
  {
   "cell_type": "code",
   "execution_count": 35,
   "id": "4282ae26-4603-46f2-9ea9-172e3cbe990b",
   "metadata": {},
   "outputs": [
    {
     "data": {
      "text/plain": [
       "7.42616026911866e-16"
      ]
     },
     "execution_count": 35,
     "metadata": {},
     "output_type": "execute_result"
    }
   ],
   "source": [
    "2*G*5e11/c^2"
   ]
  },
  {
   "cell_type": "markdown",
   "id": "647e6488-c23b-4435-858a-b9b81e64cfde",
   "metadata": {},
   "source": [
    "Mass [kg] of a BH having a Schwarzschild radius $R = 1$ fm:"
   ]
  },
  {
   "cell_type": "code",
   "execution_count": 36,
   "id": "04036393-29b5-49e8-b10f-37e34880be45",
   "metadata": {},
   "outputs": [
    {
     "data": {
      "text/plain": [
       "6.73295460750055e11"
      ]
     },
     "execution_count": 36,
     "metadata": {},
     "output_type": "execute_result"
    }
   ],
   "source": [
    "c^2 / (2*G) * 1e-15"
   ]
  },
  {
   "cell_type": "markdown",
   "id": "b9fa6ed3-62cc-441b-a21a-f454b823235f",
   "metadata": {},
   "source": [
    "Mass [kg] of a BH having a Schwarzschild radius $R = 3$ km:"
   ]
  },
  {
   "cell_type": "code",
   "execution_count": 37,
   "id": "50bdbe82-a590-4bd7-aa53-eaeabb23a36a",
   "metadata": {},
   "outputs": [
    {
     "data": {
      "text/plain": [
       "2.01988638225016e30"
      ]
     },
     "execution_count": 37,
     "metadata": {},
     "output_type": "execute_result"
    }
   ],
   "source": [
    "c^2 / (2*G) * 3e3"
   ]
  },
  {
   "cell_type": "markdown",
   "id": "7bcd204b-61a8-4fd0-82b3-361e33a987eb",
   "metadata": {},
   "source": [
    "## Bekenstein-Hawking entropy"
   ]
  },
  {
   "cell_type": "markdown",
   "id": "79a58de4-11db-4334-b01b-5a8d0c14d8f2",
   "metadata": {},
   "source": [
    "Planck length [m]:"
   ]
  },
  {
   "cell_type": "code",
   "execution_count": 38,
   "id": "036273cc-da81-4219-b956-d07341cdb4c5",
   "metadata": {},
   "outputs": [
    {
     "data": {
      "text/plain": [
       "1.6162550244237053e-35"
      ]
     },
     "execution_count": 38,
     "metadata": {},
     "output_type": "execute_result"
    }
   ],
   "source": [
    "sqrt(G*hb/c^3)"
   ]
  },
  {
   "cell_type": "markdown",
   "id": "159a99e1-b543-4bb2-84d0-4c0fcdc1955e",
   "metadata": {},
   "source": [
    "Bekenstein-Hawking entropy [$k_{\\rm B}$] for $M = 1$ kg:"
   ]
  },
  {
   "cell_type": "code",
   "execution_count": 39,
   "id": "54ca314d-dd2b-40ad-8962-b5f8142c8293",
   "metadata": {},
   "outputs": [
    {
     "data": {
      "text/plain": [
       "2.65288682969634e16"
      ]
     },
     "execution_count": 39,
     "metadata": {},
     "output_type": "execute_result"
    }
   ],
   "source": [
    "SBH_kg = 4*n(pi)*G/(hb*c)\n",
    "SBH_kg"
   ]
  },
  {
   "cell_type": "markdown",
   "id": "0dc713ca-f428-4cff-b264-acae9bdccefe",
   "metadata": {},
   "source": [
    "Bekenstein-Hawking entropy [$k_{\\rm B}$] for $M = 1 M_\\odot$:"
   ]
  },
  {
   "cell_type": "code",
   "execution_count": 40,
   "id": "8140a392-ecc9-400d-a2f9-f04af0e84c36",
   "metadata": {},
   "outputs": [
    {
     "data": {
      "text/plain": [
       "1.04896543593453e77"
      ]
     },
     "execution_count": 40,
     "metadata": {},
     "output_type": "execute_result"
    }
   ],
   "source": [
    "SBH_sol = SBH_kg*solar_mass_kg^2\n",
    "SBH_sol"
   ]
  },
  {
   "cell_type": "code",
   "execution_count": 41,
   "id": "3277f066-62ee-4b16-a65a-6bb81a426b3b",
   "metadata": {},
   "outputs": [
    {
     "data": {
      "text/plain": [
       "(2.36017223085269e79, 1.76331089780594e90, 4.43187896682338e96)"
      ]
     },
     "execution_count": 41,
     "metadata": {},
     "output_type": "execute_result"
    }
   ],
   "source": [
    "SBH_sol * 15^2, SBH_sol * SgrA_mass_sol^2, SBH_sol * M87_mass_sol^2 "
   ]
  },
  {
   "cell_type": "code",
   "execution_count": null,
   "id": "1cb6b37e-caae-4716-83c5-d75cb9c1fc46",
   "metadata": {},
   "outputs": [],
   "source": []
  }
 ],
 "metadata": {
  "kernelspec": {
   "display_name": "SageMath 10.4.beta5",
   "language": "sage",
   "name": "sagemath"
  },
  "language_info": {
   "codemirror_mode": {
    "name": "ipython",
    "version": 3
   },
   "file_extension": ".py",
   "mimetype": "text/x-python",
   "name": "python",
   "nbconvert_exporter": "python",
   "pygments_lexer": "ipython3",
   "version": "3.10.12"
  }
 },
 "nbformat": 4,
 "nbformat_minor": 5
}
