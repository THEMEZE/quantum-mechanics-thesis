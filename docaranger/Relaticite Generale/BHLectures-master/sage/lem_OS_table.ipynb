{
 "cells": [
  {
   "cell_type": "markdown",
   "id": "3a2821cb",
   "metadata": {},
   "source": [
    "# Table of numerical values for the Oppenheimer-Snyder collpase"
   ]
  },
  {
   "cell_type": "markdown",
   "id": "d2a4b0fd",
   "metadata": {},
   "source": [
    "Fundamental constants in SI units:"
   ]
  },
  {
   "cell_type": "code",
   "execution_count": 1,
   "id": "51fabbcf",
   "metadata": {},
   "outputs": [
    {
     "data": {
      "text/plain": [
       "(299792458.0, 6.6743e-11)"
      ]
     },
     "execution_count": 1,
     "metadata": {},
     "output_type": "execute_result"
    }
   ],
   "source": [
    "from scipy import constants\n",
    "c = constants.c\n",
    "G = constants.G\n",
    "c, G"
   ]
  },
  {
   "cell_type": "code",
   "execution_count": 2,
   "id": "9cbf4d5f",
   "metadata": {},
   "outputs": [],
   "source": [
    "Msol = 1.98848e30\n",
    "Rsol = 6.96e8"
   ]
  },
  {
   "cell_type": "code",
   "execution_count": 3,
   "id": "c46b7bb4",
   "metadata": {},
   "outputs": [
    {
     "data": {
      "text/plain": [
       "8352.00000000000"
      ]
     },
     "execution_count": 3,
     "metadata": {},
     "output_type": "execute_result"
    }
   ],
   "source": [
    "0.012*Rsol/1000"
   ]
  },
  {
   "cell_type": "code",
   "execution_count": 4,
   "id": "f9ce7197",
   "metadata": {},
   "outputs": [
    {
     "data": {
      "text/plain": [
       "[(5.97200000000000e24, 6.37100000000000e6),\n",
       " (1.98848000000000e30, 6.96000000000000e8),\n",
       " (1.19308800000000e30, 8.00000000000000e6),\n",
       " (2.78387200000000e30, 12000.0000000000)]"
      ]
     },
     "execution_count": 4,
     "metadata": {},
     "output_type": "execute_result"
    }
   ],
   "source": [
    "bodies = [(5.972e24, 6.371e6), (Msol, Rsol), (0.6*Msol, 8e6), (1.4*Msol, 1.2e4)]\n",
    "bodies"
   ]
  },
  {
   "cell_type": "code",
   "execution_count": 5,
   "id": "ab99beb1",
   "metadata": {
    "scrolled": false
   },
   "outputs": [
    {
     "name": "stdout",
     "output_type": "stream",
     "text": [
      "m0/Msol:  3.00329900225298e-6\n",
      "r0 [km]:  6371.00000000000\n",
      "m0/r0:  6.96107818665463e-10\n",
      "chis:  0.0000373124059526723\n",
      "rho0:  5513.25873858909\n",
      "tau_end [s]:  894.650739950216  test:  2.27373675443232e-13\n",
      "tau_end [min]:  14.9108456658369\n",
      "tau_star [s], [min] :  894.650739950197 14.9108456658366\n",
      "tau_end - tau_star [s] [μs]:  1.97243235532305e-11 0.0000197243235532305\n",
      "tau_bh [s], [min] :  894.650739950150 14.9108456658358\n",
      "tau_end - tau_bh [s] [μs]:  6.65695968164489e-11 0.0000665695968164489\n",
      "rho_hb, rho_hb_chis2 1.79366489259658e29 1.79366485475957e29\n",
      " \n",
      "m0/Msol:  1.00000000000000\n",
      "r0 [km]:  696000.000000000\n",
      "m0/r0:  2.12166252470360e-6\n",
      "chis:  0.00205993472016873\n",
      "rho0:  1408.00727612437\n",
      "tau_end [s]:  1770.33421572414  test:  -2.27373675443232e-13\n",
      "tau_end [min]:  29.5055702620691\n",
      "tau_star [s], [min] :  1770.33420915658 29.5055701526097\n",
      "tau_end - tau_star [s] [μs]:  6.56756124734685e-6 6.56756124734685\n",
      "tau_bh [s], [min] :  1770.33419355865 29.5055698926441\n",
      "tau_end - tau_bh [s] [μs]:  0.0000221654956950720 22.1654956950720\n",
      "rho_hb, rho_hb_chis2 1.61785928258533e18 1.61785928257148e18\n",
      " \n",
      "m0/Msol:  0.600000000000000\n",
      "r0 [km]:  8000.00000000000\n",
      "m0/r0:  0.000110750783789528\n",
      "chis:  0.0148834782166719\n",
      "rho0:  5.56306209209834e8\n",
      "tau_end [s]:  2.81644165605950  test:  0.000000000000000\n",
      "tau_end [min]:  0.0469406942676583\n",
      "tau_star [s], [min] :  2.81643771526589 0.0469406285877648\n",
      "tau_end - tau_star [s] [μs]:  3.94079361323390e-6 3.94079361323390\n",
      "tau_bh [s], [min] :  2.81642835661760 0.0469404726102933\n",
      "tau_end - tau_bh [s] [μs]:  0.0000132994419055579 13.2994419055579\n",
      "rho_hb, rho_hb_chis2 4.49527431296783e18 4.49527411079676e18\n",
      " \n",
      "m0/Msol:  1.40000000000000\n",
      "r0 [km]:  12.0000000000000\n",
      "m0/r0:  0.172278997005933\n",
      "chis:  0.627336667606611\n",
      "rho0:  3.84606761922848e17\n",
      "tau_end [s]:  0.000107114744196599  test:  -1.35525271560688e-20\n",
      "tau_end [min]:  1.78524573660999e-6\n",
      "tau_star [s], [min] :  0.0000967419690647016 1.61236615107836e-6\n",
      "tau_end - tau_star [s] [μs]:  0.0000103727751318976 10.3727751318976\n",
      "tau_bh [s], [min] :  0.0000754041445678369 1.25673574279728e-6\n",
      "tau_end - tau_bh [s] [μs]:  0.0000317105996287623 31.7105996287623\n",
      "rho_hb, rho_hb_chis2 1.38058663403609e18 1.23149732066000e18\n",
      " \n"
     ]
    }
   ],
   "source": [
    "for m0, r0 in bodies:\n",
    "    npi = n(pi)\n",
    "    print(\"m0/Msol: \", m0/Msol)\n",
    "    print(\"r0 [km]: \", r0/1e3)\n",
    "    xi = G*m0/(c^2*r0)\n",
    "    print(\"m0/r0: \", xi)\n",
    "    chis = asin(sqrt(2*xi))\n",
    "    print(\"chis: \", chis)\n",
    "    rho0 = 3*m0/(4*npi*r0^3)\n",
    "    print(\"rho0: \", rho0)\n",
    "    tau_end = npi*G*m0/(c*sin(chis))^3\n",
    "    tau_end1 = sqrt(3*npi/(32*G*rho0))\n",
    "    print(\"tau_end [s]: \", tau_end, \" test: \", tau_end1 - tau_end)\n",
    "    print(\"tau_end [min]: \", tau_end/60.)\n",
    "    xx = (2*chis - sin(2*chis))/npi\n",
    "    tau_star = (1 - xx)*tau_end\n",
    "    print(\"tau_star [s], [min] : \", tau_star, tau_star/60.)\n",
    "    print(\"tau_end - tau_star [s] [μs]: \", xx*tau_end, xx*tau_end*1e6)\n",
    "    xx = (3*chis - sin(3*chis))/npi\n",
    "    tau_bh = (1 - xx)*tau_end\n",
    "    print(\"tau_bh [s], [min] : \", tau_bh, tau_bh/60.)\n",
    "    print(\"tau_end - tau_bh [s] [μs]: \", xx*tau_end, xx*tau_end*1e6)\n",
    "    rho_hb = 3*c^6/(4*npi*(G^3*m0^2))*sin(chis)^6/(1 - cos(3*chis))^3\n",
    "    rho_hb_chis2 =  2*c^6/(243*npi*(G^3*m0^2))*(1 + 1.25*chis^2)\n",
    "    print(\"rho_hb, rho_hb_chis2\", rho_hb, rho_hb_chis2)\n",
    "    print(\" \")"
   ]
  },
  {
   "cell_type": "code",
   "execution_count": null,
   "id": "bea792fe",
   "metadata": {},
   "outputs": [],
   "source": []
  }
 ],
 "metadata": {
  "kernelspec": {
   "display_name": "SageMath 9.5.beta7",
   "language": "sage",
   "name": "sagemath"
  },
  "language_info": {
   "codemirror_mode": {
    "name": "ipython",
    "version": 3
   },
   "file_extension": ".py",
   "mimetype": "text/x-python",
   "name": "python",
   "nbconvert_exporter": "python",
   "pygments_lexer": "ipython3",
   "version": "3.8.10"
  }
 },
 "nbformat": 4,
 "nbformat_minor": 5
}
