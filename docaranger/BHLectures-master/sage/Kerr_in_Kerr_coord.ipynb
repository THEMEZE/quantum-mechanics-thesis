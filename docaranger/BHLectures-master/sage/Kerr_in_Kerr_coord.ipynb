{
 "cells": [
  {
   "cell_type": "markdown",
   "metadata": {},
   "source": [
    "# Kerr spacetime in Kerr coordinates\n",
    "\n",
    "This SageMath notebook is relative to the lectures\n",
    "[Geometry and physics of black holes](https://relativite.obspm.fr/blackholes/).\n",
    "The computations are based on tools developed through the [SageManifolds](http://sagemanifolds.obspm.fr) project."
   ]
  },
  {
   "cell_type": "markdown",
   "metadata": {},
   "source": [
    "*NB:* a version of [SageMath](https://www.sagemath.org/) at least equal to 9.1 is required to run this notebook:"
   ]
  },
  {
   "cell_type": "code",
   "execution_count": 1,
   "metadata": {},
   "outputs": [
    {
     "data": {
      "text/plain": [
       "'SageMath version 10.2.beta8, Release Date: 2023-10-21'"
      ]
     },
     "execution_count": 1,
     "metadata": {},
     "output_type": "execute_result"
    }
   ],
   "source": [
    "version()"
   ]
  },
  {
   "cell_type": "markdown",
   "metadata": {},
   "source": [
    "First we set up the notebook to display mathematical objects using LaTeX formatting:"
   ]
  },
  {
   "cell_type": "code",
   "execution_count": 2,
   "metadata": {},
   "outputs": [],
   "source": [
    "%display latex"
   ]
  },
  {
   "cell_type": "markdown",
   "metadata": {},
   "source": [
    "To speed up computations, we ask for running them in parallel on 8 threads:"
   ]
  },
  {
   "cell_type": "code",
   "execution_count": 3,
   "metadata": {},
   "outputs": [],
   "source": [
    "Parallelism().set(nproc=8)"
   ]
  },
  {
   "cell_type": "markdown",
   "metadata": {},
   "source": [
    "## Spacetime\n",
    "\n",
    "We declare the spacetime manifold $M$:"
   ]
  },
  {
   "cell_type": "code",
   "execution_count": 4,
   "metadata": {},
   "outputs": [
    {
     "name": "stdout",
     "output_type": "stream",
     "text": [
      "4-dimensional differentiable manifold M\n"
     ]
    }
   ],
   "source": [
    "M = Manifold(4, 'M')\n",
    "print(M)"
   ]
  },
  {
   "cell_type": "markdown",
   "metadata": {},
   "source": [
    "and the Kerr coordinates $(t,r,\\theta,\\phi)$ as a chart on $M$:"
   ]
  },
  {
   "cell_type": "code",
   "execution_count": 5,
   "metadata": {},
   "outputs": [
    {
     "data": {
      "text/html": [
       "<html>\\(\\displaystyle \\left(M,(t, r, {\\theta}, {\\phi})\\right)\\)</html>"
      ],
      "text/latex": [
       "$\\displaystyle \\left(M,(t, r, {\\theta}, {\\phi})\\right)$"
      ],
      "text/plain": [
       "Chart (M, (t, r, th, ph))"
      ]
     },
     "execution_count": 5,
     "metadata": {},
     "output_type": "execute_result"
    }
   ],
   "source": [
    "X.<t,r,th,ph> = M.chart(r't r th:(0,pi):\\theta ph:(0,2*pi):\\phi')\n",
    "X"
   ]
  },
  {
   "cell_type": "code",
   "execution_count": 6,
   "metadata": {},
   "outputs": [
    {
     "data": {
      "text/html": [
       "<html>\\(\\displaystyle t :\\ \\left( -\\infty, +\\infty \\right) ;\\quad r :\\ \\left( -\\infty, +\\infty \\right) ;\\quad {\\theta} :\\ \\left( 0 , \\pi \\right) ;\\quad {\\phi} :\\ \\left( 0 , 2 \\, \\pi \\right)\\)</html>"
      ],
      "text/latex": [
       "$\\displaystyle t :\\ \\left( -\\infty, +\\infty \\right) ;\\quad r :\\ \\left( -\\infty, +\\infty \\right) ;\\quad {\\theta} :\\ \\left( 0 , \\pi \\right) ;\\quad {\\phi} :\\ \\left( 0 , 2 \\, \\pi \\right)$"
      ],
      "text/plain": [
       "t: (-oo, +oo); r: (-oo, +oo); th: (0, pi); ph: (0, 2*pi)"
      ]
     },
     "execution_count": 6,
     "metadata": {},
     "output_type": "execute_result"
    }
   ],
   "source": [
    "X.coord_range()"
   ]
  },
  {
   "cell_type": "markdown",
   "metadata": {},
   "source": [
    "The Kerr parameters $m$ and $a$:"
   ]
  },
  {
   "cell_type": "code",
   "execution_count": 7,
   "metadata": {},
   "outputs": [],
   "source": [
    "m = var('m', domain='real')\n",
    "assume(m>0)\n",
    "a = var('a', domain='real')\n",
    "assume(a>=0)"
   ]
  },
  {
   "cell_type": "markdown",
   "metadata": {},
   "source": [
    "## Kerr metric\n",
    "\n",
    "We define the metric $g$ by its components w.r.t. Kerr coordinates:"
   ]
  },
  {
   "cell_type": "code",
   "execution_count": 8,
   "metadata": {},
   "outputs": [
    {
     "data": {
      "text/html": [
       "<html>\\(\\displaystyle g = \\left( \\frac{2 \\, m r}{a^{2} \\cos\\left({\\theta}\\right)^{2} + r^{2}} - 1 \\right) \\mathrm{d} t\\otimes \\mathrm{d} t + \\left( \\frac{2 \\, m r}{a^{2} \\cos\\left({\\theta}\\right)^{2} + r^{2}} \\right) \\mathrm{d} t\\otimes \\mathrm{d} r + \\left( -\\frac{2 \\, a m r \\sin\\left({\\theta}\\right)^{2}}{a^{2} \\cos\\left({\\theta}\\right)^{2} + r^{2}} \\right) \\mathrm{d} t\\otimes \\mathrm{d} {\\phi} + \\left( \\frac{2 \\, m r}{a^{2} \\cos\\left({\\theta}\\right)^{2} + r^{2}} \\right) \\mathrm{d} r\\otimes \\mathrm{d} t + \\left( \\frac{2 \\, m r}{a^{2} \\cos\\left({\\theta}\\right)^{2} + r^{2}} + 1 \\right) \\mathrm{d} r\\otimes \\mathrm{d} r -a {\\left(\\frac{2 \\, m r}{a^{2} \\cos\\left({\\theta}\\right)^{2} + r^{2}} + 1\\right)} \\sin\\left({\\theta}\\right)^{2} \\mathrm{d} r\\otimes \\mathrm{d} {\\phi} + \\left( a^{2} \\cos\\left({\\theta}\\right)^{2} + r^{2} \\right) \\mathrm{d} {\\theta}\\otimes \\mathrm{d} {\\theta} + \\left( -\\frac{2 \\, a m r \\sin\\left({\\theta}\\right)^{2}}{a^{2} \\cos\\left({\\theta}\\right)^{2} + r^{2}} \\right) \\mathrm{d} {\\phi}\\otimes \\mathrm{d} t -a {\\left(\\frac{2 \\, m r}{a^{2} \\cos\\left({\\theta}\\right)^{2} + r^{2}} + 1\\right)} \\sin\\left({\\theta}\\right)^{2} \\mathrm{d} {\\phi}\\otimes \\mathrm{d} r + {\\left(\\frac{2 \\, a^{2} m r \\sin\\left({\\theta}\\right)^{2}}{a^{2} \\cos\\left({\\theta}\\right)^{2} + r^{2}} + a^{2} + r^{2}\\right)} \\sin\\left({\\theta}\\right)^{2} \\mathrm{d} {\\phi}\\otimes \\mathrm{d} {\\phi}\\)</html>"
      ],
      "text/latex": [
       "$\\displaystyle g = \\left( \\frac{2 \\, m r}{a^{2} \\cos\\left({\\theta}\\right)^{2} + r^{2}} - 1 \\right) \\mathrm{d} t\\otimes \\mathrm{d} t + \\left( \\frac{2 \\, m r}{a^{2} \\cos\\left({\\theta}\\right)^{2} + r^{2}} \\right) \\mathrm{d} t\\otimes \\mathrm{d} r + \\left( -\\frac{2 \\, a m r \\sin\\left({\\theta}\\right)^{2}}{a^{2} \\cos\\left({\\theta}\\right)^{2} + r^{2}} \\right) \\mathrm{d} t\\otimes \\mathrm{d} {\\phi} + \\left( \\frac{2 \\, m r}{a^{2} \\cos\\left({\\theta}\\right)^{2} + r^{2}} \\right) \\mathrm{d} r\\otimes \\mathrm{d} t + \\left( \\frac{2 \\, m r}{a^{2} \\cos\\left({\\theta}\\right)^{2} + r^{2}} + 1 \\right) \\mathrm{d} r\\otimes \\mathrm{d} r -a {\\left(\\frac{2 \\, m r}{a^{2} \\cos\\left({\\theta}\\right)^{2} + r^{2}} + 1\\right)} \\sin\\left({\\theta}\\right)^{2} \\mathrm{d} r\\otimes \\mathrm{d} {\\phi} + \\left( a^{2} \\cos\\left({\\theta}\\right)^{2} + r^{2} \\right) \\mathrm{d} {\\theta}\\otimes \\mathrm{d} {\\theta} + \\left( -\\frac{2 \\, a m r \\sin\\left({\\theta}\\right)^{2}}{a^{2} \\cos\\left({\\theta}\\right)^{2} + r^{2}} \\right) \\mathrm{d} {\\phi}\\otimes \\mathrm{d} t -a {\\left(\\frac{2 \\, m r}{a^{2} \\cos\\left({\\theta}\\right)^{2} + r^{2}} + 1\\right)} \\sin\\left({\\theta}\\right)^{2} \\mathrm{d} {\\phi}\\otimes \\mathrm{d} r + {\\left(\\frac{2 \\, a^{2} m r \\sin\\left({\\theta}\\right)^{2}}{a^{2} \\cos\\left({\\theta}\\right)^{2} + r^{2}} + a^{2} + r^{2}\\right)} \\sin\\left({\\theta}\\right)^{2} \\mathrm{d} {\\phi}\\otimes \\mathrm{d} {\\phi}$"
      ],
      "text/plain": [
       "g = (2*m*r/(a^2*cos(th)^2 + r^2) - 1) dt⊗dt + 2*m*r/(a^2*cos(th)^2 + r^2) dt⊗dr - 2*a*m*r*sin(th)^2/(a^2*cos(th)^2 + r^2) dt⊗dph + 2*m*r/(a^2*cos(th)^2 + r^2) dr⊗dt + (2*m*r/(a^2*cos(th)^2 + r^2) + 1) dr⊗dr - a*(2*m*r/(a^2*cos(th)^2 + r^2) + 1)*sin(th)^2 dr⊗dph + (a^2*cos(th)^2 + r^2) dth⊗dth - 2*a*m*r*sin(th)^2/(a^2*cos(th)^2 + r^2) dph⊗dt - a*(2*m*r/(a^2*cos(th)^2 + r^2) + 1)*sin(th)^2 dph⊗dr + (2*a^2*m*r*sin(th)^2/(a^2*cos(th)^2 + r^2) + a^2 + r^2)*sin(th)^2 dph⊗dph"
      ]
     },
     "execution_count": 8,
     "metadata": {},
     "output_type": "execute_result"
    }
   ],
   "source": [
    "g = M.lorentzian_metric('g')\n",
    "rho2 = r^2 + (a*cos(th))^2\n",
    "g[0,0] = -(1 - 2*m*r/rho2)\n",
    "g[0,1] = 2*m*r/rho2\n",
    "g[0,3] = -2*a*m*r*sin(th)^2/rho2\n",
    "g[1,1] = 1 + 2*m*r/rho2\n",
    "g[1,3] = -a*(1 + 2*m*r/rho2)*sin(th)^2\n",
    "g[2,2] = rho2\n",
    "g[3,3] = (r^2+a^2+2*m*r*(a*sin(th))^2/rho2)*sin(th)^2\n",
    "g.display()"
   ]
  },
  {
   "cell_type": "code",
   "execution_count": 9,
   "metadata": {},
   "outputs": [
    {
     "data": {
      "text/html": [
       "<html>\\(\\displaystyle \\begin{array}{lcl} g_{ \\, t \\, t }^{ \\phantom{\\, t}\\phantom{\\, t} } & = & \\frac{2 \\, m r}{a^{2} \\cos\\left({\\theta}\\right)^{2} + r^{2}} - 1 \\\\ g_{ \\, t \\, r }^{ \\phantom{\\, t}\\phantom{\\, r} } & = & \\frac{2 \\, m r}{a^{2} \\cos\\left({\\theta}\\right)^{2} + r^{2}} \\\\ g_{ \\, t \\, {\\phi} }^{ \\phantom{\\, t}\\phantom{\\, {\\phi}} } & = & -\\frac{2 \\, a m r \\sin\\left({\\theta}\\right)^{2}}{a^{2} \\cos\\left({\\theta}\\right)^{2} + r^{2}} \\\\ g_{ \\, r \\, t }^{ \\phantom{\\, r}\\phantom{\\, t} } & = & \\frac{2 \\, m r}{a^{2} \\cos\\left({\\theta}\\right)^{2} + r^{2}} \\\\ g_{ \\, r \\, r }^{ \\phantom{\\, r}\\phantom{\\, r} } & = & \\frac{2 \\, m r}{a^{2} \\cos\\left({\\theta}\\right)^{2} + r^{2}} + 1 \\\\ g_{ \\, r \\, {\\phi} }^{ \\phantom{\\, r}\\phantom{\\, {\\phi}} } & = & -a {\\left(\\frac{2 \\, m r}{a^{2} \\cos\\left({\\theta}\\right)^{2} + r^{2}} + 1\\right)} \\sin\\left({\\theta}\\right)^{2} \\\\ g_{ \\, {\\theta} \\, {\\theta} }^{ \\phantom{\\, {\\theta}}\\phantom{\\, {\\theta}} } & = & a^{2} \\cos\\left({\\theta}\\right)^{2} + r^{2} \\\\ g_{ \\, {\\phi} \\, t }^{ \\phantom{\\, {\\phi}}\\phantom{\\, t} } & = & -\\frac{2 \\, a m r \\sin\\left({\\theta}\\right)^{2}}{a^{2} \\cos\\left({\\theta}\\right)^{2} + r^{2}} \\\\ g_{ \\, {\\phi} \\, r }^{ \\phantom{\\, {\\phi}}\\phantom{\\, r} } & = & -a {\\left(\\frac{2 \\, m r}{a^{2} \\cos\\left({\\theta}\\right)^{2} + r^{2}} + 1\\right)} \\sin\\left({\\theta}\\right)^{2} \\\\ g_{ \\, {\\phi} \\, {\\phi} }^{ \\phantom{\\, {\\phi}}\\phantom{\\, {\\phi}} } & = & {\\left(\\frac{2 \\, a^{2} m r \\sin\\left({\\theta}\\right)^{2}}{a^{2} \\cos\\left({\\theta}\\right)^{2} + r^{2}} + a^{2} + r^{2}\\right)} \\sin\\left({\\theta}\\right)^{2} \\end{array}\\)</html>"
      ],
      "text/latex": [
       "$\\displaystyle \\begin{array}{lcl} g_{ \\, t \\, t }^{ \\phantom{\\, t}\\phantom{\\, t} } & = & \\frac{2 \\, m r}{a^{2} \\cos\\left({\\theta}\\right)^{2} + r^{2}} - 1 \\\\ g_{ \\, t \\, r }^{ \\phantom{\\, t}\\phantom{\\, r} } & = & \\frac{2 \\, m r}{a^{2} \\cos\\left({\\theta}\\right)^{2} + r^{2}} \\\\ g_{ \\, t \\, {\\phi} }^{ \\phantom{\\, t}\\phantom{\\, {\\phi}} } & = & -\\frac{2 \\, a m r \\sin\\left({\\theta}\\right)^{2}}{a^{2} \\cos\\left({\\theta}\\right)^{2} + r^{2}} \\\\ g_{ \\, r \\, t }^{ \\phantom{\\, r}\\phantom{\\, t} } & = & \\frac{2 \\, m r}{a^{2} \\cos\\left({\\theta}\\right)^{2} + r^{2}} \\\\ g_{ \\, r \\, r }^{ \\phantom{\\, r}\\phantom{\\, r} } & = & \\frac{2 \\, m r}{a^{2} \\cos\\left({\\theta}\\right)^{2} + r^{2}} + 1 \\\\ g_{ \\, r \\, {\\phi} }^{ \\phantom{\\, r}\\phantom{\\, {\\phi}} } & = & -a {\\left(\\frac{2 \\, m r}{a^{2} \\cos\\left({\\theta}\\right)^{2} + r^{2}} + 1\\right)} \\sin\\left({\\theta}\\right)^{2} \\\\ g_{ \\, {\\theta} \\, {\\theta} }^{ \\phantom{\\, {\\theta}}\\phantom{\\, {\\theta}} } & = & a^{2} \\cos\\left({\\theta}\\right)^{2} + r^{2} \\\\ g_{ \\, {\\phi} \\, t }^{ \\phantom{\\, {\\phi}}\\phantom{\\, t} } & = & -\\frac{2 \\, a m r \\sin\\left({\\theta}\\right)^{2}}{a^{2} \\cos\\left({\\theta}\\right)^{2} + r^{2}} \\\\ g_{ \\, {\\phi} \\, r }^{ \\phantom{\\, {\\phi}}\\phantom{\\, r} } & = & -a {\\left(\\frac{2 \\, m r}{a^{2} \\cos\\left({\\theta}\\right)^{2} + r^{2}} + 1\\right)} \\sin\\left({\\theta}\\right)^{2} \\\\ g_{ \\, {\\phi} \\, {\\phi} }^{ \\phantom{\\, {\\phi}}\\phantom{\\, {\\phi}} } & = & {\\left(\\frac{2 \\, a^{2} m r \\sin\\left({\\theta}\\right)^{2}}{a^{2} \\cos\\left({\\theta}\\right)^{2} + r^{2}} + a^{2} + r^{2}\\right)} \\sin\\left({\\theta}\\right)^{2} \\end{array}$"
      ],
      "text/plain": [
       "g_t,t = 2*m*r/(a^2*cos(th)^2 + r^2) - 1 \n",
       "g_t,r = 2*m*r/(a^2*cos(th)^2 + r^2) \n",
       "g_t,ph = -2*a*m*r*sin(th)^2/(a^2*cos(th)^2 + r^2) \n",
       "g_r,t = 2*m*r/(a^2*cos(th)^2 + r^2) \n",
       "g_r,r = 2*m*r/(a^2*cos(th)^2 + r^2) + 1 \n",
       "g_r,ph = -a*(2*m*r/(a^2*cos(th)^2 + r^2) + 1)*sin(th)^2 \n",
       "g_th,th = a^2*cos(th)^2 + r^2 \n",
       "g_ph,t = -2*a*m*r*sin(th)^2/(a^2*cos(th)^2 + r^2) \n",
       "g_ph,r = -a*(2*m*r/(a^2*cos(th)^2 + r^2) + 1)*sin(th)^2 \n",
       "g_ph,ph = (2*a^2*m*r*sin(th)^2/(a^2*cos(th)^2 + r^2) + a^2 + r^2)*sin(th)^2 "
      ]
     },
     "execution_count": 9,
     "metadata": {},
     "output_type": "execute_result"
    }
   ],
   "source": [
    "g.display_comp()"
   ]
  },
  {
   "cell_type": "markdown",
   "metadata": {},
   "source": [
    "The inverse metric is pretty simple:"
   ]
  },
  {
   "cell_type": "code",
   "execution_count": 10,
   "metadata": {},
   "outputs": [
    {
     "data": {
      "text/html": [
       "<html>\\(\\displaystyle \\left(\\begin{array}{rrrr}\n",
       "-\\frac{a^{2} \\cos\\left({\\theta}\\right)^{2} + 2 \\, m r + r^{2}}{a^{2} \\cos\\left({\\theta}\\right)^{2} + r^{2}} & \\frac{2 \\, m r}{a^{2} \\cos\\left({\\theta}\\right)^{2} + r^{2}} & 0 & 0 \\\\\n",
       "\\frac{2 \\, m r}{a^{2} \\cos\\left({\\theta}\\right)^{2} + r^{2}} & \\frac{a^{2} - 2 \\, m r + r^{2}}{a^{2} \\cos\\left({\\theta}\\right)^{2} + r^{2}} & 0 & \\frac{a}{a^{2} \\cos\\left({\\theta}\\right)^{2} + r^{2}} \\\\\n",
       "0 & 0 & \\frac{1}{a^{2} \\cos\\left({\\theta}\\right)^{2} + r^{2}} & 0 \\\\\n",
       "0 & \\frac{a}{a^{2} \\cos\\left({\\theta}\\right)^{2} + r^{2}} & 0 & -\\frac{1}{a^{2} \\sin\\left({\\theta}\\right)^{4} - {\\left(a^{2} + r^{2}\\right)} \\sin\\left({\\theta}\\right)^{2}}\n",
       "\\end{array}\\right)\\)</html>"
      ],
      "text/latex": [
       "$\\displaystyle \\left(\\begin{array}{rrrr}\n",
       "-\\frac{a^{2} \\cos\\left({\\theta}\\right)^{2} + 2 \\, m r + r^{2}}{a^{2} \\cos\\left({\\theta}\\right)^{2} + r^{2}} & \\frac{2 \\, m r}{a^{2} \\cos\\left({\\theta}\\right)^{2} + r^{2}} & 0 & 0 \\\\\n",
       "\\frac{2 \\, m r}{a^{2} \\cos\\left({\\theta}\\right)^{2} + r^{2}} & \\frac{a^{2} - 2 \\, m r + r^{2}}{a^{2} \\cos\\left({\\theta}\\right)^{2} + r^{2}} & 0 & \\frac{a}{a^{2} \\cos\\left({\\theta}\\right)^{2} + r^{2}} \\\\\n",
       "0 & 0 & \\frac{1}{a^{2} \\cos\\left({\\theta}\\right)^{2} + r^{2}} & 0 \\\\\n",
       "0 & \\frac{a}{a^{2} \\cos\\left({\\theta}\\right)^{2} + r^{2}} & 0 & -\\frac{1}{a^{2} \\sin\\left({\\theta}\\right)^{4} - {\\left(a^{2} + r^{2}\\right)} \\sin\\left({\\theta}\\right)^{2}}\n",
       "\\end{array}\\right)$"
      ],
      "text/plain": [
       "[-(a^2*cos(th)^2 + 2*m*r + r^2)/(a^2*cos(th)^2 + r^2)                          2*m*r/(a^2*cos(th)^2 + r^2)                                                    0                                                    0]\n",
       "[                         2*m*r/(a^2*cos(th)^2 + r^2)            (a^2 - 2*m*r + r^2)/(a^2*cos(th)^2 + r^2)                                                    0                              a/(a^2*cos(th)^2 + r^2)]\n",
       "[                                                   0                                                    0                              1/(a^2*cos(th)^2 + r^2)                                                    0]\n",
       "[                                                   0                              a/(a^2*cos(th)^2 + r^2)                                                    0           -1/(a^2*sin(th)^4 - (a^2 + r^2)*sin(th)^2)]"
      ]
     },
     "execution_count": 10,
     "metadata": {},
     "output_type": "execute_result"
    }
   ],
   "source": [
    "g.inverse()[:]"
   ]
  },
  {
   "cell_type": "markdown",
   "metadata": {},
   "source": [
    "as well as the determinant w.r.t. to the Kerr coordinates:"
   ]
  },
  {
   "cell_type": "code",
   "execution_count": 11,
   "metadata": {},
   "outputs": [
    {
     "data": {
      "text/html": [
       "<html>\\(\\displaystyle \\begin{array}{llcl} & M & \\longrightarrow & \\mathbb{R} \\\\ & \\left(t, r, {\\theta}, {\\phi}\\right) & \\longmapsto & a^{4} \\cos\\left({\\theta}\\right)^{6} - {\\left(a^{4} - 2 \\, a^{2} r^{2}\\right)} \\cos\\left({\\theta}\\right)^{4} - r^{4} - {\\left(2 \\, a^{2} r^{2} - r^{4}\\right)} \\cos\\left({\\theta}\\right)^{2} \\end{array}\\)</html>"
      ],
      "text/latex": [
       "$\\displaystyle \\begin{array}{llcl} & M & \\longrightarrow & \\mathbb{R} \\\\ & \\left(t, r, {\\theta}, {\\phi}\\right) & \\longmapsto & a^{4} \\cos\\left({\\theta}\\right)^{6} - {\\left(a^{4} - 2 \\, a^{2} r^{2}\\right)} \\cos\\left({\\theta}\\right)^{4} - r^{4} - {\\left(2 \\, a^{2} r^{2} - r^{4}\\right)} \\cos\\left({\\theta}\\right)^{2} \\end{array}$"
      ],
      "text/plain": [
       "M → ℝ\n",
       "(t, r, th, ph) ↦ a^4*cos(th)^6 - (a^4 - 2*a^2*r^2)*cos(th)^4 - r^4 - (2*a^2*r^2 - r^4)*cos(th)^2"
      ]
     },
     "execution_count": 11,
     "metadata": {},
     "output_type": "execute_result"
    }
   ],
   "source": [
    "g.determinant().display()"
   ]
  },
  {
   "cell_type": "code",
   "execution_count": 12,
   "metadata": {},
   "outputs": [
    {
     "data": {
      "text/html": [
       "<html>\\(\\displaystyle \\mathrm{True}\\)</html>"
      ],
      "text/latex": [
       "$\\displaystyle \\mathrm{True}$"
      ],
      "text/plain": [
       "True"
      ]
     },
     "execution_count": 12,
     "metadata": {},
     "output_type": "execute_result"
    }
   ],
   "source": [
    "g.determinant() == - (rho2*sin(th))^2"
   ]
  },
  {
   "cell_type": "markdown",
   "metadata": {},
   "source": [
    "Let us check that we are dealing with a solution of the **Einstein equation** in vacuum:"
   ]
  },
  {
   "cell_type": "code",
   "execution_count": 13,
   "metadata": {},
   "outputs": [
    {
     "data": {
      "text/html": [
       "<html>\\(\\displaystyle \\mathrm{Ric}\\left(g\\right) = 0\\)</html>"
      ],
      "text/latex": [
       "$\\displaystyle \\mathrm{Ric}\\left(g\\right) = 0$"
      ],
      "text/plain": [
       "Ric(g) = 0"
      ]
     },
     "execution_count": 13,
     "metadata": {},
     "output_type": "execute_result"
    }
   ],
   "source": [
    "g.ricci().display()"
   ]
  },
  {
   "cell_type": "markdown",
   "metadata": {},
   "source": [
    "The Christoffel symbols w.r.t. Kerr coordinates:"
   ]
  },
  {
   "cell_type": "code",
   "execution_count": 14,
   "metadata": {},
   "outputs": [
    {
     "data": {
      "text/html": [
       "<html>\\(\\displaystyle \\begin{array}{lcl} \\Gamma_{ \\phantom{\\, t} \\, t \\, t }^{ \\, t \\phantom{\\, t} \\phantom{\\, t} } & = & -\\frac{2 \\, {\\left(a^{2} m^{2} r \\cos\\left({\\theta}\\right)^{2} - m^{2} r^{3}\\right)}}{a^{6} \\cos\\left({\\theta}\\right)^{6} + 3 \\, a^{4} r^{2} \\cos\\left({\\theta}\\right)^{4} + 3 \\, a^{2} r^{4} \\cos\\left({\\theta}\\right)^{2} + r^{6}} \\\\ \\Gamma_{ \\phantom{\\, t} \\, t \\, r }^{ \\, t \\phantom{\\, t} \\phantom{\\, r} } & = & -\\frac{a^{4} m \\cos\\left({\\theta}\\right)^{4} + 2 \\, a^{2} m^{2} r \\cos\\left({\\theta}\\right)^{2} - 2 \\, m^{2} r^{3} - m r^{4}}{a^{6} \\cos\\left({\\theta}\\right)^{6} + 3 \\, a^{4} r^{2} \\cos\\left({\\theta}\\right)^{4} + 3 \\, a^{2} r^{4} \\cos\\left({\\theta}\\right)^{2} + r^{6}} \\\\ \\Gamma_{ \\phantom{\\, t} \\, t \\, {\\theta} }^{ \\, t \\phantom{\\, t} \\phantom{\\, {\\theta}} } & = & -\\frac{2 \\, a^{2} m r \\cos\\left({\\theta}\\right) \\sin\\left({\\theta}\\right)}{a^{4} \\cos\\left({\\theta}\\right)^{4} + 2 \\, a^{2} r^{2} \\cos\\left({\\theta}\\right)^{2} + r^{4}} \\\\ \\Gamma_{ \\phantom{\\, t} \\, t \\, {\\phi} }^{ \\, t \\phantom{\\, t} \\phantom{\\, {\\phi}} } & = & \\frac{2 \\, {\\left(a^{3} m^{2} r \\cos\\left({\\theta}\\right)^{2} - a m^{2} r^{3}\\right)} \\sin\\left({\\theta}\\right)^{2}}{a^{6} \\cos\\left({\\theta}\\right)^{6} + 3 \\, a^{4} r^{2} \\cos\\left({\\theta}\\right)^{4} + 3 \\, a^{2} r^{4} \\cos\\left({\\theta}\\right)^{2} + r^{6}} \\\\ \\Gamma_{ \\phantom{\\, t} \\, r \\, r }^{ \\, t \\phantom{\\, r} \\phantom{\\, r} } & = & -\\frac{2 \\, {\\left(a^{4} m \\cos\\left({\\theta}\\right)^{4} + a^{2} m^{2} r \\cos\\left({\\theta}\\right)^{2} - m^{2} r^{3} - m r^{4}\\right)}}{a^{6} \\cos\\left({\\theta}\\right)^{6} + 3 \\, a^{4} r^{2} \\cos\\left({\\theta}\\right)^{4} + 3 \\, a^{2} r^{4} \\cos\\left({\\theta}\\right)^{2} + r^{6}} \\\\ \\Gamma_{ \\phantom{\\, t} \\, r \\, {\\theta} }^{ \\, t \\phantom{\\, r} \\phantom{\\, {\\theta}} } & = & -\\frac{2 \\, a^{2} m r \\cos\\left({\\theta}\\right) \\sin\\left({\\theta}\\right)}{a^{4} \\cos\\left({\\theta}\\right)^{4} + 2 \\, a^{2} r^{2} \\cos\\left({\\theta}\\right)^{2} + r^{4}} \\\\ \\Gamma_{ \\phantom{\\, t} \\, r \\, {\\phi} }^{ \\, t \\phantom{\\, r} \\phantom{\\, {\\phi}} } & = & \\frac{{\\left(a^{5} m \\cos\\left({\\theta}\\right)^{4} + 2 \\, a^{3} m^{2} r \\cos\\left({\\theta}\\right)^{2} - 2 \\, a m^{2} r^{3} - a m r^{4}\\right)} \\sin\\left({\\theta}\\right)^{2}}{a^{6} \\cos\\left({\\theta}\\right)^{6} + 3 \\, a^{4} r^{2} \\cos\\left({\\theta}\\right)^{4} + 3 \\, a^{2} r^{4} \\cos\\left({\\theta}\\right)^{2} + r^{6}} \\\\ \\Gamma_{ \\phantom{\\, t} \\, {\\theta} \\, {\\theta} }^{ \\, t \\phantom{\\, {\\theta}} \\phantom{\\, {\\theta}} } & = & -\\frac{2 \\, m r^{2}}{a^{2} \\cos\\left({\\theta}\\right)^{2} + r^{2}} \\\\ \\Gamma_{ \\phantom{\\, t} \\, {\\theta} \\, {\\phi} }^{ \\, t \\phantom{\\, {\\theta}} \\phantom{\\, {\\phi}} } & = & \\frac{2 \\, a^{3} m r \\cos\\left({\\theta}\\right) \\sin\\left({\\theta}\\right)^{3}}{a^{4} \\cos\\left({\\theta}\\right)^{4} + 2 \\, a^{2} r^{2} \\cos\\left({\\theta}\\right)^{2} + r^{4}} \\\\ \\Gamma_{ \\phantom{\\, t} \\, {\\phi} \\, {\\phi} }^{ \\, t \\phantom{\\, {\\phi}} \\phantom{\\, {\\phi}} } & = & -\\frac{2 \\, {\\left({\\left(a^{4} m^{2} r \\cos\\left({\\theta}\\right)^{2} - a^{2} m^{2} r^{3}\\right)} \\sin\\left({\\theta}\\right)^{4} + {\\left(a^{4} m r^{2} \\cos\\left({\\theta}\\right)^{4} + 2 \\, a^{2} m r^{4} \\cos\\left({\\theta}\\right)^{2} + m r^{6}\\right)} \\sin\\left({\\theta}\\right)^{2}\\right)}}{a^{6} \\cos\\left({\\theta}\\right)^{6} + 3 \\, a^{4} r^{2} \\cos\\left({\\theta}\\right)^{4} + 3 \\, a^{2} r^{4} \\cos\\left({\\theta}\\right)^{2} + r^{6}} \\\\ \\Gamma_{ \\phantom{\\, r} \\, t \\, t }^{ \\, r \\phantom{\\, t} \\phantom{\\, t} } & = & \\frac{a^{2} m r^{2} - 2 \\, m^{2} r^{3} + m r^{4} - {\\left(a^{4} m - 2 \\, a^{2} m^{2} r + a^{2} m r^{2}\\right)} \\cos\\left({\\theta}\\right)^{2}}{a^{6} \\cos\\left({\\theta}\\right)^{6} + 3 \\, a^{4} r^{2} \\cos\\left({\\theta}\\right)^{4} + 3 \\, a^{2} r^{4} \\cos\\left({\\theta}\\right)^{2} + r^{6}} \\\\ \\Gamma_{ \\phantom{\\, r} \\, t \\, r }^{ \\, r \\phantom{\\, t} \\phantom{\\, r} } & = & \\frac{2 \\, a^{2} m^{2} r \\cos\\left({\\theta}\\right)^{2} - 2 \\, m^{2} r^{3} - {\\left(a^{4} m \\cos\\left({\\theta}\\right)^{2} - a^{2} m r^{2}\\right)} \\sin\\left({\\theta}\\right)^{2}}{a^{6} \\cos\\left({\\theta}\\right)^{6} + 3 \\, a^{4} r^{2} \\cos\\left({\\theta}\\right)^{4} + 3 \\, a^{2} r^{4} \\cos\\left({\\theta}\\right)^{2} + r^{6}} \\\\ \\Gamma_{ \\phantom{\\, r} \\, t \\, {\\phi} }^{ \\, r \\phantom{\\, t} \\phantom{\\, {\\phi}} } & = & -\\frac{{\\left(a^{3} m r^{2} - 2 \\, a m^{2} r^{3} + a m r^{4} - {\\left(a^{5} m - 2 \\, a^{3} m^{2} r + a^{3} m r^{2}\\right)} \\cos\\left({\\theta}\\right)^{2}\\right)} \\sin\\left({\\theta}\\right)^{2}}{a^{6} \\cos\\left({\\theta}\\right)^{6} + 3 \\, a^{4} r^{2} \\cos\\left({\\theta}\\right)^{4} + 3 \\, a^{2} r^{4} \\cos\\left({\\theta}\\right)^{2} + r^{6}} \\\\ \\Gamma_{ \\phantom{\\, r} \\, r \\, r }^{ \\, r \\phantom{\\, r} \\phantom{\\, r} } & = & \\frac{2 \\, a^{4} m \\cos\\left({\\theta}\\right)^{4} + a^{2} m r^{2} - 2 \\, m^{2} r^{3} - m r^{4} - {\\left(a^{4} m - 2 \\, a^{2} m^{2} r + a^{2} m r^{2}\\right)} \\cos\\left({\\theta}\\right)^{2}}{a^{6} \\cos\\left({\\theta}\\right)^{6} + 3 \\, a^{4} r^{2} \\cos\\left({\\theta}\\right)^{4} + 3 \\, a^{2} r^{4} \\cos\\left({\\theta}\\right)^{2} + r^{6}} \\\\ \\Gamma_{ \\phantom{\\, r} \\, r \\, {\\theta} }^{ \\, r \\phantom{\\, r} \\phantom{\\, {\\theta}} } & = & -\\frac{a^{2} \\cos\\left({\\theta}\\right) \\sin\\left({\\theta}\\right)}{a^{2} \\cos\\left({\\theta}\\right)^{2} + r^{2}} \\\\ \\Gamma_{ \\phantom{\\, r} \\, r \\, {\\phi} }^{ \\, r \\phantom{\\, r} \\phantom{\\, {\\phi}} } & = & \\frac{{\\left(a^{5} m \\cos\\left({\\theta}\\right)^{2} - a^{3} m r^{2}\\right)} \\sin\\left({\\theta}\\right)^{4} + {\\left(a^{5} r \\cos\\left({\\theta}\\right)^{4} + 2 \\, a m^{2} r^{3} + a r^{5} - 2 \\, {\\left(a^{3} m^{2} r - a^{3} r^{3}\\right)} \\cos\\left({\\theta}\\right)^{2}\\right)} \\sin\\left({\\theta}\\right)^{2}}{a^{6} \\cos\\left({\\theta}\\right)^{6} + 3 \\, a^{4} r^{2} \\cos\\left({\\theta}\\right)^{4} + 3 \\, a^{2} r^{4} \\cos\\left({\\theta}\\right)^{2} + r^{6}} \\\\ \\Gamma_{ \\phantom{\\, r} \\, {\\theta} \\, {\\theta} }^{ \\, r \\phantom{\\, {\\theta}} \\phantom{\\, {\\theta}} } & = & -\\frac{a^{2} r - 2 \\, m r^{2} + r^{3}}{a^{2} \\cos\\left({\\theta}\\right)^{2} + r^{2}} \\\\ \\Gamma_{ \\phantom{\\, r} \\, {\\phi} \\, {\\phi} }^{ \\, r \\phantom{\\, {\\phi}} \\phantom{\\, {\\phi}} } & = & \\frac{{\\left(a^{4} m r^{2} - 2 \\, a^{2} m^{2} r^{3} + a^{2} m r^{4} - {\\left(a^{6} m - 2 \\, a^{4} m^{2} r + a^{4} m r^{2}\\right)} \\cos\\left({\\theta}\\right)^{2}\\right)} \\sin\\left({\\theta}\\right)^{4} - {\\left(a^{2} r^{5} - 2 \\, m r^{6} + r^{7} + {\\left(a^{6} r - 2 \\, a^{4} m r^{2} + a^{4} r^{3}\\right)} \\cos\\left({\\theta}\\right)^{4} + 2 \\, {\\left(a^{4} r^{3} - 2 \\, a^{2} m r^{4} + a^{2} r^{5}\\right)} \\cos\\left({\\theta}\\right)^{2}\\right)} \\sin\\left({\\theta}\\right)^{2}}{a^{6} \\cos\\left({\\theta}\\right)^{6} + 3 \\, a^{4} r^{2} \\cos\\left({\\theta}\\right)^{4} + 3 \\, a^{2} r^{4} \\cos\\left({\\theta}\\right)^{2} + r^{6}} \\\\ \\Gamma_{ \\phantom{\\, {\\theta}} \\, t \\, t }^{ \\, {\\theta} \\phantom{\\, t} \\phantom{\\, t} } & = & -\\frac{2 \\, a^{2} m r \\cos\\left({\\theta}\\right) \\sin\\left({\\theta}\\right)}{a^{6} \\cos\\left({\\theta}\\right)^{6} + 3 \\, a^{4} r^{2} \\cos\\left({\\theta}\\right)^{4} + 3 \\, a^{2} r^{4} \\cos\\left({\\theta}\\right)^{2} + r^{6}} \\\\ \\Gamma_{ \\phantom{\\, {\\theta}} \\, t \\, r }^{ \\, {\\theta} \\phantom{\\, t} \\phantom{\\, r} } & = & -\\frac{2 \\, a^{2} m r \\cos\\left({\\theta}\\right) \\sin\\left({\\theta}\\right)}{a^{6} \\cos\\left({\\theta}\\right)^{6} + 3 \\, a^{4} r^{2} \\cos\\left({\\theta}\\right)^{4} + 3 \\, a^{2} r^{4} \\cos\\left({\\theta}\\right)^{2} + r^{6}} \\\\ \\Gamma_{ \\phantom{\\, {\\theta}} \\, t \\, {\\phi} }^{ \\, {\\theta} \\phantom{\\, t} \\phantom{\\, {\\phi}} } & = & \\frac{2 \\, {\\left(a^{3} m r + a m r^{3}\\right)} \\cos\\left({\\theta}\\right) \\sin\\left({\\theta}\\right)}{a^{6} \\cos\\left({\\theta}\\right)^{6} + 3 \\, a^{4} r^{2} \\cos\\left({\\theta}\\right)^{4} + 3 \\, a^{2} r^{4} \\cos\\left({\\theta}\\right)^{2} + r^{6}} \\\\ \\Gamma_{ \\phantom{\\, {\\theta}} \\, r \\, r }^{ \\, {\\theta} \\phantom{\\, r} \\phantom{\\, r} } & = & -\\frac{2 \\, a^{2} m r \\cos\\left({\\theta}\\right) \\sin\\left({\\theta}\\right)}{a^{6} \\cos\\left({\\theta}\\right)^{6} + 3 \\, a^{4} r^{2} \\cos\\left({\\theta}\\right)^{4} + 3 \\, a^{2} r^{4} \\cos\\left({\\theta}\\right)^{2} + r^{6}} \\\\ \\Gamma_{ \\phantom{\\, {\\theta}} \\, r \\, {\\theta} }^{ \\, {\\theta} \\phantom{\\, r} \\phantom{\\, {\\theta}} } & = & \\frac{r}{a^{2} \\cos\\left({\\theta}\\right)^{2} + r^{2}} \\\\ \\Gamma_{ \\phantom{\\, {\\theta}} \\, r \\, {\\phi} }^{ \\, {\\theta} \\phantom{\\, r} \\phantom{\\, {\\phi}} } & = & \\frac{{\\left(a^{5} \\cos\\left({\\theta}\\right)^{5} + 2 \\, a^{3} r^{2} \\cos\\left({\\theta}\\right)^{3} + {\\left(2 \\, a^{3} m r + 2 \\, a m r^{3} + a r^{4}\\right)} \\cos\\left({\\theta}\\right)\\right)} \\sin\\left({\\theta}\\right)}{a^{6} \\cos\\left({\\theta}\\right)^{6} + 3 \\, a^{4} r^{2} \\cos\\left({\\theta}\\right)^{4} + 3 \\, a^{2} r^{4} \\cos\\left({\\theta}\\right)^{2} + r^{6}} \\\\ \\Gamma_{ \\phantom{\\, {\\theta}} \\, {\\theta} \\, {\\theta} }^{ \\, {\\theta} \\phantom{\\, {\\theta}} \\phantom{\\, {\\theta}} } & = & -\\frac{a^{2} \\cos\\left({\\theta}\\right) \\sin\\left({\\theta}\\right)}{a^{2} \\cos\\left({\\theta}\\right)^{2} + r^{2}} \\\\ \\Gamma_{ \\phantom{\\, {\\theta}} \\, {\\phi} \\, {\\phi} }^{ \\, {\\theta} \\phantom{\\, {\\phi}} \\phantom{\\, {\\phi}} } & = & -\\frac{{\\left({\\left(a^{6} - 2 \\, a^{4} m r + a^{4} r^{2}\\right)} \\cos\\left({\\theta}\\right)^{5} + 2 \\, {\\left(a^{4} r^{2} - 2 \\, a^{2} m r^{3} + a^{2} r^{4}\\right)} \\cos\\left({\\theta}\\right)^{3} + {\\left(2 \\, a^{4} m r + 4 \\, a^{2} m r^{3} + a^{2} r^{4} + r^{6}\\right)} \\cos\\left({\\theta}\\right)\\right)} \\sin\\left({\\theta}\\right)}{a^{6} \\cos\\left({\\theta}\\right)^{6} + 3 \\, a^{4} r^{2} \\cos\\left({\\theta}\\right)^{4} + 3 \\, a^{2} r^{4} \\cos\\left({\\theta}\\right)^{2} + r^{6}} \\\\ \\Gamma_{ \\phantom{\\, {\\phi}} \\, t \\, t }^{ \\, {\\phi} \\phantom{\\, t} \\phantom{\\, t} } & = & -\\frac{a^{3} m \\cos\\left({\\theta}\\right)^{2} - a m r^{2}}{a^{6} \\cos\\left({\\theta}\\right)^{6} + 3 \\, a^{4} r^{2} \\cos\\left({\\theta}\\right)^{4} + 3 \\, a^{2} r^{4} \\cos\\left({\\theta}\\right)^{2} + r^{6}} \\\\ \\Gamma_{ \\phantom{\\, {\\phi}} \\, t \\, r }^{ \\, {\\phi} \\phantom{\\, t} \\phantom{\\, r} } & = & -\\frac{a^{3} m \\cos\\left({\\theta}\\right)^{2} - a m r^{2}}{a^{6} \\cos\\left({\\theta}\\right)^{6} + 3 \\, a^{4} r^{2} \\cos\\left({\\theta}\\right)^{4} + 3 \\, a^{2} r^{4} \\cos\\left({\\theta}\\right)^{2} + r^{6}} \\\\ \\Gamma_{ \\phantom{\\, {\\phi}} \\, t \\, {\\theta} }^{ \\, {\\phi} \\phantom{\\, t} \\phantom{\\, {\\theta}} } & = & -\\frac{2 \\, a m r \\cos\\left({\\theta}\\right)}{{\\left(a^{4} \\cos\\left({\\theta}\\right)^{4} + 2 \\, a^{2} r^{2} \\cos\\left({\\theta}\\right)^{2} + r^{4}\\right)} \\sin\\left({\\theta}\\right)} \\\\ \\Gamma_{ \\phantom{\\, {\\phi}} \\, t \\, {\\phi} }^{ \\, {\\phi} \\phantom{\\, t} \\phantom{\\, {\\phi}} } & = & \\frac{{\\left(a^{4} m \\cos\\left({\\theta}\\right)^{2} - a^{2} m r^{2}\\right)} \\sin\\left({\\theta}\\right)^{2}}{a^{6} \\cos\\left({\\theta}\\right)^{6} + 3 \\, a^{4} r^{2} \\cos\\left({\\theta}\\right)^{4} + 3 \\, a^{2} r^{4} \\cos\\left({\\theta}\\right)^{2} + r^{6}} \\\\ \\Gamma_{ \\phantom{\\, {\\phi}} \\, r \\, r }^{ \\, {\\phi} \\phantom{\\, r} \\phantom{\\, r} } & = & -\\frac{a^{3} m \\cos\\left({\\theta}\\right)^{2} - a m r^{2}}{a^{6} \\cos\\left({\\theta}\\right)^{6} + 3 \\, a^{4} r^{2} \\cos\\left({\\theta}\\right)^{4} + 3 \\, a^{2} r^{4} \\cos\\left({\\theta}\\right)^{2} + r^{6}} \\\\ \\Gamma_{ \\phantom{\\, {\\phi}} \\, r \\, {\\theta} }^{ \\, {\\phi} \\phantom{\\, r} \\phantom{\\, {\\theta}} } & = & -\\frac{a^{3} \\cos\\left({\\theta}\\right)^{3} + {\\left(2 \\, a m r + a r^{2}\\right)} \\cos\\left({\\theta}\\right)}{{\\left(a^{4} \\cos\\left({\\theta}\\right)^{4} + 2 \\, a^{2} r^{2} \\cos\\left({\\theta}\\right)^{2} + r^{4}\\right)} \\sin\\left({\\theta}\\right)} \\\\ \\Gamma_{ \\phantom{\\, {\\phi}} \\, r \\, {\\phi} }^{ \\, {\\phi} \\phantom{\\, r} \\phantom{\\, {\\phi}} } & = & \\frac{a^{4} r \\cos\\left({\\theta}\\right)^{4} + 2 \\, a^{2} r^{3} \\cos\\left({\\theta}\\right)^{2} + r^{5} + {\\left(a^{4} m \\cos\\left({\\theta}\\right)^{2} - a^{2} m r^{2}\\right)} \\sin\\left({\\theta}\\right)^{2}}{a^{6} \\cos\\left({\\theta}\\right)^{6} + 3 \\, a^{4} r^{2} \\cos\\left({\\theta}\\right)^{4} + 3 \\, a^{2} r^{4} \\cos\\left({\\theta}\\right)^{2} + r^{6}} \\\\ \\Gamma_{ \\phantom{\\, {\\phi}} \\, {\\theta} \\, {\\theta} }^{ \\, {\\phi} \\phantom{\\, {\\theta}} \\phantom{\\, {\\theta}} } & = & -\\frac{a r}{a^{2} \\cos\\left({\\theta}\\right)^{2} + r^{2}} \\\\ \\Gamma_{ \\phantom{\\, {\\phi}} \\, {\\theta} \\, {\\phi} }^{ \\, {\\phi} \\phantom{\\, {\\theta}} \\phantom{\\, {\\phi}} } & = & \\frac{a^{4} \\cos\\left({\\theta}\\right)^{5} - 2 \\, {\\left(a^{2} m r - a^{2} r^{2}\\right)} \\cos\\left({\\theta}\\right)^{3} + {\\left(2 \\, a^{2} m r + r^{4}\\right)} \\cos\\left({\\theta}\\right)}{{\\left(a^{4} \\cos\\left({\\theta}\\right)^{4} + 2 \\, a^{2} r^{2} \\cos\\left({\\theta}\\right)^{2} + r^{4}\\right)} \\sin\\left({\\theta}\\right)} \\\\ \\Gamma_{ \\phantom{\\, {\\phi}} \\, {\\phi} \\, {\\phi} }^{ \\, {\\phi} \\phantom{\\, {\\phi}} \\phantom{\\, {\\phi}} } & = & -\\frac{{\\left(a^{5} m \\cos\\left({\\theta}\\right)^{2} - a^{3} m r^{2}\\right)} \\sin\\left({\\theta}\\right)^{4} + {\\left(a^{5} r \\cos\\left({\\theta}\\right)^{4} + 2 \\, a^{3} r^{3} \\cos\\left({\\theta}\\right)^{2} + a r^{5}\\right)} \\sin\\left({\\theta}\\right)^{2}}{a^{6} \\cos\\left({\\theta}\\right)^{6} + 3 \\, a^{4} r^{2} \\cos\\left({\\theta}\\right)^{4} + 3 \\, a^{2} r^{4} \\cos\\left({\\theta}\\right)^{2} + r^{6}} \\end{array}\\)</html>"
      ],
      "text/latex": [
       "$\\displaystyle \\begin{array}{lcl} \\Gamma_{ \\phantom{\\, t} \\, t \\, t }^{ \\, t \\phantom{\\, t} \\phantom{\\, t} } & = & -\\frac{2 \\, {\\left(a^{2} m^{2} r \\cos\\left({\\theta}\\right)^{2} - m^{2} r^{3}\\right)}}{a^{6} \\cos\\left({\\theta}\\right)^{6} + 3 \\, a^{4} r^{2} \\cos\\left({\\theta}\\right)^{4} + 3 \\, a^{2} r^{4} \\cos\\left({\\theta}\\right)^{2} + r^{6}} \\\\ \\Gamma_{ \\phantom{\\, t} \\, t \\, r }^{ \\, t \\phantom{\\, t} \\phantom{\\, r} } & = & -\\frac{a^{4} m \\cos\\left({\\theta}\\right)^{4} + 2 \\, a^{2} m^{2} r \\cos\\left({\\theta}\\right)^{2} - 2 \\, m^{2} r^{3} - m r^{4}}{a^{6} \\cos\\left({\\theta}\\right)^{6} + 3 \\, a^{4} r^{2} \\cos\\left({\\theta}\\right)^{4} + 3 \\, a^{2} r^{4} \\cos\\left({\\theta}\\right)^{2} + r^{6}} \\\\ \\Gamma_{ \\phantom{\\, t} \\, t \\, {\\theta} }^{ \\, t \\phantom{\\, t} \\phantom{\\, {\\theta}} } & = & -\\frac{2 \\, a^{2} m r \\cos\\left({\\theta}\\right) \\sin\\left({\\theta}\\right)}{a^{4} \\cos\\left({\\theta}\\right)^{4} + 2 \\, a^{2} r^{2} \\cos\\left({\\theta}\\right)^{2} + r^{4}} \\\\ \\Gamma_{ \\phantom{\\, t} \\, t \\, {\\phi} }^{ \\, t \\phantom{\\, t} \\phantom{\\, {\\phi}} } & = & \\frac{2 \\, {\\left(a^{3} m^{2} r \\cos\\left({\\theta}\\right)^{2} - a m^{2} r^{3}\\right)} \\sin\\left({\\theta}\\right)^{2}}{a^{6} \\cos\\left({\\theta}\\right)^{6} + 3 \\, a^{4} r^{2} \\cos\\left({\\theta}\\right)^{4} + 3 \\, a^{2} r^{4} \\cos\\left({\\theta}\\right)^{2} + r^{6}} \\\\ \\Gamma_{ \\phantom{\\, t} \\, r \\, r }^{ \\, t \\phantom{\\, r} \\phantom{\\, r} } & = & -\\frac{2 \\, {\\left(a^{4} m \\cos\\left({\\theta}\\right)^{4} + a^{2} m^{2} r \\cos\\left({\\theta}\\right)^{2} - m^{2} r^{3} - m r^{4}\\right)}}{a^{6} \\cos\\left({\\theta}\\right)^{6} + 3 \\, a^{4} r^{2} \\cos\\left({\\theta}\\right)^{4} + 3 \\, a^{2} r^{4} \\cos\\left({\\theta}\\right)^{2} + r^{6}} \\\\ \\Gamma_{ \\phantom{\\, t} \\, r \\, {\\theta} }^{ \\, t \\phantom{\\, r} \\phantom{\\, {\\theta}} } & = & -\\frac{2 \\, a^{2} m r \\cos\\left({\\theta}\\right) \\sin\\left({\\theta}\\right)}{a^{4} \\cos\\left({\\theta}\\right)^{4} + 2 \\, a^{2} r^{2} \\cos\\left({\\theta}\\right)^{2} + r^{4}} \\\\ \\Gamma_{ \\phantom{\\, t} \\, r \\, {\\phi} }^{ \\, t \\phantom{\\, r} \\phantom{\\, {\\phi}} } & = & \\frac{{\\left(a^{5} m \\cos\\left({\\theta}\\right)^{4} + 2 \\, a^{3} m^{2} r \\cos\\left({\\theta}\\right)^{2} - 2 \\, a m^{2} r^{3} - a m r^{4}\\right)} \\sin\\left({\\theta}\\right)^{2}}{a^{6} \\cos\\left({\\theta}\\right)^{6} + 3 \\, a^{4} r^{2} \\cos\\left({\\theta}\\right)^{4} + 3 \\, a^{2} r^{4} \\cos\\left({\\theta}\\right)^{2} + r^{6}} \\\\ \\Gamma_{ \\phantom{\\, t} \\, {\\theta} \\, {\\theta} }^{ \\, t \\phantom{\\, {\\theta}} \\phantom{\\, {\\theta}} } & = & -\\frac{2 \\, m r^{2}}{a^{2} \\cos\\left({\\theta}\\right)^{2} + r^{2}} \\\\ \\Gamma_{ \\phantom{\\, t} \\, {\\theta} \\, {\\phi} }^{ \\, t \\phantom{\\, {\\theta}} \\phantom{\\, {\\phi}} } & = & \\frac{2 \\, a^{3} m r \\cos\\left({\\theta}\\right) \\sin\\left({\\theta}\\right)^{3}}{a^{4} \\cos\\left({\\theta}\\right)^{4} + 2 \\, a^{2} r^{2} \\cos\\left({\\theta}\\right)^{2} + r^{4}} \\\\ \\Gamma_{ \\phantom{\\, t} \\, {\\phi} \\, {\\phi} }^{ \\, t \\phantom{\\, {\\phi}} \\phantom{\\, {\\phi}} } & = & -\\frac{2 \\, {\\left({\\left(a^{4} m^{2} r \\cos\\left({\\theta}\\right)^{2} - a^{2} m^{2} r^{3}\\right)} \\sin\\left({\\theta}\\right)^{4} + {\\left(a^{4} m r^{2} \\cos\\left({\\theta}\\right)^{4} + 2 \\, a^{2} m r^{4} \\cos\\left({\\theta}\\right)^{2} + m r^{6}\\right)} \\sin\\left({\\theta}\\right)^{2}\\right)}}{a^{6} \\cos\\left({\\theta}\\right)^{6} + 3 \\, a^{4} r^{2} \\cos\\left({\\theta}\\right)^{4} + 3 \\, a^{2} r^{4} \\cos\\left({\\theta}\\right)^{2} + r^{6}} \\\\ \\Gamma_{ \\phantom{\\, r} \\, t \\, t }^{ \\, r \\phantom{\\, t} \\phantom{\\, t} } & = & \\frac{a^{2} m r^{2} - 2 \\, m^{2} r^{3} + m r^{4} - {\\left(a^{4} m - 2 \\, a^{2} m^{2} r + a^{2} m r^{2}\\right)} \\cos\\left({\\theta}\\right)^{2}}{a^{6} \\cos\\left({\\theta}\\right)^{6} + 3 \\, a^{4} r^{2} \\cos\\left({\\theta}\\right)^{4} + 3 \\, a^{2} r^{4} \\cos\\left({\\theta}\\right)^{2} + r^{6}} \\\\ \\Gamma_{ \\phantom{\\, r} \\, t \\, r }^{ \\, r \\phantom{\\, t} \\phantom{\\, r} } & = & \\frac{2 \\, a^{2} m^{2} r \\cos\\left({\\theta}\\right)^{2} - 2 \\, m^{2} r^{3} - {\\left(a^{4} m \\cos\\left({\\theta}\\right)^{2} - a^{2} m r^{2}\\right)} \\sin\\left({\\theta}\\right)^{2}}{a^{6} \\cos\\left({\\theta}\\right)^{6} + 3 \\, a^{4} r^{2} \\cos\\left({\\theta}\\right)^{4} + 3 \\, a^{2} r^{4} \\cos\\left({\\theta}\\right)^{2} + r^{6}} \\\\ \\Gamma_{ \\phantom{\\, r} \\, t \\, {\\phi} }^{ \\, r \\phantom{\\, t} \\phantom{\\, {\\phi}} } & = & -\\frac{{\\left(a^{3} m r^{2} - 2 \\, a m^{2} r^{3} + a m r^{4} - {\\left(a^{5} m - 2 \\, a^{3} m^{2} r + a^{3} m r^{2}\\right)} \\cos\\left({\\theta}\\right)^{2}\\right)} \\sin\\left({\\theta}\\right)^{2}}{a^{6} \\cos\\left({\\theta}\\right)^{6} + 3 \\, a^{4} r^{2} \\cos\\left({\\theta}\\right)^{4} + 3 \\, a^{2} r^{4} \\cos\\left({\\theta}\\right)^{2} + r^{6}} \\\\ \\Gamma_{ \\phantom{\\, r} \\, r \\, r }^{ \\, r \\phantom{\\, r} \\phantom{\\, r} } & = & \\frac{2 \\, a^{4} m \\cos\\left({\\theta}\\right)^{4} + a^{2} m r^{2} - 2 \\, m^{2} r^{3} - m r^{4} - {\\left(a^{4} m - 2 \\, a^{2} m^{2} r + a^{2} m r^{2}\\right)} \\cos\\left({\\theta}\\right)^{2}}{a^{6} \\cos\\left({\\theta}\\right)^{6} + 3 \\, a^{4} r^{2} \\cos\\left({\\theta}\\right)^{4} + 3 \\, a^{2} r^{4} \\cos\\left({\\theta}\\right)^{2} + r^{6}} \\\\ \\Gamma_{ \\phantom{\\, r} \\, r \\, {\\theta} }^{ \\, r \\phantom{\\, r} \\phantom{\\, {\\theta}} } & = & -\\frac{a^{2} \\cos\\left({\\theta}\\right) \\sin\\left({\\theta}\\right)}{a^{2} \\cos\\left({\\theta}\\right)^{2} + r^{2}} \\\\ \\Gamma_{ \\phantom{\\, r} \\, r \\, {\\phi} }^{ \\, r \\phantom{\\, r} \\phantom{\\, {\\phi}} } & = & \\frac{{\\left(a^{5} m \\cos\\left({\\theta}\\right)^{2} - a^{3} m r^{2}\\right)} \\sin\\left({\\theta}\\right)^{4} + {\\left(a^{5} r \\cos\\left({\\theta}\\right)^{4} + 2 \\, a m^{2} r^{3} + a r^{5} - 2 \\, {\\left(a^{3} m^{2} r - a^{3} r^{3}\\right)} \\cos\\left({\\theta}\\right)^{2}\\right)} \\sin\\left({\\theta}\\right)^{2}}{a^{6} \\cos\\left({\\theta}\\right)^{6} + 3 \\, a^{4} r^{2} \\cos\\left({\\theta}\\right)^{4} + 3 \\, a^{2} r^{4} \\cos\\left({\\theta}\\right)^{2} + r^{6}} \\\\ \\Gamma_{ \\phantom{\\, r} \\, {\\theta} \\, {\\theta} }^{ \\, r \\phantom{\\, {\\theta}} \\phantom{\\, {\\theta}} } & = & -\\frac{a^{2} r - 2 \\, m r^{2} + r^{3}}{a^{2} \\cos\\left({\\theta}\\right)^{2} + r^{2}} \\\\ \\Gamma_{ \\phantom{\\, r} \\, {\\phi} \\, {\\phi} }^{ \\, r \\phantom{\\, {\\phi}} \\phantom{\\, {\\phi}} } & = & \\frac{{\\left(a^{4} m r^{2} - 2 \\, a^{2} m^{2} r^{3} + a^{2} m r^{4} - {\\left(a^{6} m - 2 \\, a^{4} m^{2} r + a^{4} m r^{2}\\right)} \\cos\\left({\\theta}\\right)^{2}\\right)} \\sin\\left({\\theta}\\right)^{4} - {\\left(a^{2} r^{5} - 2 \\, m r^{6} + r^{7} + {\\left(a^{6} r - 2 \\, a^{4} m r^{2} + a^{4} r^{3}\\right)} \\cos\\left({\\theta}\\right)^{4} + 2 \\, {\\left(a^{4} r^{3} - 2 \\, a^{2} m r^{4} + a^{2} r^{5}\\right)} \\cos\\left({\\theta}\\right)^{2}\\right)} \\sin\\left({\\theta}\\right)^{2}}{a^{6} \\cos\\left({\\theta}\\right)^{6} + 3 \\, a^{4} r^{2} \\cos\\left({\\theta}\\right)^{4} + 3 \\, a^{2} r^{4} \\cos\\left({\\theta}\\right)^{2} + r^{6}} \\\\ \\Gamma_{ \\phantom{\\, {\\theta}} \\, t \\, t }^{ \\, {\\theta} \\phantom{\\, t} \\phantom{\\, t} } & = & -\\frac{2 \\, a^{2} m r \\cos\\left({\\theta}\\right) \\sin\\left({\\theta}\\right)}{a^{6} \\cos\\left({\\theta}\\right)^{6} + 3 \\, a^{4} r^{2} \\cos\\left({\\theta}\\right)^{4} + 3 \\, a^{2} r^{4} \\cos\\left({\\theta}\\right)^{2} + r^{6}} \\\\ \\Gamma_{ \\phantom{\\, {\\theta}} \\, t \\, r }^{ \\, {\\theta} \\phantom{\\, t} \\phantom{\\, r} } & = & -\\frac{2 \\, a^{2} m r \\cos\\left({\\theta}\\right) \\sin\\left({\\theta}\\right)}{a^{6} \\cos\\left({\\theta}\\right)^{6} + 3 \\, a^{4} r^{2} \\cos\\left({\\theta}\\right)^{4} + 3 \\, a^{2} r^{4} \\cos\\left({\\theta}\\right)^{2} + r^{6}} \\\\ \\Gamma_{ \\phantom{\\, {\\theta}} \\, t \\, {\\phi} }^{ \\, {\\theta} \\phantom{\\, t} \\phantom{\\, {\\phi}} } & = & \\frac{2 \\, {\\left(a^{3} m r + a m r^{3}\\right)} \\cos\\left({\\theta}\\right) \\sin\\left({\\theta}\\right)}{a^{6} \\cos\\left({\\theta}\\right)^{6} + 3 \\, a^{4} r^{2} \\cos\\left({\\theta}\\right)^{4} + 3 \\, a^{2} r^{4} \\cos\\left({\\theta}\\right)^{2} + r^{6}} \\\\ \\Gamma_{ \\phantom{\\, {\\theta}} \\, r \\, r }^{ \\, {\\theta} \\phantom{\\, r} \\phantom{\\, r} } & = & -\\frac{2 \\, a^{2} m r \\cos\\left({\\theta}\\right) \\sin\\left({\\theta}\\right)}{a^{6} \\cos\\left({\\theta}\\right)^{6} + 3 \\, a^{4} r^{2} \\cos\\left({\\theta}\\right)^{4} + 3 \\, a^{2} r^{4} \\cos\\left({\\theta}\\right)^{2} + r^{6}} \\\\ \\Gamma_{ \\phantom{\\, {\\theta}} \\, r \\, {\\theta} }^{ \\, {\\theta} \\phantom{\\, r} \\phantom{\\, {\\theta}} } & = & \\frac{r}{a^{2} \\cos\\left({\\theta}\\right)^{2} + r^{2}} \\\\ \\Gamma_{ \\phantom{\\, {\\theta}} \\, r \\, {\\phi} }^{ \\, {\\theta} \\phantom{\\, r} \\phantom{\\, {\\phi}} } & = & \\frac{{\\left(a^{5} \\cos\\left({\\theta}\\right)^{5} + 2 \\, a^{3} r^{2} \\cos\\left({\\theta}\\right)^{3} + {\\left(2 \\, a^{3} m r + 2 \\, a m r^{3} + a r^{4}\\right)} \\cos\\left({\\theta}\\right)\\right)} \\sin\\left({\\theta}\\right)}{a^{6} \\cos\\left({\\theta}\\right)^{6} + 3 \\, a^{4} r^{2} \\cos\\left({\\theta}\\right)^{4} + 3 \\, a^{2} r^{4} \\cos\\left({\\theta}\\right)^{2} + r^{6}} \\\\ \\Gamma_{ \\phantom{\\, {\\theta}} \\, {\\theta} \\, {\\theta} }^{ \\, {\\theta} \\phantom{\\, {\\theta}} \\phantom{\\, {\\theta}} } & = & -\\frac{a^{2} \\cos\\left({\\theta}\\right) \\sin\\left({\\theta}\\right)}{a^{2} \\cos\\left({\\theta}\\right)^{2} + r^{2}} \\\\ \\Gamma_{ \\phantom{\\, {\\theta}} \\, {\\phi} \\, {\\phi} }^{ \\, {\\theta} \\phantom{\\, {\\phi}} \\phantom{\\, {\\phi}} } & = & -\\frac{{\\left({\\left(a^{6} - 2 \\, a^{4} m r + a^{4} r^{2}\\right)} \\cos\\left({\\theta}\\right)^{5} + 2 \\, {\\left(a^{4} r^{2} - 2 \\, a^{2} m r^{3} + a^{2} r^{4}\\right)} \\cos\\left({\\theta}\\right)^{3} + {\\left(2 \\, a^{4} m r + 4 \\, a^{2} m r^{3} + a^{2} r^{4} + r^{6}\\right)} \\cos\\left({\\theta}\\right)\\right)} \\sin\\left({\\theta}\\right)}{a^{6} \\cos\\left({\\theta}\\right)^{6} + 3 \\, a^{4} r^{2} \\cos\\left({\\theta}\\right)^{4} + 3 \\, a^{2} r^{4} \\cos\\left({\\theta}\\right)^{2} + r^{6}} \\\\ \\Gamma_{ \\phantom{\\, {\\phi}} \\, t \\, t }^{ \\, {\\phi} \\phantom{\\, t} \\phantom{\\, t} } & = & -\\frac{a^{3} m \\cos\\left({\\theta}\\right)^{2} - a m r^{2}}{a^{6} \\cos\\left({\\theta}\\right)^{6} + 3 \\, a^{4} r^{2} \\cos\\left({\\theta}\\right)^{4} + 3 \\, a^{2} r^{4} \\cos\\left({\\theta}\\right)^{2} + r^{6}} \\\\ \\Gamma_{ \\phantom{\\, {\\phi}} \\, t \\, r }^{ \\, {\\phi} \\phantom{\\, t} \\phantom{\\, r} } & = & -\\frac{a^{3} m \\cos\\left({\\theta}\\right)^{2} - a m r^{2}}{a^{6} \\cos\\left({\\theta}\\right)^{6} + 3 \\, a^{4} r^{2} \\cos\\left({\\theta}\\right)^{4} + 3 \\, a^{2} r^{4} \\cos\\left({\\theta}\\right)^{2} + r^{6}} \\\\ \\Gamma_{ \\phantom{\\, {\\phi}} \\, t \\, {\\theta} }^{ \\, {\\phi} \\phantom{\\, t} \\phantom{\\, {\\theta}} } & = & -\\frac{2 \\, a m r \\cos\\left({\\theta}\\right)}{{\\left(a^{4} \\cos\\left({\\theta}\\right)^{4} + 2 \\, a^{2} r^{2} \\cos\\left({\\theta}\\right)^{2} + r^{4}\\right)} \\sin\\left({\\theta}\\right)} \\\\ \\Gamma_{ \\phantom{\\, {\\phi}} \\, t \\, {\\phi} }^{ \\, {\\phi} \\phantom{\\, t} \\phantom{\\, {\\phi}} } & = & \\frac{{\\left(a^{4} m \\cos\\left({\\theta}\\right)^{2} - a^{2} m r^{2}\\right)} \\sin\\left({\\theta}\\right)^{2}}{a^{6} \\cos\\left({\\theta}\\right)^{6} + 3 \\, a^{4} r^{2} \\cos\\left({\\theta}\\right)^{4} + 3 \\, a^{2} r^{4} \\cos\\left({\\theta}\\right)^{2} + r^{6}} \\\\ \\Gamma_{ \\phantom{\\, {\\phi}} \\, r \\, r }^{ \\, {\\phi} \\phantom{\\, r} \\phantom{\\, r} } & = & -\\frac{a^{3} m \\cos\\left({\\theta}\\right)^{2} - a m r^{2}}{a^{6} \\cos\\left({\\theta}\\right)^{6} + 3 \\, a^{4} r^{2} \\cos\\left({\\theta}\\right)^{4} + 3 \\, a^{2} r^{4} \\cos\\left({\\theta}\\right)^{2} + r^{6}} \\\\ \\Gamma_{ \\phantom{\\, {\\phi}} \\, r \\, {\\theta} }^{ \\, {\\phi} \\phantom{\\, r} \\phantom{\\, {\\theta}} } & = & -\\frac{a^{3} \\cos\\left({\\theta}\\right)^{3} + {\\left(2 \\, a m r + a r^{2}\\right)} \\cos\\left({\\theta}\\right)}{{\\left(a^{4} \\cos\\left({\\theta}\\right)^{4} + 2 \\, a^{2} r^{2} \\cos\\left({\\theta}\\right)^{2} + r^{4}\\right)} \\sin\\left({\\theta}\\right)} \\\\ \\Gamma_{ \\phantom{\\, {\\phi}} \\, r \\, {\\phi} }^{ \\, {\\phi} \\phantom{\\, r} \\phantom{\\, {\\phi}} } & = & \\frac{a^{4} r \\cos\\left({\\theta}\\right)^{4} + 2 \\, a^{2} r^{3} \\cos\\left({\\theta}\\right)^{2} + r^{5} + {\\left(a^{4} m \\cos\\left({\\theta}\\right)^{2} - a^{2} m r^{2}\\right)} \\sin\\left({\\theta}\\right)^{2}}{a^{6} \\cos\\left({\\theta}\\right)^{6} + 3 \\, a^{4} r^{2} \\cos\\left({\\theta}\\right)^{4} + 3 \\, a^{2} r^{4} \\cos\\left({\\theta}\\right)^{2} + r^{6}} \\\\ \\Gamma_{ \\phantom{\\, {\\phi}} \\, {\\theta} \\, {\\theta} }^{ \\, {\\phi} \\phantom{\\, {\\theta}} \\phantom{\\, {\\theta}} } & = & -\\frac{a r}{a^{2} \\cos\\left({\\theta}\\right)^{2} + r^{2}} \\\\ \\Gamma_{ \\phantom{\\, {\\phi}} \\, {\\theta} \\, {\\phi} }^{ \\, {\\phi} \\phantom{\\, {\\theta}} \\phantom{\\, {\\phi}} } & = & \\frac{a^{4} \\cos\\left({\\theta}\\right)^{5} - 2 \\, {\\left(a^{2} m r - a^{2} r^{2}\\right)} \\cos\\left({\\theta}\\right)^{3} + {\\left(2 \\, a^{2} m r + r^{4}\\right)} \\cos\\left({\\theta}\\right)}{{\\left(a^{4} \\cos\\left({\\theta}\\right)^{4} + 2 \\, a^{2} r^{2} \\cos\\left({\\theta}\\right)^{2} + r^{4}\\right)} \\sin\\left({\\theta}\\right)} \\\\ \\Gamma_{ \\phantom{\\, {\\phi}} \\, {\\phi} \\, {\\phi} }^{ \\, {\\phi} \\phantom{\\, {\\phi}} \\phantom{\\, {\\phi}} } & = & -\\frac{{\\left(a^{5} m \\cos\\left({\\theta}\\right)^{2} - a^{3} m r^{2}\\right)} \\sin\\left({\\theta}\\right)^{4} + {\\left(a^{5} r \\cos\\left({\\theta}\\right)^{4} + 2 \\, a^{3} r^{3} \\cos\\left({\\theta}\\right)^{2} + a r^{5}\\right)} \\sin\\left({\\theta}\\right)^{2}}{a^{6} \\cos\\left({\\theta}\\right)^{6} + 3 \\, a^{4} r^{2} \\cos\\left({\\theta}\\right)^{4} + 3 \\, a^{2} r^{4} \\cos\\left({\\theta}\\right)^{2} + r^{6}} \\end{array}$"
      ],
      "text/plain": [
       "Gam^t_t,t = -2*(a^2*m^2*r*cos(th)^2 - m^2*r^3)/(a^6*cos(th)^6 + 3*a^4*r^2*cos(th)^4 + 3*a^2*r^4*cos(th)^2 + r^6) \n",
       "Gam^t_t,r = -(a^4*m*cos(th)^4 + 2*a^2*m^2*r*cos(th)^2 - 2*m^2*r^3 - m*r^4)/(a^6*cos(th)^6 + 3*a^4*r^2*cos(th)^4 + 3*a^2*r^4*cos(th)^2 + r^6) \n",
       "Gam^t_t,th = -2*a^2*m*r*cos(th)*sin(th)/(a^4*cos(th)^4 + 2*a^2*r^2*cos(th)^2 + r^4) \n",
       "Gam^t_t,ph = 2*(a^3*m^2*r*cos(th)^2 - a*m^2*r^3)*sin(th)^2/(a^6*cos(th)^6 + 3*a^4*r^2*cos(th)^4 + 3*a^2*r^4*cos(th)^2 + r^6) \n",
       "Gam^t_r,r = -2*(a^4*m*cos(th)^4 + a^2*m^2*r*cos(th)^2 - m^2*r^3 - m*r^4)/(a^6*cos(th)^6 + 3*a^4*r^2*cos(th)^4 + 3*a^2*r^4*cos(th)^2 + r^6) \n",
       "Gam^t_r,th = -2*a^2*m*r*cos(th)*sin(th)/(a^4*cos(th)^4 + 2*a^2*r^2*cos(th)^2 + r^4) \n",
       "Gam^t_r,ph = (a^5*m*cos(th)^4 + 2*a^3*m^2*r*cos(th)^2 - 2*a*m^2*r^3 - a*m*r^4)*sin(th)^2/(a^6*cos(th)^6 + 3*a^4*r^2*cos(th)^4 + 3*a^2*r^4*cos(th)^2 + r^6) \n",
       "Gam^t_th,th = -2*m*r^2/(a^2*cos(th)^2 + r^2) \n",
       "Gam^t_th,ph = 2*a^3*m*r*cos(th)*sin(th)^3/(a^4*cos(th)^4 + 2*a^2*r^2*cos(th)^2 + r^4) \n",
       "Gam^t_ph,ph = -2*((a^4*m^2*r*cos(th)^2 - a^2*m^2*r^3)*sin(th)^4 + (a^4*m*r^2*cos(th)^4 + 2*a^2*m*r^4*cos(th)^2 + m*r^6)*sin(th)^2)/(a^6*cos(th)^6 + 3*a^4*r^2*cos(th)^4 + 3*a^2*r^4*cos(th)^2 + r^6) \n",
       "Gam^r_t,t = (a^2*m*r^2 - 2*m^2*r^3 + m*r^4 - (a^4*m - 2*a^2*m^2*r + a^2*m*r^2)*cos(th)^2)/(a^6*cos(th)^6 + 3*a^4*r^2*cos(th)^4 + 3*a^2*r^4*cos(th)^2 + r^6) \n",
       "Gam^r_t,r = (2*a^2*m^2*r*cos(th)^2 - 2*m^2*r^3 - (a^4*m*cos(th)^2 - a^2*m*r^2)*sin(th)^2)/(a^6*cos(th)^6 + 3*a^4*r^2*cos(th)^4 + 3*a^2*r^4*cos(th)^2 + r^6) \n",
       "Gam^r_t,ph = -(a^3*m*r^2 - 2*a*m^2*r^3 + a*m*r^4 - (a^5*m - 2*a^3*m^2*r + a^3*m*r^2)*cos(th)^2)*sin(th)^2/(a^6*cos(th)^6 + 3*a^4*r^2*cos(th)^4 + 3*a^2*r^4*cos(th)^2 + r^6) \n",
       "Gam^r_r,r = (2*a^4*m*cos(th)^4 + a^2*m*r^2 - 2*m^2*r^3 - m*r^4 - (a^4*m - 2*a^2*m^2*r + a^2*m*r^2)*cos(th)^2)/(a^6*cos(th)^6 + 3*a^4*r^2*cos(th)^4 + 3*a^2*r^4*cos(th)^2 + r^6) \n",
       "Gam^r_r,th = -a^2*cos(th)*sin(th)/(a^2*cos(th)^2 + r^2) \n",
       "Gam^r_r,ph = ((a^5*m*cos(th)^2 - a^3*m*r^2)*sin(th)^4 + (a^5*r*cos(th)^4 + 2*a*m^2*r^3 + a*r^5 - 2*(a^3*m^2*r - a^3*r^3)*cos(th)^2)*sin(th)^2)/(a^6*cos(th)^6 + 3*a^4*r^2*cos(th)^4 + 3*a^2*r^4*cos(th)^2 + r^6) \n",
       "Gam^r_th,th = -(a^2*r - 2*m*r^2 + r^3)/(a^2*cos(th)^2 + r^2) \n",
       "Gam^r_ph,ph = ((a^4*m*r^2 - 2*a^2*m^2*r^3 + a^2*m*r^4 - (a^6*m - 2*a^4*m^2*r + a^4*m*r^2)*cos(th)^2)*sin(th)^4 - (a^2*r^5 - 2*m*r^6 + r^7 + (a^6*r - 2*a^4*m*r^2 + a^4*r^3)*cos(th)^4 + 2*(a^4*r^3 - 2*a^2*m*r^4 + a^2*r^5)*cos(th)^2)*sin(th)^2)/(a^6*cos(th)^6 + 3*a^4*r^2*cos(th)^4 + 3*a^2*r^4*cos(th)^2 + r^6) \n",
       "Gam^th_t,t = -2*a^2*m*r*cos(th)*sin(th)/(a^6*cos(th)^6 + 3*a^4*r^2*cos(th)^4 + 3*a^2*r^4*cos(th)^2 + r^6) \n",
       "Gam^th_t,r = -2*a^2*m*r*cos(th)*sin(th)/(a^6*cos(th)^6 + 3*a^4*r^2*cos(th)^4 + 3*a^2*r^4*cos(th)^2 + r^6) \n",
       "Gam^th_t,ph = 2*(a^3*m*r + a*m*r^3)*cos(th)*sin(th)/(a^6*cos(th)^6 + 3*a^4*r^2*cos(th)^4 + 3*a^2*r^4*cos(th)^2 + r^6) \n",
       "Gam^th_r,r = -2*a^2*m*r*cos(th)*sin(th)/(a^6*cos(th)^6 + 3*a^4*r^2*cos(th)^4 + 3*a^2*r^4*cos(th)^2 + r^6) \n",
       "Gam^th_r,th = r/(a^2*cos(th)^2 + r^2) \n",
       "Gam^th_r,ph = (a^5*cos(th)^5 + 2*a^3*r^2*cos(th)^3 + (2*a^3*m*r + 2*a*m*r^3 + a*r^4)*cos(th))*sin(th)/(a^6*cos(th)^6 + 3*a^4*r^2*cos(th)^4 + 3*a^2*r^4*cos(th)^2 + r^6) \n",
       "Gam^th_th,th = -a^2*cos(th)*sin(th)/(a^2*cos(th)^2 + r^2) \n",
       "Gam^th_ph,ph = -((a^6 - 2*a^4*m*r + a^4*r^2)*cos(th)^5 + 2*(a^4*r^2 - 2*a^2*m*r^3 + a^2*r^4)*cos(th)^3 + (2*a^4*m*r + 4*a^2*m*r^3 + a^2*r^4 + r^6)*cos(th))*sin(th)/(a^6*cos(th)^6 + 3*a^4*r^2*cos(th)^4 + 3*a^2*r^4*cos(th)^2 + r^6) \n",
       "Gam^ph_t,t = -(a^3*m*cos(th)^2 - a*m*r^2)/(a^6*cos(th)^6 + 3*a^4*r^2*cos(th)^4 + 3*a^2*r^4*cos(th)^2 + r^6) \n",
       "Gam^ph_t,r = -(a^3*m*cos(th)^2 - a*m*r^2)/(a^6*cos(th)^6 + 3*a^4*r^2*cos(th)^4 + 3*a^2*r^4*cos(th)^2 + r^6) \n",
       "Gam^ph_t,th = -2*a*m*r*cos(th)/((a^4*cos(th)^4 + 2*a^2*r^2*cos(th)^2 + r^4)*sin(th)) \n",
       "Gam^ph_t,ph = (a^4*m*cos(th)^2 - a^2*m*r^2)*sin(th)^2/(a^6*cos(th)^6 + 3*a^4*r^2*cos(th)^4 + 3*a^2*r^4*cos(th)^2 + r^6) \n",
       "Gam^ph_r,r = -(a^3*m*cos(th)^2 - a*m*r^2)/(a^6*cos(th)^6 + 3*a^4*r^2*cos(th)^4 + 3*a^2*r^4*cos(th)^2 + r^6) \n",
       "Gam^ph_r,th = -(a^3*cos(th)^3 + (2*a*m*r + a*r^2)*cos(th))/((a^4*cos(th)^4 + 2*a^2*r^2*cos(th)^2 + r^4)*sin(th)) \n",
       "Gam^ph_r,ph = (a^4*r*cos(th)^4 + 2*a^2*r^3*cos(th)^2 + r^5 + (a^4*m*cos(th)^2 - a^2*m*r^2)*sin(th)^2)/(a^6*cos(th)^6 + 3*a^4*r^2*cos(th)^4 + 3*a^2*r^4*cos(th)^2 + r^6) \n",
       "Gam^ph_th,th = -a*r/(a^2*cos(th)^2 + r^2) \n",
       "Gam^ph_th,ph = (a^4*cos(th)^5 - 2*(a^2*m*r - a^2*r^2)*cos(th)^3 + (2*a^2*m*r + r^4)*cos(th))/((a^4*cos(th)^4 + 2*a^2*r^2*cos(th)^2 + r^4)*sin(th)) \n",
       "Gam^ph_ph,ph = -((a^5*m*cos(th)^2 - a^3*m*r^2)*sin(th)^4 + (a^5*r*cos(th)^4 + 2*a^3*r^3*cos(th)^2 + a*r^5)*sin(th)^2)/(a^6*cos(th)^6 + 3*a^4*r^2*cos(th)^4 + 3*a^2*r^4*cos(th)^2 + r^6) "
      ]
     },
     "execution_count": 14,
     "metadata": {},
     "output_type": "execute_result"
    }
   ],
   "source": [
    "g.christoffel_symbols_display()"
   ]
  },
  {
   "cell_type": "markdown",
   "metadata": {},
   "source": [
    "## Vector normal to the hypersurfaces $r=\\mathrm{const}$"
   ]
  },
  {
   "cell_type": "code",
   "execution_count": 15,
   "metadata": {},
   "outputs": [
    {
     "name": "stdout",
     "output_type": "stream",
     "text": [
      "1-form dr on the 4-dimensional differentiable manifold M\n"
     ]
    },
    {
     "data": {
      "text/html": [
       "<html>\\(\\displaystyle \\mathrm{d} r = \\mathrm{d} r\\)</html>"
      ],
      "text/latex": [
       "$\\displaystyle \\mathrm{d} r = \\mathrm{d} r$"
      ],
      "text/plain": [
       "dr = dr"
      ]
     },
     "execution_count": 15,
     "metadata": {},
     "output_type": "execute_result"
    }
   ],
   "source": [
    "dr = X.coframe()[1]\n",
    "print(dr)\n",
    "dr.display()"
   ]
  },
  {
   "cell_type": "code",
   "execution_count": 16,
   "metadata": {},
   "outputs": [
    {
     "name": "stdout",
     "output_type": "stream",
     "text": [
      "Vector field on the 4-dimensional differentiable manifold M\n"
     ]
    },
    {
     "data": {
      "text/html": [
       "<html>\\(\\displaystyle \\left( \\frac{2 \\, m r}{a^{2} \\cos\\left({\\theta}\\right)^{2} + r^{2}} \\right) \\frac{\\partial}{\\partial t } + \\left( \\frac{a^{2} - 2 \\, m r + r^{2}}{a^{2} \\cos\\left({\\theta}\\right)^{2} + r^{2}} \\right) \\frac{\\partial}{\\partial r } + \\left( \\frac{a}{a^{2} \\cos\\left({\\theta}\\right)^{2} + r^{2}} \\right) \\frac{\\partial}{\\partial {\\phi} }\\)</html>"
      ],
      "text/latex": [
       "$\\displaystyle \\left( \\frac{2 \\, m r}{a^{2} \\cos\\left({\\theta}\\right)^{2} + r^{2}} \\right) \\frac{\\partial}{\\partial t } + \\left( \\frac{a^{2} - 2 \\, m r + r^{2}}{a^{2} \\cos\\left({\\theta}\\right)^{2} + r^{2}} \\right) \\frac{\\partial}{\\partial r } + \\left( \\frac{a}{a^{2} \\cos\\left({\\theta}\\right)^{2} + r^{2}} \\right) \\frac{\\partial}{\\partial {\\phi} }$"
      ],
      "text/plain": [
       "2*m*r/(a^2*cos(th)^2 + r^2) ∂/∂t + (a^2 - 2*m*r + r^2)/(a^2*cos(th)^2 + r^2) ∂/∂r + a/(a^2*cos(th)^2 + r^2) ∂/∂ph"
      ]
     },
     "execution_count": 16,
     "metadata": {},
     "output_type": "execute_result"
    }
   ],
   "source": [
    "nr = dr.up(g)\n",
    "print(nr)\n",
    "nr.display()"
   ]
  },
  {
   "cell_type": "code",
   "execution_count": 17,
   "metadata": {},
   "outputs": [
    {
     "data": {
      "text/html": [
       "<html>\\(\\displaystyle m + \\sqrt{-a^{2} + m^{2}}\\)</html>"
      ],
      "text/latex": [
       "$\\displaystyle m + \\sqrt{-a^{2} + m^{2}}$"
      ],
      "text/plain": [
       "m + sqrt(-a^2 + m^2)"
      ]
     },
     "execution_count": 17,
     "metadata": {},
     "output_type": "execute_result"
    }
   ],
   "source": [
    "assume(a^2<m^2)\n",
    "rp = m + sqrt(m^2-a^2)\n",
    "rp"
   ]
  },
  {
   "cell_type": "code",
   "execution_count": 18,
   "metadata": {},
   "outputs": [
    {
     "name": "stdout",
     "output_type": "stream",
     "text": [
      "Point p on the 4-dimensional differentiable manifold M\n"
     ]
    }
   ],
   "source": [
    "p = M.point(coords=(t,rp,th,ph), name='p')\n",
    "print(p)"
   ]
  },
  {
   "cell_type": "code",
   "execution_count": 19,
   "metadata": {},
   "outputs": [
    {
     "data": {
      "text/html": [
       "<html>\\(\\displaystyle \\left(t, m + \\sqrt{-a^{2} + m^{2}}, {\\theta}, {\\phi}\\right)\\)</html>"
      ],
      "text/latex": [
       "$\\displaystyle \\left(t, m + \\sqrt{-a^{2} + m^{2}}, {\\theta}, {\\phi}\\right)$"
      ],
      "text/plain": [
       "(t, m + sqrt(-a^2 + m^2), th, ph)"
      ]
     },
     "execution_count": 19,
     "metadata": {},
     "output_type": "execute_result"
    }
   ],
   "source": [
    "X(p)"
   ]
  },
  {
   "cell_type": "code",
   "execution_count": 20,
   "metadata": {},
   "outputs": [
    {
     "name": "stdout",
     "output_type": "stream",
     "text": [
      "Tangent vector at Point p on the 4-dimensional differentiable manifold M\n"
     ]
    }
   ],
   "source": [
    "nrH = nr.at(p)\n",
    "print(nrH)"
   ]
  },
  {
   "cell_type": "code",
   "execution_count": 21,
   "metadata": {},
   "outputs": [
    {
     "name": "stdout",
     "output_type": "stream",
     "text": [
      "Tangent space at Point p on the 4-dimensional differentiable manifold M\n"
     ]
    }
   ],
   "source": [
    "Tp = M.tangent_space(p)\n",
    "print(Tp)"
   ]
  },
  {
   "cell_type": "code",
   "execution_count": 22,
   "metadata": {},
   "outputs": [
    {
     "data": {
      "text/html": [
       "<html>\\(\\displaystyle \\left(\\frac{\\partial}{\\partial t },\\frac{\\partial}{\\partial r },\\frac{\\partial}{\\partial {\\theta} },\\frac{\\partial}{\\partial {\\phi} }\\right)\\)</html>"
      ],
      "text/latex": [
       "$\\displaystyle \\left(\\frac{\\partial}{\\partial t },\\frac{\\partial}{\\partial r },\\frac{\\partial}{\\partial {\\theta} },\\frac{\\partial}{\\partial {\\phi} }\\right)$"
      ],
      "text/plain": [
       "Basis (∂/∂t,∂/∂r,∂/∂th,∂/∂ph) on the Tangent space at Point p on the 4-dimensional differentiable manifold M"
      ]
     },
     "execution_count": 22,
     "metadata": {},
     "output_type": "execute_result"
    }
   ],
   "source": [
    "Tp.default_basis()"
   ]
  },
  {
   "cell_type": "code",
   "execution_count": 23,
   "metadata": {},
   "outputs": [
    {
     "data": {
      "text/html": [
       "<html>\\(\\displaystyle \\left[-\\frac{2 \\, {\\left(\\sqrt{a + m} \\sqrt{-a + m} m + m^{2}\\right)}}{a^{2} \\sin\\left({\\theta}\\right)^{2} - 2 \\, \\sqrt{a + m} \\sqrt{-a + m} m - 2 \\, m^{2}}, 0, 0, -\\frac{a}{a^{2} \\sin\\left({\\theta}\\right)^{2} - 2 \\, \\sqrt{a + m} \\sqrt{-a + m} m - 2 \\, m^{2}}\\right]\\)</html>"
      ],
      "text/latex": [
       "$\\displaystyle \\left[-\\frac{2 \\, {\\left(\\sqrt{a + m} \\sqrt{-a + m} m + m^{2}\\right)}}{a^{2} \\sin\\left({\\theta}\\right)^{2} - 2 \\, \\sqrt{a + m} \\sqrt{-a + m} m - 2 \\, m^{2}}, 0, 0, -\\frac{a}{a^{2} \\sin\\left({\\theta}\\right)^{2} - 2 \\, \\sqrt{a + m} \\sqrt{-a + m} m - 2 \\, m^{2}}\\right]$"
      ],
      "text/plain": [
       "[-2*(sqrt(a + m)*sqrt(-a + m)*m + m^2)/(a^2*sin(th)^2 - 2*sqrt(a + m)*sqrt(-a + m)*m - 2*m^2),\n",
       " 0,\n",
       " 0,\n",
       " -a/(a^2*sin(th)^2 - 2*sqrt(a + m)*sqrt(-a + m)*m - 2*m^2)]"
      ]
     },
     "execution_count": 23,
     "metadata": {},
     "output_type": "execute_result"
    }
   ],
   "source": [
    "nrH[:]"
   ]
  },
  {
   "cell_type": "code",
   "execution_count": 24,
   "metadata": {},
   "outputs": [
    {
     "data": {
      "text/html": [
       "<html>\\(\\displaystyle \\frac{a}{2 \\, {\\left(m + \\sqrt{-a^{2} + m^{2}}\\right)} m}\\)</html>"
      ],
      "text/latex": [
       "$\\displaystyle \\frac{a}{2 \\, {\\left(m + \\sqrt{-a^{2} + m^{2}}\\right)} m}$"
      ],
      "text/plain": [
       "1/2*a/((m + sqrt(-a^2 + m^2))*m)"
      ]
     },
     "execution_count": 24,
     "metadata": {},
     "output_type": "execute_result"
    }
   ],
   "source": [
    "OmegaH = a/(2*m*rp)\n",
    "OmegaH"
   ]
  },
  {
   "cell_type": "code",
   "execution_count": 25,
   "metadata": {},
   "outputs": [
    {
     "data": {
      "text/html": [
       "<html>\\(\\displaystyle \\frac{\\partial}{\\partial t }\\)</html>"
      ],
      "text/latex": [
       "$\\displaystyle \\frac{\\partial}{\\partial t }$"
      ],
      "text/plain": [
       "Vector field ∂/∂t on the 4-dimensional differentiable manifold M"
      ]
     },
     "execution_count": 25,
     "metadata": {},
     "output_type": "execute_result"
    }
   ],
   "source": [
    "xi = X.frame()[0]\n",
    "xi"
   ]
  },
  {
   "cell_type": "code",
   "execution_count": 26,
   "metadata": {},
   "outputs": [
    {
     "data": {
      "text/html": [
       "<html>\\(\\displaystyle \\frac{\\partial}{\\partial {\\phi} }\\)</html>"
      ],
      "text/latex": [
       "$\\displaystyle \\frac{\\partial}{\\partial {\\phi} }$"
      ],
      "text/plain": [
       "Vector field ∂/∂ph on the 4-dimensional differentiable manifold M"
      ]
     },
     "execution_count": 26,
     "metadata": {},
     "output_type": "execute_result"
    }
   ],
   "source": [
    "eta = X.frame()[3]\n",
    "eta"
   ]
  },
  {
   "cell_type": "code",
   "execution_count": 27,
   "metadata": {},
   "outputs": [
    {
     "data": {
      "text/html": [
       "<html>\\(\\displaystyle \\frac{\\partial}{\\partial t } + \\frac{a}{2 \\, {\\left(m + \\sqrt{-a^{2} + m^{2}}\\right)} m} \\frac{\\partial}{\\partial {\\phi} }\\)</html>"
      ],
      "text/latex": [
       "$\\displaystyle \\frac{\\partial}{\\partial t } + \\frac{a}{2 \\, {\\left(m + \\sqrt{-a^{2} + m^{2}}\\right)} m} \\frac{\\partial}{\\partial {\\phi} }$"
      ],
      "text/plain": [
       "∂/∂t + 1/2*a/((m + sqrt(-a^2 + m^2))*m) ∂/∂ph"
      ]
     },
     "execution_count": 27,
     "metadata": {},
     "output_type": "execute_result"
    }
   ],
   "source": [
    "chi = xi + OmegaH*eta\n",
    "chi.display()"
   ]
  },
  {
   "cell_type": "markdown",
   "metadata": {},
   "source": [
    "## Ingoing principal null geodesics"
   ]
  },
  {
   "cell_type": "code",
   "execution_count": 28,
   "metadata": {},
   "outputs": [
    {
     "data": {
      "text/html": [
       "<html>\\(\\displaystyle k = \\frac{\\partial}{\\partial t }-\\frac{\\partial}{\\partial r }\\)</html>"
      ],
      "text/latex": [
       "$\\displaystyle k = \\frac{\\partial}{\\partial t }-\\frac{\\partial}{\\partial r }$"
      ],
      "text/plain": [
       "k = ∂/∂t - ∂/∂r"
      ]
     },
     "execution_count": 28,
     "metadata": {},
     "output_type": "execute_result"
    }
   ],
   "source": [
    "k = M.vector_field(name='k')\n",
    "k[0] = 1\n",
    "k[1] = -1\n",
    "k.display()"
   ]
  },
  {
   "cell_type": "markdown",
   "metadata": {},
   "source": [
    "Let us check that $k$ is a null vector:"
   ]
  },
  {
   "cell_type": "code",
   "execution_count": 29,
   "metadata": {},
   "outputs": [
    {
     "data": {
      "text/html": [
       "<html>\\(\\displaystyle \\begin{array}{llcl} g\\left(k,k\\right):& M & \\longrightarrow & \\mathbb{R} \\\\ & \\left(t, r, {\\theta}, {\\phi}\\right) & \\longmapsto & 0 \\end{array}\\)</html>"
      ],
      "text/latex": [
       "$\\displaystyle \\begin{array}{llcl} g\\left(k,k\\right):& M & \\longrightarrow & \\mathbb{R} \\\\ & \\left(t, r, {\\theta}, {\\phi}\\right) & \\longmapsto & 0 \\end{array}$"
      ],
      "text/plain": [
       "g(k,k): M → ℝ\n",
       "   (t, r, th, ph) ↦ 0"
      ]
     },
     "execution_count": 29,
     "metadata": {},
     "output_type": "execute_result"
    }
   ],
   "source": [
    "g(k,k).display()"
   ]
  },
  {
   "cell_type": "markdown",
   "metadata": {},
   "source": [
    "Computation of $\\nabla_k k$:"
   ]
  },
  {
   "cell_type": "code",
   "execution_count": 30,
   "metadata": {},
   "outputs": [
    {
     "data": {
      "text/html": [
       "<html>\\(\\displaystyle 0\\)</html>"
      ],
      "text/latex": [
       "$\\displaystyle 0$"
      ],
      "text/plain": [
       "0"
      ]
     },
     "execution_count": 30,
     "metadata": {},
     "output_type": "execute_result"
    }
   ],
   "source": [
    "nab = g.connection()\n",
    "acc = nab(k).contract(k)\n",
    "acc.display()"
   ]
  },
  {
   "cell_type": "code",
   "execution_count": 31,
   "metadata": {},
   "outputs": [
    {
     "data": {
      "text/html": [
       "<html>\\(\\displaystyle \\nabla_{g} k = \\left( \\frac{a^{2} m \\cos\\left({\\theta}\\right)^{2} - m r^{2}}{a^{4} \\cos\\left({\\theta}\\right)^{4} + 2 \\, a^{2} r^{2} \\cos\\left({\\theta}\\right)^{2} + r^{4}} \\right) \\frac{\\partial}{\\partial t }\\otimes \\mathrm{d} t + \\left( \\frac{a^{2} m \\cos\\left({\\theta}\\right)^{2} - m r^{2}}{a^{4} \\cos\\left({\\theta}\\right)^{4} + 2 \\, a^{2} r^{2} \\cos\\left({\\theta}\\right)^{2} + r^{4}} \\right) \\frac{\\partial}{\\partial t }\\otimes \\mathrm{d} r + \\left( -\\frac{{\\left(a^{3} m \\cos\\left({\\theta}\\right)^{2} - a m r^{2}\\right)} \\sin\\left({\\theta}\\right)^{2}}{a^{4} \\cos\\left({\\theta}\\right)^{4} + 2 \\, a^{2} r^{2} \\cos\\left({\\theta}\\right)^{2} + r^{4}} \\right) \\frac{\\partial}{\\partial t }\\otimes \\mathrm{d} {\\phi} + \\left( -\\frac{a^{2} m \\cos\\left({\\theta}\\right)^{2} - m r^{2}}{a^{4} \\cos\\left({\\theta}\\right)^{4} + 2 \\, a^{2} r^{2} \\cos\\left({\\theta}\\right)^{2} + r^{4}} \\right) \\frac{\\partial}{\\partial r }\\otimes \\mathrm{d} t + \\left( -\\frac{a^{2} m \\cos\\left({\\theta}\\right)^{2} - m r^{2}}{a^{4} \\cos\\left({\\theta}\\right)^{4} + 2 \\, a^{2} r^{2} \\cos\\left({\\theta}\\right)^{2} + r^{4}} \\right) \\frac{\\partial}{\\partial r }\\otimes \\mathrm{d} r + \\left( \\frac{a^{2} \\cos\\left({\\theta}\\right) \\sin\\left({\\theta}\\right)}{a^{2} \\cos\\left({\\theta}\\right)^{2} + r^{2}} \\right) \\frac{\\partial}{\\partial r }\\otimes \\mathrm{d} {\\theta} + \\left( -\\frac{{\\left(a^{3} m - a^{3} r\\right)} \\sin\\left({\\theta}\\right)^{4} - {\\left(a^{3} m - a^{3} r - a m r^{2} - a r^{3}\\right)} \\sin\\left({\\theta}\\right)^{2}}{a^{4} \\cos\\left({\\theta}\\right)^{4} + 2 \\, a^{2} r^{2} \\cos\\left({\\theta}\\right)^{2} + r^{4}} \\right) \\frac{\\partial}{\\partial r }\\otimes \\mathrm{d} {\\phi} + \\left( -\\frac{r}{a^{2} \\cos\\left({\\theta}\\right)^{2} + r^{2}} \\right) \\frac{\\partial}{\\partial {\\theta} }\\otimes \\mathrm{d} {\\theta} + \\left( -\\frac{a \\cos\\left({\\theta}\\right) \\sin\\left({\\theta}\\right)}{a^{2} \\cos\\left({\\theta}\\right)^{2} + r^{2}} \\right) \\frac{\\partial}{\\partial {\\theta} }\\otimes \\mathrm{d} {\\phi} + \\frac{a \\cos\\left({\\theta}\\right)}{{\\left(a^{2} \\cos\\left({\\theta}\\right)^{2} + r^{2}\\right)} \\sin\\left({\\theta}\\right)} \\frac{\\partial}{\\partial {\\phi} }\\otimes \\mathrm{d} {\\theta} + \\left( -\\frac{r}{a^{2} \\cos\\left({\\theta}\\right)^{2} + r^{2}} \\right) \\frac{\\partial}{\\partial {\\phi} }\\otimes \\mathrm{d} {\\phi}\\)</html>"
      ],
      "text/latex": [
       "$\\displaystyle \\nabla_{g} k = \\left( \\frac{a^{2} m \\cos\\left({\\theta}\\right)^{2} - m r^{2}}{a^{4} \\cos\\left({\\theta}\\right)^{4} + 2 \\, a^{2} r^{2} \\cos\\left({\\theta}\\right)^{2} + r^{4}} \\right) \\frac{\\partial}{\\partial t }\\otimes \\mathrm{d} t + \\left( \\frac{a^{2} m \\cos\\left({\\theta}\\right)^{2} - m r^{2}}{a^{4} \\cos\\left({\\theta}\\right)^{4} + 2 \\, a^{2} r^{2} \\cos\\left({\\theta}\\right)^{2} + r^{4}} \\right) \\frac{\\partial}{\\partial t }\\otimes \\mathrm{d} r + \\left( -\\frac{{\\left(a^{3} m \\cos\\left({\\theta}\\right)^{2} - a m r^{2}\\right)} \\sin\\left({\\theta}\\right)^{2}}{a^{4} \\cos\\left({\\theta}\\right)^{4} + 2 \\, a^{2} r^{2} \\cos\\left({\\theta}\\right)^{2} + r^{4}} \\right) \\frac{\\partial}{\\partial t }\\otimes \\mathrm{d} {\\phi} + \\left( -\\frac{a^{2} m \\cos\\left({\\theta}\\right)^{2} - m r^{2}}{a^{4} \\cos\\left({\\theta}\\right)^{4} + 2 \\, a^{2} r^{2} \\cos\\left({\\theta}\\right)^{2} + r^{4}} \\right) \\frac{\\partial}{\\partial r }\\otimes \\mathrm{d} t + \\left( -\\frac{a^{2} m \\cos\\left({\\theta}\\right)^{2} - m r^{2}}{a^{4} \\cos\\left({\\theta}\\right)^{4} + 2 \\, a^{2} r^{2} \\cos\\left({\\theta}\\right)^{2} + r^{4}} \\right) \\frac{\\partial}{\\partial r }\\otimes \\mathrm{d} r + \\left( \\frac{a^{2} \\cos\\left({\\theta}\\right) \\sin\\left({\\theta}\\right)}{a^{2} \\cos\\left({\\theta}\\right)^{2} + r^{2}} \\right) \\frac{\\partial}{\\partial r }\\otimes \\mathrm{d} {\\theta} + \\left( -\\frac{{\\left(a^{3} m - a^{3} r\\right)} \\sin\\left({\\theta}\\right)^{4} - {\\left(a^{3} m - a^{3} r - a m r^{2} - a r^{3}\\right)} \\sin\\left({\\theta}\\right)^{2}}{a^{4} \\cos\\left({\\theta}\\right)^{4} + 2 \\, a^{2} r^{2} \\cos\\left({\\theta}\\right)^{2} + r^{4}} \\right) \\frac{\\partial}{\\partial r }\\otimes \\mathrm{d} {\\phi} + \\left( -\\frac{r}{a^{2} \\cos\\left({\\theta}\\right)^{2} + r^{2}} \\right) \\frac{\\partial}{\\partial {\\theta} }\\otimes \\mathrm{d} {\\theta} + \\left( -\\frac{a \\cos\\left({\\theta}\\right) \\sin\\left({\\theta}\\right)}{a^{2} \\cos\\left({\\theta}\\right)^{2} + r^{2}} \\right) \\frac{\\partial}{\\partial {\\theta} }\\otimes \\mathrm{d} {\\phi} + \\frac{a \\cos\\left({\\theta}\\right)}{{\\left(a^{2} \\cos\\left({\\theta}\\right)^{2} + r^{2}\\right)} \\sin\\left({\\theta}\\right)} \\frac{\\partial}{\\partial {\\phi} }\\otimes \\mathrm{d} {\\theta} + \\left( -\\frac{r}{a^{2} \\cos\\left({\\theta}\\right)^{2} + r^{2}} \\right) \\frac{\\partial}{\\partial {\\phi} }\\otimes \\mathrm{d} {\\phi}$"
      ],
      "text/plain": [
       "nabla_g(k) = (a^2*m*cos(th)^2 - m*r^2)/(a^4*cos(th)^4 + 2*a^2*r^2*cos(th)^2 + r^4) ∂/∂t⊗dt + (a^2*m*cos(th)^2 - m*r^2)/(a^4*cos(th)^4 + 2*a^2*r^2*cos(th)^2 + r^4) ∂/∂t⊗dr - (a^3*m*cos(th)^2 - a*m*r^2)*sin(th)^2/(a^4*cos(th)^4 + 2*a^2*r^2*cos(th)^2 + r^4) ∂/∂t⊗dph - (a^2*m*cos(th)^2 - m*r^2)/(a^4*cos(th)^4 + 2*a^2*r^2*cos(th)^2 + r^4) ∂/∂r⊗dt - (a^2*m*cos(th)^2 - m*r^2)/(a^4*cos(th)^4 + 2*a^2*r^2*cos(th)^2 + r^4) ∂/∂r⊗dr + a^2*cos(th)*sin(th)/(a^2*cos(th)^2 + r^2) ∂/∂r⊗dth - ((a^3*m - a^3*r)*sin(th)^4 - (a^3*m - a^3*r - a*m*r^2 - a*r^3)*sin(th)^2)/(a^4*cos(th)^4 + 2*a^2*r^2*cos(th)^2 + r^4) ∂/∂r⊗dph - r/(a^2*cos(th)^2 + r^2) ∂/∂th⊗dth - a*cos(th)*sin(th)/(a^2*cos(th)^2 + r^2) ∂/∂th⊗dph + a*cos(th)/((a^2*cos(th)^2 + r^2)*sin(th)) ∂/∂ph⊗dth - r/(a^2*cos(th)^2 + r^2) ∂/∂ph⊗dph"
      ]
     },
     "execution_count": 31,
     "metadata": {},
     "output_type": "execute_result"
    }
   ],
   "source": [
    "nab(k).display()"
   ]
  },
  {
   "cell_type": "markdown",
   "metadata": {},
   "source": [
    "## Outgoing principal null geodesics"
   ]
  },
  {
   "cell_type": "code",
   "execution_count": 32,
   "metadata": {},
   "outputs": [
    {
     "data": {
      "text/html": [
       "<html>\\(\\displaystyle \\ell = \\left( \\frac{m r}{a^{2} + r^{2}} + \\frac{1}{2} \\right) \\frac{\\partial}{\\partial t } + \\left( -\\frac{m r}{a^{2} + r^{2}} + \\frac{1}{2} \\right) \\frac{\\partial}{\\partial r } + \\left( \\frac{a}{a^{2} + r^{2}} \\right) \\frac{\\partial}{\\partial {\\phi} }\\)</html>"
      ],
      "text/latex": [
       "$\\displaystyle \\ell = \\left( \\frac{m r}{a^{2} + r^{2}} + \\frac{1}{2} \\right) \\frac{\\partial}{\\partial t } + \\left( -\\frac{m r}{a^{2} + r^{2}} + \\frac{1}{2} \\right) \\frac{\\partial}{\\partial r } + \\left( \\frac{a}{a^{2} + r^{2}} \\right) \\frac{\\partial}{\\partial {\\phi} }$"
      ],
      "text/plain": [
       "el = (m*r/(a^2 + r^2) + 1/2) ∂/∂t + (-m*r/(a^2 + r^2) + 1/2) ∂/∂r + a/(a^2 + r^2) ∂/∂ph"
      ]
     },
     "execution_count": 32,
     "metadata": {},
     "output_type": "execute_result"
    }
   ],
   "source": [
    "el = M.vector_field(name='el', latex_name=r'\\ell')\n",
    "el[0] = 1/2 + m*r/(r^2+a^2)\n",
    "el[1] = 1/2 - m*r/(r^2+a^2)\n",
    "el[3] = a/(r^2+a^2)\n",
    "el.display()"
   ]
  },
  {
   "cell_type": "markdown",
   "metadata": {},
   "source": [
    "Let us check that $\\ell$ is a null vector:"
   ]
  },
  {
   "cell_type": "code",
   "execution_count": 33,
   "metadata": {},
   "outputs": [
    {
     "data": {
      "text/html": [
       "<html>\\(\\displaystyle \\begin{array}{llcl} g\\left(\\ell,\\ell\\right):& M & \\longrightarrow & \\mathbb{R} \\\\ & \\left(t, r, {\\theta}, {\\phi}\\right) & \\longmapsto & 0 \\end{array}\\)</html>"
      ],
      "text/latex": [
       "$\\displaystyle \\begin{array}{llcl} g\\left(\\ell,\\ell\\right):& M & \\longrightarrow & \\mathbb{R} \\\\ & \\left(t, r, {\\theta}, {\\phi}\\right) & \\longmapsto & 0 \\end{array}$"
      ],
      "text/plain": [
       "g(el,el): M → ℝ\n",
       "   (t, r, th, ph) ↦ 0"
      ]
     },
     "execution_count": 33,
     "metadata": {},
     "output_type": "execute_result"
    }
   ],
   "source": [
    "g(el,el).display()"
   ]
  },
  {
   "cell_type": "markdown",
   "metadata": {},
   "source": [
    "Computation of $\\nabla_\\ell \\ell$:"
   ]
  },
  {
   "cell_type": "code",
   "execution_count": 34,
   "metadata": {},
   "outputs": [
    {
     "data": {
      "text/html": [
       "<html>\\(\\displaystyle \\left( -\\frac{a^{4} m + 2 \\, a^{2} m^{2} r - 2 \\, m^{2} r^{3} - m r^{4}}{2 \\, {\\left(a^{6} + 3 \\, a^{4} r^{2} + 3 \\, a^{2} r^{4} + r^{6}\\right)}} \\right) \\frac{\\partial}{\\partial t } + \\left( -\\frac{a^{4} m - 2 \\, a^{2} m^{2} r + 2 \\, m^{2} r^{3} - m r^{4}}{2 \\, {\\left(a^{6} + 3 \\, a^{4} r^{2} + 3 \\, a^{2} r^{4} + r^{6}\\right)}} \\right) \\frac{\\partial}{\\partial r } + \\left( -\\frac{a^{3} m - a m r^{2}}{a^{6} + 3 \\, a^{4} r^{2} + 3 \\, a^{2} r^{4} + r^{6}} \\right) \\frac{\\partial}{\\partial {\\phi} }\\)</html>"
      ],
      "text/latex": [
       "$\\displaystyle \\left( -\\frac{a^{4} m + 2 \\, a^{2} m^{2} r - 2 \\, m^{2} r^{3} - m r^{4}}{2 \\, {\\left(a^{6} + 3 \\, a^{4} r^{2} + 3 \\, a^{2} r^{4} + r^{6}\\right)}} \\right) \\frac{\\partial}{\\partial t } + \\left( -\\frac{a^{4} m - 2 \\, a^{2} m^{2} r + 2 \\, m^{2} r^{3} - m r^{4}}{2 \\, {\\left(a^{6} + 3 \\, a^{4} r^{2} + 3 \\, a^{2} r^{4} + r^{6}\\right)}} \\right) \\frac{\\partial}{\\partial r } + \\left( -\\frac{a^{3} m - a m r^{2}}{a^{6} + 3 \\, a^{4} r^{2} + 3 \\, a^{2} r^{4} + r^{6}} \\right) \\frac{\\partial}{\\partial {\\phi} }$"
      ],
      "text/plain": [
       "-1/2*(a^4*m + 2*a^2*m^2*r - 2*m^2*r^3 - m*r^4)/(a^6 + 3*a^4*r^2 + 3*a^2*r^4 + r^6) ∂/∂t - 1/2*(a^4*m - 2*a^2*m^2*r + 2*m^2*r^3 - m*r^4)/(a^6 + 3*a^4*r^2 + 3*a^2*r^4 + r^6) ∂/∂r - (a^3*m - a*m*r^2)/(a^6 + 3*a^4*r^2 + 3*a^2*r^4 + r^6) ∂/∂ph"
      ]
     },
     "execution_count": 34,
     "metadata": {},
     "output_type": "execute_result"
    }
   ],
   "source": [
    "acc = nab(el).contract(el)\n",
    "acc.display()"
   ]
  },
  {
   "cell_type": "markdown",
   "metadata": {},
   "source": [
    "We check that $\\nabla_\\ell \\ell \\propto \\ell$:"
   ]
  },
  {
   "cell_type": "code",
   "execution_count": 35,
   "metadata": {},
   "outputs": [
    {
     "data": {
      "text/html": [
       "<html>\\(\\displaystyle -\\frac{a^{2} m - m r^{2}}{a^{4} + 2 \\, a^{2} r^{2} + r^{4}}\\)</html>"
      ],
      "text/latex": [
       "$\\displaystyle -\\frac{a^{2} m - m r^{2}}{a^{4} + 2 \\, a^{2} r^{2} + r^{4}}$"
      ],
      "text/plain": [
       "-(a^2*m - m*r^2)/(a^4 + 2*a^2*r^2 + r^4)"
      ]
     },
     "metadata": {},
     "output_type": "display_data"
    },
    {
     "data": {
      "text/html": [
       "<html>\\(\\displaystyle -\\frac{a^{2} m - m r^{2}}{a^{4} + 2 \\, a^{2} r^{2} + r^{4}}\\)</html>"
      ],
      "text/latex": [
       "$\\displaystyle -\\frac{a^{2} m - m r^{2}}{a^{4} + 2 \\, a^{2} r^{2} + r^{4}}$"
      ],
      "text/plain": [
       "-(a^2*m - m*r^2)/(a^4 + 2*a^2*r^2 + r^4)"
      ]
     },
     "metadata": {},
     "output_type": "display_data"
    },
    {
     "data": {
      "text/html": [
       "<html>\\(\\displaystyle -\\frac{a^{2} m - m r^{2}}{a^{4} + 2 \\, a^{2} r^{2} + r^{4}}\\)</html>"
      ],
      "text/latex": [
       "$\\displaystyle -\\frac{a^{2} m - m r^{2}}{a^{4} + 2 \\, a^{2} r^{2} + r^{4}}$"
      ],
      "text/plain": [
       "-(a^2*m - m*r^2)/(a^4 + 2*a^2*r^2 + r^4)"
      ]
     },
     "metadata": {},
     "output_type": "display_data"
    }
   ],
   "source": [
    "for i in [0,1,3]:\n",
    "    show(acc[i] / el[i])"
   ]
  },
  {
   "cell_type": "markdown",
   "metadata": {},
   "source": [
    "Hence we may write $\\nabla_\\ell\\ell = \\kappa \\ell$:"
   ]
  },
  {
   "cell_type": "code",
   "execution_count": 36,
   "metadata": {},
   "outputs": [
    {
     "data": {
      "text/html": [
       "<html>\\(\\displaystyle -\\frac{a^{2} m - m r^{2}}{a^{4} + 2 \\, a^{2} r^{2} + r^{4}}\\)</html>"
      ],
      "text/latex": [
       "$\\displaystyle -\\frac{a^{2} m - m r^{2}}{a^{4} + 2 \\, a^{2} r^{2} + r^{4}}$"
      ],
      "text/plain": [
       "-(a^2*m - m*r^2)/(a^4 + 2*a^2*r^2 + r^4)"
      ]
     },
     "execution_count": 36,
     "metadata": {},
     "output_type": "execute_result"
    }
   ],
   "source": [
    "kappa = (acc[0] / el[0]).expr()\n",
    "kappa"
   ]
  },
  {
   "cell_type": "code",
   "execution_count": 37,
   "metadata": {},
   "outputs": [
    {
     "data": {
      "text/html": [
       "<html>\\(\\displaystyle \\mathrm{True}\\)</html>"
      ],
      "text/latex": [
       "$\\displaystyle \\mathrm{True}$"
      ],
      "text/plain": [
       "True"
      ]
     },
     "execution_count": 37,
     "metadata": {},
     "output_type": "execute_result"
    }
   ],
   "source": [
    "acc == kappa * el"
   ]
  },
  {
   "cell_type": "markdown",
   "metadata": {},
   "source": [
    "The $g$-dual 1-form $\\underline{\\ell}$ (i.e. the 1-form of components $\\ell_\\alpha = g_{\\alpha\\mu} \\ell^\\mu$)\n",
    "is obtained via the method `down()`:"
   ]
  },
  {
   "cell_type": "code",
   "execution_count": 38,
   "metadata": {},
   "outputs": [
    {
     "data": {
      "text/html": [
       "<html>\\(\\displaystyle \\left( -\\frac{a^{2} - 2 \\, m r + r^{2}}{2 \\, {\\left(a^{2} + r^{2}\\right)}} \\right) \\mathrm{d} t + \\left( \\frac{2 \\, a^{2} \\cos\\left({\\theta}\\right)^{2} - a^{2} + 2 \\, m r + r^{2}}{2 \\, {\\left(a^{2} + r^{2}\\right)}} \\right) \\mathrm{d} r + \\left( -\\frac{{\\left(a^{5} - 2 \\, a^{3} m r + a^{3} r^{2}\\right)} \\sin\\left({\\theta}\\right)^{4} - {\\left(a^{5} - 2 \\, a^{3} m r + 2 \\, a^{3} r^{2} - 2 \\, a m r^{3} + a r^{4}\\right)} \\sin\\left({\\theta}\\right)^{2}}{2 \\, {\\left(a^{2} r^{2} + r^{4} + {\\left(a^{4} + a^{2} r^{2}\\right)} \\cos\\left({\\theta}\\right)^{2}\\right)}} \\right) \\mathrm{d} {\\phi}\\)</html>"
      ],
      "text/latex": [
       "$\\displaystyle \\left( -\\frac{a^{2} - 2 \\, m r + r^{2}}{2 \\, {\\left(a^{2} + r^{2}\\right)}} \\right) \\mathrm{d} t + \\left( \\frac{2 \\, a^{2} \\cos\\left({\\theta}\\right)^{2} - a^{2} + 2 \\, m r + r^{2}}{2 \\, {\\left(a^{2} + r^{2}\\right)}} \\right) \\mathrm{d} r + \\left( -\\frac{{\\left(a^{5} - 2 \\, a^{3} m r + a^{3} r^{2}\\right)} \\sin\\left({\\theta}\\right)^{4} - {\\left(a^{5} - 2 \\, a^{3} m r + 2 \\, a^{3} r^{2} - 2 \\, a m r^{3} + a r^{4}\\right)} \\sin\\left({\\theta}\\right)^{2}}{2 \\, {\\left(a^{2} r^{2} + r^{4} + {\\left(a^{4} + a^{2} r^{2}\\right)} \\cos\\left({\\theta}\\right)^{2}\\right)}} \\right) \\mathrm{d} {\\phi}$"
      ],
      "text/plain": [
       "-1/2*(a^2 - 2*m*r + r^2)/(a^2 + r^2) dt + 1/2*(2*a^2*cos(th)^2 - a^2 + 2*m*r + r^2)/(a^2 + r^2) dr - 1/2*((a^5 - 2*a^3*m*r + a^3*r^2)*sin(th)^4 - (a^5 - 2*a^3*m*r + 2*a^3*r^2 - 2*a*m*r^3 + a*r^4)*sin(th)^2)/(a^2*r^2 + r^4 + (a^4 + a^2*r^2)*cos(th)^2) dph"
      ]
     },
     "execution_count": 38,
     "metadata": {},
     "output_type": "execute_result"
    }
   ],
   "source": [
    "el_form = el.down(g)\n",
    "el_form.display()"
   ]
  },
  {
   "cell_type": "markdown",
   "metadata": {},
   "source": [
    "We apply extra trigonometric simplifications on the components and factor them, via the method `apply_map`:"
   ]
  },
  {
   "cell_type": "code",
   "execution_count": 39,
   "metadata": {},
   "outputs": [
    {
     "data": {
      "text/html": [
       "<html>\\(\\displaystyle \\left( -\\frac{a^{2} - 2 \\, m r + r^{2}}{2 \\, {\\left(a^{2} + r^{2}\\right)}} \\right) \\mathrm{d} t + \\left( \\frac{2 \\, a^{2} \\cos\\left({\\theta}\\right)^{2} - a^{2} + 2 \\, m r + r^{2}}{2 \\, {\\left(a^{2} + r^{2}\\right)}} \\right) \\mathrm{d} r + \\frac{{\\left(a^{2} - 2 \\, m r + r^{2}\\right)} a \\sin\\left({\\theta}\\right)^{2}}{2 \\, {\\left(a^{2} + r^{2}\\right)}} \\mathrm{d} {\\phi}\\)</html>"
      ],
      "text/latex": [
       "$\\displaystyle \\left( -\\frac{a^{2} - 2 \\, m r + r^{2}}{2 \\, {\\left(a^{2} + r^{2}\\right)}} \\right) \\mathrm{d} t + \\left( \\frac{2 \\, a^{2} \\cos\\left({\\theta}\\right)^{2} - a^{2} + 2 \\, m r + r^{2}}{2 \\, {\\left(a^{2} + r^{2}\\right)}} \\right) \\mathrm{d} r + \\frac{{\\left(a^{2} - 2 \\, m r + r^{2}\\right)} a \\sin\\left({\\theta}\\right)^{2}}{2 \\, {\\left(a^{2} + r^{2}\\right)}} \\mathrm{d} {\\phi}$"
      ],
      "text/plain": [
       "-1/2*(a^2 - 2*m*r + r^2)/(a^2 + r^2) dt + 1/2*(2*a^2*cos(th)^2 - a^2 + 2*m*r + r^2)/(a^2 + r^2) dr + 1/2*(a^2 - 2*m*r + r^2)*a*sin(th)^2/(a^2 + r^2) dph"
      ]
     },
     "execution_count": 39,
     "metadata": {},
     "output_type": "execute_result"
    }
   ],
   "source": [
    "el_form.apply_map(lambda x: x.trig_reduce())\n",
    "el_form.apply_map(lambda x: x.simplify_trig())\n",
    "el_form.apply_map(factor)\n",
    "el_form.display()"
   ]
  },
  {
   "cell_type": "markdown",
   "metadata": {},
   "source": [
    "The scalar product $\\ell\\cdot k = \\langle \\underline\\ell, k \\rangle$:"
   ]
  },
  {
   "cell_type": "code",
   "execution_count": 40,
   "metadata": {},
   "outputs": [
    {
     "data": {
      "text/html": [
       "<html>\\(\\displaystyle \\begin{array}{llcl} & M & \\longrightarrow & \\mathbb{R} \\\\ & \\left(t, r, {\\theta}, {\\phi}\\right) & \\longmapsto & -\\frac{a^{2} \\cos\\left({\\theta}\\right)^{2} + r^{2}}{a^{2} + r^{2}} \\end{array}\\)</html>"
      ],
      "text/latex": [
       "$\\displaystyle \\begin{array}{llcl} & M & \\longrightarrow & \\mathbb{R} \\\\ & \\left(t, r, {\\theta}, {\\phi}\\right) & \\longmapsto & -\\frac{a^{2} \\cos\\left({\\theta}\\right)^{2} + r^{2}}{a^{2} + r^{2}} \\end{array}$"
      ],
      "text/plain": [
       "M → ℝ\n",
       "(t, r, th, ph) ↦ -(a^2*cos(th)^2 + r^2)/(a^2 + r^2)"
      ]
     },
     "execution_count": 40,
     "metadata": {},
     "output_type": "execute_result"
    }
   ],
   "source": [
    "el_form(k).display()"
   ]
  },
  {
   "cell_type": "code",
   "execution_count": 41,
   "metadata": {},
   "outputs": [
    {
     "data": {
      "text/html": [
       "<html>\\(\\displaystyle \\mathrm{True}\\)</html>"
      ],
      "text/latex": [
       "$\\displaystyle \\mathrm{True}$"
      ],
      "text/plain": [
       "True"
      ]
     },
     "execution_count": 41,
     "metadata": {},
     "output_type": "execute_result"
    }
   ],
   "source": [
    "el_form(k) == g(el, k)"
   ]
  },
  {
   "cell_type": "markdown",
   "metadata": {},
   "source": [
    "## Surface gravity\n",
    "\n",
    "On $H$, $\\ell$ coincides with the Killing vector $\\chi$:"
   ]
  },
  {
   "cell_type": "code",
   "execution_count": 42,
   "metadata": {},
   "outputs": [
    {
     "data": {
      "text/html": [
       "<html>\\(\\displaystyle \\mathrm{True}\\)</html>"
      ],
      "text/latex": [
       "$\\displaystyle \\mathrm{True}$"
      ],
      "text/plain": [
       "True"
      ]
     },
     "execution_count": 42,
     "metadata": {},
     "output_type": "execute_result"
    }
   ],
   "source": [
    "el.at(p) == chi.at(p)"
   ]
  },
  {
   "cell_type": "markdown",
   "metadata": {},
   "source": [
    "Therefore the surface gravity of the Kerr black hole is nothing but the value of the non-affinity coefficient of $\\ell$ on $H$:"
   ]
  },
  {
   "cell_type": "code",
   "execution_count": 43,
   "metadata": {},
   "outputs": [
    {
     "data": {
      "text/html": [
       "<html>\\(\\displaystyle \\frac{a^{2} - m^{2} - \\sqrt{-a^{2} + m^{2}} m}{2 \\, {\\left(a^{2} m - 2 \\, m^{3} - 2 \\, \\sqrt{-a^{2} + m^{2}} m^{2}\\right)}}\\)</html>"
      ],
      "text/latex": [
       "$\\displaystyle \\frac{a^{2} - m^{2} - \\sqrt{-a^{2} + m^{2}} m}{2 \\, {\\left(a^{2} m - 2 \\, m^{3} - 2 \\, \\sqrt{-a^{2} + m^{2}} m^{2}\\right)}}$"
      ],
      "text/plain": [
       "1/2*(a^2 - m^2 - sqrt(-a^2 + m^2)*m)/(a^2*m - 2*m^3 - 2*sqrt(-a^2 + m^2)*m^2)"
      ]
     },
     "execution_count": 43,
     "metadata": {},
     "output_type": "execute_result"
    }
   ],
   "source": [
    "kappaH = kappa.subs(r=rp).simplify_full()\n",
    "kappaH"
   ]
  },
  {
   "cell_type": "code",
   "execution_count": 44,
   "metadata": {},
   "outputs": [
    {
     "data": {
      "text/html": [
       "<html>\\(\\displaystyle \\mathrm{True}\\)</html>"
      ],
      "text/latex": [
       "$\\displaystyle \\mathrm{True}$"
      ],
      "text/plain": [
       "True"
      ]
     },
     "execution_count": 44,
     "metadata": {},
     "output_type": "execute_result"
    }
   ],
   "source": [
    "bool(kappaH == sqrt(m^2-a^2)/(2*m*(m+sqrt(m^2-a^2))))"
   ]
  },
  {
   "cell_type": "markdown",
   "metadata": {},
   "source": [
    "### A variant for $\\ell$:"
   ]
  },
  {
   "cell_type": "code",
   "execution_count": 45,
   "metadata": {},
   "outputs": [
    {
     "data": {
      "text/html": [
       "<html>\\(\\displaystyle \\ell = \\left( a^{2} + 2 \\, m r + r^{2} \\right) \\frac{\\partial}{\\partial t } + \\left( a^{2} - 2 \\, m r + r^{2} \\right) \\frac{\\partial}{\\partial r } + 2 \\, a \\frac{\\partial}{\\partial {\\phi} }\\)</html>"
      ],
      "text/latex": [
       "$\\displaystyle \\ell = \\left( a^{2} + 2 \\, m r + r^{2} \\right) \\frac{\\partial}{\\partial t } + \\left( a^{2} - 2 \\, m r + r^{2} \\right) \\frac{\\partial}{\\partial r } + 2 \\, a \\frac{\\partial}{\\partial {\\phi} }$"
      ],
      "text/plain": [
       "el = (a^2 + 2*m*r + r^2) ∂/∂t + (a^2 - 2*m*r + r^2) ∂/∂r + 2*a ∂/∂ph"
      ]
     },
     "execution_count": 45,
     "metadata": {},
     "output_type": "execute_result"
    }
   ],
   "source": [
    "el = M.vector_field(name='el', latex_name=r'\\ell')\n",
    "el[0] = r^2+a^2 + 2*m*r\n",
    "el[1] = r^2+a^2 - 2*m*r\n",
    "el[3] = 2*a\n",
    "el.display()"
   ]
  },
  {
   "cell_type": "code",
   "execution_count": 46,
   "metadata": {},
   "outputs": [
    {
     "data": {
      "text/html": [
       "<html>\\(\\displaystyle \\begin{array}{llcl} g\\left(\\ell,\\ell\\right):& M & \\longrightarrow & \\mathbb{R} \\\\ & \\left(t, r, {\\theta}, {\\phi}\\right) & \\longmapsto & 0 \\end{array}\\)</html>"
      ],
      "text/latex": [
       "$\\displaystyle \\begin{array}{llcl} g\\left(\\ell,\\ell\\right):& M & \\longrightarrow & \\mathbb{R} \\\\ & \\left(t, r, {\\theta}, {\\phi}\\right) & \\longmapsto & 0 \\end{array}$"
      ],
      "text/plain": [
       "g(el,el): M → ℝ\n",
       "   (t, r, th, ph) ↦ 0"
      ]
     },
     "execution_count": 46,
     "metadata": {},
     "output_type": "execute_result"
    }
   ],
   "source": [
    "g(el,el).display()"
   ]
  },
  {
   "cell_type": "code",
   "execution_count": 47,
   "metadata": {},
   "outputs": [
    {
     "data": {
      "text/html": [
       "<html>\\(\\displaystyle \\left( -2 \\, a^{2} m + 2 \\, m r^{2} + 2 \\, r^{3} + 2 \\, {\\left(a^{2} - 2 \\, m^{2}\\right)} r \\right) \\frac{\\partial}{\\partial t } + \\left( -2 \\, a^{2} m - 6 \\, m r^{2} + 2 \\, r^{3} + 2 \\, {\\left(a^{2} + 2 \\, m^{2}\\right)} r \\right) \\frac{\\partial}{\\partial r } + \\left( -4 \\, a m + 4 \\, a r \\right) \\frac{\\partial}{\\partial {\\phi} }\\)</html>"
      ],
      "text/latex": [
       "$\\displaystyle \\left( -2 \\, a^{2} m + 2 \\, m r^{2} + 2 \\, r^{3} + 2 \\, {\\left(a^{2} - 2 \\, m^{2}\\right)} r \\right) \\frac{\\partial}{\\partial t } + \\left( -2 \\, a^{2} m - 6 \\, m r^{2} + 2 \\, r^{3} + 2 \\, {\\left(a^{2} + 2 \\, m^{2}\\right)} r \\right) \\frac{\\partial}{\\partial r } + \\left( -4 \\, a m + 4 \\, a r \\right) \\frac{\\partial}{\\partial {\\phi} }$"
      ],
      "text/plain": [
       "(-2*a^2*m + 2*m*r^2 + 2*r^3 + 2*(a^2 - 2*m^2)*r) ∂/∂t + (-2*a^2*m - 6*m*r^2 + 2*r^3 + 2*(a^2 + 2*m^2)*r) ∂/∂r + (-4*a*m + 4*a*r) ∂/∂ph"
      ]
     },
     "execution_count": 47,
     "metadata": {},
     "output_type": "execute_result"
    }
   ],
   "source": [
    "acc = nab(el).contract(el)\n",
    "acc.display()"
   ]
  },
  {
   "cell_type": "code",
   "execution_count": 48,
   "metadata": {},
   "outputs": [
    {
     "data": {
      "text/html": [
       "<html>\\(\\displaystyle -2 \\, m + 2 \\, r\\)</html>"
      ],
      "text/latex": [
       "$\\displaystyle -2 \\, m + 2 \\, r$"
      ],
      "text/plain": [
       "-2*m + 2*r"
      ]
     },
     "metadata": {},
     "output_type": "display_data"
    },
    {
     "data": {
      "text/html": [
       "<html>\\(\\displaystyle -2 \\, m + 2 \\, r\\)</html>"
      ],
      "text/latex": [
       "$\\displaystyle -2 \\, m + 2 \\, r$"
      ],
      "text/plain": [
       "-2*m + 2*r"
      ]
     },
     "metadata": {},
     "output_type": "display_data"
    },
    {
     "data": {
      "text/html": [
       "<html>\\(\\displaystyle -2 \\, m + 2 \\, r\\)</html>"
      ],
      "text/latex": [
       "$\\displaystyle -2 \\, m + 2 \\, r$"
      ],
      "text/plain": [
       "-2*m + 2*r"
      ]
     },
     "metadata": {},
     "output_type": "display_data"
    }
   ],
   "source": [
    "for i in [0,1,3]:\n",
    "    pretty_print(acc[i] / el[i])"
   ]
  },
  {
   "cell_type": "code",
   "execution_count": 49,
   "metadata": {},
   "outputs": [
    {
     "data": {
      "text/html": [
       "<html>\\(\\displaystyle -2 \\, m + 2 \\, r\\)</html>"
      ],
      "text/latex": [
       "$\\displaystyle -2 \\, m + 2 \\, r$"
      ],
      "text/plain": [
       "-2*m + 2*r"
      ]
     },
     "execution_count": 49,
     "metadata": {},
     "output_type": "execute_result"
    }
   ],
   "source": [
    "kappa = (acc[0] / el[0]).expr()\n",
    "kappa"
   ]
  },
  {
   "cell_type": "code",
   "execution_count": 50,
   "metadata": {},
   "outputs": [
    {
     "data": {
      "text/html": [
       "<html>\\(\\displaystyle \\mathrm{True}\\)</html>"
      ],
      "text/latex": [
       "$\\displaystyle \\mathrm{True}$"
      ],
      "text/plain": [
       "True"
      ]
     },
     "execution_count": 50,
     "metadata": {},
     "output_type": "execute_result"
    }
   ],
   "source": [
    "acc == kappa * el"
   ]
  }
 ],
 "metadata": {
  "kernelspec": {
   "display_name": "SageMath 10.2.beta8",
   "language": "sage",
   "name": "sagemath"
  },
  "language_info": {
   "codemirror_mode": {
    "name": "ipython",
    "version": 3
   },
   "file_extension": ".py",
   "mimetype": "text/x-python",
   "name": "python",
   "nbconvert_exporter": "python",
   "pygments_lexer": "ipython3",
   "version": "3.10.12"
  }
 },
 "nbformat": 4,
 "nbformat_minor": 4
}
