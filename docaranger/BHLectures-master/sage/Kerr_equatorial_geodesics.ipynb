{
 "cells": [
  {
   "cell_type": "markdown",
   "metadata": {},
   "source": [
    "# Equatorial geodesics in Kerr spacetime"
   ]
  },
  {
   "cell_type": "code",
   "execution_count": 1,
   "metadata": {},
   "outputs": [],
   "source": [
    "%display latex"
   ]
  },
  {
   "cell_type": "markdown",
   "metadata": {},
   "source": [
    "The spacetime manifold and Boyer-Lindquist coordinates:"
   ]
  },
  {
   "cell_type": "code",
   "execution_count": 2,
   "metadata": {},
   "outputs": [
    {
     "data": {
      "text/html": [
       "<html><script type=\"math/tex; mode=display\">\\newcommand{\\Bold}[1]{\\mathbf{#1}}\\left(M,(t, r, {\\theta}, {\\phi})\\right)</script></html>"
      ],
      "text/plain": [
       "Chart (M, (t, r, th, ph))"
      ]
     },
     "execution_count": 2,
     "metadata": {},
     "output_type": "execute_result"
    }
   ],
   "source": [
    "M = Manifold(4, 'M')\n",
    "X.<t,r,th,ph> = M.chart(r\"t r:(0,+oo) th:(0,pi):\\theta ph:(0,2*pi):\\phi\")\n",
    "X"
   ]
  },
  {
   "cell_type": "markdown",
   "metadata": {},
   "source": [
    "The spacetime metric:"
   ]
  },
  {
   "cell_type": "code",
   "execution_count": 3,
   "metadata": {},
   "outputs": [
    {
     "data": {
      "text/html": [
       "<html><script type=\"math/tex; mode=display\">\\newcommand{\\Bold}[1]{\\mathbf{#1}}g = \\left( \\frac{2 \\, m r}{a^{2} \\cos\\left({\\theta}\\right)^{2} + r^{2}} - 1 \\right) \\mathrm{d} t\\otimes \\mathrm{d} t + \\left( -\\frac{2 \\, a m r \\sin\\left({\\theta}\\right)^{2}}{a^{2} \\cos\\left({\\theta}\\right)^{2} + r^{2}} \\right) \\mathrm{d} t\\otimes \\mathrm{d} {\\phi} + \\left( \\frac{a^{2} \\cos\\left({\\theta}\\right)^{2} + r^{2}}{a^{2} - 2 \\, m r + r^{2}} \\right) \\mathrm{d} r\\otimes \\mathrm{d} r + \\left( a^{2} \\cos\\left({\\theta}\\right)^{2} + r^{2} \\right) \\mathrm{d} {\\theta}\\otimes \\mathrm{d} {\\theta} + \\left( -\\frac{2 \\, a m r \\sin\\left({\\theta}\\right)^{2}}{a^{2} \\cos\\left({\\theta}\\right)^{2} + r^{2}} \\right) \\mathrm{d} {\\phi}\\otimes \\mathrm{d} t + {\\left(\\frac{2 \\, a^{2} m r \\sin\\left({\\theta}\\right)^{2}}{a^{2} \\cos\\left({\\theta}\\right)^{2} + r^{2}} + a^{2} + r^{2}\\right)} \\sin\\left({\\theta}\\right)^{2} \\mathrm{d} {\\phi}\\otimes \\mathrm{d} {\\phi}</script></html>"
      ],
      "text/plain": [
       "g = (2*m*r/(a^2*cos(th)^2 + r^2) - 1) dt*dt - 2*a*m*r*sin(th)^2/(a^2*cos(th)^2 + r^2) dt*dph + (a^2*cos(th)^2 + r^2)/(a^2 - 2*m*r + r^2) dr*dr + (a^2*cos(th)^2 + r^2) dth*dth - 2*a*m*r*sin(th)^2/(a^2*cos(th)^2 + r^2) dph*dt + (2*a^2*m*r*sin(th)^2/(a^2*cos(th)^2 + r^2) + a^2 + r^2)*sin(th)^2 dph*dph"
      ]
     },
     "execution_count": 3,
     "metadata": {},
     "output_type": "execute_result"
    }
   ],
   "source": [
    "g = M.lorentzian_metric('g')\n",
    "var('m, a', domain='real')\n",
    "rho2 = r^2 + (a*cos(th))^2\n",
    "Delta = r^2 -2*m*r + a^2\n",
    "g[0,0] = -(1-2*m*r/rho2)\n",
    "g[0,3] = -2*a*m*r*sin(th)^2/rho2\n",
    "g[1,1], g[2,2] = rho2/Delta, rho2\n",
    "g[3,3] = (r^2+a^2+2*m*r*(a*sin(th))^2/rho2)*sin(th)^2\n",
    "g.display()"
   ]
  },
  {
   "cell_type": "code",
   "execution_count": 4,
   "metadata": {},
   "outputs": [
    {
     "data": {
      "text/html": [
       "<html><script type=\"math/tex; mode=display\">\\newcommand{\\Bold}[1]{\\mathbf{#1}}\\begin{array}{lcl} u_{\\phantom{\\, t}}^{ \\, t } & = & \\frac{{\\left(a^{2} {\\left(\\frac{2 \\, m}{r} + 1\\right)} + r^{2}\\right)} {\\varepsilon} - \\frac{2 \\, a {\\ell} m}{r}}{a^{2} - 2 \\, m r + r^{2}} \\\\ u_{\\phantom{\\, r}}^{ \\, r } & = & \\sqrt{{\\varepsilon}^{2} + \\frac{2 \\, {\\left(a {\\varepsilon} - {\\ell}\\right)}^{2} m}{r^{3}} + \\frac{2 \\, m}{r} + \\frac{{\\left({\\varepsilon}^{2} - 1\\right)} a^{2} - {\\ell}^{2}}{r^{2}} - 1} \\\\ u_{\\phantom{\\, {\\phi}}}^{ \\, {\\phi} } & = & \\frac{\\frac{2 \\, a {\\varepsilon} m}{r} - {\\ell} {\\left(\\frac{2 \\, m}{r} - 1\\right)}}{a^{2} - 2 \\, m r + r^{2}} \\end{array}</script></html>"
      ],
      "text/plain": [
       "u^t = ((a^2*(2*m/r + 1) + r^2)*eps - 2*a*ell*m/r)/(a^2 - 2*m*r + r^2) \n",
       "u^r = sqrt(eps^2 + 2*(a*eps - ell)^2*m/r^3 + 2*m/r + ((eps^2 - 1)*a^2 - ell^2)/r^2 - 1) \n",
       "u^ph = (2*a*eps*m/r - ell*(2*m/r - 1))/(a^2 - 2*m*r + r^2) "
      ]
     },
     "execution_count": 4,
     "metadata": {},
     "output_type": "execute_result"
    }
   ],
   "source": [
    "u = M.vector_field('u')\n",
    "var('eps', latex_name=r'\\varepsilon')\n",
    "var('ell', latex_name=r'\\ell')\n",
    "u[0] = ((r^2 + a^2*(1+2*m/r))*eps - 2*a*m/r*ell)/Delta\n",
    "u[1] = sqrt(eps^2 - 1 + 2*m/r - (ell^2-a^2*(eps^2-1))/r^2 \n",
    "            + 2*m/r^3*(ell-a*eps)^2)\n",
    "u[3] = (2*a*m/r*eps + (1-2*m/r)*ell)/Delta\n",
    "u.display_comp()"
   ]
  },
  {
   "cell_type": "code",
   "execution_count": 5,
   "metadata": {},
   "outputs": [
    {
     "data": {
      "text/html": [
       "<html><script type=\"math/tex; mode=display\">\\newcommand{\\Bold}[1]{\\mathbf{#1}}\\frac{{\\left(a^{2} {\\varepsilon}^{2} - 2 \\, a^{2} - {\\ell}^{2}\\right)} r^{3} \\cos\\left({\\theta}\\right)^{2} - r^{5} + {\\left(2 \\, {\\left(a^{4} {\\varepsilon}^{2} - 2 \\, a^{3} {\\ell} {\\varepsilon} + a^{2} {\\ell}^{2}\\right)} m + {\\left(a^{4} {\\varepsilon}^{2} - a^{4} - a^{2} {\\ell}^{2}\\right)} r\\right)} \\cos\\left({\\theta}\\right)^{4}}{a^{2} r^{3} \\cos\\left({\\theta}\\right)^{2} + r^{5}}</script></html>"
      ],
      "text/plain": [
       "((a^2*eps^2 - 2*a^2 - ell^2)*r^3*cos(th)^2 - r^5 + (2*(a^4*eps^2 - 2*a^3*ell*eps + a^2*ell^2)*m + (a^4*eps^2 - a^4 - a^2*ell^2)*r)*cos(th)^4)/(a^2*r^3*cos(th)^2 + r^5)"
      ]
     },
     "execution_count": 5,
     "metadata": {},
     "output_type": "execute_result"
    }
   ],
   "source": [
    "norm = g(u,u)\n",
    "norm.coord_function()"
   ]
  },
  {
   "cell_type": "markdown",
   "metadata": {},
   "source": [
    "Value of $g(u,u)$ in the equatorial plane ($\\theta=\\frac{\\pi}{2}$):"
   ]
  },
  {
   "cell_type": "code",
   "execution_count": 6,
   "metadata": {},
   "outputs": [
    {
     "data": {
      "text/html": [
       "<html><script type=\"math/tex; mode=display\">\\newcommand{\\Bold}[1]{\\mathbf{#1}}-1</script></html>"
      ],
      "text/plain": [
       "-1"
      ]
     },
     "execution_count": 6,
     "metadata": {},
     "output_type": "execute_result"
    }
   ],
   "source": [
    "norm.coord_function()(t,r,pi/2,ph)"
   ]
  },
  {
   "cell_type": "code",
   "execution_count": 7,
   "metadata": {},
   "outputs": [
    {
     "name": "stdout",
     "output_type": "stream",
     "text": [
      "Levi-Civita connection nabla_g associated with the Lorentzian metric g on the 4-dimensional differentiable manifold M\n"
     ]
    }
   ],
   "source": [
    "nabla = g.connection()\n",
    "print(nabla)"
   ]
  },
  {
   "cell_type": "markdown",
   "metadata": {},
   "source": [
    "The 4-acceleration vector $a = \\nabla_{u}\\, u$:"
   ]
  },
  {
   "cell_type": "code",
   "execution_count": 8,
   "metadata": {},
   "outputs": [
    {
     "data": {
      "text/html": [
       "<html><script type=\"math/tex; mode=display\">\\newcommand{\\Bold}[1]{\\mathbf{#1}}\\begin{array}{lcl} a_{\\phantom{\\, t}}^{ \\, t } & = & -\\frac{2 \\, {\\left({\\left({\\left(a^{4} {\\varepsilon} - a^{3} {\\ell}\\right)} m r^{2} + {\\left(a^{6} {\\varepsilon} - a^{5} {\\ell}\\right)} m\\right)} \\cos\\left({\\theta}\\right)^{4} + 3 \\, {\\left({\\left(a^{2} {\\varepsilon} - a {\\ell}\\right)} m r^{4} + {\\left(a^{4} {\\varepsilon} - a^{3} {\\ell}\\right)} m r^{2}\\right)} \\cos\\left({\\theta}\\right)^{2}\\right)} \\sqrt{{\\left({\\varepsilon}^{2} - 1\\right)} r^{3} + 2 \\, m r^{2} + 2 \\, {\\left(a^{2} {\\varepsilon}^{2} - 2 \\, a {\\ell} {\\varepsilon} + {\\ell}^{2}\\right)} m + {\\left(a^{2} {\\varepsilon}^{2} - a^{2} - {\\ell}^{2}\\right)} r}}{{\\left(a^{2} r^{7} - 2 \\, m r^{8} + r^{9} + {\\left(a^{6} r^{3} - 2 \\, a^{4} m r^{4} + a^{4} r^{5}\\right)} \\cos\\left({\\theta}\\right)^{4} + 2 \\, {\\left(a^{4} r^{5} - 2 \\, a^{2} m r^{6} + a^{2} r^{7}\\right)} \\cos\\left({\\theta}\\right)^{2}\\right)} \\sqrt{r}} \\\\ a_{\\phantom{\\, r}}^{ \\, r } & = & \\frac{{\\left({\\left(a^{6} {\\varepsilon}^{2} + 4 \\, a^{5} {\\ell} {\\varepsilon} - 4 \\, a^{6} - 5 \\, a^{4} {\\ell}^{2}\\right)} m r^{4} - {\\left(a^{6} {\\varepsilon}^{2} - a^{6} - a^{4} {\\ell}^{2}\\right)} r^{5} - 2 \\, {\\left(a^{8} {\\varepsilon}^{2} - a^{8} - a^{6} {\\ell}^{2} - 2 \\, {\\left(a^{6} {\\varepsilon}^{2} - 3 \\, a^{5} {\\ell} {\\varepsilon} + a^{6} + 2 \\, a^{4} {\\ell}^{2}\\right)} m^{2}\\right)} r^{3} - 2 \\, {\\left(2 \\, {\\left(a^{6} {\\varepsilon}^{2} - 2 \\, a^{5} {\\ell} {\\varepsilon} + a^{4} {\\ell}^{2}\\right)} m^{3} + {\\left(a^{8} {\\varepsilon}^{2} - 5 \\, a^{7} {\\ell} {\\varepsilon} + 2 \\, a^{8} + 4 \\, a^{6} {\\ell}^{2}\\right)} m\\right)} r^{2} - 3 \\, {\\left(a^{10} {\\varepsilon}^{2} - 2 \\, a^{9} {\\ell} {\\varepsilon} + a^{8} {\\ell}^{2}\\right)} m - {\\left(a^{10} {\\varepsilon}^{2} - a^{10} - a^{8} {\\ell}^{2} - 8 \\, {\\left(a^{8} {\\varepsilon}^{2} - 2 \\, a^{7} {\\ell} {\\varepsilon} + a^{6} {\\ell}^{2}\\right)} m^{2}\\right)} r\\right)} \\cos\\left({\\theta}\\right)^{6} + {\\left({\\left(a^{4} {\\varepsilon}^{2} + 6 \\, a^{3} {\\ell} {\\varepsilon} - 8 \\, a^{4} - 7 \\, a^{2} {\\ell}^{2}\\right)} m r^{6} - 2 \\, {\\left(a^{4} {\\varepsilon}^{2} - a^{4} - a^{2} {\\ell}^{2}\\right)} r^{7} - 4 \\, {\\left(a^{6} {\\varepsilon}^{2} - a^{6} - a^{4} {\\ell}^{2} - {\\left(a^{4} {\\varepsilon}^{2} - 2 \\, a^{3} {\\ell} {\\varepsilon} + 2 \\, a^{4} + a^{2} {\\ell}^{2}\\right)} m^{2}\\right)} r^{5} + 2 \\, {\\left(2 \\, {\\left(a^{4} {\\varepsilon}^{2} - 2 \\, a^{3} {\\ell} {\\varepsilon} + a^{2} {\\ell}^{2}\\right)} m^{3} - {\\left(3 \\, a^{6} {\\varepsilon}^{2} - 10 \\, a^{5} {\\ell} {\\varepsilon} + 4 \\, a^{6} + 7 \\, a^{4} {\\ell}^{2}\\right)} m\\right)} r^{4} - 7 \\, {\\left(a^{8} {\\varepsilon}^{2} - 2 \\, a^{7} {\\ell} {\\varepsilon} + a^{6} {\\ell}^{2}\\right)} m r^{2} - 2 \\, {\\left(a^{8} {\\varepsilon}^{2} - a^{8} - a^{6} {\\ell}^{2} - 6 \\, {\\left(a^{6} {\\varepsilon}^{2} - 2 \\, a^{5} {\\ell} {\\varepsilon} + a^{4} {\\ell}^{2}\\right)} m^{2}\\right)} r^{3}\\right)} \\cos\\left({\\theta}\\right)^{4} - {\\left(2 \\, {\\left(a^{2} {\\varepsilon}^{2} - 3 \\, a {\\ell} {\\varepsilon} + 2 \\, a^{2} + 2 \\, {\\ell}^{2}\\right)} m r^{8} + {\\left(a^{2} {\\varepsilon}^{2} - a^{2} - {\\ell}^{2}\\right)} r^{9} + 2 \\, {\\left(4 \\, a^{4} {\\varepsilon}^{2} - 9 \\, a^{3} {\\ell} {\\varepsilon} + 2 \\, a^{4} + 5 \\, a^{2} {\\ell}^{2}\\right)} m r^{6} + 2 \\, {\\left(a^{4} {\\varepsilon}^{2} - a^{4} - a^{2} {\\ell}^{2} - 2 \\, {\\left(2 \\, a^{2} {\\varepsilon}^{2} - 3 \\, a {\\ell} {\\varepsilon} + a^{2} + {\\ell}^{2}\\right)} m^{2}\\right)} r^{7} + 6 \\, {\\left(a^{6} {\\varepsilon}^{2} - 2 \\, a^{5} {\\ell} {\\varepsilon} + a^{4} {\\ell}^{2}\\right)} m r^{4} + {\\left(a^{6} {\\varepsilon}^{2} - a^{6} - a^{4} {\\ell}^{2} - 12 \\, {\\left(a^{4} {\\varepsilon}^{2} - 2 \\, a^{3} {\\ell} {\\varepsilon} + a^{2} {\\ell}^{2}\\right)} m^{2}\\right)} r^{5}\\right)} \\cos\\left({\\theta}\\right)^{2}}{a^{2} r^{10} - 2 \\, m r^{11} + r^{12} + {\\left(a^{8} r^{4} - 2 \\, a^{6} m r^{5} + a^{6} r^{6}\\right)} \\cos\\left({\\theta}\\right)^{6} + 3 \\, {\\left(a^{6} r^{6} - 2 \\, a^{4} m r^{7} + a^{4} r^{8}\\right)} \\cos\\left({\\theta}\\right)^{4} + 3 \\, {\\left(a^{4} r^{8} - 2 \\, a^{2} m r^{9} + a^{2} r^{10}\\right)} \\cos\\left({\\theta}\\right)^{2}} \\\\ a_{\\phantom{\\, {\\theta}}}^{ \\, {\\theta} } & = & -\\frac{{\\left({\\left(2 \\, {\\left(2 \\, a^{5} {\\ell} {\\varepsilon} - a^{6} - 2 \\, a^{4} {\\ell}^{2}\\right)} m r^{2} - {\\left(a^{6} {\\varepsilon}^{2} - a^{6} - a^{4} {\\ell}^{2}\\right)} r^{3} - 2 \\, {\\left(a^{8} {\\varepsilon}^{2} - 2 \\, a^{7} {\\ell} {\\varepsilon} + a^{6} {\\ell}^{2}\\right)} m - {\\left(a^{8} {\\varepsilon}^{2} - a^{8} - a^{6} {\\ell}^{2} - 4 \\, {\\left(a^{6} {\\varepsilon}^{2} - 2 \\, a^{5} {\\ell} {\\varepsilon} + a^{4} {\\ell}^{2}\\right)} m^{2}\\right)} r\\right)} \\cos\\left({\\theta}\\right)^{5} + 2 \\, {\\left(2 \\, {\\left(2 \\, a^{3} {\\ell} {\\varepsilon} - a^{4} - 2 \\, a^{2} {\\ell}^{2}\\right)} m r^{4} - {\\left(a^{4} {\\varepsilon}^{2} - a^{4} - a^{2} {\\ell}^{2}\\right)} r^{5} - 2 \\, {\\left(a^{6} {\\varepsilon}^{2} - 2 \\, a^{5} {\\ell} {\\varepsilon} + a^{4} {\\ell}^{2}\\right)} m r^{2} - {\\left(a^{6} {\\varepsilon}^{2} - a^{6} - a^{4} {\\ell}^{2} - 4 \\, {\\left(a^{4} {\\varepsilon}^{2} - 2 \\, a^{3} {\\ell} {\\varepsilon} + a^{2} {\\ell}^{2}\\right)} m^{2}\\right)} r^{3}\\right)} \\cos\\left({\\theta}\\right)^{3} + {\\left(2 \\, {\\left(a^{2} {\\varepsilon}^{2} - a^{2} - {\\ell}^{2}\\right)} m r^{6} - {\\left(a^{2} {\\varepsilon}^{2} - a^{2} - {\\ell}^{2}\\right)} r^{7} - {\\left(a^{4} {\\varepsilon}^{2} - a^{4} - a^{2} {\\ell}^{2}\\right)} r^{5}\\right)} \\cos\\left({\\theta}\\right)\\right)} \\sin\\left({\\theta}\\right)}{a^{2} r^{9} - 2 \\, m r^{10} + r^{11} + {\\left(a^{8} r^{3} - 2 \\, a^{6} m r^{4} + a^{6} r^{5}\\right)} \\cos\\left({\\theta}\\right)^{6} + 3 \\, {\\left(a^{6} r^{5} - 2 \\, a^{4} m r^{6} + a^{4} r^{7}\\right)} \\cos\\left({\\theta}\\right)^{4} + 3 \\, {\\left(a^{4} r^{7} - 2 \\, a^{2} m r^{8} + a^{2} r^{9}\\right)} \\cos\\left({\\theta}\\right)^{2}} \\\\ a_{\\phantom{\\, {\\phi}}}^{ \\, {\\phi} } & = & -\\frac{2 \\, {\\left(3 \\, {\\left(a^{3} {\\varepsilon} - a^{2} {\\ell}\\right)} m r^{2} \\cos\\left({\\theta}\\right)^{2} + {\\left(a^{5} {\\varepsilon} - a^{4} {\\ell}\\right)} m \\cos\\left({\\theta}\\right)^{4}\\right)} \\sqrt{{\\left({\\varepsilon}^{2} - 1\\right)} r^{3} + 2 \\, m r^{2} + 2 \\, {\\left(a^{2} {\\varepsilon}^{2} - 2 \\, a {\\ell} {\\varepsilon} + {\\ell}^{2}\\right)} m + {\\left(a^{2} {\\varepsilon}^{2} - a^{2} - {\\ell}^{2}\\right)} r}}{{\\left(a^{2} r^{7} - 2 \\, m r^{8} + r^{9} + {\\left(a^{6} r^{3} - 2 \\, a^{4} m r^{4} + a^{4} r^{5}\\right)} \\cos\\left({\\theta}\\right)^{4} + 2 \\, {\\left(a^{4} r^{5} - 2 \\, a^{2} m r^{6} + a^{2} r^{7}\\right)} \\cos\\left({\\theta}\\right)^{2}\\right)} \\sqrt{r}} \\end{array}</script></html>"
      ],
      "text/plain": [
       "a^t = -2*(((a^4*eps - a^3*ell)*m*r^2 + (a^6*eps - a^5*ell)*m)*cos(th)^4 + 3*((a^2*eps - a*ell)*m*r^4 + (a^4*eps - a^3*ell)*m*r^2)*cos(th)^2)*sqrt((eps^2 - 1)*r^3 + 2*m*r^2 + 2*(a^2*eps^2 - 2*a*ell*eps + ell^2)*m + (a^2*eps^2 - a^2 - ell^2)*r)/((a^2*r^7 - 2*m*r^8 + r^9 + (a^6*r^3 - 2*a^4*m*r^4 + a^4*r^5)*cos(th)^4 + 2*(a^4*r^5 - 2*a^2*m*r^6 + a^2*r^7)*cos(th)^2)*sqrt(r)) \n",
       "a^r = (((a^6*eps^2 + 4*a^5*ell*eps - 4*a^6 - 5*a^4*ell^2)*m*r^4 - (a^6*eps^2 - a^6 - a^4*ell^2)*r^5 - 2*(a^8*eps^2 - a^8 - a^6*ell^2 - 2*(a^6*eps^2 - 3*a^5*ell*eps + a^6 + 2*a^4*ell^2)*m^2)*r^3 - 2*(2*(a^6*eps^2 - 2*a^5*ell*eps + a^4*ell^2)*m^3 + (a^8*eps^2 - 5*a^7*ell*eps + 2*a^8 + 4*a^6*ell^2)*m)*r^2 - 3*(a^10*eps^2 - 2*a^9*ell*eps + a^8*ell^2)*m - (a^10*eps^2 - a^10 - a^8*ell^2 - 8*(a^8*eps^2 - 2*a^7*ell*eps + a^6*ell^2)*m^2)*r)*cos(th)^6 + ((a^4*eps^2 + 6*a^3*ell*eps - 8*a^4 - 7*a^2*ell^2)*m*r^6 - 2*(a^4*eps^2 - a^4 - a^2*ell^2)*r^7 - 4*(a^6*eps^2 - a^6 - a^4*ell^2 - (a^4*eps^2 - 2*a^3*ell*eps + 2*a^4 + a^2*ell^2)*m^2)*r^5 + 2*(2*(a^4*eps^2 - 2*a^3*ell*eps + a^2*ell^2)*m^3 - (3*a^6*eps^2 - 10*a^5*ell*eps + 4*a^6 + 7*a^4*ell^2)*m)*r^4 - 7*(a^8*eps^2 - 2*a^7*ell*eps + a^6*ell^2)*m*r^2 - 2*(a^8*eps^2 - a^8 - a^6*ell^2 - 6*(a^6*eps^2 - 2*a^5*ell*eps + a^4*ell^2)*m^2)*r^3)*cos(th)^4 - (2*(a^2*eps^2 - 3*a*ell*eps + 2*a^2 + 2*ell^2)*m*r^8 + (a^2*eps^2 - a^2 - ell^2)*r^9 + 2*(4*a^4*eps^2 - 9*a^3*ell*eps + 2*a^4 + 5*a^2*ell^2)*m*r^6 + 2*(a^4*eps^2 - a^4 - a^2*ell^2 - 2*(2*a^2*eps^2 - 3*a*ell*eps + a^2 + ell^2)*m^2)*r^7 + 6*(a^6*eps^2 - 2*a^5*ell*eps + a^4*ell^2)*m*r^4 + (a^6*eps^2 - a^6 - a^4*ell^2 - 12*(a^4*eps^2 - 2*a^3*ell*eps + a^2*ell^2)*m^2)*r^5)*cos(th)^2)/(a^2*r^10 - 2*m*r^11 + r^12 + (a^8*r^4 - 2*a^6*m*r^5 + a^6*r^6)*cos(th)^6 + 3*(a^6*r^6 - 2*a^4*m*r^7 + a^4*r^8)*cos(th)^4 + 3*(a^4*r^8 - 2*a^2*m*r^9 + a^2*r^10)*cos(th)^2) \n",
       "a^th = -((2*(2*a^5*ell*eps - a^6 - 2*a^4*ell^2)*m*r^2 - (a^6*eps^2 - a^6 - a^4*ell^2)*r^3 - 2*(a^8*eps^2 - 2*a^7*ell*eps + a^6*ell^2)*m - (a^8*eps^2 - a^8 - a^6*ell^2 - 4*(a^6*eps^2 - 2*a^5*ell*eps + a^4*ell^2)*m^2)*r)*cos(th)^5 + 2*(2*(2*a^3*ell*eps - a^4 - 2*a^2*ell^2)*m*r^4 - (a^4*eps^2 - a^4 - a^2*ell^2)*r^5 - 2*(a^6*eps^2 - 2*a^5*ell*eps + a^4*ell^2)*m*r^2 - (a^6*eps^2 - a^6 - a^4*ell^2 - 4*(a^4*eps^2 - 2*a^3*ell*eps + a^2*ell^2)*m^2)*r^3)*cos(th)^3 + (2*(a^2*eps^2 - a^2 - ell^2)*m*r^6 - (a^2*eps^2 - a^2 - ell^2)*r^7 - (a^4*eps^2 - a^4 - a^2*ell^2)*r^5)*cos(th))*sin(th)/(a^2*r^9 - 2*m*r^10 + r^11 + (a^8*r^3 - 2*a^6*m*r^4 + a^6*r^5)*cos(th)^6 + 3*(a^6*r^5 - 2*a^4*m*r^6 + a^4*r^7)*cos(th)^4 + 3*(a^4*r^7 - 2*a^2*m*r^8 + a^2*r^9)*cos(th)^2) \n",
       "a^ph = -2*(3*(a^3*eps - a^2*ell)*m*r^2*cos(th)^2 + (a^5*eps - a^4*ell)*m*cos(th)^4)*sqrt((eps^2 - 1)*r^3 + 2*m*r^2 + 2*(a^2*eps^2 - 2*a*ell*eps + ell^2)*m + (a^2*eps^2 - a^2 - ell^2)*r)/((a^2*r^7 - 2*m*r^8 + r^9 + (a^6*r^3 - 2*a^4*m*r^4 + a^4*r^5)*cos(th)^4 + 2*(a^4*r^5 - 2*a^2*m*r^6 + a^2*r^7)*cos(th)^2)*sqrt(r)) "
      ]
     },
     "execution_count": 8,
     "metadata": {},
     "output_type": "execute_result"
    }
   ],
   "source": [
    "Du = nabla(u)\n",
    "a = u.contract(0, Du, 1)\n",
    "a.set_name('a')\n",
    "a.display_comp()"
   ]
  },
  {
   "cell_type": "markdown",
   "metadata": {},
   "source": [
    "Values of the 4-acceleration in the equatorial plane ($\\theta=\\frac{\\pi}{2}$):"
   ]
  },
  {
   "cell_type": "code",
   "execution_count": 9,
   "metadata": {},
   "outputs": [
    {
     "data": {
      "text/html": [
       "<html><script type=\"math/tex; mode=display\">\\newcommand{\\Bold}[1]{\\mathbf{#1}}0</script></html>"
      ],
      "text/plain": [
       "0"
      ]
     },
     "execution_count": 9,
     "metadata": {},
     "output_type": "execute_result"
    }
   ],
   "source": [
    "a[0](t,r,pi/2,ph)"
   ]
  },
  {
   "cell_type": "code",
   "execution_count": 10,
   "metadata": {},
   "outputs": [
    {
     "data": {
      "text/html": [
       "<html><script type=\"math/tex; mode=display\">\\newcommand{\\Bold}[1]{\\mathbf{#1}}0</script></html>"
      ],
      "text/plain": [
       "0"
      ]
     },
     "execution_count": 10,
     "metadata": {},
     "output_type": "execute_result"
    }
   ],
   "source": [
    "a[1](t,r,pi/2,ph)"
   ]
  },
  {
   "cell_type": "code",
   "execution_count": 11,
   "metadata": {},
   "outputs": [
    {
     "data": {
      "text/html": [
       "<html><script type=\"math/tex; mode=display\">\\newcommand{\\Bold}[1]{\\mathbf{#1}}0</script></html>"
      ],
      "text/plain": [
       "0"
      ]
     },
     "execution_count": 11,
     "metadata": {},
     "output_type": "execute_result"
    }
   ],
   "source": [
    "a[2](t,r,pi/2,ph)"
   ]
  },
  {
   "cell_type": "code",
   "execution_count": 12,
   "metadata": {},
   "outputs": [
    {
     "data": {
      "text/html": [
       "<html><script type=\"math/tex; mode=display\">\\newcommand{\\Bold}[1]{\\mathbf{#1}}0</script></html>"
      ],
      "text/plain": [
       "0"
      ]
     },
     "execution_count": 12,
     "metadata": {},
     "output_type": "execute_result"
    }
   ],
   "source": [
    "a[3](t,r,pi/2,ph)"
   ]
  },
  {
   "cell_type": "markdown",
   "metadata": {},
   "source": [
    "The (non-zero and non-redundant) Christoffel symbols in Boyer-Lindquist coordinates:"
   ]
  },
  {
   "cell_type": "code",
   "execution_count": 13,
   "metadata": {},
   "outputs": [
    {
     "data": {
      "text/html": [
       "<html><script type=\"math/tex; mode=display\">\\newcommand{\\Bold}[1]{\\mathbf{#1}}\\begin{array}{lcl} \\Gamma_{ \\phantom{\\, t} \\, t \\, r }^{ \\, t \\phantom{\\, t} \\phantom{\\, r} } & = & \\frac{a^{2} m r^{2} + m r^{4} - {\\left(a^{4} m + a^{2} m r^{2}\\right)} \\cos\\left({\\theta}\\right)^{2}}{a^{2} r^{4} - 2 \\, m r^{5} + r^{6} + {\\left(a^{6} - 2 \\, a^{4} m r + a^{4} r^{2}\\right)} \\cos\\left({\\theta}\\right)^{4} + 2 \\, {\\left(a^{4} r^{2} - 2 \\, a^{2} m r^{3} + a^{2} r^{4}\\right)} \\cos\\left({\\theta}\\right)^{2}} \\\\ \\Gamma_{ \\phantom{\\, t} \\, t \\, {\\theta} }^{ \\, t \\phantom{\\, t} \\phantom{\\, {\\theta}} } & = & -\\frac{2 \\, a^{2} m r \\cos\\left({\\theta}\\right) \\sin\\left({\\theta}\\right)}{a^{4} \\cos\\left({\\theta}\\right)^{4} + 2 \\, a^{2} r^{2} \\cos\\left({\\theta}\\right)^{2} + r^{4}} \\\\ \\Gamma_{ \\phantom{\\, t} \\, r \\, {\\phi} }^{ \\, t \\phantom{\\, r} \\phantom{\\, {\\phi}} } & = & -\\frac{{\\left(a^{3} m r^{2} + 3 \\, a m r^{4} - {\\left(a^{5} m - a^{3} m r^{2}\\right)} \\cos\\left({\\theta}\\right)^{2}\\right)} \\sin\\left({\\theta}\\right)^{2}}{a^{2} r^{4} - 2 \\, m r^{5} + r^{6} + {\\left(a^{6} - 2 \\, a^{4} m r + a^{4} r^{2}\\right)} \\cos\\left({\\theta}\\right)^{4} + 2 \\, {\\left(a^{4} r^{2} - 2 \\, a^{2} m r^{3} + a^{2} r^{4}\\right)} \\cos\\left({\\theta}\\right)^{2}} \\\\ \\Gamma_{ \\phantom{\\, t} \\, {\\theta} \\, {\\phi} }^{ \\, t \\phantom{\\, {\\theta}} \\phantom{\\, {\\phi}} } & = & -\\frac{2 \\, {\\left(a^{5} m r \\cos\\left({\\theta}\\right) \\sin\\left({\\theta}\\right)^{5} - {\\left(a^{5} m r + a^{3} m r^{3}\\right)} \\cos\\left({\\theta}\\right) \\sin\\left({\\theta}\\right)^{3}\\right)}}{a^{6} \\cos\\left({\\theta}\\right)^{6} + 3 \\, a^{4} r^{2} \\cos\\left({\\theta}\\right)^{4} + 3 \\, a^{2} r^{4} \\cos\\left({\\theta}\\right)^{2} + r^{6}} \\\\ \\Gamma_{ \\phantom{\\, r} \\, t \\, t }^{ \\, r \\phantom{\\, t} \\phantom{\\, t} } & = & \\frac{a^{2} m r^{2} - 2 \\, m^{2} r^{3} + m r^{4} - {\\left(a^{4} m - 2 \\, a^{2} m^{2} r + a^{2} m r^{2}\\right)} \\cos\\left({\\theta}\\right)^{2}}{a^{6} \\cos\\left({\\theta}\\right)^{6} + 3 \\, a^{4} r^{2} \\cos\\left({\\theta}\\right)^{4} + 3 \\, a^{2} r^{4} \\cos\\left({\\theta}\\right)^{2} + r^{6}} \\\\ \\Gamma_{ \\phantom{\\, r} \\, t \\, {\\phi} }^{ \\, r \\phantom{\\, t} \\phantom{\\, {\\phi}} } & = & -\\frac{{\\left(a^{3} m r^{2} - 2 \\, a m^{2} r^{3} + a m r^{4} - {\\left(a^{5} m - 2 \\, a^{3} m^{2} r + a^{3} m r^{2}\\right)} \\cos\\left({\\theta}\\right)^{2}\\right)} \\sin\\left({\\theta}\\right)^{2}}{a^{6} \\cos\\left({\\theta}\\right)^{6} + 3 \\, a^{4} r^{2} \\cos\\left({\\theta}\\right)^{4} + 3 \\, a^{2} r^{4} \\cos\\left({\\theta}\\right)^{2} + r^{6}} \\\\ \\Gamma_{ \\phantom{\\, r} \\, r \\, r }^{ \\, r \\phantom{\\, r} \\phantom{\\, r} } & = & \\frac{a^{2} r - m r^{2} + {\\left(a^{2} m - a^{2} r\\right)} \\cos\\left({\\theta}\\right)^{2}}{a^{2} r^{2} - 2 \\, m r^{3} + r^{4} + {\\left(a^{4} - 2 \\, a^{2} m r + a^{2} r^{2}\\right)} \\cos\\left({\\theta}\\right)^{2}} \\\\ \\Gamma_{ \\phantom{\\, r} \\, r \\, {\\theta} }^{ \\, r \\phantom{\\, r} \\phantom{\\, {\\theta}} } & = & -\\frac{a^{2} \\cos\\left({\\theta}\\right) \\sin\\left({\\theta}\\right)}{a^{2} \\cos\\left({\\theta}\\right)^{2} + r^{2}} \\\\ \\Gamma_{ \\phantom{\\, r} \\, {\\theta} \\, {\\theta} }^{ \\, r \\phantom{\\, {\\theta}} \\phantom{\\, {\\theta}} } & = & -\\frac{a^{2} r - 2 \\, m r^{2} + r^{3}}{a^{2} \\cos\\left({\\theta}\\right)^{2} + r^{2}} \\\\ \\Gamma_{ \\phantom{\\, r} \\, {\\phi} \\, {\\phi} }^{ \\, r \\phantom{\\, {\\phi}} \\phantom{\\, {\\phi}} } & = & \\frac{{\\left(a^{4} m r^{2} - 2 \\, a^{2} m^{2} r^{3} + a^{2} m r^{4} - {\\left(a^{6} m - 2 \\, a^{4} m^{2} r + a^{4} m r^{2}\\right)} \\cos\\left({\\theta}\\right)^{2}\\right)} \\sin\\left({\\theta}\\right)^{4} - {\\left(a^{2} r^{5} - 2 \\, m r^{6} + r^{7} + {\\left(a^{6} r - 2 \\, a^{4} m r^{2} + a^{4} r^{3}\\right)} \\cos\\left({\\theta}\\right)^{4} + 2 \\, {\\left(a^{4} r^{3} - 2 \\, a^{2} m r^{4} + a^{2} r^{5}\\right)} \\cos\\left({\\theta}\\right)^{2}\\right)} \\sin\\left({\\theta}\\right)^{2}}{a^{6} \\cos\\left({\\theta}\\right)^{6} + 3 \\, a^{4} r^{2} \\cos\\left({\\theta}\\right)^{4} + 3 \\, a^{2} r^{4} \\cos\\left({\\theta}\\right)^{2} + r^{6}} \\\\ \\Gamma_{ \\phantom{\\, {\\theta}} \\, t \\, t }^{ \\, {\\theta} \\phantom{\\, t} \\phantom{\\, t} } & = & -\\frac{2 \\, a^{2} m r \\cos\\left({\\theta}\\right) \\sin\\left({\\theta}\\right)}{a^{6} \\cos\\left({\\theta}\\right)^{6} + 3 \\, a^{4} r^{2} \\cos\\left({\\theta}\\right)^{4} + 3 \\, a^{2} r^{4} \\cos\\left({\\theta}\\right)^{2} + r^{6}} \\\\ \\Gamma_{ \\phantom{\\, {\\theta}} \\, t \\, {\\phi} }^{ \\, {\\theta} \\phantom{\\, t} \\phantom{\\, {\\phi}} } & = & \\frac{2 \\, {\\left(a^{3} m r + a m r^{3}\\right)} \\cos\\left({\\theta}\\right) \\sin\\left({\\theta}\\right)}{a^{6} \\cos\\left({\\theta}\\right)^{6} + 3 \\, a^{4} r^{2} \\cos\\left({\\theta}\\right)^{4} + 3 \\, a^{2} r^{4} \\cos\\left({\\theta}\\right)^{2} + r^{6}} \\\\ \\Gamma_{ \\phantom{\\, {\\theta}} \\, r \\, r }^{ \\, {\\theta} \\phantom{\\, r} \\phantom{\\, r} } & = & \\frac{a^{2} \\cos\\left({\\theta}\\right) \\sin\\left({\\theta}\\right)}{a^{2} r^{2} - 2 \\, m r^{3} + r^{4} + {\\left(a^{4} - 2 \\, a^{2} m r + a^{2} r^{2}\\right)} \\cos\\left({\\theta}\\right)^{2}} \\\\ \\Gamma_{ \\phantom{\\, {\\theta}} \\, r \\, {\\theta} }^{ \\, {\\theta} \\phantom{\\, r} \\phantom{\\, {\\theta}} } & = & \\frac{r}{a^{2} \\cos\\left({\\theta}\\right)^{2} + r^{2}} \\\\ \\Gamma_{ \\phantom{\\, {\\theta}} \\, {\\theta} \\, {\\theta} }^{ \\, {\\theta} \\phantom{\\, {\\theta}} \\phantom{\\, {\\theta}} } & = & -\\frac{a^{2} \\cos\\left({\\theta}\\right) \\sin\\left({\\theta}\\right)}{a^{2} \\cos\\left({\\theta}\\right)^{2} + r^{2}} \\\\ \\Gamma_{ \\phantom{\\, {\\theta}} \\, {\\phi} \\, {\\phi} }^{ \\, {\\theta} \\phantom{\\, {\\phi}} \\phantom{\\, {\\phi}} } & = & -\\frac{{\\left({\\left(a^{6} - 2 \\, a^{4} m r + a^{4} r^{2}\\right)} \\cos\\left({\\theta}\\right)^{5} + 2 \\, {\\left(a^{4} r^{2} - 2 \\, a^{2} m r^{3} + a^{2} r^{4}\\right)} \\cos\\left({\\theta}\\right)^{3} + {\\left(2 \\, a^{4} m r + 4 \\, a^{2} m r^{3} + a^{2} r^{4} + r^{6}\\right)} \\cos\\left({\\theta}\\right)\\right)} \\sin\\left({\\theta}\\right)}{a^{6} \\cos\\left({\\theta}\\right)^{6} + 3 \\, a^{4} r^{2} \\cos\\left({\\theta}\\right)^{4} + 3 \\, a^{2} r^{4} \\cos\\left({\\theta}\\right)^{2} + r^{6}} \\\\ \\Gamma_{ \\phantom{\\, {\\phi}} \\, t \\, r }^{ \\, {\\phi} \\phantom{\\, t} \\phantom{\\, r} } & = & -\\frac{a^{3} m \\cos\\left({\\theta}\\right)^{2} - a m r^{2}}{a^{2} r^{4} - 2 \\, m r^{5} + r^{6} + {\\left(a^{6} - 2 \\, a^{4} m r + a^{4} r^{2}\\right)} \\cos\\left({\\theta}\\right)^{4} + 2 \\, {\\left(a^{4} r^{2} - 2 \\, a^{2} m r^{3} + a^{2} r^{4}\\right)} \\cos\\left({\\theta}\\right)^{2}} \\\\ \\Gamma_{ \\phantom{\\, {\\phi}} \\, t \\, {\\theta} }^{ \\, {\\phi} \\phantom{\\, t} \\phantom{\\, {\\theta}} } & = & -\\frac{2 \\, a m r \\cos\\left({\\theta}\\right)}{{\\left(a^{4} \\cos\\left({\\theta}\\right)^{4} + 2 \\, a^{2} r^{2} \\cos\\left({\\theta}\\right)^{2} + r^{4}\\right)} \\sin\\left({\\theta}\\right)} \\\\ \\Gamma_{ \\phantom{\\, {\\phi}} \\, r \\, {\\phi} }^{ \\, {\\phi} \\phantom{\\, r} \\phantom{\\, {\\phi}} } & = & -\\frac{a^{2} m r^{2} + 2 \\, m r^{4} - r^{5} + {\\left(a^{4} m - a^{4} r\\right)} \\cos\\left({\\theta}\\right)^{4} - {\\left(a^{4} m - a^{2} m r^{2} + 2 \\, a^{2} r^{3}\\right)} \\cos\\left({\\theta}\\right)^{2}}{a^{2} r^{4} - 2 \\, m r^{5} + r^{6} + {\\left(a^{6} - 2 \\, a^{4} m r + a^{4} r^{2}\\right)} \\cos\\left({\\theta}\\right)^{4} + 2 \\, {\\left(a^{4} r^{2} - 2 \\, a^{2} m r^{3} + a^{2} r^{4}\\right)} \\cos\\left({\\theta}\\right)^{2}} \\\\ \\Gamma_{ \\phantom{\\, {\\phi}} \\, {\\theta} \\, {\\phi} }^{ \\, {\\phi} \\phantom{\\, {\\theta}} \\phantom{\\, {\\phi}} } & = & \\frac{a^{4} \\cos\\left({\\theta}\\right) \\sin\\left({\\theta}\\right)^{4} - 2 \\, {\\left(a^{4} - a^{2} m r + a^{2} r^{2}\\right)} \\cos\\left({\\theta}\\right) \\sin\\left({\\theta}\\right)^{2} + {\\left(a^{4} + 2 \\, a^{2} r^{2} + r^{4}\\right)} \\cos\\left({\\theta}\\right)}{{\\left(a^{4} \\cos\\left({\\theta}\\right)^{4} + 2 \\, a^{2} r^{2} \\cos\\left({\\theta}\\right)^{2} + r^{4}\\right)} \\sin\\left({\\theta}\\right)} \\end{array}</script></html>"
      ],
      "text/plain": [
       "Gam^t_t,r = (a^2*m*r^2 + m*r^4 - (a^4*m + a^2*m*r^2)*cos(th)^2)/(a^2*r^4 - 2*m*r^5 + r^6 + (a^6 - 2*a^4*m*r + a^4*r^2)*cos(th)^4 + 2*(a^4*r^2 - 2*a^2*m*r^3 + a^2*r^4)*cos(th)^2) \n",
       "Gam^t_t,th = -2*a^2*m*r*cos(th)*sin(th)/(a^4*cos(th)^4 + 2*a^2*r^2*cos(th)^2 + r^4) \n",
       "Gam^t_r,ph = -(a^3*m*r^2 + 3*a*m*r^4 - (a^5*m - a^3*m*r^2)*cos(th)^2)*sin(th)^2/(a^2*r^4 - 2*m*r^5 + r^6 + (a^6 - 2*a^4*m*r + a^4*r^2)*cos(th)^4 + 2*(a^4*r^2 - 2*a^2*m*r^3 + a^2*r^4)*cos(th)^2) \n",
       "Gam^t_th,ph = -2*(a^5*m*r*cos(th)*sin(th)^5 - (a^5*m*r + a^3*m*r^3)*cos(th)*sin(th)^3)/(a^6*cos(th)^6 + 3*a^4*r^2*cos(th)^4 + 3*a^2*r^4*cos(th)^2 + r^6) \n",
       "Gam^r_t,t = (a^2*m*r^2 - 2*m^2*r^3 + m*r^4 - (a^4*m - 2*a^2*m^2*r + a^2*m*r^2)*cos(th)^2)/(a^6*cos(th)^6 + 3*a^4*r^2*cos(th)^4 + 3*a^2*r^4*cos(th)^2 + r^6) \n",
       "Gam^r_t,ph = -(a^3*m*r^2 - 2*a*m^2*r^3 + a*m*r^4 - (a^5*m - 2*a^3*m^2*r + a^3*m*r^2)*cos(th)^2)*sin(th)^2/(a^6*cos(th)^6 + 3*a^4*r^2*cos(th)^4 + 3*a^2*r^4*cos(th)^2 + r^6) \n",
       "Gam^r_r,r = (a^2*r - m*r^2 + (a^2*m - a^2*r)*cos(th)^2)/(a^2*r^2 - 2*m*r^3 + r^4 + (a^4 - 2*a^2*m*r + a^2*r^2)*cos(th)^2) \n",
       "Gam^r_r,th = -a^2*cos(th)*sin(th)/(a^2*cos(th)^2 + r^2) \n",
       "Gam^r_th,th = -(a^2*r - 2*m*r^2 + r^3)/(a^2*cos(th)^2 + r^2) \n",
       "Gam^r_ph,ph = ((a^4*m*r^2 - 2*a^2*m^2*r^3 + a^2*m*r^4 - (a^6*m - 2*a^4*m^2*r + a^4*m*r^2)*cos(th)^2)*sin(th)^4 - (a^2*r^5 - 2*m*r^6 + r^7 + (a^6*r - 2*a^4*m*r^2 + a^4*r^3)*cos(th)^4 + 2*(a^4*r^3 - 2*a^2*m*r^4 + a^2*r^5)*cos(th)^2)*sin(th)^2)/(a^6*cos(th)^6 + 3*a^4*r^2*cos(th)^4 + 3*a^2*r^4*cos(th)^2 + r^6) \n",
       "Gam^th_t,t = -2*a^2*m*r*cos(th)*sin(th)/(a^6*cos(th)^6 + 3*a^4*r^2*cos(th)^4 + 3*a^2*r^4*cos(th)^2 + r^6) \n",
       "Gam^th_t,ph = 2*(a^3*m*r + a*m*r^3)*cos(th)*sin(th)/(a^6*cos(th)^6 + 3*a^4*r^2*cos(th)^4 + 3*a^2*r^4*cos(th)^2 + r^6) \n",
       "Gam^th_r,r = a^2*cos(th)*sin(th)/(a^2*r^2 - 2*m*r^3 + r^4 + (a^4 - 2*a^2*m*r + a^2*r^2)*cos(th)^2) \n",
       "Gam^th_r,th = r/(a^2*cos(th)^2 + r^2) \n",
       "Gam^th_th,th = -a^2*cos(th)*sin(th)/(a^2*cos(th)^2 + r^2) \n",
       "Gam^th_ph,ph = -((a^6 - 2*a^4*m*r + a^4*r^2)*cos(th)^5 + 2*(a^4*r^2 - 2*a^2*m*r^3 + a^2*r^4)*cos(th)^3 + (2*a^4*m*r + 4*a^2*m*r^3 + a^2*r^4 + r^6)*cos(th))*sin(th)/(a^6*cos(th)^6 + 3*a^4*r^2*cos(th)^4 + 3*a^2*r^4*cos(th)^2 + r^6) \n",
       "Gam^ph_t,r = -(a^3*m*cos(th)^2 - a*m*r^2)/(a^2*r^4 - 2*m*r^5 + r^6 + (a^6 - 2*a^4*m*r + a^4*r^2)*cos(th)^4 + 2*(a^4*r^2 - 2*a^2*m*r^3 + a^2*r^4)*cos(th)^2) \n",
       "Gam^ph_t,th = -2*a*m*r*cos(th)/((a^4*cos(th)^4 + 2*a^2*r^2*cos(th)^2 + r^4)*sin(th)) \n",
       "Gam^ph_r,ph = -(a^2*m*r^2 + 2*m*r^4 - r^5 + (a^4*m - a^4*r)*cos(th)^4 - (a^4*m - a^2*m*r^2 + 2*a^2*r^3)*cos(th)^2)/(a^2*r^4 - 2*m*r^5 + r^6 + (a^6 - 2*a^4*m*r + a^4*r^2)*cos(th)^4 + 2*(a^4*r^2 - 2*a^2*m*r^3 + a^2*r^4)*cos(th)^2) \n",
       "Gam^ph_th,ph = (a^4*cos(th)*sin(th)^4 - 2*(a^4 - a^2*m*r + a^2*r^2)*cos(th)*sin(th)^2 + (a^4 + 2*a^2*r^2 + r^4)*cos(th))/((a^4*cos(th)^4 + 2*a^2*r^2*cos(th)^2 + r^4)*sin(th)) "
      ]
     },
     "execution_count": 13,
     "metadata": {},
     "output_type": "execute_result"
    }
   ],
   "source": [
    "g.christoffel_symbols_display()"
   ]
  },
  {
   "cell_type": "code",
   "execution_count": null,
   "metadata": {},
   "outputs": [],
   "source": []
  }
 ],
 "metadata": {
  "kernelspec": {
   "display_name": "SageMath 8.2.rc0",
   "language": "",
   "name": "sagemath"
  },
  "language_info": {
   "codemirror_mode": {
    "name": "ipython",
    "version": 2
   },
   "file_extension": ".py",
   "mimetype": "text/x-python",
   "name": "python",
   "nbconvert_exporter": "python",
   "pygments_lexer": "ipython2",
   "version": "2.7.14"
  }
 },
 "nbformat": 4,
 "nbformat_minor": 2
}
