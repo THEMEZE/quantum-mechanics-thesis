{
 "cells": [
  {
   "cell_type": "markdown",
   "metadata": {},
   "source": [
    "#  Lemaître-Tolman solutions\n",
    "\n",
    "This Jupyter/SageMath notebook is relative to the lectures\n",
    "[Geometry and physics of black holes](https://relativite.obspm.fr/blackholes/).\n",
    "\n",
    "The computations make use of tools developed through the [SageManifolds project](https://sagemanifolds.obspm.fr)."
   ]
  },
  {
   "cell_type": "code",
   "execution_count": 1,
   "metadata": {},
   "outputs": [
    {
     "data": {
      "text/plain": [
       "'SageMath version 10.0.rc3, Release Date: 2023-05-12'"
      ]
     },
     "execution_count": 1,
     "metadata": {},
     "output_type": "execute_result"
    }
   ],
   "source": [
    "version()"
   ]
  },
  {
   "cell_type": "markdown",
   "metadata": {},
   "source": [
    "First we set up the notebook to display mathematical objects using LaTeX rendering:"
   ]
  },
  {
   "cell_type": "code",
   "execution_count": 2,
   "metadata": {},
   "outputs": [],
   "source": [
    "%display latex"
   ]
  },
  {
   "cell_type": "markdown",
   "metadata": {},
   "source": [
    "## Spacetime\n",
    "\n",
    "We declare the spacetime manifold $M$:"
   ]
  },
  {
   "cell_type": "code",
   "execution_count": 3,
   "metadata": {},
   "outputs": [
    {
     "name": "stdout",
     "output_type": "stream",
     "text": [
      "4-dimensional Lorentzian manifold M\n"
     ]
    }
   ],
   "source": [
    "M = Manifold(4, 'M', structure='Lorentzian')\n",
    "print(M)"
   ]
  },
  {
   "cell_type": "markdown",
   "metadata": {},
   "source": [
    "and declare the chart of **Lemaître synchronous coordinates** on it:"
   ]
  },
  {
   "cell_type": "code",
   "execution_count": 4,
   "metadata": {},
   "outputs": [
    {
     "data": {
      "text/html": [
       "<html>\\(\\displaystyle \\left(M,({\\tau}, {\\chi}, {\\theta}, {\\phi})\\right)\\)</html>"
      ],
      "text/latex": [
       "$\\displaystyle \\left(M,({\\tau}, {\\chi}, {\\theta}, {\\phi})\\right)$"
      ],
      "text/plain": [
       "Chart (M, (t, x, th, ph))"
      ]
     },
     "execution_count": 4,
     "metadata": {},
     "output_type": "execute_result"
    }
   ],
   "source": [
    "X.<t,x,th,ph> = M.chart(r't:\\tau x:(0,+oo):\\chi th:(0,pi):\\theta ph:(0,2*pi):\\phi')\n",
    "X"
   ]
  },
  {
   "cell_type": "markdown",
   "metadata": {},
   "source": [
    "The most general metric tensor, assuming spherical symmetry and synchronous coordinates:"
   ]
  },
  {
   "cell_type": "code",
   "execution_count": 5,
   "metadata": {},
   "outputs": [
    {
     "data": {
      "text/html": [
       "<html>\\(\\displaystyle g = -\\mathrm{d} {\\tau}\\otimes \\mathrm{d} {\\tau} + a\\left({\\tau}, {\\chi}\\right)^{2} \\mathrm{d} {\\chi}\\otimes \\mathrm{d} {\\chi} + r\\left({\\tau}, {\\chi}\\right)^{2} \\mathrm{d} {\\theta}\\otimes \\mathrm{d} {\\theta} + r\\left({\\tau}, {\\chi}\\right)^{2} \\sin\\left({\\theta}\\right)^{2} \\mathrm{d} {\\phi}\\otimes \\mathrm{d} {\\phi}\\)</html>"
      ],
      "text/latex": [
       "$\\displaystyle g = -\\mathrm{d} {\\tau}\\otimes \\mathrm{d} {\\tau} + a\\left({\\tau}, {\\chi}\\right)^{2} \\mathrm{d} {\\chi}\\otimes \\mathrm{d} {\\chi} + r\\left({\\tau}, {\\chi}\\right)^{2} \\mathrm{d} {\\theta}\\otimes \\mathrm{d} {\\theta} + r\\left({\\tau}, {\\chi}\\right)^{2} \\sin\\left({\\theta}\\right)^{2} \\mathrm{d} {\\phi}\\otimes \\mathrm{d} {\\phi}$"
      ],
      "text/plain": [
       "g = -dt⊗dt + a(t, x)^2 dx⊗dx + r(t, x)^2 dth⊗dth + r(t, x)^2*sin(th)^2 dph⊗dph"
      ]
     },
     "execution_count": 5,
     "metadata": {},
     "output_type": "execute_result"
    }
   ],
   "source": [
    "g = M.metric()\n",
    "a = function('a')\n",
    "r = function('r')\n",
    "g[0,0] = -1\n",
    "g[1,1] = a(t,x)^2\n",
    "g[2,2] = r(t,x)^2\n",
    "g[3,3] = (r(t,x)*sin(th))^2\n",
    "g.display()"
   ]
  },
  {
   "cell_type": "markdown",
   "metadata": {},
   "source": [
    "## Einstein equation"
   ]
  },
  {
   "cell_type": "markdown",
   "metadata": {},
   "source": [
    "The cosmological constant:"
   ]
  },
  {
   "cell_type": "code",
   "execution_count": 6,
   "metadata": {},
   "outputs": [
    {
     "data": {
      "text/html": [
       "<html>\\(\\displaystyle {\\Lambda}\\)</html>"
      ],
      "text/latex": [
       "$\\displaystyle {\\Lambda}$"
      ],
      "text/plain": [
       "Lamb"
      ]
     },
     "execution_count": 6,
     "metadata": {},
     "output_type": "execute_result"
    }
   ],
   "source": [
    "Lamb = var('Lamb', latex_name=r'\\Lambda')\n",
    "Lamb"
   ]
  },
  {
   "cell_type": "markdown",
   "metadata": {},
   "source": [
    "The Ricci tensor:"
   ]
  },
  {
   "cell_type": "code",
   "execution_count": 7,
   "metadata": {},
   "outputs": [
    {
     "name": "stdout",
     "output_type": "stream",
     "text": [
      "Field of symmetric bilinear forms Ric(g) on the 4-dimensional Lorentzian manifold M\n"
     ]
    }
   ],
   "source": [
    "Ric = g.ricci()\n",
    "print(Ric)"
   ]
  },
  {
   "cell_type": "code",
   "execution_count": 8,
   "metadata": {},
   "outputs": [
    {
     "data": {
      "text/html": [
       "<html>\\(\\displaystyle \\mathrm{Ric}\\left(g\\right) = \\left( -\\frac{r\\left({\\tau}, {\\chi}\\right) \\frac{\\partial^2\\,a}{\\partial {\\tau} ^ 2} + 2 \\, a\\left({\\tau}, {\\chi}\\right) \\frac{\\partial^2\\,r}{\\partial {\\tau} ^ 2}}{a\\left({\\tau}, {\\chi}\\right) r\\left({\\tau}, {\\chi}\\right)} \\right) \\mathrm{d} {\\tau}\\otimes \\mathrm{d} {\\tau} -\\frac{2 \\, {\\left(a\\left({\\tau}, {\\chi}\\right) \\frac{\\partial^2\\,r}{\\partial {\\tau}\\partial {\\chi}} - \\frac{\\partial\\,a}{\\partial {\\tau}} \\frac{\\partial\\,r}{\\partial {\\chi}}\\right)}}{a\\left({\\tau}, {\\chi}\\right) r\\left({\\tau}, {\\chi}\\right)} \\mathrm{d} {\\tau}\\otimes \\mathrm{d} {\\chi} -\\frac{2 \\, {\\left(a\\left({\\tau}, {\\chi}\\right) \\frac{\\partial^2\\,r}{\\partial {\\tau}\\partial {\\chi}} - \\frac{\\partial\\,a}{\\partial {\\tau}} \\frac{\\partial\\,r}{\\partial {\\chi}}\\right)}}{a\\left({\\tau}, {\\chi}\\right) r\\left({\\tau}, {\\chi}\\right)} \\mathrm{d} {\\chi}\\otimes \\mathrm{d} {\\tau} + \\left( \\frac{a\\left({\\tau}, {\\chi}\\right)^{2} r\\left({\\tau}, {\\chi}\\right) \\frac{\\partial^2\\,a}{\\partial {\\tau} ^ 2} + 2 \\, a\\left({\\tau}, {\\chi}\\right)^{2} \\frac{\\partial\\,a}{\\partial {\\tau}} \\frac{\\partial\\,r}{\\partial {\\tau}} + 2 \\, \\frac{\\partial\\,a}{\\partial {\\chi}} \\frac{\\partial\\,r}{\\partial {\\chi}} - 2 \\, a\\left({\\tau}, {\\chi}\\right) \\frac{\\partial^2\\,r}{\\partial {\\chi} ^ 2}}{a\\left({\\tau}, {\\chi}\\right) r\\left({\\tau}, {\\chi}\\right)} \\right) \\mathrm{d} {\\chi}\\otimes \\mathrm{d} {\\chi} + \\left( \\frac{a\\left({\\tau}, {\\chi}\\right)^{2} r\\left({\\tau}, {\\chi}\\right) \\frac{\\partial\\,a}{\\partial {\\tau}} \\frac{\\partial\\,r}{\\partial {\\tau}} + a\\left({\\tau}, {\\chi}\\right)^{3} \\frac{\\partial\\,r}{\\partial {\\tau}}^{2} + a\\left({\\tau}, {\\chi}\\right)^{3} r\\left({\\tau}, {\\chi}\\right) \\frac{\\partial^2\\,r}{\\partial {\\tau} ^ 2} + a\\left({\\tau}, {\\chi}\\right)^{3} + r\\left({\\tau}, {\\chi}\\right) \\frac{\\partial\\,a}{\\partial {\\chi}} \\frac{\\partial\\,r}{\\partial {\\chi}} - a\\left({\\tau}, {\\chi}\\right) \\frac{\\partial\\,r}{\\partial {\\chi}}^{2} - a\\left({\\tau}, {\\chi}\\right) r\\left({\\tau}, {\\chi}\\right) \\frac{\\partial^2\\,r}{\\partial {\\chi} ^ 2}}{a\\left({\\tau}, {\\chi}\\right)^{3}} \\right) \\mathrm{d} {\\theta}\\otimes \\mathrm{d} {\\theta} + \\frac{{\\left(a\\left({\\tau}, {\\chi}\\right)^{2} r\\left({\\tau}, {\\chi}\\right) \\frac{\\partial\\,a}{\\partial {\\tau}} \\frac{\\partial\\,r}{\\partial {\\tau}} + a\\left({\\tau}, {\\chi}\\right)^{3} \\frac{\\partial\\,r}{\\partial {\\tau}}^{2} + a\\left({\\tau}, {\\chi}\\right)^{3} r\\left({\\tau}, {\\chi}\\right) \\frac{\\partial^2\\,r}{\\partial {\\tau} ^ 2} + a\\left({\\tau}, {\\chi}\\right)^{3} + r\\left({\\tau}, {\\chi}\\right) \\frac{\\partial\\,a}{\\partial {\\chi}} \\frac{\\partial\\,r}{\\partial {\\chi}} - a\\left({\\tau}, {\\chi}\\right) \\frac{\\partial\\,r}{\\partial {\\chi}}^{2} - a\\left({\\tau}, {\\chi}\\right) r\\left({\\tau}, {\\chi}\\right) \\frac{\\partial^2\\,r}{\\partial {\\chi} ^ 2}\\right)} \\sin\\left({\\theta}\\right)^{2}}{a\\left({\\tau}, {\\chi}\\right)^{3}} \\mathrm{d} {\\phi}\\otimes \\mathrm{d} {\\phi}\\)</html>"
      ],
      "text/latex": [
       "$\\displaystyle \\mathrm{Ric}\\left(g\\right) = \\left( -\\frac{r\\left({\\tau}, {\\chi}\\right) \\frac{\\partial^2\\,a}{\\partial {\\tau} ^ 2} + 2 \\, a\\left({\\tau}, {\\chi}\\right) \\frac{\\partial^2\\,r}{\\partial {\\tau} ^ 2}}{a\\left({\\tau}, {\\chi}\\right) r\\left({\\tau}, {\\chi}\\right)} \\right) \\mathrm{d} {\\tau}\\otimes \\mathrm{d} {\\tau} -\\frac{2 \\, {\\left(a\\left({\\tau}, {\\chi}\\right) \\frac{\\partial^2\\,r}{\\partial {\\tau}\\partial {\\chi}} - \\frac{\\partial\\,a}{\\partial {\\tau}} \\frac{\\partial\\,r}{\\partial {\\chi}}\\right)}}{a\\left({\\tau}, {\\chi}\\right) r\\left({\\tau}, {\\chi}\\right)} \\mathrm{d} {\\tau}\\otimes \\mathrm{d} {\\chi} -\\frac{2 \\, {\\left(a\\left({\\tau}, {\\chi}\\right) \\frac{\\partial^2\\,r}{\\partial {\\tau}\\partial {\\chi}} - \\frac{\\partial\\,a}{\\partial {\\tau}} \\frac{\\partial\\,r}{\\partial {\\chi}}\\right)}}{a\\left({\\tau}, {\\chi}\\right) r\\left({\\tau}, {\\chi}\\right)} \\mathrm{d} {\\chi}\\otimes \\mathrm{d} {\\tau} + \\left( \\frac{a\\left({\\tau}, {\\chi}\\right)^{2} r\\left({\\tau}, {\\chi}\\right) \\frac{\\partial^2\\,a}{\\partial {\\tau} ^ 2} + 2 \\, a\\left({\\tau}, {\\chi}\\right)^{2} \\frac{\\partial\\,a}{\\partial {\\tau}} \\frac{\\partial\\,r}{\\partial {\\tau}} + 2 \\, \\frac{\\partial\\,a}{\\partial {\\chi}} \\frac{\\partial\\,r}{\\partial {\\chi}} - 2 \\, a\\left({\\tau}, {\\chi}\\right) \\frac{\\partial^2\\,r}{\\partial {\\chi} ^ 2}}{a\\left({\\tau}, {\\chi}\\right) r\\left({\\tau}, {\\chi}\\right)} \\right) \\mathrm{d} {\\chi}\\otimes \\mathrm{d} {\\chi} + \\left( \\frac{a\\left({\\tau}, {\\chi}\\right)^{2} r\\left({\\tau}, {\\chi}\\right) \\frac{\\partial\\,a}{\\partial {\\tau}} \\frac{\\partial\\,r}{\\partial {\\tau}} + a\\left({\\tau}, {\\chi}\\right)^{3} \\frac{\\partial\\,r}{\\partial {\\tau}}^{2} + a\\left({\\tau}, {\\chi}\\right)^{3} r\\left({\\tau}, {\\chi}\\right) \\frac{\\partial^2\\,r}{\\partial {\\tau} ^ 2} + a\\left({\\tau}, {\\chi}\\right)^{3} + r\\left({\\tau}, {\\chi}\\right) \\frac{\\partial\\,a}{\\partial {\\chi}} \\frac{\\partial\\,r}{\\partial {\\chi}} - a\\left({\\tau}, {\\chi}\\right) \\frac{\\partial\\,r}{\\partial {\\chi}}^{2} - a\\left({\\tau}, {\\chi}\\right) r\\left({\\tau}, {\\chi}\\right) \\frac{\\partial^2\\,r}{\\partial {\\chi} ^ 2}}{a\\left({\\tau}, {\\chi}\\right)^{3}} \\right) \\mathrm{d} {\\theta}\\otimes \\mathrm{d} {\\theta} + \\frac{{\\left(a\\left({\\tau}, {\\chi}\\right)^{2} r\\left({\\tau}, {\\chi}\\right) \\frac{\\partial\\,a}{\\partial {\\tau}} \\frac{\\partial\\,r}{\\partial {\\tau}} + a\\left({\\tau}, {\\chi}\\right)^{3} \\frac{\\partial\\,r}{\\partial {\\tau}}^{2} + a\\left({\\tau}, {\\chi}\\right)^{3} r\\left({\\tau}, {\\chi}\\right) \\frac{\\partial^2\\,r}{\\partial {\\tau} ^ 2} + a\\left({\\tau}, {\\chi}\\right)^{3} + r\\left({\\tau}, {\\chi}\\right) \\frac{\\partial\\,a}{\\partial {\\chi}} \\frac{\\partial\\,r}{\\partial {\\chi}} - a\\left({\\tau}, {\\chi}\\right) \\frac{\\partial\\,r}{\\partial {\\chi}}^{2} - a\\left({\\tau}, {\\chi}\\right) r\\left({\\tau}, {\\chi}\\right) \\frac{\\partial^2\\,r}{\\partial {\\chi} ^ 2}\\right)} \\sin\\left({\\theta}\\right)^{2}}{a\\left({\\tau}, {\\chi}\\right)^{3}} \\mathrm{d} {\\phi}\\otimes \\mathrm{d} {\\phi}$"
      ],
      "text/plain": [
       "Ric(g) = -(r(t, x)*d^2(a)/dt^2 + 2*a(t, x)*d^2(r)/dt^2)/(a(t, x)*r(t, x)) dt⊗dt - 2*(a(t, x)*d^2(r)/dtdx - d(a)/dt*d(r)/dx)/(a(t, x)*r(t, x)) dt⊗dx - 2*(a(t, x)*d^2(r)/dtdx - d(a)/dt*d(r)/dx)/(a(t, x)*r(t, x)) dx⊗dt + (a(t, x)^2*r(t, x)*d^2(a)/dt^2 + 2*a(t, x)^2*d(a)/dt*d(r)/dt + 2*d(a)/dx*d(r)/dx - 2*a(t, x)*d^2(r)/dx^2)/(a(t, x)*r(t, x)) dx⊗dx + (a(t, x)^2*r(t, x)*d(a)/dt*d(r)/dt + a(t, x)^3*d(r)/dt^2 + a(t, x)^3*r(t, x)*d^2(r)/dt^2 + a(t, x)^3 + r(t, x)*d(a)/dx*d(r)/dx - a(t, x)*d(r)/dx^2 - a(t, x)*r(t, x)*d^2(r)/dx^2)/a(t, x)^3 dth⊗dth + (a(t, x)^2*r(t, x)*d(a)/dt*d(r)/dt + a(t, x)^3*d(r)/dt^2 + a(t, x)^3*r(t, x)*d^2(r)/dt^2 + a(t, x)^3 + r(t, x)*d(a)/dx*d(r)/dx - a(t, x)*d(r)/dx^2 - a(t, x)*r(t, x)*d^2(r)/dx^2)*sin(th)^2/a(t, x)^3 dph⊗dph"
      ]
     },
     "execution_count": 8,
     "metadata": {},
     "output_type": "execute_result"
    }
   ],
   "source": [
    "Ric.display()"
   ]
  },
  {
   "cell_type": "markdown",
   "metadata": {},
   "source": [
    "The Einstein tensor:"
   ]
  },
  {
   "cell_type": "code",
   "execution_count": 9,
   "metadata": {},
   "outputs": [
    {
     "name": "stdout",
     "output_type": "stream",
     "text": [
      "Field of symmetric bilinear forms G on the 4-dimensional Lorentzian manifold M\n"
     ]
    }
   ],
   "source": [
    "G = Ric - 1/2*g.ricci_scalar() * g\n",
    "G.set_name('G')\n",
    "print(G)"
   ]
  },
  {
   "cell_type": "code",
   "execution_count": 10,
   "metadata": {},
   "outputs": [
    {
     "data": {
      "text/html": [
       "<html>\\(\\displaystyle \\begin{array}{lcl} G_{ \\, {\\tau} \\, {\\tau} }^{ \\phantom{\\, {\\tau}}\\phantom{\\, {\\tau}} } & = & \\frac{2 \\, a\\left({\\tau}, {\\chi}\\right)^{2} r\\left({\\tau}, {\\chi}\\right) \\frac{\\partial\\,a}{\\partial {\\tau}} \\frac{\\partial\\,r}{\\partial {\\tau}} + a\\left({\\tau}, {\\chi}\\right)^{3} \\frac{\\partial\\,r}{\\partial {\\tau}}^{2} + a\\left({\\tau}, {\\chi}\\right)^{3} + 2 \\, r\\left({\\tau}, {\\chi}\\right) \\frac{\\partial\\,a}{\\partial {\\chi}} \\frac{\\partial\\,r}{\\partial {\\chi}} - a\\left({\\tau}, {\\chi}\\right) \\frac{\\partial\\,r}{\\partial {\\chi}}^{2} - 2 \\, a\\left({\\tau}, {\\chi}\\right) r\\left({\\tau}, {\\chi}\\right) \\frac{\\partial^2\\,r}{\\partial {\\chi} ^ 2}}{a\\left({\\tau}, {\\chi}\\right)^{3} r\\left({\\tau}, {\\chi}\\right)^{2}} \\\\ G_{ \\, {\\tau} \\, {\\chi} }^{ \\phantom{\\, {\\tau}}\\phantom{\\, {\\chi}} } & = & -\\frac{2 \\, {\\left(a\\left({\\tau}, {\\chi}\\right) \\frac{\\partial^2\\,r}{\\partial {\\tau}\\partial {\\chi}} - \\frac{\\partial\\,a}{\\partial {\\tau}} \\frac{\\partial\\,r}{\\partial {\\chi}}\\right)}}{a\\left({\\tau}, {\\chi}\\right) r\\left({\\tau}, {\\chi}\\right)} \\\\ G_{ \\, {\\chi} \\, {\\tau} }^{ \\phantom{\\, {\\chi}}\\phantom{\\, {\\tau}} } & = & -\\frac{2 \\, {\\left(a\\left({\\tau}, {\\chi}\\right) \\frac{\\partial^2\\,r}{\\partial {\\tau}\\partial {\\chi}} - \\frac{\\partial\\,a}{\\partial {\\tau}} \\frac{\\partial\\,r}{\\partial {\\chi}}\\right)}}{a\\left({\\tau}, {\\chi}\\right) r\\left({\\tau}, {\\chi}\\right)} \\\\ G_{ \\, {\\chi} \\, {\\chi} }^{ \\phantom{\\, {\\chi}}\\phantom{\\, {\\chi}} } & = & -\\frac{a\\left({\\tau}, {\\chi}\\right)^{2} \\left(\\frac{\\partial\\,r}{\\partial {\\tau}}\\right)^{2} + 2 \\, a\\left({\\tau}, {\\chi}\\right)^{2} r\\left({\\tau}, {\\chi}\\right) \\frac{\\partial^2\\,r}{\\partial {\\tau} ^ 2} + a\\left({\\tau}, {\\chi}\\right)^{2} - \\left(\\frac{\\partial\\,r}{\\partial {\\chi}}\\right)^{2}}{r\\left({\\tau}, {\\chi}\\right)^{2}} \\\\ G_{ \\, {\\theta} \\, {\\theta} }^{ \\phantom{\\, {\\theta}}\\phantom{\\, {\\theta}} } & = & -\\frac{a\\left({\\tau}, {\\chi}\\right)^{2} r\\left({\\tau}, {\\chi}\\right)^{2} \\frac{\\partial^2\\,a}{\\partial {\\tau} ^ 2} + a\\left({\\tau}, {\\chi}\\right)^{2} r\\left({\\tau}, {\\chi}\\right) \\frac{\\partial\\,a}{\\partial {\\tau}} \\frac{\\partial\\,r}{\\partial {\\tau}} + a\\left({\\tau}, {\\chi}\\right)^{3} r\\left({\\tau}, {\\chi}\\right) \\frac{\\partial^2\\,r}{\\partial {\\tau} ^ 2} + r\\left({\\tau}, {\\chi}\\right) \\frac{\\partial\\,a}{\\partial {\\chi}} \\frac{\\partial\\,r}{\\partial {\\chi}} - a\\left({\\tau}, {\\chi}\\right) r\\left({\\tau}, {\\chi}\\right) \\frac{\\partial^2\\,r}{\\partial {\\chi} ^ 2}}{a\\left({\\tau}, {\\chi}\\right)^{3}} \\\\ G_{ \\, {\\phi} \\, {\\phi} }^{ \\phantom{\\, {\\phi}}\\phantom{\\, {\\phi}} } & = & -\\frac{{\\left(a\\left({\\tau}, {\\chi}\\right)^{2} r\\left({\\tau}, {\\chi}\\right)^{2} \\frac{\\partial^2\\,a}{\\partial {\\tau} ^ 2} + a\\left({\\tau}, {\\chi}\\right)^{2} r\\left({\\tau}, {\\chi}\\right) \\frac{\\partial\\,a}{\\partial {\\tau}} \\frac{\\partial\\,r}{\\partial {\\tau}} + a\\left({\\tau}, {\\chi}\\right)^{3} r\\left({\\tau}, {\\chi}\\right) \\frac{\\partial^2\\,r}{\\partial {\\tau} ^ 2} + r\\left({\\tau}, {\\chi}\\right) \\frac{\\partial\\,a}{\\partial {\\chi}} \\frac{\\partial\\,r}{\\partial {\\chi}} - a\\left({\\tau}, {\\chi}\\right) r\\left({\\tau}, {\\chi}\\right) \\frac{\\partial^2\\,r}{\\partial {\\chi} ^ 2}\\right)} \\sin\\left({\\theta}\\right)^{2}}{a\\left({\\tau}, {\\chi}\\right)^{3}} \\end{array}\\)</html>"
      ],
      "text/latex": [
       "$\\displaystyle \\begin{array}{lcl} G_{ \\, {\\tau} \\, {\\tau} }^{ \\phantom{\\, {\\tau}}\\phantom{\\, {\\tau}} } & = & \\frac{2 \\, a\\left({\\tau}, {\\chi}\\right)^{2} r\\left({\\tau}, {\\chi}\\right) \\frac{\\partial\\,a}{\\partial {\\tau}} \\frac{\\partial\\,r}{\\partial {\\tau}} + a\\left({\\tau}, {\\chi}\\right)^{3} \\frac{\\partial\\,r}{\\partial {\\tau}}^{2} + a\\left({\\tau}, {\\chi}\\right)^{3} + 2 \\, r\\left({\\tau}, {\\chi}\\right) \\frac{\\partial\\,a}{\\partial {\\chi}} \\frac{\\partial\\,r}{\\partial {\\chi}} - a\\left({\\tau}, {\\chi}\\right) \\frac{\\partial\\,r}{\\partial {\\chi}}^{2} - 2 \\, a\\left({\\tau}, {\\chi}\\right) r\\left({\\tau}, {\\chi}\\right) \\frac{\\partial^2\\,r}{\\partial {\\chi} ^ 2}}{a\\left({\\tau}, {\\chi}\\right)^{3} r\\left({\\tau}, {\\chi}\\right)^{2}} \\\\ G_{ \\, {\\tau} \\, {\\chi} }^{ \\phantom{\\, {\\tau}}\\phantom{\\, {\\chi}} } & = & -\\frac{2 \\, {\\left(a\\left({\\tau}, {\\chi}\\right) \\frac{\\partial^2\\,r}{\\partial {\\tau}\\partial {\\chi}} - \\frac{\\partial\\,a}{\\partial {\\tau}} \\frac{\\partial\\,r}{\\partial {\\chi}}\\right)}}{a\\left({\\tau}, {\\chi}\\right) r\\left({\\tau}, {\\chi}\\right)} \\\\ G_{ \\, {\\chi} \\, {\\tau} }^{ \\phantom{\\, {\\chi}}\\phantom{\\, {\\tau}} } & = & -\\frac{2 \\, {\\left(a\\left({\\tau}, {\\chi}\\right) \\frac{\\partial^2\\,r}{\\partial {\\tau}\\partial {\\chi}} - \\frac{\\partial\\,a}{\\partial {\\tau}} \\frac{\\partial\\,r}{\\partial {\\chi}}\\right)}}{a\\left({\\tau}, {\\chi}\\right) r\\left({\\tau}, {\\chi}\\right)} \\\\ G_{ \\, {\\chi} \\, {\\chi} }^{ \\phantom{\\, {\\chi}}\\phantom{\\, {\\chi}} } & = & -\\frac{a\\left({\\tau}, {\\chi}\\right)^{2} \\left(\\frac{\\partial\\,r}{\\partial {\\tau}}\\right)^{2} + 2 \\, a\\left({\\tau}, {\\chi}\\right)^{2} r\\left({\\tau}, {\\chi}\\right) \\frac{\\partial^2\\,r}{\\partial {\\tau} ^ 2} + a\\left({\\tau}, {\\chi}\\right)^{2} - \\left(\\frac{\\partial\\,r}{\\partial {\\chi}}\\right)^{2}}{r\\left({\\tau}, {\\chi}\\right)^{2}} \\\\ G_{ \\, {\\theta} \\, {\\theta} }^{ \\phantom{\\, {\\theta}}\\phantom{\\, {\\theta}} } & = & -\\frac{a\\left({\\tau}, {\\chi}\\right)^{2} r\\left({\\tau}, {\\chi}\\right)^{2} \\frac{\\partial^2\\,a}{\\partial {\\tau} ^ 2} + a\\left({\\tau}, {\\chi}\\right)^{2} r\\left({\\tau}, {\\chi}\\right) \\frac{\\partial\\,a}{\\partial {\\tau}} \\frac{\\partial\\,r}{\\partial {\\tau}} + a\\left({\\tau}, {\\chi}\\right)^{3} r\\left({\\tau}, {\\chi}\\right) \\frac{\\partial^2\\,r}{\\partial {\\tau} ^ 2} + r\\left({\\tau}, {\\chi}\\right) \\frac{\\partial\\,a}{\\partial {\\chi}} \\frac{\\partial\\,r}{\\partial {\\chi}} - a\\left({\\tau}, {\\chi}\\right) r\\left({\\tau}, {\\chi}\\right) \\frac{\\partial^2\\,r}{\\partial {\\chi} ^ 2}}{a\\left({\\tau}, {\\chi}\\right)^{3}} \\\\ G_{ \\, {\\phi} \\, {\\phi} }^{ \\phantom{\\, {\\phi}}\\phantom{\\, {\\phi}} } & = & -\\frac{{\\left(a\\left({\\tau}, {\\chi}\\right)^{2} r\\left({\\tau}, {\\chi}\\right)^{2} \\frac{\\partial^2\\,a}{\\partial {\\tau} ^ 2} + a\\left({\\tau}, {\\chi}\\right)^{2} r\\left({\\tau}, {\\chi}\\right) \\frac{\\partial\\,a}{\\partial {\\tau}} \\frac{\\partial\\,r}{\\partial {\\tau}} + a\\left({\\tau}, {\\chi}\\right)^{3} r\\left({\\tau}, {\\chi}\\right) \\frac{\\partial^2\\,r}{\\partial {\\tau} ^ 2} + r\\left({\\tau}, {\\chi}\\right) \\frac{\\partial\\,a}{\\partial {\\chi}} \\frac{\\partial\\,r}{\\partial {\\chi}} - a\\left({\\tau}, {\\chi}\\right) r\\left({\\tau}, {\\chi}\\right) \\frac{\\partial^2\\,r}{\\partial {\\chi} ^ 2}\\right)} \\sin\\left({\\theta}\\right)^{2}}{a\\left({\\tau}, {\\chi}\\right)^{3}} \\end{array}$"
      ],
      "text/plain": [
       "G_t,t = (2*a(t, x)^2*r(t, x)*d(a)/dt*d(r)/dt + a(t, x)^3*d(r)/dt^2 + a(t, x)^3 + 2*r(t, x)*d(a)/dx*d(r)/dx - a(t, x)*d(r)/dx^2 - 2*a(t, x)*r(t, x)*d^2(r)/dx^2)/(a(t, x)^3*r(t, x)^2) \n",
       "G_t,x = -2*(a(t, x)*d^2(r)/dtdx - d(a)/dt*d(r)/dx)/(a(t, x)*r(t, x)) \n",
       "G_x,t = -2*(a(t, x)*d^2(r)/dtdx - d(a)/dt*d(r)/dx)/(a(t, x)*r(t, x)) \n",
       "G_x,x = -(a(t, x)^2*(d(r)/dt)^2 + 2*a(t, x)^2*r(t, x)*d^2(r)/dt^2 + a(t, x)^2 - (d(r)/dx)^2)/r(t, x)^2 \n",
       "G_th,th = -(a(t, x)^2*r(t, x)^2*d^2(a)/dt^2 + a(t, x)^2*r(t, x)*d(a)/dt*d(r)/dt + a(t, x)^3*r(t, x)*d^2(r)/dt^2 + r(t, x)*d(a)/dx*d(r)/dx - a(t, x)*r(t, x)*d^2(r)/dx^2)/a(t, x)^3 \n",
       "G_ph,ph = -(a(t, x)^2*r(t, x)^2*d^2(a)/dt^2 + a(t, x)^2*r(t, x)*d(a)/dt*d(r)/dt + a(t, x)^3*r(t, x)*d^2(r)/dt^2 + r(t, x)*d(a)/dx*d(r)/dx - a(t, x)*r(t, x)*d^2(r)/dx^2)*sin(th)^2/a(t, x)^3 "
      ]
     },
     "execution_count": 10,
     "metadata": {},
     "output_type": "execute_result"
    }
   ],
   "source": [
    "G.display_comp()"
   ]
  },
  {
   "cell_type": "markdown",
   "metadata": {},
   "source": [
    "### Dust matter model\n",
    "\n",
    "Let us consider a pressureless fluid (\"dust\"). Moreover, we assume that the coordinates $(\\tau,\\chi,\\theta,\\phi)$ are **comoving**, i.e. that the fluid 4-velocity is equal to $\\partial_\\tau$:"
   ]
  },
  {
   "cell_type": "code",
   "execution_count": 11,
   "metadata": {},
   "outputs": [
    {
     "data": {
      "text/html": [
       "<html>\\(\\displaystyle u = \\frac{\\partial}{\\partial {\\tau} }\\)</html>"
      ],
      "text/latex": [
       "$\\displaystyle u = \\frac{\\partial}{\\partial {\\tau} }$"
      ],
      "text/plain": [
       "u = ∂/∂t"
      ]
     },
     "execution_count": 11,
     "metadata": {},
     "output_type": "execute_result"
    }
   ],
   "source": [
    "u = M.vector_field('u')\n",
    "u[0] = 1\n",
    "u.display()"
   ]
  },
  {
   "cell_type": "markdown",
   "metadata": {},
   "source": [
    "Since $(\\tau,\\chi,\\theta,\\chi)$ are synchronous, the above does define a unit timelike vector:"
   ]
  },
  {
   "cell_type": "code",
   "execution_count": 12,
   "metadata": {},
   "outputs": [
    {
     "data": {
      "text/html": [
       "<html>\\(\\displaystyle \\begin{array}{llcl} g\\left(u,u\\right):& M & \\longrightarrow & \\mathbb{R} \\\\ & \\left({\\tau}, {\\chi}, {\\theta}, {\\phi}\\right) & \\longmapsto & -1 \\end{array}\\)</html>"
      ],
      "text/latex": [
       "$\\displaystyle \\begin{array}{llcl} g\\left(u,u\\right):& M & \\longrightarrow & \\mathbb{R} \\\\ & \\left({\\tau}, {\\chi}, {\\theta}, {\\phi}\\right) & \\longmapsto & -1 \\end{array}$"
      ],
      "text/plain": [
       "g(u,u): M → ℝ\n",
       "   (t, x, th, ph) ↦ -1"
      ]
     },
     "execution_count": 12,
     "metadata": {},
     "output_type": "execute_result"
    }
   ],
   "source": [
    "g(u,u).display()"
   ]
  },
  {
   "cell_type": "markdown",
   "metadata": {},
   "source": [
    "Let us check that $u$ is a geodesic vector field:"
   ]
  },
  {
   "cell_type": "code",
   "execution_count": 13,
   "metadata": {},
   "outputs": [
    {
     "data": {
      "text/html": [
       "<html>\\(\\displaystyle 0\\)</html>"
      ],
      "text/latex": [
       "$\\displaystyle 0$"
      ],
      "text/plain": [
       "0"
      ]
     },
     "execution_count": 13,
     "metadata": {},
     "output_type": "execute_result"
    }
   ],
   "source": [
    "nabla = g.connection()\n",
    "acc = u['^b']*nabla(u)['^a_b']\n",
    "acc.display()"
   ]
  },
  {
   "cell_type": "markdown",
   "metadata": {},
   "source": [
    "The 1-form associated to the fluid 4-velocity by metric duality:"
   ]
  },
  {
   "cell_type": "code",
   "execution_count": 14,
   "metadata": {},
   "outputs": [
    {
     "name": "stdout",
     "output_type": "stream",
     "text": [
      "1-form on the 4-dimensional Lorentzian manifold M\n"
     ]
    }
   ],
   "source": [
    "u_form = u.down(g)\n",
    "print(u_form)"
   ]
  },
  {
   "cell_type": "code",
   "execution_count": 15,
   "metadata": {},
   "outputs": [
    {
     "data": {
      "text/html": [
       "<html>\\(\\displaystyle -\\mathrm{d} {\\tau}\\)</html>"
      ],
      "text/latex": [
       "$\\displaystyle -\\mathrm{d} {\\tau}$"
      ],
      "text/plain": [
       "-dt"
      ]
     },
     "execution_count": 15,
     "metadata": {},
     "output_type": "execute_result"
    }
   ],
   "source": [
    "u_form.display()"
   ]
  },
  {
   "cell_type": "markdown",
   "metadata": {},
   "source": [
    "The pressureless energy-momentum tensor:"
   ]
  },
  {
   "cell_type": "code",
   "execution_count": 16,
   "metadata": {},
   "outputs": [
    {
     "name": "stdout",
     "output_type": "stream",
     "text": [
      "Field of symmetric bilinear forms T on the 4-dimensional Lorentzian manifold M\n"
     ]
    }
   ],
   "source": [
    "rho = function('rho')\n",
    "T = rho(t,x)*(u_form * u_form)\n",
    "T.set_name('T')\n",
    "print(T)"
   ]
  },
  {
   "cell_type": "code",
   "execution_count": 17,
   "metadata": {},
   "outputs": [
    {
     "data": {
      "text/html": [
       "<html>\\(\\displaystyle T = \\rho\\left({\\tau}, {\\chi}\\right) \\mathrm{d} {\\tau}\\otimes \\mathrm{d} {\\tau}\\)</html>"
      ],
      "text/latex": [
       "$\\displaystyle T = \\rho\\left({\\tau}, {\\chi}\\right) \\mathrm{d} {\\tau}\\otimes \\mathrm{d} {\\tau}$"
      ],
      "text/plain": [
       "T = rho(t, x) dt⊗dt"
      ]
     },
     "execution_count": 17,
     "metadata": {},
     "output_type": "execute_result"
    }
   ],
   "source": [
    "T.display()"
   ]
  },
  {
   "cell_type": "markdown",
   "metadata": {},
   "source": [
    "The Einstein equation:"
   ]
  },
  {
   "cell_type": "code",
   "execution_count": 18,
   "metadata": {},
   "outputs": [
    {
     "name": "stdout",
     "output_type": "stream",
     "text": [
      "Field of symmetric bilinear forms E on the 4-dimensional Lorentzian manifold M\n"
     ]
    }
   ],
   "source": [
    "E = G + Lamb*g - 8*pi*T \n",
    "E.set_name('E')\n",
    "print(E)"
   ]
  },
  {
   "cell_type": "code",
   "execution_count": 19,
   "metadata": {},
   "outputs": [
    {
     "data": {
      "text/html": [
       "<html>\\(\\displaystyle \\begin{array}{lcl} E_{ \\, {\\tau} \\, {\\tau} }^{ \\phantom{\\, {\\tau}}\\phantom{\\, {\\tau}} } & = & -\\frac{8 \\, \\pi a\\left({\\tau}, {\\chi}\\right)^{3} r\\left({\\tau}, {\\chi}\\right)^{2} \\rho\\left({\\tau}, {\\chi}\\right) + {\\Lambda} a\\left({\\tau}, {\\chi}\\right)^{3} r\\left({\\tau}, {\\chi}\\right)^{2} - 2 \\, a\\left({\\tau}, {\\chi}\\right)^{2} r\\left({\\tau}, {\\chi}\\right) \\frac{\\partial\\,a}{\\partial {\\tau}} \\frac{\\partial\\,r}{\\partial {\\tau}} - a\\left({\\tau}, {\\chi}\\right)^{3} \\frac{\\partial\\,r}{\\partial {\\tau}}^{2} - a\\left({\\tau}, {\\chi}\\right)^{3} - 2 \\, r\\left({\\tau}, {\\chi}\\right) \\frac{\\partial\\,a}{\\partial {\\chi}} \\frac{\\partial\\,r}{\\partial {\\chi}} + a\\left({\\tau}, {\\chi}\\right) \\frac{\\partial\\,r}{\\partial {\\chi}}^{2} + 2 \\, a\\left({\\tau}, {\\chi}\\right) r\\left({\\tau}, {\\chi}\\right) \\frac{\\partial^2\\,r}{\\partial {\\chi} ^ 2}}{a\\left({\\tau}, {\\chi}\\right)^{3} r\\left({\\tau}, {\\chi}\\right)^{2}} \\\\ E_{ \\, {\\tau} \\, {\\chi} }^{ \\phantom{\\, {\\tau}}\\phantom{\\, {\\chi}} } & = & -\\frac{2 \\, {\\left(a\\left({\\tau}, {\\chi}\\right) \\frac{\\partial^2\\,r}{\\partial {\\tau}\\partial {\\chi}} - \\frac{\\partial\\,a}{\\partial {\\tau}} \\frac{\\partial\\,r}{\\partial {\\chi}}\\right)}}{a\\left({\\tau}, {\\chi}\\right) r\\left({\\tau}, {\\chi}\\right)} \\\\ E_{ \\, {\\chi} \\, {\\tau} }^{ \\phantom{\\, {\\chi}}\\phantom{\\, {\\tau}} } & = & -\\frac{2 \\, {\\left(a\\left({\\tau}, {\\chi}\\right) \\frac{\\partial^2\\,r}{\\partial {\\tau}\\partial {\\chi}} - \\frac{\\partial\\,a}{\\partial {\\tau}} \\frac{\\partial\\,r}{\\partial {\\chi}}\\right)}}{a\\left({\\tau}, {\\chi}\\right) r\\left({\\tau}, {\\chi}\\right)} \\\\ E_{ \\, {\\chi} \\, {\\chi} }^{ \\phantom{\\, {\\chi}}\\phantom{\\, {\\chi}} } & = & \\frac{{\\Lambda} a\\left({\\tau}, {\\chi}\\right)^{2} r\\left({\\tau}, {\\chi}\\right)^{2} - a\\left({\\tau}, {\\chi}\\right)^{2} \\left(\\frac{\\partial\\,r}{\\partial {\\tau}}\\right)^{2} - 2 \\, a\\left({\\tau}, {\\chi}\\right)^{2} r\\left({\\tau}, {\\chi}\\right) \\frac{\\partial^2\\,r}{\\partial {\\tau} ^ 2} - a\\left({\\tau}, {\\chi}\\right)^{2} + \\left(\\frac{\\partial\\,r}{\\partial {\\chi}}\\right)^{2}}{r\\left({\\tau}, {\\chi}\\right)^{2}} \\\\ E_{ \\, {\\theta} \\, {\\theta} }^{ \\phantom{\\, {\\theta}}\\phantom{\\, {\\theta}} } & = & \\frac{{\\Lambda} a\\left({\\tau}, {\\chi}\\right)^{3} r\\left({\\tau}, {\\chi}\\right)^{2} - a\\left({\\tau}, {\\chi}\\right)^{2} r\\left({\\tau}, {\\chi}\\right)^{2} \\frac{\\partial^2\\,a}{\\partial {\\tau} ^ 2} - a\\left({\\tau}, {\\chi}\\right)^{2} r\\left({\\tau}, {\\chi}\\right) \\frac{\\partial\\,a}{\\partial {\\tau}} \\frac{\\partial\\,r}{\\partial {\\tau}} - a\\left({\\tau}, {\\chi}\\right)^{3} r\\left({\\tau}, {\\chi}\\right) \\frac{\\partial^2\\,r}{\\partial {\\tau} ^ 2} - r\\left({\\tau}, {\\chi}\\right) \\frac{\\partial\\,a}{\\partial {\\chi}} \\frac{\\partial\\,r}{\\partial {\\chi}} + a\\left({\\tau}, {\\chi}\\right) r\\left({\\tau}, {\\chi}\\right) \\frac{\\partial^2\\,r}{\\partial {\\chi} ^ 2}}{a\\left({\\tau}, {\\chi}\\right)^{3}} \\\\ E_{ \\, {\\phi} \\, {\\phi} }^{ \\phantom{\\, {\\phi}}\\phantom{\\, {\\phi}} } & = & \\frac{{\\left({\\Lambda} a\\left({\\tau}, {\\chi}\\right)^{3} r\\left({\\tau}, {\\chi}\\right)^{2} - a\\left({\\tau}, {\\chi}\\right)^{2} r\\left({\\tau}, {\\chi}\\right)^{2} \\frac{\\partial^2\\,a}{\\partial {\\tau} ^ 2} - a\\left({\\tau}, {\\chi}\\right)^{2} r\\left({\\tau}, {\\chi}\\right) \\frac{\\partial\\,a}{\\partial {\\tau}} \\frac{\\partial\\,r}{\\partial {\\tau}} - a\\left({\\tau}, {\\chi}\\right)^{3} r\\left({\\tau}, {\\chi}\\right) \\frac{\\partial^2\\,r}{\\partial {\\tau} ^ 2} - r\\left({\\tau}, {\\chi}\\right) \\frac{\\partial\\,a}{\\partial {\\chi}} \\frac{\\partial\\,r}{\\partial {\\chi}} + a\\left({\\tau}, {\\chi}\\right) r\\left({\\tau}, {\\chi}\\right) \\frac{\\partial^2\\,r}{\\partial {\\chi} ^ 2}\\right)} \\sin\\left({\\theta}\\right)^{2}}{a\\left({\\tau}, {\\chi}\\right)^{3}} \\end{array}\\)</html>"
      ],
      "text/latex": [
       "$\\displaystyle \\begin{array}{lcl} E_{ \\, {\\tau} \\, {\\tau} }^{ \\phantom{\\, {\\tau}}\\phantom{\\, {\\tau}} } & = & -\\frac{8 \\, \\pi a\\left({\\tau}, {\\chi}\\right)^{3} r\\left({\\tau}, {\\chi}\\right)^{2} \\rho\\left({\\tau}, {\\chi}\\right) + {\\Lambda} a\\left({\\tau}, {\\chi}\\right)^{3} r\\left({\\tau}, {\\chi}\\right)^{2} - 2 \\, a\\left({\\tau}, {\\chi}\\right)^{2} r\\left({\\tau}, {\\chi}\\right) \\frac{\\partial\\,a}{\\partial {\\tau}} \\frac{\\partial\\,r}{\\partial {\\tau}} - a\\left({\\tau}, {\\chi}\\right)^{3} \\frac{\\partial\\,r}{\\partial {\\tau}}^{2} - a\\left({\\tau}, {\\chi}\\right)^{3} - 2 \\, r\\left({\\tau}, {\\chi}\\right) \\frac{\\partial\\,a}{\\partial {\\chi}} \\frac{\\partial\\,r}{\\partial {\\chi}} + a\\left({\\tau}, {\\chi}\\right) \\frac{\\partial\\,r}{\\partial {\\chi}}^{2} + 2 \\, a\\left({\\tau}, {\\chi}\\right) r\\left({\\tau}, {\\chi}\\right) \\frac{\\partial^2\\,r}{\\partial {\\chi} ^ 2}}{a\\left({\\tau}, {\\chi}\\right)^{3} r\\left({\\tau}, {\\chi}\\right)^{2}} \\\\ E_{ \\, {\\tau} \\, {\\chi} }^{ \\phantom{\\, {\\tau}}\\phantom{\\, {\\chi}} } & = & -\\frac{2 \\, {\\left(a\\left({\\tau}, {\\chi}\\right) \\frac{\\partial^2\\,r}{\\partial {\\tau}\\partial {\\chi}} - \\frac{\\partial\\,a}{\\partial {\\tau}} \\frac{\\partial\\,r}{\\partial {\\chi}}\\right)}}{a\\left({\\tau}, {\\chi}\\right) r\\left({\\tau}, {\\chi}\\right)} \\\\ E_{ \\, {\\chi} \\, {\\tau} }^{ \\phantom{\\, {\\chi}}\\phantom{\\, {\\tau}} } & = & -\\frac{2 \\, {\\left(a\\left({\\tau}, {\\chi}\\right) \\frac{\\partial^2\\,r}{\\partial {\\tau}\\partial {\\chi}} - \\frac{\\partial\\,a}{\\partial {\\tau}} \\frac{\\partial\\,r}{\\partial {\\chi}}\\right)}}{a\\left({\\tau}, {\\chi}\\right) r\\left({\\tau}, {\\chi}\\right)} \\\\ E_{ \\, {\\chi} \\, {\\chi} }^{ \\phantom{\\, {\\chi}}\\phantom{\\, {\\chi}} } & = & \\frac{{\\Lambda} a\\left({\\tau}, {\\chi}\\right)^{2} r\\left({\\tau}, {\\chi}\\right)^{2} - a\\left({\\tau}, {\\chi}\\right)^{2} \\left(\\frac{\\partial\\,r}{\\partial {\\tau}}\\right)^{2} - 2 \\, a\\left({\\tau}, {\\chi}\\right)^{2} r\\left({\\tau}, {\\chi}\\right) \\frac{\\partial^2\\,r}{\\partial {\\tau} ^ 2} - a\\left({\\tau}, {\\chi}\\right)^{2} + \\left(\\frac{\\partial\\,r}{\\partial {\\chi}}\\right)^{2}}{r\\left({\\tau}, {\\chi}\\right)^{2}} \\\\ E_{ \\, {\\theta} \\, {\\theta} }^{ \\phantom{\\, {\\theta}}\\phantom{\\, {\\theta}} } & = & \\frac{{\\Lambda} a\\left({\\tau}, {\\chi}\\right)^{3} r\\left({\\tau}, {\\chi}\\right)^{2} - a\\left({\\tau}, {\\chi}\\right)^{2} r\\left({\\tau}, {\\chi}\\right)^{2} \\frac{\\partial^2\\,a}{\\partial {\\tau} ^ 2} - a\\left({\\tau}, {\\chi}\\right)^{2} r\\left({\\tau}, {\\chi}\\right) \\frac{\\partial\\,a}{\\partial {\\tau}} \\frac{\\partial\\,r}{\\partial {\\tau}} - a\\left({\\tau}, {\\chi}\\right)^{3} r\\left({\\tau}, {\\chi}\\right) \\frac{\\partial^2\\,r}{\\partial {\\tau} ^ 2} - r\\left({\\tau}, {\\chi}\\right) \\frac{\\partial\\,a}{\\partial {\\chi}} \\frac{\\partial\\,r}{\\partial {\\chi}} + a\\left({\\tau}, {\\chi}\\right) r\\left({\\tau}, {\\chi}\\right) \\frac{\\partial^2\\,r}{\\partial {\\chi} ^ 2}}{a\\left({\\tau}, {\\chi}\\right)^{3}} \\\\ E_{ \\, {\\phi} \\, {\\phi} }^{ \\phantom{\\, {\\phi}}\\phantom{\\, {\\phi}} } & = & \\frac{{\\left({\\Lambda} a\\left({\\tau}, {\\chi}\\right)^{3} r\\left({\\tau}, {\\chi}\\right)^{2} - a\\left({\\tau}, {\\chi}\\right)^{2} r\\left({\\tau}, {\\chi}\\right)^{2} \\frac{\\partial^2\\,a}{\\partial {\\tau} ^ 2} - a\\left({\\tau}, {\\chi}\\right)^{2} r\\left({\\tau}, {\\chi}\\right) \\frac{\\partial\\,a}{\\partial {\\tau}} \\frac{\\partial\\,r}{\\partial {\\tau}} - a\\left({\\tau}, {\\chi}\\right)^{3} r\\left({\\tau}, {\\chi}\\right) \\frac{\\partial^2\\,r}{\\partial {\\tau} ^ 2} - r\\left({\\tau}, {\\chi}\\right) \\frac{\\partial\\,a}{\\partial {\\chi}} \\frac{\\partial\\,r}{\\partial {\\chi}} + a\\left({\\tau}, {\\chi}\\right) r\\left({\\tau}, {\\chi}\\right) \\frac{\\partial^2\\,r}{\\partial {\\chi} ^ 2}\\right)} \\sin\\left({\\theta}\\right)^{2}}{a\\left({\\tau}, {\\chi}\\right)^{3}} \\end{array}$"
      ],
      "text/plain": [
       "E_t,t = -(8*pi*a(t, x)^3*r(t, x)^2*rho(t, x) + Lamb*a(t, x)^3*r(t, x)^2 - 2*a(t, x)^2*r(t, x)*d(a)/dt*d(r)/dt - a(t, x)^3*d(r)/dt^2 - a(t, x)^3 - 2*r(t, x)*d(a)/dx*d(r)/dx + a(t, x)*d(r)/dx^2 + 2*a(t, x)*r(t, x)*d^2(r)/dx^2)/(a(t, x)^3*r(t, x)^2) \n",
       "E_t,x = -2*(a(t, x)*d^2(r)/dtdx - d(a)/dt*d(r)/dx)/(a(t, x)*r(t, x)) \n",
       "E_x,t = -2*(a(t, x)*d^2(r)/dtdx - d(a)/dt*d(r)/dx)/(a(t, x)*r(t, x)) \n",
       "E_x,x = (Lamb*a(t, x)^2*r(t, x)^2 - a(t, x)^2*(d(r)/dt)^2 - 2*a(t, x)^2*r(t, x)*d^2(r)/dt^2 - a(t, x)^2 + (d(r)/dx)^2)/r(t, x)^2 \n",
       "E_th,th = (Lamb*a(t, x)^3*r(t, x)^2 - a(t, x)^2*r(t, x)^2*d^2(a)/dt^2 - a(t, x)^2*r(t, x)*d(a)/dt*d(r)/dt - a(t, x)^3*r(t, x)*d^2(r)/dt^2 - r(t, x)*d(a)/dx*d(r)/dx + a(t, x)*r(t, x)*d^2(r)/dx^2)/a(t, x)^3 \n",
       "E_ph,ph = (Lamb*a(t, x)^3*r(t, x)^2 - a(t, x)^2*r(t, x)^2*d^2(a)/dt^2 - a(t, x)^2*r(t, x)*d(a)/dt*d(r)/dt - a(t, x)^3*r(t, x)*d^2(r)/dt^2 - r(t, x)*d(a)/dx*d(r)/dx + a(t, x)*r(t, x)*d^2(r)/dx^2)*sin(th)^2/a(t, x)^3 "
      ]
     },
     "execution_count": 19,
     "metadata": {},
     "output_type": "execute_result"
    }
   ],
   "source": [
    "E.display_comp()"
   ]
  },
  {
   "cell_type": "markdown",
   "metadata": {},
   "source": [
    "## Solving the Einstein equation"
   ]
  },
  {
   "cell_type": "markdown",
   "metadata": {},
   "source": [
    "### $\\tau\\chi$ component"
   ]
  },
  {
   "cell_type": "markdown",
   "metadata": {},
   "source": [
    "Let us first consider the $01 = \\tau\\chi$ component of the Einstein equation:"
   ]
  },
  {
   "cell_type": "code",
   "execution_count": 20,
   "metadata": {},
   "outputs": [
    {
     "data": {
      "text/html": [
       "<html>\\(\\displaystyle -\\frac{2 \\, {\\left(a\\left({\\tau}, {\\chi}\\right) \\frac{\\partial^2\\,r}{\\partial {\\tau}\\partial {\\chi}} - \\frac{\\partial\\,a}{\\partial {\\tau}} \\frac{\\partial\\,r}{\\partial {\\chi}}\\right)}}{a\\left({\\tau}, {\\chi}\\right) r\\left({\\tau}, {\\chi}\\right)}\\)</html>"
      ],
      "text/latex": [
       "$\\displaystyle -\\frac{2 \\, {\\left(a\\left({\\tau}, {\\chi}\\right) \\frac{\\partial^2\\,r}{\\partial {\\tau}\\partial {\\chi}} - \\frac{\\partial\\,a}{\\partial {\\tau}} \\frac{\\partial\\,r}{\\partial {\\chi}}\\right)}}{a\\left({\\tau}, {\\chi}\\right) r\\left({\\tau}, {\\chi}\\right)}$"
      ],
      "text/plain": [
       "-2*(a(t, x)*d^2(r)/dtdx - d(a)/dt*d(r)/dx)/(a(t, x)*r(t, x))"
      ]
     },
     "execution_count": 20,
     "metadata": {},
     "output_type": "execute_result"
    }
   ],
   "source": [
    "E[0,1]"
   ]
  },
  {
   "cell_type": "markdown",
   "metadata": {},
   "source": [
    "A slight rearrangement of the equation:"
   ]
  },
  {
   "cell_type": "code",
   "execution_count": 21,
   "metadata": {},
   "outputs": [
    {
     "data": {
      "text/html": [
       "<html>\\(\\displaystyle \\frac{a\\left({\\tau}, {\\chi}\\right) \\frac{\\partial^2\\,r}{\\partial {\\tau}\\partial {\\chi}} - \\frac{\\partial\\,a}{\\partial {\\tau}} \\frac{\\partial\\,r}{\\partial {\\chi}}}{a\\left({\\tau}, {\\chi}\\right)^{2}}\\)</html>"
      ],
      "text/latex": [
       "$\\displaystyle \\frac{a\\left({\\tau}, {\\chi}\\right) \\frac{\\partial^2\\,r}{\\partial {\\tau}\\partial {\\chi}} - \\frac{\\partial\\,a}{\\partial {\\tau}} \\frac{\\partial\\,r}{\\partial {\\chi}}}{a\\left({\\tau}, {\\chi}\\right)^{2}}$"
      ],
      "text/plain": [
       "(a(t, x)*d^2(r)/dtdx - d(a)/dt*d(r)/dx)/a(t, x)^2"
      ]
     },
     "execution_count": 21,
     "metadata": {},
     "output_type": "execute_result"
    }
   ],
   "source": [
    "eq = E[0,1]*r(t,x)/(-2*a(t,x)) \n",
    "eq"
   ]
  },
  {
   "cell_type": "markdown",
   "metadata": {},
   "source": [
    "We see that this equation is equivalent to \n",
    "$$ \\frac{\\partial}{\\partial\\tau} \\left( \\frac{1}{a}\\frac{\\partial r}{\\partial\\chi} \\right) = 0 $$\n",
    "since"
   ]
  },
  {
   "cell_type": "code",
   "execution_count": 22,
   "metadata": {},
   "outputs": [
    {
     "data": {
      "text/html": [
       "<html>\\(\\displaystyle 0\\)</html>"
      ],
      "text/latex": [
       "$\\displaystyle 0$"
      ],
      "text/plain": [
       "0"
      ]
     },
     "execution_count": 22,
     "metadata": {},
     "output_type": "execute_result"
    }
   ],
   "source": [
    "drdx = diff(r(t,x), x)\n",
    "eq - diff(drdx/a(t,x), t)"
   ]
  },
  {
   "cell_type": "markdown",
   "metadata": {},
   "source": [
    "Hence there exists a function of $\\chi$ only, $f(\\chi)$ say, such that\n",
    "$\\frac{1}{a}\\frac{\\partial r}{\\partial\\chi} = f(\\chi)$.\n",
    "We disregard the case $f(\\chi)=0$, which would imply $\\frac{\\partial r}{\\partial\\chi}=0$ \n",
    "and would lead to the so-called *Datt model* (1938). Accordingly, we may write\n",
    "$$\n",
    "    a(\\tau,\\chi) = \\frac{1}{f(\\chi)}\\frac{\\partial r}{\\partial\\chi} \n",
    "$$\n",
    "Let us call `af` this expression of $a$:"
   ]
  },
  {
   "cell_type": "code",
   "execution_count": 23,
   "metadata": {},
   "outputs": [
    {
     "data": {
      "text/html": [
       "<html>\\(\\displaystyle \\frac{\\frac{\\partial}{\\partial {\\chi}}r\\left({\\tau}, {\\chi}\\right)}{f\\left({\\chi}\\right)}\\)</html>"
      ],
      "text/latex": [
       "$\\displaystyle \\frac{\\frac{\\partial}{\\partial {\\chi}}r\\left({\\tau}, {\\chi}\\right)}{f\\left({\\chi}\\right)}$"
      ],
      "text/plain": [
       "diff(r(t, x), x)/f(x)"
      ]
     },
     "execution_count": 23,
     "metadata": {},
     "output_type": "execute_result"
    }
   ],
   "source": [
    "f = function('f')\n",
    "af(t,x) = drdx / f(x)\n",
    "af(t,x)"
   ]
  },
  {
   "cell_type": "markdown",
   "metadata": {},
   "source": [
    "We check that if we substitute $a$ by `af` in the $\\tau\\chi$ component of the Einstein equation, we get identically zero:"
   ]
  },
  {
   "cell_type": "code",
   "execution_count": 24,
   "metadata": {},
   "outputs": [
    {
     "data": {
      "text/html": [
       "<html>\\(\\displaystyle 0\\)</html>"
      ],
      "text/latex": [
       "$\\displaystyle 0$"
      ],
      "text/plain": [
       "0"
      ]
     },
     "execution_count": 24,
     "metadata": {},
     "output_type": "execute_result"
    }
   ],
   "source": [
    "E[0,1].expr().substitute_function(a, af)"
   ]
  },
  {
   "cell_type": "markdown",
   "metadata": {},
   "source": [
    "*NB:* `expr()` returns a Sage symbolic expression from the coordinate function `E[0,1]`, so that we may apply `substitute_function`"
   ]
  },
  {
   "cell_type": "markdown",
   "metadata": {},
   "source": [
    "Hence the first Lemaitre-Tolman equation is"
   ]
  },
  {
   "cell_type": "code",
   "execution_count": 25,
   "metadata": {},
   "outputs": [
    {
     "data": {
      "text/html": [
       "<html>\\(\\displaystyle a\\left({\\tau}, {\\chi}\\right) = \\frac{\\frac{\\partial}{\\partial {\\chi}}r\\left({\\tau}, {\\chi}\\right)}{f\\left({\\chi}\\right)}\\)</html>"
      ],
      "text/latex": [
       "$\\displaystyle a\\left({\\tau}, {\\chi}\\right) = \\frac{\\frac{\\partial}{\\partial {\\chi}}r\\left({\\tau}, {\\chi}\\right)}{f\\left({\\chi}\\right)}$"
      ],
      "text/plain": [
       "a(t, x) == diff(r(t, x), x)/f(x)"
      ]
     },
     "execution_count": 25,
     "metadata": {},
     "output_type": "execute_result"
    }
   ],
   "source": [
    "LT1 = a(t,x) == af(t,x)\n",
    "LT1"
   ]
  },
  {
   "cell_type": "markdown",
   "metadata": {},
   "source": [
    "### $\\chi\\chi$ component\n",
    "\n",
    "The $11 = \\chi\\chi$ component of Einstein equation is"
   ]
  },
  {
   "cell_type": "code",
   "execution_count": 26,
   "metadata": {},
   "outputs": [
    {
     "data": {
      "text/html": [
       "<html>\\(\\displaystyle \\frac{{\\Lambda} a\\left({\\tau}, {\\chi}\\right)^{2} r\\left({\\tau}, {\\chi}\\right)^{2} - a\\left({\\tau}, {\\chi}\\right)^{2} \\left(\\frac{\\partial\\,r}{\\partial {\\tau}}\\right)^{2} - 2 \\, a\\left({\\tau}, {\\chi}\\right)^{2} r\\left({\\tau}, {\\chi}\\right) \\frac{\\partial^2\\,r}{\\partial {\\tau} ^ 2} - a\\left({\\tau}, {\\chi}\\right)^{2} + \\left(\\frac{\\partial\\,r}{\\partial {\\chi}}\\right)^{2}}{r\\left({\\tau}, {\\chi}\\right)^{2}}\\)</html>"
      ],
      "text/latex": [
       "$\\displaystyle \\frac{{\\Lambda} a\\left({\\tau}, {\\chi}\\right)^{2} r\\left({\\tau}, {\\chi}\\right)^{2} - a\\left({\\tau}, {\\chi}\\right)^{2} \\left(\\frac{\\partial\\,r}{\\partial {\\tau}}\\right)^{2} - 2 \\, a\\left({\\tau}, {\\chi}\\right)^{2} r\\left({\\tau}, {\\chi}\\right) \\frac{\\partial^2\\,r}{\\partial {\\tau} ^ 2} - a\\left({\\tau}, {\\chi}\\right)^{2} + \\left(\\frac{\\partial\\,r}{\\partial {\\chi}}\\right)^{2}}{r\\left({\\tau}, {\\chi}\\right)^{2}}$"
      ],
      "text/plain": [
       "(Lamb*a(t, x)^2*r(t, x)^2 - a(t, x)^2*(d(r)/dt)^2 - 2*a(t, x)^2*r(t, x)*d^2(r)/dt^2 - a(t, x)^2 + (d(r)/dx)^2)/r(t, x)^2"
      ]
     },
     "execution_count": 26,
     "metadata": {},
     "output_type": "execute_result"
    }
   ],
   "source": [
    "E[1,1]"
   ]
  },
  {
   "cell_type": "markdown",
   "metadata": {},
   "source": [
    "It is equivalent to"
   ]
  },
  {
   "cell_type": "code",
   "execution_count": 27,
   "metadata": {},
   "outputs": [
    {
     "data": {
      "text/html": [
       "<html>\\(\\displaystyle -{\\Lambda} a\\left({\\tau}, {\\chi}\\right)^{2} r\\left({\\tau}, {\\chi}\\right)^{2} + a\\left({\\tau}, {\\chi}\\right)^{2} \\frac{\\partial}{\\partial {\\tau}}r\\left({\\tau}, {\\chi}\\right)^{2} + 2 \\, a\\left({\\tau}, {\\chi}\\right)^{2} r\\left({\\tau}, {\\chi}\\right) \\frac{\\partial^{2}}{(\\partial {\\tau})^{2}}r\\left({\\tau}, {\\chi}\\right) + a\\left({\\tau}, {\\chi}\\right)^{2} - \\frac{\\partial}{\\partial {\\chi}}r\\left({\\tau}, {\\chi}\\right)^{2} = 0\\)</html>"
      ],
      "text/latex": [
       "$\\displaystyle -{\\Lambda} a\\left({\\tau}, {\\chi}\\right)^{2} r\\left({\\tau}, {\\chi}\\right)^{2} + a\\left({\\tau}, {\\chi}\\right)^{2} \\frac{\\partial}{\\partial {\\tau}}r\\left({\\tau}, {\\chi}\\right)^{2} + 2 \\, a\\left({\\tau}, {\\chi}\\right)^{2} r\\left({\\tau}, {\\chi}\\right) \\frac{\\partial^{2}}{(\\partial {\\tau})^{2}}r\\left({\\tau}, {\\chi}\\right) + a\\left({\\tau}, {\\chi}\\right)^{2} - \\frac{\\partial}{\\partial {\\chi}}r\\left({\\tau}, {\\chi}\\right)^{2} = 0$"
      ],
      "text/plain": [
       "-Lamb*a(t, x)^2*r(t, x)^2 + a(t, x)^2*diff(r(t, x), t)^2 + 2*a(t, x)^2*r(t, x)*diff(r(t, x), t, t) + a(t, x)^2 - diff(r(t, x), x)^2 == 0"
      ]
     },
     "execution_count": 27,
     "metadata": {},
     "output_type": "execute_result"
    }
   ],
   "source": [
    "eq = (- E[1,1] * r(t,x)^2).expr() == 0\n",
    "eq"
   ]
  },
  {
   "cell_type": "markdown",
   "metadata": {},
   "source": [
    "Let us substitute for $a(\\tau,\\chi)$ the value found above when solving the $\\tau\\chi$ component:"
   ]
  },
  {
   "cell_type": "code",
   "execution_count": 28,
   "metadata": {},
   "outputs": [
    {
     "data": {
      "text/html": [
       "<html>\\(\\displaystyle -\\frac{{\\Lambda} r\\left({\\tau}, {\\chi}\\right)^{2} \\frac{\\partial}{\\partial {\\chi}}r\\left({\\tau}, {\\chi}\\right)^{2}}{f\\left({\\chi}\\right)^{2}} + \\frac{\\frac{\\partial}{\\partial {\\tau}}r\\left({\\tau}, {\\chi}\\right)^{2} \\frac{\\partial}{\\partial {\\chi}}r\\left({\\tau}, {\\chi}\\right)^{2}}{f\\left({\\chi}\\right)^{2}} + \\frac{2 \\, r\\left({\\tau}, {\\chi}\\right) \\frac{\\partial^{2}}{(\\partial {\\tau})^{2}}r\\left({\\tau}, {\\chi}\\right) \\frac{\\partial}{\\partial {\\chi}}r\\left({\\tau}, {\\chi}\\right)^{2}}{f\\left({\\chi}\\right)^{2}} - \\frac{\\partial}{\\partial {\\chi}}r\\left({\\tau}, {\\chi}\\right)^{2} + \\frac{\\frac{\\partial}{\\partial {\\chi}}r\\left({\\tau}, {\\chi}\\right)^{2}}{f\\left({\\chi}\\right)^{2}} = 0\\)</html>"
      ],
      "text/latex": [
       "$\\displaystyle -\\frac{{\\Lambda} r\\left({\\tau}, {\\chi}\\right)^{2} \\frac{\\partial}{\\partial {\\chi}}r\\left({\\tau}, {\\chi}\\right)^{2}}{f\\left({\\chi}\\right)^{2}} + \\frac{\\frac{\\partial}{\\partial {\\tau}}r\\left({\\tau}, {\\chi}\\right)^{2} \\frac{\\partial}{\\partial {\\chi}}r\\left({\\tau}, {\\chi}\\right)^{2}}{f\\left({\\chi}\\right)^{2}} + \\frac{2 \\, r\\left({\\tau}, {\\chi}\\right) \\frac{\\partial^{2}}{(\\partial {\\tau})^{2}}r\\left({\\tau}, {\\chi}\\right) \\frac{\\partial}{\\partial {\\chi}}r\\left({\\tau}, {\\chi}\\right)^{2}}{f\\left({\\chi}\\right)^{2}} - \\frac{\\partial}{\\partial {\\chi}}r\\left({\\tau}, {\\chi}\\right)^{2} + \\frac{\\frac{\\partial}{\\partial {\\chi}}r\\left({\\tau}, {\\chi}\\right)^{2}}{f\\left({\\chi}\\right)^{2}} = 0$"
      ],
      "text/plain": [
       "-Lamb*r(t, x)^2*diff(r(t, x), x)^2/f(x)^2 + diff(r(t, x), t)^2*diff(r(t, x), x)^2/f(x)^2 + 2*r(t, x)*diff(r(t, x), t, t)*diff(r(t, x), x)^2/f(x)^2 - diff(r(t, x), x)^2 + diff(r(t, x), x)^2/f(x)^2 == 0"
      ]
     },
     "execution_count": 28,
     "metadata": {},
     "output_type": "execute_result"
    }
   ],
   "source": [
    "eq1 = eq.substitute_function(a, af)\n",
    "eq1"
   ]
  },
  {
   "cell_type": "markdown",
   "metadata": {},
   "source": [
    "Some slight rearrangement and simplification:"
   ]
  },
  {
   "cell_type": "code",
   "execution_count": 29,
   "metadata": {},
   "outputs": [
    {
     "data": {
      "text/html": [
       "<html>\\(\\displaystyle -{\\Lambda} r\\left({\\tau}, {\\chi}\\right)^{2} - f\\left({\\chi}\\right)^{2} + \\frac{\\partial}{\\partial {\\tau}}r\\left({\\tau}, {\\chi}\\right)^{2} + 2 \\, r\\left({\\tau}, {\\chi}\\right) \\frac{\\partial^{2}}{(\\partial {\\tau})^{2}}r\\left({\\tau}, {\\chi}\\right) + 1 = 0\\)</html>"
      ],
      "text/latex": [
       "$\\displaystyle -{\\Lambda} r\\left({\\tau}, {\\chi}\\right)^{2} - f\\left({\\chi}\\right)^{2} + \\frac{\\partial}{\\partial {\\tau}}r\\left({\\tau}, {\\chi}\\right)^{2} + 2 \\, r\\left({\\tau}, {\\chi}\\right) \\frac{\\partial^{2}}{(\\partial {\\tau})^{2}}r\\left({\\tau}, {\\chi}\\right) + 1 = 0$"
      ],
      "text/plain": [
       "-Lamb*r(t, x)^2 - f(x)^2 + diff(r(t, x), t)^2 + 2*r(t, x)*diff(r(t, x), t, t) + 1 == 0"
      ]
     },
     "execution_count": 29,
     "metadata": {},
     "output_type": "execute_result"
    }
   ],
   "source": [
    "eq2 = (eq1 * f(x)^2 / diff(r(t,x), x)^2).simplify_full()\n",
    "eq2"
   ]
  },
  {
   "cell_type": "code",
   "execution_count": 30,
   "metadata": {},
   "outputs": [
    {
     "data": {
      "text/html": [
       "<html>\\(\\displaystyle -f\\left({\\chi}\\right)^{2} \\frac{\\partial}{\\partial {\\tau}}r\\left({\\tau}, {\\chi}\\right) + \\frac{\\partial}{\\partial {\\tau}}r\\left({\\tau}, {\\chi}\\right)^{3} + 2 \\, r\\left({\\tau}, {\\chi}\\right) \\frac{\\partial}{\\partial {\\tau}}r\\left({\\tau}, {\\chi}\\right) \\frac{\\partial^{2}}{(\\partial {\\tau})^{2}}r\\left({\\tau}, {\\chi}\\right) - {\\left({\\Lambda} r\\left({\\tau}, {\\chi}\\right)^{2} - 1\\right)} \\frac{\\partial}{\\partial {\\tau}}r\\left({\\tau}, {\\chi}\\right) = 0\\)</html>"
      ],
      "text/latex": [
       "$\\displaystyle -f\\left({\\chi}\\right)^{2} \\frac{\\partial}{\\partial {\\tau}}r\\left({\\tau}, {\\chi}\\right) + \\frac{\\partial}{\\partial {\\tau}}r\\left({\\tau}, {\\chi}\\right)^{3} + 2 \\, r\\left({\\tau}, {\\chi}\\right) \\frac{\\partial}{\\partial {\\tau}}r\\left({\\tau}, {\\chi}\\right) \\frac{\\partial^{2}}{(\\partial {\\tau})^{2}}r\\left({\\tau}, {\\chi}\\right) - {\\left({\\Lambda} r\\left({\\tau}, {\\chi}\\right)^{2} - 1\\right)} \\frac{\\partial}{\\partial {\\tau}}r\\left({\\tau}, {\\chi}\\right) = 0$"
      ],
      "text/plain": [
       "-f(x)^2*diff(r(t, x), t) + diff(r(t, x), t)^3 + 2*r(t, x)*diff(r(t, x), t)*diff(r(t, x), t, t) - (Lamb*r(t, x)^2 - 1)*diff(r(t, x), t) == 0"
      ]
     },
     "execution_count": 30,
     "metadata": {},
     "output_type": "execute_result"
    }
   ],
   "source": [
    "eq3 = (eq2 * diff(r(t,x),t)).simplify_full()\n",
    "eq3"
   ]
  },
  {
   "cell_type": "markdown",
   "metadata": {},
   "source": [
    "We notice that the left-hand side of this equation is nothing but the partial derivative w.r.t. $\\tau$ of the following quantity:"
   ]
  },
  {
   "cell_type": "code",
   "execution_count": 31,
   "metadata": {},
   "outputs": [
    {
     "data": {
      "text/html": [
       "<html>\\(\\displaystyle -\\frac{1}{3} \\, {\\left({\\Lambda} r\\left({\\tau}, {\\chi}\\right)^{2} + 3 \\, f\\left({\\chi}\\right)^{2} - 3 \\, \\frac{\\partial}{\\partial {\\tau}}r\\left({\\tau}, {\\chi}\\right)^{2} - 3\\right)} r\\left({\\tau}, {\\chi}\\right)\\)</html>"
      ],
      "text/latex": [
       "$\\displaystyle -\\frac{1}{3} \\, {\\left({\\Lambda} r\\left({\\tau}, {\\chi}\\right)^{2} + 3 \\, f\\left({\\chi}\\right)^{2} - 3 \\, \\frac{\\partial}{\\partial {\\tau}}r\\left({\\tau}, {\\chi}\\right)^{2} - 3\\right)} r\\left({\\tau}, {\\chi}\\right)$"
      ],
      "text/plain": [
       "-1/3*(Lamb*r(t, x)^2 + 3*f(x)^2 - 3*diff(r(t, x), t)^2 - 3)*r(t, x)"
      ]
     },
     "execution_count": 31,
     "metadata": {},
     "output_type": "execute_result"
    }
   ],
   "source": [
    "A = (diff(r(t,x),t)^2 + 1 - f(x)^2 - (Lamb/3)*r(t,x)^2) * r(t,x) \n",
    "A"
   ]
  },
  {
   "cell_type": "code",
   "execution_count": 32,
   "metadata": {},
   "outputs": [
    {
     "data": {
      "text/html": [
       "<html>\\(\\displaystyle \\mathrm{True}\\)</html>"
      ],
      "text/latex": [
       "$\\displaystyle \\mathrm{True}$"
      ],
      "text/plain": [
       "True"
      ]
     },
     "execution_count": 32,
     "metadata": {},
     "output_type": "execute_result"
    }
   ],
   "source": [
    "bool(eq3.lhs() == diff(A, t))"
   ]
  },
  {
   "cell_type": "markdown",
   "metadata": {},
   "source": [
    "Hence `eq3` tells that $A$ is independent of $\\tau$, i.e. is a function of $\\chi$ only, which we call $2 m(\\chi)$:"
   ]
  },
  {
   "cell_type": "code",
   "execution_count": 33,
   "metadata": {},
   "outputs": [
    {
     "data": {
      "text/html": [
       "<html>\\(\\displaystyle -\\frac{1}{3} \\, {\\left({\\Lambda} r\\left({\\tau}, {\\chi}\\right)^{2} + 3 \\, f\\left({\\chi}\\right)^{2} - 3 \\, \\frac{\\partial}{\\partial {\\tau}}r\\left({\\tau}, {\\chi}\\right)^{2} - 3\\right)} r\\left({\\tau}, {\\chi}\\right) - 2 \\, m\\left({\\chi}\\right) = 0\\)</html>"
      ],
      "text/latex": [
       "$\\displaystyle -\\frac{1}{3} \\, {\\left({\\Lambda} r\\left({\\tau}, {\\chi}\\right)^{2} + 3 \\, f\\left({\\chi}\\right)^{2} - 3 \\, \\frac{\\partial}{\\partial {\\tau}}r\\left({\\tau}, {\\chi}\\right)^{2} - 3\\right)} r\\left({\\tau}, {\\chi}\\right) - 2 \\, m\\left({\\chi}\\right) = 0$"
      ],
      "text/plain": [
       "-1/3*(Lamb*r(t, x)^2 + 3*f(x)^2 - 3*diff(r(t, x), t)^2 - 3)*r(t, x) - 2*m(x) == 0"
      ]
     },
     "execution_count": 33,
     "metadata": {},
     "output_type": "execute_result"
    }
   ],
   "source": [
    "m = function('m')\n",
    "eq4 = A - 2*m(x) == 0\n",
    "eq4"
   ]
  },
  {
   "cell_type": "markdown",
   "metadata": {},
   "source": [
    "Let us solve extract $(\\partial r/\\partial\\tau)^2$ from this equation:"
   ]
  },
  {
   "cell_type": "code",
   "execution_count": 34,
   "metadata": {},
   "outputs": [
    {
     "data": {
      "text/html": [
       "<html>\\(\\displaystyle \\left[\\frac{\\partial}{\\partial {\\tau}}r\\left({\\tau}, {\\chi}\\right)^{2} = \\frac{{\\Lambda} r\\left({\\tau}, {\\chi}\\right)^{3} + 3 \\, f\\left({\\chi}\\right)^{2} r\\left({\\tau}, {\\chi}\\right) + 6 \\, m\\left({\\chi}\\right) - 3 \\, r\\left({\\tau}, {\\chi}\\right)}{3 \\, r\\left({\\tau}, {\\chi}\\right)}\\right]\\)</html>"
      ],
      "text/latex": [
       "$\\displaystyle \\left[\\frac{\\partial}{\\partial {\\tau}}r\\left({\\tau}, {\\chi}\\right)^{2} = \\frac{{\\Lambda} r\\left({\\tau}, {\\chi}\\right)^{3} + 3 \\, f\\left({\\chi}\\right)^{2} r\\left({\\tau}, {\\chi}\\right) + 6 \\, m\\left({\\chi}\\right) - 3 \\, r\\left({\\tau}, {\\chi}\\right)}{3 \\, r\\left({\\tau}, {\\chi}\\right)}\\right]$"
      ],
      "text/plain": [
       "[diff(r(t, x), t)^2 == 1/3*(Lamb*r(t, x)^3 + 3*f(x)^2*r(t, x) + 6*m(x) - 3*r(t, x))/r(t, x)]"
      ]
     },
     "execution_count": 34,
     "metadata": {},
     "output_type": "execute_result"
    }
   ],
   "source": [
    "drdt2_sol = solve(eq4, diff(r(t,x),t)^2)\n",
    "drdt2_sol"
   ]
  },
  {
   "cell_type": "markdown",
   "metadata": {},
   "source": [
    "We thus obtain the second Lemaitre-Tolman equation:"
   ]
  },
  {
   "cell_type": "code",
   "execution_count": 35,
   "metadata": {},
   "outputs": [
    {
     "data": {
      "text/html": [
       "<html>\\(\\displaystyle \\frac{\\partial}{\\partial {\\tau}}r\\left({\\tau}, {\\chi}\\right)^{2} = \\frac{1}{3} \\, {\\Lambda} r\\left({\\tau}, {\\chi}\\right)^{2} + f\\left({\\chi}\\right)^{2} + \\frac{2 \\, m\\left({\\chi}\\right)}{r\\left({\\tau}, {\\chi}\\right)} - 1\\)</html>"
      ],
      "text/latex": [
       "$\\displaystyle \\frac{\\partial}{\\partial {\\tau}}r\\left({\\tau}, {\\chi}\\right)^{2} = \\frac{1}{3} \\, {\\Lambda} r\\left({\\tau}, {\\chi}\\right)^{2} + f\\left({\\chi}\\right)^{2} + \\frac{2 \\, m\\left({\\chi}\\right)}{r\\left({\\tau}, {\\chi}\\right)} - 1$"
      ],
      "text/plain": [
       "diff(r(t, x), t)^2 == 1/3*Lamb*r(t, x)^2 + f(x)^2 + 2*m(x)/r(t, x) - 1"
      ]
     },
     "execution_count": 35,
     "metadata": {},
     "output_type": "execute_result"
    }
   ],
   "source": [
    "LT2 = drdt2_sol[0].expand()\n",
    "LT2"
   ]
  },
  {
   "cell_type": "code",
   "execution_count": 36,
   "metadata": {},
   "outputs": [
    {
     "data": {
      "text/html": [
       "<html>\\(\\displaystyle \\frac{1}{3} \\, {\\Lambda} r\\left({\\tau}, {\\chi}\\right)^{2} + f\\left({\\chi}\\right)^{2} + \\frac{2 \\, m\\left({\\chi}\\right)}{r\\left({\\tau}, {\\chi}\\right)} - 1\\)</html>"
      ],
      "text/latex": [
       "$\\displaystyle \\frac{1}{3} \\, {\\Lambda} r\\left({\\tau}, {\\chi}\\right)^{2} + f\\left({\\chi}\\right)^{2} + \\frac{2 \\, m\\left({\\chi}\\right)}{r\\left({\\tau}, {\\chi}\\right)} - 1$"
      ],
      "text/plain": [
       "1/3*Lamb*r(t, x)^2 + f(x)^2 + 2*m(x)/r(t, x) - 1"
      ]
     },
     "execution_count": 36,
     "metadata": {},
     "output_type": "execute_result"
    }
   ],
   "source": [
    "drdt2 = LT2.rhs()\n",
    "drdt2"
   ]
  },
  {
   "cell_type": "markdown",
   "metadata": {},
   "source": [
    "### $\\tau\\tau$ component\n",
    "\n",
    "The $00 = \\tau\\tau$ component of Einstein equation is"
   ]
  },
  {
   "cell_type": "code",
   "execution_count": 37,
   "metadata": {},
   "outputs": [
    {
     "data": {
      "text/html": [
       "<html>\\(\\displaystyle -\\frac{8 \\, \\pi a\\left({\\tau}, {\\chi}\\right)^{3} r\\left({\\tau}, {\\chi}\\right)^{2} \\rho\\left({\\tau}, {\\chi}\\right) + {\\Lambda} a\\left({\\tau}, {\\chi}\\right)^{3} r\\left({\\tau}, {\\chi}\\right)^{2} - 2 \\, a\\left({\\tau}, {\\chi}\\right)^{2} r\\left({\\tau}, {\\chi}\\right) \\frac{\\partial\\,a}{\\partial {\\tau}} \\frac{\\partial\\,r}{\\partial {\\tau}} - a\\left({\\tau}, {\\chi}\\right)^{3} \\frac{\\partial\\,r}{\\partial {\\tau}}^{2} - a\\left({\\tau}, {\\chi}\\right)^{3} - 2 \\, r\\left({\\tau}, {\\chi}\\right) \\frac{\\partial\\,a}{\\partial {\\chi}} \\frac{\\partial\\,r}{\\partial {\\chi}} + a\\left({\\tau}, {\\chi}\\right) \\frac{\\partial\\,r}{\\partial {\\chi}}^{2} + 2 \\, a\\left({\\tau}, {\\chi}\\right) r\\left({\\tau}, {\\chi}\\right) \\frac{\\partial^2\\,r}{\\partial {\\chi} ^ 2}}{a\\left({\\tau}, {\\chi}\\right)^{3} r\\left({\\tau}, {\\chi}\\right)^{2}}\\)</html>"
      ],
      "text/latex": [
       "$\\displaystyle -\\frac{8 \\, \\pi a\\left({\\tau}, {\\chi}\\right)^{3} r\\left({\\tau}, {\\chi}\\right)^{2} \\rho\\left({\\tau}, {\\chi}\\right) + {\\Lambda} a\\left({\\tau}, {\\chi}\\right)^{3} r\\left({\\tau}, {\\chi}\\right)^{2} - 2 \\, a\\left({\\tau}, {\\chi}\\right)^{2} r\\left({\\tau}, {\\chi}\\right) \\frac{\\partial\\,a}{\\partial {\\tau}} \\frac{\\partial\\,r}{\\partial {\\tau}} - a\\left({\\tau}, {\\chi}\\right)^{3} \\frac{\\partial\\,r}{\\partial {\\tau}}^{2} - a\\left({\\tau}, {\\chi}\\right)^{3} - 2 \\, r\\left({\\tau}, {\\chi}\\right) \\frac{\\partial\\,a}{\\partial {\\chi}} \\frac{\\partial\\,r}{\\partial {\\chi}} + a\\left({\\tau}, {\\chi}\\right) \\frac{\\partial\\,r}{\\partial {\\chi}}^{2} + 2 \\, a\\left({\\tau}, {\\chi}\\right) r\\left({\\tau}, {\\chi}\\right) \\frac{\\partial^2\\,r}{\\partial {\\chi} ^ 2}}{a\\left({\\tau}, {\\chi}\\right)^{3} r\\left({\\tau}, {\\chi}\\right)^{2}}$"
      ],
      "text/plain": [
       "-(8*pi*a(t, x)^3*r(t, x)^2*rho(t, x) + Lamb*a(t, x)^3*r(t, x)^2 - 2*a(t, x)^2*r(t, x)*d(a)/dt*d(r)/dt - a(t, x)^3*d(r)/dt^2 - a(t, x)^3 - 2*r(t, x)*d(a)/dx*d(r)/dx + a(t, x)*d(r)/dx^2 + 2*a(t, x)*r(t, x)*d^2(r)/dx^2)/(a(t, x)^3*r(t, x)^2)"
      ]
     },
     "execution_count": 37,
     "metadata": {},
     "output_type": "execute_result"
    }
   ],
   "source": [
    "E[0,0]"
   ]
  },
  {
   "cell_type": "markdown",
   "metadata": {},
   "source": [
    "It is equivalent to"
   ]
  },
  {
   "cell_type": "code",
   "execution_count": 38,
   "metadata": {},
   "outputs": [
    {
     "data": {
      "text/html": [
       "<html>\\(\\displaystyle 8 \\, \\pi a\\left({\\tau}, {\\chi}\\right)^{3} r\\left({\\tau}, {\\chi}\\right)^{2} \\rho\\left({\\tau}, {\\chi}\\right) + {\\Lambda} a\\left({\\tau}, {\\chi}\\right)^{3} r\\left({\\tau}, {\\chi}\\right)^{2} - 2 \\, a\\left({\\tau}, {\\chi}\\right)^{2} r\\left({\\tau}, {\\chi}\\right) \\frac{\\partial}{\\partial {\\tau}}a\\left({\\tau}, {\\chi}\\right) \\frac{\\partial}{\\partial {\\tau}}r\\left({\\tau}, {\\chi}\\right) - a\\left({\\tau}, {\\chi}\\right)^{3} \\frac{\\partial}{\\partial {\\tau}}r\\left({\\tau}, {\\chi}\\right)^{2} - a\\left({\\tau}, {\\chi}\\right)^{3} - 2 \\, r\\left({\\tau}, {\\chi}\\right) \\frac{\\partial}{\\partial {\\chi}}a\\left({\\tau}, {\\chi}\\right) \\frac{\\partial}{\\partial {\\chi}}r\\left({\\tau}, {\\chi}\\right) + a\\left({\\tau}, {\\chi}\\right) \\frac{\\partial}{\\partial {\\chi}}r\\left({\\tau}, {\\chi}\\right)^{2} + 2 \\, a\\left({\\tau}, {\\chi}\\right) r\\left({\\tau}, {\\chi}\\right) \\frac{\\partial^{2}}{(\\partial {\\chi})^{2}}r\\left({\\tau}, {\\chi}\\right) = 0\\)</html>"
      ],
      "text/latex": [
       "$\\displaystyle 8 \\, \\pi a\\left({\\tau}, {\\chi}\\right)^{3} r\\left({\\tau}, {\\chi}\\right)^{2} \\rho\\left({\\tau}, {\\chi}\\right) + {\\Lambda} a\\left({\\tau}, {\\chi}\\right)^{3} r\\left({\\tau}, {\\chi}\\right)^{2} - 2 \\, a\\left({\\tau}, {\\chi}\\right)^{2} r\\left({\\tau}, {\\chi}\\right) \\frac{\\partial}{\\partial {\\tau}}a\\left({\\tau}, {\\chi}\\right) \\frac{\\partial}{\\partial {\\tau}}r\\left({\\tau}, {\\chi}\\right) - a\\left({\\tau}, {\\chi}\\right)^{3} \\frac{\\partial}{\\partial {\\tau}}r\\left({\\tau}, {\\chi}\\right)^{2} - a\\left({\\tau}, {\\chi}\\right)^{3} - 2 \\, r\\left({\\tau}, {\\chi}\\right) \\frac{\\partial}{\\partial {\\chi}}a\\left({\\tau}, {\\chi}\\right) \\frac{\\partial}{\\partial {\\chi}}r\\left({\\tau}, {\\chi}\\right) + a\\left({\\tau}, {\\chi}\\right) \\frac{\\partial}{\\partial {\\chi}}r\\left({\\tau}, {\\chi}\\right)^{2} + 2 \\, a\\left({\\tau}, {\\chi}\\right) r\\left({\\tau}, {\\chi}\\right) \\frac{\\partial^{2}}{(\\partial {\\chi})^{2}}r\\left({\\tau}, {\\chi}\\right) = 0$"
      ],
      "text/plain": [
       "8*pi*a(t, x)^3*r(t, x)^2*rho(t, x) + Lamb*a(t, x)^3*r(t, x)^2 - 2*a(t, x)^2*r(t, x)*diff(a(t, x), t)*diff(r(t, x), t) - a(t, x)^3*diff(r(t, x), t)^2 - a(t, x)^3 - 2*r(t, x)*diff(a(t, x), x)*diff(r(t, x), x) + a(t, x)*diff(r(t, x), x)^2 + 2*a(t, x)*r(t, x)*diff(r(t, x), x, x) == 0"
      ]
     },
     "execution_count": 38,
     "metadata": {},
     "output_type": "execute_result"
    }
   ],
   "source": [
    "eq = (- E[0,0] * a(t,x)^3 * r(t,x)^2).expr() == 0\n",
    "eq"
   ]
  },
  {
   "cell_type": "markdown",
   "metadata": {},
   "source": [
    "As above, we substitute for $a(\\tau,\\chi)$ the value found when solving the $\\tau\\chi$ component:"
   ]
  },
  {
   "cell_type": "code",
   "execution_count": 39,
   "metadata": {},
   "outputs": [
    {
     "data": {
      "text/html": [
       "<html>\\(\\displaystyle \\frac{8 \\, \\pi r\\left({\\tau}, {\\chi}\\right)^{2} \\rho\\left({\\tau}, {\\chi}\\right) \\frac{\\partial}{\\partial {\\chi}}r\\left({\\tau}, {\\chi}\\right)^{3}}{f\\left({\\chi}\\right)^{3}} + 2 \\, {\\left(\\frac{\\frac{\\partial}{\\partial {\\chi}}f\\left({\\chi}\\right) \\frac{\\partial}{\\partial {\\chi}}r\\left({\\tau}, {\\chi}\\right)}{f\\left({\\chi}\\right)^{2}} - \\frac{\\frac{\\partial^{2}}{(\\partial {\\chi})^{2}}r\\left({\\tau}, {\\chi}\\right)}{f\\left({\\chi}\\right)}\\right)} r\\left({\\tau}, {\\chi}\\right) \\frac{\\partial}{\\partial {\\chi}}r\\left({\\tau}, {\\chi}\\right) + \\frac{{\\Lambda} r\\left({\\tau}, {\\chi}\\right)^{2} \\frac{\\partial}{\\partial {\\chi}}r\\left({\\tau}, {\\chi}\\right)^{3}}{f\\left({\\chi}\\right)^{3}} - \\frac{2 \\, r\\left({\\tau}, {\\chi}\\right) \\frac{\\partial}{\\partial {\\tau}}r\\left({\\tau}, {\\chi}\\right) \\frac{\\partial^{2}}{\\partial {\\tau}\\partial {\\chi}}r\\left({\\tau}, {\\chi}\\right) \\frac{\\partial}{\\partial {\\chi}}r\\left({\\tau}, {\\chi}\\right)^{2}}{f\\left({\\chi}\\right)^{3}} + \\frac{\\frac{\\partial}{\\partial {\\chi}}r\\left({\\tau}, {\\chi}\\right)^{3}}{f\\left({\\chi}\\right)} - \\frac{\\frac{\\partial}{\\partial {\\tau}}r\\left({\\tau}, {\\chi}\\right)^{2} \\frac{\\partial}{\\partial {\\chi}}r\\left({\\tau}, {\\chi}\\right)^{3}}{f\\left({\\chi}\\right)^{3}} + \\frac{2 \\, r\\left({\\tau}, {\\chi}\\right) \\frac{\\partial}{\\partial {\\chi}}r\\left({\\tau}, {\\chi}\\right) \\frac{\\partial^{2}}{(\\partial {\\chi})^{2}}r\\left({\\tau}, {\\chi}\\right)}{f\\left({\\chi}\\right)} - \\frac{\\frac{\\partial}{\\partial {\\chi}}r\\left({\\tau}, {\\chi}\\right)^{3}}{f\\left({\\chi}\\right)^{3}} = 0\\)</html>"
      ],
      "text/latex": [
       "$\\displaystyle \\frac{8 \\, \\pi r\\left({\\tau}, {\\chi}\\right)^{2} \\rho\\left({\\tau}, {\\chi}\\right) \\frac{\\partial}{\\partial {\\chi}}r\\left({\\tau}, {\\chi}\\right)^{3}}{f\\left({\\chi}\\right)^{3}} + 2 \\, {\\left(\\frac{\\frac{\\partial}{\\partial {\\chi}}f\\left({\\chi}\\right) \\frac{\\partial}{\\partial {\\chi}}r\\left({\\tau}, {\\chi}\\right)}{f\\left({\\chi}\\right)^{2}} - \\frac{\\frac{\\partial^{2}}{(\\partial {\\chi})^{2}}r\\left({\\tau}, {\\chi}\\right)}{f\\left({\\chi}\\right)}\\right)} r\\left({\\tau}, {\\chi}\\right) \\frac{\\partial}{\\partial {\\chi}}r\\left({\\tau}, {\\chi}\\right) + \\frac{{\\Lambda} r\\left({\\tau}, {\\chi}\\right)^{2} \\frac{\\partial}{\\partial {\\chi}}r\\left({\\tau}, {\\chi}\\right)^{3}}{f\\left({\\chi}\\right)^{3}} - \\frac{2 \\, r\\left({\\tau}, {\\chi}\\right) \\frac{\\partial}{\\partial {\\tau}}r\\left({\\tau}, {\\chi}\\right) \\frac{\\partial^{2}}{\\partial {\\tau}\\partial {\\chi}}r\\left({\\tau}, {\\chi}\\right) \\frac{\\partial}{\\partial {\\chi}}r\\left({\\tau}, {\\chi}\\right)^{2}}{f\\left({\\chi}\\right)^{3}} + \\frac{\\frac{\\partial}{\\partial {\\chi}}r\\left({\\tau}, {\\chi}\\right)^{3}}{f\\left({\\chi}\\right)} - \\frac{\\frac{\\partial}{\\partial {\\tau}}r\\left({\\tau}, {\\chi}\\right)^{2} \\frac{\\partial}{\\partial {\\chi}}r\\left({\\tau}, {\\chi}\\right)^{3}}{f\\left({\\chi}\\right)^{3}} + \\frac{2 \\, r\\left({\\tau}, {\\chi}\\right) \\frac{\\partial}{\\partial {\\chi}}r\\left({\\tau}, {\\chi}\\right) \\frac{\\partial^{2}}{(\\partial {\\chi})^{2}}r\\left({\\tau}, {\\chi}\\right)}{f\\left({\\chi}\\right)} - \\frac{\\frac{\\partial}{\\partial {\\chi}}r\\left({\\tau}, {\\chi}\\right)^{3}}{f\\left({\\chi}\\right)^{3}} = 0$"
      ],
      "text/plain": [
       "8*pi*r(t, x)^2*rho(t, x)*diff(r(t, x), x)^3/f(x)^3 + 2*(diff(f(x), x)*diff(r(t, x), x)/f(x)^2 - diff(r(t, x), x, x)/f(x))*r(t, x)*diff(r(t, x), x) + Lamb*r(t, x)^2*diff(r(t, x), x)^3/f(x)^3 - 2*r(t, x)*diff(r(t, x), t)*diff(r(t, x), t, x)*diff(r(t, x), x)^2/f(x)^3 + diff(r(t, x), x)^3/f(x) - diff(r(t, x), t)^2*diff(r(t, x), x)^3/f(x)^3 + 2*r(t, x)*diff(r(t, x), x)*diff(r(t, x), x, x)/f(x) - diff(r(t, x), x)^3/f(x)^3 == 0"
      ]
     },
     "execution_count": 39,
     "metadata": {},
     "output_type": "execute_result"
    }
   ],
   "source": [
    "eq1 = eq.substitute_function(a, af)\n",
    "eq1"
   ]
  },
  {
   "cell_type": "code",
   "execution_count": 40,
   "metadata": {},
   "outputs": [
    {
     "data": {
      "text/html": [
       "<html>\\(\\displaystyle 2 \\, f\\left({\\chi}\\right) r\\left({\\tau}, {\\chi}\\right) \\frac{\\partial}{\\partial {\\chi}}f\\left({\\chi}\\right) \\frac{\\partial}{\\partial {\\chi}}r\\left({\\tau}, {\\chi}\\right)^{2} - 2 \\, r\\left({\\tau}, {\\chi}\\right) \\frac{\\partial}{\\partial {\\tau}}r\\left({\\tau}, {\\chi}\\right) \\frac{\\partial^{2}}{\\partial {\\tau}\\partial {\\chi}}r\\left({\\tau}, {\\chi}\\right) \\frac{\\partial}{\\partial {\\chi}}r\\left({\\tau}, {\\chi}\\right)^{2} + f\\left({\\chi}\\right)^{2} \\frac{\\partial}{\\partial {\\chi}}r\\left({\\tau}, {\\chi}\\right)^{3} + {\\left(8 \\, \\pi r\\left({\\tau}, {\\chi}\\right)^{2} \\rho\\left({\\tau}, {\\chi}\\right) + {\\Lambda} r\\left({\\tau}, {\\chi}\\right)^{2} - \\frac{\\partial}{\\partial {\\tau}}r\\left({\\tau}, {\\chi}\\right)^{2} - 1\\right)} \\frac{\\partial}{\\partial {\\chi}}r\\left({\\tau}, {\\chi}\\right)^{3} = 0\\)</html>"
      ],
      "text/latex": [
       "$\\displaystyle 2 \\, f\\left({\\chi}\\right) r\\left({\\tau}, {\\chi}\\right) \\frac{\\partial}{\\partial {\\chi}}f\\left({\\chi}\\right) \\frac{\\partial}{\\partial {\\chi}}r\\left({\\tau}, {\\chi}\\right)^{2} - 2 \\, r\\left({\\tau}, {\\chi}\\right) \\frac{\\partial}{\\partial {\\tau}}r\\left({\\tau}, {\\chi}\\right) \\frac{\\partial^{2}}{\\partial {\\tau}\\partial {\\chi}}r\\left({\\tau}, {\\chi}\\right) \\frac{\\partial}{\\partial {\\chi}}r\\left({\\tau}, {\\chi}\\right)^{2} + f\\left({\\chi}\\right)^{2} \\frac{\\partial}{\\partial {\\chi}}r\\left({\\tau}, {\\chi}\\right)^{3} + {\\left(8 \\, \\pi r\\left({\\tau}, {\\chi}\\right)^{2} \\rho\\left({\\tau}, {\\chi}\\right) + {\\Lambda} r\\left({\\tau}, {\\chi}\\right)^{2} - \\frac{\\partial}{\\partial {\\tau}}r\\left({\\tau}, {\\chi}\\right)^{2} - 1\\right)} \\frac{\\partial}{\\partial {\\chi}}r\\left({\\tau}, {\\chi}\\right)^{3} = 0$"
      ],
      "text/plain": [
       "2*f(x)*r(t, x)*diff(f(x), x)*diff(r(t, x), x)^2 - 2*r(t, x)*diff(r(t, x), t)*diff(r(t, x), t, x)*diff(r(t, x), x)^2 + f(x)^2*diff(r(t, x), x)^3 + (8*pi*r(t, x)^2*rho(t, x) + Lamb*r(t, x)^2 - diff(r(t, x), t)^2 - 1)*diff(r(t, x), x)^3 == 0"
      ]
     },
     "execution_count": 40,
     "metadata": {},
     "output_type": "execute_result"
    }
   ],
   "source": [
    "eq2 = (eq1 * f(x)^3).simplify_full()\n",
    "eq2"
   ]
  },
  {
   "cell_type": "markdown",
   "metadata": {},
   "source": [
    "Let us substitute for $\\partial r/\\partial \\tau$ the positive square root of the value of $(\\partial r/\\partial \\tau)^2$ found when solving the $\\chi\\chi$ component:"
   ]
  },
  {
   "cell_type": "code",
   "execution_count": 41,
   "metadata": {},
   "outputs": [
    {
     "data": {
      "text/html": [
       "<html>\\(\\displaystyle \\sqrt{\\frac{1}{3} \\, {\\Lambda} r\\left({\\tau}, {\\chi}\\right)^{2} + f\\left({\\chi}\\right)^{2} + \\frac{2 \\, m\\left({\\chi}\\right)}{r\\left({\\tau}, {\\chi}\\right)} - 1}\\)</html>"
      ],
      "text/latex": [
       "$\\displaystyle \\sqrt{\\frac{1}{3} \\, {\\Lambda} r\\left({\\tau}, {\\chi}\\right)^{2} + f\\left({\\chi}\\right)^{2} + \\frac{2 \\, m\\left({\\chi}\\right)}{r\\left({\\tau}, {\\chi}\\right)} - 1}$"
      ],
      "text/plain": [
       "sqrt(1/3*Lamb*r(t, x)^2 + f(x)^2 + 2*m(x)/r(t, x) - 1)"
      ]
     },
     "execution_count": 41,
     "metadata": {},
     "output_type": "execute_result"
    }
   ],
   "source": [
    "drdt = sqrt(drdt2)\n",
    "drdt"
   ]
  },
  {
   "cell_type": "code",
   "execution_count": 42,
   "metadata": {},
   "outputs": [
    {
     "data": {
      "text/html": [
       "<html>\\(\\displaystyle 8 \\, \\pi r\\left({\\tau}, {\\chi}\\right)^{2} \\rho\\left({\\tau}, {\\chi}\\right) \\frac{\\partial}{\\partial {\\chi}}r\\left({\\tau}, {\\chi}\\right)^{3} - 2 \\, \\frac{\\partial}{\\partial {\\chi}}m\\left({\\chi}\\right) \\frac{\\partial}{\\partial {\\chi}}r\\left({\\tau}, {\\chi}\\right)^{2} = 0\\)</html>"
      ],
      "text/latex": [
       "$\\displaystyle 8 \\, \\pi r\\left({\\tau}, {\\chi}\\right)^{2} \\rho\\left({\\tau}, {\\chi}\\right) \\frac{\\partial}{\\partial {\\chi}}r\\left({\\tau}, {\\chi}\\right)^{3} - 2 \\, \\frac{\\partial}{\\partial {\\chi}}m\\left({\\chi}\\right) \\frac{\\partial}{\\partial {\\chi}}r\\left({\\tau}, {\\chi}\\right)^{2} = 0$"
      ],
      "text/plain": [
       "8*pi*r(t, x)^2*rho(t, x)*diff(r(t, x), x)^3 - 2*diff(m(x), x)*diff(r(t, x), x)^2 == 0"
      ]
     },
     "execution_count": 42,
     "metadata": {},
     "output_type": "execute_result"
    }
   ],
   "source": [
    "eq3 = eq2.subs({diff(r(t,x),t): drdt, diff(r(t,x),t,x): diff(drdt, x)}).simplify_full()\n",
    "eq3"
   ]
  },
  {
   "cell_type": "markdown",
   "metadata": {},
   "source": [
    "If we use the negative square root of $(\\partial r/\\partial \\tau)^2$ instead, we get the same result:"
   ]
  },
  {
   "cell_type": "code",
   "execution_count": 43,
   "metadata": {},
   "outputs": [
    {
     "data": {
      "text/html": [
       "<html>\\(\\displaystyle -\\sqrt{\\frac{1}{3} \\, {\\Lambda} r\\left({\\tau}, {\\chi}\\right)^{2} + f\\left({\\chi}\\right)^{2} + \\frac{2 \\, m\\left({\\chi}\\right)}{r\\left({\\tau}, {\\chi}\\right)} - 1}\\)</html>"
      ],
      "text/latex": [
       "$\\displaystyle -\\sqrt{\\frac{1}{3} \\, {\\Lambda} r\\left({\\tau}, {\\chi}\\right)^{2} + f\\left({\\chi}\\right)^{2} + \\frac{2 \\, m\\left({\\chi}\\right)}{r\\left({\\tau}, {\\chi}\\right)} - 1}$"
      ],
      "text/plain": [
       "-sqrt(1/3*Lamb*r(t, x)^2 + f(x)^2 + 2*m(x)/r(t, x) - 1)"
      ]
     },
     "execution_count": 43,
     "metadata": {},
     "output_type": "execute_result"
    }
   ],
   "source": [
    "drdt = - sqrt(drdt2)\n",
    "drdt"
   ]
  },
  {
   "cell_type": "code",
   "execution_count": 44,
   "metadata": {},
   "outputs": [
    {
     "data": {
      "text/html": [
       "<html>\\(\\displaystyle 8 \\, \\pi r\\left({\\tau}, {\\chi}\\right)^{2} \\rho\\left({\\tau}, {\\chi}\\right) \\frac{\\partial}{\\partial {\\chi}}r\\left({\\tau}, {\\chi}\\right)^{3} - 2 \\, \\frac{\\partial}{\\partial {\\chi}}m\\left({\\chi}\\right) \\frac{\\partial}{\\partial {\\chi}}r\\left({\\tau}, {\\chi}\\right)^{2} = 0\\)</html>"
      ],
      "text/latex": [
       "$\\displaystyle 8 \\, \\pi r\\left({\\tau}, {\\chi}\\right)^{2} \\rho\\left({\\tau}, {\\chi}\\right) \\frac{\\partial}{\\partial {\\chi}}r\\left({\\tau}, {\\chi}\\right)^{3} - 2 \\, \\frac{\\partial}{\\partial {\\chi}}m\\left({\\chi}\\right) \\frac{\\partial}{\\partial {\\chi}}r\\left({\\tau}, {\\chi}\\right)^{2} = 0$"
      ],
      "text/plain": [
       "8*pi*r(t, x)^2*rho(t, x)*diff(r(t, x), x)^3 - 2*diff(m(x), x)*diff(r(t, x), x)^2 == 0"
      ]
     },
     "execution_count": 44,
     "metadata": {},
     "output_type": "execute_result"
    }
   ],
   "source": [
    "eq3_minus = eq2.subs({diff(r(t,x),t): drdt, diff(r(t,x),t,x): diff(drdt, x)}).simplify_full()\n",
    "eq3_minus"
   ]
  },
  {
   "cell_type": "code",
   "execution_count": 45,
   "metadata": {},
   "outputs": [
    {
     "data": {
      "text/html": [
       "<html>\\(\\displaystyle \\mathrm{True}\\)</html>"
      ],
      "text/latex": [
       "$\\displaystyle \\mathrm{True}$"
      ],
      "text/plain": [
       "True"
      ]
     },
     "execution_count": 45,
     "metadata": {},
     "output_type": "execute_result"
    }
   ],
   "source": [
    "eq3_minus == eq3"
   ]
  },
  {
   "cell_type": "markdown",
   "metadata": {},
   "source": [
    "Thus we continue with `eq3` and rearrange it to get the third Lemaitre-Tolman equation:"
   ]
  },
  {
   "cell_type": "code",
   "execution_count": 46,
   "metadata": {},
   "outputs": [
    {
     "data": {
      "text/html": [
       "<html>\\(\\displaystyle 4 \\, \\pi r\\left({\\tau}, {\\chi}\\right)^{2} \\rho\\left({\\tau}, {\\chi}\\right) \\frac{\\partial}{\\partial {\\chi}}r\\left({\\tau}, {\\chi}\\right) - \\frac{\\partial}{\\partial {\\chi}}m\\left({\\chi}\\right) = 0\\)</html>"
      ],
      "text/latex": [
       "$\\displaystyle 4 \\, \\pi r\\left({\\tau}, {\\chi}\\right)^{2} \\rho\\left({\\tau}, {\\chi}\\right) \\frac{\\partial}{\\partial {\\chi}}r\\left({\\tau}, {\\chi}\\right) - \\frac{\\partial}{\\partial {\\chi}}m\\left({\\chi}\\right) = 0$"
      ],
      "text/plain": [
       "4*pi*r(t, x)^2*rho(t, x)*diff(r(t, x), x) - diff(m(x), x) == 0"
      ]
     },
     "execution_count": 46,
     "metadata": {},
     "output_type": "execute_result"
    }
   ],
   "source": [
    "eq4 = (eq3 / (2*diff(r(t,x),x)^2)).simplify_full()\n",
    "eq4"
   ]
  },
  {
   "cell_type": "code",
   "execution_count": 47,
   "metadata": {},
   "outputs": [
    {
     "data": {
      "text/html": [
       "<html>\\(\\displaystyle \\left[\\frac{\\partial}{\\partial {\\chi}}m\\left({\\chi}\\right) = 4 \\, \\pi r\\left({\\tau}, {\\chi}\\right)^{2} \\rho\\left({\\tau}, {\\chi}\\right) \\frac{\\partial}{\\partial {\\chi}}r\\left({\\tau}, {\\chi}\\right)\\right]\\)</html>"
      ],
      "text/latex": [
       "$\\displaystyle \\left[\\frac{\\partial}{\\partial {\\chi}}m\\left({\\chi}\\right) = 4 \\, \\pi r\\left({\\tau}, {\\chi}\\right)^{2} \\rho\\left({\\tau}, {\\chi}\\right) \\frac{\\partial}{\\partial {\\chi}}r\\left({\\tau}, {\\chi}\\right)\\right]$"
      ],
      "text/plain": [
       "[diff(m(x), x) == 4*pi*r(t, x)^2*rho(t, x)*diff(r(t, x), x)]"
      ]
     },
     "execution_count": 47,
     "metadata": {},
     "output_type": "execute_result"
    }
   ],
   "source": [
    "dmdx_sol = solve(eq4, diff(m(x),x))\n",
    "dmdx_sol"
   ]
  },
  {
   "cell_type": "code",
   "execution_count": 48,
   "metadata": {},
   "outputs": [
    {
     "data": {
      "text/html": [
       "<html>\\(\\displaystyle \\frac{\\partial}{\\partial {\\chi}}m\\left({\\chi}\\right) = 4 \\, \\pi r\\left({\\tau}, {\\chi}\\right)^{2} \\rho\\left({\\tau}, {\\chi}\\right) \\frac{\\partial}{\\partial {\\chi}}r\\left({\\tau}, {\\chi}\\right)\\)</html>"
      ],
      "text/latex": [
       "$\\displaystyle \\frac{\\partial}{\\partial {\\chi}}m\\left({\\chi}\\right) = 4 \\, \\pi r\\left({\\tau}, {\\chi}\\right)^{2} \\rho\\left({\\tau}, {\\chi}\\right) \\frac{\\partial}{\\partial {\\chi}}r\\left({\\tau}, {\\chi}\\right)$"
      ],
      "text/plain": [
       "diff(m(x), x) == 4*pi*r(t, x)^2*rho(t, x)*diff(r(t, x), x)"
      ]
     },
     "execution_count": 48,
     "metadata": {},
     "output_type": "execute_result"
    }
   ],
   "source": [
    "LT3 = dmdx_sol[0]\n",
    "LT3"
   ]
  },
  {
   "cell_type": "markdown",
   "metadata": {},
   "source": [
    "### $\\theta\\theta$ and $\\phi\\phi$ components\n",
    "\n",
    "First we notice that the $\\theta\\theta$ and $\\phi\\phi$ components of the Einstein equation are equivalent:"
   ]
  },
  {
   "cell_type": "code",
   "execution_count": 49,
   "metadata": {},
   "outputs": [
    {
     "data": {
      "text/html": [
       "<html>\\(\\displaystyle \\mathrm{True}\\)</html>"
      ],
      "text/latex": [
       "$\\displaystyle \\mathrm{True}$"
      ],
      "text/plain": [
       "True"
      ]
     },
     "execution_count": 49,
     "metadata": {},
     "output_type": "execute_result"
    }
   ],
   "source": [
    "E[3,3] == E[2,2] * sin(th)^2"
   ]
  },
  {
   "cell_type": "markdown",
   "metadata": {},
   "source": [
    "Let us thus consider only the $22 = \\theta\\theta$ component:"
   ]
  },
  {
   "cell_type": "code",
   "execution_count": 50,
   "metadata": {},
   "outputs": [
    {
     "data": {
      "text/html": [
       "<html>\\(\\displaystyle \\frac{{\\Lambda} a\\left({\\tau}, {\\chi}\\right)^{3} r\\left({\\tau}, {\\chi}\\right)^{2} - a\\left({\\tau}, {\\chi}\\right)^{2} r\\left({\\tau}, {\\chi}\\right)^{2} \\frac{\\partial^2\\,a}{\\partial {\\tau} ^ 2} - a\\left({\\tau}, {\\chi}\\right)^{2} r\\left({\\tau}, {\\chi}\\right) \\frac{\\partial\\,a}{\\partial {\\tau}} \\frac{\\partial\\,r}{\\partial {\\tau}} - a\\left({\\tau}, {\\chi}\\right)^{3} r\\left({\\tau}, {\\chi}\\right) \\frac{\\partial^2\\,r}{\\partial {\\tau} ^ 2} - r\\left({\\tau}, {\\chi}\\right) \\frac{\\partial\\,a}{\\partial {\\chi}} \\frac{\\partial\\,r}{\\partial {\\chi}} + a\\left({\\tau}, {\\chi}\\right) r\\left({\\tau}, {\\chi}\\right) \\frac{\\partial^2\\,r}{\\partial {\\chi} ^ 2}}{a\\left({\\tau}, {\\chi}\\right)^{3}}\\)</html>"
      ],
      "text/latex": [
       "$\\displaystyle \\frac{{\\Lambda} a\\left({\\tau}, {\\chi}\\right)^{3} r\\left({\\tau}, {\\chi}\\right)^{2} - a\\left({\\tau}, {\\chi}\\right)^{2} r\\left({\\tau}, {\\chi}\\right)^{2} \\frac{\\partial^2\\,a}{\\partial {\\tau} ^ 2} - a\\left({\\tau}, {\\chi}\\right)^{2} r\\left({\\tau}, {\\chi}\\right) \\frac{\\partial\\,a}{\\partial {\\tau}} \\frac{\\partial\\,r}{\\partial {\\tau}} - a\\left({\\tau}, {\\chi}\\right)^{3} r\\left({\\tau}, {\\chi}\\right) \\frac{\\partial^2\\,r}{\\partial {\\tau} ^ 2} - r\\left({\\tau}, {\\chi}\\right) \\frac{\\partial\\,a}{\\partial {\\chi}} \\frac{\\partial\\,r}{\\partial {\\chi}} + a\\left({\\tau}, {\\chi}\\right) r\\left({\\tau}, {\\chi}\\right) \\frac{\\partial^2\\,r}{\\partial {\\chi} ^ 2}}{a\\left({\\tau}, {\\chi}\\right)^{3}}$"
      ],
      "text/plain": [
       "(Lamb*a(t, x)^3*r(t, x)^2 - a(t, x)^2*r(t, x)^2*d^2(a)/dt^2 - a(t, x)^2*r(t, x)*d(a)/dt*d(r)/dt - a(t, x)^3*r(t, x)*d^2(r)/dt^2 - r(t, x)*d(a)/dx*d(r)/dx + a(t, x)*r(t, x)*d^2(r)/dx^2)/a(t, x)^3"
      ]
     },
     "execution_count": 50,
     "metadata": {},
     "output_type": "execute_result"
    }
   ],
   "source": [
    "E[2,2]"
   ]
  },
  {
   "cell_type": "markdown",
   "metadata": {},
   "source": [
    "It is equivalent to"
   ]
  },
  {
   "cell_type": "code",
   "execution_count": 51,
   "metadata": {},
   "outputs": [
    {
     "data": {
      "text/html": [
       "<html>\\(\\displaystyle -{\\Lambda} a\\left({\\tau}, {\\chi}\\right)^{3} r\\left({\\tau}, {\\chi}\\right)^{2} + a\\left({\\tau}, {\\chi}\\right)^{2} r\\left({\\tau}, {\\chi}\\right)^{2} \\frac{\\partial^{2}}{(\\partial {\\tau})^{2}}a\\left({\\tau}, {\\chi}\\right) + a\\left({\\tau}, {\\chi}\\right)^{2} r\\left({\\tau}, {\\chi}\\right) \\frac{\\partial}{\\partial {\\tau}}a\\left({\\tau}, {\\chi}\\right) \\frac{\\partial}{\\partial {\\tau}}r\\left({\\tau}, {\\chi}\\right) + a\\left({\\tau}, {\\chi}\\right)^{3} r\\left({\\tau}, {\\chi}\\right) \\frac{\\partial^{2}}{(\\partial {\\tau})^{2}}r\\left({\\tau}, {\\chi}\\right) + r\\left({\\tau}, {\\chi}\\right) \\frac{\\partial}{\\partial {\\chi}}a\\left({\\tau}, {\\chi}\\right) \\frac{\\partial}{\\partial {\\chi}}r\\left({\\tau}, {\\chi}\\right) - a\\left({\\tau}, {\\chi}\\right) r\\left({\\tau}, {\\chi}\\right) \\frac{\\partial^{2}}{(\\partial {\\chi})^{2}}r\\left({\\tau}, {\\chi}\\right) = 0\\)</html>"
      ],
      "text/latex": [
       "$\\displaystyle -{\\Lambda} a\\left({\\tau}, {\\chi}\\right)^{3} r\\left({\\tau}, {\\chi}\\right)^{2} + a\\left({\\tau}, {\\chi}\\right)^{2} r\\left({\\tau}, {\\chi}\\right)^{2} \\frac{\\partial^{2}}{(\\partial {\\tau})^{2}}a\\left({\\tau}, {\\chi}\\right) + a\\left({\\tau}, {\\chi}\\right)^{2} r\\left({\\tau}, {\\chi}\\right) \\frac{\\partial}{\\partial {\\tau}}a\\left({\\tau}, {\\chi}\\right) \\frac{\\partial}{\\partial {\\tau}}r\\left({\\tau}, {\\chi}\\right) + a\\left({\\tau}, {\\chi}\\right)^{3} r\\left({\\tau}, {\\chi}\\right) \\frac{\\partial^{2}}{(\\partial {\\tau})^{2}}r\\left({\\tau}, {\\chi}\\right) + r\\left({\\tau}, {\\chi}\\right) \\frac{\\partial}{\\partial {\\chi}}a\\left({\\tau}, {\\chi}\\right) \\frac{\\partial}{\\partial {\\chi}}r\\left({\\tau}, {\\chi}\\right) - a\\left({\\tau}, {\\chi}\\right) r\\left({\\tau}, {\\chi}\\right) \\frac{\\partial^{2}}{(\\partial {\\chi})^{2}}r\\left({\\tau}, {\\chi}\\right) = 0$"
      ],
      "text/plain": [
       "-Lamb*a(t, x)^3*r(t, x)^2 + a(t, x)^2*r(t, x)^2*diff(a(t, x), t, t) + a(t, x)^2*r(t, x)*diff(a(t, x), t)*diff(r(t, x), t) + a(t, x)^3*r(t, x)*diff(r(t, x), t, t) + r(t, x)*diff(a(t, x), x)*diff(r(t, x), x) - a(t, x)*r(t, x)*diff(r(t, x), x, x) == 0"
      ]
     },
     "execution_count": 51,
     "metadata": {},
     "output_type": "execute_result"
    }
   ],
   "source": [
    "eq = (- E[2,2] * a(t,x)^3).expr() == 0\n",
    "eq"
   ]
  },
  {
   "cell_type": "markdown",
   "metadata": {},
   "source": [
    "We substitute for $a(\\tau,\\chi)$ the value found when solving the $\\tau\\chi$ component:"
   ]
  },
  {
   "cell_type": "code",
   "execution_count": 52,
   "metadata": {},
   "outputs": [
    {
     "data": {
      "text/html": [
       "<html>\\(\\displaystyle -\\frac{f\\left({\\chi}\\right) r\\left({\\tau}, {\\chi}\\right) \\frac{\\partial}{\\partial {\\chi}}f\\left({\\chi}\\right) \\frac{\\partial}{\\partial {\\chi}}r\\left({\\tau}, {\\chi}\\right)^{2} + {\\left({\\Lambda} r\\left({\\tau}, {\\chi}\\right)^{2} - r\\left({\\tau}, {\\chi}\\right) \\frac{\\partial^{2}}{(\\partial {\\tau})^{2}}r\\left({\\tau}, {\\chi}\\right)\\right)} \\frac{\\partial}{\\partial {\\chi}}r\\left({\\tau}, {\\chi}\\right)^{3} - {\\left(r\\left({\\tau}, {\\chi}\\right)^{2} \\frac{\\partial^{3}}{(\\partial {\\tau})^{2}\\partial {\\chi}}r\\left({\\tau}, {\\chi}\\right) + r\\left({\\tau}, {\\chi}\\right) \\frac{\\partial}{\\partial {\\tau}}r\\left({\\tau}, {\\chi}\\right) \\frac{\\partial^{2}}{\\partial {\\tau}\\partial {\\chi}}r\\left({\\tau}, {\\chi}\\right)\\right)} \\frac{\\partial}{\\partial {\\chi}}r\\left({\\tau}, {\\chi}\\right)^{2}}{f\\left({\\chi}\\right)^{3}} = 0\\)</html>"
      ],
      "text/latex": [
       "$\\displaystyle -\\frac{f\\left({\\chi}\\right) r\\left({\\tau}, {\\chi}\\right) \\frac{\\partial}{\\partial {\\chi}}f\\left({\\chi}\\right) \\frac{\\partial}{\\partial {\\chi}}r\\left({\\tau}, {\\chi}\\right)^{2} + {\\left({\\Lambda} r\\left({\\tau}, {\\chi}\\right)^{2} - r\\left({\\tau}, {\\chi}\\right) \\frac{\\partial^{2}}{(\\partial {\\tau})^{2}}r\\left({\\tau}, {\\chi}\\right)\\right)} \\frac{\\partial}{\\partial {\\chi}}r\\left({\\tau}, {\\chi}\\right)^{3} - {\\left(r\\left({\\tau}, {\\chi}\\right)^{2} \\frac{\\partial^{3}}{(\\partial {\\tau})^{2}\\partial {\\chi}}r\\left({\\tau}, {\\chi}\\right) + r\\left({\\tau}, {\\chi}\\right) \\frac{\\partial}{\\partial {\\tau}}r\\left({\\tau}, {\\chi}\\right) \\frac{\\partial^{2}}{\\partial {\\tau}\\partial {\\chi}}r\\left({\\tau}, {\\chi}\\right)\\right)} \\frac{\\partial}{\\partial {\\chi}}r\\left({\\tau}, {\\chi}\\right)^{2}}{f\\left({\\chi}\\right)^{3}} = 0$"
      ],
      "text/plain": [
       "-(f(x)*r(t, x)*diff(f(x), x)*diff(r(t, x), x)^2 + (Lamb*r(t, x)^2 - r(t, x)*diff(r(t, x), t, t))*diff(r(t, x), x)^3 - (r(t, x)^2*diff(r(t, x), t, t, x) + r(t, x)*diff(r(t, x), t)*diff(r(t, x), t, x))*diff(r(t, x), x)^2)/f(x)^3 == 0"
      ]
     },
     "execution_count": 52,
     "metadata": {},
     "output_type": "execute_result"
    }
   ],
   "source": [
    "eq1 = eq.substitute_function(a, af).simplify_full()\n",
    "eq1"
   ]
  },
  {
   "cell_type": "code",
   "execution_count": 53,
   "metadata": {},
   "outputs": [
    {
     "data": {
      "text/html": [
       "<html>\\(\\displaystyle -f\\left({\\chi}\\right) r\\left({\\tau}, {\\chi}\\right) \\frac{\\partial}{\\partial {\\chi}}f\\left({\\chi}\\right) \\frac{\\partial}{\\partial {\\chi}}r\\left({\\tau}, {\\chi}\\right)^{2} - {\\left({\\Lambda} r\\left({\\tau}, {\\chi}\\right)^{2} - r\\left({\\tau}, {\\chi}\\right) \\frac{\\partial^{2}}{(\\partial {\\tau})^{2}}r\\left({\\tau}, {\\chi}\\right)\\right)} \\frac{\\partial}{\\partial {\\chi}}r\\left({\\tau}, {\\chi}\\right)^{3} + {\\left(r\\left({\\tau}, {\\chi}\\right)^{2} \\frac{\\partial^{3}}{(\\partial {\\tau})^{2}\\partial {\\chi}}r\\left({\\tau}, {\\chi}\\right) + r\\left({\\tau}, {\\chi}\\right) \\frac{\\partial}{\\partial {\\tau}}r\\left({\\tau}, {\\chi}\\right) \\frac{\\partial^{2}}{\\partial {\\tau}\\partial {\\chi}}r\\left({\\tau}, {\\chi}\\right)\\right)} \\frac{\\partial}{\\partial {\\chi}}r\\left({\\tau}, {\\chi}\\right)^{2} = 0\\)</html>"
      ],
      "text/latex": [
       "$\\displaystyle -f\\left({\\chi}\\right) r\\left({\\tau}, {\\chi}\\right) \\frac{\\partial}{\\partial {\\chi}}f\\left({\\chi}\\right) \\frac{\\partial}{\\partial {\\chi}}r\\left({\\tau}, {\\chi}\\right)^{2} - {\\left({\\Lambda} r\\left({\\tau}, {\\chi}\\right)^{2} - r\\left({\\tau}, {\\chi}\\right) \\frac{\\partial^{2}}{(\\partial {\\tau})^{2}}r\\left({\\tau}, {\\chi}\\right)\\right)} \\frac{\\partial}{\\partial {\\chi}}r\\left({\\tau}, {\\chi}\\right)^{3} + {\\left(r\\left({\\tau}, {\\chi}\\right)^{2} \\frac{\\partial^{3}}{(\\partial {\\tau})^{2}\\partial {\\chi}}r\\left({\\tau}, {\\chi}\\right) + r\\left({\\tau}, {\\chi}\\right) \\frac{\\partial}{\\partial {\\tau}}r\\left({\\tau}, {\\chi}\\right) \\frac{\\partial^{2}}{\\partial {\\tau}\\partial {\\chi}}r\\left({\\tau}, {\\chi}\\right)\\right)} \\frac{\\partial}{\\partial {\\chi}}r\\left({\\tau}, {\\chi}\\right)^{2} = 0$"
      ],
      "text/plain": [
       "-f(x)*r(t, x)*diff(f(x), x)*diff(r(t, x), x)^2 - (Lamb*r(t, x)^2 - r(t, x)*diff(r(t, x), t, t))*diff(r(t, x), x)^3 + (r(t, x)^2*diff(r(t, x), t, t, x) + r(t, x)*diff(r(t, x), t)*diff(r(t, x), t, x))*diff(r(t, x), x)^2 == 0"
      ]
     },
     "execution_count": 53,
     "metadata": {},
     "output_type": "execute_result"
    }
   ],
   "source": [
    "eq2 = (eq1 * f(x)^3).simplify_full()\n",
    "eq2"
   ]
  },
  {
   "cell_type": "markdown",
   "metadata": {},
   "source": [
    "Then we substitute for $\\partial r/\\partial\\tau$ the value obtained when solving the $\\tau\\tau$ component:"
   ]
  },
  {
   "cell_type": "code",
   "execution_count": 54,
   "metadata": {},
   "outputs": [
    {
     "data": {
      "text/html": [
       "<html>\\(\\displaystyle 0 = 0\\)</html>"
      ],
      "text/latex": [
       "$\\displaystyle 0 = 0$"
      ],
      "text/plain": [
       "0 == 0"
      ]
     },
     "execution_count": 54,
     "metadata": {},
     "output_type": "execute_result"
    }
   ],
   "source": [
    "eq3 = eq2.subs({diff(r(t,x),t,t,x): diff(drdt,t,x), diff(r(t,x),t,t): diff(drdt,t)}).simplify_full()\n",
    "eq4 = eq3.subs({diff(r(t,x),t): drdt, diff(r(t,x),t,x): diff(drdt,x)}).simplify_full()\n",
    "eq4"
   ]
  },
  {
   "cell_type": "markdown",
   "metadata": {},
   "source": [
    "We conclude that the $\\theta\\theta$ component of Einstein equation does not add any independent equation. "
   ]
  },
  {
   "cell_type": "markdown",
   "metadata": {},
   "source": [
    "## Summary\n",
    "\n",
    "Let us collect the three independent equations obtained from the Einstein equation, constituting the **Lemaître-Tolman system**:"
   ]
  },
  {
   "cell_type": "code",
   "execution_count": 55,
   "metadata": {},
   "outputs": [
    {
     "data": {
      "text/html": [
       "<html>\\(\\displaystyle a\\left({\\tau}, {\\chi}\\right) = \\frac{\\frac{\\partial}{\\partial {\\chi}}r\\left({\\tau}, {\\chi}\\right)}{f\\left({\\chi}\\right)}\\)</html>"
      ],
      "text/latex": [
       "$\\displaystyle a\\left({\\tau}, {\\chi}\\right) = \\frac{\\frac{\\partial}{\\partial {\\chi}}r\\left({\\tau}, {\\chi}\\right)}{f\\left({\\chi}\\right)}$"
      ],
      "text/plain": [
       "a(t, x) == diff(r(t, x), x)/f(x)"
      ]
     },
     "metadata": {},
     "output_type": "display_data"
    },
    {
     "data": {
      "text/html": [
       "<html>\\(\\displaystyle \\frac{\\partial}{\\partial {\\tau}}r\\left({\\tau}, {\\chi}\\right)^{2} = \\frac{1}{3} \\, {\\Lambda} r\\left({\\tau}, {\\chi}\\right)^{2} + f\\left({\\chi}\\right)^{2} + \\frac{2 \\, m\\left({\\chi}\\right)}{r\\left({\\tau}, {\\chi}\\right)} - 1\\)</html>"
      ],
      "text/latex": [
       "$\\displaystyle \\frac{\\partial}{\\partial {\\tau}}r\\left({\\tau}, {\\chi}\\right)^{2} = \\frac{1}{3} \\, {\\Lambda} r\\left({\\tau}, {\\chi}\\right)^{2} + f\\left({\\chi}\\right)^{2} + \\frac{2 \\, m\\left({\\chi}\\right)}{r\\left({\\tau}, {\\chi}\\right)} - 1$"
      ],
      "text/plain": [
       "diff(r(t, x), t)^2 == 1/3*Lamb*r(t, x)^2 + f(x)^2 + 2*m(x)/r(t, x) - 1"
      ]
     },
     "metadata": {},
     "output_type": "display_data"
    },
    {
     "data": {
      "text/html": [
       "<html>\\(\\displaystyle \\frac{\\partial}{\\partial {\\chi}}m\\left({\\chi}\\right) = 4 \\, \\pi r\\left({\\tau}, {\\chi}\\right)^{2} \\rho\\left({\\tau}, {\\chi}\\right) \\frac{\\partial}{\\partial {\\chi}}r\\left({\\tau}, {\\chi}\\right)\\)</html>"
      ],
      "text/latex": [
       "$\\displaystyle \\frac{\\partial}{\\partial {\\chi}}m\\left({\\chi}\\right) = 4 \\, \\pi r\\left({\\tau}, {\\chi}\\right)^{2} \\rho\\left({\\tau}, {\\chi}\\right) \\frac{\\partial}{\\partial {\\chi}}r\\left({\\tau}, {\\chi}\\right)$"
      ],
      "text/plain": [
       "diff(m(x), x) == 4*pi*r(t, x)^2*rho(t, x)*diff(r(t, x), x)"
      ]
     },
     "metadata": {},
     "output_type": "display_data"
    }
   ],
   "source": [
    "for eq in [LT1, LT2, LT3]:\n",
    "    show(eq)"
   ]
  },
  {
   "cell_type": "markdown",
   "metadata": {},
   "source": [
    "The first equation is the unnumbered one just above Eq. (8.1) in Lemaître's article *L'univers en expansion*, Annales de la Société Scientifique de Bruxelles A **53**, 51 (1933), translated in English in  [Gen. Relativ. Gravit. **29**, 641](http://dx.doi.org/10.1023/A:1018855621348) (1997). The second equation is Eq. (8.2) in Lemaître's article, while the third one is Eq. (8.3)."
   ]
  }
 ],
 "metadata": {
  "kernelspec": {
   "display_name": "SageMath 10.0.rc3",
   "language": "sage",
   "name": "sagemath"
  },
  "language_info": {
   "codemirror_mode": {
    "name": "ipython",
    "version": 3
   },
   "file_extension": ".py",
   "mimetype": "text/x-python",
   "name": "python",
   "nbconvert_exporter": "python",
   "pygments_lexer": "ipython3",
   "version": "3.10.6"
  }
 },
 "nbformat": 4,
 "nbformat_minor": 4
}
