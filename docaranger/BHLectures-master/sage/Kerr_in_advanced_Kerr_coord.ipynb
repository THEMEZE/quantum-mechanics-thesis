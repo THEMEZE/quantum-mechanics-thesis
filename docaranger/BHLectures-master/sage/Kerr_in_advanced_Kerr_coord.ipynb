{
 "cells": [
  {
   "cell_type": "markdown",
   "metadata": {},
   "source": [
    "# Kerr spacetime in advanced Kerr coordinates\n",
    "\n",
    "This SageMath notebook is relative to the lectures\n",
    "[Geometry and physics of black holes](https://relativite.obspm.fr/blackholes/).\n",
    "The computations are based on tools developed through the [SageManifolds](http://sagemanifolds.obspm.fr) project.\n",
    "\n",
    "*NB:* a version of SageMath at least equal to 8.2 is required to run this notebooknotebook: "
   ]
  },
  {
   "cell_type": "code",
   "execution_count": 1,
   "metadata": {},
   "outputs": [
    {
     "data": {
      "text/plain": [
       "'SageMath version 10.2.beta8, Release Date: 2023-10-21'"
      ]
     },
     "execution_count": 1,
     "metadata": {},
     "output_type": "execute_result"
    }
   ],
   "source": [
    "version()"
   ]
  },
  {
   "cell_type": "markdown",
   "metadata": {},
   "source": [
    "First we set up the notebook to display mathematical objects using LaTeX formatting:"
   ]
  },
  {
   "cell_type": "code",
   "execution_count": 2,
   "metadata": {},
   "outputs": [],
   "source": [
    "%display latex"
   ]
  },
  {
   "cell_type": "markdown",
   "metadata": {},
   "source": [
    "To speed up computations, we ask for running them in parallel on 8 threads:"
   ]
  },
  {
   "cell_type": "code",
   "execution_count": 3,
   "metadata": {},
   "outputs": [],
   "source": [
    "Parallelism().set(nproc=8)"
   ]
  },
  {
   "cell_type": "markdown",
   "metadata": {},
   "source": [
    "## Spacetime\n",
    "\n",
    "We declare the spacetime manifold $M$:"
   ]
  },
  {
   "cell_type": "code",
   "execution_count": 4,
   "metadata": {},
   "outputs": [
    {
     "name": "stdout",
     "output_type": "stream",
     "text": [
      "4-dimensional Lorentzian manifold M\n"
     ]
    }
   ],
   "source": [
    "M = Manifold(4, 'M', structure='Lorentzian')\n",
    "print(M)"
   ]
  },
  {
   "cell_type": "markdown",
   "metadata": {},
   "source": [
    "and the advanced Kerr coordinates $(v,r,\\theta,\\phi)$ as a chart on $M$:"
   ]
  },
  {
   "cell_type": "code",
   "execution_count": 5,
   "metadata": {},
   "outputs": [
    {
     "data": {
      "text/html": [
       "<html>\\(\\displaystyle \\left(M,(v, r, {\\theta}, {\\phi})\\right)\\)</html>"
      ],
      "text/latex": [
       "$\\displaystyle \\left(M,(v, r, {\\theta}, {\\phi})\\right)$"
      ],
      "text/plain": [
       "Chart (M, (v, r, th, ph))"
      ]
     },
     "execution_count": 5,
     "metadata": {},
     "output_type": "execute_result"
    }
   ],
   "source": [
    "X.<v,r,th,ph> = M.chart(r'v r th:(0,pi):\\theta ph:(0,2*pi):\\phi')\n",
    "X"
   ]
  },
  {
   "cell_type": "code",
   "execution_count": 6,
   "metadata": {},
   "outputs": [
    {
     "data": {
      "text/html": [
       "<html>\\(\\displaystyle v :\\ \\left( -\\infty, +\\infty \\right) ;\\quad r :\\ \\left( -\\infty, +\\infty \\right) ;\\quad {\\theta} :\\ \\left( 0 , \\pi \\right) ;\\quad {\\phi} :\\ \\left( 0 , 2 \\, \\pi \\right)\\)</html>"
      ],
      "text/latex": [
       "$\\displaystyle v :\\ \\left( -\\infty, +\\infty \\right) ;\\quad r :\\ \\left( -\\infty, +\\infty \\right) ;\\quad {\\theta} :\\ \\left( 0 , \\pi \\right) ;\\quad {\\phi} :\\ \\left( 0 , 2 \\, \\pi \\right)$"
      ],
      "text/plain": [
       "v: (-oo, +oo); r: (-oo, +oo); th: (0, pi); ph: (0, 2*pi)"
      ]
     },
     "execution_count": 6,
     "metadata": {},
     "output_type": "execute_result"
    }
   ],
   "source": [
    "X.coord_range()"
   ]
  },
  {
   "cell_type": "markdown",
   "metadata": {},
   "source": [
    "The Kerr parameters $m$ and $a$:"
   ]
  },
  {
   "cell_type": "code",
   "execution_count": 7,
   "metadata": {},
   "outputs": [],
   "source": [
    "m = var('m', domain='real')\n",
    "assume(m>0)\n",
    "a = var('a', domain='real')\n",
    "assume(a>=0)"
   ]
  },
  {
   "cell_type": "markdown",
   "metadata": {},
   "source": [
    "## Kerr metric\n",
    "\n",
    "We define the metric $g$ by its components w.r.t. the advanced Kerr coordinates:"
   ]
  },
  {
   "cell_type": "code",
   "execution_count": 8,
   "metadata": {},
   "outputs": [
    {
     "data": {
      "text/html": [
       "<html>\\(\\displaystyle g = \\left( \\frac{2 \\, m r}{a^{2} \\cos\\left({\\theta}\\right)^{2} + r^{2}} - 1 \\right) \\mathrm{d} v\\otimes \\mathrm{d} v +\\mathrm{d} v\\otimes \\mathrm{d} r + \\left( -\\frac{2 \\, a m r \\sin\\left({\\theta}\\right)^{2}}{a^{2} \\cos\\left({\\theta}\\right)^{2} + r^{2}} \\right) \\mathrm{d} v\\otimes \\mathrm{d} {\\phi} +\\mathrm{d} r\\otimes \\mathrm{d} v -a \\sin\\left({\\theta}\\right)^{2} \\mathrm{d} r\\otimes \\mathrm{d} {\\phi} + \\left( a^{2} \\cos\\left({\\theta}\\right)^{2} + r^{2} \\right) \\mathrm{d} {\\theta}\\otimes \\mathrm{d} {\\theta} + \\left( -\\frac{2 \\, a m r \\sin\\left({\\theta}\\right)^{2}}{a^{2} \\cos\\left({\\theta}\\right)^{2} + r^{2}} \\right) \\mathrm{d} {\\phi}\\otimes \\mathrm{d} v -a \\sin\\left({\\theta}\\right)^{2} \\mathrm{d} {\\phi}\\otimes \\mathrm{d} r + {\\left(\\frac{2 \\, a^{2} m r \\sin\\left({\\theta}\\right)^{2}}{a^{2} \\cos\\left({\\theta}\\right)^{2} + r^{2}} + a^{2} + r^{2}\\right)} \\sin\\left({\\theta}\\right)^{2} \\mathrm{d} {\\phi}\\otimes \\mathrm{d} {\\phi}\\)</html>"
      ],
      "text/latex": [
       "$\\displaystyle g = \\left( \\frac{2 \\, m r}{a^{2} \\cos\\left({\\theta}\\right)^{2} + r^{2}} - 1 \\right) \\mathrm{d} v\\otimes \\mathrm{d} v +\\mathrm{d} v\\otimes \\mathrm{d} r + \\left( -\\frac{2 \\, a m r \\sin\\left({\\theta}\\right)^{2}}{a^{2} \\cos\\left({\\theta}\\right)^{2} + r^{2}} \\right) \\mathrm{d} v\\otimes \\mathrm{d} {\\phi} +\\mathrm{d} r\\otimes \\mathrm{d} v -a \\sin\\left({\\theta}\\right)^{2} \\mathrm{d} r\\otimes \\mathrm{d} {\\phi} + \\left( a^{2} \\cos\\left({\\theta}\\right)^{2} + r^{2} \\right) \\mathrm{d} {\\theta}\\otimes \\mathrm{d} {\\theta} + \\left( -\\frac{2 \\, a m r \\sin\\left({\\theta}\\right)^{2}}{a^{2} \\cos\\left({\\theta}\\right)^{2} + r^{2}} \\right) \\mathrm{d} {\\phi}\\otimes \\mathrm{d} v -a \\sin\\left({\\theta}\\right)^{2} \\mathrm{d} {\\phi}\\otimes \\mathrm{d} r + {\\left(\\frac{2 \\, a^{2} m r \\sin\\left({\\theta}\\right)^{2}}{a^{2} \\cos\\left({\\theta}\\right)^{2} + r^{2}} + a^{2} + r^{2}\\right)} \\sin\\left({\\theta}\\right)^{2} \\mathrm{d} {\\phi}\\otimes \\mathrm{d} {\\phi}$"
      ],
      "text/plain": [
       "g = (2*m*r/(a^2*cos(th)^2 + r^2) - 1) dv⊗dv + dv⊗dr - 2*a*m*r*sin(th)^2/(a^2*cos(th)^2 + r^2) dv⊗dph + dr⊗dv - a*sin(th)^2 dr⊗dph + (a^2*cos(th)^2 + r^2) dth⊗dth - 2*a*m*r*sin(th)^2/(a^2*cos(th)^2 + r^2) dph⊗dv - a*sin(th)^2 dph⊗dr + (2*a^2*m*r*sin(th)^2/(a^2*cos(th)^2 + r^2) + a^2 + r^2)*sin(th)^2 dph⊗dph"
      ]
     },
     "execution_count": 8,
     "metadata": {},
     "output_type": "execute_result"
    }
   ],
   "source": [
    "g = M.metric()\n",
    "rho2 = r^2 + (a*cos(th))^2\n",
    "g[0,0] = -(1 - 2*m*r/rho2)\n",
    "g[0,1] = 1\n",
    "g[0,3] = -2*a*m*r*sin(th)^2/rho2\n",
    "g[1,3] = -a*sin(th)^2\n",
    "g[2,2] = rho2\n",
    "g[3,3] = (r^2+a^2+2*m*r*(a*sin(th))^2/rho2)*sin(th)^2\n",
    "g.display()"
   ]
  },
  {
   "cell_type": "code",
   "execution_count": 9,
   "metadata": {},
   "outputs": [
    {
     "data": {
      "text/html": [
       "<html>\\(\\displaystyle \\begin{array}{lcl} g_{ \\, v \\, v }^{ \\phantom{\\, v}\\phantom{\\, v} } & = & \\frac{2 \\, m r}{a^{2} \\cos\\left({\\theta}\\right)^{2} + r^{2}} - 1 \\\\ g_{ \\, v \\, r }^{ \\phantom{\\, v}\\phantom{\\, r} } & = & 1 \\\\ g_{ \\, v \\, {\\phi} }^{ \\phantom{\\, v}\\phantom{\\, {\\phi}} } & = & -\\frac{2 \\, a m r \\sin\\left({\\theta}\\right)^{2}}{a^{2} \\cos\\left({\\theta}\\right)^{2} + r^{2}} \\\\ g_{ \\, r \\, v }^{ \\phantom{\\, r}\\phantom{\\, v} } & = & 1 \\\\ g_{ \\, r \\, {\\phi} }^{ \\phantom{\\, r}\\phantom{\\, {\\phi}} } & = & -a \\sin\\left({\\theta}\\right)^{2} \\\\ g_{ \\, {\\theta} \\, {\\theta} }^{ \\phantom{\\, {\\theta}}\\phantom{\\, {\\theta}} } & = & a^{2} \\cos\\left({\\theta}\\right)^{2} + r^{2} \\\\ g_{ \\, {\\phi} \\, v }^{ \\phantom{\\, {\\phi}}\\phantom{\\, v} } & = & -\\frac{2 \\, a m r \\sin\\left({\\theta}\\right)^{2}}{a^{2} \\cos\\left({\\theta}\\right)^{2} + r^{2}} \\\\ g_{ \\, {\\phi} \\, r }^{ \\phantom{\\, {\\phi}}\\phantom{\\, r} } & = & -a \\sin\\left({\\theta}\\right)^{2} \\\\ g_{ \\, {\\phi} \\, {\\phi} }^{ \\phantom{\\, {\\phi}}\\phantom{\\, {\\phi}} } & = & {\\left(\\frac{2 \\, a^{2} m r \\sin\\left({\\theta}\\right)^{2}}{a^{2} \\cos\\left({\\theta}\\right)^{2} + r^{2}} + a^{2} + r^{2}\\right)} \\sin\\left({\\theta}\\right)^{2} \\end{array}\\)</html>"
      ],
      "text/latex": [
       "$\\displaystyle \\begin{array}{lcl} g_{ \\, v \\, v }^{ \\phantom{\\, v}\\phantom{\\, v} } & = & \\frac{2 \\, m r}{a^{2} \\cos\\left({\\theta}\\right)^{2} + r^{2}} - 1 \\\\ g_{ \\, v \\, r }^{ \\phantom{\\, v}\\phantom{\\, r} } & = & 1 \\\\ g_{ \\, v \\, {\\phi} }^{ \\phantom{\\, v}\\phantom{\\, {\\phi}} } & = & -\\frac{2 \\, a m r \\sin\\left({\\theta}\\right)^{2}}{a^{2} \\cos\\left({\\theta}\\right)^{2} + r^{2}} \\\\ g_{ \\, r \\, v }^{ \\phantom{\\, r}\\phantom{\\, v} } & = & 1 \\\\ g_{ \\, r \\, {\\phi} }^{ \\phantom{\\, r}\\phantom{\\, {\\phi}} } & = & -a \\sin\\left({\\theta}\\right)^{2} \\\\ g_{ \\, {\\theta} \\, {\\theta} }^{ \\phantom{\\, {\\theta}}\\phantom{\\, {\\theta}} } & = & a^{2} \\cos\\left({\\theta}\\right)^{2} + r^{2} \\\\ g_{ \\, {\\phi} \\, v }^{ \\phantom{\\, {\\phi}}\\phantom{\\, v} } & = & -\\frac{2 \\, a m r \\sin\\left({\\theta}\\right)^{2}}{a^{2} \\cos\\left({\\theta}\\right)^{2} + r^{2}} \\\\ g_{ \\, {\\phi} \\, r }^{ \\phantom{\\, {\\phi}}\\phantom{\\, r} } & = & -a \\sin\\left({\\theta}\\right)^{2} \\\\ g_{ \\, {\\phi} \\, {\\phi} }^{ \\phantom{\\, {\\phi}}\\phantom{\\, {\\phi}} } & = & {\\left(\\frac{2 \\, a^{2} m r \\sin\\left({\\theta}\\right)^{2}}{a^{2} \\cos\\left({\\theta}\\right)^{2} + r^{2}} + a^{2} + r^{2}\\right)} \\sin\\left({\\theta}\\right)^{2} \\end{array}$"
      ],
      "text/plain": [
       "g_v,v = 2*m*r/(a^2*cos(th)^2 + r^2) - 1 \n",
       "g_v,r = 1 \n",
       "g_v,ph = -2*a*m*r*sin(th)^2/(a^2*cos(th)^2 + r^2) \n",
       "g_r,v = 1 \n",
       "g_r,ph = -a*sin(th)^2 \n",
       "g_th,th = a^2*cos(th)^2 + r^2 \n",
       "g_ph,v = -2*a*m*r*sin(th)^2/(a^2*cos(th)^2 + r^2) \n",
       "g_ph,r = -a*sin(th)^2 \n",
       "g_ph,ph = (2*a^2*m*r*sin(th)^2/(a^2*cos(th)^2 + r^2) + a^2 + r^2)*sin(th)^2 "
      ]
     },
     "execution_count": 9,
     "metadata": {},
     "output_type": "execute_result"
    }
   ],
   "source": [
    "g.display_comp()"
   ]
  },
  {
   "cell_type": "markdown",
   "metadata": {},
   "source": [
    "The inverse metric is pretty simple:"
   ]
  },
  {
   "cell_type": "code",
   "execution_count": 10,
   "metadata": {},
   "outputs": [
    {
     "data": {
      "text/html": [
       "<html>\\(\\displaystyle \\left(\\begin{array}{rrrr}\n",
       "\\frac{a^{2} \\sin\\left({\\theta}\\right)^{2}}{a^{2} \\cos\\left({\\theta}\\right)^{2} + r^{2}} & \\frac{a^{2} + r^{2}}{a^{2} \\cos\\left({\\theta}\\right)^{2} + r^{2}} & 0 & \\frac{a}{a^{2} \\cos\\left({\\theta}\\right)^{2} + r^{2}} \\\\\n",
       "\\frac{a^{2} + r^{2}}{a^{2} \\cos\\left({\\theta}\\right)^{2} + r^{2}} & \\frac{a^{2} - 2 \\, m r + r^{2}}{a^{2} \\cos\\left({\\theta}\\right)^{2} + r^{2}} & 0 & \\frac{a}{a^{2} \\cos\\left({\\theta}\\right)^{2} + r^{2}} \\\\\n",
       "0 & 0 & \\frac{1}{a^{2} \\cos\\left({\\theta}\\right)^{2} + r^{2}} & 0 \\\\\n",
       "\\frac{a}{a^{2} \\cos\\left({\\theta}\\right)^{2} + r^{2}} & \\frac{a}{a^{2} \\cos\\left({\\theta}\\right)^{2} + r^{2}} & 0 & -\\frac{1}{a^{2} \\sin\\left({\\theta}\\right)^{4} - {\\left(a^{2} + r^{2}\\right)} \\sin\\left({\\theta}\\right)^{2}}\n",
       "\\end{array}\\right)\\)</html>"
      ],
      "text/latex": [
       "$\\displaystyle \\left(\\begin{array}{rrrr}\n",
       "\\frac{a^{2} \\sin\\left({\\theta}\\right)^{2}}{a^{2} \\cos\\left({\\theta}\\right)^{2} + r^{2}} & \\frac{a^{2} + r^{2}}{a^{2} \\cos\\left({\\theta}\\right)^{2} + r^{2}} & 0 & \\frac{a}{a^{2} \\cos\\left({\\theta}\\right)^{2} + r^{2}} \\\\\n",
       "\\frac{a^{2} + r^{2}}{a^{2} \\cos\\left({\\theta}\\right)^{2} + r^{2}} & \\frac{a^{2} - 2 \\, m r + r^{2}}{a^{2} \\cos\\left({\\theta}\\right)^{2} + r^{2}} & 0 & \\frac{a}{a^{2} \\cos\\left({\\theta}\\right)^{2} + r^{2}} \\\\\n",
       "0 & 0 & \\frac{1}{a^{2} \\cos\\left({\\theta}\\right)^{2} + r^{2}} & 0 \\\\\n",
       "\\frac{a}{a^{2} \\cos\\left({\\theta}\\right)^{2} + r^{2}} & \\frac{a}{a^{2} \\cos\\left({\\theta}\\right)^{2} + r^{2}} & 0 & -\\frac{1}{a^{2} \\sin\\left({\\theta}\\right)^{4} - {\\left(a^{2} + r^{2}\\right)} \\sin\\left({\\theta}\\right)^{2}}\n",
       "\\end{array}\\right)$"
      ],
      "text/plain": [
       "[       a^2*sin(th)^2/(a^2*cos(th)^2 + r^2)          (a^2 + r^2)/(a^2*cos(th)^2 + r^2)                                          0                    a/(a^2*cos(th)^2 + r^2)]\n",
       "[         (a^2 + r^2)/(a^2*cos(th)^2 + r^2)  (a^2 - 2*m*r + r^2)/(a^2*cos(th)^2 + r^2)                                          0                    a/(a^2*cos(th)^2 + r^2)]\n",
       "[                                         0                                          0                    1/(a^2*cos(th)^2 + r^2)                                          0]\n",
       "[                   a/(a^2*cos(th)^2 + r^2)                    a/(a^2*cos(th)^2 + r^2)                                          0 -1/(a^2*sin(th)^4 - (a^2 + r^2)*sin(th)^2)]"
      ]
     },
     "execution_count": 10,
     "metadata": {},
     "output_type": "execute_result"
    }
   ],
   "source": [
    "g.inverse()[:]"
   ]
  },
  {
   "cell_type": "markdown",
   "metadata": {},
   "source": [
    "as well as the determinant w.r.t. to the advanced Kerr coordinates:"
   ]
  },
  {
   "cell_type": "code",
   "execution_count": 11,
   "metadata": {},
   "outputs": [
    {
     "data": {
      "text/html": [
       "<html>\\(\\displaystyle \\begin{array}{llcl} & M & \\longrightarrow & \\mathbb{R} \\\\ & \\left(v, r, {\\theta}, {\\phi}\\right) & \\longmapsto & a^{4} \\cos\\left({\\theta}\\right)^{6} - {\\left(a^{4} - 2 \\, a^{2} r^{2}\\right)} \\cos\\left({\\theta}\\right)^{4} - r^{4} - {\\left(2 \\, a^{2} r^{2} - r^{4}\\right)} \\cos\\left({\\theta}\\right)^{2} \\end{array}\\)</html>"
      ],
      "text/latex": [
       "$\\displaystyle \\begin{array}{llcl} & M & \\longrightarrow & \\mathbb{R} \\\\ & \\left(v, r, {\\theta}, {\\phi}\\right) & \\longmapsto & a^{4} \\cos\\left({\\theta}\\right)^{6} - {\\left(a^{4} - 2 \\, a^{2} r^{2}\\right)} \\cos\\left({\\theta}\\right)^{4} - r^{4} - {\\left(2 \\, a^{2} r^{2} - r^{4}\\right)} \\cos\\left({\\theta}\\right)^{2} \\end{array}$"
      ],
      "text/plain": [
       "M → ℝ\n",
       "(v, r, th, ph) ↦ a^4*cos(th)^6 - (a^4 - 2*a^2*r^2)*cos(th)^4 - r^4 - (2*a^2*r^2 - r^4)*cos(th)^2"
      ]
     },
     "execution_count": 11,
     "metadata": {},
     "output_type": "execute_result"
    }
   ],
   "source": [
    "g.determinant().display()"
   ]
  },
  {
   "cell_type": "code",
   "execution_count": 12,
   "metadata": {},
   "outputs": [
    {
     "data": {
      "text/html": [
       "<html>\\(\\displaystyle \\mathrm{True}\\)</html>"
      ],
      "text/latex": [
       "$\\displaystyle \\mathrm{True}$"
      ],
      "text/plain": [
       "True"
      ]
     },
     "execution_count": 12,
     "metadata": {},
     "output_type": "execute_result"
    }
   ],
   "source": [
    "g.determinant() == - (rho2*sin(th))^2"
   ]
  },
  {
   "cell_type": "markdown",
   "metadata": {},
   "source": [
    "Let us check that we are dealing with a solution of the Einstein equation in vacuum:"
   ]
  },
  {
   "cell_type": "code",
   "execution_count": 13,
   "metadata": {},
   "outputs": [
    {
     "data": {
      "text/html": [
       "<html>\\(\\displaystyle \\mathrm{Ric}\\left(g\\right) = 0\\)</html>"
      ],
      "text/latex": [
       "$\\displaystyle \\mathrm{Ric}\\left(g\\right) = 0$"
      ],
      "text/plain": [
       "Ric(g) = 0"
      ]
     },
     "execution_count": 13,
     "metadata": {},
     "output_type": "execute_result"
    }
   ],
   "source": [
    "g.ricci().display()"
   ]
  },
  {
   "cell_type": "markdown",
   "metadata": {},
   "source": [
    "The Christoffel symbols w.r.t. the Kerr coordinates:"
   ]
  },
  {
   "cell_type": "code",
   "execution_count": 14,
   "metadata": {},
   "outputs": [
    {
     "data": {
      "text/html": [
       "<html>\\(\\displaystyle \\begin{array}{lcl} \\Gamma_{ \\phantom{\\, v} \\, v \\, v }^{ \\, v \\phantom{\\, v} \\phantom{\\, v} } & = & -\\frac{a^{4} m - m r^{4} - {\\left(a^{4} m + a^{2} m r^{2}\\right)} \\sin\\left({\\theta}\\right)^{2}}{a^{6} \\cos\\left({\\theta}\\right)^{6} + 3 \\, a^{4} r^{2} \\cos\\left({\\theta}\\right)^{4} + 3 \\, a^{2} r^{4} \\cos\\left({\\theta}\\right)^{2} + r^{6}} \\\\ \\Gamma_{ \\phantom{\\, v} \\, v \\, {\\theta} }^{ \\, v \\phantom{\\, v} \\phantom{\\, {\\theta}} } & = & -\\frac{2 \\, a^{2} m r \\cos\\left({\\theta}\\right) \\sin\\left({\\theta}\\right)}{a^{4} \\cos\\left({\\theta}\\right)^{4} + 2 \\, a^{2} r^{2} \\cos\\left({\\theta}\\right)^{2} + r^{4}} \\\\ \\Gamma_{ \\phantom{\\, v} \\, v \\, {\\phi} }^{ \\, v \\phantom{\\, v} \\phantom{\\, {\\phi}} } & = & -\\frac{{\\left(a^{5} m + a^{3} m r^{2}\\right)} \\sin\\left({\\theta}\\right)^{4} - {\\left(a^{5} m - a m r^{4}\\right)} \\sin\\left({\\theta}\\right)^{2}}{a^{6} \\cos\\left({\\theta}\\right)^{6} + 3 \\, a^{4} r^{2} \\cos\\left({\\theta}\\right)^{4} + 3 \\, a^{2} r^{4} \\cos\\left({\\theta}\\right)^{2} + r^{6}} \\\\ \\Gamma_{ \\phantom{\\, v} \\, r \\, {\\theta} }^{ \\, v \\phantom{\\, r} \\phantom{\\, {\\theta}} } & = & -\\frac{a^{2} \\cos\\left({\\theta}\\right) \\sin\\left({\\theta}\\right)}{a^{2} \\cos\\left({\\theta}\\right)^{2} + r^{2}} \\\\ \\Gamma_{ \\phantom{\\, v} \\, r \\, {\\phi} }^{ \\, v \\phantom{\\, r} \\phantom{\\, {\\phi}} } & = & \\frac{a r \\sin\\left({\\theta}\\right)^{2}}{a^{2} \\cos\\left({\\theta}\\right)^{2} + r^{2}} \\\\ \\Gamma_{ \\phantom{\\, v} \\, {\\theta} \\, {\\theta} }^{ \\, v \\phantom{\\, {\\theta}} \\phantom{\\, {\\theta}} } & = & -\\frac{a^{2} r + r^{3}}{a^{2} \\cos\\left({\\theta}\\right)^{2} + r^{2}} \\\\ \\Gamma_{ \\phantom{\\, v} \\, {\\theta} \\, {\\phi} }^{ \\, v \\phantom{\\, {\\theta}} \\phantom{\\, {\\phi}} } & = & -\\frac{2 \\, {\\left(a^{5} m r \\cos\\left({\\theta}\\right) \\sin\\left({\\theta}\\right)^{5} - {\\left(a^{5} m r + a^{3} m r^{3}\\right)} \\cos\\left({\\theta}\\right) \\sin\\left({\\theta}\\right)^{3}\\right)}}{a^{6} \\cos\\left({\\theta}\\right)^{6} + 3 \\, a^{4} r^{2} \\cos\\left({\\theta}\\right)^{4} + 3 \\, a^{2} r^{4} \\cos\\left({\\theta}\\right)^{2} + r^{6}} \\\\ \\Gamma_{ \\phantom{\\, v} \\, {\\phi} \\, {\\phi} }^{ \\, v \\phantom{\\, {\\phi}} \\phantom{\\, {\\phi}} } & = & \\frac{{\\left(a^{4} m r^{2} + a^{2} m r^{4} - {\\left(a^{6} m + a^{4} m r^{2}\\right)} \\cos\\left({\\theta}\\right)^{2}\\right)} \\sin\\left({\\theta}\\right)^{4} - {\\left(a^{2} r^{5} + r^{7} + {\\left(a^{6} r + a^{4} r^{3}\\right)} \\cos\\left({\\theta}\\right)^{4} + 2 \\, {\\left(a^{4} r^{3} + a^{2} r^{5}\\right)} \\cos\\left({\\theta}\\right)^{2}\\right)} \\sin\\left({\\theta}\\right)^{2}}{a^{6} \\cos\\left({\\theta}\\right)^{6} + 3 \\, a^{4} r^{2} \\cos\\left({\\theta}\\right)^{4} + 3 \\, a^{2} r^{4} \\cos\\left({\\theta}\\right)^{2} + r^{6}} \\\\ \\Gamma_{ \\phantom{\\, r} \\, v \\, v }^{ \\, r \\phantom{\\, v} \\phantom{\\, v} } & = & \\frac{a^{2} m r^{2} - 2 \\, m^{2} r^{3} + m r^{4} - {\\left(a^{4} m - 2 \\, a^{2} m^{2} r + a^{2} m r^{2}\\right)} \\cos\\left({\\theta}\\right)^{2}}{a^{6} \\cos\\left({\\theta}\\right)^{6} + 3 \\, a^{4} r^{2} \\cos\\left({\\theta}\\right)^{4} + 3 \\, a^{2} r^{4} \\cos\\left({\\theta}\\right)^{2} + r^{6}} \\\\ \\Gamma_{ \\phantom{\\, r} \\, v \\, r }^{ \\, r \\phantom{\\, v} \\phantom{\\, r} } & = & \\frac{a^{2} m \\cos\\left({\\theta}\\right)^{2} - m r^{2}}{a^{4} \\cos\\left({\\theta}\\right)^{4} + 2 \\, a^{2} r^{2} \\cos\\left({\\theta}\\right)^{2} + r^{4}} \\\\ \\Gamma_{ \\phantom{\\, r} \\, v \\, {\\phi} }^{ \\, r \\phantom{\\, v} \\phantom{\\, {\\phi}} } & = & -\\frac{{\\left(a^{3} m r^{2} - 2 \\, a m^{2} r^{3} + a m r^{4} - {\\left(a^{5} m - 2 \\, a^{3} m^{2} r + a^{3} m r^{2}\\right)} \\cos\\left({\\theta}\\right)^{2}\\right)} \\sin\\left({\\theta}\\right)^{2}}{a^{6} \\cos\\left({\\theta}\\right)^{6} + 3 \\, a^{4} r^{2} \\cos\\left({\\theta}\\right)^{4} + 3 \\, a^{2} r^{4} \\cos\\left({\\theta}\\right)^{2} + r^{6}} \\\\ \\Gamma_{ \\phantom{\\, r} \\, r \\, {\\theta} }^{ \\, r \\phantom{\\, r} \\phantom{\\, {\\theta}} } & = & -\\frac{a^{2} \\cos\\left({\\theta}\\right) \\sin\\left({\\theta}\\right)}{a^{2} \\cos\\left({\\theta}\\right)^{2} + r^{2}} \\\\ \\Gamma_{ \\phantom{\\, r} \\, r \\, {\\phi} }^{ \\, r \\phantom{\\, r} \\phantom{\\, {\\phi}} } & = & \\frac{{\\left(a^{5} m \\cos\\left({\\theta}\\right)^{2} + a^{5} m\\right)} \\sin\\left({\\theta}\\right)^{4} + {\\left(a^{5} r \\cos\\left({\\theta}\\right)^{4} + 2 \\, a^{3} r^{3} \\cos\\left({\\theta}\\right)^{2} - a^{5} m + a m r^{4} + a r^{5}\\right)} \\sin\\left({\\theta}\\right)^{2}}{a^{6} \\cos\\left({\\theta}\\right)^{6} + 3 \\, a^{4} r^{2} \\cos\\left({\\theta}\\right)^{4} + 3 \\, a^{2} r^{4} \\cos\\left({\\theta}\\right)^{2} + r^{6}} \\\\ \\Gamma_{ \\phantom{\\, r} \\, {\\theta} \\, {\\theta} }^{ \\, r \\phantom{\\, {\\theta}} \\phantom{\\, {\\theta}} } & = & -\\frac{a^{2} r - 2 \\, m r^{2} + r^{3}}{a^{2} \\cos\\left({\\theta}\\right)^{2} + r^{2}} \\\\ \\Gamma_{ \\phantom{\\, r} \\, {\\phi} \\, {\\phi} }^{ \\, r \\phantom{\\, {\\phi}} \\phantom{\\, {\\phi}} } & = & \\frac{{\\left(a^{4} m r^{2} - 2 \\, a^{2} m^{2} r^{3} + a^{2} m r^{4} - {\\left(a^{6} m - 2 \\, a^{4} m^{2} r + a^{4} m r^{2}\\right)} \\cos\\left({\\theta}\\right)^{2}\\right)} \\sin\\left({\\theta}\\right)^{4} - {\\left(a^{2} r^{5} - 2 \\, m r^{6} + r^{7} + {\\left(a^{6} r - 2 \\, a^{4} m r^{2} + a^{4} r^{3}\\right)} \\cos\\left({\\theta}\\right)^{4} + 2 \\, {\\left(a^{4} r^{3} - 2 \\, a^{2} m r^{4} + a^{2} r^{5}\\right)} \\cos\\left({\\theta}\\right)^{2}\\right)} \\sin\\left({\\theta}\\right)^{2}}{a^{6} \\cos\\left({\\theta}\\right)^{6} + 3 \\, a^{4} r^{2} \\cos\\left({\\theta}\\right)^{4} + 3 \\, a^{2} r^{4} \\cos\\left({\\theta}\\right)^{2} + r^{6}} \\\\ \\Gamma_{ \\phantom{\\, {\\theta}} \\, v \\, v }^{ \\, {\\theta} \\phantom{\\, v} \\phantom{\\, v} } & = & -\\frac{2 \\, a^{2} m r \\cos\\left({\\theta}\\right) \\sin\\left({\\theta}\\right)}{a^{6} \\cos\\left({\\theta}\\right)^{6} + 3 \\, a^{4} r^{2} \\cos\\left({\\theta}\\right)^{4} + 3 \\, a^{2} r^{4} \\cos\\left({\\theta}\\right)^{2} + r^{6}} \\\\ \\Gamma_{ \\phantom{\\, {\\theta}} \\, v \\, {\\phi} }^{ \\, {\\theta} \\phantom{\\, v} \\phantom{\\, {\\phi}} } & = & \\frac{2 \\, {\\left(a^{3} m r + a m r^{3}\\right)} \\cos\\left({\\theta}\\right) \\sin\\left({\\theta}\\right)}{a^{6} \\cos\\left({\\theta}\\right)^{6} + 3 \\, a^{4} r^{2} \\cos\\left({\\theta}\\right)^{4} + 3 \\, a^{2} r^{4} \\cos\\left({\\theta}\\right)^{2} + r^{6}} \\\\ \\Gamma_{ \\phantom{\\, {\\theta}} \\, r \\, {\\theta} }^{ \\, {\\theta} \\phantom{\\, r} \\phantom{\\, {\\theta}} } & = & \\frac{r}{a^{2} \\cos\\left({\\theta}\\right)^{2} + r^{2}} \\\\ \\Gamma_{ \\phantom{\\, {\\theta}} \\, r \\, {\\phi} }^{ \\, {\\theta} \\phantom{\\, r} \\phantom{\\, {\\phi}} } & = & \\frac{a \\cos\\left({\\theta}\\right) \\sin\\left({\\theta}\\right)}{a^{2} \\cos\\left({\\theta}\\right)^{2} + r^{2}} \\\\ \\Gamma_{ \\phantom{\\, {\\theta}} \\, {\\theta} \\, {\\theta} }^{ \\, {\\theta} \\phantom{\\, {\\theta}} \\phantom{\\, {\\theta}} } & = & -\\frac{a^{2} \\cos\\left({\\theta}\\right) \\sin\\left({\\theta}\\right)}{a^{2} \\cos\\left({\\theta}\\right)^{2} + r^{2}} \\\\ \\Gamma_{ \\phantom{\\, {\\theta}} \\, {\\phi} \\, {\\phi} }^{ \\, {\\theta} \\phantom{\\, {\\phi}} \\phantom{\\, {\\phi}} } & = & -\\frac{{\\left({\\left(a^{6} - 2 \\, a^{4} m r + a^{4} r^{2}\\right)} \\cos\\left({\\theta}\\right)^{5} + 2 \\, {\\left(a^{4} r^{2} - 2 \\, a^{2} m r^{3} + a^{2} r^{4}\\right)} \\cos\\left({\\theta}\\right)^{3} + {\\left(2 \\, a^{4} m r + 4 \\, a^{2} m r^{3} + a^{2} r^{4} + r^{6}\\right)} \\cos\\left({\\theta}\\right)\\right)} \\sin\\left({\\theta}\\right)}{a^{6} \\cos\\left({\\theta}\\right)^{6} + 3 \\, a^{4} r^{2} \\cos\\left({\\theta}\\right)^{4} + 3 \\, a^{2} r^{4} \\cos\\left({\\theta}\\right)^{2} + r^{6}} \\\\ \\Gamma_{ \\phantom{\\, {\\phi}} \\, v \\, v }^{ \\, {\\phi} \\phantom{\\, v} \\phantom{\\, v} } & = & -\\frac{a^{3} m \\cos\\left({\\theta}\\right)^{2} - a m r^{2}}{a^{6} \\cos\\left({\\theta}\\right)^{6} + 3 \\, a^{4} r^{2} \\cos\\left({\\theta}\\right)^{4} + 3 \\, a^{2} r^{4} \\cos\\left({\\theta}\\right)^{2} + r^{6}} \\\\ \\Gamma_{ \\phantom{\\, {\\phi}} \\, v \\, {\\theta} }^{ \\, {\\phi} \\phantom{\\, v} \\phantom{\\, {\\theta}} } & = & -\\frac{2 \\, a m r \\cos\\left({\\theta}\\right)}{{\\left(a^{4} \\cos\\left({\\theta}\\right)^{4} + 2 \\, a^{2} r^{2} \\cos\\left({\\theta}\\right)^{2} + r^{4}\\right)} \\sin\\left({\\theta}\\right)} \\\\ \\Gamma_{ \\phantom{\\, {\\phi}} \\, v \\, {\\phi} }^{ \\, {\\phi} \\phantom{\\, v} \\phantom{\\, {\\phi}} } & = & \\frac{{\\left(a^{4} m \\cos\\left({\\theta}\\right)^{2} - a^{2} m r^{2}\\right)} \\sin\\left({\\theta}\\right)^{2}}{a^{6} \\cos\\left({\\theta}\\right)^{6} + 3 \\, a^{4} r^{2} \\cos\\left({\\theta}\\right)^{4} + 3 \\, a^{2} r^{4} \\cos\\left({\\theta}\\right)^{2} + r^{6}} \\\\ \\Gamma_{ \\phantom{\\, {\\phi}} \\, r \\, {\\theta} }^{ \\, {\\phi} \\phantom{\\, r} \\phantom{\\, {\\theta}} } & = & -\\frac{a \\cos\\left({\\theta}\\right)}{{\\left(a^{2} \\cos\\left({\\theta}\\right)^{2} + r^{2}\\right)} \\sin\\left({\\theta}\\right)} \\\\ \\Gamma_{ \\phantom{\\, {\\phi}} \\, r \\, {\\phi} }^{ \\, {\\phi} \\phantom{\\, r} \\phantom{\\, {\\phi}} } & = & \\frac{r}{a^{2} \\cos\\left({\\theta}\\right)^{2} + r^{2}} \\\\ \\Gamma_{ \\phantom{\\, {\\phi}} \\, {\\theta} \\, {\\theta} }^{ \\, {\\phi} \\phantom{\\, {\\theta}} \\phantom{\\, {\\theta}} } & = & -\\frac{a r}{a^{2} \\cos\\left({\\theta}\\right)^{2} + r^{2}} \\\\ \\Gamma_{ \\phantom{\\, {\\phi}} \\, {\\theta} \\, {\\phi} }^{ \\, {\\phi} \\phantom{\\, {\\theta}} \\phantom{\\, {\\phi}} } & = & \\frac{a^{4} \\cos\\left({\\theta}\\right)^{5} - 2 \\, {\\left(a^{2} m r - a^{2} r^{2}\\right)} \\cos\\left({\\theta}\\right)^{3} + {\\left(2 \\, a^{2} m r + r^{4}\\right)} \\cos\\left({\\theta}\\right)}{{\\left(a^{4} \\cos\\left({\\theta}\\right)^{4} + 2 \\, a^{2} r^{2} \\cos\\left({\\theta}\\right)^{2} + r^{4}\\right)} \\sin\\left({\\theta}\\right)} \\\\ \\Gamma_{ \\phantom{\\, {\\phi}} \\, {\\phi} \\, {\\phi} }^{ \\, {\\phi} \\phantom{\\, {\\phi}} \\phantom{\\, {\\phi}} } & = & -\\frac{{\\left(a^{5} m \\cos\\left({\\theta}\\right)^{2} - a^{3} m r^{2}\\right)} \\sin\\left({\\theta}\\right)^{4} + {\\left(a^{5} r \\cos\\left({\\theta}\\right)^{4} + 2 \\, a^{3} r^{3} \\cos\\left({\\theta}\\right)^{2} + a r^{5}\\right)} \\sin\\left({\\theta}\\right)^{2}}{a^{6} \\cos\\left({\\theta}\\right)^{6} + 3 \\, a^{4} r^{2} \\cos\\left({\\theta}\\right)^{4} + 3 \\, a^{2} r^{4} \\cos\\left({\\theta}\\right)^{2} + r^{6}} \\end{array}\\)</html>"
      ],
      "text/latex": [
       "$\\displaystyle \\begin{array}{lcl} \\Gamma_{ \\phantom{\\, v} \\, v \\, v }^{ \\, v \\phantom{\\, v} \\phantom{\\, v} } & = & -\\frac{a^{4} m - m r^{4} - {\\left(a^{4} m + a^{2} m r^{2}\\right)} \\sin\\left({\\theta}\\right)^{2}}{a^{6} \\cos\\left({\\theta}\\right)^{6} + 3 \\, a^{4} r^{2} \\cos\\left({\\theta}\\right)^{4} + 3 \\, a^{2} r^{4} \\cos\\left({\\theta}\\right)^{2} + r^{6}} \\\\ \\Gamma_{ \\phantom{\\, v} \\, v \\, {\\theta} }^{ \\, v \\phantom{\\, v} \\phantom{\\, {\\theta}} } & = & -\\frac{2 \\, a^{2} m r \\cos\\left({\\theta}\\right) \\sin\\left({\\theta}\\right)}{a^{4} \\cos\\left({\\theta}\\right)^{4} + 2 \\, a^{2} r^{2} \\cos\\left({\\theta}\\right)^{2} + r^{4}} \\\\ \\Gamma_{ \\phantom{\\, v} \\, v \\, {\\phi} }^{ \\, v \\phantom{\\, v} \\phantom{\\, {\\phi}} } & = & -\\frac{{\\left(a^{5} m + a^{3} m r^{2}\\right)} \\sin\\left({\\theta}\\right)^{4} - {\\left(a^{5} m - a m r^{4}\\right)} \\sin\\left({\\theta}\\right)^{2}}{a^{6} \\cos\\left({\\theta}\\right)^{6} + 3 \\, a^{4} r^{2} \\cos\\left({\\theta}\\right)^{4} + 3 \\, a^{2} r^{4} \\cos\\left({\\theta}\\right)^{2} + r^{6}} \\\\ \\Gamma_{ \\phantom{\\, v} \\, r \\, {\\theta} }^{ \\, v \\phantom{\\, r} \\phantom{\\, {\\theta}} } & = & -\\frac{a^{2} \\cos\\left({\\theta}\\right) \\sin\\left({\\theta}\\right)}{a^{2} \\cos\\left({\\theta}\\right)^{2} + r^{2}} \\\\ \\Gamma_{ \\phantom{\\, v} \\, r \\, {\\phi} }^{ \\, v \\phantom{\\, r} \\phantom{\\, {\\phi}} } & = & \\frac{a r \\sin\\left({\\theta}\\right)^{2}}{a^{2} \\cos\\left({\\theta}\\right)^{2} + r^{2}} \\\\ \\Gamma_{ \\phantom{\\, v} \\, {\\theta} \\, {\\theta} }^{ \\, v \\phantom{\\, {\\theta}} \\phantom{\\, {\\theta}} } & = & -\\frac{a^{2} r + r^{3}}{a^{2} \\cos\\left({\\theta}\\right)^{2} + r^{2}} \\\\ \\Gamma_{ \\phantom{\\, v} \\, {\\theta} \\, {\\phi} }^{ \\, v \\phantom{\\, {\\theta}} \\phantom{\\, {\\phi}} } & = & -\\frac{2 \\, {\\left(a^{5} m r \\cos\\left({\\theta}\\right) \\sin\\left({\\theta}\\right)^{5} - {\\left(a^{5} m r + a^{3} m r^{3}\\right)} \\cos\\left({\\theta}\\right) \\sin\\left({\\theta}\\right)^{3}\\right)}}{a^{6} \\cos\\left({\\theta}\\right)^{6} + 3 \\, a^{4} r^{2} \\cos\\left({\\theta}\\right)^{4} + 3 \\, a^{2} r^{4} \\cos\\left({\\theta}\\right)^{2} + r^{6}} \\\\ \\Gamma_{ \\phantom{\\, v} \\, {\\phi} \\, {\\phi} }^{ \\, v \\phantom{\\, {\\phi}} \\phantom{\\, {\\phi}} } & = & \\frac{{\\left(a^{4} m r^{2} + a^{2} m r^{4} - {\\left(a^{6} m + a^{4} m r^{2}\\right)} \\cos\\left({\\theta}\\right)^{2}\\right)} \\sin\\left({\\theta}\\right)^{4} - {\\left(a^{2} r^{5} + r^{7} + {\\left(a^{6} r + a^{4} r^{3}\\right)} \\cos\\left({\\theta}\\right)^{4} + 2 \\, {\\left(a^{4} r^{3} + a^{2} r^{5}\\right)} \\cos\\left({\\theta}\\right)^{2}\\right)} \\sin\\left({\\theta}\\right)^{2}}{a^{6} \\cos\\left({\\theta}\\right)^{6} + 3 \\, a^{4} r^{2} \\cos\\left({\\theta}\\right)^{4} + 3 \\, a^{2} r^{4} \\cos\\left({\\theta}\\right)^{2} + r^{6}} \\\\ \\Gamma_{ \\phantom{\\, r} \\, v \\, v }^{ \\, r \\phantom{\\, v} \\phantom{\\, v} } & = & \\frac{a^{2} m r^{2} - 2 \\, m^{2} r^{3} + m r^{4} - {\\left(a^{4} m - 2 \\, a^{2} m^{2} r + a^{2} m r^{2}\\right)} \\cos\\left({\\theta}\\right)^{2}}{a^{6} \\cos\\left({\\theta}\\right)^{6} + 3 \\, a^{4} r^{2} \\cos\\left({\\theta}\\right)^{4} + 3 \\, a^{2} r^{4} \\cos\\left({\\theta}\\right)^{2} + r^{6}} \\\\ \\Gamma_{ \\phantom{\\, r} \\, v \\, r }^{ \\, r \\phantom{\\, v} \\phantom{\\, r} } & = & \\frac{a^{2} m \\cos\\left({\\theta}\\right)^{2} - m r^{2}}{a^{4} \\cos\\left({\\theta}\\right)^{4} + 2 \\, a^{2} r^{2} \\cos\\left({\\theta}\\right)^{2} + r^{4}} \\\\ \\Gamma_{ \\phantom{\\, r} \\, v \\, {\\phi} }^{ \\, r \\phantom{\\, v} \\phantom{\\, {\\phi}} } & = & -\\frac{{\\left(a^{3} m r^{2} - 2 \\, a m^{2} r^{3} + a m r^{4} - {\\left(a^{5} m - 2 \\, a^{3} m^{2} r + a^{3} m r^{2}\\right)} \\cos\\left({\\theta}\\right)^{2}\\right)} \\sin\\left({\\theta}\\right)^{2}}{a^{6} \\cos\\left({\\theta}\\right)^{6} + 3 \\, a^{4} r^{2} \\cos\\left({\\theta}\\right)^{4} + 3 \\, a^{2} r^{4} \\cos\\left({\\theta}\\right)^{2} + r^{6}} \\\\ \\Gamma_{ \\phantom{\\, r} \\, r \\, {\\theta} }^{ \\, r \\phantom{\\, r} \\phantom{\\, {\\theta}} } & = & -\\frac{a^{2} \\cos\\left({\\theta}\\right) \\sin\\left({\\theta}\\right)}{a^{2} \\cos\\left({\\theta}\\right)^{2} + r^{2}} \\\\ \\Gamma_{ \\phantom{\\, r} \\, r \\, {\\phi} }^{ \\, r \\phantom{\\, r} \\phantom{\\, {\\phi}} } & = & \\frac{{\\left(a^{5} m \\cos\\left({\\theta}\\right)^{2} + a^{5} m\\right)} \\sin\\left({\\theta}\\right)^{4} + {\\left(a^{5} r \\cos\\left({\\theta}\\right)^{4} + 2 \\, a^{3} r^{3} \\cos\\left({\\theta}\\right)^{2} - a^{5} m + a m r^{4} + a r^{5}\\right)} \\sin\\left({\\theta}\\right)^{2}}{a^{6} \\cos\\left({\\theta}\\right)^{6} + 3 \\, a^{4} r^{2} \\cos\\left({\\theta}\\right)^{4} + 3 \\, a^{2} r^{4} \\cos\\left({\\theta}\\right)^{2} + r^{6}} \\\\ \\Gamma_{ \\phantom{\\, r} \\, {\\theta} \\, {\\theta} }^{ \\, r \\phantom{\\, {\\theta}} \\phantom{\\, {\\theta}} } & = & -\\frac{a^{2} r - 2 \\, m r^{2} + r^{3}}{a^{2} \\cos\\left({\\theta}\\right)^{2} + r^{2}} \\\\ \\Gamma_{ \\phantom{\\, r} \\, {\\phi} \\, {\\phi} }^{ \\, r \\phantom{\\, {\\phi}} \\phantom{\\, {\\phi}} } & = & \\frac{{\\left(a^{4} m r^{2} - 2 \\, a^{2} m^{2} r^{3} + a^{2} m r^{4} - {\\left(a^{6} m - 2 \\, a^{4} m^{2} r + a^{4} m r^{2}\\right)} \\cos\\left({\\theta}\\right)^{2}\\right)} \\sin\\left({\\theta}\\right)^{4} - {\\left(a^{2} r^{5} - 2 \\, m r^{6} + r^{7} + {\\left(a^{6} r - 2 \\, a^{4} m r^{2} + a^{4} r^{3}\\right)} \\cos\\left({\\theta}\\right)^{4} + 2 \\, {\\left(a^{4} r^{3} - 2 \\, a^{2} m r^{4} + a^{2} r^{5}\\right)} \\cos\\left({\\theta}\\right)^{2}\\right)} \\sin\\left({\\theta}\\right)^{2}}{a^{6} \\cos\\left({\\theta}\\right)^{6} + 3 \\, a^{4} r^{2} \\cos\\left({\\theta}\\right)^{4} + 3 \\, a^{2} r^{4} \\cos\\left({\\theta}\\right)^{2} + r^{6}} \\\\ \\Gamma_{ \\phantom{\\, {\\theta}} \\, v \\, v }^{ \\, {\\theta} \\phantom{\\, v} \\phantom{\\, v} } & = & -\\frac{2 \\, a^{2} m r \\cos\\left({\\theta}\\right) \\sin\\left({\\theta}\\right)}{a^{6} \\cos\\left({\\theta}\\right)^{6} + 3 \\, a^{4} r^{2} \\cos\\left({\\theta}\\right)^{4} + 3 \\, a^{2} r^{4} \\cos\\left({\\theta}\\right)^{2} + r^{6}} \\\\ \\Gamma_{ \\phantom{\\, {\\theta}} \\, v \\, {\\phi} }^{ \\, {\\theta} \\phantom{\\, v} \\phantom{\\, {\\phi}} } & = & \\frac{2 \\, {\\left(a^{3} m r + a m r^{3}\\right)} \\cos\\left({\\theta}\\right) \\sin\\left({\\theta}\\right)}{a^{6} \\cos\\left({\\theta}\\right)^{6} + 3 \\, a^{4} r^{2} \\cos\\left({\\theta}\\right)^{4} + 3 \\, a^{2} r^{4} \\cos\\left({\\theta}\\right)^{2} + r^{6}} \\\\ \\Gamma_{ \\phantom{\\, {\\theta}} \\, r \\, {\\theta} }^{ \\, {\\theta} \\phantom{\\, r} \\phantom{\\, {\\theta}} } & = & \\frac{r}{a^{2} \\cos\\left({\\theta}\\right)^{2} + r^{2}} \\\\ \\Gamma_{ \\phantom{\\, {\\theta}} \\, r \\, {\\phi} }^{ \\, {\\theta} \\phantom{\\, r} \\phantom{\\, {\\phi}} } & = & \\frac{a \\cos\\left({\\theta}\\right) \\sin\\left({\\theta}\\right)}{a^{2} \\cos\\left({\\theta}\\right)^{2} + r^{2}} \\\\ \\Gamma_{ \\phantom{\\, {\\theta}} \\, {\\theta} \\, {\\theta} }^{ \\, {\\theta} \\phantom{\\, {\\theta}} \\phantom{\\, {\\theta}} } & = & -\\frac{a^{2} \\cos\\left({\\theta}\\right) \\sin\\left({\\theta}\\right)}{a^{2} \\cos\\left({\\theta}\\right)^{2} + r^{2}} \\\\ \\Gamma_{ \\phantom{\\, {\\theta}} \\, {\\phi} \\, {\\phi} }^{ \\, {\\theta} \\phantom{\\, {\\phi}} \\phantom{\\, {\\phi}} } & = & -\\frac{{\\left({\\left(a^{6} - 2 \\, a^{4} m r + a^{4} r^{2}\\right)} \\cos\\left({\\theta}\\right)^{5} + 2 \\, {\\left(a^{4} r^{2} - 2 \\, a^{2} m r^{3} + a^{2} r^{4}\\right)} \\cos\\left({\\theta}\\right)^{3} + {\\left(2 \\, a^{4} m r + 4 \\, a^{2} m r^{3} + a^{2} r^{4} + r^{6}\\right)} \\cos\\left({\\theta}\\right)\\right)} \\sin\\left({\\theta}\\right)}{a^{6} \\cos\\left({\\theta}\\right)^{6} + 3 \\, a^{4} r^{2} \\cos\\left({\\theta}\\right)^{4} + 3 \\, a^{2} r^{4} \\cos\\left({\\theta}\\right)^{2} + r^{6}} \\\\ \\Gamma_{ \\phantom{\\, {\\phi}} \\, v \\, v }^{ \\, {\\phi} \\phantom{\\, v} \\phantom{\\, v} } & = & -\\frac{a^{3} m \\cos\\left({\\theta}\\right)^{2} - a m r^{2}}{a^{6} \\cos\\left({\\theta}\\right)^{6} + 3 \\, a^{4} r^{2} \\cos\\left({\\theta}\\right)^{4} + 3 \\, a^{2} r^{4} \\cos\\left({\\theta}\\right)^{2} + r^{6}} \\\\ \\Gamma_{ \\phantom{\\, {\\phi}} \\, v \\, {\\theta} }^{ \\, {\\phi} \\phantom{\\, v} \\phantom{\\, {\\theta}} } & = & -\\frac{2 \\, a m r \\cos\\left({\\theta}\\right)}{{\\left(a^{4} \\cos\\left({\\theta}\\right)^{4} + 2 \\, a^{2} r^{2} \\cos\\left({\\theta}\\right)^{2} + r^{4}\\right)} \\sin\\left({\\theta}\\right)} \\\\ \\Gamma_{ \\phantom{\\, {\\phi}} \\, v \\, {\\phi} }^{ \\, {\\phi} \\phantom{\\, v} \\phantom{\\, {\\phi}} } & = & \\frac{{\\left(a^{4} m \\cos\\left({\\theta}\\right)^{2} - a^{2} m r^{2}\\right)} \\sin\\left({\\theta}\\right)^{2}}{a^{6} \\cos\\left({\\theta}\\right)^{6} + 3 \\, a^{4} r^{2} \\cos\\left({\\theta}\\right)^{4} + 3 \\, a^{2} r^{4} \\cos\\left({\\theta}\\right)^{2} + r^{6}} \\\\ \\Gamma_{ \\phantom{\\, {\\phi}} \\, r \\, {\\theta} }^{ \\, {\\phi} \\phantom{\\, r} \\phantom{\\, {\\theta}} } & = & -\\frac{a \\cos\\left({\\theta}\\right)}{{\\left(a^{2} \\cos\\left({\\theta}\\right)^{2} + r^{2}\\right)} \\sin\\left({\\theta}\\right)} \\\\ \\Gamma_{ \\phantom{\\, {\\phi}} \\, r \\, {\\phi} }^{ \\, {\\phi} \\phantom{\\, r} \\phantom{\\, {\\phi}} } & = & \\frac{r}{a^{2} \\cos\\left({\\theta}\\right)^{2} + r^{2}} \\\\ \\Gamma_{ \\phantom{\\, {\\phi}} \\, {\\theta} \\, {\\theta} }^{ \\, {\\phi} \\phantom{\\, {\\theta}} \\phantom{\\, {\\theta}} } & = & -\\frac{a r}{a^{2} \\cos\\left({\\theta}\\right)^{2} + r^{2}} \\\\ \\Gamma_{ \\phantom{\\, {\\phi}} \\, {\\theta} \\, {\\phi} }^{ \\, {\\phi} \\phantom{\\, {\\theta}} \\phantom{\\, {\\phi}} } & = & \\frac{a^{4} \\cos\\left({\\theta}\\right)^{5} - 2 \\, {\\left(a^{2} m r - a^{2} r^{2}\\right)} \\cos\\left({\\theta}\\right)^{3} + {\\left(2 \\, a^{2} m r + r^{4}\\right)} \\cos\\left({\\theta}\\right)}{{\\left(a^{4} \\cos\\left({\\theta}\\right)^{4} + 2 \\, a^{2} r^{2} \\cos\\left({\\theta}\\right)^{2} + r^{4}\\right)} \\sin\\left({\\theta}\\right)} \\\\ \\Gamma_{ \\phantom{\\, {\\phi}} \\, {\\phi} \\, {\\phi} }^{ \\, {\\phi} \\phantom{\\, {\\phi}} \\phantom{\\, {\\phi}} } & = & -\\frac{{\\left(a^{5} m \\cos\\left({\\theta}\\right)^{2} - a^{3} m r^{2}\\right)} \\sin\\left({\\theta}\\right)^{4} + {\\left(a^{5} r \\cos\\left({\\theta}\\right)^{4} + 2 \\, a^{3} r^{3} \\cos\\left({\\theta}\\right)^{2} + a r^{5}\\right)} \\sin\\left({\\theta}\\right)^{2}}{a^{6} \\cos\\left({\\theta}\\right)^{6} + 3 \\, a^{4} r^{2} \\cos\\left({\\theta}\\right)^{4} + 3 \\, a^{2} r^{4} \\cos\\left({\\theta}\\right)^{2} + r^{6}} \\end{array}$"
      ],
      "text/plain": [
       "Gam^v_v,v = -(a^4*m - m*r^4 - (a^4*m + a^2*m*r^2)*sin(th)^2)/(a^6*cos(th)^6 + 3*a^4*r^2*cos(th)^4 + 3*a^2*r^4*cos(th)^2 + r^6) \n",
       "Gam^v_v,th = -2*a^2*m*r*cos(th)*sin(th)/(a^4*cos(th)^4 + 2*a^2*r^2*cos(th)^2 + r^4) \n",
       "Gam^v_v,ph = -((a^5*m + a^3*m*r^2)*sin(th)^4 - (a^5*m - a*m*r^4)*sin(th)^2)/(a^6*cos(th)^6 + 3*a^4*r^2*cos(th)^4 + 3*a^2*r^4*cos(th)^2 + r^6) \n",
       "Gam^v_r,th = -a^2*cos(th)*sin(th)/(a^2*cos(th)^2 + r^2) \n",
       "Gam^v_r,ph = a*r*sin(th)^2/(a^2*cos(th)^2 + r^2) \n",
       "Gam^v_th,th = -(a^2*r + r^3)/(a^2*cos(th)^2 + r^2) \n",
       "Gam^v_th,ph = -2*(a^5*m*r*cos(th)*sin(th)^5 - (a^5*m*r + a^3*m*r^3)*cos(th)*sin(th)^3)/(a^6*cos(th)^6 + 3*a^4*r^2*cos(th)^4 + 3*a^2*r^4*cos(th)^2 + r^6) \n",
       "Gam^v_ph,ph = ((a^4*m*r^2 + a^2*m*r^4 - (a^6*m + a^4*m*r^2)*cos(th)^2)*sin(th)^4 - (a^2*r^5 + r^7 + (a^6*r + a^4*r^3)*cos(th)^4 + 2*(a^4*r^3 + a^2*r^5)*cos(th)^2)*sin(th)^2)/(a^6*cos(th)^6 + 3*a^4*r^2*cos(th)^4 + 3*a^2*r^4*cos(th)^2 + r^6) \n",
       "Gam^r_v,v = (a^2*m*r^2 - 2*m^2*r^3 + m*r^4 - (a^4*m - 2*a^2*m^2*r + a^2*m*r^2)*cos(th)^2)/(a^6*cos(th)^6 + 3*a^4*r^2*cos(th)^4 + 3*a^2*r^4*cos(th)^2 + r^6) \n",
       "Gam^r_v,r = (a^2*m*cos(th)^2 - m*r^2)/(a^4*cos(th)^4 + 2*a^2*r^2*cos(th)^2 + r^4) \n",
       "Gam^r_v,ph = -(a^3*m*r^2 - 2*a*m^2*r^3 + a*m*r^4 - (a^5*m - 2*a^3*m^2*r + a^3*m*r^2)*cos(th)^2)*sin(th)^2/(a^6*cos(th)^6 + 3*a^4*r^2*cos(th)^4 + 3*a^2*r^4*cos(th)^2 + r^6) \n",
       "Gam^r_r,th = -a^2*cos(th)*sin(th)/(a^2*cos(th)^2 + r^2) \n",
       "Gam^r_r,ph = ((a^5*m*cos(th)^2 + a^5*m)*sin(th)^4 + (a^5*r*cos(th)^4 + 2*a^3*r^3*cos(th)^2 - a^5*m + a*m*r^4 + a*r^5)*sin(th)^2)/(a^6*cos(th)^6 + 3*a^4*r^2*cos(th)^4 + 3*a^2*r^4*cos(th)^2 + r^6) \n",
       "Gam^r_th,th = -(a^2*r - 2*m*r^2 + r^3)/(a^2*cos(th)^2 + r^2) \n",
       "Gam^r_ph,ph = ((a^4*m*r^2 - 2*a^2*m^2*r^3 + a^2*m*r^4 - (a^6*m - 2*a^4*m^2*r + a^4*m*r^2)*cos(th)^2)*sin(th)^4 - (a^2*r^5 - 2*m*r^6 + r^7 + (a^6*r - 2*a^4*m*r^2 + a^4*r^3)*cos(th)^4 + 2*(a^4*r^3 - 2*a^2*m*r^4 + a^2*r^5)*cos(th)^2)*sin(th)^2)/(a^6*cos(th)^6 + 3*a^4*r^2*cos(th)^4 + 3*a^2*r^4*cos(th)^2 + r^6) \n",
       "Gam^th_v,v = -2*a^2*m*r*cos(th)*sin(th)/(a^6*cos(th)^6 + 3*a^4*r^2*cos(th)^4 + 3*a^2*r^4*cos(th)^2 + r^6) \n",
       "Gam^th_v,ph = 2*(a^3*m*r + a*m*r^3)*cos(th)*sin(th)/(a^6*cos(th)^6 + 3*a^4*r^2*cos(th)^4 + 3*a^2*r^4*cos(th)^2 + r^6) \n",
       "Gam^th_r,th = r/(a^2*cos(th)^2 + r^2) \n",
       "Gam^th_r,ph = a*cos(th)*sin(th)/(a^2*cos(th)^2 + r^2) \n",
       "Gam^th_th,th = -a^2*cos(th)*sin(th)/(a^2*cos(th)^2 + r^2) \n",
       "Gam^th_ph,ph = -((a^6 - 2*a^4*m*r + a^4*r^2)*cos(th)^5 + 2*(a^4*r^2 - 2*a^2*m*r^3 + a^2*r^4)*cos(th)^3 + (2*a^4*m*r + 4*a^2*m*r^3 + a^2*r^4 + r^6)*cos(th))*sin(th)/(a^6*cos(th)^6 + 3*a^4*r^2*cos(th)^4 + 3*a^2*r^4*cos(th)^2 + r^6) \n",
       "Gam^ph_v,v = -(a^3*m*cos(th)^2 - a*m*r^2)/(a^6*cos(th)^6 + 3*a^4*r^2*cos(th)^4 + 3*a^2*r^4*cos(th)^2 + r^6) \n",
       "Gam^ph_v,th = -2*a*m*r*cos(th)/((a^4*cos(th)^4 + 2*a^2*r^2*cos(th)^2 + r^4)*sin(th)) \n",
       "Gam^ph_v,ph = (a^4*m*cos(th)^2 - a^2*m*r^2)*sin(th)^2/(a^6*cos(th)^6 + 3*a^4*r^2*cos(th)^4 + 3*a^2*r^4*cos(th)^2 + r^6) \n",
       "Gam^ph_r,th = -a*cos(th)/((a^2*cos(th)^2 + r^2)*sin(th)) \n",
       "Gam^ph_r,ph = r/(a^2*cos(th)^2 + r^2) \n",
       "Gam^ph_th,th = -a*r/(a^2*cos(th)^2 + r^2) \n",
       "Gam^ph_th,ph = (a^4*cos(th)^5 - 2*(a^2*m*r - a^2*r^2)*cos(th)^3 + (2*a^2*m*r + r^4)*cos(th))/((a^4*cos(th)^4 + 2*a^2*r^2*cos(th)^2 + r^4)*sin(th)) \n",
       "Gam^ph_ph,ph = -((a^5*m*cos(th)^2 - a^3*m*r^2)*sin(th)^4 + (a^5*r*cos(th)^4 + 2*a^3*r^3*cos(th)^2 + a*r^5)*sin(th)^2)/(a^6*cos(th)^6 + 3*a^4*r^2*cos(th)^4 + 3*a^2*r^4*cos(th)^2 + r^6) "
      ]
     },
     "execution_count": 14,
     "metadata": {},
     "output_type": "execute_result"
    }
   ],
   "source": [
    "g.christoffel_symbols_display()"
   ]
  },
  {
   "cell_type": "markdown",
   "metadata": {},
   "source": [
    "## Vector normal to the hypersurfaces $r=\\mathrm{const}$"
   ]
  },
  {
   "cell_type": "code",
   "execution_count": 15,
   "metadata": {},
   "outputs": [
    {
     "name": "stdout",
     "output_type": "stream",
     "text": [
      "1-form dr on the 4-dimensional Lorentzian manifold M\n"
     ]
    },
    {
     "data": {
      "text/html": [
       "<html>\\(\\displaystyle \\mathrm{d} r = \\mathrm{d} r\\)</html>"
      ],
      "text/latex": [
       "$\\displaystyle \\mathrm{d} r = \\mathrm{d} r$"
      ],
      "text/plain": [
       "dr = dr"
      ]
     },
     "execution_count": 15,
     "metadata": {},
     "output_type": "execute_result"
    }
   ],
   "source": [
    "dr = X.coframe()[1]\n",
    "print(dr)\n",
    "dr.display()"
   ]
  },
  {
   "cell_type": "code",
   "execution_count": 16,
   "metadata": {},
   "outputs": [
    {
     "name": "stdout",
     "output_type": "stream",
     "text": [
      "Vector field on the 4-dimensional Lorentzian manifold M\n"
     ]
    },
    {
     "data": {
      "text/html": [
       "<html>\\(\\displaystyle \\left( \\frac{a^{2} + r^{2}}{a^{2} \\cos\\left({\\theta}\\right)^{2} + r^{2}} \\right) \\frac{\\partial}{\\partial v } + \\left( \\frac{a^{2} - 2 \\, m r + r^{2}}{a^{2} \\cos\\left({\\theta}\\right)^{2} + r^{2}} \\right) \\frac{\\partial}{\\partial r } + \\left( \\frac{a}{a^{2} \\cos\\left({\\theta}\\right)^{2} + r^{2}} \\right) \\frac{\\partial}{\\partial {\\phi} }\\)</html>"
      ],
      "text/latex": [
       "$\\displaystyle \\left( \\frac{a^{2} + r^{2}}{a^{2} \\cos\\left({\\theta}\\right)^{2} + r^{2}} \\right) \\frac{\\partial}{\\partial v } + \\left( \\frac{a^{2} - 2 \\, m r + r^{2}}{a^{2} \\cos\\left({\\theta}\\right)^{2} + r^{2}} \\right) \\frac{\\partial}{\\partial r } + \\left( \\frac{a}{a^{2} \\cos\\left({\\theta}\\right)^{2} + r^{2}} \\right) \\frac{\\partial}{\\partial {\\phi} }$"
      ],
      "text/plain": [
       "(a^2 + r^2)/(a^2*cos(th)^2 + r^2) ∂/∂v + (a^2 - 2*m*r + r^2)/(a^2*cos(th)^2 + r^2) ∂/∂r + a/(a^2*cos(th)^2 + r^2) ∂/∂ph"
      ]
     },
     "execution_count": 16,
     "metadata": {},
     "output_type": "execute_result"
    }
   ],
   "source": [
    "nr = dr.up(g)\n",
    "print(nr)\n",
    "nr.display()"
   ]
  },
  {
   "cell_type": "code",
   "execution_count": 17,
   "metadata": {},
   "outputs": [
    {
     "data": {
      "text/html": [
       "<html>\\(\\displaystyle m + \\sqrt{-a^{2} + m^{2}}\\)</html>"
      ],
      "text/latex": [
       "$\\displaystyle m + \\sqrt{-a^{2} + m^{2}}$"
      ],
      "text/plain": [
       "m + sqrt(-a^2 + m^2)"
      ]
     },
     "execution_count": 17,
     "metadata": {},
     "output_type": "execute_result"
    }
   ],
   "source": [
    "assume(a^2<m^2)\n",
    "rp = m + sqrt(m^2-a^2)\n",
    "rp"
   ]
  },
  {
   "cell_type": "code",
   "execution_count": 18,
   "metadata": {},
   "outputs": [
    {
     "name": "stdout",
     "output_type": "stream",
     "text": [
      "Point p on the 4-dimensional Lorentzian manifold M\n"
     ]
    }
   ],
   "source": [
    "p = M.point(coords=(v,rp,th,ph), name='p')\n",
    "print(p)"
   ]
  },
  {
   "cell_type": "code",
   "execution_count": 19,
   "metadata": {},
   "outputs": [
    {
     "data": {
      "text/html": [
       "<html>\\(\\displaystyle \\left(v, m + \\sqrt{-a^{2} + m^{2}}, {\\theta}, {\\phi}\\right)\\)</html>"
      ],
      "text/latex": [
       "$\\displaystyle \\left(v, m + \\sqrt{-a^{2} + m^{2}}, {\\theta}, {\\phi}\\right)$"
      ],
      "text/plain": [
       "(v, m + sqrt(-a^2 + m^2), th, ph)"
      ]
     },
     "execution_count": 19,
     "metadata": {},
     "output_type": "execute_result"
    }
   ],
   "source": [
    "X(p)"
   ]
  },
  {
   "cell_type": "code",
   "execution_count": 20,
   "metadata": {},
   "outputs": [
    {
     "name": "stdout",
     "output_type": "stream",
     "text": [
      "Tangent vector at Point p on the 4-dimensional Lorentzian manifold M\n"
     ]
    }
   ],
   "source": [
    "nrH = nr.at(p)\n",
    "print(nrH)"
   ]
  },
  {
   "cell_type": "code",
   "execution_count": 21,
   "metadata": {},
   "outputs": [
    {
     "name": "stdout",
     "output_type": "stream",
     "text": [
      "Tangent space at Point p on the 4-dimensional Lorentzian manifold M\n"
     ]
    }
   ],
   "source": [
    "Tp = M.tangent_space(p)\n",
    "print(Tp)"
   ]
  },
  {
   "cell_type": "code",
   "execution_count": 22,
   "metadata": {},
   "outputs": [
    {
     "data": {
      "text/html": [
       "<html>\\(\\displaystyle \\left(\\frac{\\partial}{\\partial v },\\frac{\\partial}{\\partial r },\\frac{\\partial}{\\partial {\\theta} },\\frac{\\partial}{\\partial {\\phi} }\\right)\\)</html>"
      ],
      "text/latex": [
       "$\\displaystyle \\left(\\frac{\\partial}{\\partial v },\\frac{\\partial}{\\partial r },\\frac{\\partial}{\\partial {\\theta} },\\frac{\\partial}{\\partial {\\phi} }\\right)$"
      ],
      "text/plain": [
       "Basis (∂/∂v,∂/∂r,∂/∂th,∂/∂ph) on the Tangent space at Point p on the 4-dimensional Lorentzian manifold M"
      ]
     },
     "execution_count": 22,
     "metadata": {},
     "output_type": "execute_result"
    }
   ],
   "source": [
    "Tp.default_basis()"
   ]
  },
  {
   "cell_type": "code",
   "execution_count": 23,
   "metadata": {},
   "outputs": [
    {
     "data": {
      "text/html": [
       "<html>\\(\\displaystyle \\left[-\\frac{2 \\, {\\left(\\sqrt{a + m} \\sqrt{-a + m} m + m^{2}\\right)}}{a^{2} \\sin\\left({\\theta}\\right)^{2} - 2 \\, \\sqrt{a + m} \\sqrt{-a + m} m - 2 \\, m^{2}}, 0, 0, -\\frac{a}{a^{2} \\sin\\left({\\theta}\\right)^{2} - 2 \\, \\sqrt{a + m} \\sqrt{-a + m} m - 2 \\, m^{2}}\\right]\\)</html>"
      ],
      "text/latex": [
       "$\\displaystyle \\left[-\\frac{2 \\, {\\left(\\sqrt{a + m} \\sqrt{-a + m} m + m^{2}\\right)}}{a^{2} \\sin\\left({\\theta}\\right)^{2} - 2 \\, \\sqrt{a + m} \\sqrt{-a + m} m - 2 \\, m^{2}}, 0, 0, -\\frac{a}{a^{2} \\sin\\left({\\theta}\\right)^{2} - 2 \\, \\sqrt{a + m} \\sqrt{-a + m} m - 2 \\, m^{2}}\\right]$"
      ],
      "text/plain": [
       "[-2*(sqrt(a + m)*sqrt(-a + m)*m + m^2)/(a^2*sin(th)^2 - 2*sqrt(a + m)*sqrt(-a + m)*m - 2*m^2),\n",
       " 0,\n",
       " 0,\n",
       " -a/(a^2*sin(th)^2 - 2*sqrt(a + m)*sqrt(-a + m)*m - 2*m^2)]"
      ]
     },
     "execution_count": 23,
     "metadata": {},
     "output_type": "execute_result"
    }
   ],
   "source": [
    "nrH[:]"
   ]
  },
  {
   "cell_type": "code",
   "execution_count": 24,
   "metadata": {},
   "outputs": [
    {
     "data": {
      "text/html": [
       "<html>\\(\\displaystyle \\frac{a}{2 \\, {\\left(m + \\sqrt{-a^{2} + m^{2}}\\right)} m}\\)</html>"
      ],
      "text/latex": [
       "$\\displaystyle \\frac{a}{2 \\, {\\left(m + \\sqrt{-a^{2} + m^{2}}\\right)} m}$"
      ],
      "text/plain": [
       "1/2*a/((m + sqrt(-a^2 + m^2))*m)"
      ]
     },
     "execution_count": 24,
     "metadata": {},
     "output_type": "execute_result"
    }
   ],
   "source": [
    "OmegaH = a/(2*m*rp)\n",
    "OmegaH"
   ]
  },
  {
   "cell_type": "code",
   "execution_count": 25,
   "metadata": {},
   "outputs": [
    {
     "data": {
      "text/html": [
       "<html>\\(\\displaystyle \\frac{\\partial}{\\partial v }\\)</html>"
      ],
      "text/latex": [
       "$\\displaystyle \\frac{\\partial}{\\partial v }$"
      ],
      "text/plain": [
       "Vector field ∂/∂v on the 4-dimensional Lorentzian manifold M"
      ]
     },
     "execution_count": 25,
     "metadata": {},
     "output_type": "execute_result"
    }
   ],
   "source": [
    "xi = X.frame()[0]\n",
    "xi"
   ]
  },
  {
   "cell_type": "code",
   "execution_count": 26,
   "metadata": {},
   "outputs": [
    {
     "data": {
      "text/html": [
       "<html>\\(\\displaystyle \\frac{\\partial}{\\partial {\\phi} }\\)</html>"
      ],
      "text/latex": [
       "$\\displaystyle \\frac{\\partial}{\\partial {\\phi} }$"
      ],
      "text/plain": [
       "Vector field ∂/∂ph on the 4-dimensional Lorentzian manifold M"
      ]
     },
     "execution_count": 26,
     "metadata": {},
     "output_type": "execute_result"
    }
   ],
   "source": [
    "eta = X.frame()[3]\n",
    "eta"
   ]
  },
  {
   "cell_type": "code",
   "execution_count": 27,
   "metadata": {},
   "outputs": [
    {
     "data": {
      "text/html": [
       "<html>\\(\\displaystyle \\frac{\\partial}{\\partial v } + \\frac{a}{2 \\, {\\left(m + \\sqrt{-a^{2} + m^{2}}\\right)} m} \\frac{\\partial}{\\partial {\\phi} }\\)</html>"
      ],
      "text/latex": [
       "$\\displaystyle \\frac{\\partial}{\\partial v } + \\frac{a}{2 \\, {\\left(m + \\sqrt{-a^{2} + m^{2}}\\right)} m} \\frac{\\partial}{\\partial {\\phi} }$"
      ],
      "text/plain": [
       "∂/∂v + 1/2*a/((m + sqrt(-a^2 + m^2))*m) ∂/∂ph"
      ]
     },
     "execution_count": 27,
     "metadata": {},
     "output_type": "execute_result"
    }
   ],
   "source": [
    "chi = xi + OmegaH*eta\n",
    "chi.display()"
   ]
  },
  {
   "cell_type": "markdown",
   "metadata": {},
   "source": [
    "## Ingoing principal null geodesics"
   ]
  },
  {
   "cell_type": "code",
   "execution_count": 28,
   "metadata": {},
   "outputs": [
    {
     "data": {
      "text/html": [
       "<html>\\(\\displaystyle k = -\\frac{\\partial}{\\partial r }\\)</html>"
      ],
      "text/latex": [
       "$\\displaystyle k = -\\frac{\\partial}{\\partial r }$"
      ],
      "text/plain": [
       "k = -∂/∂r"
      ]
     },
     "execution_count": 28,
     "metadata": {},
     "output_type": "execute_result"
    }
   ],
   "source": [
    "k = M.vector_field(name='k')\n",
    "k[1] = -1\n",
    "k.display()"
   ]
  },
  {
   "cell_type": "markdown",
   "metadata": {},
   "source": [
    "Let us check that $k$ is a null vector:"
   ]
  },
  {
   "cell_type": "code",
   "execution_count": 29,
   "metadata": {},
   "outputs": [
    {
     "data": {
      "text/html": [
       "<html>\\(\\displaystyle \\begin{array}{llcl} g\\left(k,k\\right):& M & \\longrightarrow & \\mathbb{R} \\\\ & \\left(v, r, {\\theta}, {\\phi}\\right) & \\longmapsto & 0 \\end{array}\\)</html>"
      ],
      "text/latex": [
       "$\\displaystyle \\begin{array}{llcl} g\\left(k,k\\right):& M & \\longrightarrow & \\mathbb{R} \\\\ & \\left(v, r, {\\theta}, {\\phi}\\right) & \\longmapsto & 0 \\end{array}$"
      ],
      "text/plain": [
       "g(k,k): M → ℝ\n",
       "   (v, r, th, ph) ↦ 0"
      ]
     },
     "execution_count": 29,
     "metadata": {},
     "output_type": "execute_result"
    }
   ],
   "source": [
    "g(k,k).display()"
   ]
  },
  {
   "cell_type": "markdown",
   "metadata": {},
   "source": [
    "Computation of $\\nabla_k k$:"
   ]
  },
  {
   "cell_type": "code",
   "execution_count": 30,
   "metadata": {},
   "outputs": [
    {
     "data": {
      "text/html": [
       "<html>\\(\\displaystyle 0\\)</html>"
      ],
      "text/latex": [
       "$\\displaystyle 0$"
      ],
      "text/plain": [
       "0"
      ]
     },
     "execution_count": 30,
     "metadata": {},
     "output_type": "execute_result"
    }
   ],
   "source": [
    "nab = g.connection()\n",
    "acc = nab(k).contract(k)\n",
    "acc.display()"
   ]
  },
  {
   "cell_type": "markdown",
   "metadata": {},
   "source": [
    "## Outgoing principal null geodesics"
   ]
  },
  {
   "cell_type": "code",
   "execution_count": 31,
   "metadata": {},
   "outputs": [
    {
     "data": {
      "text/html": [
       "<html>\\(\\displaystyle \\ell = \\frac{\\partial}{\\partial v } + \\left( -\\frac{m r}{a^{2} + r^{2}} + \\frac{1}{2} \\right) \\frac{\\partial}{\\partial r } + \\left( \\frac{a}{a^{2} + r^{2}} \\right) \\frac{\\partial}{\\partial {\\phi} }\\)</html>"
      ],
      "text/latex": [
       "$\\displaystyle \\ell = \\frac{\\partial}{\\partial v } + \\left( -\\frac{m r}{a^{2} + r^{2}} + \\frac{1}{2} \\right) \\frac{\\partial}{\\partial r } + \\left( \\frac{a}{a^{2} + r^{2}} \\right) \\frac{\\partial}{\\partial {\\phi} }$"
      ],
      "text/plain": [
       "el = ∂/∂v + (-m*r/(a^2 + r^2) + 1/2) ∂/∂r + a/(a^2 + r^2) ∂/∂ph"
      ]
     },
     "execution_count": 31,
     "metadata": {},
     "output_type": "execute_result"
    }
   ],
   "source": [
    "el = M.vector_field(name='el', latex_name=r'\\ell')\n",
    "el[0] = 1\n",
    "el[1] = 1/2 - m*r/(r^2+a^2)\n",
    "el[3] = a/(r^2+a^2)\n",
    "el.display()"
   ]
  },
  {
   "cell_type": "markdown",
   "metadata": {},
   "source": [
    "Let us check that $\\ell$ is a null vector:"
   ]
  },
  {
   "cell_type": "code",
   "execution_count": 32,
   "metadata": {},
   "outputs": [
    {
     "data": {
      "text/html": [
       "<html>\\(\\displaystyle \\begin{array}{llcl} g\\left(\\ell,\\ell\\right):& M & \\longrightarrow & \\mathbb{R} \\\\ & \\left(v, r, {\\theta}, {\\phi}\\right) & \\longmapsto & 0 \\end{array}\\)</html>"
      ],
      "text/latex": [
       "$\\displaystyle \\begin{array}{llcl} g\\left(\\ell,\\ell\\right):& M & \\longrightarrow & \\mathbb{R} \\\\ & \\left(v, r, {\\theta}, {\\phi}\\right) & \\longmapsto & 0 \\end{array}$"
      ],
      "text/plain": [
       "g(el,el): M → ℝ\n",
       "   (v, r, th, ph) ↦ 0"
      ]
     },
     "execution_count": 32,
     "metadata": {},
     "output_type": "execute_result"
    }
   ],
   "source": [
    "g(el,el).display()"
   ]
  },
  {
   "cell_type": "markdown",
   "metadata": {},
   "source": [
    "Computation of $\\nabla_\\ell \\ell$:"
   ]
  },
  {
   "cell_type": "code",
   "execution_count": 33,
   "metadata": {},
   "outputs": [
    {
     "data": {
      "text/html": [
       "<html>\\(\\displaystyle \\left( -\\frac{a^{2} m - m r^{2}}{a^{4} + 2 \\, a^{2} r^{2} + r^{4}} \\right) \\frac{\\partial}{\\partial v } + \\left( -\\frac{a^{4} m - 2 \\, a^{2} m^{2} r + 2 \\, m^{2} r^{3} - m r^{4}}{2 \\, {\\left(a^{6} + 3 \\, a^{4} r^{2} + 3 \\, a^{2} r^{4} + r^{6}\\right)}} \\right) \\frac{\\partial}{\\partial r } + \\left( -\\frac{a^{3} m - a m r^{2}}{a^{6} + 3 \\, a^{4} r^{2} + 3 \\, a^{2} r^{4} + r^{6}} \\right) \\frac{\\partial}{\\partial {\\phi} }\\)</html>"
      ],
      "text/latex": [
       "$\\displaystyle \\left( -\\frac{a^{2} m - m r^{2}}{a^{4} + 2 \\, a^{2} r^{2} + r^{4}} \\right) \\frac{\\partial}{\\partial v } + \\left( -\\frac{a^{4} m - 2 \\, a^{2} m^{2} r + 2 \\, m^{2} r^{3} - m r^{4}}{2 \\, {\\left(a^{6} + 3 \\, a^{4} r^{2} + 3 \\, a^{2} r^{4} + r^{6}\\right)}} \\right) \\frac{\\partial}{\\partial r } + \\left( -\\frac{a^{3} m - a m r^{2}}{a^{6} + 3 \\, a^{4} r^{2} + 3 \\, a^{2} r^{4} + r^{6}} \\right) \\frac{\\partial}{\\partial {\\phi} }$"
      ],
      "text/plain": [
       "-(a^2*m - m*r^2)/(a^4 + 2*a^2*r^2 + r^4) ∂/∂v - 1/2*(a^4*m - 2*a^2*m^2*r + 2*m^2*r^3 - m*r^4)/(a^6 + 3*a^4*r^2 + 3*a^2*r^4 + r^6) ∂/∂r - (a^3*m - a*m*r^2)/(a^6 + 3*a^4*r^2 + 3*a^2*r^4 + r^6) ∂/∂ph"
      ]
     },
     "execution_count": 33,
     "metadata": {},
     "output_type": "execute_result"
    }
   ],
   "source": [
    "acc = nab(el).contract(el)\n",
    "acc.display()"
   ]
  },
  {
   "cell_type": "markdown",
   "metadata": {},
   "source": [
    "We check that $\\nabla_\\ell \\ell \\propto \\ell$:"
   ]
  },
  {
   "cell_type": "code",
   "execution_count": 34,
   "metadata": {},
   "outputs": [
    {
     "data": {
      "text/html": [
       "<html>\\(\\displaystyle -\\frac{a^{2} m - m r^{2}}{a^{4} + 2 \\, a^{2} r^{2} + r^{4}}\\)</html>"
      ],
      "text/latex": [
       "$\\displaystyle -\\frac{a^{2} m - m r^{2}}{a^{4} + 2 \\, a^{2} r^{2} + r^{4}}$"
      ],
      "text/plain": [
       "-(a^2*m - m*r^2)/(a^4 + 2*a^2*r^2 + r^4)"
      ]
     },
     "metadata": {},
     "output_type": "display_data"
    },
    {
     "data": {
      "text/html": [
       "<html>\\(\\displaystyle -\\frac{a^{2} m - m r^{2}}{a^{4} + 2 \\, a^{2} r^{2} + r^{4}}\\)</html>"
      ],
      "text/latex": [
       "$\\displaystyle -\\frac{a^{2} m - m r^{2}}{a^{4} + 2 \\, a^{2} r^{2} + r^{4}}$"
      ],
      "text/plain": [
       "-(a^2*m - m*r^2)/(a^4 + 2*a^2*r^2 + r^4)"
      ]
     },
     "metadata": {},
     "output_type": "display_data"
    },
    {
     "data": {
      "text/html": [
       "<html>\\(\\displaystyle -\\frac{a^{2} m - m r^{2}}{a^{4} + 2 \\, a^{2} r^{2} + r^{4}}\\)</html>"
      ],
      "text/latex": [
       "$\\displaystyle -\\frac{a^{2} m - m r^{2}}{a^{4} + 2 \\, a^{2} r^{2} + r^{4}}$"
      ],
      "text/plain": [
       "-(a^2*m - m*r^2)/(a^4 + 2*a^2*r^2 + r^4)"
      ]
     },
     "metadata": {},
     "output_type": "display_data"
    }
   ],
   "source": [
    "for i in [0,1,3]:\n",
    "    show(acc[i] / el[i])"
   ]
  },
  {
   "cell_type": "markdown",
   "metadata": {},
   "source": [
    "Hence we may write $\\nabla_\\ell\\ell = \\kappa \\ell$:"
   ]
  },
  {
   "cell_type": "code",
   "execution_count": 35,
   "metadata": {},
   "outputs": [
    {
     "data": {
      "text/html": [
       "<html>\\(\\displaystyle -\\frac{a^{2} m - m r^{2}}{a^{4} + 2 \\, a^{2} r^{2} + r^{4}}\\)</html>"
      ],
      "text/latex": [
       "$\\displaystyle -\\frac{a^{2} m - m r^{2}}{a^{4} + 2 \\, a^{2} r^{2} + r^{4}}$"
      ],
      "text/plain": [
       "-(a^2*m - m*r^2)/(a^4 + 2*a^2*r^2 + r^4)"
      ]
     },
     "execution_count": 35,
     "metadata": {},
     "output_type": "execute_result"
    }
   ],
   "source": [
    "kappa = (acc[0] / el[0]).expr()\n",
    "kappa"
   ]
  },
  {
   "cell_type": "code",
   "execution_count": 36,
   "metadata": {},
   "outputs": [
    {
     "data": {
      "text/html": [
       "<html>\\(\\displaystyle \\mathrm{True}\\)</html>"
      ],
      "text/latex": [
       "$\\displaystyle \\mathrm{True}$"
      ],
      "text/plain": [
       "True"
      ]
     },
     "execution_count": 36,
     "metadata": {},
     "output_type": "execute_result"
    }
   ],
   "source": [
    "acc == kappa * el"
   ]
  },
  {
   "cell_type": "markdown",
   "metadata": {},
   "source": [
    "## Surface gravity\n",
    "\n",
    "On $H$, $\\ell$ coincides with the Killing vector $\\chi$:"
   ]
  },
  {
   "cell_type": "code",
   "execution_count": 37,
   "metadata": {},
   "outputs": [
    {
     "data": {
      "text/html": [
       "<html>\\(\\displaystyle \\mathrm{True}\\)</html>"
      ],
      "text/latex": [
       "$\\displaystyle \\mathrm{True}$"
      ],
      "text/plain": [
       "True"
      ]
     },
     "execution_count": 37,
     "metadata": {},
     "output_type": "execute_result"
    }
   ],
   "source": [
    "el.at(p) == chi.at(p)"
   ]
  },
  {
   "cell_type": "markdown",
   "metadata": {},
   "source": [
    "Therefore the surface gravity of the Kerr black hole is nothing but the value of the non-affinity coefficient of $\\ell$ on $H$:"
   ]
  },
  {
   "cell_type": "code",
   "execution_count": 38,
   "metadata": {},
   "outputs": [
    {
     "data": {
      "text/html": [
       "<html>\\(\\displaystyle \\frac{a^{2} - m^{2} - \\sqrt{-a^{2} + m^{2}} m}{2 \\, {\\left(a^{2} m - 2 \\, m^{3} - 2 \\, \\sqrt{-a^{2} + m^{2}} m^{2}\\right)}}\\)</html>"
      ],
      "text/latex": [
       "$\\displaystyle \\frac{a^{2} - m^{2} - \\sqrt{-a^{2} + m^{2}} m}{2 \\, {\\left(a^{2} m - 2 \\, m^{3} - 2 \\, \\sqrt{-a^{2} + m^{2}} m^{2}\\right)}}$"
      ],
      "text/plain": [
       "1/2*(a^2 - m^2 - sqrt(-a^2 + m^2)*m)/(a^2*m - 2*m^3 - 2*sqrt(-a^2 + m^2)*m^2)"
      ]
     },
     "execution_count": 38,
     "metadata": {},
     "output_type": "execute_result"
    }
   ],
   "source": [
    "kappaH = kappa.subs(r=rp).simplify_full()\n",
    "kappaH"
   ]
  },
  {
   "cell_type": "code",
   "execution_count": 39,
   "metadata": {},
   "outputs": [
    {
     "data": {
      "text/html": [
       "<html>\\(\\displaystyle \\mathrm{True}\\)</html>"
      ],
      "text/latex": [
       "$\\displaystyle \\mathrm{True}$"
      ],
      "text/plain": [
       "True"
      ]
     },
     "execution_count": 39,
     "metadata": {},
     "output_type": "execute_result"
    }
   ],
   "source": [
    "bool(kappaH == sqrt(m^2-a^2)/(2*m*(m+sqrt(m^2-a^2))))"
   ]
  }
 ],
 "metadata": {
  "kernelspec": {
   "display_name": "SageMath 10.2.beta8",
   "language": "sage",
   "name": "sagemath"
  },
  "language_info": {
   "codemirror_mode": {
    "name": "ipython",
    "version": 3
   },
   "file_extension": ".py",
   "mimetype": "text/x-python",
   "name": "python",
   "nbconvert_exporter": "python",
   "pygments_lexer": "ipython3",
   "version": "3.10.12"
  }
 },
 "nbformat": 4,
 "nbformat_minor": 4
}
